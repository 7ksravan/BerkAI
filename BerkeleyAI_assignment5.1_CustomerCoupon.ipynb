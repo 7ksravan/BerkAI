{
 "cells": [
  {
   "cell_type": "markdown",
   "metadata": {},
   "source": [
    "### Will a Customer Accept the Coupon?\n",
    "\n",
    "**Context**\n",
    "\n",
    "Imagine driving through town and a coupon is delivered to your cell phone for a restaraunt near where you are driving. Would you accept that coupon and take a short detour to the restaraunt? Would you accept the coupon but use it on a sunbsequent trip? Would you ignore the coupon entirely? What if the coupon was for a bar instead of a restaraunt? What about a coffee house? Would you accept a bar coupon with a minor passenger in the car? What about if it was just you and your partner in the car? Would weather impact the rate of acceptance? What about the time of day?\n",
    "\n",
    "Obviously, proximity to the business is a factor on whether the coupon is delivered to the driver or not, but what are the factors that determine whether a driver accepts the coupon once it is delivered to them? How would you determine whether a driver is likely to accept a coupon?\n",
    "\n",
    "**Overview**\n",
    "\n",
    "The goal of this project is to use what you know about visualizations and probability distributions to distinguish between customers who accepted a driving coupon versus those that did not.\n",
    "\n",
    "**Data**\n",
    "\n",
    "This data comes to us from the UCI Machine Learning repository and was collected via a survey on Amazon Mechanical Turk. The survey describes different driving scenarios including the destination, current time, weather, passenger, etc., and then ask the person whether he will accept the coupon if he is the driver. Answers that the user will drive there ‘right away’ or ‘later before the coupon expires’ are labeled as ‘Y = 1’ and answers ‘no, I do not want the coupon’ are labeled as ‘Y = 0’.  There are five different types of coupons -- less expensive restaurants (under \\\\$20), coffee houses, carry out & take away, bar, and more expensive restaurants (\\\\$20 - \\\\$50). "
   ]
  },
  {
   "cell_type": "markdown",
   "metadata": {},
   "source": [
    "**Deliverables**\n",
    "\n",
    "Your final product should be a brief report that highlights the differences between customers who did and did not accept the coupons.  To explore the data you will utilize your knowledge of plotting, statistical summaries, and visualization using Python. You will publish your findings in a public facing github repository as your first portfolio piece. \n",
    "\n",
    "\n",
    "\n"
   ]
  },
  {
   "cell_type": "markdown",
   "metadata": {},
   "source": [
    "### Data Description\n",
    "Keep in mind that these values mentioned below are average values.\n",
    "\n",
    "The attributes of this data set include:\n",
    "1. User attributes\n",
    "    -  Gender: male, female\n",
    "    -  Age: below 21, 21 to 25, 26 to 30, etc.\n",
    "    -  Marital Status: single, married partner, unmarried partner, or widowed\n",
    "    -  Number of children: 0, 1, or more than 1\n",
    "    -  Education: high school, bachelors degree, associates degree, or graduate degree\n",
    "    -  Occupation: architecture & engineering, business & financial, etc.\n",
    "    -  Annual income: less than \\\\$12500, \\\\$12500 - \\\\$24999, \\\\$25000 - \\\\$37499, etc.\n",
    "    -  Number of times that he/she goes to a bar: 0, less than 1, 1 to 3, 4 to 8 or greater than 8\n",
    "    -  Number of times that he/she buys takeaway food: 0, less than 1, 1 to 3, 4 to 8 or greater\n",
    "    than 8\n",
    "    -  Number of times that he/she goes to a coffee house: 0, less than 1, 1 to 3, 4 to 8 or\n",
    "    greater than 8\n",
    "    -  Number of times that he/she eats at a restaurant with average expense less than \\\\$20 per\n",
    "    person: 0, less than 1, 1 to 3, 4 to 8 or greater than 8\n",
    "    -  Number of times that he/she goes to a bar: 0, less than 1, 1 to 3, 4 to 8 or greater than 8\n",
    "    \n",
    "\n",
    "2. Contextual attributes\n",
    "    - Driving destination: home, work, or no urgent destination\n",
    "    - Location of user, coupon and destination: we provide a map to show the geographical\n",
    "    location of the user, destination, and the venue, and we mark the distance between each\n",
    "    two places with time of driving. The user can see whether the venue is in the same\n",
    "    direction as the destination.\n",
    "    - Weather: sunny, rainy, or snowy\n",
    "    - Temperature: 30F, 55F, or 80F\n",
    "    - Time: 10AM, 2PM, or 6PM\n",
    "    - Passenger: alone, partner, kid(s), or friend(s)\n",
    "\n",
    "\n",
    "3. Coupon attributes\n",
    "    - time before it expires: 2 hours or one day"
   ]
  },
  {
   "cell_type": "markdown",
   "metadata": {},
   "source": [
    "## Libraries"
   ]
  },
  {
   "cell_type": "code",
   "execution_count": 2,
   "metadata": {},
   "outputs": [],
   "source": [
    "# Libs\n",
    "\n",
    "# data structures\n",
    "import pandas as pd\n",
    "import numpy as np\n",
    "\n",
    "# my folder path\n",
    "from pathlib import Path\n",
    "myfolder = Path(\"C:/Users/pdpc/Documents/MLfiles/Data/\")\n",
    "\n",
    "# graphs\n",
    "from pylab import rcParams\n",
    "import matplotlib.pyplot as plt\n",
    "import seaborn as sns\n",
    "%matplotlib inline\n",
    "\n",
    "# supress warnings\n",
    "import warnings\n",
    "warnings.filterwarnings('ignore')\n",
    "\n",
    "# train/test split\n",
    "from sklearn.model_selection import train_test_split\n",
    "\n",
    "# time function for timing program run\n",
    "import time\n",
    "\n",
    "# Classifier models\n",
    "from sklearn.linear_model import LogisticRegression\n",
    "from sklearn.neighbors import KNeighborsClassifier\n",
    "from sklearn.svm import SVC\n",
    "from sklearn.tree import DecisionTreeClassifier\n",
    "from sklearn.ensemble import RandomForestClassifier, AdaBoostClassifier, ExtraTreesClassifier, GradientBoostingClassifier\n",
    "from sklearn.neural_network import MLPClassifier\n",
    "from sklearn.discriminant_analysis import LinearDiscriminantAnalysis\n",
    "\n",
    "# ColTransf / Pipeline / GridSearch\n",
    "from sklearn.impute import SimpleImputer\n",
    "from sklearn.preprocessing import StandardScaler, MinMaxScaler, OrdinalEncoder, LabelEncoder\n",
    "from sklearn.compose import ColumnTransformer\n",
    "from sklearn.pipeline import Pipeline\n",
    "from sklearn.model_selection import GridSearchCV\n",
    "\n",
    "# Evaluation\n",
    "from sklearn.metrics import roc_auc_score, recall_score, f1_score, accuracy_score\n",
    "from sklearn.metrics import precision_recall_fscore_support as score\n",
    "from sklearn.metrics import classification_report, accuracy_score, ConfusionMatrixDisplay"
   ]
  },
  {
   "cell_type": "code",
   "execution_count": 173,
   "metadata": {},
   "outputs": [],
   "source": [
    "# Sravan Katragadda custom functions\n",
    "\n",
    "# Data Visualization\n",
    "def graph_histogram(df,xgiven,huegiven,graphdict):\n",
    "    \n",
    "    plt.figure(figsize=(13, 6))    \n",
    "    \n",
    "    graph = sns.histplot(df, x=xgiven, hue=huegiven, multiple='dodge',shrink=0.8)\n",
    "    graph.set_title(graphdict['title'],fontsize=14)\n",
    "    #graph.set_xlabel(graphdict['titlex'], fontsize=14)\n",
    "    #graph.set_ylabel(graphdict['titley'], fontsize=14)\n",
    "    graph.legend(labels=graphdict['legendlabels'], fontsize=12) #title=graphdict['legendtitle'], title_fontsize=12\n",
    "    \n",
    "    # y axis increments in 1000's\n",
    "    #from matplotlib.ticker import MultipleLocator\n",
    "    #plt.gca().yaxis.set_major_locator(MultipleLocator(500))\n",
    "    \n",
    "    # graph background to lighter grey\n",
    "    plt.gca().set_facecolor('#F0F0F0')"
   ]
  },
  {
   "cell_type": "code",
   "execution_count": null,
   "metadata": {},
   "outputs": [],
   "source": [
    "# patch for overcoming 'float' error in nump 24.1v\n",
    "np.float = float    \n",
    "np.int = int   #module 'numpy' has no attribute 'int'\n",
    "np.object = object    #module 'numpy' has no attribute 'object'\n",
    "np.bool = bool    #module 'numpy' has no attribute 'bool'"
   ]
  },
  {
   "cell_type": "markdown",
   "metadata": {},
   "source": [
    "### Problems\n",
    "\n",
    "Use the prompts below to get started with your data analysis.  \n",
    "\n",
    "1. Read in the `coupons.csv` file.\n",
    "\n",
    "\n"
   ]
  },
  {
   "cell_type": "code",
   "execution_count": 1,
   "metadata": {},
   "outputs": [
    {
     "data": {
      "application/javascript": [
       "\n",
       "        if (window._pyforest_update_imports_cell) { window._pyforest_update_imports_cell('from pathlib import Path'); }\n",
       "    "
      ],
      "text/plain": [
       "<IPython.core.display.Javascript object>"
      ]
     },
     "metadata": {},
     "output_type": "display_data"
    },
    {
     "data": {
      "application/javascript": [
       "\n",
       "        if (window._pyforest_update_imports_cell) { window._pyforest_update_imports_cell('from pathlib import Path\\nimport pandas as pd'); }\n",
       "    "
      ],
      "text/plain": [
       "<IPython.core.display.Javascript object>"
      ]
     },
     "metadata": {},
     "output_type": "display_data"
    },
    {
     "data": {
      "text/html": [
       "<div>\n",
       "<style scoped>\n",
       "    .dataframe tbody tr th:only-of-type {\n",
       "        vertical-align: middle;\n",
       "    }\n",
       "\n",
       "    .dataframe tbody tr th {\n",
       "        vertical-align: top;\n",
       "    }\n",
       "\n",
       "    .dataframe thead th {\n",
       "        text-align: right;\n",
       "    }\n",
       "</style>\n",
       "<table border=\"1\" class=\"dataframe\">\n",
       "  <thead>\n",
       "    <tr style=\"text-align: right;\">\n",
       "      <th></th>\n",
       "      <th>destination</th>\n",
       "      <th>passanger</th>\n",
       "      <th>weather</th>\n",
       "      <th>temperature</th>\n",
       "      <th>time</th>\n",
       "      <th>coupon</th>\n",
       "      <th>expiration</th>\n",
       "      <th>gender</th>\n",
       "      <th>age</th>\n",
       "      <th>maritalStatus</th>\n",
       "      <th>...</th>\n",
       "      <th>CoffeeHouse</th>\n",
       "      <th>CarryAway</th>\n",
       "      <th>RestaurantLessThan20</th>\n",
       "      <th>Restaurant20To50</th>\n",
       "      <th>toCoupon_GEQ5min</th>\n",
       "      <th>toCoupon_GEQ15min</th>\n",
       "      <th>toCoupon_GEQ25min</th>\n",
       "      <th>direction_same</th>\n",
       "      <th>direction_opp</th>\n",
       "      <th>Y</th>\n",
       "    </tr>\n",
       "  </thead>\n",
       "  <tbody>\n",
       "    <tr>\n",
       "      <th>0</th>\n",
       "      <td>No Urgent Place</td>\n",
       "      <td>Alone</td>\n",
       "      <td>Sunny</td>\n",
       "      <td>55</td>\n",
       "      <td>2PM</td>\n",
       "      <td>Restaurant(&lt;20)</td>\n",
       "      <td>1d</td>\n",
       "      <td>Female</td>\n",
       "      <td>21</td>\n",
       "      <td>Unmarried partner</td>\n",
       "      <td>...</td>\n",
       "      <td>never</td>\n",
       "      <td>NaN</td>\n",
       "      <td>4~8</td>\n",
       "      <td>1~3</td>\n",
       "      <td>1</td>\n",
       "      <td>0</td>\n",
       "      <td>0</td>\n",
       "      <td>0</td>\n",
       "      <td>1</td>\n",
       "      <td>1</td>\n",
       "    </tr>\n",
       "    <tr>\n",
       "      <th>1</th>\n",
       "      <td>No Urgent Place</td>\n",
       "      <td>Friend(s)</td>\n",
       "      <td>Sunny</td>\n",
       "      <td>80</td>\n",
       "      <td>10AM</td>\n",
       "      <td>Coffee House</td>\n",
       "      <td>2h</td>\n",
       "      <td>Female</td>\n",
       "      <td>21</td>\n",
       "      <td>Unmarried partner</td>\n",
       "      <td>...</td>\n",
       "      <td>never</td>\n",
       "      <td>NaN</td>\n",
       "      <td>4~8</td>\n",
       "      <td>1~3</td>\n",
       "      <td>1</td>\n",
       "      <td>0</td>\n",
       "      <td>0</td>\n",
       "      <td>0</td>\n",
       "      <td>1</td>\n",
       "      <td>0</td>\n",
       "    </tr>\n",
       "    <tr>\n",
       "      <th>2</th>\n",
       "      <td>No Urgent Place</td>\n",
       "      <td>Friend(s)</td>\n",
       "      <td>Sunny</td>\n",
       "      <td>80</td>\n",
       "      <td>10AM</td>\n",
       "      <td>Carry out &amp; Take away</td>\n",
       "      <td>2h</td>\n",
       "      <td>Female</td>\n",
       "      <td>21</td>\n",
       "      <td>Unmarried partner</td>\n",
       "      <td>...</td>\n",
       "      <td>never</td>\n",
       "      <td>NaN</td>\n",
       "      <td>4~8</td>\n",
       "      <td>1~3</td>\n",
       "      <td>1</td>\n",
       "      <td>1</td>\n",
       "      <td>0</td>\n",
       "      <td>0</td>\n",
       "      <td>1</td>\n",
       "      <td>1</td>\n",
       "    </tr>\n",
       "    <tr>\n",
       "      <th>3</th>\n",
       "      <td>No Urgent Place</td>\n",
       "      <td>Friend(s)</td>\n",
       "      <td>Sunny</td>\n",
       "      <td>80</td>\n",
       "      <td>2PM</td>\n",
       "      <td>Coffee House</td>\n",
       "      <td>2h</td>\n",
       "      <td>Female</td>\n",
       "      <td>21</td>\n",
       "      <td>Unmarried partner</td>\n",
       "      <td>...</td>\n",
       "      <td>never</td>\n",
       "      <td>NaN</td>\n",
       "      <td>4~8</td>\n",
       "      <td>1~3</td>\n",
       "      <td>1</td>\n",
       "      <td>1</td>\n",
       "      <td>0</td>\n",
       "      <td>0</td>\n",
       "      <td>1</td>\n",
       "      <td>0</td>\n",
       "    </tr>\n",
       "    <tr>\n",
       "      <th>4</th>\n",
       "      <td>No Urgent Place</td>\n",
       "      <td>Friend(s)</td>\n",
       "      <td>Sunny</td>\n",
       "      <td>80</td>\n",
       "      <td>2PM</td>\n",
       "      <td>Coffee House</td>\n",
       "      <td>1d</td>\n",
       "      <td>Female</td>\n",
       "      <td>21</td>\n",
       "      <td>Unmarried partner</td>\n",
       "      <td>...</td>\n",
       "      <td>never</td>\n",
       "      <td>NaN</td>\n",
       "      <td>4~8</td>\n",
       "      <td>1~3</td>\n",
       "      <td>1</td>\n",
       "      <td>1</td>\n",
       "      <td>0</td>\n",
       "      <td>0</td>\n",
       "      <td>1</td>\n",
       "      <td>0</td>\n",
       "    </tr>\n",
       "  </tbody>\n",
       "</table>\n",
       "<p>5 rows × 26 columns</p>\n",
       "</div>"
      ],
      "text/plain": [
       "       destination  passanger weather  temperature  time  \\\n",
       "0  No Urgent Place      Alone   Sunny           55   2PM   \n",
       "1  No Urgent Place  Friend(s)   Sunny           80  10AM   \n",
       "2  No Urgent Place  Friend(s)   Sunny           80  10AM   \n",
       "3  No Urgent Place  Friend(s)   Sunny           80   2PM   \n",
       "4  No Urgent Place  Friend(s)   Sunny           80   2PM   \n",
       "\n",
       "                  coupon expiration  gender age      maritalStatus  ...  \\\n",
       "0        Restaurant(<20)         1d  Female  21  Unmarried partner  ...   \n",
       "1           Coffee House         2h  Female  21  Unmarried partner  ...   \n",
       "2  Carry out & Take away         2h  Female  21  Unmarried partner  ...   \n",
       "3           Coffee House         2h  Female  21  Unmarried partner  ...   \n",
       "4           Coffee House         1d  Female  21  Unmarried partner  ...   \n",
       "\n",
       "   CoffeeHouse CarryAway RestaurantLessThan20 Restaurant20To50  \\\n",
       "0        never       NaN                  4~8              1~3   \n",
       "1        never       NaN                  4~8              1~3   \n",
       "2        never       NaN                  4~8              1~3   \n",
       "3        never       NaN                  4~8              1~3   \n",
       "4        never       NaN                  4~8              1~3   \n",
       "\n",
       "  toCoupon_GEQ5min toCoupon_GEQ15min toCoupon_GEQ25min direction_same  \\\n",
       "0                1                 0                 0              0   \n",
       "1                1                 0                 0              0   \n",
       "2                1                 1                 0              0   \n",
       "3                1                 1                 0              0   \n",
       "4                1                 1                 0              0   \n",
       "\n",
       "  direction_opp  Y  \n",
       "0             1  1  \n",
       "1             1  0  \n",
       "2             1  1  \n",
       "3             1  0  \n",
       "4             1  0  \n",
       "\n",
       "[5 rows x 26 columns]"
      ]
     },
     "execution_count": 1,
     "metadata": {},
     "output_type": "execute_result"
    }
   ],
   "source": [
    "# Data\n",
    "\n",
    "BerkAIdatafolder = Path(\"C:/Users/pdpc/Documents/MLfiles/Data/berkAIdata/\")\n",
    "\n",
    "coupons = pd.read_csv(BerkAIdatafolder / 'coupons.csv')\n",
    "\n",
    "coupons.head()"
   ]
  },
  {
   "cell_type": "code",
   "execution_count": 3,
   "metadata": {},
   "outputs": [
    {
     "name": "stdout",
     "output_type": "stream",
     "text": [
      "Dataset shape:   (12684, 26)\n",
      "Dataset size:    329784\n",
      "Duplicate rows:  74\n",
      "# of columns with numerical features  :    8\n",
      "# of columns with categorical features:    18\n"
     ]
    }
   ],
   "source": [
    "# Quick Look at Data\n",
    "\n",
    "print(\"Dataset shape:  \",coupons.shape)\n",
    "print(\"Dataset size:   \",coupons.size)\n",
    "print(\"Duplicate rows: \",coupons.duplicated().sum())\n",
    "print(\"# of columns with numerical features  :   \",len(coupons.select_dtypes(include=['int64', 'float64']).columns.values))\n",
    "print(\"# of columns with categorical features:   \",len(coupons.select_dtypes(include=['object', 'category']).columns.values))"
   ]
  },
  {
   "cell_type": "markdown",
   "metadata": {},
   "source": [
    "2. Investigate the dataset for missing or problematic data."
   ]
  },
  {
   "cell_type": "code",
   "execution_count": 5,
   "metadata": {},
   "outputs": [
    {
     "data": {
      "text/plain": [
       "destination                 0\n",
       "passanger                   0\n",
       "weather                     0\n",
       "temperature                 0\n",
       "time                        0\n",
       "coupon                      0\n",
       "expiration                  0\n",
       "gender                      0\n",
       "age                         0\n",
       "maritalStatus               0\n",
       "has_children                0\n",
       "education                   0\n",
       "occupation                  0\n",
       "income                      0\n",
       "car                     12576\n",
       "Bar                       107\n",
       "CoffeeHouse               217\n",
       "CarryAway                 151\n",
       "RestaurantLessThan20      130\n",
       "Restaurant20To50          189\n",
       "toCoupon_GEQ5min            0\n",
       "toCoupon_GEQ15min           0\n",
       "toCoupon_GEQ25min           0\n",
       "direction_same              0\n",
       "direction_opp               0\n",
       "Y                           0\n",
       "dtype: int64"
      ]
     },
     "execution_count": 5,
     "metadata": {},
     "output_type": "execute_result"
    }
   ],
   "source": [
    "# Let's Check the null values\n",
    "\n",
    "coupons.isna().sum()"
   ]
  },
  {
   "cell_type": "code",
   "execution_count": 6,
   "metadata": {},
   "outputs": [
    {
     "name": "stdout",
     "output_type": "stream",
     "text": [
      "Duplicate rows:  74\n"
     ]
    }
   ],
   "source": [
    "#Duplicate Rows\n",
    "\n",
    "print(\"Duplicate rows: \",coupons.duplicated().sum())"
   ]
  },
  {
   "cell_type": "markdown",
   "metadata": {},
   "source": [
    "3. Decide what to do about your missing data -- drop, replace, other..."
   ]
  },
  {
   "cell_type": "markdown",
   "metadata": {},
   "source": [
    "#### Null Values and Duplicate Rows Analysis\n",
    "\n",
    "A. There are 6 columns with null values:\n",
    "\n",
    "1. Car: This entire column is blank - I choose to delete this column\n",
    "\n",
    "2. Bar, CoffeeHouse, CarryAway, RestaurantLessThan20, Restaurant20To50 - I choose to delete the rows with null values in these columns\n",
    "\n",
    "B. There are 74 duplicate rows which I will delete\n",
    "\n",
    "Rationale: The dataset is huge with 12684 and the 'data loss' will be less than 1% even if I delete the rows with null values and duplicate rows"
   ]
  },
  {
   "cell_type": "code",
   "execution_count": 7,
   "metadata": {},
   "outputs": [
    {
     "data": {
      "application/javascript": [
       "\n",
       "        if (window._pyforest_update_imports_cell) { window._pyforest_update_imports_cell('from pathlib import Path\\nimport pandas as pd'); }\n",
       "    "
      ],
      "text/plain": [
       "<IPython.core.display.Javascript object>"
      ]
     },
     "metadata": {},
     "output_type": "display_data"
    },
    {
     "name": "stdout",
     "output_type": "stream",
     "text": [
      "Data Retention % 94.6626\n"
     ]
    }
   ],
   "source": [
    "# Data\n",
    "\n",
    "coupons = pd.read_csv(BerkAIdatafolder / 'coupons.csv')\n",
    "\n",
    "# Replacing Y values of 0 and 1 with N and Y\n",
    "replace_dict = {0: 'N', 1: 'Y'}\n",
    "\n",
    "pre_size = coupons.shape[0]\n",
    "\n",
    "# Removing Car column\n",
    "coupons = coupons.drop(['car'], axis=1, errors='ignore')\n",
    "\n",
    "# Removing rows with null values\n",
    "coupons.dropna(inplace=True)\n",
    "coupons.replace(replace_dict, inplace=True)\n",
    "\n",
    "# Removing duplicate rows\n",
    "coupons.drop_duplicates(keep='first', inplace=True)\n",
    "\n",
    "post_size = coupons.shape[0]\n",
    "\n",
    "print('Data Retention %' , \"%.4f\" % (post_size / pre_size * 100))"
   ]
  },
  {
   "cell_type": "code",
   "execution_count": 8,
   "metadata": {},
   "outputs": [
    {
     "data": {
      "text/html": [
       "<div>\n",
       "<style scoped>\n",
       "    .dataframe tbody tr th:only-of-type {\n",
       "        vertical-align: middle;\n",
       "    }\n",
       "\n",
       "    .dataframe tbody tr th {\n",
       "        vertical-align: top;\n",
       "    }\n",
       "\n",
       "    .dataframe thead th {\n",
       "        text-align: right;\n",
       "    }\n",
       "</style>\n",
       "<table border=\"1\" class=\"dataframe\">\n",
       "  <thead>\n",
       "    <tr style=\"text-align: right;\">\n",
       "      <th></th>\n",
       "      <th>destination</th>\n",
       "      <th>passanger</th>\n",
       "      <th>weather</th>\n",
       "      <th>temperature</th>\n",
       "      <th>time</th>\n",
       "      <th>coupon</th>\n",
       "      <th>expiration</th>\n",
       "      <th>gender</th>\n",
       "      <th>age</th>\n",
       "      <th>maritalStatus</th>\n",
       "      <th>...</th>\n",
       "      <th>CoffeeHouse</th>\n",
       "      <th>CarryAway</th>\n",
       "      <th>RestaurantLessThan20</th>\n",
       "      <th>Restaurant20To50</th>\n",
       "      <th>toCoupon_GEQ5min</th>\n",
       "      <th>toCoupon_GEQ15min</th>\n",
       "      <th>toCoupon_GEQ25min</th>\n",
       "      <th>direction_same</th>\n",
       "      <th>direction_opp</th>\n",
       "      <th>Y</th>\n",
       "    </tr>\n",
       "  </thead>\n",
       "  <tbody>\n",
       "    <tr>\n",
       "      <th>22</th>\n",
       "      <td>No Urgent Place</td>\n",
       "      <td>Alone</td>\n",
       "      <td>Sunny</td>\n",
       "      <td>55</td>\n",
       "      <td>2PM</td>\n",
       "      <td>Restaurant(&lt;20)</td>\n",
       "      <td>1d</td>\n",
       "      <td>Male</td>\n",
       "      <td>21</td>\n",
       "      <td>Single</td>\n",
       "      <td>...</td>\n",
       "      <td>less1</td>\n",
       "      <td>4~8</td>\n",
       "      <td>4~8</td>\n",
       "      <td>less1</td>\n",
       "      <td>Y</td>\n",
       "      <td>N</td>\n",
       "      <td>N</td>\n",
       "      <td>N</td>\n",
       "      <td>Y</td>\n",
       "      <td>Y</td>\n",
       "    </tr>\n",
       "    <tr>\n",
       "      <th>23</th>\n",
       "      <td>No Urgent Place</td>\n",
       "      <td>Friend(s)</td>\n",
       "      <td>Sunny</td>\n",
       "      <td>80</td>\n",
       "      <td>10AM</td>\n",
       "      <td>Coffee House</td>\n",
       "      <td>2h</td>\n",
       "      <td>Male</td>\n",
       "      <td>21</td>\n",
       "      <td>Single</td>\n",
       "      <td>...</td>\n",
       "      <td>less1</td>\n",
       "      <td>4~8</td>\n",
       "      <td>4~8</td>\n",
       "      <td>less1</td>\n",
       "      <td>Y</td>\n",
       "      <td>N</td>\n",
       "      <td>N</td>\n",
       "      <td>N</td>\n",
       "      <td>Y</td>\n",
       "      <td>N</td>\n",
       "    </tr>\n",
       "    <tr>\n",
       "      <th>24</th>\n",
       "      <td>No Urgent Place</td>\n",
       "      <td>Friend(s)</td>\n",
       "      <td>Sunny</td>\n",
       "      <td>80</td>\n",
       "      <td>10AM</td>\n",
       "      <td>Bar</td>\n",
       "      <td>1d</td>\n",
       "      <td>Male</td>\n",
       "      <td>21</td>\n",
       "      <td>Single</td>\n",
       "      <td>...</td>\n",
       "      <td>less1</td>\n",
       "      <td>4~8</td>\n",
       "      <td>4~8</td>\n",
       "      <td>less1</td>\n",
       "      <td>Y</td>\n",
       "      <td>N</td>\n",
       "      <td>N</td>\n",
       "      <td>N</td>\n",
       "      <td>Y</td>\n",
       "      <td>Y</td>\n",
       "    </tr>\n",
       "    <tr>\n",
       "      <th>25</th>\n",
       "      <td>No Urgent Place</td>\n",
       "      <td>Friend(s)</td>\n",
       "      <td>Sunny</td>\n",
       "      <td>80</td>\n",
       "      <td>10AM</td>\n",
       "      <td>Carry out &amp; Take away</td>\n",
       "      <td>2h</td>\n",
       "      <td>Male</td>\n",
       "      <td>21</td>\n",
       "      <td>Single</td>\n",
       "      <td>...</td>\n",
       "      <td>less1</td>\n",
       "      <td>4~8</td>\n",
       "      <td>4~8</td>\n",
       "      <td>less1</td>\n",
       "      <td>Y</td>\n",
       "      <td>Y</td>\n",
       "      <td>N</td>\n",
       "      <td>N</td>\n",
       "      <td>Y</td>\n",
       "      <td>N</td>\n",
       "    </tr>\n",
       "    <tr>\n",
       "      <th>26</th>\n",
       "      <td>No Urgent Place</td>\n",
       "      <td>Friend(s)</td>\n",
       "      <td>Sunny</td>\n",
       "      <td>80</td>\n",
       "      <td>2PM</td>\n",
       "      <td>Coffee House</td>\n",
       "      <td>1d</td>\n",
       "      <td>Male</td>\n",
       "      <td>21</td>\n",
       "      <td>Single</td>\n",
       "      <td>...</td>\n",
       "      <td>less1</td>\n",
       "      <td>4~8</td>\n",
       "      <td>4~8</td>\n",
       "      <td>less1</td>\n",
       "      <td>Y</td>\n",
       "      <td>N</td>\n",
       "      <td>N</td>\n",
       "      <td>N</td>\n",
       "      <td>Y</td>\n",
       "      <td>N</td>\n",
       "    </tr>\n",
       "  </tbody>\n",
       "</table>\n",
       "<p>5 rows × 25 columns</p>\n",
       "</div>"
      ],
      "text/plain": [
       "        destination  passanger weather  temperature  time  \\\n",
       "22  No Urgent Place      Alone   Sunny           55   2PM   \n",
       "23  No Urgent Place  Friend(s)   Sunny           80  10AM   \n",
       "24  No Urgent Place  Friend(s)   Sunny           80  10AM   \n",
       "25  No Urgent Place  Friend(s)   Sunny           80  10AM   \n",
       "26  No Urgent Place  Friend(s)   Sunny           80   2PM   \n",
       "\n",
       "                   coupon expiration gender age maritalStatus  ...  \\\n",
       "22        Restaurant(<20)         1d   Male  21        Single  ...   \n",
       "23           Coffee House         2h   Male  21        Single  ...   \n",
       "24                    Bar         1d   Male  21        Single  ...   \n",
       "25  Carry out & Take away         2h   Male  21        Single  ...   \n",
       "26           Coffee House         1d   Male  21        Single  ...   \n",
       "\n",
       "   CoffeeHouse CarryAway RestaurantLessThan20 Restaurant20To50  \\\n",
       "22       less1       4~8                  4~8            less1   \n",
       "23       less1       4~8                  4~8            less1   \n",
       "24       less1       4~8                  4~8            less1   \n",
       "25       less1       4~8                  4~8            less1   \n",
       "26       less1       4~8                  4~8            less1   \n",
       "\n",
       "   toCoupon_GEQ5min toCoupon_GEQ15min toCoupon_GEQ25min direction_same  \\\n",
       "22                Y                 N                 N              N   \n",
       "23                Y                 N                 N              N   \n",
       "24                Y                 N                 N              N   \n",
       "25                Y                 Y                 N              N   \n",
       "26                Y                 N                 N              N   \n",
       "\n",
       "   direction_opp  Y  \n",
       "22             Y  Y  \n",
       "23             Y  N  \n",
       "24             Y  Y  \n",
       "25             Y  N  \n",
       "26             Y  N  \n",
       "\n",
       "[5 rows x 25 columns]"
      ]
     },
     "execution_count": 8,
     "metadata": {},
     "output_type": "execute_result"
    }
   ],
   "source": [
    "coupons.head()"
   ]
  },
  {
   "cell_type": "markdown",
   "metadata": {},
   "source": [
    "4. What proportion of the total observations chose to accept the coupon? \n",
    "\n"
   ]
  },
  {
   "cell_type": "code",
   "execution_count": 9,
   "metadata": {},
   "outputs": [
    {
     "name": "stdout",
     "output_type": "stream",
     "text": [
      "43.16 % of the customers rejected the coupon\n",
      "56.84 % of the customers accepted the coupon\n"
     ]
    }
   ],
   "source": [
    "print( \"%.2f\" % (coupons.query(\"Y=='N'\").shape[0] / coupons.shape[0] * 100), '% of the customers rejected the coupon')\n",
    "print( \"%.2f\" % (coupons.query(\"Y=='Y'\").shape[0] / coupons.shape[0] * 100), '% of the customers accepted the coupon')"
   ]
  },
  {
   "cell_type": "markdown",
   "metadata": {},
   "source": [
    "5. Use a bar plot to visualize the `coupon` column."
   ]
  },
  {
   "cell_type": "code",
   "execution_count": 175,
   "metadata": {},
   "outputs": [
    {
     "data": {
      "application/javascript": [
       "\n",
       "        if (window._pyforest_update_imports_cell) { window._pyforest_update_imports_cell('import pandas as pd\\nimport plotly.express as px\\nimport matplotlib.pyplot as plt\\nfrom pathlib import Path\\nimport seaborn as sns'); }\n",
       "    "
      ],
      "text/plain": [
       "<IPython.core.display.Javascript object>"
      ]
     },
     "metadata": {},
     "output_type": "display_data"
    },
    {
     "data": {
      "application/javascript": [
       "\n",
       "        if (window._pyforest_update_imports_cell) { window._pyforest_update_imports_cell('import pandas as pd\\nimport plotly.express as px\\nimport matplotlib.pyplot as plt\\nfrom pathlib import Path\\nimport seaborn as sns'); }\n",
       "    "
      ],
      "text/plain": [
       "<IPython.core.display.Javascript object>"
      ]
     },
     "metadata": {},
     "output_type": "display_data"
    },
    {
     "data": {
      "application/javascript": [
       "\n",
       "        if (window._pyforest_update_imports_cell) { window._pyforest_update_imports_cell('import pandas as pd\\nimport plotly.express as px\\nimport matplotlib.pyplot as plt\\nfrom pathlib import Path\\nimport seaborn as sns'); }\n",
       "    "
      ],
      "text/plain": [
       "<IPython.core.display.Javascript object>"
      ]
     },
     "metadata": {},
     "output_type": "display_data"
    },
    {
     "data": {
      "image/png": "[encoded data removed]",
      "text/plain": [
       "<Figure size 936x432 with 1 Axes>"
      ]
     },
     "metadata": {
      "needs_background": "light"
     },
     "output_type": "display_data"
    }
   ],
   "source": [
    "# Bar Plot with my custom function\n",
    "\n",
    "graphdict = {'title':'Promotional Coupons to Drivers: coupon type','titlex':'Type of coupon','titley':'Customer count',\n",
    "                    'legendtitle':'', 'legendlabels':{'Customers accepting coupon', 'Customers rejecting coupon'}}\n",
    "\n",
    "graph_histogram(coupons,'coupon','Y',graphdict)"
   ]
  },
  {
   "cell_type": "markdown",
   "metadata": {},
   "source": [
    "6. Use a histogram to visualize the temperature column."
   ]
  },
  {
   "cell_type": "code",
   "execution_count": 153,
   "metadata": {},
   "outputs": [
    {
     "data": {
      "application/javascript": [
       "\n",
       "        if (window._pyforest_update_imports_cell) { window._pyforest_update_imports_cell('import pandas as pd\\nimport plotly.express as px\\nimport matplotlib.pyplot as plt\\nfrom pathlib import Path\\nimport seaborn as sns'); }\n",
       "    "
      ],
      "text/plain": [
       "<IPython.core.display.Javascript object>"
      ]
     },
     "metadata": {},
     "output_type": "display_data"
    },
    {
     "data": {
      "application/javascript": [
       "\n",
       "        if (window._pyforest_update_imports_cell) { window._pyforest_update_imports_cell('import pandas as pd\\nimport plotly.express as px\\nimport matplotlib.pyplot as plt\\nfrom pathlib import Path\\nimport seaborn as sns'); }\n",
       "    "
      ],
      "text/plain": [
       "<IPython.core.display.Javascript object>"
      ]
     },
     "metadata": {},
     "output_type": "display_data"
    },
    {
     "data": {
      "application/javascript": [
       "\n",
       "        if (window._pyforest_update_imports_cell) { window._pyforest_update_imports_cell('import pandas as pd\\nimport plotly.express as px\\nimport matplotlib.pyplot as plt\\nfrom pathlib import Path\\nimport seaborn as sns'); }\n",
       "    "
      ],
      "text/plain": [
       "<IPython.core.display.Javascript object>"
      ]
     },
     "metadata": {},
     "output_type": "display_data"
    },
    {
     "data": {
      "application/javascript": [
       "\n",
       "        if (window._pyforest_update_imports_cell) { window._pyforest_update_imports_cell('import pandas as pd\\nimport plotly.express as px\\nimport matplotlib.pyplot as plt\\nfrom pathlib import Path\\nimport seaborn as sns'); }\n",
       "    "
      ],
      "text/plain": [
       "<IPython.core.display.Javascript object>"
      ]
     },
     "metadata": {},
     "output_type": "display_data"
    },
    {
     "data": {
      "image/png": "[encoded data removed]",
      "text/plain": [
       "<Figure size 936x432 with 1 Axes>"
      ]
     },
     "metadata": {
      "needs_background": "light"
     },
     "output_type": "display_data"
    }
   ],
   "source": [
    "# Histogram with my custom function\n",
    "\n",
    "graphdict = {'title':'Promotional Coupons to Drivers: effect of temperatue on coupon acceptance','titlex':'Outside Temperature','titley':'Customer count',\n",
    "                    'legendtitle':'', 'legendlabels':{'Customers accepting coupon', 'Customers rejecting coupon'}}\n",
    "\n",
    "graph_histogram(coupons,'temperature','Y',graphdict)\n"
   ]
  },
  {
   "cell_type": "markdown",
   "metadata": {},
   "source": [
    "**Investigating the Bar Coupons**\n",
    "\n",
    "Now, we will lead you through an exploration of just the bar related coupons.  \n",
    "\n",
    "1. Create a new `DataFrame` that contains just the bar coupons.\n"
   ]
  },
  {
   "cell_type": "code",
   "execution_count": 154,
   "metadata": {},
   "outputs": [
    {
     "data": {
      "text/html": [
       "<div>\n",
       "<style scoped>\n",
       "    .dataframe tbody tr th:only-of-type {\n",
       "        vertical-align: middle;\n",
       "    }\n",
       "\n",
       "    .dataframe tbody tr th {\n",
       "        vertical-align: top;\n",
       "    }\n",
       "\n",
       "    .dataframe thead th {\n",
       "        text-align: right;\n",
       "    }\n",
       "</style>\n",
       "<table border=\"1\" class=\"dataframe\">\n",
       "  <thead>\n",
       "    <tr style=\"text-align: right;\">\n",
       "      <th></th>\n",
       "      <th>destination</th>\n",
       "      <th>passanger</th>\n",
       "      <th>weather</th>\n",
       "      <th>temperature</th>\n",
       "      <th>time</th>\n",
       "      <th>coupon</th>\n",
       "      <th>expiration</th>\n",
       "      <th>gender</th>\n",
       "      <th>age</th>\n",
       "      <th>maritalStatus</th>\n",
       "      <th>...</th>\n",
       "      <th>CoffeeHouse</th>\n",
       "      <th>CarryAway</th>\n",
       "      <th>RestaurantLessThan20</th>\n",
       "      <th>Restaurant20To50</th>\n",
       "      <th>toCoupon_GEQ5min</th>\n",
       "      <th>toCoupon_GEQ15min</th>\n",
       "      <th>toCoupon_GEQ25min</th>\n",
       "      <th>direction_same</th>\n",
       "      <th>direction_opp</th>\n",
       "      <th>Y</th>\n",
       "    </tr>\n",
       "  </thead>\n",
       "  <tbody>\n",
       "    <tr>\n",
       "      <th>24</th>\n",
       "      <td>No Urgent Place</td>\n",
       "      <td>Friend(s)</td>\n",
       "      <td>Sunny</td>\n",
       "      <td>80</td>\n",
       "      <td>10AM</td>\n",
       "      <td>Bar</td>\n",
       "      <td>1d</td>\n",
       "      <td>Male</td>\n",
       "      <td>21</td>\n",
       "      <td>Single</td>\n",
       "      <td>...</td>\n",
       "      <td>less1</td>\n",
       "      <td>4~8</td>\n",
       "      <td>4~8</td>\n",
       "      <td>less1</td>\n",
       "      <td>Y</td>\n",
       "      <td>N</td>\n",
       "      <td>N</td>\n",
       "      <td>N</td>\n",
       "      <td>Y</td>\n",
       "      <td>Y</td>\n",
       "    </tr>\n",
       "    <tr>\n",
       "      <th>35</th>\n",
       "      <td>Home</td>\n",
       "      <td>Alone</td>\n",
       "      <td>Sunny</td>\n",
       "      <td>55</td>\n",
       "      <td>6PM</td>\n",
       "      <td>Bar</td>\n",
       "      <td>1d</td>\n",
       "      <td>Male</td>\n",
       "      <td>21</td>\n",
       "      <td>Single</td>\n",
       "      <td>...</td>\n",
       "      <td>less1</td>\n",
       "      <td>4~8</td>\n",
       "      <td>4~8</td>\n",
       "      <td>less1</td>\n",
       "      <td>Y</td>\n",
       "      <td>N</td>\n",
       "      <td>N</td>\n",
       "      <td>Y</td>\n",
       "      <td>N</td>\n",
       "      <td>Y</td>\n",
       "    </tr>\n",
       "    <tr>\n",
       "      <th>39</th>\n",
       "      <td>Work</td>\n",
       "      <td>Alone</td>\n",
       "      <td>Sunny</td>\n",
       "      <td>55</td>\n",
       "      <td>7AM</td>\n",
       "      <td>Bar</td>\n",
       "      <td>1d</td>\n",
       "      <td>Male</td>\n",
       "      <td>21</td>\n",
       "      <td>Single</td>\n",
       "      <td>...</td>\n",
       "      <td>less1</td>\n",
       "      <td>4~8</td>\n",
       "      <td>4~8</td>\n",
       "      <td>less1</td>\n",
       "      <td>Y</td>\n",
       "      <td>Y</td>\n",
       "      <td>Y</td>\n",
       "      <td>N</td>\n",
       "      <td>Y</td>\n",
       "      <td>Y</td>\n",
       "    </tr>\n",
       "    <tr>\n",
       "      <th>46</th>\n",
       "      <td>No Urgent Place</td>\n",
       "      <td>Friend(s)</td>\n",
       "      <td>Sunny</td>\n",
       "      <td>80</td>\n",
       "      <td>10AM</td>\n",
       "      <td>Bar</td>\n",
       "      <td>1d</td>\n",
       "      <td>Male</td>\n",
       "      <td>46</td>\n",
       "      <td>Single</td>\n",
       "      <td>...</td>\n",
       "      <td>4~8</td>\n",
       "      <td>1~3</td>\n",
       "      <td>1~3</td>\n",
       "      <td>never</td>\n",
       "      <td>Y</td>\n",
       "      <td>N</td>\n",
       "      <td>N</td>\n",
       "      <td>N</td>\n",
       "      <td>Y</td>\n",
       "      <td>N</td>\n",
       "    </tr>\n",
       "    <tr>\n",
       "      <th>57</th>\n",
       "      <td>Home</td>\n",
       "      <td>Alone</td>\n",
       "      <td>Sunny</td>\n",
       "      <td>55</td>\n",
       "      <td>6PM</td>\n",
       "      <td>Bar</td>\n",
       "      <td>1d</td>\n",
       "      <td>Male</td>\n",
       "      <td>46</td>\n",
       "      <td>Single</td>\n",
       "      <td>...</td>\n",
       "      <td>4~8</td>\n",
       "      <td>1~3</td>\n",
       "      <td>1~3</td>\n",
       "      <td>never</td>\n",
       "      <td>Y</td>\n",
       "      <td>N</td>\n",
       "      <td>N</td>\n",
       "      <td>Y</td>\n",
       "      <td>N</td>\n",
       "      <td>N</td>\n",
       "    </tr>\n",
       "  </tbody>\n",
       "</table>\n",
       "<p>5 rows × 25 columns</p>\n",
       "</div>"
      ],
      "text/plain": [
       "        destination  passanger weather  temperature  time coupon expiration  \\\n",
       "24  No Urgent Place  Friend(s)   Sunny           80  10AM    Bar         1d   \n",
       "35             Home      Alone   Sunny           55   6PM    Bar         1d   \n",
       "39             Work      Alone   Sunny           55   7AM    Bar         1d   \n",
       "46  No Urgent Place  Friend(s)   Sunny           80  10AM    Bar         1d   \n",
       "57             Home      Alone   Sunny           55   6PM    Bar         1d   \n",
       "\n",
       "   gender age maritalStatus  ... CoffeeHouse CarryAway RestaurantLessThan20  \\\n",
       "24   Male  21        Single  ...       less1       4~8                  4~8   \n",
       "35   Male  21        Single  ...       less1       4~8                  4~8   \n",
       "39   Male  21        Single  ...       less1       4~8                  4~8   \n",
       "46   Male  46        Single  ...         4~8       1~3                  1~3   \n",
       "57   Male  46        Single  ...         4~8       1~3                  1~3   \n",
       "\n",
       "   Restaurant20To50 toCoupon_GEQ5min toCoupon_GEQ15min toCoupon_GEQ25min  \\\n",
       "24            less1                Y                 N                 N   \n",
       "35            less1                Y                 N                 N   \n",
       "39            less1                Y                 Y                 Y   \n",
       "46            never                Y                 N                 N   \n",
       "57            never                Y                 N                 N   \n",
       "\n",
       "   direction_same direction_opp  Y  \n",
       "24              N             Y  Y  \n",
       "35              Y             N  Y  \n",
       "39              N             Y  Y  \n",
       "46              N             Y  N  \n",
       "57              Y             N  N  \n",
       "\n",
       "[5 rows x 25 columns]"
      ]
     },
     "execution_count": 154,
     "metadata": {},
     "output_type": "execute_result"
    }
   ],
   "source": [
    "coupons_bar = coupons.query('coupon == \"Bar\"')\n",
    "\n",
    "coupons_bar.head()"
   ]
  },
  {
   "cell_type": "markdown",
   "metadata": {},
   "source": [
    "2. What proportion of bar coupons were accepted?\n"
   ]
  },
  {
   "cell_type": "code",
   "execution_count": 155,
   "metadata": {},
   "outputs": [
    {
     "name": "stdout",
     "output_type": "stream",
     "text": [
      "Total Bar Coupons Given: 1906\n",
      "58.81 % of the customers rejected the Bar coupons\n",
      "41.19 % of the customers accepted the Bar coupons\n"
     ]
    }
   ],
   "source": [
    "print('Total Bar Coupons Given:' , coupons_bar.shape[0])\n",
    "print( \"%.2f\" % (coupons_bar.query(\"Y=='N'\").shape[0] / coupons_bar.shape[0] * 100), '% of the customers rejected the Bar coupons')\n",
    "print( \"%.2f\" % (coupons_bar.query(\"Y=='Y'\").shape[0] / coupons_bar.shape[0] * 100), '% of the customers accepted the Bar coupons')"
   ]
  },
  {
   "cell_type": "markdown",
   "metadata": {},
   "source": [
    "3. Compare the acceptance rate between those who went to a bar 3 or fewer times a month to those who went more.\n"
   ]
  },
  {
   "cell_type": "code",
   "execution_count": 156,
   "metadata": {},
   "outputs": [
    {
     "data": {
      "text/plain": [
       "array(['never', 'less1', '1~3', 'gt8', '4~8'], dtype=object)"
      ]
     },
     "execution_count": 156,
     "metadata": {},
     "output_type": "execute_result"
    }
   ],
   "source": [
    "coupons_bar.Bar.unique()"
   ]
  },
  {
   "cell_type": "code",
   "execution_count": 201,
   "metadata": {},
   "outputs": [
    {
     "name": "stdout",
     "output_type": "stream",
     "text": [
      "1906\n",
      "1713\n",
      "Acceptance Rate for drivers who who went to a bar 3 or fewer times a month 37.24 %\n"
     ]
    },
    {
     "data": {
      "application/javascript": [
       "\n",
       "        if (window._pyforest_update_imports_cell) { window._pyforest_update_imports_cell('import pandas as pd\\nimport plotly.express as px\\nimport matplotlib.pyplot as plt\\nfrom pathlib import Path\\nimport seaborn as sns'); }\n",
       "    "
      ],
      "text/plain": [
       "<IPython.core.display.Javascript object>"
      ]
     },
     "metadata": {},
     "output_type": "display_data"
    },
    {
     "data": {
      "application/javascript": [
       "\n",
       "        if (window._pyforest_update_imports_cell) { window._pyforest_update_imports_cell('import pandas as pd\\nimport plotly.express as px\\nimport matplotlib.pyplot as plt\\nfrom pathlib import Path\\nimport seaborn as sns'); }\n",
       "    "
      ],
      "text/plain": [
       "<IPython.core.display.Javascript object>"
      ]
     },
     "metadata": {},
     "output_type": "display_data"
    },
    {
     "data": {
      "application/javascript": [
       "\n",
       "        if (window._pyforest_update_imports_cell) { window._pyforest_update_imports_cell('import pandas as pd\\nimport plotly.express as px\\nimport matplotlib.pyplot as plt\\nfrom pathlib import Path\\nimport seaborn as sns'); }\n",
       "    "
      ],
      "text/plain": [
       "<IPython.core.display.Javascript object>"
      ]
     },
     "metadata": {},
     "output_type": "display_data"
    },
    {
     "data": {
      "image/png": "[encoded data removed]",
      "text/plain": [
       "<Figure size 720x432 with 1 Axes>"
      ]
     },
     "metadata": {
      "needs_background": "light"
     },
     "output_type": "display_data"
    }
   ],
   "source": [
    "# Query\n",
    "conditionality = 'drivers who who went to a bar 3 or fewer times a month'\n",
    "filtereddf = coupons_bar\n",
    "print(filtereddf.shape[0])\n",
    "filtereddf = filtereddf[filtereddf['Bar'].isin(['never', 'less1', '1~3'])]\n",
    "print(filtereddf.shape[0])\n",
    "accept_count = (filtereddf.query('Y == \"Y\"').count()['Y'])\n",
    "reject_count = (filtereddf.query('Y == \"N\"').count()['Y'])\n",
    "total_count  = accept_count + reject_count\n",
    "print('Acceptance Rate for' , conditionality , '%.2f' % (accept_count/total_count*100) , '%')\n",
    "\n",
    "# Plot\n",
    "plt.figure(figsize=(10, 6)) \n",
    "graph = sns.histplot(filtereddf, x='Y', hue='Bar', multiple='stack', shrink=0.8)\n",
    "graph.set(title = f'acceptance rate among {conditionality}',xlabel='Accepted') ; plt.gca().set_facecolor('#F0F0F0')"
   ]
  },
  {
   "cell_type": "code",
   "execution_count": null,
   "metadata": {},
   "outputs": [],
   "source": []
  },
  {
   "cell_type": "code",
   "execution_count": 202,
   "metadata": {},
   "outputs": [
    {
     "name": "stdout",
     "output_type": "stream",
     "text": [
      "1906\n",
      "193\n",
      "Acceptance Rate for drivers who who went to a bar more than 3 times a month 76.17 %\n"
     ]
    },
    {
     "data": {
      "application/javascript": [
       "\n",
       "        if (window._pyforest_update_imports_cell) { window._pyforest_update_imports_cell('import pandas as pd\\nimport plotly.express as px\\nimport matplotlib.pyplot as plt\\nfrom pathlib import Path\\nimport seaborn as sns'); }\n",
       "    "
      ],
      "text/plain": [
       "<IPython.core.display.Javascript object>"
      ]
     },
     "metadata": {},
     "output_type": "display_data"
    },
    {
     "data": {
      "application/javascript": [
       "\n",
       "        if (window._pyforest_update_imports_cell) { window._pyforest_update_imports_cell('import pandas as pd\\nimport plotly.express as px\\nimport matplotlib.pyplot as plt\\nfrom pathlib import Path\\nimport seaborn as sns'); }\n",
       "    "
      ],
      "text/plain": [
       "<IPython.core.display.Javascript object>"
      ]
     },
     "metadata": {},
     "output_type": "display_data"
    },
    {
     "data": {
      "application/javascript": [
       "\n",
       "        if (window._pyforest_update_imports_cell) { window._pyforest_update_imports_cell('import pandas as pd\\nimport plotly.express as px\\nimport matplotlib.pyplot as plt\\nfrom pathlib import Path\\nimport seaborn as sns'); }\n",
       "    "
      ],
      "text/plain": [
       "<IPython.core.display.Javascript object>"
      ]
     },
     "metadata": {},
     "output_type": "display_data"
    },
    {
     "data": {
      "image/png": "[encoded data removed]",
      "text/plain": [
       "<Figure size 720x432 with 1 Axes>"
      ]
     },
     "metadata": {
      "needs_background": "light"
     },
     "output_type": "display_data"
    }
   ],
   "source": [
    "conditionality = 'drivers who who went to a bar more than 3 times a month'\n",
    "filtereddf = coupons_bar\n",
    "print(filtereddf.shape[0])\n",
    "filtereddf = filtereddf[filtereddf['Bar'].isin(['gt8', '4~8'])]\n",
    "print(filtereddf.shape[0])\n",
    "accept_count = (filtereddf.query('Y == \"Y\"').count()['Y'])\n",
    "reject_count = (filtereddf.query('Y == \"N\"').count()['Y'])\n",
    "total_count  = accept_count + reject_count\n",
    "print('Acceptance Rate for' , conditionality , '%.2f' % (accept_count/total_count*100) , '%')\n",
    "\n",
    "# Plot\n",
    "plt.figure(figsize=(10, 6)) \n",
    "graph = sns.histplot(filtereddf, x='Y', hue='Bar', multiple='stack', shrink=0.8)\n",
    "graph.set(title = f'acceptance rate among {conditionality}',xlabel='Accepted') ; plt.gca().set_facecolor('#F0F0F0')"
   ]
  },
  {
   "cell_type": "code",
   "execution_count": null,
   "metadata": {},
   "outputs": [],
   "source": []
  },
  {
   "cell_type": "markdown",
   "metadata": {},
   "source": [
    "### Analysis\n",
    "\n",
    "Acceptance Rate for drivers who who went to a bar 3 or fewer times a month 37.24 %\n",
    "\n",
    "Acceptance Rate for drivers who who went to a bar more than 3 times a month 76.17 %\n",
    "\n",
    "#### Clearly the acceptance rate among people who go to bar more than thrice a month is DOUBLE than the others**\n"
   ]
  },
  {
   "cell_type": "code",
   "execution_count": null,
   "metadata": {},
   "outputs": [],
   "source": []
  },
  {
   "cell_type": "markdown",
   "metadata": {},
   "source": [
    "4. Compare the acceptance rate between drivers who go to a bar more than once a month and are over the age of 25 to the all others.  Is there a difference?\n"
   ]
  },
  {
   "cell_type": "code",
   "execution_count": 17,
   "metadata": {},
   "outputs": [
    {
     "data": {
      "text/plain": [
       "array(['never', 'less1', '1~3', 'gt8', '4~8'], dtype=object)"
      ]
     },
     "execution_count": 17,
     "metadata": {},
     "output_type": "execute_result"
    }
   ],
   "source": [
    "coupons_bar.Bar.unique()"
   ]
  },
  {
   "cell_type": "code",
   "execution_count": 18,
   "metadata": {},
   "outputs": [
    {
     "data": {
      "text/plain": [
       "array(['21', '46', '26', '31', '41', '50plus', '36', 'below21'],\n",
       "      dtype=object)"
      ]
     },
     "execution_count": 18,
     "metadata": {},
     "output_type": "execute_result"
    }
   ],
   "source": [
    "coupons_bar.age.unique()"
   ]
  },
  {
   "cell_type": "code",
   "execution_count": 203,
   "metadata": {},
   "outputs": [
    {
     "name": "stdout",
     "output_type": "stream",
     "text": [
      "1906\n",
      "572\n",
      "403\n",
      "Acceptance Rate for drivers who go to bars more than once a month and are over the age of 25 68.98 %\n"
     ]
    },
    {
     "data": {
      "application/javascript": [
       "\n",
       "        if (window._pyforest_update_imports_cell) { window._pyforest_update_imports_cell('import pandas as pd\\nimport plotly.express as px\\nimport matplotlib.pyplot as plt\\nfrom pathlib import Path\\nimport seaborn as sns'); }\n",
       "    "
      ],
      "text/plain": [
       "<IPython.core.display.Javascript object>"
      ]
     },
     "metadata": {},
     "output_type": "display_data"
    },
    {
     "data": {
      "application/javascript": [
       "\n",
       "        if (window._pyforest_update_imports_cell) { window._pyforest_update_imports_cell('import pandas as pd\\nimport plotly.express as px\\nimport matplotlib.pyplot as plt\\nfrom pathlib import Path\\nimport seaborn as sns'); }\n",
       "    "
      ],
      "text/plain": [
       "<IPython.core.display.Javascript object>"
      ]
     },
     "metadata": {},
     "output_type": "display_data"
    },
    {
     "data": {
      "application/javascript": [
       "\n",
       "        if (window._pyforest_update_imports_cell) { window._pyforest_update_imports_cell('import pandas as pd\\nimport plotly.express as px\\nimport matplotlib.pyplot as plt\\nfrom pathlib import Path\\nimport seaborn as sns'); }\n",
       "    "
      ],
      "text/plain": [
       "<IPython.core.display.Javascript object>"
      ]
     },
     "metadata": {},
     "output_type": "display_data"
    },
    {
     "data": {
      "image/png": "[encoded data removed]",
      "text/plain": [
       "<Figure size 720x432 with 1 Axes>"
      ]
     },
     "metadata": {
      "needs_background": "light"
     },
     "output_type": "display_data"
    }
   ],
   "source": [
    "conditionality = 'drivers who go to bars more than once a month and are over the age of 25'\n",
    "\n",
    "filtereddf = coupons_bar\n",
    "print(filtereddf.shape[0])\n",
    "filtereddf = filtereddf[filtereddf['Bar'].isin(['1~3', 'gt8', '4~8'])]\n",
    "print(filtereddf.shape[0])\n",
    "filtereddf = filtereddf[filtereddf['age'].isin(['46', '26', '31', '41', '50plus', '36'])]\n",
    "print(filtereddf.shape[0])\n",
    "accept_count = (filtereddf.query('Y == \"Y\"').count()['Y'])\n",
    "reject_count = (filtereddf.query('Y == \"N\"').count()['Y'])\n",
    "total_count  = accept_count + reject_count\n",
    "print('Acceptance Rate for' , conditionality , '%.2f' % (accept_count/total_count*100) , '%')\n",
    "\n",
    "# Plot\n",
    "plt.figure(figsize=(10, 6)) \n",
    "graph = sns.histplot(filtereddf, x='Y', hue='Bar', multiple='stack', shrink=0.8)\n",
    "graph.set(title = f'acceptance rate among {conditionality}',xlabel='Accepted') ; plt.gca().set_facecolor('#F0F0F0')"
   ]
  },
  {
   "cell_type": "code",
   "execution_count": 204,
   "metadata": {},
   "outputs": [
    {
     "name": "stdout",
     "output_type": "stream",
     "text": [
      "1906\n",
      "1334\n",
      "1906\n",
      "1334\n",
      "1906\n"
     ]
    },
    {
     "data": {
      "application/javascript": [
       "\n",
       "        if (window._pyforest_update_imports_cell) { window._pyforest_update_imports_cell('import pandas as pd\\nimport plotly.express as px\\nimport matplotlib.pyplot as plt\\nfrom pathlib import Path\\nimport seaborn as sns'); }\n",
       "    "
      ],
      "text/plain": [
       "<IPython.core.display.Javascript object>"
      ]
     },
     "metadata": {},
     "output_type": "display_data"
    },
    {
     "data": {
      "application/javascript": [
       "\n",
       "        if (window._pyforest_update_imports_cell) { window._pyforest_update_imports_cell('import pandas as pd\\nimport plotly.express as px\\nimport matplotlib.pyplot as plt\\nfrom pathlib import Path\\nimport seaborn as sns'); }\n",
       "    "
      ],
      "text/plain": [
       "<IPython.core.display.Javascript object>"
      ]
     },
     "metadata": {},
     "output_type": "display_data"
    },
    {
     "data": {
      "application/javascript": [
       "\n",
       "        if (window._pyforest_update_imports_cell) { window._pyforest_update_imports_cell('import pandas as pd\\nimport plotly.express as px\\nimport matplotlib.pyplot as plt\\nfrom pathlib import Path\\nimport seaborn as sns'); }\n",
       "    "
      ],
      "text/plain": [
       "<IPython.core.display.Javascript object>"
      ]
     },
     "metadata": {},
     "output_type": "display_data"
    },
    {
     "data": {
      "application/javascript": [
       "\n",
       "        if (window._pyforest_update_imports_cell) { window._pyforest_update_imports_cell('import pandas as pd\\nimport plotly.express as px\\nimport matplotlib.pyplot as plt\\nfrom pathlib import Path\\nimport seaborn as sns'); }\n",
       "    "
      ],
      "text/plain": [
       "<IPython.core.display.Javascript object>"
      ]
     },
     "metadata": {},
     "output_type": "display_data"
    },
    {
     "data": {
      "image/png": "[encoded data removed]",
      "text/plain": [
       "<Figure size 720x432 with 1 Axes>"
      ]
     },
     "metadata": {
      "needs_background": "light"
     },
     "output_type": "display_data"
    }
   ],
   "source": [
    "conditionality = 'all others: <Once a month & >Once a month + <25'\n",
    "\n",
    "# <Once a month\n",
    "filtereddf = coupons_bar\n",
    "print(filtereddf.shape[0])\n",
    "filtereddf1 = filtereddf[filtereddf['Bar'].isin(['never', 'less1'])]\n",
    "print(filtereddf1.shape[0])\n",
    "\n",
    "\n",
    "# >Once a month + <25\n",
    "filtereddf = coupons_bar\n",
    "print(filtereddf.shape[0])\n",
    "filtereddf2 = filtereddf[filtereddf['Bar'].isin(['1~3', 'gt8', '4~8'])]\n",
    "print(filtereddf1.shape[0])\n",
    "filtereddf2 = filtereddf2[filtereddf2['age'].isin(['21', 'below21'])]\n",
    "print(filtereddf.shape[0])\n",
    "\n",
    "# Union (removing duplicates)\n",
    "df_union = pd.concat([filtereddf1, filtereddf2]).drop_duplicates()\n",
    "\n",
    "accept_count = (df_union.query('Y == \"Y\"').count()['Y'])\n",
    "reject_count = (df_union.query('Y == \"N\"').count()['Y'])\n",
    "total_count  = accept_count + reject_count\n",
    "\n",
    "# Plot\n",
    "plt.figure(figsize=(10, 6)) \n",
    "graph = sns.histplot(filtereddf, x='Y', hue='Bar', multiple='stack', shrink=0.8)\n",
    "graph.set(title = f'acceptance rate among {conditionality}',xlabel='Accepted') ; plt.gca().set_facecolor('#F0F0F0')"
   ]
  },
  {
   "cell_type": "code",
   "execution_count": null,
   "metadata": {},
   "outputs": [],
   "source": []
  },
  {
   "cell_type": "markdown",
   "metadata": {},
   "source": [
    "### Analysis\n",
    "\n",
    "Acceptance Rate for drivers who go to bars more than once a month and are over the age of 25 is 68.98 %\n",
    "\n",
    "Acceptance Rate for all others: <Once a month & <Once a month + <25 is 33.73 %\n",
    "\n",
    "\n",
    "#### Clearly the acceptance rate among people who go to bars more than once a month and are over the age of 25 is DOUBLE than the others**\n"
   ]
  },
  {
   "cell_type": "markdown",
   "metadata": {},
   "source": [
    "5. Use the same process to compare the acceptance rate between drivers who go to bars more than once a month and had passengers that were not a kid and had occupations other than farming, fishing, or forestry. \n"
   ]
  },
  {
   "cell_type": "code",
   "execution_count": 213,
   "metadata": {},
   "outputs": [
    {
     "name": "stdout",
     "output_type": "stream",
     "text": [
      "1906\n",
      "572\n",
      "403\n",
      "403\n",
      "Acceptance Rate for drivers who go to bars more than once a month and had passengers that were not a kid and had occupations other than farming, fishing, or forestry 33.73 %\n"
     ]
    },
    {
     "data": {
      "application/javascript": [
       "\n",
       "        if (window._pyforest_update_imports_cell) { window._pyforest_update_imports_cell('import pandas as pd\\nimport plotly.express as px\\nimport matplotlib.pyplot as plt\\nfrom pathlib import Path\\nimport seaborn as sns'); }\n",
       "    "
      ],
      "text/plain": [
       "<IPython.core.display.Javascript object>"
      ]
     },
     "metadata": {},
     "output_type": "display_data"
    },
    {
     "data": {
      "application/javascript": [
       "\n",
       "        if (window._pyforest_update_imports_cell) { window._pyforest_update_imports_cell('import pandas as pd\\nimport plotly.express as px\\nimport matplotlib.pyplot as plt\\nfrom pathlib import Path\\nimport seaborn as sns'); }\n",
       "    "
      ],
      "text/plain": [
       "<IPython.core.display.Javascript object>"
      ]
     },
     "metadata": {},
     "output_type": "display_data"
    },
    {
     "data": {
      "application/javascript": [
       "\n",
       "        if (window._pyforest_update_imports_cell) { window._pyforest_update_imports_cell('import pandas as pd\\nimport plotly.express as px\\nimport matplotlib.pyplot as plt\\nfrom pathlib import Path\\nimport seaborn as sns'); }\n",
       "    "
      ],
      "text/plain": [
       "<IPython.core.display.Javascript object>"
      ]
     },
     "metadata": {},
     "output_type": "display_data"
    },
    {
     "data": {
      "image/png": "[encoded data removed]",
      "text/plain": [
       "<Figure size 720x432 with 1 Axes>"
      ]
     },
     "metadata": {
      "needs_background": "light"
     },
     "output_type": "display_data"
    }
   ],
   "source": [
    "# Unsure if this question is asking for all conditions to be met or if it is one by one\n",
    "# Below is the solution where all conditionalities are met \n",
    "\n",
    "conditionality = 'drivers who go to bars more than once a month and had passengers that were not a kid and had occupations other than farming, fishing, or forestry'\n",
    "\n",
    "filtereddf = coupons_bar\n",
    "print(filtereddf.shape[0])\n",
    "\n",
    "filtereddf = filtereddf[coupons_bar['Bar'].isin(['1~3', 'gt8', '4~8'])]\n",
    "print(filtereddf.shape[0])\n",
    "\n",
    "filtereddf = filtereddf.query('has_children == \"N\"')\n",
    "print(filtereddf.shape[0])\n",
    "\n",
    "filtereddf = filtereddf.query('occupation != \"Farming Fishing & Forestry\"')\n",
    "print(filtereddf.shape[0])\n",
    "\n",
    "accept_count = (df_union.query('Y == \"Y\"').count()['Y'])\n",
    "reject_count = (df_union.query('Y == \"N\"').count()['Y'])\n",
    "total_count  = accept_count + reject_count\n",
    "\n",
    "print('Acceptance Rate for' , conditionality , '%.2f' % (accept_count/total_count*100) , '%')\n",
    "\n",
    "# Plot\n",
    "plt.figure(figsize=(10, 6)) \n",
    "graph = sns.histplot(df_union, x='Y', hue='Bar', multiple='stack', shrink=0.8)\n",
    "graph.set(title = 'acceptance rate'); plt.gca().set_facecolor('#F0F0F0')"
   ]
  },
  {
   "cell_type": "markdown",
   "metadata": {},
   "source": [
    "6. Compare the acceptance rates between those drivers who:\n",
    "\n",
    "- go to bars more than once a month, had passengers that were not a kid, and were not widowed *OR*\n",
    "- go to bars more than once a month and are under the age of 30 *OR*\n",
    "- go to cheap restaurants more than 4 times a month and income is less than 50K. \n",
    "\n"
   ]
  },
  {
   "cell_type": "code",
   "execution_count": 214,
   "metadata": {},
   "outputs": [
    {
     "name": "stdout",
     "output_type": "stream",
     "text": [
      "1906\n",
      "572\n",
      "403\n",
      "403\n",
      "Acceptance Rate for go to bars more than once a month, had passengers that were not a kid, and were not widowed 33.73 %\n"
     ]
    },
    {
     "data": {
      "application/javascript": [
       "\n",
       "        if (window._pyforest_update_imports_cell) { window._pyforest_update_imports_cell('import pandas as pd\\nimport plotly.express as px\\nimport matplotlib.pyplot as plt\\nfrom pathlib import Path\\nimport seaborn as sns'); }\n",
       "    "
      ],
      "text/plain": [
       "<IPython.core.display.Javascript object>"
      ]
     },
     "metadata": {},
     "output_type": "display_data"
    },
    {
     "data": {
      "application/javascript": [
       "\n",
       "        if (window._pyforest_update_imports_cell) { window._pyforest_update_imports_cell('import pandas as pd\\nimport plotly.express as px\\nimport matplotlib.pyplot as plt\\nfrom pathlib import Path\\nimport seaborn as sns'); }\n",
       "    "
      ],
      "text/plain": [
       "<IPython.core.display.Javascript object>"
      ]
     },
     "metadata": {},
     "output_type": "display_data"
    },
    {
     "data": {
      "application/javascript": [
       "\n",
       "        if (window._pyforest_update_imports_cell) { window._pyforest_update_imports_cell('import pandas as pd\\nimport plotly.express as px\\nimport matplotlib.pyplot as plt\\nfrom pathlib import Path\\nimport seaborn as sns'); }\n",
       "    "
      ],
      "text/plain": [
       "<IPython.core.display.Javascript object>"
      ]
     },
     "metadata": {},
     "output_type": "display_data"
    },
    {
     "data": {
      "image/png": "[encoded data removed]",
      "text/plain": [
       "<Figure size 720x432 with 1 Axes>"
      ]
     },
     "metadata": {
      "needs_background": "light"
     },
     "output_type": "display_data"
    }
   ],
   "source": [
    "conditionality = 'go to bars more than once a month, had passengers that were not a kid, and were not widowed'\n",
    "\n",
    "filtereddf = coupons_bar\n",
    "print(filtereddf.shape[0])\n",
    "\n",
    "filtereddf = filtereddf[coupons_bar['Bar'].isin(['1~3', 'gt8', '4~8'])]\n",
    "print(filtereddf.shape[0])\n",
    "\n",
    "filtereddf = filtereddf.query('has_children == \"N\"')\n",
    "print(filtereddf.shape[0])\n",
    "\n",
    "filtereddf = filtereddf.query('maritalStatus != \"Widowed\"')\n",
    "print(filtereddf.shape[0])\n",
    "\n",
    "accept_count = (df_union.query('Y == \"Y\"').count()['Y'])\n",
    "reject_count = (df_union.query('Y == \"N\"').count()['Y'])\n",
    "total_count  = accept_count + reject_count\n",
    "\n",
    "print('Acceptance Rate for' , conditionality , '%.2f' % (accept_count/total_count*100) , '%')\n",
    "\n",
    "# Plot\n",
    "plt.figure(figsize=(10, 6)) \n",
    "graph = sns.histplot(df_union, x='Y', hue='Bar', multiple='stack', shrink=0.8)\n",
    "graph.set(title = f'acceptance rate among {conditionality}',xlabel='Accepted') ; plt.gca().set_facecolor('#F0F0F0')"
   ]
  },
  {
   "cell_type": "code",
   "execution_count": 215,
   "metadata": {},
   "outputs": [
    {
     "name": "stdout",
     "output_type": "stream",
     "text": [
      "12007\n",
      "3424\n",
      "1519\n",
      "Acceptance Rate for go to bars more than once a month and are under the age of 30 33.73 %\n"
     ]
    },
    {
     "data": {
      "application/javascript": [
       "\n",
       "        if (window._pyforest_update_imports_cell) { window._pyforest_update_imports_cell('import pandas as pd\\nimport plotly.express as px\\nimport matplotlib.pyplot as plt\\nfrom pathlib import Path\\nimport seaborn as sns'); }\n",
       "    "
      ],
      "text/plain": [
       "<IPython.core.display.Javascript object>"
      ]
     },
     "metadata": {},
     "output_type": "display_data"
    },
    {
     "data": {
      "application/javascript": [
       "\n",
       "        if (window._pyforest_update_imports_cell) { window._pyforest_update_imports_cell('import pandas as pd\\nimport plotly.express as px\\nimport matplotlib.pyplot as plt\\nfrom pathlib import Path\\nimport seaborn as sns'); }\n",
       "    "
      ],
      "text/plain": [
       "<IPython.core.display.Javascript object>"
      ]
     },
     "metadata": {},
     "output_type": "display_data"
    },
    {
     "data": {
      "application/javascript": [
       "\n",
       "        if (window._pyforest_update_imports_cell) { window._pyforest_update_imports_cell('import pandas as pd\\nimport plotly.express as px\\nimport matplotlib.pyplot as plt\\nfrom pathlib import Path\\nimport seaborn as sns'); }\n",
       "    "
      ],
      "text/plain": [
       "<IPython.core.display.Javascript object>"
      ]
     },
     "metadata": {},
     "output_type": "display_data"
    },
    {
     "data": {
      "image/png": "[encoded data removed]",
      "text/plain": [
       "<Figure size 720x432 with 1 Axes>"
      ]
     },
     "metadata": {
      "needs_background": "light"
     },
     "output_type": "display_data"
    }
   ],
   "source": [
    "conditionality = 'go to bars more than once a month and are under the age of 30'\n",
    "\n",
    "filtereddf = coupons\n",
    "print(filtereddf.shape[0])\n",
    "\n",
    "filtereddf = filtereddf[filtereddf['RestaurantLessThan20'].isin(['4~8'])]\n",
    "print(filtereddf.shape[0])\n",
    "\n",
    "filtereddf = filtereddf[filtereddf['age'].isin(['21', 'below21','26'])]\n",
    "print(filtereddf.shape[0])\n",
    "\n",
    "accept_count = (df_union.query('Y == \"Y\"').count()['Y'])\n",
    "reject_count = (df_union.query('Y == \"N\"').count()['Y'])\n",
    "total_count  = accept_count + reject_count\n",
    "\n",
    "print('Acceptance Rate for' , conditionality , '%.2f' % (accept_count/total_count*100) , '%')\n",
    "\n",
    "# Plot\n",
    "plt.figure(figsize=(10, 6)) \n",
    "graph = sns.histplot(df_union, x='Y', hue='Bar', multiple='stack', shrink=0.8)\n",
    "graph.set(title = f'acceptance rate among {conditionality}',xlabel='Accepted') ; plt.gca().set_facecolor('#F0F0F0')"
   ]
  },
  {
   "cell_type": "code",
   "execution_count": 216,
   "metadata": {},
   "outputs": [
    {
     "name": "stdout",
     "output_type": "stream",
     "text": [
      "1906\n",
      "147\n",
      "96\n",
      "Acceptance Rate for go to cheap restaurants more than 4 times a month and income is less than 50K 33.73 %\n"
     ]
    },
    {
     "data": {
      "application/javascript": [
       "\n",
       "        if (window._pyforest_update_imports_cell) { window._pyforest_update_imports_cell('import pandas as pd\\nimport plotly.express as px\\nimport matplotlib.pyplot as plt\\nfrom pathlib import Path\\nimport seaborn as sns'); }\n",
       "    "
      ],
      "text/plain": [
       "<IPython.core.display.Javascript object>"
      ]
     },
     "metadata": {},
     "output_type": "display_data"
    },
    {
     "data": {
      "application/javascript": [
       "\n",
       "        if (window._pyforest_update_imports_cell) { window._pyforest_update_imports_cell('import pandas as pd\\nimport plotly.express as px\\nimport matplotlib.pyplot as plt\\nfrom pathlib import Path\\nimport seaborn as sns'); }\n",
       "    "
      ],
      "text/plain": [
       "<IPython.core.display.Javascript object>"
      ]
     },
     "metadata": {},
     "output_type": "display_data"
    },
    {
     "data": {
      "application/javascript": [
       "\n",
       "        if (window._pyforest_update_imports_cell) { window._pyforest_update_imports_cell('import pandas as pd\\nimport plotly.express as px\\nimport matplotlib.pyplot as plt\\nfrom pathlib import Path\\nimport seaborn as sns'); }\n",
       "    "
      ],
      "text/plain": [
       "<IPython.core.display.Javascript object>"
      ]
     },
     "metadata": {},
     "output_type": "display_data"
    },
    {
     "data": {
      "image/png": "[encoded data removed]",
      "text/plain": [
       "<Figure size 720x432 with 1 Axes>"
      ]
     },
     "metadata": {
      "needs_background": "light"
     },
     "output_type": "display_data"
    }
   ],
   "source": [
    "conditionality = 'go to cheap restaurants more than 4 times a month and income is less than 50K'\n",
    "\n",
    "filtereddf = coupons_bar\n",
    "print(filtereddf.shape[0])\n",
    "\n",
    "filtereddf = filtereddf[coupons_bar['Bar'].isin(['4~8'])]\n",
    "print(filtereddf.shape[0])\n",
    "\n",
    "filtereddf = filtereddf[filtereddf['age'].isin(['21', 'below21','26'])]\n",
    "print(filtereddf.shape[0])\n",
    "\n",
    "accept_count = (df_union.query('Y == \"Y\"').count()['Y'])\n",
    "reject_count = (df_union.query('Y == \"N\"').count()['Y'])\n",
    "total_count  = accept_count + reject_count\n",
    "\n",
    "print('Acceptance Rate for' , conditionality , '%.2f' % (accept_count/total_count*100) , '%')\n",
    "\n",
    "# Plot\n",
    "plt.figure(figsize=(10, 6)) \n",
    "graph = sns.histplot(df_union, x='Y', hue='Bar', multiple='stack', shrink=0.8)\n",
    "graph.set(title = f'acceptance rate among {conditionality}',xlabel='Accepted') ; plt.gca().set_facecolor('#F0F0F0')"
   ]
  },
  {
   "cell_type": "code",
   "execution_count": null,
   "metadata": {},
   "outputs": [],
   "source": []
  },
  {
   "cell_type": "markdown",
   "metadata": {},
   "source": [
    "7.  Based on these observations, what do you hypothesize about drivers who accepted the bar coupons?"
   ]
  },
  {
   "cell_type": "markdown",
   "metadata": {},
   "source": [
    "Below are the observations:\n",
    "    \n",
    "1. 58.81 % of the customers rejected the Bar coupons\n",
    "\n",
    "2. 41.19 % of the customers accepted the Bar coupons\n",
    "\n",
    "3. Acceptance Rate for drivers who who went to a bar 3 or fewer times a month 37.24 %\n",
    "\n",
    "4. Acceptance Rate for drivers who who went to a bar more than 3 times a month 76.17 %\n",
    "\n",
    "**Clearly the acceptance rate among people who go to bar more than thrice a month is DOUBLE than the others**\n",
    "\n",
    "5. Acceptance Rate for drivers who go to bars more than once a month and are over the age of 25 is 68.98 %\n",
    "\n",
    "6. Acceptance Rate for all others: <Once a month & <Once a month + <25 is 33.73 %\n",
    "\n",
    "\n",
    "**Clearly the acceptance rate among people who go to bars more than once a month and are over the age of 25 is DOUBLE than the others**\n",
    "\n",
    "7. Acceptance Rate for drivers who go to bars more than once a month and had passengers that were not a kid and had occupations other than farming, fishing, or forestry 33.73 %\n",
    "\n",
    "8. Acceptance Rate for go to bars more than once a month, had passengers that were not a kid, and were not widowed 33.73 %\n",
    "\n",
    "9. Acceptance Rate for go to bars more than once a month and are under the age of 30 33.73 %\n",
    "\n",
    "10. Acceptance Rate for go to cheap restaurants more than 4 times a month and income is less than 50K 33.73 %"
   ]
  },
  {
   "cell_type": "markdown",
   "metadata": {},
   "source": [
    "### Independent Investigation\n",
    "\n",
    "Using the bar coupon example as motivation, you are to explore one of the other coupon groups and try to determine the characteristics of passengers who accept the coupons.  "
   ]
  },
  {
   "cell_type": "code",
   "execution_count": 219,
   "metadata": {},
   "outputs": [
    {
     "data": {
      "application/javascript": [
       "\n",
       "        if (window._pyforest_update_imports_cell) { window._pyforest_update_imports_cell('import pandas as pd\\nimport plotly.express as px\\nimport matplotlib.pyplot as plt\\nfrom pathlib import Path\\nimport seaborn as sns'); }\n",
       "    "
      ],
      "text/plain": [
       "<IPython.core.display.Javascript object>"
      ]
     },
     "metadata": {},
     "output_type": "display_data"
    },
    {
     "data": {
      "application/javascript": [
       "\n",
       "        if (window._pyforest_update_imports_cell) { window._pyforest_update_imports_cell('import pandas as pd\\nimport plotly.express as px\\nimport matplotlib.pyplot as plt\\nfrom pathlib import Path\\nimport seaborn as sns'); }\n",
       "    "
      ],
      "text/plain": [
       "<IPython.core.display.Javascript object>"
      ]
     },
     "metadata": {},
     "output_type": "display_data"
    },
    {
     "data": {
      "application/javascript": [
       "\n",
       "        if (window._pyforest_update_imports_cell) { window._pyforest_update_imports_cell('import pandas as pd\\nimport plotly.express as px\\nimport matplotlib.pyplot as plt\\nfrom pathlib import Path\\nimport seaborn as sns'); }\n",
       "    "
      ],
      "text/plain": [
       "<IPython.core.display.Javascript object>"
      ]
     },
     "metadata": {},
     "output_type": "display_data"
    },
    {
     "data": {
      "application/javascript": [
       "\n",
       "        if (window._pyforest_update_imports_cell) { window._pyforest_update_imports_cell('import pandas as pd\\nimport plotly.express as px\\nimport matplotlib.pyplot as plt\\nfrom pathlib import Path\\nimport seaborn as sns'); }\n",
       "    "
      ],
      "text/plain": [
       "<IPython.core.display.Javascript object>"
      ]
     },
     "metadata": {},
     "output_type": "display_data"
    },
    {
     "data": {
      "image/png": "[encoded data removed]",
      "text/plain": [
       "<Figure size 720x432 with 1 Axes>"
      ]
     },
     "metadata": {
      "needs_background": "light"
     },
     "output_type": "display_data"
    }
   ],
   "source": [
    "# Investigation 1\n",
    "\n",
    "# Hypothesis: Acceptance Rate is higher among students\n",
    "    \n",
    "# Plot\n",
    "plt.figure(figsize=(10, 6)) \n",
    "graph = sns.histplot(coupons.query('occupation == \"Student\"'), x='Y', multiple='stack', shrink=0.8)\n",
    "graph.set(title = 'Acceptance Rate among Students',xlabel='Accepted') ; plt.gca().set_facecolor('#F0F0F0')"
   ]
  },
  {
   "cell_type": "markdown",
   "metadata": {},
   "source": [
    "#### Investigation 1 Result\n",
    "\n",
    "#### HYPOTHESIS IS TRUE! \n",
    "\n",
    "#### Acceptance Rate is higher among students!!"
   ]
  },
  {
   "cell_type": "code",
   "execution_count": 224,
   "metadata": {},
   "outputs": [
    {
     "data": {
      "application/javascript": [
       "\n",
       "        if (window._pyforest_update_imports_cell) { window._pyforest_update_imports_cell('import pandas as pd\\nimport plotly.express as px\\nimport matplotlib.pyplot as plt\\nfrom pathlib import Path\\nimport seaborn as sns'); }\n",
       "    "
      ],
      "text/plain": [
       "<IPython.core.display.Javascript object>"
      ]
     },
     "metadata": {},
     "output_type": "display_data"
    },
    {
     "data": {
      "application/javascript": [
       "\n",
       "        if (window._pyforest_update_imports_cell) { window._pyforest_update_imports_cell('import pandas as pd\\nimport plotly.express as px\\nimport matplotlib.pyplot as plt\\nfrom pathlib import Path\\nimport seaborn as sns'); }\n",
       "    "
      ],
      "text/plain": [
       "<IPython.core.display.Javascript object>"
      ]
     },
     "metadata": {},
     "output_type": "display_data"
    },
    {
     "data": {
      "application/javascript": [
       "\n",
       "        if (window._pyforest_update_imports_cell) { window._pyforest_update_imports_cell('import pandas as pd\\nimport plotly.express as px\\nimport matplotlib.pyplot as plt\\nfrom pathlib import Path\\nimport seaborn as sns'); }\n",
       "    "
      ],
      "text/plain": [
       "<IPython.core.display.Javascript object>"
      ]
     },
     "metadata": {},
     "output_type": "display_data"
    },
    {
     "data": {
      "image/png": "[encoded data removed]",
      "text/plain": [
       "<Figure size 720x432 with 1 Axes>"
      ]
     },
     "metadata": {
      "needs_background": "light"
     },
     "output_type": "display_data"
    }
   ],
   "source": [
    "# Investigation 2\n",
    "\n",
    "# Hypothesis: If the coupon is in the same direction of Travel, Acceptance rate is higher\n",
    "\n",
    "# Plot\n",
    "plt.figure(figsize=(10, 6)) \n",
    "graph = sns.histplot(coupons.query('direction_same == \"Y\"'), x='Y', multiple='stack', shrink=0.8)\n",
    "graph.set(title = 'Acceptance Rate for coupons in same direction of Travel',xlabel='Accepted') ; plt.gca().set_facecolor('#F0F0F0')"
   ]
  },
  {
   "cell_type": "markdown",
   "metadata": {},
   "source": [
    "#### Investigation 2 Result\n",
    "\n",
    "#### HYPOTHESIS IS TRUE! \n",
    "\n",
    "#### If the coupon is in the same direction of Travel, Acceptance rate is higher!!"
   ]
  },
  {
   "cell_type": "code",
   "execution_count": 27,
   "metadata": {},
   "outputs": [],
   "source": [
    "# Investigation 3\n",
    "\n",
    "# Hypothesis: Acceptance rate is higher for Good Weather (Sunny) than Bad Weather (Snowy, Rainy)"
   ]
  },
  {
   "cell_type": "code",
   "execution_count": 227,
   "metadata": {},
   "outputs": [
    {
     "data": {
      "application/javascript": [
       "\n",
       "        if (window._pyforest_update_imports_cell) { window._pyforest_update_imports_cell('import pandas as pd\\nimport plotly.express as px\\nimport matplotlib.pyplot as plt\\nfrom pathlib import Path\\nimport seaborn as sns'); }\n",
       "    "
      ],
      "text/plain": [
       "<IPython.core.display.Javascript object>"
      ]
     },
     "metadata": {},
     "output_type": "display_data"
    },
    {
     "data": {
      "application/javascript": [
       "\n",
       "        if (window._pyforest_update_imports_cell) { window._pyforest_update_imports_cell('import pandas as pd\\nimport plotly.express as px\\nimport matplotlib.pyplot as plt\\nfrom pathlib import Path\\nimport seaborn as sns'); }\n",
       "    "
      ],
      "text/plain": [
       "<IPython.core.display.Javascript object>"
      ]
     },
     "metadata": {},
     "output_type": "display_data"
    },
    {
     "data": {
      "application/javascript": [
       "\n",
       "        if (window._pyforest_update_imports_cell) { window._pyforest_update_imports_cell('import pandas as pd\\nimport plotly.express as px\\nimport matplotlib.pyplot as plt\\nfrom pathlib import Path\\nimport seaborn as sns'); }\n",
       "    "
      ],
      "text/plain": [
       "<IPython.core.display.Javascript object>"
      ]
     },
     "metadata": {},
     "output_type": "display_data"
    },
    {
     "data": {
      "image/png": "[encoded data removed]",
      "text/plain": [
       "<Figure size 720x432 with 1 Axes>"
      ]
     },
     "metadata": {
      "needs_background": "light"
     },
     "output_type": "display_data"
    }
   ],
   "source": [
    "# Histogram for Good Weather - Sunny\n",
    "\n",
    "# Plot\n",
    "plt.figure(figsize=(10, 6)) \n",
    "graph = sns.histplot(coupons.query('weather == \"Sunny\"'), x='Y', multiple='stack', shrink=0.8)\n",
    "graph.set(title = 'Acceptance Rate for Good Weather',xlabel='Accepted') ; plt.gca().set_facecolor('#F0F0F0')"
   ]
  },
  {
   "cell_type": "code",
   "execution_count": 228,
   "metadata": {},
   "outputs": [
    {
     "data": {
      "application/javascript": [
       "\n",
       "        if (window._pyforest_update_imports_cell) { window._pyforest_update_imports_cell('import pandas as pd\\nimport plotly.express as px\\nimport matplotlib.pyplot as plt\\nfrom pathlib import Path\\nimport seaborn as sns'); }\n",
       "    "
      ],
      "text/plain": [
       "<IPython.core.display.Javascript object>"
      ]
     },
     "metadata": {},
     "output_type": "display_data"
    },
    {
     "data": {
      "application/javascript": [
       "\n",
       "        if (window._pyforest_update_imports_cell) { window._pyforest_update_imports_cell('import pandas as pd\\nimport plotly.express as px\\nimport matplotlib.pyplot as plt\\nfrom pathlib import Path\\nimport seaborn as sns'); }\n",
       "    "
      ],
      "text/plain": [
       "<IPython.core.display.Javascript object>"
      ]
     },
     "metadata": {},
     "output_type": "display_data"
    },
    {
     "data": {
      "application/javascript": [
       "\n",
       "        if (window._pyforest_update_imports_cell) { window._pyforest_update_imports_cell('import pandas as pd\\nimport plotly.express as px\\nimport matplotlib.pyplot as plt\\nfrom pathlib import Path\\nimport seaborn as sns'); }\n",
       "    "
      ],
      "text/plain": [
       "<IPython.core.display.Javascript object>"
      ]
     },
     "metadata": {},
     "output_type": "display_data"
    },
    {
     "data": {
      "image/png": "[encoded data removed]",
      "text/plain": [
       "<Figure size 720x432 with 1 Axes>"
      ]
     },
     "metadata": {
      "needs_background": "light"
     },
     "output_type": "display_data"
    }
   ],
   "source": [
    "# Histogram for Bad Weather - Snowy & Rainy\n",
    "\n",
    "# Plot\n",
    "plt.figure(figsize=(10, 6)) \n",
    "graph = sns.histplot(coupons.query('weather != \"Sunny\"'), x='Y', multiple='stack', shrink=0.8)\n",
    "graph.set(title = 'Acceptance Rate for Bad Weather',xlabel='Accepted') ; plt.gca().set_facecolor('#F0F0F0')"
   ]
  },
  {
   "cell_type": "markdown",
   "metadata": {},
   "source": [
    "#### Investigation 3 Result\n",
    "\n",
    "#### HYPOTHESIS IS TRUE! \n",
    "\n",
    "#### Acceptance rate is higher for Good Weather (Sunny) than Bad Weather (Snowy, Rainy)"
   ]
  },
  {
   "cell_type": "code",
   "execution_count": null,
   "metadata": {},
   "outputs": [],
   "source": []
  },
  {
   "cell_type": "code",
   "execution_count": null,
   "metadata": {},
   "outputs": [],
   "source": []
  }
 ],
 "metadata": {
  "kernelspec": {
   "display_name": "Python 3",
   "language": "python",
   "name": "python3"
  },
  "language_info": {
   "codemirror_mode": {
    "name": "ipython",
    "version": 3
   },
   "file_extension": ".py",
   "mimetype": "text/x-python",
   "name": "python",
   "nbconvert_exporter": "python",
   "pygments_lexer": "ipython3",
   "version": "3.8.5"
  },
  "widgets": {
   "application/vnd.jupyter.widget-state+json": {
    "state": {},
    "version_major": 2,
    "version_minor": 0
   }
  }
 },
 "nbformat": 4,
 "nbformat_minor": 4
}
