{
 "cells": [
  {
   "cell_type": "markdown",
   "metadata": {},
   "source": [
    "# Complex Feature Engineering Greatly Improves UsedCarPrice Prediction"
   ]
  },
  {
   "cell_type": "markdown",
   "metadata": {},
   "source": [
    "## Contents\n",
    "\n",
    " - Section A\tIntroduction \n",
    " - Section B\tLibraries\n",
    " - Section C\tData\n",
    " - Section D\tEDA\n",
    " - Section E\tMetrics & Baselines\n",
    " - Section F\tFeature Engineering\n",
    " - Section G\tModel Engineering\n",
    " - Section H\tEvaluation\n",
    " - Section I\tFinal Report"
   ]
  },
  {
   "cell_type": "markdown",
   "metadata": {},
   "source": [
    "## Section A: Introduction"
   ]
  },
  {
   "cell_type": "markdown",
   "metadata": {},
   "source": [
    "### A1) Summary\n",
    "\n",
    "Spectacularly interesting results emerge after complex feature engineering the features of Used Car Prices dataset.\n",
    "\n",
    "    1. Modeling with the newly engineered features demonstrate 20% reduction in RMSE error compared to modeling with the original features in the dataset. There is a remarkable ~50% reduction in Random Forest RMSE error. Linear Regression Model's RMSE error, training and test accuracy all show an ~30% improvement. Random Forest Test Accuracy shot up to 90%!\n",
    "\n",
    "    2. What also standsout is the fact that a whole different set of features emerge as the most important ones driving price prediction. Engineered Features like State Purchasing Parity (externally sourced) & Model numerical value stole the show.\n",
    "\n",
    "    3. Quite some interesting work went into applying extracting information from 'messy' model feature with NLP and in referencing external data for numerical transformation of existing features."
   ]
  },
  {
   "cell_type": "markdown",
   "metadata": {},
   "source": [
    "### A2) Project Hypothesis\n",
    "\n",
    "My hypothesis is new features engineering will have a significant impact on improving the predictive abilities of both regression and classification models. The idea is to start with a a huge data set with complex numerical and categorical features where the model performance is not good to begin with. I will use the features in the dataset to engineer new features by applying a range of techniques from Natural Language Processing to Numerical Transformations. The baseline performance of multiple Machine Learn modeling on pre-feature-engineeded data will be compared against the model performance on the pre-feature-engineeded data to prove my hypothesis."
   ]
  },
  {
   "cell_type": "markdown",
   "metadata": {},
   "source": [
    "### A3) Data\n",
    "\n",
    "The dataset I chose is the Used Car Price prediction data set that contain ~420K records of user car sales price information.\n",
    "\n",
    "Features include:\n",
    "    \n",
    "1. Car make, model, manufacturer, YEAR of manufacture\n",
    "2. Car specifications: ODOMETER reading, type, VIN, cyclinder, transmission, fuel type\n",
    "3. Car status: title, condition\n",
    "4. State and Region of sale\n",
    "\n",
    "Target is PRICE\n",
    "\n",
    "(upper case features are numeric)"
   ]
  },
  {
   "cell_type": "markdown",
   "metadata": {},
   "source": [
    "## Section B: Libraries\n",
    "\n",
    "This section has the needed python libraries and my customer defined AI/ML functions"
   ]
  },
  {
   "cell_type": "markdown",
   "metadata": {},
   "source": [
    "### B1) Generic Libraries"
   ]
  },
  {
   "cell_type": "code",
   "execution_count": 117,
   "metadata": {
    "scrolled": false
   },
   "outputs": [],
   "source": [
    "# data structures\n",
    "import pandas as pd\n",
    "import numpy as np\n",
    "\n",
    "# my folder path\n",
    "from pathlib import Path\n",
    "myfolder = Path(\"C:/Users/pdpc/Documents/MLfiles/Data/\")\n",
    "BerkAIdatafolder = Path(\"C:/Users/pdpc/Documents/MLfiles/Data/berkAIdata/\")\n",
    "\n",
    "# for timing program run\n",
    "import time\n",
    "\n",
    "# graphs\n",
    "import seaborn as sns\n",
    "from pylab import rcParams\n",
    "import matplotlib.pyplot as plt\n",
    "%matplotlib inline\n",
    "\n",
    "# train/test split\n",
    "from sklearn.model_selection import train_test_split\n",
    "\n",
    "# supress warning\n",
    "import warnings\n",
    "warnings.filterwarnings(\"ignore\")\n",
    "from sklearn.exceptions import DataConversionWarning, ConvergenceWarning\n",
    "warnings.filterwarnings(action='ignore', category=DataConversionWarning)\n",
    "warnings.filterwarnings(action='ignore', category=ConvergenceWarning)\n",
    "from sklearn.exceptions import FitFailedWarning \n",
    "\n",
    "# code to overcome my system specific errors\n",
    "# patch for overcoming 'float' error in nump 24.1v\n",
    "np.float = float    \n",
    "np.int = int   #module 'numpy' has no attribute 'int'\n",
    "np.object = object    #module 'numpy' has no attribute 'object'\n",
    "np.bool = bool    #module 'numpy' has no attribute 'bool'\n",
    "\n",
    "# Reg models\n",
    "from sklearn.neighbors import KNeighborsRegressor\n",
    "from sklearn.ensemble import  RandomForestRegressor\n",
    "from sklearn.linear_model import LinearRegression\n",
    "from sklearn.ensemble import  GradientBoostingRegressor\n",
    "from sklearn.tree import DecisionTreeRegressor\n",
    "\n",
    "\n",
    "# ColTransf / Pipeline / GridSearch\n",
    "from sklearn.impute import SimpleImputer\n",
    "from sklearn.preprocessing import StandardScaler, MinMaxScaler, OrdinalEncoder, LabelEncoder\n",
    "from sklearn.preprocessing import OneHotEncoder\n",
    "from sklearn.compose import ColumnTransformer\n",
    "from sklearn.pipeline import Pipeline\n",
    "from sklearn.model_selection import GridSearchCV\n",
    "\n",
    "# evaluation libs\n",
    "from sklearn.metrics import r2_score\n",
    "from sklearn.metrics import mean_squared_error, mean_absolute_error\n",
    "from sklearn.model_selection import cross_val_score, KFold"
   ]
  },
  {
   "cell_type": "markdown",
   "metadata": {},
   "source": [
    "### B2) ZSRV - Sravan Katragadda custom Libraries\n",
    "\n",
    "These are my custom defined functions I have developed my years of learning and working in AI & ML"
   ]
  },
  {
   "cell_type": "code",
   "execution_count": 5,
   "metadata": {},
   "outputs": [],
   "source": [
    "# zsrv function for quick data analyis\n",
    "\n",
    "def data_quickanalysis(df):\n",
    "    print('Quick Data Analysis')\n",
    "    print(\"Dataset shape:  \",df.shape)\n",
    "    print(\"Dataset size:   \",df.size)\n",
    "    print(\"# of columns with numerical features  :   \",len(df.select_dtypes(include=['int64', 'float64']).columns.values))\n",
    "    print(\"# of columns with categorical features:   \",len(df.select_dtypes(include=['object', 'category']).columns.values))\n",
    "    \n",
    "    num_features = list(df.select_dtypes(include=['int64', 'float64']).columns.values)\n",
    "    cat_features = list(df.select_dtypes(include=['object', 'category','bool']).columns.values)\n",
    "    #This is a check to see if any features are being missed out\n",
    "    oth_features = list(set(df.columns.tolist()) - set(num_features) - set(cat_features))\n",
    "    \n",
    "    print('Numerical features:', num_features)\n",
    "    print('Categorical features:', cat_features)\n",
    "    print('non-num/non-cat features:', oth_features)\n",
    "    print()\n",
    "    \n",
    "def info_df(df):\n",
    "    \n",
    "    # io module provides tools for working with text I/O, binary I/O, and raw I/O\n",
    "    import io\n",
    "    # Create a buffer to capture the output of df.info()\n",
    "    buffer = io.StringIO()\n",
    "    df.info(buf=buffer)\n",
    "    s = buffer.getvalue()\n",
    "    # Parse the captured text into a DataFrame\n",
    "    info_lines = s.split('\\n')\n",
    "    info_data = [line.split(maxsplit=4) for line in info_lines[5:-3]]\n",
    "    columns = ['#', 'column', '# of non-nulls', 'non-null', 'Data Type']\n",
    "    info_df = pd.DataFrame(info_data, columns=columns)\n",
    "    \n",
    "    \n",
    "    info_df['# of non-nulls'] = info_df['# of non-nulls'].astype('int64')\n",
    "    s = df.shape[0]\n",
    "    info_df['# of nulls'] = s - info_df['# of non-nulls']\n",
    "    info_df['% of nulls'] = round((info_df['# of nulls'] / s * 100),1)\n",
    "    \n",
    "    info_df = info_df.reset_index()\n",
    "    info_df.index = range(1, len(info_df) + 1)\n",
    "    info_df = info_df[['column','Data Type','# of nulls','% of nulls']]\n",
    "    \n",
    "    return(info_df)"
   ]
  },
  {
   "cell_type": "code",
   "execution_count": 6,
   "metadata": {
    "scrolled": false
   },
   "outputs": [],
   "source": [
    "# zsrv function for getting null values information\n",
    "\n",
    "def nulls_info(df):    \n",
    "\n",
    "    # getting df with null info\n",
    "    datasetsize = df.shape[0]\n",
    "    df_nullinfo = pd.DataFrame(df.isna().sum(),columns=['# of Null Values'])\n",
    "    df_nullinfo['% of Null Values'] = (df_nullinfo['# of Null Values'] / datasetsize * 100).round(1)\n",
    "    return df_nullinfo\n",
    "\n",
    "# --------------------------------------------------------------------------------------------------\n",
    "\n",
    "def nulls_remove(df):\n",
    "    \n",
    "    pre_size = df.shape[0]\n",
    "    # Removing rows with null values\n",
    "    df.dropna(inplace=True)\n",
    "    post_size = df.shape[0]\n",
    "    print('Data loss in removing nulls:', \"%.2f\" % (100-(post_size / pre_size * 100)) , '%')\n",
    "    return df\n",
    "\n",
    "# --------------------------------------------------------------------------------------------------\n",
    "\n",
    "def nulls_impute(df):\n",
    "    \n",
    "    num_features = list(df.select_dtypes(include=['int64', 'float64']).columns.values)\n",
    "    cat_features = list(df.select_dtypes(include=['object', 'category','bool']).columns.values)\n",
    "    print(f'There are {len(num_features)} numerical features and {len(cat_features)} categorical features in {datasetname} dataset')\n",
    "    # Define imputers\n",
    "    numerical_imputer = SimpleImputer(strategy='mean')\n",
    "    categorical_imputer = SimpleImputer(strategy='constant',fill_value='missing')\n",
    "    # Numerical Values Imputation\n",
    "    df[num_features] = numerical_imputer.fit_transform(df[num_features])\n",
    "    # Categorical Values Imputation\n",
    "    df[cat_features] = categorical_imputer.fit_transform(df[cat_features])\n",
    "    # return df\n",
    "    return df\n",
    "\n",
    "def IQRoutliers_info(df):\n",
    "    \n",
    "    # get Data Loss %\n",
    "    '''df1 = df\n",
    "    pre_size = df1.shape[0]\n",
    "    \n",
    "    for col in df1.select_dtypes(include=['float64', 'int64']).columns.tolist():\n",
    "        q1 = df1[col].quantile(0.25)\n",
    "        q3 = df1[col].quantile(0.75)\n",
    "        iqr = q3 - q1\n",
    "        lower_bound = q1 - 1.5 * iqr\n",
    "        upper_bound = q3 + 1.5 * iqr\n",
    "        df1 = df1[(df1[col] >= lower_bound) & (df1[col] <= upper_bound)]\n",
    "    \n",
    "    post_size = df1.shape[0]\n",
    "    print('Data loss in removing nulls:', \"%.2f\" % (100-(post_size / pre_size * 100)) , '%')\n",
    "    '''\n",
    "    \n",
    "    # get only numerical columns\n",
    "    df = df.select_dtypes(include=['number'])\n",
    "    \n",
    "    # getting df with outlier info\n",
    "    datasetsize = df.shape[0]\n",
    "    Q1 = df.quantile(0.25)\n",
    "    Q3 = df.quantile(0.75)\n",
    "    IQR = Q3 - Q1\n",
    "    df_IQRoutliersinfo = pd.DataFrame(((df < (Q1 - 1.5 * IQR)) | (df > (Q3 + 1.5 * IQR))).sum(),columns=['# of Outliers'])\n",
    "    df_IQRoutliersinfo['% Outliers'] = (df_IQRoutliersinfo['# of Outliers'] / datasetsize * 100).round(1)\n",
    "    return df_IQRoutliersinfo\n",
    "\n",
    "def IQRoutliers_remove(df):\n",
    "    \n",
    "    # get Data Loss %\n",
    "    pre_size = df.shape[0]\n",
    "    \n",
    "    for col in df.select_dtypes(include=['float64', 'int64']).columns.tolist():\n",
    "        q1 = df[col].quantile(0.25)\n",
    "        q3 = df[col].quantile(0.75)\n",
    "        iqr = q3 - q1\n",
    "        lower_bound = q1 - 1.5 * iqr\n",
    "        upper_bound = q3 + 1.5 * iqr\n",
    "        df = df[(df[col] >= lower_bound) & (df[col] <= upper_bound)]\n",
    "    \n",
    "    post_size = df.shape[0]\n",
    "    print('Data loss in removing IQQ outliers:', \"%.2f\" % (100-(post_size / pre_size * 100)) , '%')\n",
    "    return df\n",
    "\n",
    "# --------------------------------------------------------------------------------------------------\n",
    "\n",
    "# zsrv function to get highly correlated features\n",
    "def get_high_correlated_features(df):\n",
    "    \n",
    "    # Calculate the correlation matrix\n",
    "    corr_matrix = df.corr()\n",
    "    # Remove duplicate values and keep the upper triangle\n",
    "    corr_matrix_upper = corr_matrix.where(np.triu(np.ones(corr_matrix.shape), k=1).astype(bool))\n",
    "    \n",
    "    # Flatten the matrix and drop NA values (diagonal values)\n",
    "    corrdf = corr_matrix_upper.stack().reset_index()\n",
    "    corrdf.columns = ['Feature 1', 'Feature 2', 'PearsonCorrCoef']\n",
    "    high_corrdf = corrdf[(corrdf['PearsonCorrCoef'] <= -0.7)]\n",
    "    high_corrdf = corrdf[(corrdf['PearsonCorrCoef'] >= 0.7)]\n",
    "    \n",
    "    print(f'There are {len(high_corrdf)} feature combinations that are HIGHLY correlated by Pearson Correlation Coefficient')\n",
    "    p = len(high_corrdf.query('PearsonCorrCoef > 0.7'))\n",
    "    print(f'There are {p} feature combinations that are HIGHLY positively correlated by Pearson Correlation Coefficient')\n",
    "    n = len(high_corrdf.query('PearsonCorrCoef < -0.7'))\n",
    "    print(f'There are {n} feature combinations that are HIGHLY negatively correlated by Pearson Correlation Coefficient')\n",
    "    \n",
    "    return filt_corrdf\n",
    "\n",
    "# --------------------------------------------------------------------------------------------------"
   ]
  },
  {
   "cell_type": "code",
   "execution_count": 224,
   "metadata": {
    "scrolled": false
   },
   "outputs": [],
   "source": [
    "# My custom function for Preprocessing X\n",
    "\n",
    "def preprocessX(A):\n",
    "    \n",
    "    # features\n",
    "    num_all_features = list(A.select_dtypes(include=['int64', 'float64']).columns.values)\n",
    "    cat_all_features = list(A.select_dtypes(include=['object', 'category','bool']).columns.values)\n",
    "\n",
    "    # Numerical Transformation\n",
    "    num_transform = Pipeline (steps=[\n",
    "                    ('imp', SimpleImputer(strategy='median')),\n",
    "                    ('mms', MinMaxScaler())\n",
    "                    ])\n",
    "\n",
    "    # Categorical Operations\n",
    "    cat_transform = Pipeline (steps=[\n",
    "                    ('imp', SimpleImputer(strategy='constant',fill_value='missing')),\n",
    "                    ('ore', OrdinalEncoder())\n",
    "                    ])\n",
    "\n",
    "    # Column Transformer (CT)\n",
    "    preprocessor = ColumnTransformer(transformers=[\n",
    "                    ('num_tran', num_transform, num_all_features),\n",
    "                    ('cat_tran', cat_transform, cat_all_features),\n",
    "                    ])\n",
    "    \n",
    "    B = preprocessor.fit_transform(A)\n",
    "    return(B)"
   ]
  },
  {
   "cell_type": "code",
   "execution_count": 269,
   "metadata": {},
   "outputs": [],
   "source": [
    "# My Custom Function Module for Regression: Training & Evaluation\n",
    "\n",
    "def evalR(X,y):\n",
    "    \n",
    "    # train/test split\n",
    "    from sklearn.model_selection import train_test_split\n",
    "    \n",
    "    # train/test split\n",
    "    X_train, X_test, y_train, y_test = train_test_split(X, y, test_size = 0.2)\n",
    "    \n",
    "    models = [LinearRegression(),KNeighborsRegressor(),DecisionTreeRegressor(),GradientBoostingRegressor()]\n",
    "    names  = ['Lin','KNN','DEC','GBR']\n",
    "    \n",
    "    RMSE = []\n",
    "    Acc_Train = []\n",
    "    Acc_Test = []\n",
    "    \n",
    "    for model,name in zip(models,names):\n",
    "        \n",
    "        tik = time.time()\n",
    "        \n",
    "        model.fit(X_train, y_train)\n",
    "        y_pred = model.predict(X_test)\n",
    "        \n",
    "        mse = mean_squared_error(y_test, y_pred)\n",
    "        rmse = np.sqrt(mse)\n",
    "        RMSE.append(\"%.2f\" % np.sqrt(mse))\n",
    "\n",
    "        Acc_Train.append(\"%.4f\" % model.score(X_train, y_train))\n",
    "        Acc_Test.append(\"%.4f\" % model.score(X_test, y_test))\n",
    "        \n",
    "        tok = time.time()\n",
    "        print(name, 'run time:' , '%.1f' % (tok-tik) , 'seconds')\n",
    "\n",
    "\n",
    "    # Getting results of Evaluation into a DF\n",
    "    R1 = pd.DataFrame({'RMSE': RMSE, 'Acc_Train':Acc_Train,'Acc_Test/R2':Acc_Test,})\n",
    "    R2 = R1.T\n",
    "    R2.columns = names\n",
    "\n",
    "    return(R2)"
   ]
  },
  {
   "cell_type": "markdown",
   "metadata": {},
   "source": [
    "# Section C: Data\n",
    "\n",
    "In this section data is extracted from the source and details of the data are provided"
   ]
  },
  {
   "cell_type": "markdown",
   "metadata": {},
   "source": [
    "### C1) Getting Data from source"
   ]
  },
  {
   "cell_type": "code",
   "execution_count": 90,
   "metadata": {
    "scrolled": false
   },
   "outputs": [
    {
     "data": {
      "text/html": [
       "<div>\n",
       "<style scoped>\n",
       "    .dataframe tbody tr th:only-of-type {\n",
       "        vertical-align: middle;\n",
       "    }\n",
       "\n",
       "    .dataframe tbody tr th {\n",
       "        vertical-align: top;\n",
       "    }\n",
       "\n",
       "    .dataframe thead th {\n",
       "        text-align: right;\n",
       "    }\n",
       "</style>\n",
       "<table border=\"1\" class=\"dataframe\">\n",
       "  <thead>\n",
       "    <tr style=\"text-align: right;\">\n",
       "      <th></th>\n",
       "      <th>id</th>\n",
       "      <th>region</th>\n",
       "      <th>price</th>\n",
       "      <th>year</th>\n",
       "      <th>manufacturer</th>\n",
       "      <th>model</th>\n",
       "      <th>condition</th>\n",
       "      <th>cylinders</th>\n",
       "      <th>fuel</th>\n",
       "      <th>odometer</th>\n",
       "      <th>title_status</th>\n",
       "      <th>transmission</th>\n",
       "      <th>VIN</th>\n",
       "      <th>drive</th>\n",
       "      <th>size</th>\n",
       "      <th>type</th>\n",
       "      <th>paint_color</th>\n",
       "      <th>state</th>\n",
       "    </tr>\n",
       "  </thead>\n",
       "  <tbody>\n",
       "    <tr>\n",
       "      <th>152161</th>\n",
       "      <td>7311409711</td>\n",
       "      <td>indianapolis</td>\n",
       "      <td>33990</td>\n",
       "      <td>2012.0</td>\n",
       "      <td>ford</td>\n",
       "      <td>super duty f-250 srw</td>\n",
       "      <td>good</td>\n",
       "      <td>8 cylinders</td>\n",
       "      <td>diesel</td>\n",
       "      <td>49678.0</td>\n",
       "      <td>clean</td>\n",
       "      <td>automatic</td>\n",
       "      <td>1FTBF2BT2CEA75283</td>\n",
       "      <td>4wd</td>\n",
       "      <td>full-size</td>\n",
       "      <td>truck</td>\n",
       "      <td>white</td>\n",
       "      <td>in</td>\n",
       "    </tr>\n",
       "    <tr>\n",
       "      <th>131228</th>\n",
       "      <td>7315928882</td>\n",
       "      <td>boise</td>\n",
       "      <td>18995</td>\n",
       "      <td>2015.0</td>\n",
       "      <td>audi</td>\n",
       "      <td>q5</td>\n",
       "      <td>NaN</td>\n",
       "      <td>6 cylinders</td>\n",
       "      <td>gas</td>\n",
       "      <td>88033.0</td>\n",
       "      <td>clean</td>\n",
       "      <td>automatic</td>\n",
       "      <td>NaN</td>\n",
       "      <td>4wd</td>\n",
       "      <td>mid-size</td>\n",
       "      <td>SUV</td>\n",
       "      <td>grey</td>\n",
       "      <td>id</td>\n",
       "    </tr>\n",
       "    <tr>\n",
       "      <th>3557</th>\n",
       "      <td>7304727682</td>\n",
       "      <td>huntsville / decatur</td>\n",
       "      <td>10500</td>\n",
       "      <td>2012.0</td>\n",
       "      <td>chevrolet</td>\n",
       "      <td>silverado 1500</td>\n",
       "      <td>good</td>\n",
       "      <td>NaN</td>\n",
       "      <td>gas</td>\n",
       "      <td>230000.0</td>\n",
       "      <td>clean</td>\n",
       "      <td>automatic</td>\n",
       "      <td>NaN</td>\n",
       "      <td>NaN</td>\n",
       "      <td>NaN</td>\n",
       "      <td>NaN</td>\n",
       "      <td>NaN</td>\n",
       "      <td>al</td>\n",
       "    </tr>\n",
       "    <tr>\n",
       "      <th>179915</th>\n",
       "      <td>7310081006</td>\n",
       "      <td>maine</td>\n",
       "      <td>44995</td>\n",
       "      <td>2017.0</td>\n",
       "      <td>gmc</td>\n",
       "      <td>sierra</td>\n",
       "      <td>like new</td>\n",
       "      <td>NaN</td>\n",
       "      <td>gas</td>\n",
       "      <td>77593.0</td>\n",
       "      <td>clean</td>\n",
       "      <td>automatic</td>\n",
       "      <td>NaN</td>\n",
       "      <td>4wd</td>\n",
       "      <td>NaN</td>\n",
       "      <td>NaN</td>\n",
       "      <td>NaN</td>\n",
       "      <td>me</td>\n",
       "    </tr>\n",
       "    <tr>\n",
       "      <th>101774</th>\n",
       "      <td>7303130106</td>\n",
       "      <td>lakeland</td>\n",
       "      <td>14990</td>\n",
       "      <td>2011.0</td>\n",
       "      <td>infiniti</td>\n",
       "      <td>qx56</td>\n",
       "      <td>excellent</td>\n",
       "      <td>8 cylinders</td>\n",
       "      <td>gas</td>\n",
       "      <td>164623.0</td>\n",
       "      <td>clean</td>\n",
       "      <td>automatic</td>\n",
       "      <td>JN8AZ2NF5B9500533</td>\n",
       "      <td>rwd</td>\n",
       "      <td>full-size</td>\n",
       "      <td>SUV</td>\n",
       "      <td>brown</td>\n",
       "      <td>fl</td>\n",
       "    </tr>\n",
       "  </tbody>\n",
       "</table>\n",
       "</div>"
      ],
      "text/plain": [
       "                id                region  price    year manufacturer  \\\n",
       "152161  7311409711          indianapolis  33990  2012.0         ford   \n",
       "131228  7315928882                 boise  18995  2015.0         audi   \n",
       "3557    7304727682  huntsville / decatur  10500  2012.0    chevrolet   \n",
       "179915  7310081006                 maine  44995  2017.0          gmc   \n",
       "101774  7303130106              lakeland  14990  2011.0     infiniti   \n",
       "\n",
       "                       model  condition    cylinders    fuel  odometer  \\\n",
       "152161  super duty f-250 srw       good  8 cylinders  diesel   49678.0   \n",
       "131228                    q5        NaN  6 cylinders     gas   88033.0   \n",
       "3557          silverado 1500       good          NaN     gas  230000.0   \n",
       "179915                sierra   like new          NaN     gas   77593.0   \n",
       "101774                  qx56  excellent  8 cylinders     gas  164623.0   \n",
       "\n",
       "       title_status transmission                VIN drive       size   type  \\\n",
       "152161        clean    automatic  1FTBF2BT2CEA75283   4wd  full-size  truck   \n",
       "131228        clean    automatic                NaN   4wd   mid-size    SUV   \n",
       "3557          clean    automatic                NaN   NaN        NaN    NaN   \n",
       "179915        clean    automatic                NaN   4wd        NaN    NaN   \n",
       "101774        clean    automatic  JN8AZ2NF5B9500533   rwd  full-size    SUV   \n",
       "\n",
       "       paint_color state  \n",
       "152161       white    in  \n",
       "131228        grey    id  \n",
       "3557           NaN    al  \n",
       "179915         NaN    me  \n",
       "101774       brown    fl  "
      ]
     },
     "execution_count": 90,
     "metadata": {},
     "output_type": "execute_result"
    }
   ],
   "source": [
    "rawdata = pd.read_csv(BerkAIdatafolder / 'vehicles.csv')\n",
    "\n",
    "datasetname = 'UsedCarsPrices'\n",
    "\n",
    "rawdata.sample(5)"
   ]
  },
  {
   "cell_type": "code",
   "execution_count": null,
   "metadata": {},
   "outputs": [],
   "source": []
  },
  {
   "cell_type": "markdown",
   "metadata": {},
   "source": [
    "### C2) raw data analyis\n",
    "\n",
    "my custom module for quick data analysis of raw data"
   ]
  },
  {
   "cell_type": "code",
   "execution_count": 91,
   "metadata": {},
   "outputs": [
    {
     "name": "stdout",
     "output_type": "stream",
     "text": [
      "Quick Data Analysis\n",
      "Dataset shape:   (426880, 18)\n",
      "Dataset size:    7683840\n",
      "# of columns with numerical features  :    4\n",
      "# of columns with categorical features:    14\n",
      "Numerical features: ['id', 'price', 'year', 'odometer']\n",
      "Categorical features: ['region', 'manufacturer', 'model', 'condition', 'cylinders', 'fuel', 'title_status', 'transmission', 'VIN', 'drive', 'size', 'type', 'paint_color', 'state']\n",
      "non-num/non-cat features: []\n",
      "\n"
     ]
    }
   ],
   "source": [
    "data_quickanalysis(rawdata)"
   ]
  },
  {
   "cell_type": "markdown",
   "metadata": {},
   "source": [
    "### C3) Column data curation\n",
    "\n",
    "Here only columns will be modified and there will be no change to rows.\n",
    "\n",
    "End product is neat meaningful columns.\n",
    "\n",
    " 1. drop irrelevant columns \n",
    " 2. column names handling\n",
    " 3. columns sort"
   ]
  },
  {
   "cell_type": "code",
   "execution_count": 359,
   "metadata": {},
   "outputs": [
    {
     "name": "stdout",
     "output_type": "stream",
     "text": [
      "(426880, 16)\n"
     ]
    },
    {
     "data": {
      "text/html": [
       "<div>\n",
       "<style scoped>\n",
       "    .dataframe tbody tr th:only-of-type {\n",
       "        vertical-align: middle;\n",
       "    }\n",
       "\n",
       "    .dataframe tbody tr th {\n",
       "        vertical-align: top;\n",
       "    }\n",
       "\n",
       "    .dataframe thead th {\n",
       "        text-align: right;\n",
       "    }\n",
       "</style>\n",
       "<table border=\"1\" class=\"dataframe\">\n",
       "  <thead>\n",
       "    <tr style=\"text-align: right;\">\n",
       "      <th></th>\n",
       "      <th>price</th>\n",
       "      <th>year</th>\n",
       "      <th>odometer</th>\n",
       "      <th>manufacturer</th>\n",
       "      <th>model</th>\n",
       "      <th>cylinders</th>\n",
       "      <th>fuel</th>\n",
       "      <th>transmission</th>\n",
       "      <th>drive</th>\n",
       "      <th>condition</th>\n",
       "      <th>title_status</th>\n",
       "      <th>type</th>\n",
       "      <th>size</th>\n",
       "      <th>paint_color</th>\n",
       "      <th>VIN</th>\n",
       "      <th>state</th>\n",
       "    </tr>\n",
       "  </thead>\n",
       "  <tbody>\n",
       "    <tr>\n",
       "      <th>134226</th>\n",
       "      <td>48988</td>\n",
       "      <td>2020.0</td>\n",
       "      <td>7164.0</td>\n",
       "      <td>gmc</td>\n",
       "      <td>sierra elevation</td>\n",
       "      <td>8 cylinders</td>\n",
       "      <td>gas</td>\n",
       "      <td>automatic</td>\n",
       "      <td>4wd</td>\n",
       "      <td>like new</td>\n",
       "      <td>clean</td>\n",
       "      <td>pickup</td>\n",
       "      <td>full-size</td>\n",
       "      <td>white</td>\n",
       "      <td>3GTP9CEK9LG398079</td>\n",
       "      <td>id</td>\n",
       "    </tr>\n",
       "    <tr>\n",
       "      <th>113595</th>\n",
       "      <td>6595</td>\n",
       "      <td>2010.0</td>\n",
       "      <td>85600.0</td>\n",
       "      <td>buick</td>\n",
       "      <td>lucerne cxl</td>\n",
       "      <td>6 cylinders</td>\n",
       "      <td>gas</td>\n",
       "      <td>automatic</td>\n",
       "      <td>fwd</td>\n",
       "      <td>excellent</td>\n",
       "      <td>clean</td>\n",
       "      <td>sedan</td>\n",
       "      <td>full-size</td>\n",
       "      <td>custom</td>\n",
       "      <td>1G4HC5EM6AU131958</td>\n",
       "      <td>fl</td>\n",
       "    </tr>\n",
       "    <tr>\n",
       "      <th>399363</th>\n",
       "      <td>3900</td>\n",
       "      <td>2007.0</td>\n",
       "      <td>121078.0</td>\n",
       "      <td>nissan</td>\n",
       "      <td>quest</td>\n",
       "      <td>6 cylinders</td>\n",
       "      <td>gas</td>\n",
       "      <td>automatic</td>\n",
       "      <td>fwd</td>\n",
       "      <td>excellent</td>\n",
       "      <td>clean</td>\n",
       "      <td>van</td>\n",
       "      <td>mid-size</td>\n",
       "      <td>black</td>\n",
       "      <td>5N1BV28U77N121078</td>\n",
       "      <td>va</td>\n",
       "    </tr>\n",
       "    <tr>\n",
       "      <th>254141</th>\n",
       "      <td>4850</td>\n",
       "      <td>2009.0</td>\n",
       "      <td>180213.0</td>\n",
       "      <td>honda</td>\n",
       "      <td>odyssey ex-l</td>\n",
       "      <td>6 cylinders</td>\n",
       "      <td>gas</td>\n",
       "      <td>automatic</td>\n",
       "      <td>fwd</td>\n",
       "      <td>excellent</td>\n",
       "      <td>clean</td>\n",
       "      <td>mini-van</td>\n",
       "      <td>full-size</td>\n",
       "      <td>red</td>\n",
       "      <td>5NMSG13D58H154997</td>\n",
       "      <td>nj</td>\n",
       "    </tr>\n",
       "    <tr>\n",
       "      <th>373043</th>\n",
       "      <td>33995</td>\n",
       "      <td>2017.0</td>\n",
       "      <td>91250.0</td>\n",
       "      <td>chevrolet</td>\n",
       "      <td>silverado 1500</td>\n",
       "      <td>8 cylinders</td>\n",
       "      <td>gas</td>\n",
       "      <td>automatic</td>\n",
       "      <td>rwd</td>\n",
       "      <td>excellent</td>\n",
       "      <td>clean</td>\n",
       "      <td>pickup</td>\n",
       "      <td>full-size</td>\n",
       "      <td>blue</td>\n",
       "      <td>3GCPCREC8HG113330</td>\n",
       "      <td>tx</td>\n",
       "    </tr>\n",
       "  </tbody>\n",
       "</table>\n",
       "</div>"
      ],
      "text/plain": [
       "        price    year  odometer manufacturer             model    cylinders  \\\n",
       "134226  48988  2020.0    7164.0          gmc  sierra elevation  8 cylinders   \n",
       "113595   6595  2010.0   85600.0        buick       lucerne cxl  6 cylinders   \n",
       "399363   3900  2007.0  121078.0       nissan             quest  6 cylinders   \n",
       "254141   4850  2009.0  180213.0        honda      odyssey ex-l  6 cylinders   \n",
       "373043  33995  2017.0   91250.0    chevrolet    silverado 1500  8 cylinders   \n",
       "\n",
       "       fuel transmission drive  condition title_status      type       size  \\\n",
       "134226  gas    automatic   4wd   like new        clean    pickup  full-size   \n",
       "113595  gas    automatic   fwd  excellent        clean     sedan  full-size   \n",
       "399363  gas    automatic   fwd  excellent        clean       van   mid-size   \n",
       "254141  gas    automatic   fwd  excellent        clean  mini-van  full-size   \n",
       "373043  gas    automatic   rwd  excellent        clean    pickup  full-size   \n",
       "\n",
       "       paint_color                VIN state  \n",
       "134226       white  3GTP9CEK9LG398079    id  \n",
       "113595      custom  1G4HC5EM6AU131958    fl  \n",
       "399363       black  5N1BV28U77N121078    va  \n",
       "254141         red  5NMSG13D58H154997    nj  \n",
       "373043        blue  3GCPCREC8HG113330    tx  "
      ]
     },
     "execution_count": 359,
     "metadata": {},
     "output_type": "execute_result"
    }
   ],
   "source": [
    "data = rawdata\n",
    "\n",
    "# 1) removing obviously irrelevant columns\n",
    "drop_col = ['id','region']\n",
    "data = data.drop(drop_col, axis=1, errors='ignore')\n",
    "\n",
    "# 2) column names handling - rename, case handling\n",
    "data.columns = data.columns.str.lower()\n",
    "rename_dict = {'vin':'VIN'}\n",
    "data = data.rename(columns=rename_dict)\n",
    "\n",
    "# 3) columns sort \n",
    "y_column = ['price']\n",
    "num_features = ['year', 'odometer']\n",
    "cat_features = ['manufacturer','model','cylinders', 'fuel','transmission','drive',\n",
    "                'condition','title_status', 'type', 'size', 'paint_color', 'VIN', 'state']\n",
    "column_order = y_column + num_features + cat_features\n",
    "data = data[column_order]\n",
    "\n",
    "print(data.shape)\n",
    "data.dropna().sample(5)"
   ]
  },
  {
   "cell_type": "markdown",
   "metadata": {},
   "source": [
    "### C4) Handling duplicates\n",
    "\n",
    "Here I analyze duplicates, if any, and make decision on removing or retaining them"
   ]
  },
  {
   "cell_type": "code",
   "execution_count": 361,
   "metadata": {},
   "outputs": [
    {
     "name": "stdout",
     "output_type": "stream",
     "text": [
      "Duplicate rows: 127371\n",
      "29.84 percent of rows are duplicates\n"
     ]
    }
   ],
   "source": [
    "print('Duplicate rows:',data.duplicated().sum())\n",
    "print(\"%.2f\" % (data.duplicated().sum()/len(data)*100), 'percent of rows are duplicates')"
   ]
  },
  {
   "cell_type": "code",
   "execution_count": 362,
   "metadata": {},
   "outputs": [],
   "source": [
    "data = data.drop_duplicates()"
   ]
  },
  {
   "cell_type": "code",
   "execution_count": 363,
   "metadata": {},
   "outputs": [
    {
     "name": "stdout",
     "output_type": "stream",
     "text": [
      "Duplicate rows: 0\n",
      "0.00 percent of rows are duplicates\n"
     ]
    }
   ],
   "source": [
    "print('Duplicate rows:',data.duplicated().sum())\n",
    "print(\"%.2f\" % (data.duplicated().sum()/len(data)*100), 'percent of rows are duplicates')"
   ]
  },
  {
   "cell_type": "markdown",
   "metadata": {},
   "source": [
    "### C5) Handling outliers\n",
    "\n",
    "Here I analyze outliers, if any, and make decision on removing or retaining them\n",
    "\n",
    "I use my custom defined function for analysis and removal of IQR outliers"
   ]
  },
  {
   "cell_type": "code",
   "execution_count": 364,
   "metadata": {},
   "outputs": [
    {
     "name": "stdout",
     "output_type": "stream",
     "text": [
      "          # of Outliers  % Outliers\n",
      "price              7348         2.5\n",
      "year              12711         4.2\n",
      "odometer           3361         1.1\n",
      "Data loss in removing IQQ outliers: 9.01 %\n",
      "          # of Outliers  % Outliers\n",
      "price              1141         0.4\n",
      "year                833         0.3\n",
      "odometer             91         0.0\n"
     ]
    }
   ],
   "source": [
    "print(IQRoutliers_info(data))\n",
    "\n",
    "# Removing Outlier\n",
    "data = IQRoutliers_remove(data)\n",
    "\n",
    "print(IQRoutliers_info(data))"
   ]
  },
  {
   "cell_type": "code",
   "execution_count": 98,
   "metadata": {},
   "outputs": [
    {
     "data": {
      "text/plain": [
       "272528"
      ]
     },
     "execution_count": 98,
     "metadata": {},
     "output_type": "execute_result"
    }
   ],
   "source": [
    "a"
   ]
  },
  {
   "cell_type": "code",
   "execution_count": 366,
   "metadata": {},
   "outputs": [
    {
     "data": {
      "text/plain": [
       "<AxesSubplot:xlabel='price', ylabel='Count'>"
      ]
     },
     "execution_count": 366,
     "metadata": {},
     "output_type": "execute_result"
    },
    {
     "data": {
      "image/png": "[encoded data removed]",
      "text/plain": [
       "<Figure size 432x288 with 1 Axes>"
      ]
     },
     "metadata": {
      "needs_background": "light"
     },
     "output_type": "display_data"
    }
   ],
   "source": [
    "sns.histplot(data['price'], bins=10, kde=True)"
   ]
  },
  {
   "cell_type": "code",
   "execution_count": 365,
   "metadata": {},
   "outputs": [
    {
     "name": "stdout",
     "output_type": "stream",
     "text": [
      "data loss: 13.4 %\n"
     ]
    }
   ],
   "source": [
    "# Additionally the Price values are very skewed and has 0 values. Removing the Tail ends of the data wrt Pricing\n",
    "a = data.shape[0]\n",
    "data_clean = data[(data['price'] >= 1000) & (data['price'] <= 40000)]\n",
    "b = data_clean.shape[0]\n",
    "print('data loss:', \"%.1f\" %((a-b)/a*100),'%')"
   ]
  },
  {
   "cell_type": "code",
   "execution_count": 86,
   "metadata": {},
   "outputs": [
    {
     "data": {
      "text/plain": [
       "<AxesSubplot:xlabel='price', ylabel='Count'>"
      ]
     },
     "execution_count": 86,
     "metadata": {},
     "output_type": "execute_result"
    },
    {
     "data": {
      "image/png": "[encoded data removed]",
      "text/plain": [
       "<Figure size 432x288 with 1 Axes>"
      ]
     },
     "metadata": {
      "needs_background": "light"
     },
     "output_type": "display_data"
    }
   ],
   "source": [
    "sns.histplot(data_clean['price'], bins=10, kde=True)"
   ]
  },
  {
   "cell_type": "code",
   "execution_count": 106,
   "metadata": {},
   "outputs": [
    {
     "data": {
      "text/plain": [
       "price        15686.522516\n",
       "year          2011.527294\n",
       "odometer    100485.647151\n",
       "dtype: float64"
      ]
     },
     "execution_count": 106,
     "metadata": {},
     "output_type": "execute_result"
    }
   ],
   "source": [
    "data_clean.mean()"
   ]
  },
  {
   "cell_type": "code",
   "execution_count": 107,
   "metadata": {},
   "outputs": [
    {
     "data": {
      "text/plain": [
       "price       13348.0\n",
       "year         2013.0\n",
       "odometer    98043.0\n",
       "dtype: float64"
      ]
     },
     "execution_count": 107,
     "metadata": {},
     "output_type": "execute_result"
    }
   ],
   "source": [
    "data_clean.median()"
   ]
  },
  {
   "cell_type": "markdown",
   "metadata": {},
   "source": [
    "### C6) Handling nulls\n",
    "\n",
    "Here I analyze nulls, if any, and make decision on removing or retaining them\n",
    "\n",
    "I use my custom defined function for analysis and removal of nulls"
   ]
  },
  {
   "cell_type": "code",
   "execution_count": 108,
   "metadata": {},
   "outputs": [
    {
     "data": {
      "text/html": [
       "<div>\n",
       "<style scoped>\n",
       "    .dataframe tbody tr th:only-of-type {\n",
       "        vertical-align: middle;\n",
       "    }\n",
       "\n",
       "    .dataframe tbody tr th {\n",
       "        vertical-align: top;\n",
       "    }\n",
       "\n",
       "    .dataframe thead th {\n",
       "        text-align: right;\n",
       "    }\n",
       "</style>\n",
       "<table border=\"1\" class=\"dataframe\">\n",
       "  <thead>\n",
       "    <tr style=\"text-align: right;\">\n",
       "      <th></th>\n",
       "      <th>column</th>\n",
       "      <th>Data Type</th>\n",
       "      <th># of nulls</th>\n",
       "      <th>% of nulls</th>\n",
       "    </tr>\n",
       "  </thead>\n",
       "  <tbody>\n",
       "    <tr>\n",
       "      <th>1</th>\n",
       "      <td>price</td>\n",
       "      <td>int64</td>\n",
       "      <td>0</td>\n",
       "      <td>0.0</td>\n",
       "    </tr>\n",
       "    <tr>\n",
       "      <th>2</th>\n",
       "      <td>year</td>\n",
       "      <td>float64</td>\n",
       "      <td>0</td>\n",
       "      <td>0.0</td>\n",
       "    </tr>\n",
       "    <tr>\n",
       "      <th>3</th>\n",
       "      <td>odometer</td>\n",
       "      <td>float64</td>\n",
       "      <td>0</td>\n",
       "      <td>0.0</td>\n",
       "    </tr>\n",
       "    <tr>\n",
       "      <th>4</th>\n",
       "      <td>manufacturer</td>\n",
       "      <td>object</td>\n",
       "      <td>8570</td>\n",
       "      <td>3.1</td>\n",
       "    </tr>\n",
       "    <tr>\n",
       "      <th>5</th>\n",
       "      <td>model</td>\n",
       "      <td>object</td>\n",
       "      <td>2734</td>\n",
       "      <td>1.0</td>\n",
       "    </tr>\n",
       "    <tr>\n",
       "      <th>6</th>\n",
       "      <td>cylinders</td>\n",
       "      <td>object</td>\n",
       "      <td>105937</td>\n",
       "      <td>38.9</td>\n",
       "    </tr>\n",
       "    <tr>\n",
       "      <th>7</th>\n",
       "      <td>fuel</td>\n",
       "      <td>object</td>\n",
       "      <td>1335</td>\n",
       "      <td>0.5</td>\n",
       "    </tr>\n",
       "    <tr>\n",
       "      <th>8</th>\n",
       "      <td>transmission</td>\n",
       "      <td>object</td>\n",
       "      <td>1083</td>\n",
       "      <td>0.4</td>\n",
       "    </tr>\n",
       "    <tr>\n",
       "      <th>9</th>\n",
       "      <td>drive</td>\n",
       "      <td>object</td>\n",
       "      <td>79756</td>\n",
       "      <td>29.3</td>\n",
       "    </tr>\n",
       "    <tr>\n",
       "      <th>10</th>\n",
       "      <td>condition</td>\n",
       "      <td>object</td>\n",
       "      <td>102450</td>\n",
       "      <td>37.6</td>\n",
       "    </tr>\n",
       "    <tr>\n",
       "      <th>11</th>\n",
       "      <td>title_status</td>\n",
       "      <td>object</td>\n",
       "      <td>4065</td>\n",
       "      <td>1.5</td>\n",
       "    </tr>\n",
       "    <tr>\n",
       "      <th>12</th>\n",
       "      <td>type</td>\n",
       "      <td>object</td>\n",
       "      <td>60010</td>\n",
       "      <td>22.0</td>\n",
       "    </tr>\n",
       "    <tr>\n",
       "      <th>13</th>\n",
       "      <td>size</td>\n",
       "      <td>object</td>\n",
       "      <td>186753</td>\n",
       "      <td>68.5</td>\n",
       "    </tr>\n",
       "    <tr>\n",
       "      <th>14</th>\n",
       "      <td>paint_color</td>\n",
       "      <td>object</td>\n",
       "      <td>78377</td>\n",
       "      <td>28.8</td>\n",
       "    </tr>\n",
       "    <tr>\n",
       "      <th>15</th>\n",
       "      <td>VIN</td>\n",
       "      <td>object</td>\n",
       "      <td>112638</td>\n",
       "      <td>41.3</td>\n",
       "    </tr>\n",
       "    <tr>\n",
       "      <th>16</th>\n",
       "      <td>state</td>\n",
       "      <td>object</td>\n",
       "      <td>0</td>\n",
       "      <td>0.0</td>\n",
       "    </tr>\n",
       "  </tbody>\n",
       "</table>\n",
       "</div>"
      ],
      "text/plain": [
       "          column Data Type  # of nulls  % of nulls\n",
       "1          price   int64             0         0.0\n",
       "2           year   float64           0         0.0\n",
       "3       odometer   float64           0         0.0\n",
       "4   manufacturer   object         8570         3.1\n",
       "5          model   object         2734         1.0\n",
       "6      cylinders   object       105937        38.9\n",
       "7           fuel   object         1335         0.5\n",
       "8   transmission   object         1083         0.4\n",
       "9          drive   object        79756        29.3\n",
       "10     condition   object       102450        37.6\n",
       "11  title_status   object         4065         1.5\n",
       "12          type   object        60010        22.0\n",
       "13          size   object       186753        68.5\n",
       "14   paint_color   object        78377        28.8\n",
       "15           VIN   object       112638        41.3\n",
       "16         state   object            0         0.0"
      ]
     },
     "execution_count": 108,
     "metadata": {},
     "output_type": "execute_result"
    }
   ],
   "source": [
    "info_df(data)"
   ]
  },
  {
   "cell_type": "code",
   "execution_count": 367,
   "metadata": {},
   "outputs": [
    {
     "data": {
      "text/plain": [
       "(221640, 16)"
      ]
     },
     "execution_count": 367,
     "metadata": {},
     "output_type": "execute_result"
    }
   ],
   "source": [
    "# Drop Null values of some columns\n",
    "\n",
    "drop_col = ['size']\n",
    "data = data.drop(drop_col, axis=1, errors='ignore')\n",
    "\n",
    "data = data_clean\n",
    "\n",
    "dropnull_cols = ['price','year','odometer','manufacturer','fuel','transmission','title_status','state','model']\n",
    "\n",
    "data.shape\n",
    "\n",
    "data = data.dropna(subset=dropnull_cols)\n",
    "\n",
    "data.shape"
   ]
  },
  {
   "cell_type": "markdown",
   "metadata": {},
   "source": [
    "#### using my custom function modules to Impute\n",
    "\n",
    "Since there are a lot of nulls, we cannot remove the null rows.\n",
    "\n",
    "we need to impute with values\n",
    "\n",
    "IMPUTATION STRATEGY:\n",
    "\n",
    "    1. Numerical Features: fill with mean (no need to consider median which accounts for outliers, since they are removed)\n",
    "    2. Categorical Features: fill with 'Missing' constant"
   ]
  },
  {
   "cell_type": "code",
   "execution_count": 368,
   "metadata": {},
   "outputs": [
    {
     "name": "stdout",
     "output_type": "stream",
     "text": [
      "              # of Null Values  % of Null Values\n",
      "price                        0               0.0\n",
      "year                         0               0.0\n",
      "odometer                     0               0.0\n",
      "manufacturer                 0               0.0\n",
      "model                        0               0.0\n",
      "cylinders                83392              37.6\n",
      "fuel                         0               0.0\n",
      "transmission                 0               0.0\n",
      "drive                    62698              28.3\n",
      "condition                75610              34.1\n",
      "title_status                 0               0.0\n",
      "type                     48173              21.7\n",
      "size                    147852              66.7\n",
      "paint_color              57407              25.9\n",
      "VIN                      97466              44.0\n",
      "state                        0               0.0\n",
      "There are 3 numerical features and 13 categorical features in Used Car Prices dataset\n",
      "              # of Null Values  % of Null Values\n",
      "price                        0               0.0\n",
      "year                         0               0.0\n",
      "odometer                     0               0.0\n",
      "manufacturer                 0               0.0\n",
      "model                        0               0.0\n",
      "cylinders                    0               0.0\n",
      "fuel                         0               0.0\n",
      "transmission                 0               0.0\n",
      "drive                        0               0.0\n",
      "condition                    0               0.0\n",
      "title_status                 0               0.0\n",
      "type                         0               0.0\n",
      "size                         0               0.0\n",
      "paint_color                  0               0.0\n",
      "VIN                          0               0.0\n",
      "state                        0               0.0\n"
     ]
    }
   ],
   "source": [
    "# Imputings Nulls in Numerical and Categorical variables\n",
    "\n",
    "print(nulls_info(data))\n",
    "\n",
    "data = nulls_impute(data)\n",
    "\n",
    "print(nulls_info(data))"
   ]
  },
  {
   "cell_type": "markdown",
   "metadata": {},
   "source": [
    "### C7) Handling special data considerations\n",
    "\n",
    "Here I fix special data issues like:\n",
    "\n",
    "    1. special chars cleanup\n",
    "    2. data type conversions\n",
    "    3. sometimes feature values recognized as Boolean\n",
    "    4. others"
   ]
  },
  {
   "cell_type": "code",
   "execution_count": 369,
   "metadata": {
    "scrolled": false
   },
   "outputs": [],
   "source": [
    "# Data type conversion of year and odometer\n",
    "\n",
    "dtypeconvert_dict = {'year':'int64', 'odometer':'int64'}\n",
    "data = data.astype(dtypeconvert_dict)"
   ]
  },
  {
   "cell_type": "markdown",
   "metadata": {},
   "source": [
    "### C8) Clean data for Data Analysis\n",
    "\n",
    "Now my data is clean and ready for data analysis"
   ]
  },
  {
   "cell_type": "code",
   "execution_count": 112,
   "metadata": {},
   "outputs": [],
   "source": [
    "datasetname = 'Used Car Prices'\n",
    "\n",
    "UsedCarPrices = data\n",
    "\n",
    "y_column = [\"price\"]\n",
    "\n",
    "# X/y split\n",
    "UsedCarPrices_X  = data.drop(y_column, axis=1, errors='ignore')\n",
    "UsedCarPrices_y  = data[y_column].copy()"
   ]
  },
  {
   "cell_type": "code",
   "execution_count": 113,
   "metadata": {},
   "outputs": [
    {
     "name": "stdout",
     "output_type": "stream",
     "text": [
      "Quick Data Analysis\n",
      "Dataset shape:   (221640, 16)\n",
      "Dataset size:    3546240\n",
      "# of columns with numerical features  :    3\n",
      "# of columns with categorical features:    13\n",
      "Numerical features: ['price', 'year', 'odometer']\n",
      "Categorical features: ['manufacturer', 'model', 'cylinders', 'fuel', 'transmission', 'drive', 'condition', 'title_status', 'type', 'size', 'paint_color', 'VIN', 'state']\n",
      "non-num/non-cat features: []\n",
      "\n"
     ]
    }
   ],
   "source": [
    "data_quickanalysis(UsedCarPrices)"
   ]
  },
  {
   "cell_type": "markdown",
   "metadata": {},
   "source": [
    "## Section D: Exploratory Data Analysis\n",
    "\n",
    "This section contains analysis including visualizations of :\n",
    "\n",
    "1. Data Descriptive Statistics: statistical analysis including distribution analysis\n",
    "\n",
    "2. Data Inferential Statistics: relations between features and between features & y, important features, hypothesis testing"
   ]
  },
  {
   "cell_type": "markdown",
   "metadata": {
    "scrolled": false
   },
   "source": [
    "### D1) Descriptive Statistics\n",
    "\n",
    " - statistics summary for num_features\n",
    " - unique value analysis for cat_features\n",
    " - distribution of features visualized with graphs like Histograms, Box plots and other"
   ]
  },
  {
   "cell_type": "markdown",
   "metadata": {},
   "source": [
    "#### Complete Descriptive Statistics of numerical features with oob python function"
   ]
  },
  {
   "cell_type": "code",
   "execution_count": 115,
   "metadata": {},
   "outputs": [
    {
     "data": {
      "text/html": [
       "<div>\n",
       "<style scoped>\n",
       "    .dataframe tbody tr th:only-of-type {\n",
       "        vertical-align: middle;\n",
       "    }\n",
       "\n",
       "    .dataframe tbody tr th {\n",
       "        vertical-align: top;\n",
       "    }\n",
       "\n",
       "    .dataframe thead th {\n",
       "        text-align: right;\n",
       "    }\n",
       "</style>\n",
       "<table border=\"1\" class=\"dataframe\">\n",
       "  <thead>\n",
       "    <tr style=\"text-align: right;\">\n",
       "      <th></th>\n",
       "      <th>price</th>\n",
       "      <th>year</th>\n",
       "      <th>odometer</th>\n",
       "    </tr>\n",
       "  </thead>\n",
       "  <tbody>\n",
       "    <tr>\n",
       "      <th>count</th>\n",
       "      <td>221640.000000</td>\n",
       "      <td>221640.000000</td>\n",
       "      <td>221640.000000</td>\n",
       "    </tr>\n",
       "    <tr>\n",
       "      <th>mean</th>\n",
       "      <td>15750.911465</td>\n",
       "      <td>2011.625235</td>\n",
       "      <td>100172.168972</td>\n",
       "    </tr>\n",
       "    <tr>\n",
       "      <th>std</th>\n",
       "      <td>10426.706599</td>\n",
       "      <td>5.661280</td>\n",
       "      <td>61182.745453</td>\n",
       "    </tr>\n",
       "    <tr>\n",
       "      <th>min</th>\n",
       "      <td>1000.000000</td>\n",
       "      <td>1994.000000</td>\n",
       "      <td>0.000000</td>\n",
       "    </tr>\n",
       "    <tr>\n",
       "      <th>25%</th>\n",
       "      <td>6990.000000</td>\n",
       "      <td>2008.000000</td>\n",
       "      <td>48047.500000</td>\n",
       "    </tr>\n",
       "    <tr>\n",
       "      <th>50%</th>\n",
       "      <td>13499.000000</td>\n",
       "      <td>2013.000000</td>\n",
       "      <td>97977.000000</td>\n",
       "    </tr>\n",
       "    <tr>\n",
       "      <th>75%</th>\n",
       "      <td>23000.000000</td>\n",
       "      <td>2016.000000</td>\n",
       "      <td>143004.750000</td>\n",
       "    </tr>\n",
       "    <tr>\n",
       "      <th>max</th>\n",
       "      <td>40000.000000</td>\n",
       "      <td>2022.000000</td>\n",
       "      <td>285961.000000</td>\n",
       "    </tr>\n",
       "  </tbody>\n",
       "</table>\n",
       "</div>"
      ],
      "text/plain": [
       "               price           year       odometer\n",
       "count  221640.000000  221640.000000  221640.000000\n",
       "mean    15750.911465    2011.625235  100172.168972\n",
       "std     10426.706599       5.661280   61182.745453\n",
       "min      1000.000000    1994.000000       0.000000\n",
       "25%      6990.000000    2008.000000   48047.500000\n",
       "50%     13499.000000    2013.000000   97977.000000\n",
       "75%     23000.000000    2016.000000  143004.750000\n",
       "max     40000.000000    2022.000000  285961.000000"
      ]
     },
     "execution_count": 115,
     "metadata": {},
     "output_type": "execute_result"
    }
   ],
   "source": [
    "UsedCarPrices.describe()"
   ]
  },
  {
   "cell_type": "markdown",
   "metadata": {},
   "source": [
    "#### Numerical Values Distribution Analysis"
   ]
  },
  {
   "cell_type": "code",
   "execution_count": 116,
   "metadata": {},
   "outputs": [
    {
     "name": "stdout",
     "output_type": "stream",
     "text": [
      "Box Plots showing the:\n",
      "1) Numerical Variables Distribution Analysis\n",
      "2) Outliers outside the whiskers of the box plot\n"
     ]
    },
    {
     "data": {
      "image/png": "[encoded data removed]",
      "text/plain": [
       "<Figure size 1152x432 with 1 Axes>"
      ]
     },
     "metadata": {
      "needs_background": "light"
     },
     "output_type": "display_data"
    }
   ],
   "source": [
    "print('Box Plots showing the:')\n",
    "print('1) Numerical Variables Distribution Analysis')\n",
    "print('2) Outliers outside the whiskers of the box plot')\n",
    "\n",
    "\n",
    "df = UsedCarPrices_X.select_dtypes(include=['number'])\n",
    "x_transform = pd.DataFrame(StandardScaler().fit_transform(df),columns=(df.columns.tolist()))\n",
    "df_standardscaled = x_transform\n",
    "plt.figure(figsize=(16,6))\n",
    "sns.boxplot(data=df_standardscaled)\n",
    "#sns.swarmplot(data=df,size=2)\n",
    "plt.title(\"Numerical Variables Distribution Analysis\");\n",
    "plt.xlabel('Numerical Variables'); plt.ylabel('Standard Deviation (0 is mean)')\n",
    "plt.tight_layout() ; plt.show()"
   ]
  },
  {
   "cell_type": "code",
   "execution_count": null,
   "metadata": {},
   "outputs": [],
   "source": [
    "# Plot shows almost NO outliers since they have been removed\n",
    "# Whisker for the year is skewed to the earlier years\n",
    "# whisker fot the odometer is skewed to the high numbers\n",
    "# This is intuitive since they are used cars and likely to be more old and higher odometer readings"
   ]
  },
  {
   "cell_type": "markdown",
   "metadata": {},
   "source": [
    "#### Categorical Features Analysis\n",
    "\n",
    "Here I show:\n",
    "\n",
    "    1. Unique value counts for each Categorical feature\n",
    "    2. Bar Plot of unique value in each categorical feature and their corresponding average prices\n",
    " \n",
    "#### How to read the Horizontal lines on the plot\n",
    "\n",
    "For each Plot I have shown:\n",
    "a) the Mean of prices in solid line, \n",
    "b) 1st standard deviations in dashed line, \n",
    "c) 2nd standard deviation in dotted line\n",
    "\n",
    "if a value, for example '8 cyclinders' is above 1 std deviation line, it means it is at a whole different level of pricing compared to other cars"
   ]
  },
  {
   "cell_type": "code",
   "execution_count": 353,
   "metadata": {
    "scrolled": false
   },
   "outputs": [
    {
     "name": "stdout",
     "output_type": "stream",
     "text": [
      "manufacturer\n",
      "ford               35647\n",
      "chevrolet          27204\n",
      "toyota             19909\n",
      "honda              14020\n",
      "nissan             11565\n",
      "jeep               10165\n",
      "bmw                 8070\n",
      "gmc                 7676\n",
      "dodge               7141\n",
      "ram                 6988\n",
      "subaru              6473\n",
      "hyundai             6235\n",
      "mercedes-benz       5756\n",
      "volkswagen          5629\n",
      "kia                 5001\n",
      "lexus               4916\n",
      "audi                4340\n",
      "chrysler            3801\n",
      "cadillac            3734\n",
      "acura               3531\n",
      "mazda               3299\n",
      "buick               3122\n",
      "infiniti            2912\n",
      "lincoln             2330\n",
      "volvo               2038\n",
      "mitsubishi          1977\n",
      "mini                1538\n",
      "pontiac             1295\n",
      "jaguar              1069\n",
      "rover                900\n",
      "saturn               733\n",
      "mercury              689\n",
      "porsche              573\n",
      "fiat                 491\n",
      "alfa-romeo           480\n",
      "tesla                301\n",
      "harley-davidson       76\n",
      "land rover             9\n",
      "aston-martin           4\n",
      "ferrari                3\n",
      "dtype: int64\n"
     ]
    },
    {
     "data": {
      "image/png": "[encoded data removed]",
      "text/plain": [
       "<Figure size 1008x432 with 1 Axes>"
      ]
     },
     "metadata": {
      "needs_background": "light"
     },
     "output_type": "display_data"
    },
    {
     "name": "stdout",
     "output_type": "stream",
     "text": [
      "cylinders\n",
      "missing         83392\n",
      "6 cylinders     53521\n",
      "4 cylinders     48653\n",
      "8 cylinders     33443\n",
      "5 cylinders      1136\n",
      "10 cylinders      740\n",
      "other             415\n",
      "3 cylinders       296\n",
      "12 cylinders       44\n",
      "dtype: int64\n"
     ]
    },
    {
     "data": {
      "image/png": "[encoded data removed]",
      "text/plain": [
       "<Figure size 1008x432 with 1 Axes>"
      ]
     },
     "metadata": {
      "needs_background": "light"
     },
     "output_type": "display_data"
    },
    {
     "name": "stdout",
     "output_type": "stream",
     "text": [
      "fuel\n",
      "gas         194870\n",
      "other        13897\n",
      "diesel        8815\n",
      "hybrid        3231\n",
      "electric       827\n",
      "dtype: int64\n"
     ]
    },
    {
     "data": {
      "image/png": "[encoded data removed]",
      "text/plain": [
       "<Figure size 1008x432 with 1 Axes>"
      ]
     },
     "metadata": {
      "needs_background": "light"
     },
     "output_type": "display_data"
    },
    {
     "name": "stdout",
     "output_type": "stream",
     "text": [
      "transmission\n",
      "automatic    179433\n",
      "other         30565\n",
      "manual        11642\n",
      "dtype: int64\n"
     ]
    },
    {
     "data": {
      "image/png": "[encoded data removed]",
      "text/plain": [
       "<Figure size 1008x432 with 1 Axes>"
      ]
     },
     "metadata": {
      "needs_background": "light"
     },
     "output_type": "display_data"
    },
    {
     "name": "stdout",
     "output_type": "stream",
     "text": [
      "drive\n",
      "fwd        65124\n",
      "4wd        64957\n",
      "missing    62698\n",
      "rwd        28861\n",
      "dtype: int64\n"
     ]
    },
    {
     "data": {
      "image/png": "[encoded data removed]",
      "text/plain": [
       "<Figure size 1008x432 with 1 Axes>"
      ]
     },
     "metadata": {
      "needs_background": "light"
     },
     "output_type": "display_data"
    },
    {
     "name": "stdout",
     "output_type": "stream",
     "text": [
      "condition\n",
      "missing      75610\n",
      "good         69999\n",
      "excellent    57952\n",
      "like new     13230\n",
      "fair          3974\n",
      "new            548\n",
      "salvage        327\n",
      "dtype: int64\n"
     ]
    },
    {
     "data": {
      "image/png": "[encoded data removed]",
      "text/plain": [
       "<Figure size 1008x432 with 1 Axes>"
      ]
     },
     "metadata": {
      "needs_background": "light"
     },
     "output_type": "display_data"
    },
    {
     "name": "stdout",
     "output_type": "stream",
     "text": [
      "title_status\n",
      "clean         212093\n",
      "rebuilt         5411\n",
      "salvage         2858\n",
      "lien            1099\n",
      "missing          125\n",
      "parts only        54\n",
      "dtype: int64\n"
     ]
    },
    {
     "data": {
      "image/png": "[encoded data removed]",
      "text/plain": [
       "<Figure size 1008x432 with 1 Axes>"
      ]
     },
     "metadata": {
      "needs_background": "light"
     },
     "output_type": "display_data"
    },
    {
     "name": "stdout",
     "output_type": "stream",
     "text": [
      "type\n",
      "sedan          50715\n",
      "missing        48173\n",
      "SUV            43349\n",
      "pickup         18290\n",
      "truck          14423\n",
      "other           9865\n",
      "hatchback       9764\n",
      "coupe           8634\n",
      "wagon           6203\n",
      "van             4524\n",
      "convertible     3824\n",
      "mini-van        3344\n",
      "offroad          335\n",
      "bus              197\n",
      "dtype: int64\n"
     ]
    },
    {
     "data": {
      "image/png": "[encoded data removed]",
      "text/plain": [
       "<Figure size 1008x432 with 1 Axes>"
      ]
     },
     "metadata": {
      "needs_background": "light"
     },
     "output_type": "display_data"
    },
    {
     "name": "stdout",
     "output_type": "stream",
     "text": [
      "size\n",
      "missing        147852\n",
      "full-size       36999\n",
      "mid-size        23101\n",
      "compact         11870\n",
      "sub-compact      1818\n",
      "dtype: int64\n"
     ]
    },
    {
     "data": {
      "image/png": "[encoded data removed]",
      "text/plain": [
       "<Figure size 1008x432 with 1 Axes>"
      ]
     },
     "metadata": {
      "needs_background": "light"
     },
     "output_type": "display_data"
    },
    {
     "name": "stdout",
     "output_type": "stream",
     "text": [
      "paint_color\n",
      "missing    57407\n",
      "white      40762\n",
      "black      34332\n",
      "silver     25775\n",
      "blue       17715\n",
      "red        16201\n",
      "grey       15340\n",
      "green       4157\n",
      "custom      3910\n",
      "brown       3833\n",
      "yellow       924\n",
      "orange       899\n",
      "purple       385\n",
      "dtype: int64\n"
     ]
    },
    {
     "data": {
      "image/png": "[encoded data removed]",
      "text/plain": [
       "<Figure size 1008x432 with 1 Axes>"
      ]
     },
     "metadata": {
      "needs_background": "light"
     },
     "output_type": "display_data"
    }
   ],
   "source": [
    "df = UsedCarPrices\n",
    "\n",
    "cols = ['manufacturer', 'cylinders', 'fuel', 'transmission', 'drive', \n",
    "        'condition', 'title_status', 'type', 'size', 'paint_color']\n",
    "\n",
    "\n",
    "for col in cols:\n",
    "    grouped_df = df.groupby(col)['price'].mean().reset_index()\n",
    "    grouped_df = grouped_df.sort_values(by='price', ascending=True)\n",
    "   \n",
    "    plt.figure(figsize=(14,6))\n",
    "    sns.barplot(x=col, y='price', data=grouped_df)\n",
    "        # Set plot title and labels\n",
    "    plt.title(f'Average of price by {col}',fontsize=14)\n",
    "    plt.xlabel(col,fontsize=14)\n",
    "    plt.ylabel('Average of price',fontsize=14)\n",
    "    m = grouped_df['price'].mean() ; d = grouped_df['price'].std()\n",
    "    plt.axhline(y=(m), color='grey', linewidth=1.5, linestyle='-')\n",
    "    plt.axhline(y=(m-d), color='grey', linewidth=1, linestyle='--')\n",
    "    plt.axhline(y=(m+d), color='grey', linewidth=1, linestyle='--')\n",
    "    plt.axhline(y=(m-(2*d)), color='grey', linewidth=1, linestyle=':')\n",
    "    plt.axhline(y=(m+(2*d)), color='grey', linewidth=1, linestyle=':')\n",
    "    \n",
    "    print(df.groupby(col).size().sort_values(ascending=False))\n",
    "    \n",
    "    plt.show()"
   ]
  },
  {
   "cell_type": "markdown",
   "metadata": {
    "scrolled": false
   },
   "source": [
    "### D2) Inferential Statistics\n",
    "\n",
    "- relations among features\n",
    " - relations between features and target variable (y)\n",
    " - hypothesis testing\n",
    " - Statistical analysis for finding important features - Chi, ANOVA, F1, t-test, other"
   ]
  },
  {
   "cell_type": "markdown",
   "metadata": {},
   "source": [
    "#### Correlation Matrix for Numerical Variables"
   ]
  },
  {
   "cell_type": "code",
   "execution_count": 370,
   "metadata": {
    "scrolled": false
   },
   "outputs": [
    {
     "data": {
      "image/png": "[encoded data removed]",
      "text/plain": [
       "<Figure size 504x432 with 2 Axes>"
      ]
     },
     "metadata": {
      "needs_background": "light"
     },
     "output_type": "display_data"
    }
   ],
   "source": [
    "# Correlation among Features & also between Features & Car Price\n",
    "\n",
    "plt.figure(figsize=(7,6))\n",
    "sns.heatmap(data.corr(), annot=True)\n",
    "plt.title('Correlation between the features & Price')\n",
    "plt.show()"
   ]
  },
  {
   "cell_type": "markdown",
   "metadata": {},
   "source": [
    "There is STRONG negative correlation between Year and Odometer, which is intuitive.\n",
    "\n",
    "The older the year the higher the mileage\n",
    "\n",
    "There is WEAK positive correlation between Price and year\n",
    "\n",
    "There is WEAK negative correlation between Price and Odometer reading"
   ]
  },
  {
   "cell_type": "markdown",
   "metadata": {},
   "source": [
    "#### SCATTER PLOTS for numerical features & Price relationship\n",
    "\n",
    "Since there are too many categorical features influencing the price, the scatter plot will be messy in 2D.\n",
    "\n",
    "So I am looking at selective cars to demonstrate the relationship in 2D.\n",
    "\n",
    "In below plots, I show the relations for the subdata for my favorite car ACURA"
   ]
  },
  {
   "cell_type": "code",
   "execution_count": 371,
   "metadata": {},
   "outputs": [
    {
     "data": {
      "image/png": "[encoded data removed]",
      "text/plain": [
       "<Figure size 576x432 with 1 Axes>"
      ]
     },
     "metadata": {
      "needs_background": "light"
     },
     "output_type": "display_data"
    }
   ],
   "source": [
    "# Scatter Plot Year feature & Odometer feature\n",
    "\n",
    "plt.figure(figsize=(8, 6))\n",
    "sns.scatterplot(data=UsedCarPrices.query('manufacturer==\"acura\"'), x='year', y='odometer',s=10,color='orange')\n",
    "plt.title('Year & Odometer relationship')\n",
    "plt.show()"
   ]
  },
  {
   "cell_type": "code",
   "execution_count": 372,
   "metadata": {},
   "outputs": [
    {
     "data": {
      "image/png": "[encoded data removed]",
      "text/plain": [
       "<Figure size 576x432 with 1 Axes>"
      ]
     },
     "metadata": {
      "needs_background": "light"
     },
     "output_type": "display_data"
    }
   ],
   "source": [
    "# Scatter Plot Year feature & Price\n",
    "\n",
    "plt.figure(figsize=(8, 6))\n",
    "sns.scatterplot(data=UsedCarPrices.query('manufacturer==\"acura\"'), x='year', y='price',s=10,color='green')\n",
    "plt.title('Year & Price relationship')\n",
    "plt.show()"
   ]
  },
  {
   "cell_type": "code",
   "execution_count": 373,
   "metadata": {},
   "outputs": [
    {
     "data": {
      "image/png": "[encoded data removed]",
      "text/plain": [
       "<Figure size 576x432 with 1 Axes>"
      ]
     },
     "metadata": {
      "needs_background": "light"
     },
     "output_type": "display_data"
    }
   ],
   "source": [
    "# Scatter Plot Odometer feature & Price\n",
    "\n",
    "plt.figure(figsize=(8, 6))\n",
    "sns.scatterplot(data=UsedCarPrices.query('manufacturer==\"acura\"'), x='odometer', y='price',s=10,color='skyblue')\n",
    "plt.title('Odometer & Price relationship')\n",
    "plt.show()"
   ]
  },
  {
   "cell_type": "markdown",
   "metadata": {},
   "source": [
    "## Section E: Metrics & Baseline\n",
    "\n",
    "This section contains:\n",
    "\n",
    " 1. considerations of Metrics for Test/Evaluation Design\n",
    " 2. Baseline score against which we will compare"
   ]
  },
  {
   "cell_type": "markdown",
   "metadata": {},
   "source": [
    "### E1) Metrics\n",
    "\n",
    "for this classification problem 5 metrics will be considered:\n",
    "\n",
    "    1. RMSE\n",
    "    2. Training Accuracy\n",
    "    3. Test Accuracy"
   ]
  },
  {
   "cell_type": "markdown",
   "metadata": {
    "scrolled": false
   },
   "source": [
    "### E2) Baseline before feature engineering\n",
    "\n",
    "The hypothesis of this project is to prove the benefit of Feature Engineering.\n",
    "\n",
    "So I am taking a baseline of 4 models Linear Regression, KNN, Decision Tree, GradientBoostingRegressor\n",
    "\n",
    "with the clean data before feature engineering.\n",
    "\n",
    "feature scaling will still be applied"
   ]
  },
  {
   "cell_type": "code",
   "execution_count": 122,
   "metadata": {},
   "outputs": [
    {
     "name": "stdout",
     "output_type": "stream",
     "text": [
      "Lin run time: 0.2 seconds\n",
      "KNN run time: 5.8 seconds\n",
      "DEC run time: 2.6 seconds\n",
      "GBR run time: 34.3 seconds\n",
      "run time: 42.9 seconds\n"
     ]
    },
    {
     "data": {
      "text/html": [
       "<div>\n",
       "<style scoped>\n",
       "    .dataframe tbody tr th:only-of-type {\n",
       "        vertical-align: middle;\n",
       "    }\n",
       "\n",
       "    .dataframe tbody tr th {\n",
       "        vertical-align: top;\n",
       "    }\n",
       "\n",
       "    .dataframe thead th {\n",
       "        text-align: right;\n",
       "    }\n",
       "</style>\n",
       "<table border=\"1\" class=\"dataframe\">\n",
       "  <thead>\n",
       "    <tr style=\"text-align: right;\">\n",
       "      <th></th>\n",
       "      <th>Lin</th>\n",
       "      <th>KNN</th>\n",
       "      <th>DEC</th>\n",
       "      <th>GBR</th>\n",
       "    </tr>\n",
       "  </thead>\n",
       "  <tbody>\n",
       "    <tr>\n",
       "      <th>RMSE</th>\n",
       "      <td>6870.81</td>\n",
       "      <td>5766.79</td>\n",
       "      <td>4647.51</td>\n",
       "      <td>4764.27</td>\n",
       "    </tr>\n",
       "    <tr>\n",
       "      <th>Acc_Train</th>\n",
       "      <td>0.5584</td>\n",
       "      <td>0.8017</td>\n",
       "      <td>0.9999</td>\n",
       "      <td>0.7871</td>\n",
       "    </tr>\n",
       "    <tr>\n",
       "      <th>Acc_Test/R2</th>\n",
       "      <td>0.5651</td>\n",
       "      <td>0.6936</td>\n",
       "      <td>0.8010</td>\n",
       "      <td>0.7909</td>\n",
       "    </tr>\n",
       "  </tbody>\n",
       "</table>\n",
       "</div>"
      ],
      "text/plain": [
       "                 Lin      KNN      DEC      GBR\n",
       "RMSE         6870.81  5766.79  4647.51  4764.27\n",
       "Acc_Train     0.5584   0.8017   0.9999   0.7871\n",
       "Acc_Test/R2   0.5651   0.6936   0.8010   0.7909"
      ]
     },
     "execution_count": 122,
     "metadata": {},
     "output_type": "execute_result"
    }
   ],
   "source": [
    "# Running Evaluation on pre-feature-engineered Clean and Scaled data\n",
    "\n",
    "UsedCarPrices_X_scaled = preprocessX(UsedCarPrices_X)\n",
    "\n",
    "tik = time.time()\n",
    "\n",
    "eval_baseline = evalR(UsedCarPrices_X_scaled,UsedCarPrices_y)\n",
    "\n",
    "tok = time.time()\n",
    "print('run time:' , '%.1f' % (tok-tik) , 'seconds')\n",
    "\n",
    "eval_baseline"
   ]
  },
  {
   "cell_type": "markdown",
   "metadata": {},
   "source": [
    "#### I ran Random Forest in previous instances but I changed to Decision Tree because the run time for each iteration of Random Forest is >6 minutes in baseline run and >10 mins in feature engineer run. However, I have the values of the earlier run. Appending them to the evaluation matrix"
   ]
  },
  {
   "cell_type": "code",
   "execution_count": 268,
   "metadata": {},
   "outputs": [
    {
     "data": {
      "text/html": [
       "<div>\n",
       "<style scoped>\n",
       "    .dataframe tbody tr th:only-of-type {\n",
       "        vertical-align: middle;\n",
       "    }\n",
       "\n",
       "    .dataframe tbody tr th {\n",
       "        vertical-align: top;\n",
       "    }\n",
       "\n",
       "    .dataframe thead th {\n",
       "        text-align: right;\n",
       "    }\n",
       "</style>\n",
       "<table border=\"1\" class=\"dataframe\">\n",
       "  <thead>\n",
       "    <tr style=\"text-align: right;\">\n",
       "      <th></th>\n",
       "      <th>Lin</th>\n",
       "      <th>KNN</th>\n",
       "      <th>DEC</th>\n",
       "      <th>GBR</th>\n",
       "      <th>RAN</th>\n",
       "    </tr>\n",
       "  </thead>\n",
       "  <tbody>\n",
       "    <tr>\n",
       "      <th>RMSE</th>\n",
       "      <td>6870.81</td>\n",
       "      <td>5766.79</td>\n",
       "      <td>4647.51</td>\n",
       "      <td>4764.27</td>\n",
       "      <td>6178.9200</td>\n",
       "    </tr>\n",
       "    <tr>\n",
       "      <th>Acc_Train</th>\n",
       "      <td>0.5584</td>\n",
       "      <td>0.8017</td>\n",
       "      <td>0.9999</td>\n",
       "      <td>0.7871</td>\n",
       "      <td>0.9618</td>\n",
       "    </tr>\n",
       "    <tr>\n",
       "      <th>Acc_Test/R2</th>\n",
       "      <td>0.5651</td>\n",
       "      <td>0.6936</td>\n",
       "      <td>0.8010</td>\n",
       "      <td>0.7909</td>\n",
       "      <td>0.7503</td>\n",
       "    </tr>\n",
       "  </tbody>\n",
       "</table>\n",
       "</div>"
      ],
      "text/plain": [
       "                 Lin      KNN      DEC      GBR        RAN\n",
       "RMSE         6870.81  5766.79  4647.51  4764.27  6178.9200\n",
       "Acc_Train     0.5584   0.8017   0.9999   0.7871     0.9618\n",
       "Acc_Test/R2   0.5651   0.6936   0.8010   0.7909     0.7503"
      ]
     },
     "execution_count": 268,
     "metadata": {},
     "output_type": "execute_result"
    }
   ],
   "source": [
    "eval_baseline"
   ]
  },
  {
   "cell_type": "markdown",
   "metadata": {},
   "source": [
    "# Section F: Feature Engineering\n",
    "\n",
    "\n",
    "Here I Engineer new features out of existing features\n",
    "\n",
    "This section is the main cruz of my project\n",
    "\n",
    "Techniques Used in this Section:\n",
    "\n",
    "    1. Natural Language Processing\n",
    "    2. Python car-industry domain specific modules (VIN)\n",
    "    3. Referencing external Data for transforming data in dataset\n",
    "    3. Numerical Transformations\n",
    "    3. Binning \n",
    "    4. Mapping categorical values to numerical values"
   ]
  },
  {
   "cell_type": "markdown",
   "metadata": {
    "scrolled": false
   },
   "source": [
    "## F1) New Numerical Features"
   ]
  },
  {
   "cell_type": "code",
   "execution_count": 153,
   "metadata": {},
   "outputs": [],
   "source": [
    "# Data\n",
    "\n",
    "UsedCarPrices_wNF = UsedCarPrices"
   ]
  },
  {
   "cell_type": "markdown",
   "metadata": {},
   "source": [
    "#### New Feature 01 - State Regional Price Parity\n",
    "\n",
    "Detail: State data is relatively meaningless without taking the price adjustment by state into consideration. Regional price parity measures the cost of living differences between states by comparing the prices of goods and services. This should explain the variability of price for the same car across states.\n",
    "\n",
    "Technique used: External Data sourcing, Categorical values to numerical values mapping"
   ]
  },
  {
   "cell_type": "code",
   "execution_count": 154,
   "metadata": {},
   "outputs": [],
   "source": [
    "state_RPP_map = { \"state\": [\"AL\", \"AK\", \"AZ\", \"AR\", \"CA\", \"CO\", \"CT\", \"DE\", \"DC\", \"FL\", \"GA\", \"HI\", \"ID\", \"IL\", \"IN\", \"IA\", \"KS\", \"KY\", \"LA\", \"ME\", \"MD\", \"MA\", \"MI\", \"MN\", \"MS\", \"MO\", \"MT\", \"NE\", \"NV\", \"NH\", \"NJ\", \"NM\", \"NY\", \"NC\", \"ND\", \"OH\", \"OK\", \"OR\", \"PA\", \"RI\", \"SC\", \"SD\", \"TN\", \"TX\", \"UT\", \"VT\", \"VA\", \"WA\", \"WV\", \"WI\", \"WY\"],\n",
    "                 \"RPP\": [87.8, 102, 99.9, 86.6, 112.5, 102.3, 106.4, 98, 112.8, 98.6, 91.7, 111.3, 96.6, 98.6, 91.8, 88.4, 90, 89.4, 90.6, 100.8, 105, 109.4, 93.4, 97.7, 87.3, 91.1, 90.3, 89.8, 96.4, 107.6, 108.8, 91, 107.6, 94.2, 88.7, 91.5, 88.8, 106.6, 96.2, 104.7, 93.6, 88, 91.8, 97.5, 94.5, 101.1, 102.1, 109.8, 89.2, 92.3, 91.9]}\n",
    "state_RPP_map = pd.DataFrame(state_RPP_map)\n",
    "UsedCarPrices_wNF['state'] = UsedCarPrices_wNF['state'].str.upper()\n",
    "UsedCarPrices_wNF['state_RPP'] = UsedCarPrices_wNF['state'].map(state_RPP_map.set_index('state')['RPP'])"
   ]
  },
  {
   "cell_type": "markdown",
   "metadata": {},
   "source": [
    "#### New Feature 02 - years_from_now\n",
    "\n",
    "Detail: taking the difference between the current year and manufacture year scales the year for better use than just the year by itself\n",
    "\n",
    "Technique used: numerical transformation"
   ]
  },
  {
   "cell_type": "code",
   "execution_count": 155,
   "metadata": {},
   "outputs": [],
   "source": [
    "import datetime\n",
    "this_year = datetime.datetime.now().year\n",
    "UsedCarPrices_wNF['years_from_now'] = this_year - UsedCarPrices_wNF['year']"
   ]
  },
  {
   "cell_type": "markdown",
   "metadata": {},
   "source": [
    "#### New Feature 03 - Number of Cylinders\n",
    "\n",
    "Detail: converting the cylinders into numerical, where missing the average value of cylinders is added\n",
    "\n",
    "Technique used: Categorical values to numerical values mapping"
   ]
  },
  {
   "cell_type": "code",
   "execution_count": 156,
   "metadata": {},
   "outputs": [],
   "source": [
    "cylinders_map = {'8 cylinders':8, '6 cylinders':6, '4 cylinders':4, '5 cylinders':5,\n",
    "                 'other':5.94, 'missing':5.94,'3 cylinders':3, '10 cylinders':10, '12 cylinders':12}\n",
    "UsedCarPrices_wNF['cylinders_number'] = UsedCarPrices_wNF['cylinders'].map(cylinders_map)"
   ]
  },
  {
   "cell_type": "markdown",
   "metadata": {},
   "source": [
    "#### New Feature 04 - Title Status Scale\n",
    "\n",
    "Detail: converting title status to numerical. bad titles given low, good titles given high, missing is average\n",
    "\n",
    "Technique used: Categorical values to numerical values mapping"
   ]
  },
  {
   "cell_type": "code",
   "execution_count": 157,
   "metadata": {},
   "outputs": [],
   "source": [
    "titlestatus_map = {'parts only':1,'salvage':2,'missing':2.5,'rebuilt':3,'clean':4,'lien':5}\n",
    "UsedCarPrices_wNF['title_status_scale'] = UsedCarPrices_wNF['title_status'].map(titlestatus_map)"
   ]
  },
  {
   "cell_type": "markdown",
   "metadata": {},
   "source": [
    "#### New Feature 05 - size scale\n",
    "\n",
    "Detail: Assigning numerical values to Car size. Note that I have assigned highest rating to 'missing' values. This is because of the missing values having a whol standard deviation better car price. This could be because the missing values could have a higher proportion of SUVs, Pickups and Trucks.\n",
    "\n",
    "Technique used: numerical transformation partly using Target Encoding logic"
   ]
  },
  {
   "cell_type": "code",
   "execution_count": 158,
   "metadata": {},
   "outputs": [],
   "source": [
    "size_map = {'sub-compact':0.75,'compact':1,'mid-size':2.5,'full-size':4,'missing':5}\n",
    "UsedCarPrices_wNF['size_scale'] = UsedCarPrices_wNF['size'].map(size_map)"
   ]
  },
  {
   "cell_type": "markdown",
   "metadata": {},
   "source": [
    "### Application of Natural Language Processing"
   ]
  },
  {
   "cell_type": "markdown",
   "metadata": {},
   "source": [
    "#### New Feature 06 - NLP on Model column\n",
    "\n",
    "Detail: Here I use NLP techniques to extract meaningful information from the messy Model field.\n",
    "\n",
    "Logic: \n",
    "\n",
    "    1. extract all text in model column\n",
    "    2. get 50 most common non-trivial phrase\n",
    "    3. Create new field model_nlp when with these words if they exist in a particular row in the model column\n",
    "    4. Next I target encode the average car price for these values into the model_num_value\n",
    "\n",
    "Technique used: NLP, Target Encoding"
   ]
  },
  {
   "cell_type": "code",
   "execution_count": 159,
   "metadata": {},
   "outputs": [
    {
     "name": "stdout",
     "output_type": "stream",
     "text": [
      "295214\n"
     ]
    },
    {
     "data": {
      "text/html": [
       "<div>\n",
       "<style scoped>\n",
       "    .dataframe tbody tr th:only-of-type {\n",
       "        vertical-align: middle;\n",
       "    }\n",
       "\n",
       "    .dataframe tbody tr th {\n",
       "        vertical-align: top;\n",
       "    }\n",
       "\n",
       "    .dataframe thead th {\n",
       "        text-align: right;\n",
       "    }\n",
       "</style>\n",
       "<table border=\"1\" class=\"dataframe\">\n",
       "  <thead>\n",
       "    <tr style=\"text-align: right;\">\n",
       "      <th></th>\n",
       "      <th>0</th>\n",
       "      <th>1</th>\n",
       "    </tr>\n",
       "  </thead>\n",
       "  <tbody>\n",
       "    <tr>\n",
       "      <th>0</th>\n",
       "      <td>sport</td>\n",
       "      <td>12962</td>\n",
       "    </tr>\n",
       "    <tr>\n",
       "      <th>1</th>\n",
       "      <td>1500</td>\n",
       "      <td>10857</td>\n",
       "    </tr>\n",
       "    <tr>\n",
       "      <th>2</th>\n",
       "      <td>sedan</td>\n",
       "      <td>8894</td>\n",
       "    </tr>\n",
       "    <tr>\n",
       "      <th>3</th>\n",
       "      <td>silverado</td>\n",
       "      <td>7733</td>\n",
       "    </tr>\n",
       "    <tr>\n",
       "      <th>4</th>\n",
       "      <td>cab</td>\n",
       "      <td>6115</td>\n",
       "    </tr>\n",
       "  </tbody>\n",
       "</table>\n",
       "</div>"
      ],
      "text/plain": [
       "           0      1\n",
       "0      sport  12962\n",
       "1       1500  10857\n",
       "2      sedan   8894\n",
       "3  silverado   7733\n",
       "4        cab   6115"
      ]
     },
     "execution_count": 159,
     "metadata": {},
     "output_type": "execute_result"
    }
   ],
   "source": [
    "import pandas as pd\n",
    "from collections import Counter\n",
    "import re\n",
    "\n",
    "df = UsedCarPrices\n",
    "\n",
    "# Converting all text in model column into a blob of text\n",
    "text = ' '.join(df['model'].astype(str))\n",
    "\n",
    "# Get words from the text blob\n",
    "words = re.findall(r'\\b\\w+\\b', text.lower())\n",
    "words = [word for word in words if len(word) >= 3]\n",
    "\n",
    "# counts for words\n",
    "word_counts = Counter(words)\n",
    "\n",
    "# Get 50 most common words\n",
    "\n",
    "most_common_words = word_counts.most_common(200)\n",
    "most_common_words = pd.DataFrame(most_common_words)\n",
    "print(most_common_words[1].sum())\n",
    "most_common_words.head()"
   ]
  },
  {
   "cell_type": "code",
   "execution_count": 160,
   "metadata": {},
   "outputs": [
    {
     "name": "stdout",
     "output_type": "stream",
     "text": [
      "run time: 35.0\n"
     ]
    }
   ],
   "source": [
    "# Getting New Model Column with only the most common words\n",
    "\n",
    "# custom fn for populating common word into new model columm\n",
    "def replace(row, list):\n",
    "    for item in list:\n",
    "        if item in row['model']:\n",
    "            return item\n",
    "    return 'other'\n",
    "\n",
    "list_of_words = most_common_words[0].tolist()\n",
    "\n",
    "tik = time.time()\n",
    "UsedCarPrices_wNF['model_nlp'] = df.apply(lambda row: replace(row, list_of_words), axis=1)\n",
    "tok = time.time()\n",
    "\n",
    "print('run time:','%.1f' % (tok-tik))"
   ]
  },
  {
   "cell_type": "code",
   "execution_count": 161,
   "metadata": {},
   "outputs": [],
   "source": [
    "# Target Encode Model NLP values\n",
    "\n",
    "price_by_model = UsedCarPrices_wNF.groupby('model_nlp')['price'].mean()\n",
    "\n",
    "UsedCarPrices_wNF['model_numvalue'] = UsedCarPrices_wNF['model_nlp'].map(price_by_model)\n",
    "UsedCarPrices_wNF['model_numvalue'] = UsedCarPrices_wNF['model_numvalue'].round(2)"
   ]
  },
  {
   "cell_type": "code",
   "execution_count": 162,
   "metadata": {
    "scrolled": false
   },
   "outputs": [
    {
     "data": {
      "text/html": [
       "<div>\n",
       "<style scoped>\n",
       "    .dataframe tbody tr th:only-of-type {\n",
       "        vertical-align: middle;\n",
       "    }\n",
       "\n",
       "    .dataframe tbody tr th {\n",
       "        vertical-align: top;\n",
       "    }\n",
       "\n",
       "    .dataframe thead th {\n",
       "        text-align: right;\n",
       "    }\n",
       "</style>\n",
       "<table border=\"1\" class=\"dataframe\">\n",
       "  <thead>\n",
       "    <tr style=\"text-align: right;\">\n",
       "      <th></th>\n",
       "      <th>price</th>\n",
       "      <th>year</th>\n",
       "      <th>odometer</th>\n",
       "      <th>manufacturer</th>\n",
       "      <th>model</th>\n",
       "      <th>cylinders</th>\n",
       "      <th>fuel</th>\n",
       "      <th>transmission</th>\n",
       "      <th>drive</th>\n",
       "      <th>condition</th>\n",
       "      <th>...</th>\n",
       "      <th>VIN</th>\n",
       "      <th>state</th>\n",
       "      <th>state_RPP</th>\n",
       "      <th>years_from_now</th>\n",
       "      <th>cylinders_number</th>\n",
       "      <th>title_status_scale</th>\n",
       "      <th>size_scale</th>\n",
       "      <th>model_nlp</th>\n",
       "      <th>model_numvalue</th>\n",
       "      <th>condition_scale</th>\n",
       "    </tr>\n",
       "  </thead>\n",
       "  <tbody>\n",
       "    <tr>\n",
       "      <th>376056</th>\n",
       "      <td>9995.0</td>\n",
       "      <td>2014</td>\n",
       "      <td>88867</td>\n",
       "      <td>kia</td>\n",
       "      <td>optima</td>\n",
       "      <td>4 cylinders</td>\n",
       "      <td>gas</td>\n",
       "      <td>automatic</td>\n",
       "      <td>missing</td>\n",
       "      <td>like new</td>\n",
       "      <td>...</td>\n",
       "      <td>missing</td>\n",
       "      <td>TX</td>\n",
       "      <td>97.5</td>\n",
       "      <td>10</td>\n",
       "      <td>4.00</td>\n",
       "      <td>4.0</td>\n",
       "      <td>5.0</td>\n",
       "      <td>optima</td>\n",
       "      <td>11466.75</td>\n",
       "      <td>4.5</td>\n",
       "    </tr>\n",
       "    <tr>\n",
       "      <th>373966</th>\n",
       "      <td>1600.0</td>\n",
       "      <td>2004</td>\n",
       "      <td>122000</td>\n",
       "      <td>honda</td>\n",
       "      <td>odyssey</td>\n",
       "      <td>missing</td>\n",
       "      <td>gas</td>\n",
       "      <td>automatic</td>\n",
       "      <td>missing</td>\n",
       "      <td>missing</td>\n",
       "      <td>...</td>\n",
       "      <td>missing</td>\n",
       "      <td>TX</td>\n",
       "      <td>97.5</td>\n",
       "      <td>20</td>\n",
       "      <td>5.94</td>\n",
       "      <td>2.5</td>\n",
       "      <td>5.0</td>\n",
       "      <td>odyssey</td>\n",
       "      <td>9771.27</td>\n",
       "      <td>2.5</td>\n",
       "    </tr>\n",
       "    <tr>\n",
       "      <th>256070</th>\n",
       "      <td>12000.0</td>\n",
       "      <td>2012</td>\n",
       "      <td>80920</td>\n",
       "      <td>cadillac</td>\n",
       "      <td>cts 3.6l v6 premium</td>\n",
       "      <td>6 cylinders</td>\n",
       "      <td>gas</td>\n",
       "      <td>automatic</td>\n",
       "      <td>4wd</td>\n",
       "      <td>like new</td>\n",
       "      <td>...</td>\n",
       "      <td>missing</td>\n",
       "      <td>NJ</td>\n",
       "      <td>108.8</td>\n",
       "      <td>12</td>\n",
       "      <td>6.00</td>\n",
       "      <td>4.0</td>\n",
       "      <td>4.0</td>\n",
       "      <td>premium</td>\n",
       "      <td>22706.78</td>\n",
       "      <td>4.5</td>\n",
       "    </tr>\n",
       "    <tr>\n",
       "      <th>21023</th>\n",
       "      <td>37990.0</td>\n",
       "      <td>2019</td>\n",
       "      <td>8350</td>\n",
       "      <td>tesla</td>\n",
       "      <td>model 3 standard range</td>\n",
       "      <td>missing</td>\n",
       "      <td>other</td>\n",
       "      <td>other</td>\n",
       "      <td>rwd</td>\n",
       "      <td>good</td>\n",
       "      <td>...</td>\n",
       "      <td>5YJ3E1EA3KF474180</td>\n",
       "      <td>AR</td>\n",
       "      <td>86.6</td>\n",
       "      <td>5</td>\n",
       "      <td>5.94</td>\n",
       "      <td>4.0</td>\n",
       "      <td>5.0</td>\n",
       "      <td>and</td>\n",
       "      <td>19410.89</td>\n",
       "      <td>5.0</td>\n",
       "    </tr>\n",
       "    <tr>\n",
       "      <th>336609</th>\n",
       "      <td>26379.0</td>\n",
       "      <td>2014</td>\n",
       "      <td>100000</td>\n",
       "      <td>chevrolet</td>\n",
       "      <td>silverado 2500 hd lt</td>\n",
       "      <td>8 cylinders</td>\n",
       "      <td>gas</td>\n",
       "      <td>automatic</td>\n",
       "      <td>4wd</td>\n",
       "      <td>excellent</td>\n",
       "      <td>...</td>\n",
       "      <td>missing</td>\n",
       "      <td>PA</td>\n",
       "      <td>96.2</td>\n",
       "      <td>10</td>\n",
       "      <td>8.00</td>\n",
       "      <td>4.0</td>\n",
       "      <td>4.0</td>\n",
       "      <td>silverado</td>\n",
       "      <td>20123.39</td>\n",
       "      <td>2.5</td>\n",
       "    </tr>\n",
       "  </tbody>\n",
       "</table>\n",
       "<p>5 rows × 24 columns</p>\n",
       "</div>"
      ],
      "text/plain": [
       "          price  year  odometer manufacturer                   model  \\\n",
       "376056   9995.0  2014     88867          kia                  optima   \n",
       "373966   1600.0  2004    122000        honda                 odyssey   \n",
       "256070  12000.0  2012     80920     cadillac     cts 3.6l v6 premium   \n",
       "21023   37990.0  2019      8350        tesla  model 3 standard range   \n",
       "336609  26379.0  2014    100000    chevrolet    silverado 2500 hd lt   \n",
       "\n",
       "          cylinders   fuel transmission    drive  condition  ...  \\\n",
       "376056  4 cylinders    gas    automatic  missing   like new  ...   \n",
       "373966      missing    gas    automatic  missing    missing  ...   \n",
       "256070  6 cylinders    gas    automatic      4wd   like new  ...   \n",
       "21023       missing  other        other      rwd       good  ...   \n",
       "336609  8 cylinders    gas    automatic      4wd  excellent  ...   \n",
       "\n",
       "                      VIN state state_RPP years_from_now cylinders_number  \\\n",
       "376056            missing    TX      97.5             10             4.00   \n",
       "373966            missing    TX      97.5             20             5.94   \n",
       "256070            missing    NJ     108.8             12             6.00   \n",
       "21023   5YJ3E1EA3KF474180    AR      86.6              5             5.94   \n",
       "336609            missing    PA      96.2             10             8.00   \n",
       "\n",
       "       title_status_scale  size_scale  model_nlp  model_numvalue  \\\n",
       "376056                4.0         5.0     optima        11466.75   \n",
       "373966                2.5         5.0    odyssey         9771.27   \n",
       "256070                4.0         4.0    premium        22706.78   \n",
       "21023                 4.0         5.0        and        19410.89   \n",
       "336609                4.0         4.0  silverado        20123.39   \n",
       "\n",
       "        condition_scale  \n",
       "376056              4.5  \n",
       "373966              2.5  \n",
       "256070              4.5  \n",
       "21023               5.0  \n",
       "336609              2.5  \n",
       "\n",
       "[5 rows x 24 columns]"
      ]
     },
     "execution_count": 162,
     "metadata": {},
     "output_type": "execute_result"
    }
   ],
   "source": [
    "UsedCarPrices_wNF.sample(5)"
   ]
  },
  {
   "cell_type": "markdown",
   "metadata": {},
   "source": [
    "#### New Feature 07 - condition_scale\n",
    "\n",
    "Detail: converting car condition to numerical. bad condition given low, good condition given high, missing is average.\n",
    "\n",
    "**exception** target encoding excellent to 2.5, good to 5\n",
    "\n",
    "Technique used: Categorical values to numerical values mapping"
   ]
  },
  {
   "cell_type": "code",
   "execution_count": 163,
   "metadata": {},
   "outputs": [],
   "source": [
    "condition_map = {'salvage':.5,'fair':.5,'missing':2.5,'excellent':2.5,'like new':4.5,'new':5,'good':5}\n",
    "UsedCarPrices_wNF['condition_scale'] = UsedCarPrices_wNF['condition'].map(condition_map)"
   ]
  },
  {
   "cell_type": "markdown",
   "metadata": {},
   "source": [
    "#### Dropping Features from which the numerical features were created"
   ]
  },
  {
   "cell_type": "code",
   "execution_count": 164,
   "metadata": {},
   "outputs": [],
   "source": [
    "# Drop Old features\n",
    "drop_col = ['year','cylinders','title_status', 'state','state_RPP_value','size','model','model_nlp','condition']\n",
    "UsedCarPrices_wNF = UsedCarPrices_wNF.drop(drop_col, axis=1, errors='ignore')"
   ]
  },
  {
   "cell_type": "markdown",
   "metadata": {
    "scrolled": false
   },
   "source": [
    "## F2) New Categorical Features"
   ]
  },
  {
   "cell_type": "markdown",
   "metadata": {},
   "source": [
    "#### New Feature 08 - Country of Origin\n",
    "\n",
    "Detail: The VIN field is NOT a junk field rather it is an entire repository of information by in itself. I am using some python modules available to extract the Country of Origin information from the VIN. There is a huge potential to derive much more information from it.\n",
    "\n",
    "Technique used: Python car-industry domain specific modules (VIN)"
   ]
  },
  {
   "cell_type": "code",
   "execution_count": 165,
   "metadata": {},
   "outputs": [],
   "source": [
    "from vininfo import Vin\n",
    "\n",
    "def get_country_or_other(vin):\n",
    "    if len(vin) == 17:\n",
    "        try:\n",
    "            return Vin(vin).country\n",
    "        except:\n",
    "            return 'other'\n",
    "    else:\n",
    "        return 'other'\n",
    "    \n",
    "UsedCarPrices_wNF['countryoforigin'] = UsedCarPrices_wNF['VIN'].apply(get_country_or_other)\n",
    "\n",
    "countrylist = ['United States','Mexico','Japan','Germany','Canada']\n",
    "\n",
    "UsedCarPrices_wNF['countryoforigin'] = UsedCarPrices_wNF['countryoforigin'].apply(lambda x: x if x in countrylist else 'Other')"
   ]
  },
  {
   "cell_type": "markdown",
   "metadata": {},
   "source": [
    "#### New Feature 09 - Luxury Brand\n",
    "\n",
    "Detail: Converting Manufacture column into Luxury Column, by identifying certain manufacturers as luxury brands\n",
    "\n",
    "Technique used: Mapping, Binning"
   ]
  },
  {
   "cell_type": "code",
   "execution_count": 166,
   "metadata": {},
   "outputs": [],
   "source": [
    "luxury_car_brands = [\"cadillac\", \"lexus\", \"jaguar\", \"volvo\", \"audi\", \"infiniti\", \n",
    "                     \"lincoln\", \"alfa romeo\", \"acura\", \"mercedes-benz\", \"bmw\", \"porsche\", \"ferrari\", \"tesla\"]\n",
    "UsedCarPrices_wNF['luxury_brand'] = UsedCarPrices_wNF['manufacturer'].apply(lambda x: 'Yes' if x in luxury_car_brands else 'No')"
   ]
  },
  {
   "cell_type": "markdown",
   "metadata": {},
   "source": [
    "#### New Feature 10 - Car Type Bins\n",
    "\n",
    "Detail: Converting Car Types with huge unique values into car type bins\n",
    "\n",
    "Technique used: Mapping, Binning"
   ]
  },
  {
   "cell_type": "code",
   "execution_count": 167,
   "metadata": {},
   "outputs": [],
   "source": [
    "# New Cat Feature 03: cartypebins\n",
    "manyto1_dict = {('sedan', 'wagon', 'hatchback'): 'passenger', \n",
    "                ('convertible', 'coupe'): 'special',\n",
    "                ('pickup', 'truck', 'van', 'mini-van', 'offroad'): 'truck/van', \n",
    "                ('bus', 'other', 'missing'): 'other'}\n",
    "cartype_map = {key: value for keys, value in manyto1_dict.items() for key in keys}\n",
    "cartype_map = {**cartype_map, **{'SUV':'SUV'}}\n",
    "UsedCarPrices_wNF['cartypebins'] = UsedCarPrices_wNF['type'].map(cartype_map)"
   ]
  },
  {
   "cell_type": "markdown",
   "metadata": {},
   "source": [
    "#### New Feature 11 - Transmission_Other\n",
    "\n",
    "Detail: automatic and manual transmission have about the same average price, however the other one is a whole standard deviation higher. So clubbing automatic and manual. These could be special tranmissions - high-speed automatics, electrics, others\n",
    "\n",
    "Technique used: Mapping, Binning"
   ]
  },
  {
   "cell_type": "code",
   "execution_count": 168,
   "metadata": {},
   "outputs": [],
   "source": [
    "transmission_map = {'other':'Y', 'automatic':'N', 'manual':'N'}\n",
    "UsedCarPrices_wNF['transmission_other'] = UsedCarPrices_wNF['transmission'].map(transmission_map)"
   ]
  },
  {
   "cell_type": "markdown",
   "metadata": {},
   "source": [
    "#### New Feature 12 - Paint Colors\n",
    "\n",
    "Detail: Binning Car Paint Colors based on their average pricing\n",
    "\n",
    "Technique used: Binning"
   ]
  },
  {
   "cell_type": "code",
   "execution_count": 169,
   "metadata": {},
   "outputs": [],
   "source": [
    "# New Cat Feature 04: paintcolor_priceness\n",
    "manyto1_dict = {('black', 'white','orange'):'high', \n",
    "                ('grey', 'purple', 'green'):'low',\n",
    "                ('blue', 'red', 'silver', 'missing', 'brown', 'yellow', 'custom'):'median'}             \n",
    "paintcolor_map = {key: value for keys, value in manyto1_dict.items() for key in keys}\n",
    "UsedCarPrices_wNF['paintcolorpriciness'] = UsedCarPrices_wNF['paint_color'].map(paintcolor_map)"
   ]
  },
  {
   "cell_type": "markdown",
   "metadata": {},
   "source": [
    "#### New Feature 13 - New Feature from Manufacture\n",
    "\n",
    "Detail: Taking only the names of manufacturer who give the top 85% of the count and setting others to 'other'. OneHotCoding with all the ~40 manufactures is not possible to run in my system\n",
    "\n",
    "Technique used: Binning"
   ]
  },
  {
   "cell_type": "code",
   "execution_count": 216,
   "metadata": {},
   "outputs": [],
   "source": [
    "lesscount_manuf = {'cadillac': 'other', 'chrysler': 'other', 'acura': 'other', 'mazda': 'other', 'buick': 'other', 'infiniti': 'other', 'lincoln': 'other', 'volvo': 'other', 'mitsubishi': 'other', 'mini': 'other', 'pontiac': 'other', 'jaguar': 'other', 'rover': 'other', 'saturn': 'other', 'mercury': 'other', 'porsche': 'other', 'fiat': 'other', 'alfa-romeo': 'other', 'tesla': 'other', 'harley-davidson': 'other', 'ferrari': 'other', 'land rover': 'other', 'aston-martin': 'other'}\n",
    "\n",
    "UsedCarPrices_wNF['manuf_new'] = UsedCarPrices_wNF['manufacturer']\n",
    "UsedCarPrices_wNF['manuf_new'] = UsedCarPrices_wNF['manufacturer'].replace(lesscount_manuf)"
   ]
  },
  {
   "cell_type": "markdown",
   "metadata": {},
   "source": [
    "#### Dropping Features from which the categorical features were created"
   ]
  },
  {
   "cell_type": "code",
   "execution_count": 220,
   "metadata": {},
   "outputs": [],
   "source": [
    "# Drop Old features\n",
    "drop_col = ['manufacturer','VIN','type', 'transmission','paint_color']\n",
    "UsedCarPrices_wNF = UsedCarPrices_wNF.drop(drop_col, axis=1, errors='ignore')"
   ]
  },
  {
   "cell_type": "markdown",
   "metadata": {
    "scrolled": false
   },
   "source": [
    "## F3) Final look at Feature Engineered dataset"
   ]
  },
  {
   "cell_type": "code",
   "execution_count": 221,
   "metadata": {},
   "outputs": [
    {
     "name": "stdout",
     "output_type": "stream",
     "text": [
      "<class 'pandas.core.frame.DataFrame'>\n",
      "Int64Index: 221640 entries, 27 to 426879\n",
      "Data columns (total 17 columns):\n",
      " #   Column               Non-Null Count   Dtype  \n",
      "---  ------               --------------   -----  \n",
      " 0   price                221640 non-null  float64\n",
      " 1   odometer             221640 non-null  int64  \n",
      " 2   fuel                 221640 non-null  object \n",
      " 3   drive                221640 non-null  object \n",
      " 4   state_RPP            221640 non-null  float64\n",
      " 5   years_from_now       221640 non-null  int64  \n",
      " 6   cylinders_number     221640 non-null  float64\n",
      " 7   title_status_scale   221640 non-null  float64\n",
      " 8   size_scale           221640 non-null  float64\n",
      " 9   model_numvalue       221640 non-null  float64\n",
      " 10  condition_scale      221640 non-null  float64\n",
      " 11  countryoforigin      221640 non-null  object \n",
      " 12  luxury_brand         221640 non-null  object \n",
      " 13  cartypebins          221640 non-null  object \n",
      " 14  transmission_other   221640 non-null  object \n",
      " 15  paintcolorpriciness  221640 non-null  object \n",
      " 16  manuf_new            221640 non-null  object \n",
      "dtypes: float64(7), int64(2), object(8)\n",
      "memory usage: 38.5+ MB\n"
     ]
    }
   ],
   "source": [
    "UsedCarPrices_wNF.info()"
   ]
  },
  {
   "cell_type": "markdown",
   "metadata": {},
   "source": [
    "# Section G: Model Engineering\n",
    "\n",
    "\n",
    "The very Hypothesis of this project is to evaluate the effect of Feature Engineering on Model Accuracy. We cannot vary more than 1 variable for valid comparison. So for the purpose of this project, we will not modify the models, but run the models on the same Evaluation Models and Metrics on which we can our Pre-Feature-Engineered Data"
   ]
  },
  {
   "cell_type": "markdown",
   "metadata": {},
   "source": [
    "# Section H: Evaluation\n",
    "\n",
    "\n",
    "Lets run the earlier establish models and metrics on the feature engineered data"
   ]
  },
  {
   "cell_type": "markdown",
   "metadata": {},
   "source": [
    "## H1) Evaluating Feature Engineering Performance"
   ]
  },
  {
   "cell_type": "code",
   "execution_count": 222,
   "metadata": {},
   "outputs": [],
   "source": [
    "# X/y split of feature engineered data\n",
    "\n",
    "y_column = ['price']\n",
    "UsedCarPrices_wNF_X  = UsedCarPrices_wNF.drop(y_column, axis=1, errors='ignore')\n",
    "UsedCarPrices_wNF_y  = UsedCarPrices_wNF[y_column].copy()"
   ]
  },
  {
   "cell_type": "code",
   "execution_count": 223,
   "metadata": {},
   "outputs": [
    {
     "name": "stdout",
     "output_type": "stream",
     "text": [
      "Lin run time: 0.4 seconds\n",
      "KNN run time: 108.1 seconds\n",
      "DEC run time: 3.4 seconds\n",
      "GBR run time: 57.5 seconds\n",
      "run time: 169.5 seconds\n"
     ]
    },
    {
     "data": {
      "text/html": [
       "<div>\n",
       "<style scoped>\n",
       "    .dataframe tbody tr th:only-of-type {\n",
       "        vertical-align: middle;\n",
       "    }\n",
       "\n",
       "    .dataframe tbody tr th {\n",
       "        vertical-align: top;\n",
       "    }\n",
       "\n",
       "    .dataframe thead th {\n",
       "        text-align: right;\n",
       "    }\n",
       "</style>\n",
       "<table border=\"1\" class=\"dataframe\">\n",
       "  <thead>\n",
       "    <tr style=\"text-align: right;\">\n",
       "      <th></th>\n",
       "      <th>Lin</th>\n",
       "      <th>KNN</th>\n",
       "      <th>DEC</th>\n",
       "      <th>GBR</th>\n",
       "    </tr>\n",
       "  </thead>\n",
       "  <tbody>\n",
       "    <tr>\n",
       "      <th>RMSE</th>\n",
       "      <td>5334.77</td>\n",
       "      <td>4953.79</td>\n",
       "      <td>4685.89</td>\n",
       "      <td>4534.37</td>\n",
       "    </tr>\n",
       "    <tr>\n",
       "      <th>Acc_Train</th>\n",
       "      <td>0.7424</td>\n",
       "      <td>0.8585</td>\n",
       "      <td>0.9999</td>\n",
       "      <td>0.8152</td>\n",
       "    </tr>\n",
       "    <tr>\n",
       "      <th>Acc_Test/R2</th>\n",
       "      <td>0.7361</td>\n",
       "      <td>0.7724</td>\n",
       "      <td>0.7964</td>\n",
       "      <td>0.8093</td>\n",
       "    </tr>\n",
       "  </tbody>\n",
       "</table>\n",
       "</div>"
      ],
      "text/plain": [
       "                 Lin      KNN      DEC      GBR\n",
       "RMSE         5334.77  4953.79  4685.89  4534.37\n",
       "Acc_Train     0.7424   0.8585   0.9999   0.8152\n",
       "Acc_Test/R2   0.7361   0.7724   0.7964   0.8093"
      ]
     },
     "execution_count": 223,
     "metadata": {},
     "output_type": "execute_result"
    }
   ],
   "source": [
    "# Running Evaluation on post-feature-engineered Clean and Scaled data\n",
    "\n",
    "UsedCarPrices_X_scaled = preprocessX(UsedCarPrices_wNF_X)\n",
    "\n",
    "tik = time.time()\n",
    "\n",
    "eval_final = evalR(UsedCarPrices_X_scaled,UsedCarPrices_wNF_y)\n",
    "\n",
    "tok = time.time()\n",
    "print('run time:' , '%.1f' % (tok-tik) , 'seconds')\n",
    "\n",
    "eval_final"
   ]
  },
  {
   "cell_type": "markdown",
   "metadata": {},
   "source": [
    "#### I ran Random Forest a few line below here. Appending those values here."
   ]
  },
  {
   "cell_type": "code",
   "execution_count": 272,
   "metadata": {},
   "outputs": [
    {
     "data": {
      "text/html": [
       "<div>\n",
       "<style scoped>\n",
       "    .dataframe tbody tr th:only-of-type {\n",
       "        vertical-align: middle;\n",
       "    }\n",
       "\n",
       "    .dataframe tbody tr th {\n",
       "        vertical-align: top;\n",
       "    }\n",
       "\n",
       "    .dataframe thead th {\n",
       "        text-align: right;\n",
       "    }\n",
       "</style>\n",
       "<table border=\"1\" class=\"dataframe\">\n",
       "  <thead>\n",
       "    <tr style=\"text-align: right;\">\n",
       "      <th></th>\n",
       "      <th>Lin</th>\n",
       "      <th>KNN</th>\n",
       "      <th>DEC</th>\n",
       "      <th>GBR</th>\n",
       "      <th>RAN</th>\n",
       "    </tr>\n",
       "  </thead>\n",
       "  <tbody>\n",
       "    <tr>\n",
       "      <th>RMSE</th>\n",
       "      <td>5334.77</td>\n",
       "      <td>4953.79</td>\n",
       "      <td>4685.89</td>\n",
       "      <td>4534.37</td>\n",
       "      <td>3320.4000</td>\n",
       "    </tr>\n",
       "    <tr>\n",
       "      <th>Acc_Train</th>\n",
       "      <td>0.7424</td>\n",
       "      <td>0.8585</td>\n",
       "      <td>0.9999</td>\n",
       "      <td>0.8152</td>\n",
       "      <td>0.9859</td>\n",
       "    </tr>\n",
       "    <tr>\n",
       "      <th>Acc_Test/R2</th>\n",
       "      <td>0.7361</td>\n",
       "      <td>0.7724</td>\n",
       "      <td>0.7964</td>\n",
       "      <td>0.8093</td>\n",
       "      <td>0.8985</td>\n",
       "    </tr>\n",
       "  </tbody>\n",
       "</table>\n",
       "</div>"
      ],
      "text/plain": [
       "                 Lin      KNN      DEC      GBR        RAN\n",
       "RMSE         5334.77  4953.79  4685.89  4534.37  3320.4000\n",
       "Acc_Train     0.7424   0.8585   0.9999   0.8152     0.9859\n",
       "Acc_Test/R2   0.7361   0.7724   0.7964   0.8093     0.8985"
      ]
     },
     "execution_count": 272,
     "metadata": {},
     "output_type": "execute_result"
    }
   ],
   "source": [
    "eval_final"
   ]
  },
  {
   "cell_type": "markdown",
   "metadata": {},
   "source": [
    "## H2) Important Features Identification"
   ]
  },
  {
   "cell_type": "code",
   "execution_count": 247,
   "metadata": {},
   "outputs": [],
   "source": [
    "y_column = ['price']\n",
    "UsedCarPrices_wNF_X  = UsedCarPrices_wNF.drop(y_column, axis=1, errors='ignore')\n",
    "UsedCarPrices_wNF_y  = UsedCarPrices_wNF[y_column].copy()\n",
    "UsedCarPrices_X_scaled = preprocessX(UsedCarPrices_wNF_X)\n",
    "X_train, X_test, y_train, y_test = train_test_split(UsedCarPrices_X_scaled, UsedCarPrices_wNF_y, test_size = 0.2)"
   ]
  },
  {
   "cell_type": "code",
   "execution_count": 283,
   "metadata": {},
   "outputs": [
    {
     "name": "stdout",
     "output_type": "stream",
     "text": [
      "These are the Features of the dataset ranked by Coefficient values of Linear Regression\n"
     ]
    },
    {
     "data": {
      "text/html": [
       "<div>\n",
       "<style scoped>\n",
       "    .dataframe tbody tr th:only-of-type {\n",
       "        vertical-align: middle;\n",
       "    }\n",
       "\n",
       "    .dataframe tbody tr th {\n",
       "        vertical-align: top;\n",
       "    }\n",
       "\n",
       "    .dataframe thead th {\n",
       "        text-align: right;\n",
       "    }\n",
       "</style>\n",
       "<table border=\"1\" class=\"dataframe\">\n",
       "  <thead>\n",
       "    <tr style=\"text-align: right;\">\n",
       "      <th></th>\n",
       "      <th>features</th>\n",
       "      <th>coefficients</th>\n",
       "      <th>featurerank_lin</th>\n",
       "    </tr>\n",
       "  </thead>\n",
       "  <tbody>\n",
       "    <tr>\n",
       "      <th>2</th>\n",
       "      <td>drive</td>\n",
       "      <td>-22419.745959</td>\n",
       "      <td>1.0</td>\n",
       "    </tr>\n",
       "    <tr>\n",
       "      <th>6</th>\n",
       "      <td>title_status_scale</td>\n",
       "      <td>20018.709522</td>\n",
       "      <td>2.0</td>\n",
       "    </tr>\n",
       "    <tr>\n",
       "      <th>3</th>\n",
       "      <td>state_RPP</td>\n",
       "      <td>13518.436342</td>\n",
       "      <td>3.0</td>\n",
       "    </tr>\n",
       "    <tr>\n",
       "      <th>0</th>\n",
       "      <td>odometer</td>\n",
       "      <td>-13483.435162</td>\n",
       "      <td>4.0</td>\n",
       "    </tr>\n",
       "    <tr>\n",
       "      <th>4</th>\n",
       "      <td>years_from_now</td>\n",
       "      <td>9243.655546</td>\n",
       "      <td>5.0</td>\n",
       "    </tr>\n",
       "    <tr>\n",
       "      <th>11</th>\n",
       "      <td>luxury_brand</td>\n",
       "      <td>2102.924358</td>\n",
       "      <td>6.0</td>\n",
       "    </tr>\n",
       "    <tr>\n",
       "      <th>8</th>\n",
       "      <td>model_numvalue</td>\n",
       "      <td>-1482.074106</td>\n",
       "      <td>7.0</td>\n",
       "    </tr>\n",
       "    <tr>\n",
       "      <th>13</th>\n",
       "      <td>transmission_other</td>\n",
       "      <td>1384.222093</td>\n",
       "      <td>8.0</td>\n",
       "    </tr>\n",
       "    <tr>\n",
       "      <th>5</th>\n",
       "      <td>cylinders_number</td>\n",
       "      <td>1349.537603</td>\n",
       "      <td>9.0</td>\n",
       "    </tr>\n",
       "    <tr>\n",
       "      <th>7</th>\n",
       "      <td>size_scale</td>\n",
       "      <td>-937.802262</td>\n",
       "      <td>10.0</td>\n",
       "    </tr>\n",
       "    <tr>\n",
       "      <th>9</th>\n",
       "      <td>condition_scale</td>\n",
       "      <td>-603.726001</td>\n",
       "      <td>11.0</td>\n",
       "    </tr>\n",
       "    <tr>\n",
       "      <th>12</th>\n",
       "      <td>cartypebins</td>\n",
       "      <td>434.738635</td>\n",
       "      <td>12.0</td>\n",
       "    </tr>\n",
       "    <tr>\n",
       "      <th>14</th>\n",
       "      <td>paintcolorpriciness</td>\n",
       "      <td>-315.083006</td>\n",
       "      <td>13.0</td>\n",
       "    </tr>\n",
       "    <tr>\n",
       "      <th>10</th>\n",
       "      <td>countryoforigin</td>\n",
       "      <td>203.656719</td>\n",
       "      <td>14.0</td>\n",
       "    </tr>\n",
       "    <tr>\n",
       "      <th>1</th>\n",
       "      <td>fuel</td>\n",
       "      <td>13.277371</td>\n",
       "      <td>15.0</td>\n",
       "    </tr>\n",
       "    <tr>\n",
       "      <th>15</th>\n",
       "      <td>manuf_new</td>\n",
       "      <td>-8.491972</td>\n",
       "      <td>16.0</td>\n",
       "    </tr>\n",
       "  </tbody>\n",
       "</table>\n",
       "</div>"
      ],
      "text/plain": [
       "               features  coefficients  featurerank_lin\n",
       "2                 drive -22419.745959              1.0\n",
       "6    title_status_scale  20018.709522              2.0\n",
       "3             state_RPP  13518.436342              3.0\n",
       "0              odometer -13483.435162              4.0\n",
       "4        years_from_now   9243.655546              5.0\n",
       "11         luxury_brand   2102.924358              6.0\n",
       "8        model_numvalue  -1482.074106              7.0\n",
       "13   transmission_other   1384.222093              8.0\n",
       "5      cylinders_number   1349.537603              9.0\n",
       "7            size_scale   -937.802262             10.0\n",
       "9       condition_scale   -603.726001             11.0\n",
       "12          cartypebins    434.738635             12.0\n",
       "14  paintcolorpriciness   -315.083006             13.0\n",
       "10      countryoforigin    203.656719             14.0\n",
       "1                  fuel     13.277371             15.0\n",
       "15            manuf_new     -8.491972             16.0"
      ]
     },
     "execution_count": 283,
     "metadata": {},
     "output_type": "execute_result"
    }
   ],
   "source": [
    "# Feature Importance by Lin Reg Coefficients\n",
    "\n",
    "model_linreg = LinearRegression()\n",
    "model_linreg.fit(X_train, y_train)\n",
    "\n",
    "featimp_lin = pd.DataFrame({'features': UsedCarPrices_wNF_X.columns.tolist(), 'coefficients':model_linreg.coef_[0]})\n",
    "\n",
    "featimp_lin['mod_coeff'] = featimp_lin['coefficients'].abs()\n",
    "\n",
    "featimp_lin['featurerank_lin'] = featimp_lin['mod_coeff'].rank(ascending=False)\n",
    "featimp_lin = featimp_lin.sort_values(by='featurerank_lin')\n",
    "\n",
    "print('These are the Features of the dataset ranked by Coefficient values of Linear Regression')\n",
    "\n",
    "featimp_lin[['features','coefficients','featurerank_lin']]"
   ]
  },
  {
   "cell_type": "code",
   "execution_count": null,
   "metadata": {},
   "outputs": [],
   "source": []
  },
  {
   "cell_type": "code",
   "execution_count": 251,
   "metadata": {},
   "outputs": [
    {
     "data": {
      "text/html": [
       "<style>#sk-container-id-4 {color: black;}#sk-container-id-4 pre{padding: 0;}#sk-container-id-4 div.sk-toggleable {background-color: white;}#sk-container-id-4 label.sk-toggleable__label {cursor: pointer;display: block;width: 100%;margin-bottom: 0;padding: 0.3em;box-sizing: border-box;text-align: center;}#sk-container-id-4 label.sk-toggleable__label-arrow:before {content: \"▸\";float: left;margin-right: 0.25em;color: #696969;}#sk-container-id-4 label.sk-toggleable__label-arrow:hover:before {color: black;}#sk-container-id-4 div.sk-estimator:hover label.sk-toggleable__label-arrow:before {color: black;}#sk-container-id-4 div.sk-toggleable__content {max-height: 0;max-width: 0;overflow: hidden;text-align: left;background-color: #f0f8ff;}#sk-container-id-4 div.sk-toggleable__content pre {margin: 0.2em;color: black;border-radius: 0.25em;background-color: #f0f8ff;}#sk-container-id-4 input.sk-toggleable__control:checked~div.sk-toggleable__content {max-height: 200px;max-width: 100%;overflow: auto;}#sk-container-id-4 input.sk-toggleable__control:checked~label.sk-toggleable__label-arrow:before {content: \"▾\";}#sk-container-id-4 div.sk-estimator input.sk-toggleable__control:checked~label.sk-toggleable__label {background-color: #d4ebff;}#sk-container-id-4 div.sk-label input.sk-toggleable__control:checked~label.sk-toggleable__label {background-color: #d4ebff;}#sk-container-id-4 input.sk-hidden--visually {border: 0;clip: rect(1px 1px 1px 1px);clip: rect(1px, 1px, 1px, 1px);height: 1px;margin: -1px;overflow: hidden;padding: 0;position: absolute;width: 1px;}#sk-container-id-4 div.sk-estimator {font-family: monospace;background-color: #f0f8ff;border: 1px dotted black;border-radius: 0.25em;box-sizing: border-box;margin-bottom: 0.5em;}#sk-container-id-4 div.sk-estimator:hover {background-color: #d4ebff;}#sk-container-id-4 div.sk-parallel-item::after {content: \"\";width: 100%;border-bottom: 1px solid gray;flex-grow: 1;}#sk-container-id-4 div.sk-label:hover label.sk-toggleable__label {background-color: #d4ebff;}#sk-container-id-4 div.sk-serial::before {content: \"\";position: absolute;border-left: 1px solid gray;box-sizing: border-box;top: 0;bottom: 0;left: 50%;z-index: 0;}#sk-container-id-4 div.sk-serial {display: flex;flex-direction: column;align-items: center;background-color: white;padding-right: 0.2em;padding-left: 0.2em;position: relative;}#sk-container-id-4 div.sk-item {position: relative;z-index: 1;}#sk-container-id-4 div.sk-parallel {display: flex;align-items: stretch;justify-content: center;background-color: white;position: relative;}#sk-container-id-4 div.sk-item::before, #sk-container-id-4 div.sk-parallel-item::before {content: \"\";position: absolute;border-left: 1px solid gray;box-sizing: border-box;top: 0;bottom: 0;left: 50%;z-index: -1;}#sk-container-id-4 div.sk-parallel-item {display: flex;flex-direction: column;z-index: 1;position: relative;background-color: white;}#sk-container-id-4 div.sk-parallel-item:first-child::after {align-self: flex-end;width: 50%;}#sk-container-id-4 div.sk-parallel-item:last-child::after {align-self: flex-start;width: 50%;}#sk-container-id-4 div.sk-parallel-item:only-child::after {width: 0;}#sk-container-id-4 div.sk-dashed-wrapped {border: 1px dashed gray;margin: 0 0.4em 0.5em 0.4em;box-sizing: border-box;padding-bottom: 0.4em;background-color: white;}#sk-container-id-4 div.sk-label label {font-family: monospace;font-weight: bold;display: inline-block;line-height: 1.2em;}#sk-container-id-4 div.sk-label-container {text-align: center;}#sk-container-id-4 div.sk-container {/* jupyter's `normalize.less` sets `[hidden] { display: none; }` but bootstrap.min.css set `[hidden] { display: none !important; }` so we also need the `!important` here to be able to override the default hidden behavior on the sphinx rendered scikit-learn.org. See: https://github.com/scikit-learn/scikit-learn/issues/21755 */display: inline-block !important;position: relative;}#sk-container-id-4 div.sk-text-repr-fallback {display: none;}</style><div id=\"sk-container-id-4\" class=\"sk-top-container\"><div class=\"sk-text-repr-fallback\"><pre>RandomForestRegressor()</pre><b>In a Jupyter environment, please rerun this cell to show the HTML representation or trust the notebook. <br />On GitHub, the HTML representation is unable to render, please try loading this page with nbviewer.org.</b></div><div class=\"sk-container\" hidden><div class=\"sk-item\"><div class=\"sk-estimator sk-toggleable\"><input class=\"sk-toggleable__control sk-hidden--visually\" id=\"sk-estimator-id-4\" type=\"checkbox\" checked><label for=\"sk-estimator-id-4\" class=\"sk-toggleable__label sk-toggleable__label-arrow\">RandomForestRegressor</label><div class=\"sk-toggleable__content\"><pre>RandomForestRegressor()</pre></div></div></div></div></div>"
      ],
      "text/plain": [
       "RandomForestRegressor()"
      ]
     },
     "execution_count": 251,
     "metadata": {},
     "output_type": "execute_result"
    }
   ],
   "source": [
    "# Feature Importance by Random Forest\n",
    "\n",
    "model_tree = RandomForestRegressor()\n",
    "model_tree.fit(X_train, y_train)"
   ]
  },
  {
   "cell_type": "code",
   "execution_count": 254,
   "metadata": {},
   "outputs": [
    {
     "name": "stdout",
     "output_type": "stream",
     "text": [
      "3320.4037366360576\n",
      "0.9859\n",
      "0.8985\n"
     ]
    }
   ],
   "source": [
    "y_pred = model_tree.predict(X_test)\n",
    "mse = mean_squared_error(y_test, y_pred)\n",
    "rmse = np.sqrt(mse)\n",
    "print(rmse)\n",
    "print(\"%.4f\" % model_tree.score(X_train, y_train))\n",
    "print(\"%.4f\" % model_tree.score(X_test, y_test))"
   ]
  },
  {
   "cell_type": "code",
   "execution_count": 284,
   "metadata": {},
   "outputs": [
    {
     "name": "stdout",
     "output_type": "stream",
     "text": [
      "These are the Features of the dataset ranked by Coefficient values of Random Forest\n"
     ]
    },
    {
     "data": {
      "text/html": [
       "<div>\n",
       "<style scoped>\n",
       "    .dataframe tbody tr th:only-of-type {\n",
       "        vertical-align: middle;\n",
       "    }\n",
       "\n",
       "    .dataframe tbody tr th {\n",
       "        vertical-align: top;\n",
       "    }\n",
       "\n",
       "    .dataframe thead th {\n",
       "        text-align: right;\n",
       "    }\n",
       "</style>\n",
       "<table border=\"1\" class=\"dataframe\">\n",
       "  <thead>\n",
       "    <tr style=\"text-align: right;\">\n",
       "      <th></th>\n",
       "      <th>features</th>\n",
       "      <th>ranfeatimp</th>\n",
       "      <th>featurerank_ran</th>\n",
       "    </tr>\n",
       "  </thead>\n",
       "  <tbody>\n",
       "    <tr>\n",
       "      <th>2</th>\n",
       "      <td>drive</td>\n",
       "      <td>0.476271</td>\n",
       "      <td>1.0</td>\n",
       "    </tr>\n",
       "    <tr>\n",
       "      <th>6</th>\n",
       "      <td>title_status_scale</td>\n",
       "      <td>0.200880</td>\n",
       "      <td>2.0</td>\n",
       "    </tr>\n",
       "    <tr>\n",
       "      <th>0</th>\n",
       "      <td>odometer</td>\n",
       "      <td>0.097589</td>\n",
       "      <td>3.0</td>\n",
       "    </tr>\n",
       "    <tr>\n",
       "      <th>3</th>\n",
       "      <td>state_RPP</td>\n",
       "      <td>0.044606</td>\n",
       "      <td>4.0</td>\n",
       "    </tr>\n",
       "    <tr>\n",
       "      <th>9</th>\n",
       "      <td>condition_scale</td>\n",
       "      <td>0.029336</td>\n",
       "      <td>5.0</td>\n",
       "    </tr>\n",
       "    <tr>\n",
       "      <th>15</th>\n",
       "      <td>manuf_new</td>\n",
       "      <td>0.027474</td>\n",
       "      <td>6.0</td>\n",
       "    </tr>\n",
       "    <tr>\n",
       "      <th>8</th>\n",
       "      <td>model_numvalue</td>\n",
       "      <td>0.024408</td>\n",
       "      <td>7.0</td>\n",
       "    </tr>\n",
       "    <tr>\n",
       "      <th>1</th>\n",
       "      <td>fuel</td>\n",
       "      <td>0.018998</td>\n",
       "      <td>8.0</td>\n",
       "    </tr>\n",
       "    <tr>\n",
       "      <th>12</th>\n",
       "      <td>cartypebins</td>\n",
       "      <td>0.017213</td>\n",
       "      <td>9.0</td>\n",
       "    </tr>\n",
       "    <tr>\n",
       "      <th>11</th>\n",
       "      <td>luxury_brand</td>\n",
       "      <td>0.017066</td>\n",
       "      <td>10.0</td>\n",
       "    </tr>\n",
       "    <tr>\n",
       "      <th>10</th>\n",
       "      <td>countryoforigin</td>\n",
       "      <td>0.016873</td>\n",
       "      <td>11.0</td>\n",
       "    </tr>\n",
       "    <tr>\n",
       "      <th>7</th>\n",
       "      <td>size_scale</td>\n",
       "      <td>0.008784</td>\n",
       "      <td>12.0</td>\n",
       "    </tr>\n",
       "    <tr>\n",
       "      <th>4</th>\n",
       "      <td>years_from_now</td>\n",
       "      <td>0.006748</td>\n",
       "      <td>13.0</td>\n",
       "    </tr>\n",
       "    <tr>\n",
       "      <th>14</th>\n",
       "      <td>paintcolorpriciness</td>\n",
       "      <td>0.005614</td>\n",
       "      <td>14.0</td>\n",
       "    </tr>\n",
       "    <tr>\n",
       "      <th>5</th>\n",
       "      <td>cylinders_number</td>\n",
       "      <td>0.005410</td>\n",
       "      <td>15.0</td>\n",
       "    </tr>\n",
       "    <tr>\n",
       "      <th>13</th>\n",
       "      <td>transmission_other</td>\n",
       "      <td>0.002730</td>\n",
       "      <td>16.0</td>\n",
       "    </tr>\n",
       "  </tbody>\n",
       "</table>\n",
       "</div>"
      ],
      "text/plain": [
       "               features  ranfeatimp  featurerank_ran\n",
       "2                 drive    0.476271              1.0\n",
       "6    title_status_scale    0.200880              2.0\n",
       "0              odometer    0.097589              3.0\n",
       "3             state_RPP    0.044606              4.0\n",
       "9       condition_scale    0.029336              5.0\n",
       "15            manuf_new    0.027474              6.0\n",
       "8        model_numvalue    0.024408              7.0\n",
       "1                  fuel    0.018998              8.0\n",
       "12          cartypebins    0.017213              9.0\n",
       "11         luxury_brand    0.017066             10.0\n",
       "10      countryoforigin    0.016873             11.0\n",
       "7            size_scale    0.008784             12.0\n",
       "4        years_from_now    0.006748             13.0\n",
       "14  paintcolorpriciness    0.005614             14.0\n",
       "5      cylinders_number    0.005410             15.0\n",
       "13   transmission_other    0.002730             16.0"
      ]
     },
     "execution_count": 284,
     "metadata": {},
     "output_type": "execute_result"
    }
   ],
   "source": [
    "featimp_ran = pd.DataFrame({'features': UsedCarPrices_wNF_X.columns.tolist(), 'ranfeatimp':model_tree.feature_importances_})\n",
    "\n",
    "featimp_ran['featurerank_ran'] = featimp_ran['ranfeatimp'].rank(ascending=False)\n",
    "featimp_ran = featimp_ran.sort_values(by='featurerank_ran')\n",
    "\n",
    "\n",
    "print('These are the Features of the dataset ranked by Coefficient values of Random Forest')\n",
    "featimp_ran"
   ]
  },
  {
   "cell_type": "code",
   "execution_count": 351,
   "metadata": {},
   "outputs": [
    {
     "data": {
      "text/html": [
       "<div>\n",
       "<style scoped>\n",
       "    .dataframe tbody tr th:only-of-type {\n",
       "        vertical-align: middle;\n",
       "    }\n",
       "\n",
       "    .dataframe tbody tr th {\n",
       "        vertical-align: top;\n",
       "    }\n",
       "\n",
       "    .dataframe thead th {\n",
       "        text-align: right;\n",
       "    }\n",
       "</style>\n",
       "<table border=\"1\" class=\"dataframe\">\n",
       "  <thead>\n",
       "    <tr style=\"text-align: right;\">\n",
       "      <th></th>\n",
       "      <th>features</th>\n",
       "      <th>featurerank_lin</th>\n",
       "      <th>featurerank_ran</th>\n",
       "      <th>weightedrank</th>\n",
       "    </tr>\n",
       "  </thead>\n",
       "  <tbody>\n",
       "    <tr>\n",
       "      <th>1</th>\n",
       "      <td>drive</td>\n",
       "      <td>1.0</td>\n",
       "      <td>1.0</td>\n",
       "      <td>1.0</td>\n",
       "    </tr>\n",
       "    <tr>\n",
       "      <th>2</th>\n",
       "      <td>title_status_scale</td>\n",
       "      <td>2.0</td>\n",
       "      <td>2.0</td>\n",
       "      <td>2.0</td>\n",
       "    </tr>\n",
       "    <tr>\n",
       "      <th>3</th>\n",
       "      <td>state_RPP</td>\n",
       "      <td>3.0</td>\n",
       "      <td>4.0</td>\n",
       "      <td>3.5</td>\n",
       "    </tr>\n",
       "    <tr>\n",
       "      <th>4</th>\n",
       "      <td>odometer</td>\n",
       "      <td>4.0</td>\n",
       "      <td>3.0</td>\n",
       "      <td>3.5</td>\n",
       "    </tr>\n",
       "    <tr>\n",
       "      <th>5</th>\n",
       "      <td>model_numvalue</td>\n",
       "      <td>7.0</td>\n",
       "      <td>7.0</td>\n",
       "      <td>5.0</td>\n",
       "    </tr>\n",
       "    <tr>\n",
       "      <th>6</th>\n",
       "      <td>luxury_brand</td>\n",
       "      <td>6.0</td>\n",
       "      <td>10.0</td>\n",
       "      <td>6.5</td>\n",
       "    </tr>\n",
       "    <tr>\n",
       "      <th>7</th>\n",
       "      <td>condition_scale</td>\n",
       "      <td>11.0</td>\n",
       "      <td>5.0</td>\n",
       "      <td>6.5</td>\n",
       "    </tr>\n",
       "    <tr>\n",
       "      <th>8</th>\n",
       "      <td>years_from_now</td>\n",
       "      <td>5.0</td>\n",
       "      <td>13.0</td>\n",
       "      <td>8.0</td>\n",
       "    </tr>\n",
       "    <tr>\n",
       "      <th>9</th>\n",
       "      <td>cartypebins</td>\n",
       "      <td>12.0</td>\n",
       "      <td>9.0</td>\n",
       "      <td>9.0</td>\n",
       "    </tr>\n",
       "    <tr>\n",
       "      <th>10</th>\n",
       "      <td>size_scale</td>\n",
       "      <td>10.0</td>\n",
       "      <td>12.0</td>\n",
       "      <td>10.5</td>\n",
       "    </tr>\n",
       "    <tr>\n",
       "      <th>11</th>\n",
       "      <td>manuf_new</td>\n",
       "      <td>16.0</td>\n",
       "      <td>6.0</td>\n",
       "      <td>10.5</td>\n",
       "    </tr>\n",
       "    <tr>\n",
       "      <th>12</th>\n",
       "      <td>fuel</td>\n",
       "      <td>15.0</td>\n",
       "      <td>8.0</td>\n",
       "      <td>12.0</td>\n",
       "    </tr>\n",
       "    <tr>\n",
       "      <th>13</th>\n",
       "      <td>transmission_other</td>\n",
       "      <td>8.0</td>\n",
       "      <td>16.0</td>\n",
       "      <td>13.5</td>\n",
       "    </tr>\n",
       "    <tr>\n",
       "      <th>14</th>\n",
       "      <td>cylinders_number</td>\n",
       "      <td>9.0</td>\n",
       "      <td>15.0</td>\n",
       "      <td>13.5</td>\n",
       "    </tr>\n",
       "    <tr>\n",
       "      <th>15</th>\n",
       "      <td>countryoforigin</td>\n",
       "      <td>14.0</td>\n",
       "      <td>11.0</td>\n",
       "      <td>15.0</td>\n",
       "    </tr>\n",
       "    <tr>\n",
       "      <th>16</th>\n",
       "      <td>paintcolorpriciness</td>\n",
       "      <td>13.0</td>\n",
       "      <td>14.0</td>\n",
       "      <td>16.0</td>\n",
       "    </tr>\n",
       "  </tbody>\n",
       "</table>\n",
       "</div>"
      ],
      "text/plain": [
       "               features  featurerank_lin  featurerank_ran  weightedrank\n",
       "1                 drive              1.0              1.0           1.0\n",
       "2    title_status_scale              2.0              2.0           2.0\n",
       "3             state_RPP              3.0              4.0           3.5\n",
       "4              odometer              4.0              3.0           3.5\n",
       "5        model_numvalue              7.0              7.0           5.0\n",
       "6          luxury_brand              6.0             10.0           6.5\n",
       "7       condition_scale             11.0              5.0           6.5\n",
       "8        years_from_now              5.0             13.0           8.0\n",
       "9           cartypebins             12.0              9.0           9.0\n",
       "10           size_scale             10.0             12.0          10.5\n",
       "11            manuf_new             16.0              6.0          10.5\n",
       "12                 fuel             15.0              8.0          12.0\n",
       "13   transmission_other              8.0             16.0          13.5\n",
       "14     cylinders_number              9.0             15.0          13.5\n",
       "15      countryoforigin             14.0             11.0          15.0\n",
       "16  paintcolorpriciness             13.0             14.0          16.0"
      ]
     },
     "execution_count": 351,
     "metadata": {},
     "output_type": "execute_result"
    }
   ],
   "source": [
    "featimp = pd.merge(featimp_lin, featimp_ran, on='features', how='inner')\n",
    "\n",
    "featimp['rankavg'] = featimp[['featurerank_lin', 'featurerank_ran']].mean(axis=1)\n",
    "\n",
    "#featimp['rankavg'] = (featimp['featurerank_log'] + (2 * featimp['featurerank_ran']))/3\n",
    "\n",
    "# Incorrect ranking with reverse order. this value is only for feature importance representation in bar chart\n",
    "featimp['weightage_for_representation'] = featimp['rankavg'].rank(ascending=False)\n",
    "\n",
    "featimp['weightedrank'] = featimp['rankavg'].rank()\n",
    "\n",
    "featimp = featimp.sort_values(by='weightedrank')\n",
    "\n",
    "featimp_display = featimp[['features','featurerank_lin','featurerank_ran','weightedrank']]\n",
    "\n",
    "featimp_display = featimp_display.reset_index(drop=True); featimp_display.index = featimp_display.index + 1\n",
    "\n",
    "\n",
    "featimp_display"
   ]
  },
  {
   "cell_type": "markdown",
   "metadata": {},
   "source": [
    "## Section I: End Report"
   ]
  },
  {
   "cell_type": "markdown",
   "metadata": {},
   "source": [
    " ### I1) Summary of ML Methodology\n",
    " \n",
    " 1. Data columns cyratwere curated - SIR curation - Sorting, Irrelevant column removal, Renaming\n",
    " 2. Data row issues were handled - DON curation - duplicates removed, outliers removed, nulls\n",
    " 3. Data data special issues were handled\n",
    " 4. 48% of the raw data was lost in data cleaning\n",
    " 5. Detailed Exploratory Data Analysis was done revealing the distribution of categorical variables and the relationship among the features, and their influence of y. This was utilized for the complex feature engineering\n",
    " 6. Details of Feature engineering are discussed in pertinent section\n",
    " 7. Metrics Used: RMSE, Training Accuracy, Test Accuracy\n",
    " 8. Models Used: Linear Regression, K nearest, Decision Tree, Random Forest and Gradient Boosting Regressor\n"
   ]
  },
  {
   "cell_type": "markdown",
   "metadata": {},
   "source": [
    "### I2) Final stats & plots comparing scores of pre and post feature engineering"
   ]
  },
  {
   "cell_type": "code",
   "execution_count": 350,
   "metadata": {},
   "outputs": [
    {
     "data": {
      "text/html": [
       "<div>\n",
       "<style scoped>\n",
       "    .dataframe tbody tr th:only-of-type {\n",
       "        vertical-align: middle;\n",
       "    }\n",
       "\n",
       "    .dataframe tbody tr th {\n",
       "        vertical-align: top;\n",
       "    }\n",
       "\n",
       "    .dataframe thead th {\n",
       "        text-align: right;\n",
       "    }\n",
       "</style>\n",
       "<table border=\"1\" class=\"dataframe\">\n",
       "  <thead>\n",
       "    <tr style=\"text-align: right;\">\n",
       "      <th></th>\n",
       "      <th>RMSE</th>\n",
       "      <th>Train_accuracy</th>\n",
       "      <th>Test_accuracy</th>\n",
       "      <th>RMSE_FeatEngg</th>\n",
       "      <th>Train_accuracy_FeatEngg</th>\n",
       "      <th>Test_accuracy_FeatEngg</th>\n",
       "    </tr>\n",
       "  </thead>\n",
       "  <tbody>\n",
       "    <tr>\n",
       "      <th>Lin</th>\n",
       "      <td>6870.81</td>\n",
       "      <td>0.5584</td>\n",
       "      <td>0.5651</td>\n",
       "      <td>5334.77</td>\n",
       "      <td>0.7424</td>\n",
       "      <td>0.7361</td>\n",
       "    </tr>\n",
       "    <tr>\n",
       "      <th>KNN</th>\n",
       "      <td>5766.79</td>\n",
       "      <td>0.8017</td>\n",
       "      <td>0.6936</td>\n",
       "      <td>4953.79</td>\n",
       "      <td>0.8585</td>\n",
       "      <td>0.7724</td>\n",
       "    </tr>\n",
       "    <tr>\n",
       "      <th>DEC</th>\n",
       "      <td>4647.51</td>\n",
       "      <td>0.9999</td>\n",
       "      <td>0.8010</td>\n",
       "      <td>4685.89</td>\n",
       "      <td>0.9999</td>\n",
       "      <td>0.7964</td>\n",
       "    </tr>\n",
       "    <tr>\n",
       "      <th>GBR</th>\n",
       "      <td>4764.27</td>\n",
       "      <td>0.7871</td>\n",
       "      <td>0.7909</td>\n",
       "      <td>4534.37</td>\n",
       "      <td>0.8152</td>\n",
       "      <td>0.8093</td>\n",
       "    </tr>\n",
       "    <tr>\n",
       "      <th>RAN</th>\n",
       "      <td>6178.92</td>\n",
       "      <td>0.9618</td>\n",
       "      <td>0.7503</td>\n",
       "      <td>3320.40</td>\n",
       "      <td>0.9859</td>\n",
       "      <td>0.8985</td>\n",
       "    </tr>\n",
       "  </tbody>\n",
       "</table>\n",
       "</div>"
      ],
      "text/plain": [
       "        RMSE  Train_accuracy  Test_accuracy  RMSE_FeatEngg  \\\n",
       "Lin  6870.81          0.5584         0.5651        5334.77   \n",
       "KNN  5766.79          0.8017         0.6936        4953.79   \n",
       "DEC  4647.51          0.9999         0.8010        4685.89   \n",
       "GBR  4764.27          0.7871         0.7909        4534.37   \n",
       "RAN  6178.92          0.9618         0.7503        3320.40   \n",
       "\n",
       "     Train_accuracy_FeatEngg  Test_accuracy_FeatEngg  \n",
       "Lin                   0.7424                  0.7361  \n",
       "KNN                   0.8585                  0.7724  \n",
       "DEC                   0.9999                  0.7964  \n",
       "GBR                   0.8152                  0.8093  \n",
       "RAN                   0.9859                  0.8985  "
      ]
     },
     "execution_count": 350,
     "metadata": {},
     "output_type": "execute_result"
    }
   ],
   "source": [
    "EVALGRID"
   ]
  },
  {
   "cell_type": "code",
   "execution_count": 348,
   "metadata": {},
   "outputs": [
    {
     "data": {
      "image/png": "[encoded data removed]",
      "text/plain": [
       "<Figure size 720x360 with 1 Axes>"
      ]
     },
     "metadata": {
      "needs_background": "light"
     },
     "output_type": "display_data"
    },
    {
     "data": {
      "image/png": "[encoded data removed]",
      "text/plain": [
       "<Figure size 720x360 with 1 Axes>"
      ]
     },
     "metadata": {
      "needs_background": "light"
     },
     "output_type": "display_data"
    }
   ],
   "source": [
    "\n",
    "EVALGRID[['RMSE','RMSE_FeatEngg']].plot(kind='line',cmap='winter',figsize=(10,5))\n",
    "plt.title('RMSE for models: before & after Feature Engineering')\n",
    "\n",
    "\n",
    "EVALGRID[['Test_accuracy','Test_accuracy_FeatEngg']].plot(kind='line',cmap='spring',figsize=(10,5))\n",
    "plt.title('Test accuracy for models: before & after Feature Engineering')\n",
    "\n",
    "plt.show()"
   ]
  },
  {
   "cell_type": "markdown",
   "metadata": {},
   "source": [
    "### I3) Feature Importance"
   ]
  },
  {
   "cell_type": "markdown",
   "metadata": {},
   "source": [
    "Feature Importance determined by Linear Regression and Random Foreset Regression and also by intuition are completely changed after the new features are engineered. The State's purchasing parity and Model numerical encoding emerge to be surprisingly important features. Refer to the feature engineer section for details on the features"
   ]
  },
  {
   "cell_type": "code",
   "execution_count": 374,
   "metadata": {},
   "outputs": [
    {
     "data": {
      "image/png": "[encoded data removed]",
      "text/plain": [
       "<Figure size 1008x504 with 1 Axes>"
      ]
     },
     "metadata": {
      "needs_background": "light"
     },
     "output_type": "display_data"
    }
   ],
   "source": [
    "# Feature Importance \n",
    "\n",
    "plt.figure(figsize=(14, 7))\n",
    "\n",
    "sns.barplot(data=featimp.sort_values(by='weightage_for_representation', ascending=False), x='weightage_for_representation', y='features')\n",
    "\n",
    "plt.title('Feature Importance Identification after Feature Engineering: ', fontsize=14)\n",
    "plt.xlabel('Feature Importance Weightage', fontsize=14);plt.ylabel('Features', fontsize=14); \n",
    "plt.xticks(fontsize=10); plt.yticks(fontsize=12);plt.show()"
   ]
  },
  {
   "cell_type": "markdown",
   "metadata": {},
   "source": [
    "### I4) Future Work:\n",
    "    \n",
    "    1. Further NLP processing of categorical features to extract valuable information\n",
    "    2. ~20% of the data is lost due to outliers and nulls. These rows can be relooked to see if they can be retained and handled in an appropriate manner.\n",
    "    3. Dimensionality Reduction and Clustering of One-Hot encoded features created from categorical features to scrape further information from the categorical features without too much computational penalty. "
   ]
  },
  {
   "cell_type": "markdown",
   "metadata": {},
   "source": [
    "----------------------------------------------"
   ]
  },
  {
   "cell_type": "markdown",
   "metadata": {},
   "source": [
    "## Thank you for going through my long work! :)\n",
    "\n",
    "## My warm appreciations!!\n",
    "\n",
    "## Please share thoughts if any!!!"
   ]
  },
  {
   "cell_type": "markdown",
   "metadata": {},
   "source": [
    "----------------------------------------------"
   ]
  }
 ],
 "metadata": {
  "kernelspec": {
   "display_name": "Python 3",
   "language": "python",
   "name": "python3"
  },
  "language_info": {
   "codemirror_mode": {
    "name": "ipython",
    "version": 3
   },
   "file_extension": ".py",
   "mimetype": "text/x-python",
   "name": "python",
   "nbconvert_exporter": "python",
   "pygments_lexer": "ipython3",
   "version": "3.8.5"
  },
  "widgets": {
   "application/vnd.jupyter.widget-state+json": {
    "state": {},
    "version_major": 2,
    "version_minor": 0
   }
  }
 },
 "nbformat": 4,
 "nbformat_minor": 4
}
