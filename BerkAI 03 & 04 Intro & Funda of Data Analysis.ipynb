{
 "cells": [
  {
   "cell_type": "code",
   "execution_count": null,
   "metadata": {
    "scrolled": true
   },
   "outputs": [],
   "source": [
    "# BerkAI 03 & 04 Intro & Funda of Data Analysis"
   ]
  },
  {
   "cell_type": "code",
   "execution_count": null,
   "metadata": {
    "scrolled": true
   },
   "outputs": [],
   "source": []
  },
  {
   "cell_type": "code",
   "execution_count": null,
   "metadata": {
    "scrolled": true
   },
   "outputs": [],
   "source": [
    "The CRISP-DM Framework\n",
    "\n",
    "Understand this in conjunction with PMP learnings of Data in ITTOs (Data gathering, Data analysis, Data visualization)"
   ]
  },
  {
   "cell_type": "code",
   "execution_count": null,
   "metadata": {
    "scrolled": true
   },
   "outputs": [],
   "source": []
  },
  {
   "cell_type": "code",
   "execution_count": null,
   "metadata": {
    "scrolled": true
   },
   "outputs": [],
   "source": [
    "# Joining Datasets"
   ]
  },
  {
   "cell_type": "code",
   "execution_count": 1,
   "metadata": {
    "collapsed": true
   },
   "outputs": [],
   "source": [
    "# Import Libs\n",
    "\n",
    "# lib for files access\n",
    "from pathlib import Path\n",
    "myfolder = Path(\"C:/Users/pdpc/Documents/MLfiles/Data/zsrv_sarirasri/\")\n",
    "\n",
    "# data structures\n",
    "import pandas as pd\n",
    "import numpy as np\n",
    "\n",
    "# for graphs\n",
    "import seaborn as sns\n",
    "from pylab import rcParams\n",
    "import matplotlib.pyplot as plt\n",
    "%matplotlib inline\n",
    "\n",
    "import plotly.express as px\n",
    "import plotly.graph_objects as go\n",
    "import plotly.offline as pyo\n",
    "\n",
    "from plotly.subplots import make_subplots\n",
    "from IPython.display import display\n",
    "\n",
    "# Date & Time\n",
    "import datetime as dt \n",
    "\n",
    "import warnings\n",
    "warnings.filterwarnings(\"ignore\")\n"
   ]
  },
  {
   "cell_type": "code",
   "execution_count": 2,
   "metadata": {
    "collapsed": true
   },
   "outputs": [],
   "source": [
    "# Get files\n",
    "\n",
    "myfolder = Path(\"C:/Users/pdpc/Documents/MLfiles/2024 Berkeley AIML course/BerkAI Jupy & Codio Solutions/data/\")\n",
    "\n",
    "\n",
    "gdp = pd.read_csv(myfolder / \"gdp.csv\")\n",
    "\n",
    "pop = pd.read_csv(myfolder / \"population.csv\")\n"
   ]
  },
  {
   "cell_type": "code",
   "execution_count": 5,
   "metadata": {
    "collapsed": true
   },
   "outputs": [
    {
     "name": "stdout",
     "output_type": "stream",
     "text": [
      "<class 'pandas.core.frame.DataFrame'>\n",
      "RangeIndex: 8869 entries, 0 to 8868\n",
      "Data columns (total 3 columns):\n",
      " #   Column  Non-Null Count  Dtype  \n",
      "---  ------  --------------  -----  \n",
      " 0   Entity  8869 non-null   object \n",
      " 1   Year    8869 non-null   int64  \n",
      " 2   GDP     8869 non-null   float64\n",
      "dtypes: float64(1), int64(1), object(1)\n",
      "memory usage: 208.0+ KB\n",
      "<class 'pandas.core.frame.DataFrame'>\n",
      "RangeIndex: 46883 entries, 0 to 46882\n",
      "Data columns (total 3 columns):\n",
      " #   Column      Non-Null Count  Dtype \n",
      "---  ------      --------------  ----- \n",
      " 0   Entity      46883 non-null  object\n",
      " 1   Year        46883 non-null  int64 \n",
      " 2   Population  46883 non-null  int64 \n",
      "dtypes: int64(2), object(1)\n",
      "memory usage: 1.1+ MB\n"
     ]
    }
   ],
   "source": [
    "gdp = gdp.drop(['Code'], axis=1, errors='ignore')\n",
    "\n",
    "gdp = gdp.rename(columns={\"GDP (constant 2010 US$)\": \"GDP\"})\n",
    "\n",
    "gdp.info()\n",
    "\n",
    "pop = pop.drop(['Code'], axis=1, errors='ignore')\n",
    "\n",
    "pop = pop.rename(columns={\"Total population (Gapminder, HYDE & UN)\": \"Population\"})\n",
    "\n",
    "pop.info()"
   ]
  },
  {
   "cell_type": "code",
   "execution_count": null,
   "metadata": {
    "scrolled": true
   },
   "outputs": [],
   "source": []
  },
  {
   "cell_type": "code",
   "execution_count": 41,
   "metadata": {
    "scrolled": true
   },
   "outputs": [
    {
     "ename": "AttributeError",
     "evalue": "'DataFrameGroupBy' object has no attribute 'nlargest'",
     "output_type": "error",
     "traceback": [
      "\u001b[1;31m---------------------------------------------------------------------------\u001b[0m",
      "\u001b[1;31mAttributeError\u001b[0m                            Traceback (most recent call last)",
      "\u001b[1;32m<ipython-input-41-b824cc7ea835>\u001b[0m in \u001b[0;36m<module>\u001b[1;34m\u001b[0m\n\u001b[0;32m      1\u001b[0m \u001b[0mgdptest\u001b[0m \u001b[1;33m=\u001b[0m \u001b[0mgdp\u001b[0m\u001b[1;33m.\u001b[0m\u001b[0mquery\u001b[0m\u001b[1;33m(\u001b[0m\u001b[1;34m'Year > 2015'\u001b[0m\u001b[1;33m)\u001b[0m\u001b[1;33m\u001b[0m\u001b[1;33m\u001b[0m\u001b[0m\n\u001b[0;32m      2\u001b[0m \u001b[1;33m\u001b[0m\u001b[0m\n\u001b[1;32m----> 3\u001b[1;33m \u001b[0mgdptest\u001b[0m\u001b[1;33m.\u001b[0m\u001b[0mgroupby\u001b[0m\u001b[1;33m(\u001b[0m\u001b[1;33m[\u001b[0m\u001b[1;34m'Year'\u001b[0m\u001b[1;33m]\u001b[0m\u001b[1;33m)\u001b[0m\u001b[1;33m.\u001b[0m\u001b[0mnlargest\u001b[0m\u001b[1;33m(\u001b[0m\u001b[1;36m5\u001b[0m\u001b[1;33m,\u001b[0m \u001b[1;34m'GDP'\u001b[0m\u001b[1;33m)\u001b[0m\u001b[1;33m\u001b[0m\u001b[1;33m\u001b[0m\u001b[0m\n\u001b[0m",
      "\u001b[1;32m~\\anaconda3\\lib\\site-packages\\pandas\\core\\groupby\\groupby.py\u001b[0m in \u001b[0;36m__getattr__\u001b[1;34m(self, attr)\u001b[0m\n\u001b[0;32m    750\u001b[0m             \u001b[1;32mreturn\u001b[0m \u001b[0mself\u001b[0m\u001b[1;33m[\u001b[0m\u001b[0mattr\u001b[0m\u001b[1;33m]\u001b[0m\u001b[1;33m\u001b[0m\u001b[1;33m\u001b[0m\u001b[0m\n\u001b[0;32m    751\u001b[0m \u001b[1;33m\u001b[0m\u001b[0m\n\u001b[1;32m--> 752\u001b[1;33m         raise AttributeError(\n\u001b[0m\u001b[0;32m    753\u001b[0m             \u001b[1;34mf\"'{type(self).__name__}' object has no attribute '{attr}'\"\u001b[0m\u001b[1;33m\u001b[0m\u001b[1;33m\u001b[0m\u001b[0m\n\u001b[0;32m    754\u001b[0m         )\n",
      "\u001b[1;31mAttributeError\u001b[0m: 'DataFrameGroupBy' object has no attribute 'nlargest'"
     ]
    }
   ],
   "source": [
    "gdptest = gdp.query('Year > 2015')\n",
    "\n",
    "gdptest.groupby(['Year']).nlargest(5, 'GDP')"
   ]
  },
  {
   "cell_type": "code",
   "execution_count": 45,
   "metadata": {
    "scrolled": true
   },
   "outputs": [
    {
     "data": {
      "text/plain": [
       "Year      \n",
       "2016  8493    1.692033e+13\n",
       "      1782    9.505157e+12\n",
       "2017  8494    1.730498e+13\n",
       "      1783    1.016101e+13\n",
       "Name: GDP, dtype: float64"
      ]
     },
     "execution_count": 45,
     "metadata": {},
     "output_type": "execute_result"
    }
   ],
   "source": [
    "gdptest.groupby(['Year'])['GDP'].nlargest(2)"
   ]
  },
  {
   "cell_type": "code",
   "execution_count": 74,
   "metadata": {},
   "outputs": [
    {
     "name": "stdout",
     "output_type": "stream",
     "text": [
      "Number of countries that are Top 10 by GDP or population in any year since 1990 : 13\n"
     ]
    },
    {
     "data": {
      "text/plain": [
       "['Brazil',\n",
       " 'Canada',\n",
       " 'China',\n",
       " 'France',\n",
       " 'Germany',\n",
       " 'India',\n",
       " 'Indonesia',\n",
       " 'Italy',\n",
       " 'Japan',\n",
       " 'Russia',\n",
       " 'Spain',\n",
       " 'United Kingdom',\n",
       " 'United States']"
      ]
     },
     "execution_count": 74,
     "metadata": {},
     "output_type": "execute_result"
    }
   ],
   "source": [
    "# Get Significant countries List\n",
    "\n",
    "# I am defining significant countries as those which are Top 15 since 1990 in any year by GDP or Pop\n",
    "\n",
    "#Step 0\n",
    "# Number of Top countries\n",
    "N = 10\n",
    "# Since which year\n",
    "yr = 1990\n",
    "\n",
    "#Step 1\n",
    "# Get Unique list of all countries which have been in Top 10 GDP in any year since 2000\n",
    "A = gdp.query('Year > @yr').sort_values(['Year', 'GDP'], ascending=[True, False]).groupby(['Year']).head(N).Entity.unique()\n",
    "A = A.tolist()\n",
    "\n",
    "# Step 2\n",
    "# Get Unique list of all countries which have been in Top 10 population in any year since 2000\n",
    "B = pop.query('Year > @yr').sort_values(['Year', 'Population'], ascending=[True, False]).groupby(['Year']).head(N).Entity.unique()\n",
    "B = B.tolist()\n",
    "\n",
    "# Step 3\n",
    "# Add both lists\n",
    "C = list(set(A + B))\n",
    "\n",
    "# Remove continents from the lists\n",
    "D = ['World','Asia','Africa','Europe','Latin America','North America']\n",
    "for i in D:\n",
    "    try:\n",
    "        C.remove(i)\n",
    "    except ValueError:\n",
    "        pass  # do nothing!\n",
    "    \n",
    "C.sort()\n",
    "\n",
    "print(\"Number of countries that are Top\" , N , \"by GDP or population in any year since\" , yr , \":\" , len(C))\n",
    "\n",
    "C\n"
   ]
  },
  {
   "cell_type": "code",
   "execution_count": 52,
   "metadata": {},
   "outputs": [
    {
     "data": {
      "application/vnd.plotly.v1+json": {
       "config": {
        "plotlyServerURL": "https://plot.ly"
       },
       "data": [
        {
         "hovertemplate": "Entity=China<br>Year=%{x}<br>GDP=%{y}<extra></extra>",
         "legendgroup": "China",
         "line": {
          "color": "rgb(102, 197, 204)",
          "dash": "solid"
         },
         "marker": {
          "symbol": "circle"
         },
         "mode": "lines",
         "name": "China",
         "orientation": "v",
         "showlegend": true,
         "type": "scatter",
         "x": [
          2001,
          2002,
          2003,
          2004,
          2005,
          2006,
          2007,
          2008,
          2009,
          2010,
          2011,
          2012,
          2013,
          2014,
          2015,
          2016,
          2017
         ],
         "xaxis": "x",
         "y": [
          2423651070682.23,
          2644946068879.54,
          2910382356610.87,
          3204657620171.13,
          3569853222249.4,
          4023919953922.87,
          4596579616811.11,
          5040346714259.97,
          5514129888591.98,
          6100620488867.55,
          6682402684926.16,
          7207389755117.65,
          7766512755882.13,
          8333286913499.17,
          8908300778495.9,
          9505156930655.12,
          10161012758870.3
         ],
         "yaxis": "y"
        },
        {
         "hovertemplate": "Entity=France<br>Year=%{x}<br>GDP=%{y}<extra></extra>",
         "legendgroup": "France",
         "line": {
          "color": "rgb(246, 207, 113)",
          "dash": "solid"
         },
         "marker": {
          "symbol": "circle"
         },
         "mode": "lines",
         "name": "France",
         "orientation": "v",
         "showlegend": true,
         "type": "scatter",
         "x": [
          2001,
          2002,
          2003,
          2004,
          2005,
          2006,
          2007,
          2008,
          2009,
          2010,
          2011,
          2012,
          2013,
          2014,
          2015,
          2016,
          2017
         ],
         "xaxis": "x",
         "y": [
          2388523894567.11,
          2415238504666.61,
          2435032149085.55,
          2502882471990.15,
          2543121659233.15,
          2603519448238.71,
          2665001530699.71,
          2670206139232.81,
          2591666269727.4,
          2642609548930.36,
          2697555457635.08,
          2702483703549.71,
          2718056537417.43,
          2743812473469.65,
          2773101619290.33,
          2806036371233.86,
          2857089402048
         ],
         "yaxis": "y"
        },
        {
         "hovertemplate": "Entity=Germany<br>Year=%{x}<br>GDP=%{y}<extra></extra>",
         "legendgroup": "Germany",
         "line": {
          "color": "rgb(248, 156, 116)",
          "dash": "solid"
         },
         "marker": {
          "symbol": "circle"
         },
         "mode": "lines",
         "name": "Germany",
         "orientation": "v",
         "showlegend": true,
         "type": "scatter",
         "x": [
          2001,
          2002,
          2003,
          2004,
          2005,
          2006,
          2007,
          2008,
          2009,
          2010,
          2011,
          2012,
          2013,
          2014,
          2015,
          2016,
          2017
         ],
         "xaxis": "x",
         "y": [
          3176872812245.88,
          3176872812245.88,
          3154319996078.94,
          3191224606760.15,
          3213777436171.33,
          3332692329600.37,
          3441355939341.45,
          3478602264776.63,
          3283144458441.96,
          3417094562648.95,
          3542160228939.6,
          3559587403262.56,
          3577014590829.77,
          3646039898346.43,
          3709597862509.39,
          3781698549834.74,
          3865759081373.6
         ],
         "yaxis": "y"
        },
        {
         "hovertemplate": "Entity=India<br>Year=%{x}<br>GDP=%{y}<extra></extra>",
         "legendgroup": "India",
         "line": {
          "color": "rgb(220, 176, 242)",
          "dash": "solid"
         },
         "marker": {
          "symbol": "circle"
         },
         "mode": "lines",
         "name": "India",
         "orientation": "v",
         "showlegend": true,
         "type": "scatter",
         "x": [
          2001,
          2002,
          2003,
          2004,
          2005,
          2006,
          2007,
          2008,
          2009,
          2010,
          2011,
          2012,
          2013,
          2014,
          2015,
          2016,
          2017
         ],
         "xaxis": "x",
         "y": [
          841479377511.348,
          873489045365.477,
          942148616477.496,
          1016794518279.13,
          1111202106006.44,
          1214143477507.44,
          1333146054742.66,
          1385018195313.06,
          1502464745208.38,
          1656617073124.71,
          1766589341211.56,
          1862981302114.15,
          1981953270296.47,
          2128820518653.43,
          2302413591823.42,
          2466177043270.51,
          2629542211700.51
         ],
         "yaxis": "y"
        },
        {
         "hovertemplate": "Entity=Japan<br>Year=%{x}<br>GDP=%{y}<extra></extra>",
         "legendgroup": "Japan",
         "line": {
          "color": "rgb(135, 197, 95)",
          "dash": "solid"
         },
         "marker": {
          "symbol": "circle"
         },
         "mode": "lines",
         "name": "Japan",
         "orientation": "v",
         "showlegend": true,
         "type": "scatter",
         "x": [
          2001,
          2002,
          2003,
          2004,
          2005,
          2006,
          2007,
          2008,
          2009,
          2010,
          2011,
          2012,
          2013,
          2014,
          2015,
          2016,
          2017
         ],
         "xaxis": "x",
         "y": [
          5370670124203.3,
          5377007127014.02,
          5459179633296.35,
          5579537505145.68,
          5672306823990.12,
          5752853952769.92,
          5848016735563.82,
          5784066298240.91,
          5470777391091.07,
          5700098114744.41,
          5693518985135.26,
          5778642194555.42,
          5894230516025.46,
          5916317345749.24,
          5996413817472.4,
          6052671805314.15,
          6156328720578.61
         ],
         "yaxis": "y"
        },
        {
         "hovertemplate": "Entity=United States<br>Year=%{x}<br>GDP=%{y}<extra></extra>",
         "legendgroup": "United States",
         "line": {
          "color": "rgb(158, 185, 243)",
          "dash": "solid"
         },
         "marker": {
          "symbol": "circle"
         },
         "mode": "lines",
         "name": "United States",
         "orientation": "v",
         "showlegend": true,
         "type": "scatter",
         "x": [
          2001,
          2002,
          2003,
          2004,
          2005,
          2006,
          2007,
          2008,
          2009,
          2010,
          2011,
          2012,
          2013,
          2014,
          2015,
          2016,
          2017
         ],
         "xaxis": "x",
         "y": [
          12837135352100,
          13066422980900,
          13433168199500,
          13941713404100,
          14408093840400,
          14792303791800,
          15055395304800,
          15011490541400,
          14594842181900,
          14964372000000,
          15204019634600,
          15542161722300,
          15802855301300,
          16208861247400,
          16672691917800,
          16920327941800,
          17304984279400
         ],
         "yaxis": "y"
        }
       ],
       "layout": {
        "legend": {
         "title": {
          "text": "Entity"
         },
         "tracegroupgap": 0
        },
        "margin": {
         "t": 60
        },
        "template": {
         "data": {
          "bar": [
           {
            "error_x": {
             "color": "#2a3f5f"
            },
            "error_y": {
             "color": "#2a3f5f"
            },
            "marker": {
             "line": {
              "color": "#E5ECF6",
              "width": 0.5
             },
             "pattern": {
              "fillmode": "overlay",
              "size": 10,
              "solidity": 0.2
             }
            },
            "type": "bar"
           }
          ],
          "barpolar": [
           {
            "marker": {
             "line": {
              "color": "#E5ECF6",
              "width": 0.5
             },
             "pattern": {
              "fillmode": "overlay",
              "size": 10,
              "solidity": 0.2
             }
            },
            "type": "barpolar"
           }
          ],
          "carpet": [
           {
            "aaxis": {
             "endlinecolor": "#2a3f5f",
             "gridcolor": "white",
             "linecolor": "white",
             "minorgridcolor": "white",
             "startlinecolor": "#2a3f5f"
            },
            "baxis": {
             "endlinecolor": "#2a3f5f",
             "gridcolor": "white",
             "linecolor": "white",
             "minorgridcolor": "white",
             "startlinecolor": "#2a3f5f"
            },
            "type": "carpet"
           }
          ],
          "choropleth": [
           {
            "colorbar": {
             "outlinewidth": 0,
             "ticks": ""
            },
            "type": "choropleth"
           }
          ],
          "contour": [
           {
            "colorbar": {
             "outlinewidth": 0,
             "ticks": ""
            },
            "colorscale": [
             [
              0,
              "#0d0887"
             ],
             [
              0.1111111111111111,
              "#46039f"
             ],
             [
              0.2222222222222222,
              "#7201a8"
             ],
             [
              0.3333333333333333,
              "#9c179e"
             ],
             [
              0.4444444444444444,
              "#bd3786"
             ],
             [
              0.5555555555555556,
              "#d8576b"
             ],
             [
              0.6666666666666666,
              "#ed7953"
             ],
             [
              0.7777777777777778,
              "#fb9f3a"
             ],
             [
              0.8888888888888888,
              "#fdca26"
             ],
             [
              1,
              "#f0f921"
             ]
            ],
            "type": "contour"
           }
          ],
          "contourcarpet": [
           {
            "colorbar": {
             "outlinewidth": 0,
             "ticks": ""
            },
            "type": "contourcarpet"
           }
          ],
          "heatmap": [
           {
            "colorbar": {
             "outlinewidth": 0,
             "ticks": ""
            },
            "colorscale": [
             [
              0,
              "#0d0887"
             ],
             [
              0.1111111111111111,
              "#46039f"
             ],
             [
              0.2222222222222222,
              "#7201a8"
             ],
             [
              0.3333333333333333,
              "#9c179e"
             ],
             [
              0.4444444444444444,
              "#bd3786"
             ],
             [
              0.5555555555555556,
              "#d8576b"
             ],
             [
              0.6666666666666666,
              "#ed7953"
             ],
             [
              0.7777777777777778,
              "#fb9f3a"
             ],
             [
              0.8888888888888888,
              "#fdca26"
             ],
             [
              1,
              "#f0f921"
             ]
            ],
            "type": "heatmap"
           }
          ],
          "heatmapgl": [
           {
            "colorbar": {
             "outlinewidth": 0,
             "ticks": ""
            },
            "colorscale": [
             [
              0,
              "#0d0887"
             ],
             [
              0.1111111111111111,
              "#46039f"
             ],
             [
              0.2222222222222222,
              "#7201a8"
             ],
             [
              0.3333333333333333,
              "#9c179e"
             ],
             [
              0.4444444444444444,
              "#bd3786"
             ],
             [
              0.5555555555555556,
              "#d8576b"
             ],
             [
              0.6666666666666666,
              "#ed7953"
             ],
             [
              0.7777777777777778,
              "#fb9f3a"
             ],
             [
              0.8888888888888888,
              "#fdca26"
             ],
             [
              1,
              "#f0f921"
             ]
            ],
            "type": "heatmapgl"
           }
          ],
          "histogram": [
           {
            "marker": {
             "pattern": {
              "fillmode": "overlay",
              "size": 10,
              "solidity": 0.2
             }
            },
            "type": "histogram"
           }
          ],
          "histogram2d": [
           {
            "colorbar": {
             "outlinewidth": 0,
             "ticks": ""
            },
            "colorscale": [
             [
              0,
              "#0d0887"
             ],
             [
              0.1111111111111111,
              "#46039f"
             ],
             [
              0.2222222222222222,
              "#7201a8"
             ],
             [
              0.3333333333333333,
              "#9c179e"
             ],
             [
              0.4444444444444444,
              "#bd3786"
             ],
             [
              0.5555555555555556,
              "#d8576b"
             ],
             [
              0.6666666666666666,
              "#ed7953"
             ],
             [
              0.7777777777777778,
              "#fb9f3a"
             ],
             [
              0.8888888888888888,
              "#fdca26"
             ],
             [
              1,
              "#f0f921"
             ]
            ],
            "type": "histogram2d"
           }
          ],
          "histogram2dcontour": [
           {
            "colorbar": {
             "outlinewidth": 0,
             "ticks": ""
            },
            "colorscale": [
             [
              0,
              "#0d0887"
             ],
             [
              0.1111111111111111,
              "#46039f"
             ],
             [
              0.2222222222222222,
              "#7201a8"
             ],
             [
              0.3333333333333333,
              "#9c179e"
             ],
             [
              0.4444444444444444,
              "#bd3786"
             ],
             [
              0.5555555555555556,
              "#d8576b"
             ],
             [
              0.6666666666666666,
              "#ed7953"
             ],
             [
              0.7777777777777778,
              "#fb9f3a"
             ],
             [
              0.8888888888888888,
              "#fdca26"
             ],
             [
              1,
              "#f0f921"
             ]
            ],
            "type": "histogram2dcontour"
           }
          ],
          "mesh3d": [
           {
            "colorbar": {
             "outlinewidth": 0,
             "ticks": ""
            },
            "type": "mesh3d"
           }
          ],
          "parcoords": [
           {
            "line": {
             "colorbar": {
              "outlinewidth": 0,
              "ticks": ""
             }
            },
            "type": "parcoords"
           }
          ],
          "pie": [
           {
            "automargin": true,
            "type": "pie"
           }
          ],
          "scatter": [
           {
            "fillpattern": {
             "fillmode": "overlay",
             "size": 10,
             "solidity": 0.2
            },
            "type": "scatter"
           }
          ],
          "scatter3d": [
           {
            "line": {
             "colorbar": {
              "outlinewidth": 0,
              "ticks": ""
             }
            },
            "marker": {
             "colorbar": {
              "outlinewidth": 0,
              "ticks": ""
             }
            },
            "type": "scatter3d"
           }
          ],
          "scattercarpet": [
           {
            "marker": {
             "colorbar": {
              "outlinewidth": 0,
              "ticks": ""
             }
            },
            "type": "scattercarpet"
           }
          ],
          "scattergeo": [
           {
            "marker": {
             "colorbar": {
              "outlinewidth": 0,
              "ticks": ""
             }
            },
            "type": "scattergeo"
           }
          ],
          "scattergl": [
           {
            "marker": {
             "colorbar": {
              "outlinewidth": 0,
              "ticks": ""
             }
            },
            "type": "scattergl"
           }
          ],
          "scattermapbox": [
           {
            "marker": {
             "colorbar": {
              "outlinewidth": 0,
              "ticks": ""
             }
            },
            "type": "scattermapbox"
           }
          ],
          "scatterpolar": [
           {
            "marker": {
             "colorbar": {
              "outlinewidth": 0,
              "ticks": ""
             }
            },
            "type": "scatterpolar"
           }
          ],
          "scatterpolargl": [
           {
            "marker": {
             "colorbar": {
              "outlinewidth": 0,
              "ticks": ""
             }
            },
            "type": "scatterpolargl"
           }
          ],
          "scatterternary": [
           {
            "marker": {
             "colorbar": {
              "outlinewidth": 0,
              "ticks": ""
             }
            },
            "type": "scatterternary"
           }
          ],
          "surface": [
           {
            "colorbar": {
             "outlinewidth": 0,
             "ticks": ""
            },
            "colorscale": [
             [
              0,
              "#0d0887"
             ],
             [
              0.1111111111111111,
              "#46039f"
             ],
             [
              0.2222222222222222,
              "#7201a8"
             ],
             [
              0.3333333333333333,
              "#9c179e"
             ],
             [
              0.4444444444444444,
              "#bd3786"
             ],
             [
              0.5555555555555556,
              "#d8576b"
             ],
             [
              0.6666666666666666,
              "#ed7953"
             ],
             [
              0.7777777777777778,
              "#fb9f3a"
             ],
             [
              0.8888888888888888,
              "#fdca26"
             ],
             [
              1,
              "#f0f921"
             ]
            ],
            "type": "surface"
           }
          ],
          "table": [
           {
            "cells": {
             "fill": {
              "color": "#EBF0F8"
             },
             "line": {
              "color": "white"
             }
            },
            "header": {
             "fill": {
              "color": "#C8D4E3"
             },
             "line": {
              "color": "white"
             }
            },
            "type": "table"
           }
          ]
         },
         "layout": {
          "annotationdefaults": {
           "arrowcolor": "#2a3f5f",
           "arrowhead": 0,
           "arrowwidth": 1
          },
          "autotypenumbers": "strict",
          "coloraxis": {
           "colorbar": {
            "outlinewidth": 0,
            "ticks": ""
           }
          },
          "colorscale": {
           "diverging": [
            [
             0,
             "#8e0152"
            ],
            [
             0.1,
             "#c51b7d"
            ],
            [
             0.2,
             "#de77ae"
            ],
            [
             0.3,
             "#f1b6da"
            ],
            [
             0.4,
             "#fde0ef"
            ],
            [
             0.5,
             "#f7f7f7"
            ],
            [
             0.6,
             "#e6f5d0"
            ],
            [
             0.7,
             "#b8e186"
            ],
            [
             0.8,
             "#7fbc41"
            ],
            [
             0.9,
             "#4d9221"
            ],
            [
             1,
             "#276419"
            ]
           ],
           "sequential": [
            [
             0,
             "#0d0887"
            ],
            [
             0.1111111111111111,
             "#46039f"
            ],
            [
             0.2222222222222222,
             "#7201a8"
            ],
            [
             0.3333333333333333,
             "#9c179e"
            ],
            [
             0.4444444444444444,
             "#bd3786"
            ],
            [
             0.5555555555555556,
             "#d8576b"
            ],
            [
             0.6666666666666666,
             "#ed7953"
            ],
            [
             0.7777777777777778,
             "#fb9f3a"
            ],
            [
             0.8888888888888888,
             "#fdca26"
            ],
            [
             1,
             "#f0f921"
            ]
           ],
           "sequentialminus": [
            [
             0,
             "#0d0887"
            ],
            [
             0.1111111111111111,
             "#46039f"
            ],
            [
             0.2222222222222222,
             "#7201a8"
            ],
            [
             0.3333333333333333,
             "#9c179e"
            ],
            [
             0.4444444444444444,
             "#bd3786"
            ],
            [
             0.5555555555555556,
             "#d8576b"
            ],
            [
             0.6666666666666666,
             "#ed7953"
            ],
            [
             0.7777777777777778,
             "#fb9f3a"
            ],
            [
             0.8888888888888888,
             "#fdca26"
            ],
            [
             1,
             "#f0f921"
            ]
           ]
          },
          "colorway": [
           "#636efa",
           "#EF553B",
           "#00cc96",
           "#ab63fa",
           "#FFA15A",
           "#19d3f3",
           "#FF6692",
           "#B6E880",
           "#FF97FF",
           "#FECB52"
          ],
          "font": {
           "color": "#2a3f5f"
          },
          "geo": {
           "bgcolor": "white",
           "lakecolor": "white",
           "landcolor": "#E5ECF6",
           "showlakes": true,
           "showland": true,
           "subunitcolor": "white"
          },
          "hoverlabel": {
           "align": "left"
          },
          "hovermode": "closest",
          "mapbox": {
           "style": "light"
          },
          "paper_bgcolor": "white",
          "plot_bgcolor": "#E5ECF6",
          "polar": {
           "angularaxis": {
            "gridcolor": "white",
            "linecolor": "white",
            "ticks": ""
           },
           "bgcolor": "#E5ECF6",
           "radialaxis": {
            "gridcolor": "white",
            "linecolor": "white",
            "ticks": ""
           }
          },
          "scene": {
           "xaxis": {
            "backgroundcolor": "#E5ECF6",
            "gridcolor": "white",
            "gridwidth": 2,
            "linecolor": "white",
            "showbackground": true,
            "ticks": "",
            "zerolinecolor": "white"
           },
           "yaxis": {
            "backgroundcolor": "#E5ECF6",
            "gridcolor": "white",
            "gridwidth": 2,
            "linecolor": "white",
            "showbackground": true,
            "ticks": "",
            "zerolinecolor": "white"
           },
           "zaxis": {
            "backgroundcolor": "#E5ECF6",
            "gridcolor": "white",
            "gridwidth": 2,
            "linecolor": "white",
            "showbackground": true,
            "ticks": "",
            "zerolinecolor": "white"
           }
          },
          "shapedefaults": {
           "line": {
            "color": "#2a3f5f"
           }
          },
          "ternary": {
           "aaxis": {
            "gridcolor": "white",
            "linecolor": "white",
            "ticks": ""
           },
           "baxis": {
            "gridcolor": "white",
            "linecolor": "white",
            "ticks": ""
           },
           "bgcolor": "#E5ECF6",
           "caxis": {
            "gridcolor": "white",
            "linecolor": "white",
            "ticks": ""
           }
          },
          "title": {
           "x": 0.05
          },
          "xaxis": {
           "automargin": true,
           "gridcolor": "white",
           "linecolor": "white",
           "ticks": "",
           "title": {
            "standoff": 15
           },
           "zerolinecolor": "white",
           "zerolinewidth": 2
          },
          "yaxis": {
           "automargin": true,
           "gridcolor": "white",
           "linecolor": "white",
           "ticks": "",
           "title": {
            "standoff": 15
           },
           "zerolinecolor": "white",
           "zerolinewidth": 2
          }
         }
        },
        "xaxis": {
         "anchor": "y",
         "domain": [
          0,
          1
         ],
         "title": {
          "text": "Year"
         }
        },
        "yaxis": {
         "anchor": "x",
         "domain": [
          0,
          1
         ],
         "title": {
          "text": "GDP"
         }
        }
       }
      },
      "text/html": [
       "<div>                            <div id=\"756b9262-8553-4510-9ab1-49c6a3da1500\" class=\"plotly-graph-div\" style=\"height:525px; width:100%;\"></div>            <script type=\"text/javascript\">                require([\"plotly\"], function(Plotly) {                    window.PLOTLYENV=window.PLOTLYENV || {};                                    if (document.getElementById(\"756b9262-8553-4510-9ab1-49c6a3da1500\")) {                    Plotly.newPlot(                        \"756b9262-8553-4510-9ab1-49c6a3da1500\",                        [{\"hovertemplate\":\"Entity=China\\u003cbr\\u003eYear=%{x}\\u003cbr\\u003eGDP=%{y}\\u003cextra\\u003e\\u003c\\u002fextra\\u003e\",\"legendgroup\":\"China\",\"line\":{\"color\":\"rgb(102, 197, 204)\",\"dash\":\"solid\"},\"marker\":{\"symbol\":\"circle\"},\"mode\":\"lines\",\"name\":\"China\",\"orientation\":\"v\",\"showlegend\":true,\"x\":[2001,2002,2003,2004,2005,2006,2007,2008,2009,2010,2011,2012,2013,2014,2015,2016,2017],\"xaxis\":\"x\",\"y\":[2423651070682.23,2644946068879.54,2910382356610.87,3204657620171.13,3569853222249.4,4023919953922.87,4596579616811.11,5040346714259.97,5514129888591.98,6100620488867.55,6682402684926.16,7207389755117.65,7766512755882.13,8333286913499.17,8908300778495.9,9505156930655.12,10161012758870.3],\"yaxis\":\"y\",\"type\":\"scatter\"},{\"hovertemplate\":\"Entity=France\\u003cbr\\u003eYear=%{x}\\u003cbr\\u003eGDP=%{y}\\u003cextra\\u003e\\u003c\\u002fextra\\u003e\",\"legendgroup\":\"France\",\"line\":{\"color\":\"rgb(246, 207, 113)\",\"dash\":\"solid\"},\"marker\":{\"symbol\":\"circle\"},\"mode\":\"lines\",\"name\":\"France\",\"orientation\":\"v\",\"showlegend\":true,\"x\":[2001,2002,2003,2004,2005,2006,2007,2008,2009,2010,2011,2012,2013,2014,2015,2016,2017],\"xaxis\":\"x\",\"y\":[2388523894567.11,2415238504666.61,2435032149085.55,2502882471990.15,2543121659233.15,2603519448238.71,2665001530699.71,2670206139232.81,2591666269727.4,2642609548930.36,2697555457635.08,2702483703549.71,2718056537417.43,2743812473469.65,2773101619290.33,2806036371233.86,2857089402048.0],\"yaxis\":\"y\",\"type\":\"scatter\"},{\"hovertemplate\":\"Entity=Germany\\u003cbr\\u003eYear=%{x}\\u003cbr\\u003eGDP=%{y}\\u003cextra\\u003e\\u003c\\u002fextra\\u003e\",\"legendgroup\":\"Germany\",\"line\":{\"color\":\"rgb(248, 156, 116)\",\"dash\":\"solid\"},\"marker\":{\"symbol\":\"circle\"},\"mode\":\"lines\",\"name\":\"Germany\",\"orientation\":\"v\",\"showlegend\":true,\"x\":[2001,2002,2003,2004,2005,2006,2007,2008,2009,2010,2011,2012,2013,2014,2015,2016,2017],\"xaxis\":\"x\",\"y\":[3176872812245.88,3176872812245.88,3154319996078.94,3191224606760.15,3213777436171.33,3332692329600.37,3441355939341.45,3478602264776.63,3283144458441.96,3417094562648.95,3542160228939.6,3559587403262.56,3577014590829.77,3646039898346.43,3709597862509.39,3781698549834.74,3865759081373.6],\"yaxis\":\"y\",\"type\":\"scatter\"},{\"hovertemplate\":\"Entity=India\\u003cbr\\u003eYear=%{x}\\u003cbr\\u003eGDP=%{y}\\u003cextra\\u003e\\u003c\\u002fextra\\u003e\",\"legendgroup\":\"India\",\"line\":{\"color\":\"rgb(220, 176, 242)\",\"dash\":\"solid\"},\"marker\":{\"symbol\":\"circle\"},\"mode\":\"lines\",\"name\":\"India\",\"orientation\":\"v\",\"showlegend\":true,\"x\":[2001,2002,2003,2004,2005,2006,2007,2008,2009,2010,2011,2012,2013,2014,2015,2016,2017],\"xaxis\":\"x\",\"y\":[841479377511.348,873489045365.477,942148616477.496,1016794518279.13,1111202106006.44,1214143477507.44,1333146054742.66,1385018195313.06,1502464745208.38,1656617073124.71,1766589341211.56,1862981302114.15,1981953270296.47,2128820518653.43,2302413591823.42,2466177043270.51,2629542211700.51],\"yaxis\":\"y\",\"type\":\"scatter\"},{\"hovertemplate\":\"Entity=Japan\\u003cbr\\u003eYear=%{x}\\u003cbr\\u003eGDP=%{y}\\u003cextra\\u003e\\u003c\\u002fextra\\u003e\",\"legendgroup\":\"Japan\",\"line\":{\"color\":\"rgb(135, 197, 95)\",\"dash\":\"solid\"},\"marker\":{\"symbol\":\"circle\"},\"mode\":\"lines\",\"name\":\"Japan\",\"orientation\":\"v\",\"showlegend\":true,\"x\":[2001,2002,2003,2004,2005,2006,2007,2008,2009,2010,2011,2012,2013,2014,2015,2016,2017],\"xaxis\":\"x\",\"y\":[5370670124203.3,5377007127014.02,5459179633296.35,5579537505145.68,5672306823990.12,5752853952769.92,5848016735563.82,5784066298240.91,5470777391091.07,5700098114744.41,5693518985135.26,5778642194555.42,5894230516025.46,5916317345749.24,5996413817472.4,6052671805314.15,6156328720578.61],\"yaxis\":\"y\",\"type\":\"scatter\"},{\"hovertemplate\":\"Entity=United States\\u003cbr\\u003eYear=%{x}\\u003cbr\\u003eGDP=%{y}\\u003cextra\\u003e\\u003c\\u002fextra\\u003e\",\"legendgroup\":\"United States\",\"line\":{\"color\":\"rgb(158, 185, 243)\",\"dash\":\"solid\"},\"marker\":{\"symbol\":\"circle\"},\"mode\":\"lines\",\"name\":\"United States\",\"orientation\":\"v\",\"showlegend\":true,\"x\":[2001,2002,2003,2004,2005,2006,2007,2008,2009,2010,2011,2012,2013,2014,2015,2016,2017],\"xaxis\":\"x\",\"y\":[12837135352100.0,13066422980900.0,13433168199500.0,13941713404100.0,14408093840400.0,14792303791800.0,15055395304800.0,15011490541400.0,14594842181900.0,14964372000000.0,15204019634600.0,15542161722300.0,15802855301300.0,16208861247400.0,16672691917800.0,16920327941800.0,17304984279400.0],\"yaxis\":\"y\",\"type\":\"scatter\"}],                        {\"template\":{\"data\":{\"histogram2dcontour\":[{\"type\":\"histogram2dcontour\",\"colorbar\":{\"outlinewidth\":0,\"ticks\":\"\"},\"colorscale\":[[0.0,\"#0d0887\"],[0.1111111111111111,\"#46039f\"],[0.2222222222222222,\"#7201a8\"],[0.3333333333333333,\"#9c179e\"],[0.4444444444444444,\"#bd3786\"],[0.5555555555555556,\"#d8576b\"],[0.6666666666666666,\"#ed7953\"],[0.7777777777777778,\"#fb9f3a\"],[0.8888888888888888,\"#fdca26\"],[1.0,\"#f0f921\"]]}],\"choropleth\":[{\"type\":\"choropleth\",\"colorbar\":{\"outlinewidth\":0,\"ticks\":\"\"}}],\"histogram2d\":[{\"type\":\"histogram2d\",\"colorbar\":{\"outlinewidth\":0,\"ticks\":\"\"},\"colorscale\":[[0.0,\"#0d0887\"],[0.1111111111111111,\"#46039f\"],[0.2222222222222222,\"#7201a8\"],[0.3333333333333333,\"#9c179e\"],[0.4444444444444444,\"#bd3786\"],[0.5555555555555556,\"#d8576b\"],[0.6666666666666666,\"#ed7953\"],[0.7777777777777778,\"#fb9f3a\"],[0.8888888888888888,\"#fdca26\"],[1.0,\"#f0f921\"]]}],\"heatmap\":[{\"type\":\"heatmap\",\"colorbar\":{\"outlinewidth\":0,\"ticks\":\"\"},\"colorscale\":[[0.0,\"#0d0887\"],[0.1111111111111111,\"#46039f\"],[0.2222222222222222,\"#7201a8\"],[0.3333333333333333,\"#9c179e\"],[0.4444444444444444,\"#bd3786\"],[0.5555555555555556,\"#d8576b\"],[0.6666666666666666,\"#ed7953\"],[0.7777777777777778,\"#fb9f3a\"],[0.8888888888888888,\"#fdca26\"],[1.0,\"#f0f921\"]]}],\"heatmapgl\":[{\"type\":\"heatmapgl\",\"colorbar\":{\"outlinewidth\":0,\"ticks\":\"\"},\"colorscale\":[[0.0,\"#0d0887\"],[0.1111111111111111,\"#46039f\"],[0.2222222222222222,\"#7201a8\"],[0.3333333333333333,\"#9c179e\"],[0.4444444444444444,\"#bd3786\"],[0.5555555555555556,\"#d8576b\"],[0.6666666666666666,\"#ed7953\"],[0.7777777777777778,\"#fb9f3a\"],[0.8888888888888888,\"#fdca26\"],[1.0,\"#f0f921\"]]}],\"contourcarpet\":[{\"type\":\"contourcarpet\",\"colorbar\":{\"outlinewidth\":0,\"ticks\":\"\"}}],\"contour\":[{\"type\":\"contour\",\"colorbar\":{\"outlinewidth\":0,\"ticks\":\"\"},\"colorscale\":[[0.0,\"#0d0887\"],[0.1111111111111111,\"#46039f\"],[0.2222222222222222,\"#7201a8\"],[0.3333333333333333,\"#9c179e\"],[0.4444444444444444,\"#bd3786\"],[0.5555555555555556,\"#d8576b\"],[0.6666666666666666,\"#ed7953\"],[0.7777777777777778,\"#fb9f3a\"],[0.8888888888888888,\"#fdca26\"],[1.0,\"#f0f921\"]]}],\"surface\":[{\"type\":\"surface\",\"colorbar\":{\"outlinewidth\":0,\"ticks\":\"\"},\"colorscale\":[[0.0,\"#0d0887\"],[0.1111111111111111,\"#46039f\"],[0.2222222222222222,\"#7201a8\"],[0.3333333333333333,\"#9c179e\"],[0.4444444444444444,\"#bd3786\"],[0.5555555555555556,\"#d8576b\"],[0.6666666666666666,\"#ed7953\"],[0.7777777777777778,\"#fb9f3a\"],[0.8888888888888888,\"#fdca26\"],[1.0,\"#f0f921\"]]}],\"mesh3d\":[{\"type\":\"mesh3d\",\"colorbar\":{\"outlinewidth\":0,\"ticks\":\"\"}}],\"scatter\":[{\"fillpattern\":{\"fillmode\":\"overlay\",\"size\":10,\"solidity\":0.2},\"type\":\"scatter\"}],\"parcoords\":[{\"type\":\"parcoords\",\"line\":{\"colorbar\":{\"outlinewidth\":0,\"ticks\":\"\"}}}],\"scatterpolargl\":[{\"type\":\"scatterpolargl\",\"marker\":{\"colorbar\":{\"outlinewidth\":0,\"ticks\":\"\"}}}],\"bar\":[{\"error_x\":{\"color\":\"#2a3f5f\"},\"error_y\":{\"color\":\"#2a3f5f\"},\"marker\":{\"line\":{\"color\":\"#E5ECF6\",\"width\":0.5},\"pattern\":{\"fillmode\":\"overlay\",\"size\":10,\"solidity\":0.2}},\"type\":\"bar\"}],\"scattergeo\":[{\"type\":\"scattergeo\",\"marker\":{\"colorbar\":{\"outlinewidth\":0,\"ticks\":\"\"}}}],\"scatterpolar\":[{\"type\":\"scatterpolar\",\"marker\":{\"colorbar\":{\"outlinewidth\":0,\"ticks\":\"\"}}}],\"histogram\":[{\"marker\":{\"pattern\":{\"fillmode\":\"overlay\",\"size\":10,\"solidity\":0.2}},\"type\":\"histogram\"}],\"scattergl\":[{\"type\":\"scattergl\",\"marker\":{\"colorbar\":{\"outlinewidth\":0,\"ticks\":\"\"}}}],\"scatter3d\":[{\"type\":\"scatter3d\",\"line\":{\"colorbar\":{\"outlinewidth\":0,\"ticks\":\"\"}},\"marker\":{\"colorbar\":{\"outlinewidth\":0,\"ticks\":\"\"}}}],\"scattermapbox\":[{\"type\":\"scattermapbox\",\"marker\":{\"colorbar\":{\"outlinewidth\":0,\"ticks\":\"\"}}}],\"scatterternary\":[{\"type\":\"scatterternary\",\"marker\":{\"colorbar\":{\"outlinewidth\":0,\"ticks\":\"\"}}}],\"scattercarpet\":[{\"type\":\"scattercarpet\",\"marker\":{\"colorbar\":{\"outlinewidth\":0,\"ticks\":\"\"}}}],\"carpet\":[{\"aaxis\":{\"endlinecolor\":\"#2a3f5f\",\"gridcolor\":\"white\",\"linecolor\":\"white\",\"minorgridcolor\":\"white\",\"startlinecolor\":\"#2a3f5f\"},\"baxis\":{\"endlinecolor\":\"#2a3f5f\",\"gridcolor\":\"white\",\"linecolor\":\"white\",\"minorgridcolor\":\"white\",\"startlinecolor\":\"#2a3f5f\"},\"type\":\"carpet\"}],\"table\":[{\"cells\":{\"fill\":{\"color\":\"#EBF0F8\"},\"line\":{\"color\":\"white\"}},\"header\":{\"fill\":{\"color\":\"#C8D4E3\"},\"line\":{\"color\":\"white\"}},\"type\":\"table\"}],\"barpolar\":[{\"marker\":{\"line\":{\"color\":\"#E5ECF6\",\"width\":0.5},\"pattern\":{\"fillmode\":\"overlay\",\"size\":10,\"solidity\":0.2}},\"type\":\"barpolar\"}],\"pie\":[{\"automargin\":true,\"type\":\"pie\"}]},\"layout\":{\"autotypenumbers\":\"strict\",\"colorway\":[\"#636efa\",\"#EF553B\",\"#00cc96\",\"#ab63fa\",\"#FFA15A\",\"#19d3f3\",\"#FF6692\",\"#B6E880\",\"#FF97FF\",\"#FECB52\"],\"font\":{\"color\":\"#2a3f5f\"},\"hovermode\":\"closest\",\"hoverlabel\":{\"align\":\"left\"},\"paper_bgcolor\":\"white\",\"plot_bgcolor\":\"#E5ECF6\",\"polar\":{\"bgcolor\":\"#E5ECF6\",\"angularaxis\":{\"gridcolor\":\"white\",\"linecolor\":\"white\",\"ticks\":\"\"},\"radialaxis\":{\"gridcolor\":\"white\",\"linecolor\":\"white\",\"ticks\":\"\"}},\"ternary\":{\"bgcolor\":\"#E5ECF6\",\"aaxis\":{\"gridcolor\":\"white\",\"linecolor\":\"white\",\"ticks\":\"\"},\"baxis\":{\"gridcolor\":\"white\",\"linecolor\":\"white\",\"ticks\":\"\"},\"caxis\":{\"gridcolor\":\"white\",\"linecolor\":\"white\",\"ticks\":\"\"}},\"coloraxis\":{\"colorbar\":{\"outlinewidth\":0,\"ticks\":\"\"}},\"colorscale\":{\"sequential\":[[0.0,\"#0d0887\"],[0.1111111111111111,\"#46039f\"],[0.2222222222222222,\"#7201a8\"],[0.3333333333333333,\"#9c179e\"],[0.4444444444444444,\"#bd3786\"],[0.5555555555555556,\"#d8576b\"],[0.6666666666666666,\"#ed7953\"],[0.7777777777777778,\"#fb9f3a\"],[0.8888888888888888,\"#fdca26\"],[1.0,\"#f0f921\"]],\"sequentialminus\":[[0.0,\"#0d0887\"],[0.1111111111111111,\"#46039f\"],[0.2222222222222222,\"#7201a8\"],[0.3333333333333333,\"#9c179e\"],[0.4444444444444444,\"#bd3786\"],[0.5555555555555556,\"#d8576b\"],[0.6666666666666666,\"#ed7953\"],[0.7777777777777778,\"#fb9f3a\"],[0.8888888888888888,\"#fdca26\"],[1.0,\"#f0f921\"]],\"diverging\":[[0,\"#8e0152\"],[0.1,\"#c51b7d\"],[0.2,\"#de77ae\"],[0.3,\"#f1b6da\"],[0.4,\"#fde0ef\"],[0.5,\"#f7f7f7\"],[0.6,\"#e6f5d0\"],[0.7,\"#b8e186\"],[0.8,\"#7fbc41\"],[0.9,\"#4d9221\"],[1,\"#276419\"]]},\"xaxis\":{\"gridcolor\":\"white\",\"linecolor\":\"white\",\"ticks\":\"\",\"title\":{\"standoff\":15},\"zerolinecolor\":\"white\",\"automargin\":true,\"zerolinewidth\":2},\"yaxis\":{\"gridcolor\":\"white\",\"linecolor\":\"white\",\"ticks\":\"\",\"title\":{\"standoff\":15},\"zerolinecolor\":\"white\",\"automargin\":true,\"zerolinewidth\":2},\"scene\":{\"xaxis\":{\"backgroundcolor\":\"#E5ECF6\",\"gridcolor\":\"white\",\"linecolor\":\"white\",\"showbackground\":true,\"ticks\":\"\",\"zerolinecolor\":\"white\",\"gridwidth\":2},\"yaxis\":{\"backgroundcolor\":\"#E5ECF6\",\"gridcolor\":\"white\",\"linecolor\":\"white\",\"showbackground\":true,\"ticks\":\"\",\"zerolinecolor\":\"white\",\"gridwidth\":2},\"zaxis\":{\"backgroundcolor\":\"#E5ECF6\",\"gridcolor\":\"white\",\"linecolor\":\"white\",\"showbackground\":true,\"ticks\":\"\",\"zerolinecolor\":\"white\",\"gridwidth\":2}},\"shapedefaults\":{\"line\":{\"color\":\"#2a3f5f\"}},\"annotationdefaults\":{\"arrowcolor\":\"#2a3f5f\",\"arrowhead\":0,\"arrowwidth\":1},\"geo\":{\"bgcolor\":\"white\",\"landcolor\":\"#E5ECF6\",\"subunitcolor\":\"white\",\"showland\":true,\"showlakes\":true,\"lakecolor\":\"white\"},\"title\":{\"x\":0.05},\"mapbox\":{\"style\":\"light\"}}},\"xaxis\":{\"anchor\":\"y\",\"domain\":[0.0,1.0],\"title\":{\"text\":\"Year\"}},\"yaxis\":{\"anchor\":\"x\",\"domain\":[0.0,1.0],\"title\":{\"text\":\"GDP\"}},\"legend\":{\"title\":{\"text\":\"Entity\"},\"tracegroupgap\":0},\"margin\":{\"t\":60}},                        {\"responsive\": true}                    ).then(function(){\n",
       "                            \n",
       "var gd = document.getElementById('756b9262-8553-4510-9ab1-49c6a3da1500');\n",
       "var x = new MutationObserver(function (mutations, observer) {{\n",
       "        var display = window.getComputedStyle(gd).display;\n",
       "        if (!display || display === 'none') {{\n",
       "            console.log([gd, 'removed!']);\n",
       "            Plotly.purge(gd);\n",
       "            observer.disconnect();\n",
       "        }}\n",
       "}});\n",
       "\n",
       "// Listen for the removal of the full notebook cells\n",
       "var notebookContainer = gd.closest('#notebook-container');\n",
       "if (notebookContainer) {{\n",
       "    x.observe(notebookContainer, {childList: true});\n",
       "}}\n",
       "\n",
       "// Listen for the clearing of the current output cell\n",
       "var outputEl = gd.closest('.output');\n",
       "if (outputEl) {{\n",
       "    x.observe(outputEl, {childList: true});\n",
       "}}\n",
       "\n",
       "                        })                };                });            </script>        </div>"
      ]
     },
     "metadata": {},
     "output_type": "display_data"
    }
   ],
   "source": [
    "# Get plot of significant countries since 2000\n",
    "\n",
    "px.line(gdp.query('Entity in @C &  Year > 2000'), x = 'Year' , y = 'GDP' , color = 'Entity' , \n",
    "              color_discrete_sequence=px.colors.qualitative.Pastel)\n"
   ]
  },
  {
   "cell_type": "code",
   "execution_count": null,
   "metadata": {
    "scrolled": true
   },
   "outputs": [],
   "source": []
  },
  {
   "cell_type": "code",
   "execution_count": 53,
   "metadata": {},
   "outputs": [
    {
     "data": {
      "text/html": [
       "<div>\n",
       "<style scoped>\n",
       "    .dataframe tbody tr th:only-of-type {\n",
       "        vertical-align: middle;\n",
       "    }\n",
       "\n",
       "    .dataframe tbody tr th {\n",
       "        vertical-align: top;\n",
       "    }\n",
       "\n",
       "    .dataframe thead th {\n",
       "        text-align: right;\n",
       "    }\n",
       "</style>\n",
       "<table border=\"1\" class=\"dataframe\">\n",
       "  <thead>\n",
       "    <tr style=\"text-align: right;\">\n",
       "      <th></th>\n",
       "      <th>Entity</th>\n",
       "      <th>Year</th>\n",
       "      <th>GDP</th>\n",
       "    </tr>\n",
       "  </thead>\n",
       "  <tbody>\n",
       "    <tr>\n",
       "      <th>1782</th>\n",
       "      <td>China</td>\n",
       "      <td>2016</td>\n",
       "      <td>9.505157e+12</td>\n",
       "    </tr>\n",
       "    <tr>\n",
       "      <th>1783</th>\n",
       "      <td>China</td>\n",
       "      <td>2017</td>\n",
       "      <td>1.016101e+13</td>\n",
       "    </tr>\n",
       "    <tr>\n",
       "      <th>2918</th>\n",
       "      <td>France</td>\n",
       "      <td>2016</td>\n",
       "      <td>2.806036e+12</td>\n",
       "    </tr>\n",
       "    <tr>\n",
       "      <th>2919</th>\n",
       "      <td>France</td>\n",
       "      <td>2017</td>\n",
       "      <td>2.857089e+12</td>\n",
       "    </tr>\n",
       "    <tr>\n",
       "      <th>3129</th>\n",
       "      <td>Germany</td>\n",
       "      <td>2016</td>\n",
       "      <td>3.781699e+12</td>\n",
       "    </tr>\n",
       "    <tr>\n",
       "      <th>3130</th>\n",
       "      <td>Germany</td>\n",
       "      <td>2017</td>\n",
       "      <td>3.865759e+12</td>\n",
       "    </tr>\n",
       "    <tr>\n",
       "      <th>3788</th>\n",
       "      <td>India</td>\n",
       "      <td>2016</td>\n",
       "      <td>2.466177e+12</td>\n",
       "    </tr>\n",
       "    <tr>\n",
       "      <th>3789</th>\n",
       "      <td>India</td>\n",
       "      <td>2017</td>\n",
       "      <td>2.629542e+12</td>\n",
       "    </tr>\n",
       "    <tr>\n",
       "      <th>4260</th>\n",
       "      <td>Japan</td>\n",
       "      <td>2016</td>\n",
       "      <td>6.052672e+12</td>\n",
       "    </tr>\n",
       "    <tr>\n",
       "      <th>4261</th>\n",
       "      <td>Japan</td>\n",
       "      <td>2017</td>\n",
       "      <td>6.156329e+12</td>\n",
       "    </tr>\n",
       "    <tr>\n",
       "      <th>8493</th>\n",
       "      <td>United States</td>\n",
       "      <td>2016</td>\n",
       "      <td>1.692033e+13</td>\n",
       "    </tr>\n",
       "    <tr>\n",
       "      <th>8494</th>\n",
       "      <td>United States</td>\n",
       "      <td>2017</td>\n",
       "      <td>1.730498e+13</td>\n",
       "    </tr>\n",
       "  </tbody>\n",
       "</table>\n",
       "</div>"
      ],
      "text/plain": [
       "             Entity  Year           GDP\n",
       "1782          China  2016  9.505157e+12\n",
       "1783          China  2017  1.016101e+13\n",
       "2918         France  2016  2.806036e+12\n",
       "2919         France  2017  2.857089e+12\n",
       "3129        Germany  2016  3.781699e+12\n",
       "3130        Germany  2017  3.865759e+12\n",
       "3788          India  2016  2.466177e+12\n",
       "3789          India  2017  2.629542e+12\n",
       "4260          Japan  2016  6.052672e+12\n",
       "4261          Japan  2017  6.156329e+12\n",
       "8493  United States  2016  1.692033e+13\n",
       "8494  United States  2017  1.730498e+13"
      ]
     },
     "execution_count": 53,
     "metadata": {},
     "output_type": "execute_result"
    }
   ],
   "source": [
    "# Join Tables\n",
    "\n",
    "gdp_miniset = gdp.query('Entity in @C & Year > 2015 ' )\n",
    "\n",
    "gdp_miniset"
   ]
  },
  {
   "cell_type": "code",
   "execution_count": 55,
   "metadata": {},
   "outputs": [
    {
     "data": {
      "text/html": [
       "<div>\n",
       "<style scoped>\n",
       "    .dataframe tbody tr th:only-of-type {\n",
       "        vertical-align: middle;\n",
       "    }\n",
       "\n",
       "    .dataframe tbody tr th {\n",
       "        vertical-align: top;\n",
       "    }\n",
       "\n",
       "    .dataframe thead th {\n",
       "        text-align: right;\n",
       "    }\n",
       "</style>\n",
       "<table border=\"1\" class=\"dataframe\">\n",
       "  <thead>\n",
       "    <tr style=\"text-align: right;\">\n",
       "      <th></th>\n",
       "      <th>Entity</th>\n",
       "      <th>Year</th>\n",
       "      <th>Population</th>\n",
       "    </tr>\n",
       "  </thead>\n",
       "  <tbody>\n",
       "    <tr>\n",
       "      <th>8720</th>\n",
       "      <td>China</td>\n",
       "      <td>2016</td>\n",
       "      <td>1414049024</td>\n",
       "    </tr>\n",
       "    <tr>\n",
       "      <th>8721</th>\n",
       "      <td>China</td>\n",
       "      <td>2017</td>\n",
       "      <td>1421021952</td>\n",
       "    </tr>\n",
       "    <tr>\n",
       "      <th>14622</th>\n",
       "      <td>France</td>\n",
       "      <td>2016</td>\n",
       "      <td>64668000</td>\n",
       "    </tr>\n",
       "    <tr>\n",
       "      <th>14623</th>\n",
       "      <td>France</td>\n",
       "      <td>2017</td>\n",
       "      <td>64843000</td>\n",
       "    </tr>\n",
       "    <tr>\n",
       "      <th>15642</th>\n",
       "      <td>Germany</td>\n",
       "      <td>2016</td>\n",
       "      <td>82194000</td>\n",
       "    </tr>\n",
       "    <tr>\n",
       "      <th>15643</th>\n",
       "      <td>Germany</td>\n",
       "      <td>2017</td>\n",
       "      <td>82658000</td>\n",
       "    </tr>\n",
       "    <tr>\n",
       "      <th>18782</th>\n",
       "      <td>India</td>\n",
       "      <td>2016</td>\n",
       "      <td>1324516992</td>\n",
       "    </tr>\n",
       "    <tr>\n",
       "      <th>18783</th>\n",
       "      <td>India</td>\n",
       "      <td>2017</td>\n",
       "      <td>1338676992</td>\n",
       "    </tr>\n",
       "    <tr>\n",
       "      <th>20612</th>\n",
       "      <td>Japan</td>\n",
       "      <td>2016</td>\n",
       "      <td>127763000</td>\n",
       "    </tr>\n",
       "    <tr>\n",
       "      <th>20613</th>\n",
       "      <td>Japan</td>\n",
       "      <td>2017</td>\n",
       "      <td>127503000</td>\n",
       "    </tr>\n",
       "    <tr>\n",
       "      <th>44538</th>\n",
       "      <td>United States</td>\n",
       "      <td>2016</td>\n",
       "      <td>323016000</td>\n",
       "    </tr>\n",
       "    <tr>\n",
       "      <th>44539</th>\n",
       "      <td>United States</td>\n",
       "      <td>2017</td>\n",
       "      <td>325084992</td>\n",
       "    </tr>\n",
       "  </tbody>\n",
       "</table>\n",
       "</div>"
      ],
      "text/plain": [
       "              Entity  Year  Population\n",
       "8720           China  2016  1414049024\n",
       "8721           China  2017  1421021952\n",
       "14622         France  2016    64668000\n",
       "14623         France  2017    64843000\n",
       "15642        Germany  2016    82194000\n",
       "15643        Germany  2017    82658000\n",
       "18782          India  2016  1324516992\n",
       "18783          India  2017  1338676992\n",
       "20612          Japan  2016   127763000\n",
       "20613          Japan  2017   127503000\n",
       "44538  United States  2016   323016000\n",
       "44539  United States  2017   325084992"
      ]
     },
     "execution_count": 55,
     "metadata": {},
     "output_type": "execute_result"
    }
   ],
   "source": [
    "# Join Tables\n",
    "\n",
    "pop_miniset = pop.query('Entity in @C &  Year > 2015 & Year < 2018')\n",
    "\n",
    "pop_miniset"
   ]
  },
  {
   "cell_type": "code",
   "execution_count": 59,
   "metadata": {},
   "outputs": [
    {
     "data": {
      "text/html": [
       "<div>\n",
       "<style scoped>\n",
       "    .dataframe tbody tr th:only-of-type {\n",
       "        vertical-align: middle;\n",
       "    }\n",
       "\n",
       "    .dataframe tbody tr th {\n",
       "        vertical-align: top;\n",
       "    }\n",
       "\n",
       "    .dataframe thead th {\n",
       "        text-align: right;\n",
       "    }\n",
       "</style>\n",
       "<table border=\"1\" class=\"dataframe\">\n",
       "  <thead>\n",
       "    <tr style=\"text-align: right;\">\n",
       "      <th></th>\n",
       "      <th>Entity</th>\n",
       "      <th>Year</th>\n",
       "      <th>GDP</th>\n",
       "      <th>Population</th>\n",
       "    </tr>\n",
       "  </thead>\n",
       "  <tbody>\n",
       "    <tr>\n",
       "      <th>10</th>\n",
       "      <td>United States</td>\n",
       "      <td>2016</td>\n",
       "      <td>1.692033e+13</td>\n",
       "      <td>323016000</td>\n",
       "    </tr>\n",
       "    <tr>\n",
       "      <th>0</th>\n",
       "      <td>China</td>\n",
       "      <td>2016</td>\n",
       "      <td>9.505157e+12</td>\n",
       "      <td>1414049024</td>\n",
       "    </tr>\n",
       "    <tr>\n",
       "      <th>8</th>\n",
       "      <td>Japan</td>\n",
       "      <td>2016</td>\n",
       "      <td>6.052672e+12</td>\n",
       "      <td>127763000</td>\n",
       "    </tr>\n",
       "    <tr>\n",
       "      <th>4</th>\n",
       "      <td>Germany</td>\n",
       "      <td>2016</td>\n",
       "      <td>3.781699e+12</td>\n",
       "      <td>82194000</td>\n",
       "    </tr>\n",
       "    <tr>\n",
       "      <th>2</th>\n",
       "      <td>France</td>\n",
       "      <td>2016</td>\n",
       "      <td>2.806036e+12</td>\n",
       "      <td>64668000</td>\n",
       "    </tr>\n",
       "    <tr>\n",
       "      <th>6</th>\n",
       "      <td>India</td>\n",
       "      <td>2016</td>\n",
       "      <td>2.466177e+12</td>\n",
       "      <td>1324516992</td>\n",
       "    </tr>\n",
       "    <tr>\n",
       "      <th>11</th>\n",
       "      <td>United States</td>\n",
       "      <td>2017</td>\n",
       "      <td>1.730498e+13</td>\n",
       "      <td>325084992</td>\n",
       "    </tr>\n",
       "    <tr>\n",
       "      <th>1</th>\n",
       "      <td>China</td>\n",
       "      <td>2017</td>\n",
       "      <td>1.016101e+13</td>\n",
       "      <td>1421021952</td>\n",
       "    </tr>\n",
       "    <tr>\n",
       "      <th>9</th>\n",
       "      <td>Japan</td>\n",
       "      <td>2017</td>\n",
       "      <td>6.156329e+12</td>\n",
       "      <td>127503000</td>\n",
       "    </tr>\n",
       "    <tr>\n",
       "      <th>5</th>\n",
       "      <td>Germany</td>\n",
       "      <td>2017</td>\n",
       "      <td>3.865759e+12</td>\n",
       "      <td>82658000</td>\n",
       "    </tr>\n",
       "    <tr>\n",
       "      <th>3</th>\n",
       "      <td>France</td>\n",
       "      <td>2017</td>\n",
       "      <td>2.857089e+12</td>\n",
       "      <td>64843000</td>\n",
       "    </tr>\n",
       "    <tr>\n",
       "      <th>7</th>\n",
       "      <td>India</td>\n",
       "      <td>2017</td>\n",
       "      <td>2.629542e+12</td>\n",
       "      <td>1338676992</td>\n",
       "    </tr>\n",
       "  </tbody>\n",
       "</table>\n",
       "</div>"
      ],
      "text/plain": [
       "           Entity  Year           GDP  Population\n",
       "10  United States  2016  1.692033e+13   323016000\n",
       "0           China  2016  9.505157e+12  1414049024\n",
       "8           Japan  2016  6.052672e+12   127763000\n",
       "4         Germany  2016  3.781699e+12    82194000\n",
       "2          France  2016  2.806036e+12    64668000\n",
       "6           India  2016  2.466177e+12  1324516992\n",
       "11  United States  2017  1.730498e+13   325084992\n",
       "1           China  2017  1.016101e+13  1421021952\n",
       "9           Japan  2017  6.156329e+12   127503000\n",
       "5         Germany  2017  3.865759e+12    82658000\n",
       "3          France  2017  2.857089e+12    64843000\n",
       "7           India  2017  2.629542e+12  1338676992"
      ]
     },
     "execution_count": 59,
     "metadata": {},
     "output_type": "execute_result"
    }
   ],
   "source": [
    "# Join\n",
    "\n",
    "joineddf = pd.merge(left = gdp_miniset , right = pop_miniset , how = 'left' , on = ['Entity' , 'Year'])\n",
    "\n",
    "joineddf.sort_values(['Year' , 'GDP'], ascending=[True,False])"
   ]
  },
  {
   "cell_type": "code",
   "execution_count": 65,
   "metadata": {},
   "outputs": [
    {
     "name": "stdout",
     "output_type": "stream",
     "text": [
      "(8869, 3)\n",
      "(46883, 3)\n",
      "(8869, 5)\n",
      "<class 'pandas.core.frame.DataFrame'>\n",
      "Int64Index: 8869 entries, 0 to 8868\n",
      "Data columns (total 5 columns):\n",
      " #   Column        Non-Null Count  Dtype  \n",
      "---  ------        --------------  -----  \n",
      " 0   Entity        8869 non-null   object \n",
      " 1   Year          8869 non-null   int64  \n",
      " 2   GDP           8869 non-null   float64\n",
      " 3   Population    8851 non-null   float64\n",
      " 4   GDPperCapita  8851 non-null   float64\n",
      "dtypes: float64(3), int64(1), object(1)\n",
      "memory usage: 415.7+ KB\n"
     ]
    }
   ],
   "source": [
    "#\n",
    "\n",
    "gdp_and_pop = pd.merge(gdp, pop, how='left', on=['Entity' , 'Year'])\n",
    "\n",
    "gdp_and_pop['GDPperCapita'] = gdp_and_pop['GDP'] / gdp_and_pop['Population']\n",
    "\n",
    "print(gdp.shape)\n",
    "print(pop.shape)\n",
    "print(gdp_and_pop.shape)\n",
    "\n",
    "gdp_and_pop.info()"
   ]
  },
  {
   "cell_type": "code",
   "execution_count": 78,
   "metadata": {},
   "outputs": [
    {
     "data": {
      "application/vnd.plotly.v1+json": {
       "config": {
        "plotlyServerURL": "https://plot.ly"
       },
       "data": [
        {
         "hovertemplate": "Entity=Brazil<br>Year=%{x}<br>GDPperCapita=%{y}<extra></extra>",
         "legendgroup": "Brazil",
         "line": {
          "color": "#636efa",
          "dash": "solid"
         },
         "marker": {
          "symbol": "circle"
         },
         "mode": "lines",
         "name": "Brazil",
         "orientation": "v",
         "showlegend": true,
         "type": "scatter",
         "x": [
          1960,
          1961,
          1962,
          1963,
          1964,
          1965,
          1966,
          1967,
          1968,
          1969,
          1970,
          1971,
          1972,
          1973,
          1974,
          1975,
          1976,
          1977,
          1978,
          1979,
          1980,
          1981,
          1982,
          1983,
          1984,
          1985,
          1986,
          1987,
          1988,
          1989,
          1990,
          1991,
          1992,
          1993,
          1994,
          1995,
          1996,
          1997,
          1998,
          1999,
          2000,
          2001,
          2002,
          2003,
          2004,
          2005,
          2006,
          2007,
          2008,
          2009,
          2010,
          2011,
          2012,
          2013,
          2014,
          2015,
          2016,
          2017
         ],
         "xaxis": "x",
         "y": [
          3426.7850685541353,
          3670.500415065266,
          3750.762013702525,
          3675.0662142408314,
          3695.634514582125,
          3703.006367102106,
          3752.150539780424,
          3831.989021339668,
          4158.820004670418,
          4447.589192055365,
          4717.300860783574,
          5122.483433428351,
          5603.3139681874145,
          6236.691994516316,
          6641.689321399184,
          6824.074053268402,
          7316.459929967985,
          7474.166340086671,
          7535.01673654011,
          7856.699583290497,
          8372.508608826289,
          7818.371545797437,
          7681.7184306656545,
          7250.641596987771,
          7463.468889124653,
          7884.3862455506605,
          8339.441238782338,
          8468.973549588409,
          8299.116603779348,
          8413.128001986906,
          8005.770116587177,
          7985.0672843653065,
          7813.258727235754,
          8042.724397865879,
          8334.4620572794,
          8563.617013655907,
          8614.684034853917,
          8768.974551749525,
          8665.150732949236,
          8577.774045482318,
          8804.283424034154,
          8804.832566419389,
          8955.370450327286,
          8944.314123752416,
          9346.951200245372,
          9535.805423081158,
          9805.69262914267,
          10292.578250252143,
          10709.536643605166,
          10593.622084412587,
          11286.221967783704,
          11628.996382163677,
          11748.397035269103,
          11996.773043792007,
          11954.98311089735,
          11434.291299511717,
          10947.196823215685,
          10965.175921972874
         ],
         "yaxis": "y"
        },
        {
         "hovertemplate": "Entity=Canada<br>Year=%{x}<br>GDPperCapita=%{y}<extra></extra>",
         "legendgroup": "Canada",
         "line": {
          "color": "#EF553B",
          "dash": "solid"
         },
         "marker": {
          "symbol": "circle"
         },
         "mode": "lines",
         "name": "Canada",
         "orientation": "v",
         "showlegend": true,
         "type": "scatter",
         "x": [
          1960,
          1961,
          1962,
          1963,
          1964,
          1965,
          1966,
          1967,
          1968,
          1969,
          1970,
          1971,
          1972,
          1973,
          1974,
          1975,
          1976,
          1977,
          1978,
          1979,
          1980,
          1981,
          1982,
          1983,
          1984,
          1985,
          1986,
          1987,
          1988,
          1989,
          1990,
          1991,
          1992,
          1993,
          1994,
          1995,
          1996,
          1997,
          1998,
          1999,
          2000,
          2001,
          2002,
          2003,
          2004,
          2005,
          2006,
          2007,
          2008,
          2009,
          2010,
          2011,
          2012,
          2013,
          2014,
          2015,
          2016,
          2017
         ],
         "xaxis": "x",
         "y": [
          17725.578679958533,
          17898.18061947055,
          18797.731928130343,
          19410.650219693714,
          20344.82357444721,
          21314.790469442938,
          22322.587619579044,
          22578.885408864502,
          23372.043958565464,
          24191.877645641427,
          24571.600668457704,
          25172.35457467776,
          26123.506462028545,
          27515.21266076868,
          28115.615360756925,
          28239.560449759272,
          29331.305301008437,
          29987.418275739397,
          30823.47251507129,
          31653.2895726395,
          31998.78304001921,
          32782.7411568374,
          31415.915849184254,
          31907.02602899555,
          33433.685282198865,
          34608.42561109427,
          34907.791165736235,
          35847.00406897552,
          36913.91387985063,
          37253.41004142058,
          36820.4931277735,
          35588.12169500592,
          35476.219324857215,
          36004.875357057936,
          37214.72341974568,
          37814.2288688088,
          38039.95643654321,
          39289.21401526393,
          40433.672103907804,
          42127.047016183875,
          43897.504942745516,
          44252.40680687791,
          45148.7146750959,
          45509.91697189913,
          46432.14181008958,
          47398.664471967735,
          48084.49990581246,
          48489.19208160882,
          48376.367037355274,
          46381.82956806614,
          47249.16313725928,
          48181.67502942036,
          48485.02652412405,
          49157.171477374,
          50040.67496740579,
          50032.27823005274,
          50243.30791935217,
          51282.4760892625
         ],
         "yaxis": "y"
        },
        {
         "hovertemplate": "Entity=China<br>Year=%{x}<br>GDPperCapita=%{y}<extra></extra>",
         "legendgroup": "China",
         "line": {
          "color": "#00cc96",
          "dash": "solid"
         },
         "marker": {
          "symbol": "circle"
         },
         "mode": "lines",
         "name": "China",
         "orientation": "v",
         "showlegend": true,
         "type": "scatter",
         "x": [
          1960,
          1961,
          1962,
          1963,
          1964,
          1965,
          1966,
          1967,
          1968,
          1969,
          1970,
          1971,
          1972,
          1973,
          1974,
          1975,
          1976,
          1977,
          1978,
          1979,
          1980,
          1981,
          1982,
          1983,
          1984,
          1985,
          1986,
          1987,
          1988,
          1989,
          1990,
          1991,
          1992,
          1993,
          1994,
          1995,
          1996,
          1997,
          1998,
          1999,
          2000,
          2001,
          2002,
          2003,
          2004,
          2005,
          2006,
          2007,
          2008,
          2009,
          2010,
          2011,
          2012,
          2013,
          2014,
          2015,
          2016,
          2017
         ],
         "xaxis": "x",
         "y": [
          193.72591244004917,
          138.68245260326154,
          128.80350463105032,
          139.56662358253936,
          161.69905727370704,
          184.93854193118608,
          199.61907687831444,
          183.12683182549085,
          170.8043605978409,
          194.3086636939669,
          225.75588425820385,
          235.66898598189934,
          238.8162786783163,
          251.56225917344878,
          251.99647957314542,
          268.71235003756107,
          259.87980461866204,
          275.11495363707917,
          302.68849263453484,
          321.0931131591,
          341.3289192641814,
          354.05130843185265,
          380.4583965889749,
          415.82365950745594,
          471.65378776348626,
          526.3958736107277,
          563.2813310238797,
          617.2399363927842,
          673.5313351550019,
          689.2251659486328,
          704.8799971216414,
          760.0505901078784,
          858.162905734682,
          967.4634976922672,
          1083.776669167,
          1191.8788724898482,
          1298.996571477866,
          1407.2557841339633,
          1505.637255496303,
          1609.0227261440468,
          1733.43051475517,
          1865.5955143301735,
          2023.1322087693893,
          2212.7070990616044,
          2422.1100568239885,
          2682.534889844096,
          3006.495080489352,
          3415.0075494030666,
          3723.745612443898,
          4051.025105161356,
          4456.875677659329,
          4854.6401461559935,
          5206.876725753055,
          5579.860312428018,
          5954.670320941843,
          6332.098974797491,
          6721.942994428402,
          7150.496686254078
         ],
         "yaxis": "y"
        },
        {
         "hovertemplate": "Entity=France<br>Year=%{x}<br>GDPperCapita=%{y}<extra></extra>",
         "legendgroup": "France",
         "line": {
          "color": "#ab63fa",
          "dash": "solid"
         },
         "marker": {
          "symbol": "circle"
         },
         "mode": "lines",
         "name": "France",
         "orientation": "v",
         "showlegend": true,
         "type": "scatter",
         "x": [
          1960,
          1961,
          1962,
          1963,
          1964,
          1965,
          1966,
          1967,
          1968,
          1969,
          1970,
          1971,
          1972,
          1973,
          1974,
          1975,
          1976,
          1977,
          1978,
          1979,
          1980,
          1981,
          1982,
          1983,
          1984,
          1985,
          1986,
          1987,
          1988,
          1989,
          1990,
          1991,
          1992,
          1993,
          1994,
          1995,
          1996,
          1997,
          1998,
          1999,
          2000,
          2001,
          2002,
          2003,
          2004,
          2005,
          2006,
          2007,
          2008,
          2009,
          2010,
          2011,
          2012,
          2013,
          2014,
          2015,
          2016,
          2017
         ],
         "xaxis": "x",
         "y": [
          13315.882157454009,
          13868.721312603862,
          14592.21609076882,
          15161.103825492464,
          15940.551100214678,
          16509.295414876382,
          17198.623805642088,
          17853.343428996595,
          18474.560675549266,
          19624.023553518866,
          20560.93701793062,
          21491.147122421084,
          22288.57274647742,
          23509.551189543286,
          24341.882195951446,
          23951.414382569605,
          24852.665255397118,
          25594.455177725387,
          26506.204191928195,
          27340.071859791748,
          27655.1805149716,
          27822.559461859353,
          28378.919701106985,
          28586.181691589572,
          28868.846921941054,
          29183.48438009375,
          29713.709556618775,
          30319.591636529603,
          31591.962912097777,
          32804.74753516666,
          33603.99270274569,
          33805.820841595036,
          34206.56470666964,
          33864.84922404271,
          34528.507658965216,
          35117.34626784523,
          35475.88926972989,
          36174.752196318856,
          37318.26154815841,
          38418.81780806555,
          39697.30235475489,
          40221.674096846116,
          40386.57767447469,
          40414.12980623962,
          41235.007281791,
          41608.66589059473,
          42327.4553031054,
          43074.90877013868,
          42923.14840670659,
          41438.15086784132,
          42026.2332845159,
          42667.98673934833,
          42515.94776209348,
          42540.09042190863,
          42742.50667460588,
          43025.17523296557,
          43391.42035061947,
          44061.64739521614
         ],
         "yaxis": "y"
        },
        {
         "hovertemplate": "Entity=Germany<br>Year=%{x}<br>GDPperCapita=%{y}<extra></extra>",
         "legendgroup": "Germany",
         "line": {
          "color": "#FFA15A",
          "dash": "solid"
         },
         "marker": {
          "symbol": "circle"
         },
         "mode": "lines",
         "name": "Germany",
         "orientation": "v",
         "showlegend": true,
         "type": "scatter",
         "x": [
          1970,
          1971,
          1972,
          1973,
          1974,
          1975,
          1976,
          1977,
          1978,
          1979,
          1980,
          1981,
          1982,
          1983,
          1984,
          1985,
          1986,
          1987,
          1988,
          1989,
          1990,
          1991,
          1992,
          1993,
          1994,
          1995,
          1996,
          1997,
          1998,
          1999,
          2000,
          2001,
          2002,
          2003,
          2004,
          2005,
          2006,
          2007,
          2008,
          2009,
          2010,
          2011,
          2012,
          2013,
          2014,
          2015,
          2016,
          2017
         ],
         "xaxis": "x",
         "y": [
          19522.674736774414,
          20080.08632734484,
          20913.869502092974,
          21904.698309091622,
          22105.826529893802,
          21929.23343208938,
          23036.185461335583,
          23835.999687558044,
          24588.414712477283,
          25653.325381833678,
          26066.245847703078,
          26262.909168327828,
          26220.308627438084,
          26686.022148882475,
          27470.4385806264,
          28106.31447093755,
          28707.078408503327,
          29031.23924632255,
          29995.228900553837,
          31024.550958026317,
          32492.143133879123,
          33964.17731877357,
          34413.24429986431,
          33886.715344794786,
          34545.91161960919,
          35013.64835761644,
          35219.72185041931,
          35837.95409629799,
          36545.61295701473,
          37277.77683841135,
          38376.77481265365,
          39002.047931911016,
          38963.301799790024,
          38649.25130589041,
          39086.110853687256,
          39383.07949672598,
          40905.98401414437,
          42340.55881470325,
          42910.742663713885,
          40582.74979532707,
          42276.647192756755,
          43808.254538186404,
          43960.176889365095,
          44066.013635274474,
          44764.14853709552,
          45356.81541699036,
          46009.42343522325,
          46768.11780316001
         ],
         "yaxis": "y"
        },
        {
         "hovertemplate": "Entity=India<br>Year=%{x}<br>GDPperCapita=%{y}<extra></extra>",
         "legendgroup": "India",
         "line": {
          "color": "#19d3f3",
          "dash": "solid"
         },
         "marker": {
          "symbol": "circle"
         },
         "mode": "lines",
         "name": "India",
         "orientation": "v",
         "showlegend": true,
         "type": "scatter",
         "x": [
          1960,
          1961,
          1962,
          1963,
          1964,
          1965,
          1966,
          1967,
          1968,
          1969,
          1970,
          1971,
          1972,
          1973,
          1974,
          1975,
          1976,
          1977,
          1978,
          1979,
          1980,
          1981,
          1982,
          1983,
          1984,
          1985,
          1986,
          1987,
          1988,
          1989,
          1990,
          1991,
          1992,
          1993,
          1994,
          1995,
          1996,
          1997,
          1998,
          1999,
          2000,
          2001,
          2002,
          2003,
          2004,
          2005,
          2006,
          2007,
          2008,
          2009,
          2010,
          2011,
          2012,
          2013,
          2014,
          2015,
          2016,
          2017
         ],
         "xaxis": "x",
         "y": [
          303.5111375959387,
          308.58158082129415,
          311.2377661639371,
          323.17774076955897,
          340.14465530016287,
          324.361527659885,
          317.4971864661756,
          335.26004635459265,
          339.37125770721957,
          353.8622138314205,
          363.9977614687113,
          361.7179966614814,
          351.53353921078764,
          354.7646643466695,
          350.6954966238948,
          373.99908788994935,
          371.5565994941163,
          389.4846685385686,
          402.4255173787677,
          372.69421643887915,
          388.7159772995302,
          402.5981890918714,
          407.002739011795,
          426.6526504087595,
          432.9006533041787,
          445.464864374309,
          456.4910096539795,
          464.34021672891004,
          498.23425677842414,
          516.8400505892723,
          534.2321485707743,
          528.9778188028095,
          546.9122757961491,
          561.7155929231328,
          587.5898472524461,
          620.082699454377,
          654.3763113318446,
          668.2686811544697,
          696.6620247811787,
          744.7190287417634,
          759.7700106437389,
          782.7714673618364,
          798.9348484995256,
          847.6195849696252,
          900.1184309051717,
          968.2750424785778,
          1041.7487018388704,
          1126.720722891297,
          1153.5378169545963,
          1233.8283032735924,
          1342.171780017339,
          1412.9459302269238,
          1471.8050128868447,
          1547.3831238002813,
          1643.1142606548526,
          1757.3638053406808,
          1861.9444357196362,
          1964.284310117216
         ],
         "yaxis": "y"
        },
        {
         "hovertemplate": "Entity=Indonesia<br>Year=%{x}<br>GDPperCapita=%{y}<extra></extra>",
         "legendgroup": "Indonesia",
         "line": {
          "color": "#FF6692",
          "dash": "solid"
         },
         "marker": {
          "symbol": "circle"
         },
         "mode": "lines",
         "name": "Indonesia",
         "orientation": "v",
         "showlegend": true,
         "type": "scatter",
         "x": [
          1960,
          1961,
          1962,
          1963,
          1964,
          1965,
          1966,
          1967,
          1968,
          1969,
          1970,
          1971,
          1972,
          1973,
          1974,
          1975,
          1976,
          1977,
          1978,
          1979,
          1980,
          1981,
          1982,
          1983,
          1984,
          1985,
          1986,
          1987,
          1988,
          1989,
          1990,
          1991,
          1992,
          1993,
          1994,
          1995,
          1996,
          1997,
          1998,
          1999,
          2000,
          2001,
          2002,
          2003,
          2004,
          2005,
          2006,
          2007,
          2008,
          2009,
          2010,
          2011,
          2012,
          2013,
          2014,
          2015,
          2016,
          2017
         ],
         "xaxis": "x",
         "y": [
          690.3693093781176,
          710.9848697374891,
          705.1412121816252,
          671.250385197331,
          676.5582592379704,
          665.6649801203476,
          665.9285952174628,
          657.0036699906439,
          709.1959192082617,
          737.3856687606734,
          772.1308820938419,
          804.7247687595233,
          839.0303126834742,
          883.7798665521659,
          927.2001162763416,
          949.0756868142653,
          989.5519188258153,
          1050.2917792374599,
          1094.6996094375204,
          1147.238428994084,
          1231.193765154373,
          1298.0679854549749,
          1296.897714726908,
          1320.994023074421,
          1382.3967348475642,
          1386.7365629128512,
          1438.6299897625881,
          1480.2294879611545,
          1536.505362017391,
          1621.1230949630587,
          1707.822214488012,
          1794.4218687514356,
          1878.9709022497818,
          1968.4181933336554,
          2083.367466540771,
          2220.079880553419,
          2358.1225912319833,
          2433.3460862983297,
          2084.138829169963,
          2071.5262813117597,
          2143.6577102593587,
          2191.5783571800152,
          2259.3055519457994,
          2335.599101393578,
          2420.393669513467,
          2524.227755783445,
          2627.908247816578,
          2757.8965775876345,
          2885.306358538952,
          2978.999358155296,
          3122.3655911206483,
          3270.6222385421306,
          3421.279207607031,
          3563.3198168943927,
          3692.9879790432765,
          3824.2785558343103,
          3968.0369468926347,
          4120.367810496154
         ],
         "yaxis": "y"
        },
        {
         "hovertemplate": "Entity=Italy<br>Year=%{x}<br>GDPperCapita=%{y}<extra></extra>",
         "legendgroup": "Italy",
         "line": {
          "color": "#B6E880",
          "dash": "solid"
         },
         "marker": {
          "symbol": "circle"
         },
         "mode": "lines",
         "name": "Italy",
         "orientation": "v",
         "showlegend": true,
         "type": "scatter",
         "x": [
          1960,
          1961,
          1962,
          1963,
          1964,
          1965,
          1966,
          1967,
          1968,
          1969,
          1970,
          1971,
          1972,
          1973,
          1974,
          1975,
          1976,
          1977,
          1978,
          1979,
          1980,
          1981,
          1982,
          1983,
          1984,
          1985,
          1986,
          1987,
          1988,
          1989,
          1990,
          1991,
          1992,
          1993,
          1994,
          1995,
          1996,
          1997,
          1998,
          1999,
          2000,
          2001,
          2002,
          2003,
          2004,
          2005,
          2006,
          2007,
          2008,
          2009,
          2010,
          2011,
          2012,
          2013,
          2014,
          2015,
          2016,
          2017
         ],
         "xaxis": "x",
         "y": [
          10976.971094347366,
          11794.344718809138,
          12429.177773071053,
          13019.563469657325,
          13274.962413571295,
          13601.61886466366,
          14308.768790741793,
          15227.719879720138,
          16113.060967826006,
          16979.862339812982,
          17752.909048158766,
          17951.569142794648,
          18487.137201462985,
          19673.97141162709,
          20628.036984375343,
          20084.682680398986,
          21410.031647617667,
          21863.75440356144,
          22487.10518876297,
          23746.985818509558,
          24486.975510568245,
          24625.526517024333,
          24666.259637683113,
          24901.90479085528,
          25660.902090103584,
          26344.631923738692,
          27075.730685397655,
          27928.214794842304,
          29094.525902453963,
          30074.557990183588,
          30661.55569375596,
          31111.453417589688,
          31339.717234140346,
          31043.658407584007,
          31702.54668494477,
          32640.567436294994,
          33123.594549544905,
          33826.96993493182,
          34471.16968575754,
          35062.62735165966,
          36340.39701154043,
          36865.417031940924,
          36757.9864477586,
          36569.313721426384,
          36902.294087583694,
          37039.89182242343,
          37614.036888603085,
          38035.230396147614,
          37524.56688475816,
          35357.037490947616,
          35820.61937198348,
          35867.55641665996,
          34687.631801137126,
          33925.00466500025,
          33826.94942698245,
          34054.26328531381,
          34298.41249524356,
          34807.36298025678
         ],
         "yaxis": "y"
        },
        {
         "hovertemplate": "Entity=Japan<br>Year=%{x}<br>GDPperCapita=%{y}<extra></extra>",
         "legendgroup": "Japan",
         "line": {
          "color": "#FF97FF",
          "dash": "solid"
         },
         "marker": {
          "symbol": "circle"
         },
         "mode": "lines",
         "name": "Japan",
         "orientation": "v",
         "showlegend": true,
         "type": "scatter",
         "x": [
          1960,
          1961,
          1962,
          1963,
          1964,
          1965,
          1966,
          1967,
          1968,
          1969,
          1970,
          1971,
          1972,
          1973,
          1974,
          1975,
          1976,
          1977,
          1978,
          1979,
          1980,
          1981,
          1982,
          1983,
          1984,
          1985,
          1986,
          1987,
          1988,
          1989,
          1990,
          1991,
          1992,
          1993,
          1994,
          1995,
          1996,
          1997,
          1998,
          1999,
          2000,
          2001,
          2002,
          2003,
          2004,
          2005,
          2006,
          2007,
          2008,
          2009,
          2010,
          2011,
          2012,
          2013,
          2014,
          2015,
          2016,
          2017
         ],
         "xaxis": "x",
         "y": [
          8499.831369317559,
          9434.17932087423,
          10178.012158935362,
          10933.937689111932,
          12086.522447254336,
          12651.171564925799,
          13835.59548262129,
          15181.989652037948,
          16919.311215579004,
          18778.20642681669,
          18595.666392832583,
          19195.435099385493,
          20511.90992344308,
          21845.35170633412,
          21287.329827919442,
          21674.085789952853,
          22284.656500117613,
          23030.252084255233,
          24024.501566814175,
          25127.772501675667,
          25627.447486745885,
          26500.160344624073,
          27178.363104901215,
          27943.589691084464,
          29018.238673088483,
          30362.997139846,
          31212.719209465915,
          32539.48522092197,
          34603.34134813861,
          36145.750687797496,
          37778.442648904704,
          38936.6089060381,
          39141.18317078273,
          38821.99506123024,
          39099.90340091993,
          40072.891227626875,
          41224.132228643204,
          41585.95866760034,
          41044.244580295715,
          40873.62928711088,
          41944.53968596962,
          42052.321000072814,
          42043.01351140422,
          42630.52392897241,
          43520.7755229609,
          44202.319280505275,
          44796.13428100823,
          45511.98293744315,
          44998.531949376535,
          42555.92852157497,
          44344.2463532885,
          44307.88554880007,
          44996.5909374838,
          45935.9891829844,
          46160.283264668054,
          46852.47347323827,
          47374.214798604844,
          48283.79505249767
         ],
         "yaxis": "y"
        },
        {
         "hovertemplate": "Entity=Russia<br>Year=%{x}<br>GDPperCapita=%{y}<extra></extra>",
         "legendgroup": "Russia",
         "line": {
          "color": "#FECB52",
          "dash": "solid"
         },
         "marker": {
          "symbol": "circle"
         },
         "mode": "lines",
         "name": "Russia",
         "orientation": "v",
         "showlegend": true,
         "type": "scatter",
         "x": [
          1989,
          1990,
          1991,
          1992,
          1993,
          1994,
          1995,
          1996,
          1997,
          1998,
          1999,
          2000,
          2001,
          2002,
          2003,
          2004,
          2005,
          2006,
          2007,
          2008,
          2009,
          2010,
          2011,
          2012,
          2013,
          2014,
          2015,
          2016,
          2017
         ],
         "xaxis": "x",
         "y": [
          9924.950281358331,
          9583.611858426104,
          9071.40248063576,
          7738.955091634533,
          7063.098375457964,
          6176.325146448491,
          5925.279582131578,
          5719.919451114785,
          5811.422902775949,
          5517.1986467809065,
          5888.0798350974765,
          6499.494571551017,
          6857.332132102865,
          7213.040635701024,
          7771.671542064558,
          8360.003117612627,
          8918.368461352804,
          9663.614410138245,
          10498.441918668212,
          11050.70717051482,
          10180.899365530813,
          10628.147861733683,
          11172.390916715189,
          11557.439247611012,
          11736.801694552943,
          11795.701555596326,
          11436.79244304569,
          11388.28964683065,
          11544.047959580705
         ],
         "yaxis": "y"
        },
        {
         "hovertemplate": "Entity=Spain<br>Year=%{x}<br>GDPperCapita=%{y}<extra></extra>",
         "legendgroup": "Spain",
         "line": {
          "color": "#636efa",
          "dash": "solid"
         },
         "marker": {
          "symbol": "circle"
         },
         "mode": "lines",
         "name": "Spain",
         "orientation": "v",
         "showlegend": true,
         "type": "scatter",
         "x": [
          1960,
          1961,
          1962,
          1963,
          1964,
          1965,
          1966,
          1967,
          1968,
          1969,
          1970,
          1971,
          1972,
          1973,
          1974,
          1975,
          1976,
          1977,
          1978,
          1979,
          1980,
          1981,
          1982,
          1983,
          1984,
          1985,
          1986,
          1987,
          1988,
          1989,
          1990,
          1991,
          1992,
          1993,
          1994,
          1995,
          1996,
          1997,
          1998,
          1999,
          2000,
          2001,
          2002,
          2003,
          2004,
          2005,
          2006,
          2007,
          2008,
          2009,
          2010,
          2011,
          2012,
          2013,
          2014,
          2015,
          2016,
          2017
         ],
         "xaxis": "x",
         "y": [
          7372.798468058645,
          8157.629321028995,
          8870.01193038272,
          9610.504564550694,
          10006.394967004811,
          10515.024837766254,
          11156.864176184972,
          11521.259240379257,
          12155.799205260335,
          13100.674500221641,
          13515.197916488229,
          13985.501559153092,
          14952.057476205342,
          15930.468201670394,
          16632.535007983734,
          16534.884310460635,
          16893.762612331062,
          17188.517511252656,
          17264.36205221083,
          17111.2324810184,
          17344.891349661866,
          17196.922590615904,
          17302.825407111988,
          17516.047151772447,
          17748.259276705572,
          18091.353396982522,
          18621.272137125387,
          19604.77109435624,
          20558.641488794514,
          21506.940613433013,
          22272.377314664696,
          22783.639768580095,
          22929.99962012933,
          22622.873565388476,
          23088.434983197752,
          23649.36675191369,
          24207.707356759754,
          25021.87967321169,
          25990.899279472414,
          26987.366365381917,
          28156.53400647054,
          28932.996066764925,
          29339.477056857108,
          29794.233415192743,
          30232.40109631315,
          30851.456616284104,
          31629.076436877865,
          32315.443627520308,
          32222.678659041223,
          30727.619721856,
          30504.714360237158,
          30101.90857213448,
          29233.638326730765,
          28815.819897940593,
          29309.027932865236,
          30383.83848077884,
          31404.315113689798,
          32353.667637547966
         ],
         "yaxis": "y"
        },
        {
         "hovertemplate": "Entity=United Kingdom<br>Year=%{x}<br>GDPperCapita=%{y}<extra></extra>",
         "legendgroup": "United Kingdom",
         "line": {
          "color": "#EF553B",
          "dash": "solid"
         },
         "marker": {
          "symbol": "circle"
         },
         "mode": "lines",
         "name": "United Kingdom",
         "orientation": "v",
         "showlegend": true,
         "type": "scatter",
         "x": [
          1960,
          1961,
          1962,
          1963,
          1964,
          1965,
          1966,
          1967,
          1968,
          1969,
          1970,
          1971,
          1972,
          1973,
          1974,
          1975,
          1976,
          1977,
          1978,
          1979,
          1980,
          1981,
          1982,
          1983,
          1984,
          1985,
          1986,
          1987,
          1988,
          1989,
          1990,
          1991,
          1992,
          1993,
          1994,
          1995,
          1996,
          1997,
          1998,
          1999,
          2000,
          2001,
          2002,
          2003,
          2004,
          2005,
          2006,
          2007,
          2008,
          2009,
          2010,
          2011,
          2012,
          2013,
          2014,
          2015,
          2016,
          2017
         ],
         "xaxis": "x",
         "y": [
          13835.1064723049,
          14095.07998419684,
          14179.801806117872,
          14632.783705186463,
          15261.05989491385,
          15583.152464321747,
          15806.913978950191,
          16084.369886360562,
          16644.595434473744,
          16914.121619905396,
          17963.31637208659,
          18530.538108792443,
          19278.261776051313,
          20491.235104358282,
          19955.808798046066,
          19639.642120824905,
          20198.217891549266,
          20685.78884235179,
          21554.207543226705,
          22361.046050232544,
          21906.056777144764,
          21732.523630934706,
          22161.585276290254,
          23082.45400400359,
          23584.396725242223,
          24538.555470560852,
          25256.409366164215,
          26533.283418490242,
          27981.767485006952,
          28619.628291270055,
          28748.33297658942,
          28358.044099540242,
          28387.29507841834,
          29025.798422642096,
          30067.969349070856,
          30720.68734795985,
          31401.92670121554,
          32561.87461431715,
          33467.08580292924,
          34422.436449116765,
          35558.35988719396,
          36339.050076273765,
          37105.44690394784,
          38188.27042696462,
          38887.50953055601,
          39815.52653888999,
          40435.90605016656,
          40961.87451894622,
          40315.659899481696,
          38206.81310829076,
          38467.907260157896,
          38684.11584475664,
          38951.12886002929,
          39469.78815062138,
          40402.35607252434,
          41075.800659146524,
          41594.320481362636,
          42065.47719657815
         ],
         "yaxis": "y"
        },
        {
         "hovertemplate": "Entity=United States<br>Year=%{x}<br>GDPperCapita=%{y}<extra></extra>",
         "legendgroup": "United States",
         "line": {
          "color": "#00cc96",
          "dash": "solid"
         },
         "marker": {
          "symbol": "circle"
         },
         "mode": "lines",
         "name": "United States",
         "orientation": "v",
         "showlegend": true,
         "type": "scatter",
         "x": [
          1960,
          1961,
          1962,
          1963,
          1964,
          1965,
          1966,
          1967,
          1968,
          1969,
          1970,
          1971,
          1972,
          1973,
          1974,
          1975,
          1976,
          1977,
          1978,
          1979,
          1980,
          1981,
          1982,
          1983,
          1984,
          1985,
          1986,
          1987,
          1988,
          1989,
          1990,
          1991,
          1992,
          1993,
          1994,
          1995,
          1996,
          1997,
          1998,
          1999,
          2000,
          2001,
          2002,
          2003,
          2004,
          2005,
          2006,
          2007,
          2008,
          2009,
          2010,
          2011,
          2012,
          2013,
          2014,
          2015,
          2016,
          2017
         ],
         "xaxis": "x",
         "y": [
          16484.868934686627,
          16610.575066337395,
          17372.357628464073,
          17893.15904365984,
          18693.519699623266,
          19658.27730092258,
          20711.87181380483,
          21020.501418194508,
          21826.001486067216,
          22301.809540372262,
          22813.30789357445,
          23356.5349368921,
          24368.431913067943,
          25515.18316740265,
          25156.889667894353,
          24881.853838784882,
          25984.207940801316,
          26931.991015793057,
          28166.420822334458,
          28790.409531038335,
          28452.534782722378,
          28918.524557927092,
          28100.73026832377,
          29127.43187772741,
          30949.79970787174,
          31960.793963409564,
          32774.7367840326,
          33592.43793562822,
          34676.5007640315,
          35613.874916108056,
          35952.775525543395,
          35584.71649697008,
          36498.30230013339,
          37133.3384546029,
          38233.56870729043,
          38840.2068844187,
          39838.12414293703,
          41108.02353367282,
          42397.24855172894,
          43846.194079296925,
          45128.01364652389,
          45104.61881640713,
          45483.38937768819,
          46350.67835971789,
          47687.616160486636,
          48841.99211465953,
          49678.778456301145,
          50083.149167021504,
          49463.53291414917,
          47647.603660041525,
          48426.663169229236,
          48795.893353317246,
          49490.39536593598,
          49945.65662202475,
          50863.61773450823,
          51959.59550497844,
          52382.32143856651,
          53232.18452176347
         ],
         "yaxis": "y"
        }
       ],
       "layout": {
        "legend": {
         "title": {
          "text": "Entity"
         },
         "tracegroupgap": 0
        },
        "margin": {
         "t": 60
        },
        "template": {
         "data": {
          "bar": [
           {
            "error_x": {
             "color": "#2a3f5f"
            },
            "error_y": {
             "color": "#2a3f5f"
            },
            "marker": {
             "line": {
              "color": "#E5ECF6",
              "width": 0.5
             },
             "pattern": {
              "fillmode": "overlay",
              "size": 10,
              "solidity": 0.2
             }
            },
            "type": "bar"
           }
          ],
          "barpolar": [
           {
            "marker": {
             "line": {
              "color": "#E5ECF6",
              "width": 0.5
             },
             "pattern": {
              "fillmode": "overlay",
              "size": 10,
              "solidity": 0.2
             }
            },
            "type": "barpolar"
           }
          ],
          "carpet": [
           {
            "aaxis": {
             "endlinecolor": "#2a3f5f",
             "gridcolor": "white",
             "linecolor": "white",
             "minorgridcolor": "white",
             "startlinecolor": "#2a3f5f"
            },
            "baxis": {
             "endlinecolor": "#2a3f5f",
             "gridcolor": "white",
             "linecolor": "white",
             "minorgridcolor": "white",
             "startlinecolor": "#2a3f5f"
            },
            "type": "carpet"
           }
          ],
          "choropleth": [
           {
            "colorbar": {
             "outlinewidth": 0,
             "ticks": ""
            },
            "type": "choropleth"
           }
          ],
          "contour": [
           {
            "colorbar": {
             "outlinewidth": 0,
             "ticks": ""
            },
            "colorscale": [
             [
              0,
              "#0d0887"
             ],
             [
              0.1111111111111111,
              "#46039f"
             ],
             [
              0.2222222222222222,
              "#7201a8"
             ],
             [
              0.3333333333333333,
              "#9c179e"
             ],
             [
              0.4444444444444444,
              "#bd3786"
             ],
             [
              0.5555555555555556,
              "#d8576b"
             ],
             [
              0.6666666666666666,
              "#ed7953"
             ],
             [
              0.7777777777777778,
              "#fb9f3a"
             ],
             [
              0.8888888888888888,
              "#fdca26"
             ],
             [
              1,
              "#f0f921"
             ]
            ],
            "type": "contour"
           }
          ],
          "contourcarpet": [
           {
            "colorbar": {
             "outlinewidth": 0,
             "ticks": ""
            },
            "type": "contourcarpet"
           }
          ],
          "heatmap": [
           {
            "colorbar": {
             "outlinewidth": 0,
             "ticks": ""
            },
            "colorscale": [
             [
              0,
              "#0d0887"
             ],
             [
              0.1111111111111111,
              "#46039f"
             ],
             [
              0.2222222222222222,
              "#7201a8"
             ],
             [
              0.3333333333333333,
              "#9c179e"
             ],
             [
              0.4444444444444444,
              "#bd3786"
             ],
             [
              0.5555555555555556,
              "#d8576b"
             ],
             [
              0.6666666666666666,
              "#ed7953"
             ],
             [
              0.7777777777777778,
              "#fb9f3a"
             ],
             [
              0.8888888888888888,
              "#fdca26"
             ],
             [
              1,
              "#f0f921"
             ]
            ],
            "type": "heatmap"
           }
          ],
          "heatmapgl": [
           {
            "colorbar": {
             "outlinewidth": 0,
             "ticks": ""
            },
            "colorscale": [
             [
              0,
              "#0d0887"
             ],
             [
              0.1111111111111111,
              "#46039f"
             ],
             [
              0.2222222222222222,
              "#7201a8"
             ],
             [
              0.3333333333333333,
              "#9c179e"
             ],
             [
              0.4444444444444444,
              "#bd3786"
             ],
             [
              0.5555555555555556,
              "#d8576b"
             ],
             [
              0.6666666666666666,
              "#ed7953"
             ],
             [
              0.7777777777777778,
              "#fb9f3a"
             ],
             [
              0.8888888888888888,
              "#fdca26"
             ],
             [
              1,
              "#f0f921"
             ]
            ],
            "type": "heatmapgl"
           }
          ],
          "histogram": [
           {
            "marker": {
             "pattern": {
              "fillmode": "overlay",
              "size": 10,
              "solidity": 0.2
             }
            },
            "type": "histogram"
           }
          ],
          "histogram2d": [
           {
            "colorbar": {
             "outlinewidth": 0,
             "ticks": ""
            },
            "colorscale": [
             [
              0,
              "#0d0887"
             ],
             [
              0.1111111111111111,
              "#46039f"
             ],
             [
              0.2222222222222222,
              "#7201a8"
             ],
             [
              0.3333333333333333,
              "#9c179e"
             ],
             [
              0.4444444444444444,
              "#bd3786"
             ],
             [
              0.5555555555555556,
              "#d8576b"
             ],
             [
              0.6666666666666666,
              "#ed7953"
             ],
             [
              0.7777777777777778,
              "#fb9f3a"
             ],
             [
              0.8888888888888888,
              "#fdca26"
             ],
             [
              1,
              "#f0f921"
             ]
            ],
            "type": "histogram2d"
           }
          ],
          "histogram2dcontour": [
           {
            "colorbar": {
             "outlinewidth": 0,
             "ticks": ""
            },
            "colorscale": [
             [
              0,
              "#0d0887"
             ],
             [
              0.1111111111111111,
              "#46039f"
             ],
             [
              0.2222222222222222,
              "#7201a8"
             ],
             [
              0.3333333333333333,
              "#9c179e"
             ],
             [
              0.4444444444444444,
              "#bd3786"
             ],
             [
              0.5555555555555556,
              "#d8576b"
             ],
             [
              0.6666666666666666,
              "#ed7953"
             ],
             [
              0.7777777777777778,
              "#fb9f3a"
             ],
             [
              0.8888888888888888,
              "#fdca26"
             ],
             [
              1,
              "#f0f921"
             ]
            ],
            "type": "histogram2dcontour"
           }
          ],
          "mesh3d": [
           {
            "colorbar": {
             "outlinewidth": 0,
             "ticks": ""
            },
            "type": "mesh3d"
           }
          ],
          "parcoords": [
           {
            "line": {
             "colorbar": {
              "outlinewidth": 0,
              "ticks": ""
             }
            },
            "type": "parcoords"
           }
          ],
          "pie": [
           {
            "automargin": true,
            "type": "pie"
           }
          ],
          "scatter": [
           {
            "fillpattern": {
             "fillmode": "overlay",
             "size": 10,
             "solidity": 0.2
            },
            "type": "scatter"
           }
          ],
          "scatter3d": [
           {
            "line": {
             "colorbar": {
              "outlinewidth": 0,
              "ticks": ""
             }
            },
            "marker": {
             "colorbar": {
              "outlinewidth": 0,
              "ticks": ""
             }
            },
            "type": "scatter3d"
           }
          ],
          "scattercarpet": [
           {
            "marker": {
             "colorbar": {
              "outlinewidth": 0,
              "ticks": ""
             }
            },
            "type": "scattercarpet"
           }
          ],
          "scattergeo": [
           {
            "marker": {
             "colorbar": {
              "outlinewidth": 0,
              "ticks": ""
             }
            },
            "type": "scattergeo"
           }
          ],
          "scattergl": [
           {
            "marker": {
             "colorbar": {
              "outlinewidth": 0,
              "ticks": ""
             }
            },
            "type": "scattergl"
           }
          ],
          "scattermapbox": [
           {
            "marker": {
             "colorbar": {
              "outlinewidth": 0,
              "ticks": ""
             }
            },
            "type": "scattermapbox"
           }
          ],
          "scatterpolar": [
           {
            "marker": {
             "colorbar": {
              "outlinewidth": 0,
              "ticks": ""
             }
            },
            "type": "scatterpolar"
           }
          ],
          "scatterpolargl": [
           {
            "marker": {
             "colorbar": {
              "outlinewidth": 0,
              "ticks": ""
             }
            },
            "type": "scatterpolargl"
           }
          ],
          "scatterternary": [
           {
            "marker": {
             "colorbar": {
              "outlinewidth": 0,
              "ticks": ""
             }
            },
            "type": "scatterternary"
           }
          ],
          "surface": [
           {
            "colorbar": {
             "outlinewidth": 0,
             "ticks": ""
            },
            "colorscale": [
             [
              0,
              "#0d0887"
             ],
             [
              0.1111111111111111,
              "#46039f"
             ],
             [
              0.2222222222222222,
              "#7201a8"
             ],
             [
              0.3333333333333333,
              "#9c179e"
             ],
             [
              0.4444444444444444,
              "#bd3786"
             ],
             [
              0.5555555555555556,
              "#d8576b"
             ],
             [
              0.6666666666666666,
              "#ed7953"
             ],
             [
              0.7777777777777778,
              "#fb9f3a"
             ],
             [
              0.8888888888888888,
              "#fdca26"
             ],
             [
              1,
              "#f0f921"
             ]
            ],
            "type": "surface"
           }
          ],
          "table": [
           {
            "cells": {
             "fill": {
              "color": "#EBF0F8"
             },
             "line": {
              "color": "white"
             }
            },
            "header": {
             "fill": {
              "color": "#C8D4E3"
             },
             "line": {
              "color": "white"
             }
            },
            "type": "table"
           }
          ]
         },
         "layout": {
          "annotationdefaults": {
           "arrowcolor": "#2a3f5f",
           "arrowhead": 0,
           "arrowwidth": 1
          },
          "autotypenumbers": "strict",
          "coloraxis": {
           "colorbar": {
            "outlinewidth": 0,
            "ticks": ""
           }
          },
          "colorscale": {
           "diverging": [
            [
             0,
             "#8e0152"
            ],
            [
             0.1,
             "#c51b7d"
            ],
            [
             0.2,
             "#de77ae"
            ],
            [
             0.3,
             "#f1b6da"
            ],
            [
             0.4,
             "#fde0ef"
            ],
            [
             0.5,
             "#f7f7f7"
            ],
            [
             0.6,
             "#e6f5d0"
            ],
            [
             0.7,
             "#b8e186"
            ],
            [
             0.8,
             "#7fbc41"
            ],
            [
             0.9,
             "#4d9221"
            ],
            [
             1,
             "#276419"
            ]
           ],
           "sequential": [
            [
             0,
             "#0d0887"
            ],
            [
             0.1111111111111111,
             "#46039f"
            ],
            [
             0.2222222222222222,
             "#7201a8"
            ],
            [
             0.3333333333333333,
             "#9c179e"
            ],
            [
             0.4444444444444444,
             "#bd3786"
            ],
            [
             0.5555555555555556,
             "#d8576b"
            ],
            [
             0.6666666666666666,
             "#ed7953"
            ],
            [
             0.7777777777777778,
             "#fb9f3a"
            ],
            [
             0.8888888888888888,
             "#fdca26"
            ],
            [
             1,
             "#f0f921"
            ]
           ],
           "sequentialminus": [
            [
             0,
             "#0d0887"
            ],
            [
             0.1111111111111111,
             "#46039f"
            ],
            [
             0.2222222222222222,
             "#7201a8"
            ],
            [
             0.3333333333333333,
             "#9c179e"
            ],
            [
             0.4444444444444444,
             "#bd3786"
            ],
            [
             0.5555555555555556,
             "#d8576b"
            ],
            [
             0.6666666666666666,
             "#ed7953"
            ],
            [
             0.7777777777777778,
             "#fb9f3a"
            ],
            [
             0.8888888888888888,
             "#fdca26"
            ],
            [
             1,
             "#f0f921"
            ]
           ]
          },
          "colorway": [
           "#636efa",
           "#EF553B",
           "#00cc96",
           "#ab63fa",
           "#FFA15A",
           "#19d3f3",
           "#FF6692",
           "#B6E880",
           "#FF97FF",
           "#FECB52"
          ],
          "font": {
           "color": "#2a3f5f"
          },
          "geo": {
           "bgcolor": "white",
           "lakecolor": "white",
           "landcolor": "#E5ECF6",
           "showlakes": true,
           "showland": true,
           "subunitcolor": "white"
          },
          "hoverlabel": {
           "align": "left"
          },
          "hovermode": "closest",
          "mapbox": {
           "style": "light"
          },
          "paper_bgcolor": "white",
          "plot_bgcolor": "#E5ECF6",
          "polar": {
           "angularaxis": {
            "gridcolor": "white",
            "linecolor": "white",
            "ticks": ""
           },
           "bgcolor": "#E5ECF6",
           "radialaxis": {
            "gridcolor": "white",
            "linecolor": "white",
            "ticks": ""
           }
          },
          "scene": {
           "xaxis": {
            "backgroundcolor": "#E5ECF6",
            "gridcolor": "white",
            "gridwidth": 2,
            "linecolor": "white",
            "showbackground": true,
            "ticks": "",
            "zerolinecolor": "white"
           },
           "yaxis": {
            "backgroundcolor": "#E5ECF6",
            "gridcolor": "white",
            "gridwidth": 2,
            "linecolor": "white",
            "showbackground": true,
            "ticks": "",
            "zerolinecolor": "white"
           },
           "zaxis": {
            "backgroundcolor": "#E5ECF6",
            "gridcolor": "white",
            "gridwidth": 2,
            "linecolor": "white",
            "showbackground": true,
            "ticks": "",
            "zerolinecolor": "white"
           }
          },
          "shapedefaults": {
           "line": {
            "color": "#2a3f5f"
           }
          },
          "ternary": {
           "aaxis": {
            "gridcolor": "white",
            "linecolor": "white",
            "ticks": ""
           },
           "baxis": {
            "gridcolor": "white",
            "linecolor": "white",
            "ticks": ""
           },
           "bgcolor": "#E5ECF6",
           "caxis": {
            "gridcolor": "white",
            "linecolor": "white",
            "ticks": ""
           }
          },
          "title": {
           "x": 0.05
          },
          "xaxis": {
           "automargin": true,
           "gridcolor": "white",
           "linecolor": "white",
           "ticks": "",
           "title": {
            "standoff": 15
           },
           "zerolinecolor": "white",
           "zerolinewidth": 2
          },
          "yaxis": {
           "automargin": true,
           "gridcolor": "white",
           "linecolor": "white",
           "ticks": "",
           "title": {
            "standoff": 15
           },
           "zerolinecolor": "white",
           "zerolinewidth": 2
          }
         }
        },
        "xaxis": {
         "anchor": "y",
         "domain": [
          0,
          1
         ],
         "title": {
          "text": "Year"
         }
        },
        "yaxis": {
         "anchor": "x",
         "domain": [
          0,
          1
         ],
         "title": {
          "text": "GDPperCapita"
         }
        }
       }
      },
      "text/html": [
       "<div>                            <div id=\"08439809-0535-4532-9a7d-118dc80669eb\" class=\"plotly-graph-div\" style=\"height:525px; width:100%;\"></div>            <script type=\"text/javascript\">                require([\"plotly\"], function(Plotly) {                    window.PLOTLYENV=window.PLOTLYENV || {};                                    if (document.getElementById(\"08439809-0535-4532-9a7d-118dc80669eb\")) {                    Plotly.newPlot(                        \"08439809-0535-4532-9a7d-118dc80669eb\",                        [{\"hovertemplate\":\"Entity=Brazil\\u003cbr\\u003eYear=%{x}\\u003cbr\\u003eGDPperCapita=%{y}\\u003cextra\\u003e\\u003c\\u002fextra\\u003e\",\"legendgroup\":\"Brazil\",\"line\":{\"color\":\"#636efa\",\"dash\":\"solid\"},\"marker\":{\"symbol\":\"circle\"},\"mode\":\"lines\",\"name\":\"Brazil\",\"orientation\":\"v\",\"showlegend\":true,\"x\":[1960,1961,1962,1963,1964,1965,1966,1967,1968,1969,1970,1971,1972,1973,1974,1975,1976,1977,1978,1979,1980,1981,1982,1983,1984,1985,1986,1987,1988,1989,1990,1991,1992,1993,1994,1995,1996,1997,1998,1999,2000,2001,2002,2003,2004,2005,2006,2007,2008,2009,2010,2011,2012,2013,2014,2015,2016,2017],\"xaxis\":\"x\",\"y\":[3426.7850685541353,3670.500415065266,3750.762013702525,3675.0662142408314,3695.634514582125,3703.006367102106,3752.150539780424,3831.989021339668,4158.820004670418,4447.589192055365,4717.300860783574,5122.483433428351,5603.3139681874145,6236.691994516316,6641.689321399184,6824.074053268402,7316.459929967985,7474.166340086671,7535.01673654011,7856.699583290497,8372.508608826289,7818.371545797437,7681.7184306656545,7250.641596987771,7463.468889124653,7884.3862455506605,8339.441238782338,8468.973549588409,8299.116603779348,8413.128001986906,8005.770116587177,7985.0672843653065,7813.258727235754,8042.724397865879,8334.4620572794,8563.617013655907,8614.684034853917,8768.974551749525,8665.150732949236,8577.774045482318,8804.283424034154,8804.832566419389,8955.370450327286,8944.314123752416,9346.951200245372,9535.805423081158,9805.69262914267,10292.578250252143,10709.536643605166,10593.622084412587,11286.221967783704,11628.996382163677,11748.397035269103,11996.773043792007,11954.98311089735,11434.291299511717,10947.196823215685,10965.175921972874],\"yaxis\":\"y\",\"type\":\"scatter\"},{\"hovertemplate\":\"Entity=Canada\\u003cbr\\u003eYear=%{x}\\u003cbr\\u003eGDPperCapita=%{y}\\u003cextra\\u003e\\u003c\\u002fextra\\u003e\",\"legendgroup\":\"Canada\",\"line\":{\"color\":\"#EF553B\",\"dash\":\"solid\"},\"marker\":{\"symbol\":\"circle\"},\"mode\":\"lines\",\"name\":\"Canada\",\"orientation\":\"v\",\"showlegend\":true,\"x\":[1960,1961,1962,1963,1964,1965,1966,1967,1968,1969,1970,1971,1972,1973,1974,1975,1976,1977,1978,1979,1980,1981,1982,1983,1984,1985,1986,1987,1988,1989,1990,1991,1992,1993,1994,1995,1996,1997,1998,1999,2000,2001,2002,2003,2004,2005,2006,2007,2008,2009,2010,2011,2012,2013,2014,2015,2016,2017],\"xaxis\":\"x\",\"y\":[17725.578679958533,17898.18061947055,18797.731928130343,19410.650219693714,20344.82357444721,21314.790469442938,22322.587619579044,22578.885408864502,23372.043958565464,24191.877645641427,24571.600668457704,25172.35457467776,26123.506462028545,27515.21266076868,28115.615360756925,28239.560449759272,29331.305301008437,29987.418275739397,30823.47251507129,31653.2895726395,31998.78304001921,32782.7411568374,31415.915849184254,31907.02602899555,33433.685282198865,34608.42561109427,34907.791165736235,35847.00406897552,36913.91387985063,37253.41004142058,36820.4931277735,35588.12169500592,35476.219324857215,36004.875357057936,37214.72341974568,37814.2288688088,38039.95643654321,39289.21401526393,40433.672103907804,42127.047016183875,43897.504942745516,44252.40680687791,45148.7146750959,45509.91697189913,46432.14181008958,47398.664471967735,48084.49990581246,48489.19208160882,48376.367037355274,46381.82956806614,47249.16313725928,48181.67502942036,48485.02652412405,49157.171477374,50040.67496740579,50032.27823005274,50243.30791935217,51282.4760892625],\"yaxis\":\"y\",\"type\":\"scatter\"},{\"hovertemplate\":\"Entity=China\\u003cbr\\u003eYear=%{x}\\u003cbr\\u003eGDPperCapita=%{y}\\u003cextra\\u003e\\u003c\\u002fextra\\u003e\",\"legendgroup\":\"China\",\"line\":{\"color\":\"#00cc96\",\"dash\":\"solid\"},\"marker\":{\"symbol\":\"circle\"},\"mode\":\"lines\",\"name\":\"China\",\"orientation\":\"v\",\"showlegend\":true,\"x\":[1960,1961,1962,1963,1964,1965,1966,1967,1968,1969,1970,1971,1972,1973,1974,1975,1976,1977,1978,1979,1980,1981,1982,1983,1984,1985,1986,1987,1988,1989,1990,1991,1992,1993,1994,1995,1996,1997,1998,1999,2000,2001,2002,2003,2004,2005,2006,2007,2008,2009,2010,2011,2012,2013,2014,2015,2016,2017],\"xaxis\":\"x\",\"y\":[193.72591244004917,138.68245260326154,128.80350463105032,139.56662358253936,161.69905727370704,184.93854193118608,199.61907687831444,183.12683182549085,170.8043605978409,194.3086636939669,225.75588425820385,235.66898598189934,238.8162786783163,251.56225917344878,251.99647957314542,268.71235003756107,259.87980461866204,275.11495363707917,302.68849263453484,321.0931131591,341.3289192641814,354.05130843185265,380.4583965889749,415.82365950745594,471.65378776348626,526.3958736107277,563.2813310238797,617.2399363927842,673.5313351550019,689.2251659486328,704.8799971216414,760.0505901078784,858.162905734682,967.4634976922672,1083.776669167,1191.8788724898482,1298.996571477866,1407.2557841339633,1505.637255496303,1609.0227261440468,1733.43051475517,1865.5955143301735,2023.1322087693893,2212.7070990616044,2422.1100568239885,2682.534889844096,3006.495080489352,3415.0075494030666,3723.745612443898,4051.025105161356,4456.875677659329,4854.6401461559935,5206.876725753055,5579.860312428018,5954.670320941843,6332.098974797491,6721.942994428402,7150.496686254078],\"yaxis\":\"y\",\"type\":\"scatter\"},{\"hovertemplate\":\"Entity=France\\u003cbr\\u003eYear=%{x}\\u003cbr\\u003eGDPperCapita=%{y}\\u003cextra\\u003e\\u003c\\u002fextra\\u003e\",\"legendgroup\":\"France\",\"line\":{\"color\":\"#ab63fa\",\"dash\":\"solid\"},\"marker\":{\"symbol\":\"circle\"},\"mode\":\"lines\",\"name\":\"France\",\"orientation\":\"v\",\"showlegend\":true,\"x\":[1960,1961,1962,1963,1964,1965,1966,1967,1968,1969,1970,1971,1972,1973,1974,1975,1976,1977,1978,1979,1980,1981,1982,1983,1984,1985,1986,1987,1988,1989,1990,1991,1992,1993,1994,1995,1996,1997,1998,1999,2000,2001,2002,2003,2004,2005,2006,2007,2008,2009,2010,2011,2012,2013,2014,2015,2016,2017],\"xaxis\":\"x\",\"y\":[13315.882157454009,13868.721312603862,14592.21609076882,15161.103825492464,15940.551100214678,16509.295414876382,17198.623805642088,17853.343428996595,18474.560675549266,19624.023553518866,20560.93701793062,21491.147122421084,22288.57274647742,23509.551189543286,24341.882195951446,23951.414382569605,24852.665255397118,25594.455177725387,26506.204191928195,27340.071859791748,27655.1805149716,27822.559461859353,28378.919701106985,28586.181691589572,28868.846921941054,29183.48438009375,29713.709556618775,30319.591636529603,31591.962912097777,32804.74753516666,33603.99270274569,33805.820841595036,34206.56470666964,33864.84922404271,34528.507658965216,35117.34626784523,35475.88926972989,36174.752196318856,37318.26154815841,38418.81780806555,39697.30235475489,40221.674096846116,40386.57767447469,40414.12980623962,41235.007281791,41608.66589059473,42327.4553031054,43074.90877013868,42923.14840670659,41438.15086784132,42026.2332845159,42667.98673934833,42515.94776209348,42540.09042190863,42742.50667460588,43025.17523296557,43391.42035061947,44061.64739521614],\"yaxis\":\"y\",\"type\":\"scatter\"},{\"hovertemplate\":\"Entity=Germany\\u003cbr\\u003eYear=%{x}\\u003cbr\\u003eGDPperCapita=%{y}\\u003cextra\\u003e\\u003c\\u002fextra\\u003e\",\"legendgroup\":\"Germany\",\"line\":{\"color\":\"#FFA15A\",\"dash\":\"solid\"},\"marker\":{\"symbol\":\"circle\"},\"mode\":\"lines\",\"name\":\"Germany\",\"orientation\":\"v\",\"showlegend\":true,\"x\":[1970,1971,1972,1973,1974,1975,1976,1977,1978,1979,1980,1981,1982,1983,1984,1985,1986,1987,1988,1989,1990,1991,1992,1993,1994,1995,1996,1997,1998,1999,2000,2001,2002,2003,2004,2005,2006,2007,2008,2009,2010,2011,2012,2013,2014,2015,2016,2017],\"xaxis\":\"x\",\"y\":[19522.674736774414,20080.08632734484,20913.869502092974,21904.698309091622,22105.826529893802,21929.23343208938,23036.185461335583,23835.999687558044,24588.414712477283,25653.325381833678,26066.245847703078,26262.909168327828,26220.308627438084,26686.022148882475,27470.4385806264,28106.31447093755,28707.078408503327,29031.23924632255,29995.228900553837,31024.550958026317,32492.143133879123,33964.17731877357,34413.24429986431,33886.715344794786,34545.91161960919,35013.64835761644,35219.72185041931,35837.95409629799,36545.61295701473,37277.77683841135,38376.77481265365,39002.047931911016,38963.301799790024,38649.25130589041,39086.110853687256,39383.07949672598,40905.98401414437,42340.55881470325,42910.742663713885,40582.74979532707,42276.647192756755,43808.254538186404,43960.176889365095,44066.013635274474,44764.14853709552,45356.81541699036,46009.42343522325,46768.11780316001],\"yaxis\":\"y\",\"type\":\"scatter\"},{\"hovertemplate\":\"Entity=India\\u003cbr\\u003eYear=%{x}\\u003cbr\\u003eGDPperCapita=%{y}\\u003cextra\\u003e\\u003c\\u002fextra\\u003e\",\"legendgroup\":\"India\",\"line\":{\"color\":\"#19d3f3\",\"dash\":\"solid\"},\"marker\":{\"symbol\":\"circle\"},\"mode\":\"lines\",\"name\":\"India\",\"orientation\":\"v\",\"showlegend\":true,\"x\":[1960,1961,1962,1963,1964,1965,1966,1967,1968,1969,1970,1971,1972,1973,1974,1975,1976,1977,1978,1979,1980,1981,1982,1983,1984,1985,1986,1987,1988,1989,1990,1991,1992,1993,1994,1995,1996,1997,1998,1999,2000,2001,2002,2003,2004,2005,2006,2007,2008,2009,2010,2011,2012,2013,2014,2015,2016,2017],\"xaxis\":\"x\",\"y\":[303.5111375959387,308.58158082129415,311.2377661639371,323.17774076955897,340.14465530016287,324.361527659885,317.4971864661756,335.26004635459265,339.37125770721957,353.8622138314205,363.9977614687113,361.7179966614814,351.53353921078764,354.7646643466695,350.6954966238948,373.99908788994935,371.5565994941163,389.4846685385686,402.4255173787677,372.69421643887915,388.7159772995302,402.5981890918714,407.002739011795,426.6526504087595,432.9006533041787,445.464864374309,456.4910096539795,464.34021672891004,498.23425677842414,516.8400505892723,534.2321485707743,528.9778188028095,546.9122757961491,561.7155929231328,587.5898472524461,620.082699454377,654.3763113318446,668.2686811544697,696.6620247811787,744.7190287417634,759.7700106437389,782.7714673618364,798.9348484995256,847.6195849696252,900.1184309051717,968.2750424785778,1041.7487018388704,1126.720722891297,1153.5378169545963,1233.8283032735924,1342.171780017339,1412.9459302269238,1471.8050128868447,1547.3831238002813,1643.1142606548526,1757.3638053406808,1861.9444357196362,1964.284310117216],\"yaxis\":\"y\",\"type\":\"scatter\"},{\"hovertemplate\":\"Entity=Indonesia\\u003cbr\\u003eYear=%{x}\\u003cbr\\u003eGDPperCapita=%{y}\\u003cextra\\u003e\\u003c\\u002fextra\\u003e\",\"legendgroup\":\"Indonesia\",\"line\":{\"color\":\"#FF6692\",\"dash\":\"solid\"},\"marker\":{\"symbol\":\"circle\"},\"mode\":\"lines\",\"name\":\"Indonesia\",\"orientation\":\"v\",\"showlegend\":true,\"x\":[1960,1961,1962,1963,1964,1965,1966,1967,1968,1969,1970,1971,1972,1973,1974,1975,1976,1977,1978,1979,1980,1981,1982,1983,1984,1985,1986,1987,1988,1989,1990,1991,1992,1993,1994,1995,1996,1997,1998,1999,2000,2001,2002,2003,2004,2005,2006,2007,2008,2009,2010,2011,2012,2013,2014,2015,2016,2017],\"xaxis\":\"x\",\"y\":[690.3693093781176,710.9848697374891,705.1412121816252,671.250385197331,676.5582592379704,665.6649801203476,665.9285952174628,657.0036699906439,709.1959192082617,737.3856687606734,772.1308820938419,804.7247687595233,839.0303126834742,883.7798665521659,927.2001162763416,949.0756868142653,989.5519188258153,1050.2917792374599,1094.6996094375204,1147.238428994084,1231.193765154373,1298.0679854549749,1296.897714726908,1320.994023074421,1382.3967348475642,1386.7365629128512,1438.6299897625881,1480.2294879611545,1536.505362017391,1621.1230949630587,1707.822214488012,1794.4218687514356,1878.9709022497818,1968.4181933336554,2083.367466540771,2220.079880553419,2358.1225912319833,2433.3460862983297,2084.138829169963,2071.5262813117597,2143.6577102593587,2191.5783571800152,2259.3055519457994,2335.599101393578,2420.393669513467,2524.227755783445,2627.908247816578,2757.8965775876345,2885.306358538952,2978.999358155296,3122.3655911206483,3270.6222385421306,3421.279207607031,3563.3198168943927,3692.9879790432765,3824.2785558343103,3968.0369468926347,4120.367810496154],\"yaxis\":\"y\",\"type\":\"scatter\"},{\"hovertemplate\":\"Entity=Italy\\u003cbr\\u003eYear=%{x}\\u003cbr\\u003eGDPperCapita=%{y}\\u003cextra\\u003e\\u003c\\u002fextra\\u003e\",\"legendgroup\":\"Italy\",\"line\":{\"color\":\"#B6E880\",\"dash\":\"solid\"},\"marker\":{\"symbol\":\"circle\"},\"mode\":\"lines\",\"name\":\"Italy\",\"orientation\":\"v\",\"showlegend\":true,\"x\":[1960,1961,1962,1963,1964,1965,1966,1967,1968,1969,1970,1971,1972,1973,1974,1975,1976,1977,1978,1979,1980,1981,1982,1983,1984,1985,1986,1987,1988,1989,1990,1991,1992,1993,1994,1995,1996,1997,1998,1999,2000,2001,2002,2003,2004,2005,2006,2007,2008,2009,2010,2011,2012,2013,2014,2015,2016,2017],\"xaxis\":\"x\",\"y\":[10976.971094347366,11794.344718809138,12429.177773071053,13019.563469657325,13274.962413571295,13601.61886466366,14308.768790741793,15227.719879720138,16113.060967826006,16979.862339812982,17752.909048158766,17951.569142794648,18487.137201462985,19673.97141162709,20628.036984375343,20084.682680398986,21410.031647617667,21863.75440356144,22487.10518876297,23746.985818509558,24486.975510568245,24625.526517024333,24666.259637683113,24901.90479085528,25660.902090103584,26344.631923738692,27075.730685397655,27928.214794842304,29094.525902453963,30074.557990183588,30661.55569375596,31111.453417589688,31339.717234140346,31043.658407584007,31702.54668494477,32640.567436294994,33123.594549544905,33826.96993493182,34471.16968575754,35062.62735165966,36340.39701154043,36865.417031940924,36757.9864477586,36569.313721426384,36902.294087583694,37039.89182242343,37614.036888603085,38035.230396147614,37524.56688475816,35357.037490947616,35820.61937198348,35867.55641665996,34687.631801137126,33925.00466500025,33826.94942698245,34054.26328531381,34298.41249524356,34807.36298025678],\"yaxis\":\"y\",\"type\":\"scatter\"},{\"hovertemplate\":\"Entity=Japan\\u003cbr\\u003eYear=%{x}\\u003cbr\\u003eGDPperCapita=%{y}\\u003cextra\\u003e\\u003c\\u002fextra\\u003e\",\"legendgroup\":\"Japan\",\"line\":{\"color\":\"#FF97FF\",\"dash\":\"solid\"},\"marker\":{\"symbol\":\"circle\"},\"mode\":\"lines\",\"name\":\"Japan\",\"orientation\":\"v\",\"showlegend\":true,\"x\":[1960,1961,1962,1963,1964,1965,1966,1967,1968,1969,1970,1971,1972,1973,1974,1975,1976,1977,1978,1979,1980,1981,1982,1983,1984,1985,1986,1987,1988,1989,1990,1991,1992,1993,1994,1995,1996,1997,1998,1999,2000,2001,2002,2003,2004,2005,2006,2007,2008,2009,2010,2011,2012,2013,2014,2015,2016,2017],\"xaxis\":\"x\",\"y\":[8499.831369317559,9434.17932087423,10178.012158935362,10933.937689111932,12086.522447254336,12651.171564925799,13835.59548262129,15181.989652037948,16919.311215579004,18778.20642681669,18595.666392832583,19195.435099385493,20511.90992344308,21845.35170633412,21287.329827919442,21674.085789952853,22284.656500117613,23030.252084255233,24024.501566814175,25127.772501675667,25627.447486745885,26500.160344624073,27178.363104901215,27943.589691084464,29018.238673088483,30362.997139846,31212.719209465915,32539.48522092197,34603.34134813861,36145.750687797496,37778.442648904704,38936.6089060381,39141.18317078273,38821.99506123024,39099.90340091993,40072.891227626875,41224.132228643204,41585.95866760034,41044.244580295715,40873.62928711088,41944.53968596962,42052.321000072814,42043.01351140422,42630.52392897241,43520.7755229609,44202.319280505275,44796.13428100823,45511.98293744315,44998.531949376535,42555.92852157497,44344.2463532885,44307.88554880007,44996.5909374838,45935.9891829844,46160.283264668054,46852.47347323827,47374.214798604844,48283.79505249767],\"yaxis\":\"y\",\"type\":\"scatter\"},{\"hovertemplate\":\"Entity=Russia\\u003cbr\\u003eYear=%{x}\\u003cbr\\u003eGDPperCapita=%{y}\\u003cextra\\u003e\\u003c\\u002fextra\\u003e\",\"legendgroup\":\"Russia\",\"line\":{\"color\":\"#FECB52\",\"dash\":\"solid\"},\"marker\":{\"symbol\":\"circle\"},\"mode\":\"lines\",\"name\":\"Russia\",\"orientation\":\"v\",\"showlegend\":true,\"x\":[1989,1990,1991,1992,1993,1994,1995,1996,1997,1998,1999,2000,2001,2002,2003,2004,2005,2006,2007,2008,2009,2010,2011,2012,2013,2014,2015,2016,2017],\"xaxis\":\"x\",\"y\":[9924.950281358331,9583.611858426104,9071.40248063576,7738.955091634533,7063.098375457964,6176.325146448491,5925.279582131578,5719.919451114785,5811.422902775949,5517.1986467809065,5888.0798350974765,6499.494571551017,6857.332132102865,7213.040635701024,7771.671542064558,8360.003117612627,8918.368461352804,9663.614410138245,10498.441918668212,11050.70717051482,10180.899365530813,10628.147861733683,11172.390916715189,11557.439247611012,11736.801694552943,11795.701555596326,11436.79244304569,11388.28964683065,11544.047959580705],\"yaxis\":\"y\",\"type\":\"scatter\"},{\"hovertemplate\":\"Entity=Spain\\u003cbr\\u003eYear=%{x}\\u003cbr\\u003eGDPperCapita=%{y}\\u003cextra\\u003e\\u003c\\u002fextra\\u003e\",\"legendgroup\":\"Spain\",\"line\":{\"color\":\"#636efa\",\"dash\":\"solid\"},\"marker\":{\"symbol\":\"circle\"},\"mode\":\"lines\",\"name\":\"Spain\",\"orientation\":\"v\",\"showlegend\":true,\"x\":[1960,1961,1962,1963,1964,1965,1966,1967,1968,1969,1970,1971,1972,1973,1974,1975,1976,1977,1978,1979,1980,1981,1982,1983,1984,1985,1986,1987,1988,1989,1990,1991,1992,1993,1994,1995,1996,1997,1998,1999,2000,2001,2002,2003,2004,2005,2006,2007,2008,2009,2010,2011,2012,2013,2014,2015,2016,2017],\"xaxis\":\"x\",\"y\":[7372.798468058645,8157.629321028995,8870.01193038272,9610.504564550694,10006.394967004811,10515.024837766254,11156.864176184972,11521.259240379257,12155.799205260335,13100.674500221641,13515.197916488229,13985.501559153092,14952.057476205342,15930.468201670394,16632.535007983734,16534.884310460635,16893.762612331062,17188.517511252656,17264.36205221083,17111.2324810184,17344.891349661866,17196.922590615904,17302.825407111988,17516.047151772447,17748.259276705572,18091.353396982522,18621.272137125387,19604.77109435624,20558.641488794514,21506.940613433013,22272.377314664696,22783.639768580095,22929.99962012933,22622.873565388476,23088.434983197752,23649.36675191369,24207.707356759754,25021.87967321169,25990.899279472414,26987.366365381917,28156.53400647054,28932.996066764925,29339.477056857108,29794.233415192743,30232.40109631315,30851.456616284104,31629.076436877865,32315.443627520308,32222.678659041223,30727.619721856,30504.714360237158,30101.90857213448,29233.638326730765,28815.819897940593,29309.027932865236,30383.83848077884,31404.315113689798,32353.667637547966],\"yaxis\":\"y\",\"type\":\"scatter\"},{\"hovertemplate\":\"Entity=United Kingdom\\u003cbr\\u003eYear=%{x}\\u003cbr\\u003eGDPperCapita=%{y}\\u003cextra\\u003e\\u003c\\u002fextra\\u003e\",\"legendgroup\":\"United Kingdom\",\"line\":{\"color\":\"#EF553B\",\"dash\":\"solid\"},\"marker\":{\"symbol\":\"circle\"},\"mode\":\"lines\",\"name\":\"United Kingdom\",\"orientation\":\"v\",\"showlegend\":true,\"x\":[1960,1961,1962,1963,1964,1965,1966,1967,1968,1969,1970,1971,1972,1973,1974,1975,1976,1977,1978,1979,1980,1981,1982,1983,1984,1985,1986,1987,1988,1989,1990,1991,1992,1993,1994,1995,1996,1997,1998,1999,2000,2001,2002,2003,2004,2005,2006,2007,2008,2009,2010,2011,2012,2013,2014,2015,2016,2017],\"xaxis\":\"x\",\"y\":[13835.1064723049,14095.07998419684,14179.801806117872,14632.783705186463,15261.05989491385,15583.152464321747,15806.913978950191,16084.369886360562,16644.595434473744,16914.121619905396,17963.31637208659,18530.538108792443,19278.261776051313,20491.235104358282,19955.808798046066,19639.642120824905,20198.217891549266,20685.78884235179,21554.207543226705,22361.046050232544,21906.056777144764,21732.523630934706,22161.585276290254,23082.45400400359,23584.396725242223,24538.555470560852,25256.409366164215,26533.283418490242,27981.767485006952,28619.628291270055,28748.33297658942,28358.044099540242,28387.29507841834,29025.798422642096,30067.969349070856,30720.68734795985,31401.92670121554,32561.87461431715,33467.08580292924,34422.436449116765,35558.35988719396,36339.050076273765,37105.44690394784,38188.27042696462,38887.50953055601,39815.52653888999,40435.90605016656,40961.87451894622,40315.659899481696,38206.81310829076,38467.907260157896,38684.11584475664,38951.12886002929,39469.78815062138,40402.35607252434,41075.800659146524,41594.320481362636,42065.47719657815],\"yaxis\":\"y\",\"type\":\"scatter\"},{\"hovertemplate\":\"Entity=United States\\u003cbr\\u003eYear=%{x}\\u003cbr\\u003eGDPperCapita=%{y}\\u003cextra\\u003e\\u003c\\u002fextra\\u003e\",\"legendgroup\":\"United States\",\"line\":{\"color\":\"#00cc96\",\"dash\":\"solid\"},\"marker\":{\"symbol\":\"circle\"},\"mode\":\"lines\",\"name\":\"United States\",\"orientation\":\"v\",\"showlegend\":true,\"x\":[1960,1961,1962,1963,1964,1965,1966,1967,1968,1969,1970,1971,1972,1973,1974,1975,1976,1977,1978,1979,1980,1981,1982,1983,1984,1985,1986,1987,1988,1989,1990,1991,1992,1993,1994,1995,1996,1997,1998,1999,2000,2001,2002,2003,2004,2005,2006,2007,2008,2009,2010,2011,2012,2013,2014,2015,2016,2017],\"xaxis\":\"x\",\"y\":[16484.868934686627,16610.575066337395,17372.357628464073,17893.15904365984,18693.519699623266,19658.27730092258,20711.87181380483,21020.501418194508,21826.001486067216,22301.809540372262,22813.30789357445,23356.5349368921,24368.431913067943,25515.18316740265,25156.889667894353,24881.853838784882,25984.207940801316,26931.991015793057,28166.420822334458,28790.409531038335,28452.534782722378,28918.524557927092,28100.73026832377,29127.43187772741,30949.79970787174,31960.793963409564,32774.7367840326,33592.43793562822,34676.5007640315,35613.874916108056,35952.775525543395,35584.71649697008,36498.30230013339,37133.3384546029,38233.56870729043,38840.2068844187,39838.12414293703,41108.02353367282,42397.24855172894,43846.194079296925,45128.01364652389,45104.61881640713,45483.38937768819,46350.67835971789,47687.616160486636,48841.99211465953,49678.778456301145,50083.149167021504,49463.53291414917,47647.603660041525,48426.663169229236,48795.893353317246,49490.39536593598,49945.65662202475,50863.61773450823,51959.59550497844,52382.32143856651,53232.18452176347],\"yaxis\":\"y\",\"type\":\"scatter\"}],                        {\"template\":{\"data\":{\"histogram2dcontour\":[{\"type\":\"histogram2dcontour\",\"colorbar\":{\"outlinewidth\":0,\"ticks\":\"\"},\"colorscale\":[[0.0,\"#0d0887\"],[0.1111111111111111,\"#46039f\"],[0.2222222222222222,\"#7201a8\"],[0.3333333333333333,\"#9c179e\"],[0.4444444444444444,\"#bd3786\"],[0.5555555555555556,\"#d8576b\"],[0.6666666666666666,\"#ed7953\"],[0.7777777777777778,\"#fb9f3a\"],[0.8888888888888888,\"#fdca26\"],[1.0,\"#f0f921\"]]}],\"choropleth\":[{\"type\":\"choropleth\",\"colorbar\":{\"outlinewidth\":0,\"ticks\":\"\"}}],\"histogram2d\":[{\"type\":\"histogram2d\",\"colorbar\":{\"outlinewidth\":0,\"ticks\":\"\"},\"colorscale\":[[0.0,\"#0d0887\"],[0.1111111111111111,\"#46039f\"],[0.2222222222222222,\"#7201a8\"],[0.3333333333333333,\"#9c179e\"],[0.4444444444444444,\"#bd3786\"],[0.5555555555555556,\"#d8576b\"],[0.6666666666666666,\"#ed7953\"],[0.7777777777777778,\"#fb9f3a\"],[0.8888888888888888,\"#fdca26\"],[1.0,\"#f0f921\"]]}],\"heatmap\":[{\"type\":\"heatmap\",\"colorbar\":{\"outlinewidth\":0,\"ticks\":\"\"},\"colorscale\":[[0.0,\"#0d0887\"],[0.1111111111111111,\"#46039f\"],[0.2222222222222222,\"#7201a8\"],[0.3333333333333333,\"#9c179e\"],[0.4444444444444444,\"#bd3786\"],[0.5555555555555556,\"#d8576b\"],[0.6666666666666666,\"#ed7953\"],[0.7777777777777778,\"#fb9f3a\"],[0.8888888888888888,\"#fdca26\"],[1.0,\"#f0f921\"]]}],\"heatmapgl\":[{\"type\":\"heatmapgl\",\"colorbar\":{\"outlinewidth\":0,\"ticks\":\"\"},\"colorscale\":[[0.0,\"#0d0887\"],[0.1111111111111111,\"#46039f\"],[0.2222222222222222,\"#7201a8\"],[0.3333333333333333,\"#9c179e\"],[0.4444444444444444,\"#bd3786\"],[0.5555555555555556,\"#d8576b\"],[0.6666666666666666,\"#ed7953\"],[0.7777777777777778,\"#fb9f3a\"],[0.8888888888888888,\"#fdca26\"],[1.0,\"#f0f921\"]]}],\"contourcarpet\":[{\"type\":\"contourcarpet\",\"colorbar\":{\"outlinewidth\":0,\"ticks\":\"\"}}],\"contour\":[{\"type\":\"contour\",\"colorbar\":{\"outlinewidth\":0,\"ticks\":\"\"},\"colorscale\":[[0.0,\"#0d0887\"],[0.1111111111111111,\"#46039f\"],[0.2222222222222222,\"#7201a8\"],[0.3333333333333333,\"#9c179e\"],[0.4444444444444444,\"#bd3786\"],[0.5555555555555556,\"#d8576b\"],[0.6666666666666666,\"#ed7953\"],[0.7777777777777778,\"#fb9f3a\"],[0.8888888888888888,\"#fdca26\"],[1.0,\"#f0f921\"]]}],\"surface\":[{\"type\":\"surface\",\"colorbar\":{\"outlinewidth\":0,\"ticks\":\"\"},\"colorscale\":[[0.0,\"#0d0887\"],[0.1111111111111111,\"#46039f\"],[0.2222222222222222,\"#7201a8\"],[0.3333333333333333,\"#9c179e\"],[0.4444444444444444,\"#bd3786\"],[0.5555555555555556,\"#d8576b\"],[0.6666666666666666,\"#ed7953\"],[0.7777777777777778,\"#fb9f3a\"],[0.8888888888888888,\"#fdca26\"],[1.0,\"#f0f921\"]]}],\"mesh3d\":[{\"type\":\"mesh3d\",\"colorbar\":{\"outlinewidth\":0,\"ticks\":\"\"}}],\"scatter\":[{\"fillpattern\":{\"fillmode\":\"overlay\",\"size\":10,\"solidity\":0.2},\"type\":\"scatter\"}],\"parcoords\":[{\"type\":\"parcoords\",\"line\":{\"colorbar\":{\"outlinewidth\":0,\"ticks\":\"\"}}}],\"scatterpolargl\":[{\"type\":\"scatterpolargl\",\"marker\":{\"colorbar\":{\"outlinewidth\":0,\"ticks\":\"\"}}}],\"bar\":[{\"error_x\":{\"color\":\"#2a3f5f\"},\"error_y\":{\"color\":\"#2a3f5f\"},\"marker\":{\"line\":{\"color\":\"#E5ECF6\",\"width\":0.5},\"pattern\":{\"fillmode\":\"overlay\",\"size\":10,\"solidity\":0.2}},\"type\":\"bar\"}],\"scattergeo\":[{\"type\":\"scattergeo\",\"marker\":{\"colorbar\":{\"outlinewidth\":0,\"ticks\":\"\"}}}],\"scatterpolar\":[{\"type\":\"scatterpolar\",\"marker\":{\"colorbar\":{\"outlinewidth\":0,\"ticks\":\"\"}}}],\"histogram\":[{\"marker\":{\"pattern\":{\"fillmode\":\"overlay\",\"size\":10,\"solidity\":0.2}},\"type\":\"histogram\"}],\"scattergl\":[{\"type\":\"scattergl\",\"marker\":{\"colorbar\":{\"outlinewidth\":0,\"ticks\":\"\"}}}],\"scatter3d\":[{\"type\":\"scatter3d\",\"line\":{\"colorbar\":{\"outlinewidth\":0,\"ticks\":\"\"}},\"marker\":{\"colorbar\":{\"outlinewidth\":0,\"ticks\":\"\"}}}],\"scattermapbox\":[{\"type\":\"scattermapbox\",\"marker\":{\"colorbar\":{\"outlinewidth\":0,\"ticks\":\"\"}}}],\"scatterternary\":[{\"type\":\"scatterternary\",\"marker\":{\"colorbar\":{\"outlinewidth\":0,\"ticks\":\"\"}}}],\"scattercarpet\":[{\"type\":\"scattercarpet\",\"marker\":{\"colorbar\":{\"outlinewidth\":0,\"ticks\":\"\"}}}],\"carpet\":[{\"aaxis\":{\"endlinecolor\":\"#2a3f5f\",\"gridcolor\":\"white\",\"linecolor\":\"white\",\"minorgridcolor\":\"white\",\"startlinecolor\":\"#2a3f5f\"},\"baxis\":{\"endlinecolor\":\"#2a3f5f\",\"gridcolor\":\"white\",\"linecolor\":\"white\",\"minorgridcolor\":\"white\",\"startlinecolor\":\"#2a3f5f\"},\"type\":\"carpet\"}],\"table\":[{\"cells\":{\"fill\":{\"color\":\"#EBF0F8\"},\"line\":{\"color\":\"white\"}},\"header\":{\"fill\":{\"color\":\"#C8D4E3\"},\"line\":{\"color\":\"white\"}},\"type\":\"table\"}],\"barpolar\":[{\"marker\":{\"line\":{\"color\":\"#E5ECF6\",\"width\":0.5},\"pattern\":{\"fillmode\":\"overlay\",\"size\":10,\"solidity\":0.2}},\"type\":\"barpolar\"}],\"pie\":[{\"automargin\":true,\"type\":\"pie\"}]},\"layout\":{\"autotypenumbers\":\"strict\",\"colorway\":[\"#636efa\",\"#EF553B\",\"#00cc96\",\"#ab63fa\",\"#FFA15A\",\"#19d3f3\",\"#FF6692\",\"#B6E880\",\"#FF97FF\",\"#FECB52\"],\"font\":{\"color\":\"#2a3f5f\"},\"hovermode\":\"closest\",\"hoverlabel\":{\"align\":\"left\"},\"paper_bgcolor\":\"white\",\"plot_bgcolor\":\"#E5ECF6\",\"polar\":{\"bgcolor\":\"#E5ECF6\",\"angularaxis\":{\"gridcolor\":\"white\",\"linecolor\":\"white\",\"ticks\":\"\"},\"radialaxis\":{\"gridcolor\":\"white\",\"linecolor\":\"white\",\"ticks\":\"\"}},\"ternary\":{\"bgcolor\":\"#E5ECF6\",\"aaxis\":{\"gridcolor\":\"white\",\"linecolor\":\"white\",\"ticks\":\"\"},\"baxis\":{\"gridcolor\":\"white\",\"linecolor\":\"white\",\"ticks\":\"\"},\"caxis\":{\"gridcolor\":\"white\",\"linecolor\":\"white\",\"ticks\":\"\"}},\"coloraxis\":{\"colorbar\":{\"outlinewidth\":0,\"ticks\":\"\"}},\"colorscale\":{\"sequential\":[[0.0,\"#0d0887\"],[0.1111111111111111,\"#46039f\"],[0.2222222222222222,\"#7201a8\"],[0.3333333333333333,\"#9c179e\"],[0.4444444444444444,\"#bd3786\"],[0.5555555555555556,\"#d8576b\"],[0.6666666666666666,\"#ed7953\"],[0.7777777777777778,\"#fb9f3a\"],[0.8888888888888888,\"#fdca26\"],[1.0,\"#f0f921\"]],\"sequentialminus\":[[0.0,\"#0d0887\"],[0.1111111111111111,\"#46039f\"],[0.2222222222222222,\"#7201a8\"],[0.3333333333333333,\"#9c179e\"],[0.4444444444444444,\"#bd3786\"],[0.5555555555555556,\"#d8576b\"],[0.6666666666666666,\"#ed7953\"],[0.7777777777777778,\"#fb9f3a\"],[0.8888888888888888,\"#fdca26\"],[1.0,\"#f0f921\"]],\"diverging\":[[0,\"#8e0152\"],[0.1,\"#c51b7d\"],[0.2,\"#de77ae\"],[0.3,\"#f1b6da\"],[0.4,\"#fde0ef\"],[0.5,\"#f7f7f7\"],[0.6,\"#e6f5d0\"],[0.7,\"#b8e186\"],[0.8,\"#7fbc41\"],[0.9,\"#4d9221\"],[1,\"#276419\"]]},\"xaxis\":{\"gridcolor\":\"white\",\"linecolor\":\"white\",\"ticks\":\"\",\"title\":{\"standoff\":15},\"zerolinecolor\":\"white\",\"automargin\":true,\"zerolinewidth\":2},\"yaxis\":{\"gridcolor\":\"white\",\"linecolor\":\"white\",\"ticks\":\"\",\"title\":{\"standoff\":15},\"zerolinecolor\":\"white\",\"automargin\":true,\"zerolinewidth\":2},\"scene\":{\"xaxis\":{\"backgroundcolor\":\"#E5ECF6\",\"gridcolor\":\"white\",\"linecolor\":\"white\",\"showbackground\":true,\"ticks\":\"\",\"zerolinecolor\":\"white\",\"gridwidth\":2},\"yaxis\":{\"backgroundcolor\":\"#E5ECF6\",\"gridcolor\":\"white\",\"linecolor\":\"white\",\"showbackground\":true,\"ticks\":\"\",\"zerolinecolor\":\"white\",\"gridwidth\":2},\"zaxis\":{\"backgroundcolor\":\"#E5ECF6\",\"gridcolor\":\"white\",\"linecolor\":\"white\",\"showbackground\":true,\"ticks\":\"\",\"zerolinecolor\":\"white\",\"gridwidth\":2}},\"shapedefaults\":{\"line\":{\"color\":\"#2a3f5f\"}},\"annotationdefaults\":{\"arrowcolor\":\"#2a3f5f\",\"arrowhead\":0,\"arrowwidth\":1},\"geo\":{\"bgcolor\":\"white\",\"landcolor\":\"#E5ECF6\",\"subunitcolor\":\"white\",\"showland\":true,\"showlakes\":true,\"lakecolor\":\"white\"},\"title\":{\"x\":0.05},\"mapbox\":{\"style\":\"light\"}}},\"xaxis\":{\"anchor\":\"y\",\"domain\":[0.0,1.0],\"title\":{\"text\":\"Year\"}},\"yaxis\":{\"anchor\":\"x\",\"domain\":[0.0,1.0],\"title\":{\"text\":\"GDPperCapita\"}},\"legend\":{\"title\":{\"text\":\"Entity\"},\"tracegroupgap\":0},\"margin\":{\"t\":60}},                        {\"responsive\": true}                    ).then(function(){\n",
       "                            \n",
       "var gd = document.getElementById('08439809-0535-4532-9a7d-118dc80669eb');\n",
       "var x = new MutationObserver(function (mutations, observer) {{\n",
       "        var display = window.getComputedStyle(gd).display;\n",
       "        if (!display || display === 'none') {{\n",
       "            console.log([gd, 'removed!']);\n",
       "            Plotly.purge(gd);\n",
       "            observer.disconnect();\n",
       "        }}\n",
       "}});\n",
       "\n",
       "// Listen for the removal of the full notebook cells\n",
       "var notebookContainer = gd.closest('#notebook-container');\n",
       "if (notebookContainer) {{\n",
       "    x.observe(notebookContainer, {childList: true});\n",
       "}}\n",
       "\n",
       "// Listen for the clearing of the current output cell\n",
       "var outputEl = gd.closest('.output');\n",
       "if (outputEl) {{\n",
       "    x.observe(outputEl, {childList: true});\n",
       "}}\n",
       "\n",
       "                        })                };                });            </script>        </div>"
      ]
     },
     "metadata": {},
     "output_type": "display_data"
    }
   ],
   "source": [
    "px.line(gdp_and_pop.query('Entity in @C') , x='Year' , y='GDPperCapita', color='Entity')\n"
   ]
  },
  {
   "cell_type": "code",
   "execution_count": 80,
   "metadata": {},
   "outputs": [
    {
     "data": {
      "text/plain": [
       "8869"
      ]
     },
     "execution_count": 80,
     "metadata": {},
     "output_type": "execute_result"
    }
   ],
   "source": [
    "gdp_and_pop.shape[0]"
   ]
  },
  {
   "cell_type": "code",
   "execution_count": 87,
   "metadata": {},
   "outputs": [
    {
     "data": {
      "application/vnd.plotly.v1+json": {
       "config": {
        "plotlyServerURL": "https://plot.ly"
       },
       "data": [
        {
         "hovertemplate": "Entity=Brazil<br>GDP=%{x}<br>GDPperCapita=%{y}<br>Population=%{marker.size}<extra></extra>",
         "legendgroup": "Brazil",
         "marker": {
          "color": "#636efa",
          "size": [
           207834000
          ],
          "sizemode": "area",
          "sizeref": 3552554.88,
          "symbol": "circle"
         },
         "mode": "markers",
         "name": "Brazil",
         "orientation": "v",
         "showlegend": true,
         "type": "scatter",
         "x": [
          2278936372567.31
         ],
         "xaxis": "x",
         "y": [
          10965.175921972874
         ],
         "yaxis": "y"
        },
        {
         "hovertemplate": "Entity=Canada<br>GDP=%{x}<br>GDPperCapita=%{y}<br>Population=%{marker.size}<extra></extra>",
         "legendgroup": "Canada",
         "marker": {
          "color": "#EF553B",
          "size": [
           36732000
          ],
          "sizemode": "area",
          "sizeref": 3552554.88,
          "symbol": "circle"
         },
         "mode": "markers",
         "name": "Canada",
         "orientation": "v",
         "showlegend": true,
         "type": "scatter",
         "x": [
          1883707911710.79
         ],
         "xaxis": "x",
         "y": [
          51282.4760892625
         ],
         "yaxis": "y"
        },
        {
         "hovertemplate": "Entity=China<br>GDP=%{x}<br>GDPperCapita=%{y}<br>Population=%{marker.size}<extra></extra>",
         "legendgroup": "China",
         "marker": {
          "color": "#00cc96",
          "size": [
           1421021952
          ],
          "sizemode": "area",
          "sizeref": 3552554.88,
          "symbol": "circle"
         },
         "mode": "markers",
         "name": "China",
         "orientation": "v",
         "showlegend": true,
         "type": "scatter",
         "x": [
          10161012758870.3
         ],
         "xaxis": "x",
         "y": [
          7150.496686254078
         ],
         "yaxis": "y"
        },
        {
         "hovertemplate": "Entity=France<br>GDP=%{x}<br>GDPperCapita=%{y}<br>Population=%{marker.size}<extra></extra>",
         "legendgroup": "France",
         "marker": {
          "color": "#ab63fa",
          "size": [
           64843000
          ],
          "sizemode": "area",
          "sizeref": 3552554.88,
          "symbol": "circle"
         },
         "mode": "markers",
         "name": "France",
         "orientation": "v",
         "showlegend": true,
         "type": "scatter",
         "x": [
          2857089402048
         ],
         "xaxis": "x",
         "y": [
          44061.64739521614
         ],
         "yaxis": "y"
        },
        {
         "hovertemplate": "Entity=Germany<br>GDP=%{x}<br>GDPperCapita=%{y}<br>Population=%{marker.size}<extra></extra>",
         "legendgroup": "Germany",
         "marker": {
          "color": "#FFA15A",
          "size": [
           82658000
          ],
          "sizemode": "area",
          "sizeref": 3552554.88,
          "symbol": "circle"
         },
         "mode": "markers",
         "name": "Germany",
         "orientation": "v",
         "showlegend": true,
         "type": "scatter",
         "x": [
          3865759081373.6
         ],
         "xaxis": "x",
         "y": [
          46768.11780316001
         ],
         "yaxis": "y"
        },
        {
         "hovertemplate": "Entity=India<br>GDP=%{x}<br>GDPperCapita=%{y}<br>Population=%{marker.size}<extra></extra>",
         "legendgroup": "India",
         "marker": {
          "color": "#19d3f3",
          "size": [
           1338676992
          ],
          "sizemode": "area",
          "sizeref": 3552554.88,
          "symbol": "circle"
         },
         "mode": "markers",
         "name": "India",
         "orientation": "v",
         "showlegend": true,
         "type": "scatter",
         "x": [
          2629542211700.51
         ],
         "xaxis": "x",
         "y": [
          1964.284310117216
         ],
         "yaxis": "y"
        },
        {
         "hovertemplate": "Entity=Indonesia<br>GDP=%{x}<br>GDPperCapita=%{y}<br>Population=%{marker.size}<extra></extra>",
         "legendgroup": "Indonesia",
         "marker": {
          "color": "#FF6692",
          "size": [
           264651008
          ],
          "sizemode": "area",
          "sizeref": 3552554.88,
          "symbol": "circle"
         },
         "mode": "markers",
         "name": "Indonesia",
         "orientation": "v",
         "showlegend": true,
         "type": "scatter",
         "x": [
          1090459494378.56
         ],
         "xaxis": "x",
         "y": [
          4120.367810496154
         ],
         "yaxis": "y"
        },
        {
         "hovertemplate": "Entity=Italy<br>GDP=%{x}<br>GDPperCapita=%{y}<br>Population=%{marker.size}<extra></extra>",
         "legendgroup": "Italy",
         "marker": {
          "color": "#B6E880",
          "size": [
           60674000
          ],
          "sizemode": "area",
          "sizeref": 3552554.88,
          "symbol": "circle"
         },
         "mode": "markers",
         "name": "Italy",
         "orientation": "v",
         "showlegend": true,
         "type": "scatter",
         "x": [
          2111901941464.1
         ],
         "xaxis": "x",
         "y": [
          34807.36298025678
         ],
         "yaxis": "y"
        },
        {
         "hovertemplate": "Entity=Japan<br>GDP=%{x}<br>GDPperCapita=%{y}<br>Population=%{marker.size}<extra></extra>",
         "legendgroup": "Japan",
         "marker": {
          "color": "#FF97FF",
          "size": [
           127503000
          ],
          "sizemode": "area",
          "sizeref": 3552554.88,
          "symbol": "circle"
         },
         "mode": "markers",
         "name": "Japan",
         "orientation": "v",
         "showlegend": true,
         "type": "scatter",
         "x": [
          6156328720578.61
         ],
         "xaxis": "x",
         "y": [
          48283.79505249767
         ],
         "yaxis": "y"
        },
        {
         "hovertemplate": "Entity=Russia<br>GDP=%{x}<br>GDPperCapita=%{y}<br>Population=%{marker.size}<extra></extra>",
         "legendgroup": "Russia",
         "marker": {
          "color": "#FECB52",
          "size": [
           145530000
          ],
          "sizemode": "area",
          "sizeref": 3552554.88,
          "symbol": "circle"
         },
         "mode": "markers",
         "name": "Russia",
         "orientation": "v",
         "showlegend": true,
         "type": "scatter",
         "x": [
          1680005299557.78
         ],
         "xaxis": "x",
         "y": [
          11544.047959580705
         ],
         "yaxis": "y"
        },
        {
         "hovertemplate": "Entity=Spain<br>GDP=%{x}<br>GDPperCapita=%{y}<br>Population=%{marker.size}<extra></extra>",
         "legendgroup": "Spain",
         "marker": {
          "color": "#636efa",
          "size": [
           46647000
          ],
          "sizemode": "area",
          "sizeref": 3552554.88,
          "symbol": "circle"
         },
         "mode": "markers",
         "name": "Spain",
         "orientation": "v",
         "showlegend": true,
         "type": "scatter",
         "x": [
          1509201534288.7
         ],
         "xaxis": "x",
         "y": [
          32353.667637547966
         ],
         "yaxis": "y"
        },
        {
         "hovertemplate": "Entity=United Kingdom<br>GDP=%{x}<br>GDPperCapita=%{y}<br>Population=%{marker.size}<extra></extra>",
         "legendgroup": "United Kingdom",
         "marker": {
          "color": "#EF553B",
          "size": [
           66727000
          ],
          "sizemode": "area",
          "sizeref": 3552554.88,
          "symbol": "circle"
         },
         "mode": "markers",
         "name": "United Kingdom",
         "orientation": "v",
         "showlegend": true,
         "type": "scatter",
         "x": [
          2806903096896.07
         ],
         "xaxis": "x",
         "y": [
          42065.47719657815
         ],
         "yaxis": "y"
        },
        {
         "hovertemplate": "Entity=United States<br>GDP=%{x}<br>GDPperCapita=%{y}<br>Population=%{marker.size}<extra></extra>",
         "legendgroup": "United States",
         "marker": {
          "color": "#00cc96",
          "size": [
           325084992
          ],
          "sizemode": "area",
          "sizeref": 3552554.88,
          "symbol": "circle"
         },
         "mode": "markers",
         "name": "United States",
         "orientation": "v",
         "showlegend": true,
         "type": "scatter",
         "x": [
          17304984279400
         ],
         "xaxis": "x",
         "y": [
          53232.18452176347
         ],
         "yaxis": "y"
        }
       ],
       "layout": {
        "legend": {
         "itemsizing": "constant",
         "title": {
          "text": "Entity"
         },
         "tracegroupgap": 0
        },
        "margin": {
         "t": 60
        },
        "template": {
         "data": {
          "bar": [
           {
            "error_x": {
             "color": "#2a3f5f"
            },
            "error_y": {
             "color": "#2a3f5f"
            },
            "marker": {
             "line": {
              "color": "#E5ECF6",
              "width": 0.5
             },
             "pattern": {
              "fillmode": "overlay",
              "size": 10,
              "solidity": 0.2
             }
            },
            "type": "bar"
           }
          ],
          "barpolar": [
           {
            "marker": {
             "line": {
              "color": "#E5ECF6",
              "width": 0.5
             },
             "pattern": {
              "fillmode": "overlay",
              "size": 10,
              "solidity": 0.2
             }
            },
            "type": "barpolar"
           }
          ],
          "carpet": [
           {
            "aaxis": {
             "endlinecolor": "#2a3f5f",
             "gridcolor": "white",
             "linecolor": "white",
             "minorgridcolor": "white",
             "startlinecolor": "#2a3f5f"
            },
            "baxis": {
             "endlinecolor": "#2a3f5f",
             "gridcolor": "white",
             "linecolor": "white",
             "minorgridcolor": "white",
             "startlinecolor": "#2a3f5f"
            },
            "type": "carpet"
           }
          ],
          "choropleth": [
           {
            "colorbar": {
             "outlinewidth": 0,
             "ticks": ""
            },
            "type": "choropleth"
           }
          ],
          "contour": [
           {
            "colorbar": {
             "outlinewidth": 0,
             "ticks": ""
            },
            "colorscale": [
             [
              0,
              "#0d0887"
             ],
             [
              0.1111111111111111,
              "#46039f"
             ],
             [
              0.2222222222222222,
              "#7201a8"
             ],
             [
              0.3333333333333333,
              "#9c179e"
             ],
             [
              0.4444444444444444,
              "#bd3786"
             ],
             [
              0.5555555555555556,
              "#d8576b"
             ],
             [
              0.6666666666666666,
              "#ed7953"
             ],
             [
              0.7777777777777778,
              "#fb9f3a"
             ],
             [
              0.8888888888888888,
              "#fdca26"
             ],
             [
              1,
              "#f0f921"
             ]
            ],
            "type": "contour"
           }
          ],
          "contourcarpet": [
           {
            "colorbar": {
             "outlinewidth": 0,
             "ticks": ""
            },
            "type": "contourcarpet"
           }
          ],
          "heatmap": [
           {
            "colorbar": {
             "outlinewidth": 0,
             "ticks": ""
            },
            "colorscale": [
             [
              0,
              "#0d0887"
             ],
             [
              0.1111111111111111,
              "#46039f"
             ],
             [
              0.2222222222222222,
              "#7201a8"
             ],
             [
              0.3333333333333333,
              "#9c179e"
             ],
             [
              0.4444444444444444,
              "#bd3786"
             ],
             [
              0.5555555555555556,
              "#d8576b"
             ],
             [
              0.6666666666666666,
              "#ed7953"
             ],
             [
              0.7777777777777778,
              "#fb9f3a"
             ],
             [
              0.8888888888888888,
              "#fdca26"
             ],
             [
              1,
              "#f0f921"
             ]
            ],
            "type": "heatmap"
           }
          ],
          "heatmapgl": [
           {
            "colorbar": {
             "outlinewidth": 0,
             "ticks": ""
            },
            "colorscale": [
             [
              0,
              "#0d0887"
             ],
             [
              0.1111111111111111,
              "#46039f"
             ],
             [
              0.2222222222222222,
              "#7201a8"
             ],
             [
              0.3333333333333333,
              "#9c179e"
             ],
             [
              0.4444444444444444,
              "#bd3786"
             ],
             [
              0.5555555555555556,
              "#d8576b"
             ],
             [
              0.6666666666666666,
              "#ed7953"
             ],
             [
              0.7777777777777778,
              "#fb9f3a"
             ],
             [
              0.8888888888888888,
              "#fdca26"
             ],
             [
              1,
              "#f0f921"
             ]
            ],
            "type": "heatmapgl"
           }
          ],
          "histogram": [
           {
            "marker": {
             "pattern": {
              "fillmode": "overlay",
              "size": 10,
              "solidity": 0.2
             }
            },
            "type": "histogram"
           }
          ],
          "histogram2d": [
           {
            "colorbar": {
             "outlinewidth": 0,
             "ticks": ""
            },
            "colorscale": [
             [
              0,
              "#0d0887"
             ],
             [
              0.1111111111111111,
              "#46039f"
             ],
             [
              0.2222222222222222,
              "#7201a8"
             ],
             [
              0.3333333333333333,
              "#9c179e"
             ],
             [
              0.4444444444444444,
              "#bd3786"
             ],
             [
              0.5555555555555556,
              "#d8576b"
             ],
             [
              0.6666666666666666,
              "#ed7953"
             ],
             [
              0.7777777777777778,
              "#fb9f3a"
             ],
             [
              0.8888888888888888,
              "#fdca26"
             ],
             [
              1,
              "#f0f921"
             ]
            ],
            "type": "histogram2d"
           }
          ],
          "histogram2dcontour": [
           {
            "colorbar": {
             "outlinewidth": 0,
             "ticks": ""
            },
            "colorscale": [
             [
              0,
              "#0d0887"
             ],
             [
              0.1111111111111111,
              "#46039f"
             ],
             [
              0.2222222222222222,
              "#7201a8"
             ],
             [
              0.3333333333333333,
              "#9c179e"
             ],
             [
              0.4444444444444444,
              "#bd3786"
             ],
             [
              0.5555555555555556,
              "#d8576b"
             ],
             [
              0.6666666666666666,
              "#ed7953"
             ],
             [
              0.7777777777777778,
              "#fb9f3a"
             ],
             [
              0.8888888888888888,
              "#fdca26"
             ],
             [
              1,
              "#f0f921"
             ]
            ],
            "type": "histogram2dcontour"
           }
          ],
          "mesh3d": [
           {
            "colorbar": {
             "outlinewidth": 0,
             "ticks": ""
            },
            "type": "mesh3d"
           }
          ],
          "parcoords": [
           {
            "line": {
             "colorbar": {
              "outlinewidth": 0,
              "ticks": ""
             }
            },
            "type": "parcoords"
           }
          ],
          "pie": [
           {
            "automargin": true,
            "type": "pie"
           }
          ],
          "scatter": [
           {
            "fillpattern": {
             "fillmode": "overlay",
             "size": 10,
             "solidity": 0.2
            },
            "type": "scatter"
           }
          ],
          "scatter3d": [
           {
            "line": {
             "colorbar": {
              "outlinewidth": 0,
              "ticks": ""
             }
            },
            "marker": {
             "colorbar": {
              "outlinewidth": 0,
              "ticks": ""
             }
            },
            "type": "scatter3d"
           }
          ],
          "scattercarpet": [
           {
            "marker": {
             "colorbar": {
              "outlinewidth": 0,
              "ticks": ""
             }
            },
            "type": "scattercarpet"
           }
          ],
          "scattergeo": [
           {
            "marker": {
             "colorbar": {
              "outlinewidth": 0,
              "ticks": ""
             }
            },
            "type": "scattergeo"
           }
          ],
          "scattergl": [
           {
            "marker": {
             "colorbar": {
              "outlinewidth": 0,
              "ticks": ""
             }
            },
            "type": "scattergl"
           }
          ],
          "scattermapbox": [
           {
            "marker": {
             "colorbar": {
              "outlinewidth": 0,
              "ticks": ""
             }
            },
            "type": "scattermapbox"
           }
          ],
          "scatterpolar": [
           {
            "marker": {
             "colorbar": {
              "outlinewidth": 0,
              "ticks": ""
             }
            },
            "type": "scatterpolar"
           }
          ],
          "scatterpolargl": [
           {
            "marker": {
             "colorbar": {
              "outlinewidth": 0,
              "ticks": ""
             }
            },
            "type": "scatterpolargl"
           }
          ],
          "scatterternary": [
           {
            "marker": {
             "colorbar": {
              "outlinewidth": 0,
              "ticks": ""
             }
            },
            "type": "scatterternary"
           }
          ],
          "surface": [
           {
            "colorbar": {
             "outlinewidth": 0,
             "ticks": ""
            },
            "colorscale": [
             [
              0,
              "#0d0887"
             ],
             [
              0.1111111111111111,
              "#46039f"
             ],
             [
              0.2222222222222222,
              "#7201a8"
             ],
             [
              0.3333333333333333,
              "#9c179e"
             ],
             [
              0.4444444444444444,
              "#bd3786"
             ],
             [
              0.5555555555555556,
              "#d8576b"
             ],
             [
              0.6666666666666666,
              "#ed7953"
             ],
             [
              0.7777777777777778,
              "#fb9f3a"
             ],
             [
              0.8888888888888888,
              "#fdca26"
             ],
             [
              1,
              "#f0f921"
             ]
            ],
            "type": "surface"
           }
          ],
          "table": [
           {
            "cells": {
             "fill": {
              "color": "#EBF0F8"
             },
             "line": {
              "color": "white"
             }
            },
            "header": {
             "fill": {
              "color": "#C8D4E3"
             },
             "line": {
              "color": "white"
             }
            },
            "type": "table"
           }
          ]
         },
         "layout": {
          "annotationdefaults": {
           "arrowcolor": "#2a3f5f",
           "arrowhead": 0,
           "arrowwidth": 1
          },
          "autotypenumbers": "strict",
          "coloraxis": {
           "colorbar": {
            "outlinewidth": 0,
            "ticks": ""
           }
          },
          "colorscale": {
           "diverging": [
            [
             0,
             "#8e0152"
            ],
            [
             0.1,
             "#c51b7d"
            ],
            [
             0.2,
             "#de77ae"
            ],
            [
             0.3,
             "#f1b6da"
            ],
            [
             0.4,
             "#fde0ef"
            ],
            [
             0.5,
             "#f7f7f7"
            ],
            [
             0.6,
             "#e6f5d0"
            ],
            [
             0.7,
             "#b8e186"
            ],
            [
             0.8,
             "#7fbc41"
            ],
            [
             0.9,
             "#4d9221"
            ],
            [
             1,
             "#276419"
            ]
           ],
           "sequential": [
            [
             0,
             "#0d0887"
            ],
            [
             0.1111111111111111,
             "#46039f"
            ],
            [
             0.2222222222222222,
             "#7201a8"
            ],
            [
             0.3333333333333333,
             "#9c179e"
            ],
            [
             0.4444444444444444,
             "#bd3786"
            ],
            [
             0.5555555555555556,
             "#d8576b"
            ],
            [
             0.6666666666666666,
             "#ed7953"
            ],
            [
             0.7777777777777778,
             "#fb9f3a"
            ],
            [
             0.8888888888888888,
             "#fdca26"
            ],
            [
             1,
             "#f0f921"
            ]
           ],
           "sequentialminus": [
            [
             0,
             "#0d0887"
            ],
            [
             0.1111111111111111,
             "#46039f"
            ],
            [
             0.2222222222222222,
             "#7201a8"
            ],
            [
             0.3333333333333333,
             "#9c179e"
            ],
            [
             0.4444444444444444,
             "#bd3786"
            ],
            [
             0.5555555555555556,
             "#d8576b"
            ],
            [
             0.6666666666666666,
             "#ed7953"
            ],
            [
             0.7777777777777778,
             "#fb9f3a"
            ],
            [
             0.8888888888888888,
             "#fdca26"
            ],
            [
             1,
             "#f0f921"
            ]
           ]
          },
          "colorway": [
           "#636efa",
           "#EF553B",
           "#00cc96",
           "#ab63fa",
           "#FFA15A",
           "#19d3f3",
           "#FF6692",
           "#B6E880",
           "#FF97FF",
           "#FECB52"
          ],
          "font": {
           "color": "#2a3f5f"
          },
          "geo": {
           "bgcolor": "white",
           "lakecolor": "white",
           "landcolor": "#E5ECF6",
           "showlakes": true,
           "showland": true,
           "subunitcolor": "white"
          },
          "hoverlabel": {
           "align": "left"
          },
          "hovermode": "closest",
          "mapbox": {
           "style": "light"
          },
          "paper_bgcolor": "white",
          "plot_bgcolor": "#E5ECF6",
          "polar": {
           "angularaxis": {
            "gridcolor": "white",
            "linecolor": "white",
            "ticks": ""
           },
           "bgcolor": "#E5ECF6",
           "radialaxis": {
            "gridcolor": "white",
            "linecolor": "white",
            "ticks": ""
           }
          },
          "scene": {
           "xaxis": {
            "backgroundcolor": "#E5ECF6",
            "gridcolor": "white",
            "gridwidth": 2,
            "linecolor": "white",
            "showbackground": true,
            "ticks": "",
            "zerolinecolor": "white"
           },
           "yaxis": {
            "backgroundcolor": "#E5ECF6",
            "gridcolor": "white",
            "gridwidth": 2,
            "linecolor": "white",
            "showbackground": true,
            "ticks": "",
            "zerolinecolor": "white"
           },
           "zaxis": {
            "backgroundcolor": "#E5ECF6",
            "gridcolor": "white",
            "gridwidth": 2,
            "linecolor": "white",
            "showbackground": true,
            "ticks": "",
            "zerolinecolor": "white"
           }
          },
          "shapedefaults": {
           "line": {
            "color": "#2a3f5f"
           }
          },
          "ternary": {
           "aaxis": {
            "gridcolor": "white",
            "linecolor": "white",
            "ticks": ""
           },
           "baxis": {
            "gridcolor": "white",
            "linecolor": "white",
            "ticks": ""
           },
           "bgcolor": "#E5ECF6",
           "caxis": {
            "gridcolor": "white",
            "linecolor": "white",
            "ticks": ""
           }
          },
          "title": {
           "x": 0.05
          },
          "xaxis": {
           "automargin": true,
           "gridcolor": "white",
           "linecolor": "white",
           "ticks": "",
           "title": {
            "standoff": 15
           },
           "zerolinecolor": "white",
           "zerolinewidth": 2
          },
          "yaxis": {
           "automargin": true,
           "gridcolor": "white",
           "linecolor": "white",
           "ticks": "",
           "title": {
            "standoff": 15
           },
           "zerolinecolor": "white",
           "zerolinewidth": 2
          }
         }
        },
        "xaxis": {
         "anchor": "y",
         "domain": [
          0,
          1
         ],
         "title": {
          "text": "GDP"
         }
        },
        "yaxis": {
         "anchor": "x",
         "domain": [
          0,
          1
         ],
         "title": {
          "text": "GDPperCapita"
         }
        }
       }
      },
      "text/html": [
       "<div>                            <div id=\"f3375c27-e8fe-486f-b84b-3929b2427efa\" class=\"plotly-graph-div\" style=\"height:525px; width:100%;\"></div>            <script type=\"text/javascript\">                require([\"plotly\"], function(Plotly) {                    window.PLOTLYENV=window.PLOTLYENV || {};                                    if (document.getElementById(\"f3375c27-e8fe-486f-b84b-3929b2427efa\")) {                    Plotly.newPlot(                        \"f3375c27-e8fe-486f-b84b-3929b2427efa\",                        [{\"hovertemplate\":\"Entity=Brazil\\u003cbr\\u003eGDP=%{x}\\u003cbr\\u003eGDPperCapita=%{y}\\u003cbr\\u003ePopulation=%{marker.size}\\u003cextra\\u003e\\u003c\\u002fextra\\u003e\",\"legendgroup\":\"Brazil\",\"marker\":{\"color\":\"#636efa\",\"size\":[207834000.0],\"sizemode\":\"area\",\"sizeref\":3552554.88,\"symbol\":\"circle\"},\"mode\":\"markers\",\"name\":\"Brazil\",\"orientation\":\"v\",\"showlegend\":true,\"x\":[2278936372567.31],\"xaxis\":\"x\",\"y\":[10965.175921972874],\"yaxis\":\"y\",\"type\":\"scatter\"},{\"hovertemplate\":\"Entity=Canada\\u003cbr\\u003eGDP=%{x}\\u003cbr\\u003eGDPperCapita=%{y}\\u003cbr\\u003ePopulation=%{marker.size}\\u003cextra\\u003e\\u003c\\u002fextra\\u003e\",\"legendgroup\":\"Canada\",\"marker\":{\"color\":\"#EF553B\",\"size\":[36732000.0],\"sizemode\":\"area\",\"sizeref\":3552554.88,\"symbol\":\"circle\"},\"mode\":\"markers\",\"name\":\"Canada\",\"orientation\":\"v\",\"showlegend\":true,\"x\":[1883707911710.79],\"xaxis\":\"x\",\"y\":[51282.4760892625],\"yaxis\":\"y\",\"type\":\"scatter\"},{\"hovertemplate\":\"Entity=China\\u003cbr\\u003eGDP=%{x}\\u003cbr\\u003eGDPperCapita=%{y}\\u003cbr\\u003ePopulation=%{marker.size}\\u003cextra\\u003e\\u003c\\u002fextra\\u003e\",\"legendgroup\":\"China\",\"marker\":{\"color\":\"#00cc96\",\"size\":[1421021952.0],\"sizemode\":\"area\",\"sizeref\":3552554.88,\"symbol\":\"circle\"},\"mode\":\"markers\",\"name\":\"China\",\"orientation\":\"v\",\"showlegend\":true,\"x\":[10161012758870.3],\"xaxis\":\"x\",\"y\":[7150.496686254078],\"yaxis\":\"y\",\"type\":\"scatter\"},{\"hovertemplate\":\"Entity=France\\u003cbr\\u003eGDP=%{x}\\u003cbr\\u003eGDPperCapita=%{y}\\u003cbr\\u003ePopulation=%{marker.size}\\u003cextra\\u003e\\u003c\\u002fextra\\u003e\",\"legendgroup\":\"France\",\"marker\":{\"color\":\"#ab63fa\",\"size\":[64843000.0],\"sizemode\":\"area\",\"sizeref\":3552554.88,\"symbol\":\"circle\"},\"mode\":\"markers\",\"name\":\"France\",\"orientation\":\"v\",\"showlegend\":true,\"x\":[2857089402048.0],\"xaxis\":\"x\",\"y\":[44061.64739521614],\"yaxis\":\"y\",\"type\":\"scatter\"},{\"hovertemplate\":\"Entity=Germany\\u003cbr\\u003eGDP=%{x}\\u003cbr\\u003eGDPperCapita=%{y}\\u003cbr\\u003ePopulation=%{marker.size}\\u003cextra\\u003e\\u003c\\u002fextra\\u003e\",\"legendgroup\":\"Germany\",\"marker\":{\"color\":\"#FFA15A\",\"size\":[82658000.0],\"sizemode\":\"area\",\"sizeref\":3552554.88,\"symbol\":\"circle\"},\"mode\":\"markers\",\"name\":\"Germany\",\"orientation\":\"v\",\"showlegend\":true,\"x\":[3865759081373.6],\"xaxis\":\"x\",\"y\":[46768.11780316001],\"yaxis\":\"y\",\"type\":\"scatter\"},{\"hovertemplate\":\"Entity=India\\u003cbr\\u003eGDP=%{x}\\u003cbr\\u003eGDPperCapita=%{y}\\u003cbr\\u003ePopulation=%{marker.size}\\u003cextra\\u003e\\u003c\\u002fextra\\u003e\",\"legendgroup\":\"India\",\"marker\":{\"color\":\"#19d3f3\",\"size\":[1338676992.0],\"sizemode\":\"area\",\"sizeref\":3552554.88,\"symbol\":\"circle\"},\"mode\":\"markers\",\"name\":\"India\",\"orientation\":\"v\",\"showlegend\":true,\"x\":[2629542211700.51],\"xaxis\":\"x\",\"y\":[1964.284310117216],\"yaxis\":\"y\",\"type\":\"scatter\"},{\"hovertemplate\":\"Entity=Indonesia\\u003cbr\\u003eGDP=%{x}\\u003cbr\\u003eGDPperCapita=%{y}\\u003cbr\\u003ePopulation=%{marker.size}\\u003cextra\\u003e\\u003c\\u002fextra\\u003e\",\"legendgroup\":\"Indonesia\",\"marker\":{\"color\":\"#FF6692\",\"size\":[264651008.0],\"sizemode\":\"area\",\"sizeref\":3552554.88,\"symbol\":\"circle\"},\"mode\":\"markers\",\"name\":\"Indonesia\",\"orientation\":\"v\",\"showlegend\":true,\"x\":[1090459494378.56],\"xaxis\":\"x\",\"y\":[4120.367810496154],\"yaxis\":\"y\",\"type\":\"scatter\"},{\"hovertemplate\":\"Entity=Italy\\u003cbr\\u003eGDP=%{x}\\u003cbr\\u003eGDPperCapita=%{y}\\u003cbr\\u003ePopulation=%{marker.size}\\u003cextra\\u003e\\u003c\\u002fextra\\u003e\",\"legendgroup\":\"Italy\",\"marker\":{\"color\":\"#B6E880\",\"size\":[60674000.0],\"sizemode\":\"area\",\"sizeref\":3552554.88,\"symbol\":\"circle\"},\"mode\":\"markers\",\"name\":\"Italy\",\"orientation\":\"v\",\"showlegend\":true,\"x\":[2111901941464.1],\"xaxis\":\"x\",\"y\":[34807.36298025678],\"yaxis\":\"y\",\"type\":\"scatter\"},{\"hovertemplate\":\"Entity=Japan\\u003cbr\\u003eGDP=%{x}\\u003cbr\\u003eGDPperCapita=%{y}\\u003cbr\\u003ePopulation=%{marker.size}\\u003cextra\\u003e\\u003c\\u002fextra\\u003e\",\"legendgroup\":\"Japan\",\"marker\":{\"color\":\"#FF97FF\",\"size\":[127503000.0],\"sizemode\":\"area\",\"sizeref\":3552554.88,\"symbol\":\"circle\"},\"mode\":\"markers\",\"name\":\"Japan\",\"orientation\":\"v\",\"showlegend\":true,\"x\":[6156328720578.61],\"xaxis\":\"x\",\"y\":[48283.79505249767],\"yaxis\":\"y\",\"type\":\"scatter\"},{\"hovertemplate\":\"Entity=Russia\\u003cbr\\u003eGDP=%{x}\\u003cbr\\u003eGDPperCapita=%{y}\\u003cbr\\u003ePopulation=%{marker.size}\\u003cextra\\u003e\\u003c\\u002fextra\\u003e\",\"legendgroup\":\"Russia\",\"marker\":{\"color\":\"#FECB52\",\"size\":[145530000.0],\"sizemode\":\"area\",\"sizeref\":3552554.88,\"symbol\":\"circle\"},\"mode\":\"markers\",\"name\":\"Russia\",\"orientation\":\"v\",\"showlegend\":true,\"x\":[1680005299557.78],\"xaxis\":\"x\",\"y\":[11544.047959580705],\"yaxis\":\"y\",\"type\":\"scatter\"},{\"hovertemplate\":\"Entity=Spain\\u003cbr\\u003eGDP=%{x}\\u003cbr\\u003eGDPperCapita=%{y}\\u003cbr\\u003ePopulation=%{marker.size}\\u003cextra\\u003e\\u003c\\u002fextra\\u003e\",\"legendgroup\":\"Spain\",\"marker\":{\"color\":\"#636efa\",\"size\":[46647000.0],\"sizemode\":\"area\",\"sizeref\":3552554.88,\"symbol\":\"circle\"},\"mode\":\"markers\",\"name\":\"Spain\",\"orientation\":\"v\",\"showlegend\":true,\"x\":[1509201534288.7],\"xaxis\":\"x\",\"y\":[32353.667637547966],\"yaxis\":\"y\",\"type\":\"scatter\"},{\"hovertemplate\":\"Entity=United Kingdom\\u003cbr\\u003eGDP=%{x}\\u003cbr\\u003eGDPperCapita=%{y}\\u003cbr\\u003ePopulation=%{marker.size}\\u003cextra\\u003e\\u003c\\u002fextra\\u003e\",\"legendgroup\":\"United Kingdom\",\"marker\":{\"color\":\"#EF553B\",\"size\":[66727000.0],\"sizemode\":\"area\",\"sizeref\":3552554.88,\"symbol\":\"circle\"},\"mode\":\"markers\",\"name\":\"United Kingdom\",\"orientation\":\"v\",\"showlegend\":true,\"x\":[2806903096896.07],\"xaxis\":\"x\",\"y\":[42065.47719657815],\"yaxis\":\"y\",\"type\":\"scatter\"},{\"hovertemplate\":\"Entity=United States\\u003cbr\\u003eGDP=%{x}\\u003cbr\\u003eGDPperCapita=%{y}\\u003cbr\\u003ePopulation=%{marker.size}\\u003cextra\\u003e\\u003c\\u002fextra\\u003e\",\"legendgroup\":\"United States\",\"marker\":{\"color\":\"#00cc96\",\"size\":[325084992.0],\"sizemode\":\"area\",\"sizeref\":3552554.88,\"symbol\":\"circle\"},\"mode\":\"markers\",\"name\":\"United States\",\"orientation\":\"v\",\"showlegend\":true,\"x\":[17304984279400.0],\"xaxis\":\"x\",\"y\":[53232.18452176347],\"yaxis\":\"y\",\"type\":\"scatter\"}],                        {\"template\":{\"data\":{\"histogram2dcontour\":[{\"type\":\"histogram2dcontour\",\"colorbar\":{\"outlinewidth\":0,\"ticks\":\"\"},\"colorscale\":[[0.0,\"#0d0887\"],[0.1111111111111111,\"#46039f\"],[0.2222222222222222,\"#7201a8\"],[0.3333333333333333,\"#9c179e\"],[0.4444444444444444,\"#bd3786\"],[0.5555555555555556,\"#d8576b\"],[0.6666666666666666,\"#ed7953\"],[0.7777777777777778,\"#fb9f3a\"],[0.8888888888888888,\"#fdca26\"],[1.0,\"#f0f921\"]]}],\"choropleth\":[{\"type\":\"choropleth\",\"colorbar\":{\"outlinewidth\":0,\"ticks\":\"\"}}],\"histogram2d\":[{\"type\":\"histogram2d\",\"colorbar\":{\"outlinewidth\":0,\"ticks\":\"\"},\"colorscale\":[[0.0,\"#0d0887\"],[0.1111111111111111,\"#46039f\"],[0.2222222222222222,\"#7201a8\"],[0.3333333333333333,\"#9c179e\"],[0.4444444444444444,\"#bd3786\"],[0.5555555555555556,\"#d8576b\"],[0.6666666666666666,\"#ed7953\"],[0.7777777777777778,\"#fb9f3a\"],[0.8888888888888888,\"#fdca26\"],[1.0,\"#f0f921\"]]}],\"heatmap\":[{\"type\":\"heatmap\",\"colorbar\":{\"outlinewidth\":0,\"ticks\":\"\"},\"colorscale\":[[0.0,\"#0d0887\"],[0.1111111111111111,\"#46039f\"],[0.2222222222222222,\"#7201a8\"],[0.3333333333333333,\"#9c179e\"],[0.4444444444444444,\"#bd3786\"],[0.5555555555555556,\"#d8576b\"],[0.6666666666666666,\"#ed7953\"],[0.7777777777777778,\"#fb9f3a\"],[0.8888888888888888,\"#fdca26\"],[1.0,\"#f0f921\"]]}],\"heatmapgl\":[{\"type\":\"heatmapgl\",\"colorbar\":{\"outlinewidth\":0,\"ticks\":\"\"},\"colorscale\":[[0.0,\"#0d0887\"],[0.1111111111111111,\"#46039f\"],[0.2222222222222222,\"#7201a8\"],[0.3333333333333333,\"#9c179e\"],[0.4444444444444444,\"#bd3786\"],[0.5555555555555556,\"#d8576b\"],[0.6666666666666666,\"#ed7953\"],[0.7777777777777778,\"#fb9f3a\"],[0.8888888888888888,\"#fdca26\"],[1.0,\"#f0f921\"]]}],\"contourcarpet\":[{\"type\":\"contourcarpet\",\"colorbar\":{\"outlinewidth\":0,\"ticks\":\"\"}}],\"contour\":[{\"type\":\"contour\",\"colorbar\":{\"outlinewidth\":0,\"ticks\":\"\"},\"colorscale\":[[0.0,\"#0d0887\"],[0.1111111111111111,\"#46039f\"],[0.2222222222222222,\"#7201a8\"],[0.3333333333333333,\"#9c179e\"],[0.4444444444444444,\"#bd3786\"],[0.5555555555555556,\"#d8576b\"],[0.6666666666666666,\"#ed7953\"],[0.7777777777777778,\"#fb9f3a\"],[0.8888888888888888,\"#fdca26\"],[1.0,\"#f0f921\"]]}],\"surface\":[{\"type\":\"surface\",\"colorbar\":{\"outlinewidth\":0,\"ticks\":\"\"},\"colorscale\":[[0.0,\"#0d0887\"],[0.1111111111111111,\"#46039f\"],[0.2222222222222222,\"#7201a8\"],[0.3333333333333333,\"#9c179e\"],[0.4444444444444444,\"#bd3786\"],[0.5555555555555556,\"#d8576b\"],[0.6666666666666666,\"#ed7953\"],[0.7777777777777778,\"#fb9f3a\"],[0.8888888888888888,\"#fdca26\"],[1.0,\"#f0f921\"]]}],\"mesh3d\":[{\"type\":\"mesh3d\",\"colorbar\":{\"outlinewidth\":0,\"ticks\":\"\"}}],\"scatter\":[{\"fillpattern\":{\"fillmode\":\"overlay\",\"size\":10,\"solidity\":0.2},\"type\":\"scatter\"}],\"parcoords\":[{\"type\":\"parcoords\",\"line\":{\"colorbar\":{\"outlinewidth\":0,\"ticks\":\"\"}}}],\"scatterpolargl\":[{\"type\":\"scatterpolargl\",\"marker\":{\"colorbar\":{\"outlinewidth\":0,\"ticks\":\"\"}}}],\"bar\":[{\"error_x\":{\"color\":\"#2a3f5f\"},\"error_y\":{\"color\":\"#2a3f5f\"},\"marker\":{\"line\":{\"color\":\"#E5ECF6\",\"width\":0.5},\"pattern\":{\"fillmode\":\"overlay\",\"size\":10,\"solidity\":0.2}},\"type\":\"bar\"}],\"scattergeo\":[{\"type\":\"scattergeo\",\"marker\":{\"colorbar\":{\"outlinewidth\":0,\"ticks\":\"\"}}}],\"scatterpolar\":[{\"type\":\"scatterpolar\",\"marker\":{\"colorbar\":{\"outlinewidth\":0,\"ticks\":\"\"}}}],\"histogram\":[{\"marker\":{\"pattern\":{\"fillmode\":\"overlay\",\"size\":10,\"solidity\":0.2}},\"type\":\"histogram\"}],\"scattergl\":[{\"type\":\"scattergl\",\"marker\":{\"colorbar\":{\"outlinewidth\":0,\"ticks\":\"\"}}}],\"scatter3d\":[{\"type\":\"scatter3d\",\"line\":{\"colorbar\":{\"outlinewidth\":0,\"ticks\":\"\"}},\"marker\":{\"colorbar\":{\"outlinewidth\":0,\"ticks\":\"\"}}}],\"scattermapbox\":[{\"type\":\"scattermapbox\",\"marker\":{\"colorbar\":{\"outlinewidth\":0,\"ticks\":\"\"}}}],\"scatterternary\":[{\"type\":\"scatterternary\",\"marker\":{\"colorbar\":{\"outlinewidth\":0,\"ticks\":\"\"}}}],\"scattercarpet\":[{\"type\":\"scattercarpet\",\"marker\":{\"colorbar\":{\"outlinewidth\":0,\"ticks\":\"\"}}}],\"carpet\":[{\"aaxis\":{\"endlinecolor\":\"#2a3f5f\",\"gridcolor\":\"white\",\"linecolor\":\"white\",\"minorgridcolor\":\"white\",\"startlinecolor\":\"#2a3f5f\"},\"baxis\":{\"endlinecolor\":\"#2a3f5f\",\"gridcolor\":\"white\",\"linecolor\":\"white\",\"minorgridcolor\":\"white\",\"startlinecolor\":\"#2a3f5f\"},\"type\":\"carpet\"}],\"table\":[{\"cells\":{\"fill\":{\"color\":\"#EBF0F8\"},\"line\":{\"color\":\"white\"}},\"header\":{\"fill\":{\"color\":\"#C8D4E3\"},\"line\":{\"color\":\"white\"}},\"type\":\"table\"}],\"barpolar\":[{\"marker\":{\"line\":{\"color\":\"#E5ECF6\",\"width\":0.5},\"pattern\":{\"fillmode\":\"overlay\",\"size\":10,\"solidity\":0.2}},\"type\":\"barpolar\"}],\"pie\":[{\"automargin\":true,\"type\":\"pie\"}]},\"layout\":{\"autotypenumbers\":\"strict\",\"colorway\":[\"#636efa\",\"#EF553B\",\"#00cc96\",\"#ab63fa\",\"#FFA15A\",\"#19d3f3\",\"#FF6692\",\"#B6E880\",\"#FF97FF\",\"#FECB52\"],\"font\":{\"color\":\"#2a3f5f\"},\"hovermode\":\"closest\",\"hoverlabel\":{\"align\":\"left\"},\"paper_bgcolor\":\"white\",\"plot_bgcolor\":\"#E5ECF6\",\"polar\":{\"bgcolor\":\"#E5ECF6\",\"angularaxis\":{\"gridcolor\":\"white\",\"linecolor\":\"white\",\"ticks\":\"\"},\"radialaxis\":{\"gridcolor\":\"white\",\"linecolor\":\"white\",\"ticks\":\"\"}},\"ternary\":{\"bgcolor\":\"#E5ECF6\",\"aaxis\":{\"gridcolor\":\"white\",\"linecolor\":\"white\",\"ticks\":\"\"},\"baxis\":{\"gridcolor\":\"white\",\"linecolor\":\"white\",\"ticks\":\"\"},\"caxis\":{\"gridcolor\":\"white\",\"linecolor\":\"white\",\"ticks\":\"\"}},\"coloraxis\":{\"colorbar\":{\"outlinewidth\":0,\"ticks\":\"\"}},\"colorscale\":{\"sequential\":[[0.0,\"#0d0887\"],[0.1111111111111111,\"#46039f\"],[0.2222222222222222,\"#7201a8\"],[0.3333333333333333,\"#9c179e\"],[0.4444444444444444,\"#bd3786\"],[0.5555555555555556,\"#d8576b\"],[0.6666666666666666,\"#ed7953\"],[0.7777777777777778,\"#fb9f3a\"],[0.8888888888888888,\"#fdca26\"],[1.0,\"#f0f921\"]],\"sequentialminus\":[[0.0,\"#0d0887\"],[0.1111111111111111,\"#46039f\"],[0.2222222222222222,\"#7201a8\"],[0.3333333333333333,\"#9c179e\"],[0.4444444444444444,\"#bd3786\"],[0.5555555555555556,\"#d8576b\"],[0.6666666666666666,\"#ed7953\"],[0.7777777777777778,\"#fb9f3a\"],[0.8888888888888888,\"#fdca26\"],[1.0,\"#f0f921\"]],\"diverging\":[[0,\"#8e0152\"],[0.1,\"#c51b7d\"],[0.2,\"#de77ae\"],[0.3,\"#f1b6da\"],[0.4,\"#fde0ef\"],[0.5,\"#f7f7f7\"],[0.6,\"#e6f5d0\"],[0.7,\"#b8e186\"],[0.8,\"#7fbc41\"],[0.9,\"#4d9221\"],[1,\"#276419\"]]},\"xaxis\":{\"gridcolor\":\"white\",\"linecolor\":\"white\",\"ticks\":\"\",\"title\":{\"standoff\":15},\"zerolinecolor\":\"white\",\"automargin\":true,\"zerolinewidth\":2},\"yaxis\":{\"gridcolor\":\"white\",\"linecolor\":\"white\",\"ticks\":\"\",\"title\":{\"standoff\":15},\"zerolinecolor\":\"white\",\"automargin\":true,\"zerolinewidth\":2},\"scene\":{\"xaxis\":{\"backgroundcolor\":\"#E5ECF6\",\"gridcolor\":\"white\",\"linecolor\":\"white\",\"showbackground\":true,\"ticks\":\"\",\"zerolinecolor\":\"white\",\"gridwidth\":2},\"yaxis\":{\"backgroundcolor\":\"#E5ECF6\",\"gridcolor\":\"white\",\"linecolor\":\"white\",\"showbackground\":true,\"ticks\":\"\",\"zerolinecolor\":\"white\",\"gridwidth\":2},\"zaxis\":{\"backgroundcolor\":\"#E5ECF6\",\"gridcolor\":\"white\",\"linecolor\":\"white\",\"showbackground\":true,\"ticks\":\"\",\"zerolinecolor\":\"white\",\"gridwidth\":2}},\"shapedefaults\":{\"line\":{\"color\":\"#2a3f5f\"}},\"annotationdefaults\":{\"arrowcolor\":\"#2a3f5f\",\"arrowhead\":0,\"arrowwidth\":1},\"geo\":{\"bgcolor\":\"white\",\"landcolor\":\"#E5ECF6\",\"subunitcolor\":\"white\",\"showland\":true,\"showlakes\":true,\"lakecolor\":\"white\"},\"title\":{\"x\":0.05},\"mapbox\":{\"style\":\"light\"}}},\"xaxis\":{\"anchor\":\"y\",\"domain\":[0.0,1.0],\"title\":{\"text\":\"GDP\"}},\"yaxis\":{\"anchor\":\"x\",\"domain\":[0.0,1.0],\"title\":{\"text\":\"GDPperCapita\"}},\"legend\":{\"title\":{\"text\":\"Entity\"},\"tracegroupgap\":0,\"itemsizing\":\"constant\"},\"margin\":{\"t\":60}},                        {\"responsive\": true}                    ).then(function(){\n",
       "                            \n",
       "var gd = document.getElementById('f3375c27-e8fe-486f-b84b-3929b2427efa');\n",
       "var x = new MutationObserver(function (mutations, observer) {{\n",
       "        var display = window.getComputedStyle(gd).display;\n",
       "        if (!display || display === 'none') {{\n",
       "            console.log([gd, 'removed!']);\n",
       "            Plotly.purge(gd);\n",
       "            observer.disconnect();\n",
       "        }}\n",
       "}});\n",
       "\n",
       "// Listen for the removal of the full notebook cells\n",
       "var notebookContainer = gd.closest('#notebook-container');\n",
       "if (notebookContainer) {{\n",
       "    x.observe(notebookContainer, {childList: true});\n",
       "}}\n",
       "\n",
       "// Listen for the clearing of the current output cell\n",
       "var outputEl = gd.closest('.output');\n",
       "if (outputEl) {{\n",
       "    x.observe(outputEl, {childList: true});\n",
       "}}\n",
       "\n",
       "                        })                };                });            </script>        </div>"
      ]
     },
     "metadata": {},
     "output_type": "display_data"
    }
   ],
   "source": [
    "px.scatter(gdp_and_pop.query('Entity in @C & Year == 2017'), x = \"GDP\", y = \"GDPperCapita\", color = \"Entity\", size ='Population')"
   ]
  },
  {
   "cell_type": "code",
   "execution_count": 114,
   "metadata": {},
   "outputs": [
    {
     "name": "stdout",
     "output_type": "stream",
     "text": [
      "<class 'pandas.core.frame.DataFrame'>\n",
      "RangeIndex: 18445 entries, 0 to 18444\n",
      "Data columns (total 3 columns):\n",
      " #   Column           Non-Null Count  Dtype  \n",
      "---  ------           --------------  -----  \n",
      " 0   Entity           18445 non-null  object \n",
      " 1   Year             18445 non-null  int64  \n",
      " 2   Life expectancy  18445 non-null  float64\n",
      "dtypes: float64(1), int64(1), object(1)\n",
      "memory usage: 432.4+ KB\n"
     ]
    }
   ],
   "source": [
    "#Life Expectancy Table\n",
    "\n",
    "life_exp = pd.read_csv(myfolder / \"life_expectancy.csv\")\n",
    "\n",
    "life_exp = life_exp.drop(['Code'], axis=1, errors='ignore')\n",
    "\n",
    "life_exp.info()                 "
   ]
  },
  {
   "cell_type": "code",
   "execution_count": 115,
   "metadata": {},
   "outputs": [
    {
     "data": {
      "text/html": [
       "<div>\n",
       "<style scoped>\n",
       "    .dataframe tbody tr th:only-of-type {\n",
       "        vertical-align: middle;\n",
       "    }\n",
       "\n",
       "    .dataframe tbody tr th {\n",
       "        vertical-align: top;\n",
       "    }\n",
       "\n",
       "    .dataframe thead th {\n",
       "        text-align: right;\n",
       "    }\n",
       "</style>\n",
       "<table border=\"1\" class=\"dataframe\">\n",
       "  <thead>\n",
       "    <tr style=\"text-align: right;\">\n",
       "      <th></th>\n",
       "      <th>Entity</th>\n",
       "      <th>Year</th>\n",
       "      <th>Life expectancy</th>\n",
       "    </tr>\n",
       "  </thead>\n",
       "  <tbody>\n",
       "    <tr>\n",
       "      <th>0</th>\n",
       "      <td>Afghanistan</td>\n",
       "      <td>1950</td>\n",
       "      <td>27.638</td>\n",
       "    </tr>\n",
       "    <tr>\n",
       "      <th>1</th>\n",
       "      <td>Afghanistan</td>\n",
       "      <td>1951</td>\n",
       "      <td>27.878</td>\n",
       "    </tr>\n",
       "    <tr>\n",
       "      <th>2</th>\n",
       "      <td>Afghanistan</td>\n",
       "      <td>1952</td>\n",
       "      <td>28.361</td>\n",
       "    </tr>\n",
       "    <tr>\n",
       "      <th>3</th>\n",
       "      <td>Afghanistan</td>\n",
       "      <td>1953</td>\n",
       "      <td>28.852</td>\n",
       "    </tr>\n",
       "    <tr>\n",
       "      <th>4</th>\n",
       "      <td>Afghanistan</td>\n",
       "      <td>1954</td>\n",
       "      <td>29.350</td>\n",
       "    </tr>\n",
       "  </tbody>\n",
       "</table>\n",
       "</div>"
      ],
      "text/plain": [
       "        Entity  Year  Life expectancy\n",
       "0  Afghanistan  1950           27.638\n",
       "1  Afghanistan  1951           27.878\n",
       "2  Afghanistan  1952           28.361\n",
       "3  Afghanistan  1953           28.852\n",
       "4  Afghanistan  1954           29.350"
      ]
     },
     "execution_count": 115,
     "metadata": {},
     "output_type": "execute_result"
    }
   ],
   "source": [
    "life_exp.head()"
   ]
  },
  {
   "cell_type": "code",
   "execution_count": 124,
   "metadata": {},
   "outputs": [
    {
     "data": {
      "text/html": [
       "<div>\n",
       "<style scoped>\n",
       "    .dataframe tbody tr th:only-of-type {\n",
       "        vertical-align: middle;\n",
       "    }\n",
       "\n",
       "    .dataframe tbody tr th {\n",
       "        vertical-align: top;\n",
       "    }\n",
       "\n",
       "    .dataframe thead th {\n",
       "        text-align: right;\n",
       "    }\n",
       "</style>\n",
       "<table border=\"1\" class=\"dataframe\">\n",
       "  <thead>\n",
       "    <tr style=\"text-align: right;\">\n",
       "      <th></th>\n",
       "      <th>Entity</th>\n",
       "      <th>Year</th>\n",
       "      <th>GDP</th>\n",
       "      <th>Population</th>\n",
       "      <th>GDPperCapita</th>\n",
       "      <th>Life expectancy</th>\n",
       "    </tr>\n",
       "  </thead>\n",
       "  <tbody>\n",
       "    <tr>\n",
       "      <th>0</th>\n",
       "      <td>Afghanistan</td>\n",
       "      <td>2002</td>\n",
       "      <td>8.013233e+09</td>\n",
       "      <td>22601000.0</td>\n",
       "      <td>354.552149</td>\n",
       "      <td>56.784</td>\n",
       "    </tr>\n",
       "    <tr>\n",
       "      <th>1</th>\n",
       "      <td>Afghanistan</td>\n",
       "      <td>2003</td>\n",
       "      <td>8.689884e+09</td>\n",
       "      <td>23681000.0</td>\n",
       "      <td>366.955940</td>\n",
       "      <td>57.271</td>\n",
       "    </tr>\n",
       "    <tr>\n",
       "      <th>2</th>\n",
       "      <td>Afghanistan</td>\n",
       "      <td>2004</td>\n",
       "      <td>8.781610e+09</td>\n",
       "      <td>24727000.0</td>\n",
       "      <td>355.142564</td>\n",
       "      <td>57.772</td>\n",
       "    </tr>\n",
       "    <tr>\n",
       "      <th>3</th>\n",
       "      <td>Afghanistan</td>\n",
       "      <td>2005</td>\n",
       "      <td>9.762979e+09</td>\n",
       "      <td>25654000.0</td>\n",
       "      <td>380.563610</td>\n",
       "      <td>58.290</td>\n",
       "    </tr>\n",
       "    <tr>\n",
       "      <th>4</th>\n",
       "      <td>Afghanistan</td>\n",
       "      <td>2006</td>\n",
       "      <td>1.030523e+10</td>\n",
       "      <td>26433000.0</td>\n",
       "      <td>389.862222</td>\n",
       "      <td>58.826</td>\n",
       "    </tr>\n",
       "  </tbody>\n",
       "</table>\n",
       "</div>"
      ],
      "text/plain": [
       "        Entity  Year           GDP  Population  GDPperCapita  Life expectancy\n",
       "0  Afghanistan  2002  8.013233e+09  22601000.0    354.552149           56.784\n",
       "1  Afghanistan  2003  8.689884e+09  23681000.0    366.955940           57.271\n",
       "2  Afghanistan  2004  8.781610e+09  24727000.0    355.142564           57.772\n",
       "3  Afghanistan  2005  9.762979e+09  25654000.0    380.563610           58.290\n",
       "4  Afghanistan  2006  1.030523e+10  26433000.0    389.862222           58.826"
      ]
     },
     "execution_count": 124,
     "metadata": {},
     "output_type": "execute_result"
    }
   ],
   "source": [
    "# Merge life exp table to gdp_and_pop table\n",
    "\n",
    "gdp_and_pop_lifeexp = pd.merge(gdp_and_pop, life_exp, how='left', on=['Entity' , 'Year'])\n",
    "\n",
    "gdp_and_pop_lifeexp.head()"
   ]
  },
  {
   "cell_type": "code",
   "execution_count": 112,
   "metadata": {},
   "outputs": [
    {
     "data": {
      "application/vnd.plotly.v1+json": {
       "config": {
        "plotlyServerURL": "https://plot.ly"
       },
       "data": [
        {
         "hovertemplate": "Entity=Afghanistan<br>GDPperCapita=%{x}<br>Life expectancy=%{y}<extra></extra>",
         "legendgroup": "Afghanistan",
         "marker": {
          "color": "#636efa",
          "symbol": "circle"
         },
         "mode": "markers",
         "name": "Afghanistan",
         "orientation": "v",
         "showlegend": true,
         "type": "scatter",
         "x": [
          605.2847176666327
         ],
         "xaxis": "x",
         "y": [
          64.13
         ],
         "yaxis": "y"
        },
        {
         "hovertemplate": "Entity=Albania<br>GDPperCapita=%{x}<br>Life expectancy=%{y}<extra></extra>",
         "legendgroup": "Albania",
         "marker": {
          "color": "#EF553B",
          "symbol": "circle"
         },
         "mode": "markers",
         "name": "Albania",
         "orientation": "v",
         "showlegend": true,
         "type": "scatter",
         "x": [
          4850.400742998023
         ],
         "xaxis": "x",
         "y": [
          78.333
         ],
         "yaxis": "y"
        },
        {
         "hovertemplate": "Entity=Algeria<br>GDPperCapita=%{x}<br>Life expectancy=%{y}<extra></extra>",
         "legendgroup": "Algeria",
         "marker": {
          "color": "#00cc96",
          "symbol": "circle"
         },
         "mode": "markers",
         "name": "Algeria",
         "orientation": "v",
         "showlegend": true,
         "type": "scatter",
         "x": [
          4816.917875943996
         ],
         "xaxis": "x",
         "y": [
          76.499
         ],
         "yaxis": "y"
        },
        {
         "hovertemplate": "Entity=Andorra<br>GDPperCapita=%{x}<br>Life expectancy=%{y}<extra></extra>",
         "legendgroup": "Andorra",
         "marker": {
          "color": "#ab63fa",
          "symbol": "circle"
         },
         "mode": "markers",
         "name": "Andorra",
         "orientation": "v",
         "showlegend": true,
         "type": "scatter",
         "x": [
          43922.96412369883
         ],
         "xaxis": "x",
         "y": [
          83.443
         ],
         "yaxis": "y"
        },
        {
         "hovertemplate": "Entity=Angola<br>GDPperCapita=%{x}<br>Life expectancy=%{y}<extra></extra>",
         "legendgroup": "Angola",
         "marker": {
          "color": "#FFA15A",
          "symbol": "circle"
         },
         "mode": "markers",
         "name": "Angola",
         "orientation": "v",
         "showlegend": true,
         "type": "scatter",
         "x": [
          3480.765485461146
         ],
         "xaxis": "x",
         "y": [
          60.379
         ],
         "yaxis": "y"
        },
        {
         "hovertemplate": "Entity=Antigua and Barbuda<br>GDPperCapita=%{x}<br>Life expectancy=%{y}<extra></extra>",
         "legendgroup": "Antigua and Barbuda",
         "marker": {
          "color": "#19d3f3",
          "symbol": "circle"
         },
         "mode": "markers",
         "name": "Antigua and Barbuda",
         "orientation": "v",
         "showlegend": true,
         "type": "scatter",
         "x": [
          14623.537998553686
         ],
         "xaxis": "x",
         "y": [
          76.752
         ],
         "yaxis": "y"
        },
        {
         "hovertemplate": "Entity=Argentina<br>GDPperCapita=%{x}<br>Life expectancy=%{y}<extra></extra>",
         "legendgroup": "Argentina",
         "marker": {
          "color": "#FF6692",
          "symbol": "circle"
         },
         "mode": "markers",
         "name": "Argentina",
         "orientation": "v",
         "showlegend": true,
         "type": "scatter",
         "x": [
          10477.146319354326
         ],
         "xaxis": "x",
         "y": [
          76.372
         ],
         "yaxis": "y"
        },
        {
         "hovertemplate": "Entity=Armenia<br>GDPperCapita=%{x}<br>Life expectancy=%{y}<extra></extra>",
         "legendgroup": "Armenia",
         "marker": {
          "color": "#B6E880",
          "symbol": "circle"
         },
         "mode": "markers",
         "name": "Armenia",
         "orientation": "v",
         "showlegend": true,
         "type": "scatter",
         "x": [
          4198.5224330963665
         ],
         "xaxis": "x",
         "y": [
          74.797
         ],
         "yaxis": "y"
        },
        {
         "hovertemplate": "Entity=Australia<br>GDPperCapita=%{x}<br>Life expectancy=%{y}<extra></extra>",
         "legendgroup": "Australia",
         "marker": {
          "color": "#FF97FF",
          "symbol": "circle"
         },
         "mode": "markers",
         "name": "Australia",
         "orientation": "v",
         "showlegend": true,
         "type": "scatter",
         "x": [
          55957.626590364045
         ],
         "xaxis": "x",
         "y": [
          83.122
         ],
         "yaxis": "y"
        },
        {
         "hovertemplate": "Entity=Austria<br>GDPperCapita=%{x}<br>Life expectancy=%{y}<extra></extra>",
         "legendgroup": "Austria",
         "marker": {
          "color": "#FECB52",
          "symbol": "circle"
         },
         "mode": "markers",
         "name": "Austria",
         "orientation": "v",
         "showlegend": true,
         "type": "scatter",
         "x": [
          49069.142261829365
         ],
         "xaxis": "x",
         "y": [
          81.34
         ],
         "yaxis": "y"
        },
        {
         "hovertemplate": "Entity=Azerbaijan<br>GDPperCapita=%{x}<br>Life expectancy=%{y}<extra></extra>",
         "legendgroup": "Azerbaijan",
         "marker": {
          "color": "#636efa",
          "symbol": "circle"
         },
         "mode": "markers",
         "name": "Azerbaijan",
         "orientation": "v",
         "showlegend": true,
         "type": "scatter",
         "x": [
          5815.411598467506
         ],
         "xaxis": "x",
         "y": [
          72.693
         ],
         "yaxis": "y"
        },
        {
         "hovertemplate": "Entity=Bahamas<br>GDPperCapita=%{x}<br>Life expectancy=%{y}<extra></extra>",
         "legendgroup": "Bahamas",
         "marker": {
          "color": "#EF553B",
          "symbol": "circle"
         },
         "mode": "markers",
         "name": "Bahamas",
         "orientation": "v",
         "showlegend": true,
         "type": "scatter",
         "x": [
          27467.183467529583
         ],
         "xaxis": "x",
         "y": [
          73.554
         ],
         "yaxis": "y"
        },
        {
         "hovertemplate": "Entity=Bahrain<br>GDPperCapita=%{x}<br>Life expectancy=%{y}<extra></extra>",
         "legendgroup": "Bahrain",
         "marker": {
          "color": "#00cc96",
          "symbol": "circle"
         },
         "mode": "markers",
         "name": "Bahrain",
         "orientation": "v",
         "showlegend": true,
         "type": "scatter",
         "x": [
          22090.520174494846
         ],
         "xaxis": "x",
         "y": [
          77.032
         ],
         "yaxis": "y"
        },
        {
         "hovertemplate": "Entity=Bangladesh<br>GDPperCapita=%{x}<br>Life expectancy=%{y}<extra></extra>",
         "legendgroup": "Bangladesh",
         "marker": {
          "color": "#ab63fa",
          "symbol": "circle"
         },
         "mode": "markers",
         "name": "Bangladesh",
         "orientation": "v",
         "showlegend": true,
         "type": "scatter",
         "x": [
          1127.1701207960982
         ],
         "xaxis": "x",
         "y": [
          72.052
         ],
         "yaxis": "y"
        },
        {
         "hovertemplate": "Entity=Barbados<br>GDPperCapita=%{x}<br>Life expectancy=%{y}<extra></extra>",
         "legendgroup": "Barbados",
         "marker": {
          "color": "#FFA15A",
          "symbol": "circle"
         },
         "mode": "markers",
         "name": "Barbados",
         "orientation": "v",
         "showlegend": true,
         "type": "scatter",
         "x": [
          16487.26340206451
         ],
         "xaxis": "x",
         "y": [
          78.981
         ],
         "yaxis": "y"
        },
        {
         "hovertemplate": "Entity=Belarus<br>GDPperCapita=%{x}<br>Life expectancy=%{y}<extra></extra>",
         "legendgroup": "Belarus",
         "marker": {
          "color": "#19d3f3",
          "symbol": "circle"
         },
         "mode": "markers",
         "name": "Belarus",
         "orientation": "v",
         "showlegend": true,
         "type": "scatter",
         "x": [
          6414.86495398254
         ],
         "xaxis": "x",
         "y": [
          74.34
         ],
         "yaxis": "y"
        },
        {
         "hovertemplate": "Entity=Belgium<br>GDPperCapita=%{x}<br>Life expectancy=%{y}<extra></extra>",
         "legendgroup": "Belgium",
         "marker": {
          "color": "#FF6692",
          "symbol": "circle"
         },
         "mode": "markers",
         "name": "Belgium",
         "orientation": "v",
         "showlegend": true,
         "type": "scatter",
         "x": [
          45885.52670298003
         ],
         "xaxis": "x",
         "y": [
          81.305
         ],
         "yaxis": "y"
        },
        {
         "hovertemplate": "Entity=Belize<br>GDPperCapita=%{x}<br>Life expectancy=%{y}<extra></extra>",
         "legendgroup": "Belize",
         "marker": {
          "color": "#B6E880",
          "symbol": "circle"
         },
         "mode": "markers",
         "name": "Belize",
         "orientation": "v",
         "showlegend": true,
         "type": "scatter",
         "x": [
          4300.087271401622
         ],
         "xaxis": "x",
         "y": [
          74.365
         ],
         "yaxis": "y"
        },
        {
         "hovertemplate": "Entity=Benin<br>GDPperCapita=%{x}<br>Life expectancy=%{y}<extra></extra>",
         "legendgroup": "Benin",
         "marker": {
          "color": "#FF97FF",
          "symbol": "circle"
         },
         "mode": "markers",
         "name": "Benin",
         "orientation": "v",
         "showlegend": true,
         "type": "scatter",
         "x": [
          860.0059374439847
         ],
         "xaxis": "x",
         "y": [
          61.174
         ],
         "yaxis": "y"
        },
        {
         "hovertemplate": "Entity=Bhutan<br>GDPperCapita=%{x}<br>Life expectancy=%{y}<extra></extra>",
         "legendgroup": "Bhutan",
         "marker": {
          "color": "#FECB52",
          "symbol": "circle"
         },
         "mode": "markers",
         "name": "Bhutan",
         "orientation": "v",
         "showlegend": true,
         "type": "scatter",
         "x": [
          3199.9230745861664
         ],
         "xaxis": "x",
         "y": [
          71.129
         ],
         "yaxis": "y"
        },
        {
         "hovertemplate": "Entity=Bolivia<br>GDPperCapita=%{x}<br>Life expectancy=%{y}<extra></extra>",
         "legendgroup": "Bolivia",
         "marker": {
          "color": "#636efa",
          "symbol": "circle"
         },
         "mode": "markers",
         "name": "Bolivia",
         "orientation": "v",
         "showlegend": true,
         "type": "scatter",
         "x": [
          2490.9237281358346
         ],
         "xaxis": "x",
         "y": [
          70.945
         ],
         "yaxis": "y"
        },
        {
         "hovertemplate": "Entity=Bosnia and Herzegovina<br>GDPperCapita=%{x}<br>Life expectancy=%{y}<extra></extra>",
         "legendgroup": "Bosnia and Herzegovina",
         "marker": {
          "color": "#EF553B",
          "symbol": "circle"
         },
         "mode": "markers",
         "name": "Bosnia and Herzegovina",
         "orientation": "v",
         "showlegend": true,
         "type": "scatter",
         "x": [
          5818.475950940721
         ],
         "xaxis": "x",
         "y": [
          77.128
         ],
         "yaxis": "y"
        },
        {
         "hovertemplate": "Entity=Botswana<br>GDPperCapita=%{x}<br>Life expectancy=%{y}<extra></extra>",
         "legendgroup": "Botswana",
         "marker": {
          "color": "#00cc96",
          "symbol": "circle"
         },
         "mode": "markers",
         "name": "Botswana",
         "orientation": "v",
         "showlegend": true,
         "type": "scatter",
         "x": [
          7818.89407485687
         ],
         "xaxis": "x",
         "y": [
          68.812
         ],
         "yaxis": "y"
        },
        {
         "hovertemplate": "Entity=Brazil<br>GDPperCapita=%{x}<br>Life expectancy=%{y}<extra></extra>",
         "legendgroup": "Brazil",
         "marker": {
          "color": "#ab63fa",
          "symbol": "circle"
         },
         "mode": "markers",
         "name": "Brazil",
         "orientation": "v",
         "showlegend": true,
         "type": "scatter",
         "x": [
          10965.175921972874
         ],
         "xaxis": "x",
         "y": [
          75.456
         ],
         "yaxis": "y"
        },
        {
         "hovertemplate": "Entity=Brunei<br>GDPperCapita=%{x}<br>Life expectancy=%{y}<extra></extra>",
         "legendgroup": "Brunei",
         "marker": {
          "color": "#FFA15A",
          "symbol": "circle"
         },
         "mode": "markers",
         "name": "Brunei",
         "orientation": "v",
         "showlegend": true,
         "type": "scatter",
         "x": [
          31788.20985671769
         ],
         "xaxis": "x",
         "y": [
          75.585
         ],
         "yaxis": "y"
        },
        {
         "hovertemplate": "Entity=Bulgaria<br>GDPperCapita=%{x}<br>Life expectancy=%{y}<extra></extra>",
         "legendgroup": "Bulgaria",
         "marker": {
          "color": "#19d3f3",
          "symbol": "circle"
         },
         "mode": "markers",
         "name": "Bulgaria",
         "orientation": "v",
         "showlegend": true,
         "type": "scatter",
         "x": [
          8281.490880510139
         ],
         "xaxis": "x",
         "y": [
          74.815
         ],
         "yaxis": "y"
        },
        {
         "hovertemplate": "Entity=Burkina Faso<br>GDPperCapita=%{x}<br>Life expectancy=%{y}<extra></extra>",
         "legendgroup": "Burkina Faso",
         "marker": {
          "color": "#FF6692",
          "symbol": "circle"
         },
         "mode": "markers",
         "name": "Burkina Faso",
         "orientation": "v",
         "showlegend": true,
         "type": "scatter",
         "x": [
          688.5475953218569
         ],
         "xaxis": "x",
         "y": [
          60.768
         ],
         "yaxis": "y"
        },
        {
         "hovertemplate": "Entity=Burundi<br>GDPperCapita=%{x}<br>Life expectancy=%{y}<extra></extra>",
         "legendgroup": "Burundi",
         "marker": {
          "color": "#B6E880",
          "symbol": "circle"
         },
         "mode": "markers",
         "name": "Burundi",
         "orientation": "v",
         "showlegend": true,
         "type": "scatter",
         "x": [
          213.27858761188048
         ],
         "xaxis": "x",
         "y": [
          60.898
         ],
         "yaxis": "y"
        },
        {
         "hovertemplate": "Entity=Cambodia<br>GDPperCapita=%{x}<br>Life expectancy=%{y}<extra></extra>",
         "legendgroup": "Cambodia",
         "marker": {
          "color": "#FF97FF",
          "symbol": "circle"
         },
         "mode": "markers",
         "name": "Cambodia",
         "orientation": "v",
         "showlegend": true,
         "type": "scatter",
         "x": [
          1134.8947222330314
         ],
         "xaxis": "x",
         "y": [
          69.289
         ],
         "yaxis": "y"
        },
        {
         "hovertemplate": "Entity=Cameroon<br>GDPperCapita=%{x}<br>Life expectancy=%{y}<extra></extra>",
         "legendgroup": "Cameroon",
         "marker": {
          "color": "#FECB52",
          "symbol": "circle"
         },
         "mode": "markers",
         "name": "Cameroon",
         "orientation": "v",
         "showlegend": true,
         "type": "scatter",
         "x": [
          1472.181498185256
         ],
         "xaxis": "x",
         "y": [
          58.511
         ],
         "yaxis": "y"
        },
        {
         "hovertemplate": "Entity=Canada<br>GDPperCapita=%{x}<br>Life expectancy=%{y}<extra></extra>",
         "legendgroup": "Canada",
         "marker": {
          "color": "#636efa",
          "symbol": "circle"
         },
         "mode": "markers",
         "name": "Canada",
         "orientation": "v",
         "showlegend": true,
         "type": "scatter",
         "x": [
          51282.4760892625
         ],
         "xaxis": "x",
         "y": [
          82.21
         ],
         "yaxis": "y"
        },
        {
         "hovertemplate": "Entity=Cape Verde<br>GDPperCapita=%{x}<br>Life expectancy=%{y}<extra></extra>",
         "legendgroup": "Cape Verde",
         "marker": {
          "color": "#EF553B",
          "symbol": "circle"
         },
         "mode": "markers",
         "name": "Cape Verde",
         "orientation": "v",
         "showlegend": true,
         "type": "scatter",
         "x": [
          3598.791044790726
         ],
         "xaxis": "x",
         "y": [
          72.57
         ],
         "yaxis": "y"
        },
        {
         "hovertemplate": "Entity=Central African Republic<br>GDPperCapita=%{x}<br>Life expectancy=%{y}<extra></extra>",
         "legendgroup": "Central African Republic",
         "marker": {
          "color": "#00cc96",
          "symbol": "circle"
         },
         "mode": "markers",
         "name": "Central African Republic",
         "orientation": "v",
         "showlegend": true,
         "type": "scatter",
         "x": [
          339.62431132785247
         ],
         "xaxis": "x",
         "y": [
          52.24
         ],
         "yaxis": "y"
        },
        {
         "hovertemplate": "Entity=Chad<br>GDPperCapita=%{x}<br>Life expectancy=%{y}<extra></extra>",
         "legendgroup": "Chad",
         "marker": {
          "color": "#ab63fa",
          "symbol": "circle"
         },
         "mode": "markers",
         "name": "Chad",
         "orientation": "v",
         "showlegend": true,
         "type": "scatter",
         "x": [
          817.0190414555237
         ],
         "xaxis": "x",
         "y": [
          53.712
         ],
         "yaxis": "y"
        },
        {
         "hovertemplate": "Entity=Chile<br>GDPperCapita=%{x}<br>Life expectancy=%{y}<extra></extra>",
         "legendgroup": "Chile",
         "marker": {
          "color": "#FFA15A",
          "symbol": "circle"
         },
         "mode": "markers",
         "name": "Chile",
         "orientation": "v",
         "showlegend": true,
         "type": "scatter",
         "x": [
          14720.936133199892
         ],
         "xaxis": "x",
         "y": [
          79.909
         ],
         "yaxis": "y"
        },
        {
         "hovertemplate": "Entity=China<br>GDPperCapita=%{x}<br>Life expectancy=%{y}<extra></extra>",
         "legendgroup": "China",
         "marker": {
          "color": "#19d3f3",
          "symbol": "circle"
         },
         "mode": "markers",
         "name": "China",
         "orientation": "v",
         "showlegend": true,
         "type": "scatter",
         "x": [
          7150.496686254078
         ],
         "xaxis": "x",
         "y": [
          76.47
         ],
         "yaxis": "y"
        },
        {
         "hovertemplate": "Entity=Colombia<br>GDPperCapita=%{x}<br>Life expectancy=%{y}<extra></extra>",
         "legendgroup": "Colombia",
         "marker": {
          "color": "#FF6692",
          "symbol": "circle"
         },
         "mode": "markers",
         "name": "Colombia",
         "orientation": "v",
         "showlegend": true,
         "type": "scatter",
         "x": [
          7624.942176500532
         ],
         "xaxis": "x",
         "y": [
          76.925
         ],
         "yaxis": "y"
        },
        {
         "hovertemplate": "Entity=Comoros<br>GDPperCapita=%{x}<br>Life expectancy=%{y}<extra></extra>",
         "legendgroup": "Comoros",
         "marker": {
          "color": "#B6E880",
          "symbol": "circle"
         },
         "mode": "markers",
         "name": "Comoros",
         "orientation": "v",
         "showlegend": true,
         "type": "scatter",
         "x": [
          769.8465299051155
         ],
         "xaxis": "x",
         "y": [
          63.912
         ],
         "yaxis": "y"
        },
        {
         "hovertemplate": "Entity=Congo<br>GDPperCapita=%{x}<br>Life expectancy=%{y}<extra></extra>",
         "legendgroup": "Congo",
         "marker": {
          "color": "#FF97FF",
          "symbol": "circle"
         },
         "mode": "markers",
         "name": "Congo",
         "orientation": "v",
         "showlegend": true,
         "type": "scatter",
         "x": [
          2651.883363736803
         ],
         "xaxis": "x",
         "y": [
          63.954
         ],
         "yaxis": "y"
        },
        {
         "hovertemplate": "Entity=Costa Rica<br>GDPperCapita=%{x}<br>Life expectancy=%{y}<extra></extra>",
         "legendgroup": "Costa Rica",
         "marker": {
          "color": "#FECB52",
          "symbol": "circle"
         },
         "mode": "markers",
         "name": "Costa Rica",
         "orientation": "v",
         "showlegend": true,
         "type": "scatter",
         "x": [
          9704.498759439171
         ],
         "xaxis": "x",
         "y": [
          79.914
         ],
         "yaxis": "y"
        },
        {
         "hovertemplate": "Entity=Cote d'Ivoire<br>GDPperCapita=%{x}<br>Life expectancy=%{y}<extra></extra>",
         "legendgroup": "Cote d'Ivoire",
         "marker": {
          "color": "#636efa",
          "symbol": "circle"
         },
         "mode": "markers",
         "name": "Cote d'Ivoire",
         "orientation": "v",
         "showlegend": true,
         "type": "scatter",
         "x": [
          1623.1735290278593
         ],
         "xaxis": "x",
         "y": [
          57.017
         ],
         "yaxis": "y"
        },
        {
         "hovertemplate": "Entity=Croatia<br>GDPperCapita=%{x}<br>Life expectancy=%{y}<extra></extra>",
         "legendgroup": "Croatia",
         "marker": {
          "color": "#EF553B",
          "symbol": "circle"
         },
         "mode": "markers",
         "name": "Croatia",
         "orientation": "v",
         "showlegend": true,
         "type": "scatter",
         "x": [
          15011.3962242951
         ],
         "xaxis": "x",
         "y": [
          78.197
         ],
         "yaxis": "y"
        },
        {
         "hovertemplate": "Entity=Cyprus<br>GDPperCapita=%{x}<br>Life expectancy=%{y}<extra></extra>",
         "legendgroup": "Cyprus",
         "marker": {
          "color": "#00cc96",
          "symbol": "circle"
         },
         "mode": "markers",
         "name": "Cyprus",
         "orientation": "v",
         "showlegend": true,
         "type": "scatter",
         "x": [
          21402.411860269407
         ],
         "xaxis": "x",
         "y": [
          80.672
         ],
         "yaxis": "y"
        },
        {
         "hovertemplate": "Entity=Czechia<br>GDPperCapita=%{x}<br>Life expectancy=%{y}<extra></extra>",
         "legendgroup": "Czechia",
         "marker": {
          "color": "#ab63fa",
          "symbol": "circle"
         },
         "mode": "markers",
         "name": "Czechia",
         "orientation": "v",
         "showlegend": true,
         "type": "scatter",
         "x": [
          22672.94786374974
         ],
         "xaxis": "x",
         "y": [
          79.058
         ],
         "yaxis": "y"
        },
        {
         "hovertemplate": "Entity=Democratic Republic of Congo<br>GDPperCapita=%{x}<br>Life expectancy=%{y}<extra></extra>",
         "legendgroup": "Democratic Republic of Congo",
         "marker": {
          "color": "#FFA15A",
          "symbol": "circle"
         },
         "mode": "markers",
         "name": "Democratic Republic of Congo",
         "orientation": "v",
         "showlegend": true,
         "type": "scatter",
         "x": [
          408.82077087232886
         ],
         "xaxis": "x",
         "y": [
          60.026
         ],
         "yaxis": "y"
        },
        {
         "hovertemplate": "Entity=Denmark<br>GDPperCapita=%{x}<br>Life expectancy=%{y}<extra></extra>",
         "legendgroup": "Denmark",
         "marker": {
          "color": "#19d3f3",
          "symbol": "circle"
         },
         "mode": "markers",
         "name": "Denmark",
         "orientation": "v",
         "showlegend": true,
         "type": "scatter",
         "x": [
          61986.156681440334
         ],
         "xaxis": "x",
         "y": [
          80.681
         ],
         "yaxis": "y"
        },
        {
         "hovertemplate": "Entity=Dominica<br>GDPperCapita=%{x}<br>Life expectancy=%{y}<extra></extra>",
         "legendgroup": "Dominica",
         "marker": {
          "color": "#FF6692",
          "symbol": "circle"
         },
         "mode": "markers",
         "name": "Dominica",
         "orientation": "v",
         "showlegend": true,
         "type": "scatter",
         "x": [
          6826.767363664127
         ],
         "xaxis": "x",
         "y": [
          74.597
         ],
         "yaxis": "y"
        },
        {
         "hovertemplate": "Entity=Dominican Republic<br>GDPperCapita=%{x}<br>Life expectancy=%{y}<extra></extra>",
         "legendgroup": "Dominican Republic",
         "marker": {
          "color": "#B6E880",
          "symbol": "circle"
         },
         "mode": "markers",
         "name": "Dominican Republic",
         "orientation": "v",
         "showlegend": true,
         "type": "scatter",
         "x": [
          7325.899767129582
         ],
         "xaxis": "x",
         "y": [
          73.689
         ],
         "yaxis": "y"
        },
        {
         "hovertemplate": "Entity=Ecuador<br>GDPperCapita=%{x}<br>Life expectancy=%{y}<extra></extra>",
         "legendgroup": "Ecuador",
         "marker": {
          "color": "#FF97FF",
          "symbol": "circle"
         },
         "mode": "markers",
         "name": "Ecuador",
         "orientation": "v",
         "showlegend": true,
         "type": "scatter",
         "x": [
          5219.341306051099
         ],
         "xaxis": "x",
         "y": [
          76.584
         ],
         "yaxis": "y"
        },
        {
         "hovertemplate": "Entity=Egypt<br>GDPperCapita=%{x}<br>Life expectancy=%{y}<extra></extra>",
         "legendgroup": "Egypt",
         "marker": {
          "color": "#FECB52",
          "symbol": "circle"
         },
         "mode": "markers",
         "name": "Egypt",
         "orientation": "v",
         "showlegend": true,
         "type": "scatter",
         "x": [
          2817.432289437782
         ],
         "xaxis": "x",
         "y": [
          71.656
         ],
         "yaxis": "y"
        },
        {
         "hovertemplate": "Entity=El Salvador<br>GDPperCapita=%{x}<br>Life expectancy=%{y}<extra></extra>",
         "legendgroup": "El Salvador",
         "marker": {
          "color": "#636efa",
          "symbol": "circle"
         },
         "mode": "markers",
         "name": "El Salvador",
         "orientation": "v",
         "showlegend": true,
         "type": "scatter",
         "x": [
          3458.0419227759394
         ],
         "xaxis": "x",
         "y": [
          72.872
         ],
         "yaxis": "y"
        },
        {
         "hovertemplate": "Entity=Equatorial Guinea<br>GDPperCapita=%{x}<br>Life expectancy=%{y}<extra></extra>",
         "legendgroup": "Equatorial Guinea",
         "marker": {
          "color": "#EF553B",
          "symbol": "circle"
         },
         "mode": "markers",
         "name": "Equatorial Guinea",
         "orientation": "v",
         "showlegend": true,
         "type": "scatter",
         "x": [
          11538.391726633598
         ],
         "xaxis": "x",
         "y": [
          58.061
         ],
         "yaxis": "y"
        },
        {
         "hovertemplate": "Entity=Estonia<br>GDPperCapita=%{x}<br>Life expectancy=%{y}<extra></extra>",
         "legendgroup": "Estonia",
         "marker": {
          "color": "#00cc96",
          "symbol": "circle"
         },
         "mode": "markers",
         "name": "Estonia",
         "orientation": "v",
         "showlegend": true,
         "type": "scatter",
         "x": [
          18926.749646098408
         ],
         "xaxis": "x",
         "y": [
          78.354
         ],
         "yaxis": "y"
        },
        {
         "hovertemplate": "Entity=Eswatini<br>GDPperCapita=%{x}<br>Life expectancy=%{y}<extra></extra>",
         "legendgroup": "Eswatini",
         "marker": {
          "color": "#ab63fa",
          "symbol": "circle"
         },
         "mode": "markers",
         "name": "Eswatini",
         "orientation": "v",
         "showlegend": true,
         "type": "scatter",
         "x": [
          4756.849072779929
         ],
         "xaxis": "x",
         "y": [
          58.319
         ],
         "yaxis": "y"
        },
        {
         "hovertemplate": "Entity=Ethiopia<br>GDPperCapita=%{x}<br>Life expectancy=%{y}<extra></extra>",
         "legendgroup": "Ethiopia",
         "marker": {
          "color": "#FFA15A",
          "symbol": "circle"
         },
         "mode": "markers",
         "name": "Ethiopia",
         "orientation": "v",
         "showlegend": true,
         "type": "scatter",
         "x": [
          542.3930828490611
         ],
         "xaxis": "x",
         "y": [
          65.872
         ],
         "yaxis": "y"
        },
        {
         "hovertemplate": "Entity=Fiji<br>GDPperCapita=%{x}<br>Life expectancy=%{y}<extra></extra>",
         "legendgroup": "Fiji",
         "marker": {
          "color": "#19d3f3",
          "symbol": "circle"
         },
         "mode": "markers",
         "name": "Fiji",
         "orientation": "v",
         "showlegend": true,
         "type": "scatter",
         "x": [
          4463.480825744139
         ],
         "xaxis": "x",
         "y": [
          67.252
         ],
         "yaxis": "y"
        },
        {
         "hovertemplate": "Entity=Finland<br>GDPperCapita=%{x}<br>Life expectancy=%{y}<extra></extra>",
         "legendgroup": "Finland",
         "marker": {
          "color": "#FF6692",
          "symbol": "circle"
         },
         "mode": "markers",
         "name": "Finland",
         "orientation": "v",
         "showlegend": true,
         "type": "scatter",
         "x": [
          47060.206319573386
         ],
         "xaxis": "x",
         "y": [
          81.561
         ],
         "yaxis": "y"
        },
        {
         "hovertemplate": "Entity=France<br>GDPperCapita=%{x}<br>Life expectancy=%{y}<extra></extra>",
         "legendgroup": "France",
         "marker": {
          "color": "#B6E880",
          "symbol": "circle"
         },
         "mode": "markers",
         "name": "France",
         "orientation": "v",
         "showlegend": true,
         "type": "scatter",
         "x": [
          44061.64739521614
         ],
         "xaxis": "x",
         "y": [
          82.432
         ],
         "yaxis": "y"
        },
        {
         "hovertemplate": "Entity=Gabon<br>GDPperCapita=%{x}<br>Life expectancy=%{y}<extra></extra>",
         "legendgroup": "Gabon",
         "marker": {
          "color": "#FF97FF",
          "symbol": "circle"
         },
         "mode": "markers",
         "name": "Gabon",
         "orientation": "v",
         "showlegend": true,
         "type": "scatter",
         "x": [
          9259.756310496272
         ],
         "xaxis": "x",
         "y": [
          65.839
         ],
         "yaxis": "y"
        },
        {
         "hovertemplate": "Entity=Gambia<br>GDPperCapita=%{x}<br>Life expectancy=%{y}<extra></extra>",
         "legendgroup": "Gambia",
         "marker": {
          "color": "#FECB52",
          "symbol": "circle"
         },
         "mode": "markers",
         "name": "Gambia",
         "orientation": "v",
         "showlegend": true,
         "type": "scatter",
         "x": [
          506.8967392330487
         ],
         "xaxis": "x",
         "y": [
          61.44
         ],
         "yaxis": "y"
        },
        {
         "hovertemplate": "Entity=Georgia<br>GDPperCapita=%{x}<br>Life expectancy=%{y}<extra></extra>",
         "legendgroup": "Georgia",
         "marker": {
          "color": "#636efa",
          "symbol": "circle"
         },
         "mode": "markers",
         "name": "Georgia",
         "orientation": "v",
         "showlegend": true,
         "type": "scatter",
         "x": [
          3977.795688668371
         ],
         "xaxis": "x",
         "y": [
          73.414
         ],
         "yaxis": "y"
        },
        {
         "hovertemplate": "Entity=Germany<br>GDPperCapita=%{x}<br>Life expectancy=%{y}<extra></extra>",
         "legendgroup": "Germany",
         "marker": {
          "color": "#EF553B",
          "symbol": "circle"
         },
         "mode": "markers",
         "name": "Germany",
         "orientation": "v",
         "showlegend": true,
         "type": "scatter",
         "x": [
          46768.11780316001
         ],
         "xaxis": "x",
         "y": [
          81.039
         ],
         "yaxis": "y"
        },
        {
         "hovertemplate": "Entity=Ghana<br>GDPperCapita=%{x}<br>Life expectancy=%{y}<extra></extra>",
         "legendgroup": "Ghana",
         "marker": {
          "color": "#00cc96",
          "symbol": "circle"
         },
         "mode": "markers",
         "name": "Ghana",
         "orientation": "v",
         "showlegend": true,
         "type": "scatter",
         "x": [
          1795.9363436799663
         ],
         "xaxis": "x",
         "y": [
          63.463
         ],
         "yaxis": "y"
        },
        {
         "hovertemplate": "Entity=Greece<br>GDPperCapita=%{x}<br>Life expectancy=%{y}<extra></extra>",
         "legendgroup": "Greece",
         "marker": {
          "color": "#ab63fa",
          "symbol": "circle"
         },
         "mode": "markers",
         "name": "Greece",
         "orientation": "v",
         "showlegend": true,
         "type": "scatter",
         "x": [
          23444.475664032358
         ],
         "xaxis": "x",
         "y": [
          81.901
         ],
         "yaxis": "y"
        },
        {
         "hovertemplate": "Entity=Grenada<br>GDPperCapita=%{x}<br>Life expectancy=%{y}<extra></extra>",
         "legendgroup": "Grenada",
         "marker": {
          "color": "#FFA15A",
          "symbol": "circle"
         },
         "mode": "markers",
         "name": "Grenada",
         "orientation": "v",
         "showlegend": true,
         "type": "scatter",
         "x": [
          8701.373037053441
         ],
         "xaxis": "x",
         "y": [
          72.388
         ],
         "yaxis": "y"
        },
        {
         "hovertemplate": "Entity=Guatemala<br>GDPperCapita=%{x}<br>Life expectancy=%{y}<extra></extra>",
         "legendgroup": "Guatemala",
         "marker": {
          "color": "#19d3f3",
          "symbol": "circle"
         },
         "mode": "markers",
         "name": "Guatemala",
         "orientation": "v",
         "showlegend": true,
         "type": "scatter",
         "x": [
          3123.933862583884
         ],
         "xaxis": "x",
         "y": [
          73.81
         ],
         "yaxis": "y"
        },
        {
         "hovertemplate": "Entity=Guinea<br>GDPperCapita=%{x}<br>Life expectancy=%{y}<extra></extra>",
         "legendgroup": "Guinea",
         "marker": {
          "color": "#FF6692",
          "symbol": "circle"
         },
         "mode": "markers",
         "name": "Guinea",
         "orientation": "v",
         "showlegend": true,
         "type": "scatter",
         "x": [
          867.1934154348526
         ],
         "xaxis": "x",
         "y": [
          60.706
         ],
         "yaxis": "y"
        },
        {
         "hovertemplate": "Entity=Guinea-Bissau<br>GDPperCapita=%{x}<br>Life expectancy=%{y}<extra></extra>",
         "legendgroup": "Guinea-Bissau",
         "marker": {
          "color": "#B6E880",
          "symbol": "circle"
         },
         "mode": "markers",
         "name": "Guinea-Bissau",
         "orientation": "v",
         "showlegend": true,
         "type": "scatter",
         "x": [
          615.6331430674506
         ],
         "xaxis": "x",
         "y": [
          57.673
         ],
         "yaxis": "y"
        },
        {
         "hovertemplate": "Entity=Guyana<br>GDPperCapita=%{x}<br>Life expectancy=%{y}<extra></extra>",
         "legendgroup": "Guyana",
         "marker": {
          "color": "#FF97FF",
          "symbol": "circle"
         },
         "mode": "markers",
         "name": "Guyana",
         "orientation": "v",
         "showlegend": true,
         "type": "scatter",
         "x": [
          3885.6723798626967
         ],
         "xaxis": "x",
         "y": [
          69.624
         ],
         "yaxis": "y"
        },
        {
         "hovertemplate": "Entity=Haiti<br>GDPperCapita=%{x}<br>Life expectancy=%{y}<extra></extra>",
         "legendgroup": "Haiti",
         "marker": {
          "color": "#FECB52",
          "symbol": "circle"
         },
         "mode": "markers",
         "name": "Haiti",
         "orientation": "v",
         "showlegend": true,
         "type": "scatter",
         "x": [
          728.8692284759197
         ],
         "xaxis": "x",
         "y": [
          63.29
         ],
         "yaxis": "y"
        },
        {
         "hovertemplate": "Entity=Honduras<br>GDPperCapita=%{x}<br>Life expectancy=%{y}<extra></extra>",
         "legendgroup": "Honduras",
         "marker": {
          "color": "#636efa",
          "symbol": "circle"
         },
         "mode": "markers",
         "name": "Honduras",
         "orientation": "v",
         "showlegend": true,
         "type": "scatter",
         "x": [
          2172.15391486848
         ],
         "xaxis": "x",
         "y": [
          74.898
         ],
         "yaxis": "y"
        },
        {
         "hovertemplate": "Entity=Hong Kong<br>GDPperCapita=%{x}<br>Life expectancy=%{y}<extra></extra>",
         "legendgroup": "Hong Kong",
         "marker": {
          "color": "#EF553B",
          "symbol": "circle"
         },
         "mode": "markers",
         "name": "Hong Kong",
         "orientation": "v",
         "showlegend": true,
         "type": "scatter",
         "x": [
          38372.02312307651
         ],
         "xaxis": "x",
         "y": [
          84.493
         ],
         "yaxis": "y"
        },
        {
         "hovertemplate": "Entity=Hungary<br>GDPperCapita=%{x}<br>Life expectancy=%{y}<extra></extra>",
         "legendgroup": "Hungary",
         "marker": {
          "color": "#00cc96",
          "symbol": "circle"
         },
         "mode": "markers",
         "name": "Hungary",
         "orientation": "v",
         "showlegend": true,
         "type": "scatter",
         "x": [
          15730.068784316445
         ],
         "xaxis": "x",
         "y": [
          76.498
         ],
         "yaxis": "y"
        },
        {
         "hovertemplate": "Entity=Iceland<br>GDPperCapita=%{x}<br>Life expectancy=%{y}<extra></extra>",
         "legendgroup": "Iceland",
         "marker": {
          "color": "#ab63fa",
          "symbol": "circle"
         },
         "mode": "markers",
         "name": "Iceland",
         "orientation": "v",
         "showlegend": true,
         "type": "scatter",
         "x": [
          50998.46204829191
         ],
         "xaxis": "x",
         "y": [
          82.725
         ],
         "yaxis": "y"
        },
        {
         "hovertemplate": "Entity=India<br>GDPperCapita=%{x}<br>Life expectancy=%{y}<extra></extra>",
         "legendgroup": "India",
         "marker": {
          "color": "#FFA15A",
          "symbol": "circle"
         },
         "mode": "markers",
         "name": "India",
         "orientation": "v",
         "showlegend": true,
         "type": "scatter",
         "x": [
          1964.284310117216
         ],
         "xaxis": "x",
         "y": [
          69.165
         ],
         "yaxis": "y"
        },
        {
         "hovertemplate": "Entity=Indonesia<br>GDPperCapita=%{x}<br>Life expectancy=%{y}<extra></extra>",
         "legendgroup": "Indonesia",
         "marker": {
          "color": "#19d3f3",
          "symbol": "circle"
         },
         "mode": "markers",
         "name": "Indonesia",
         "orientation": "v",
         "showlegend": true,
         "type": "scatter",
         "x": [
          4120.367810496154
         ],
         "xaxis": "x",
         "y": [
          71.282
         ],
         "yaxis": "y"
        },
        {
         "hovertemplate": "Entity=Iran<br>GDPperCapita=%{x}<br>Life expectancy=%{y}<extra></extra>",
         "legendgroup": "Iran",
         "marker": {
          "color": "#FF6692",
          "symbol": "circle"
         },
         "mode": "markers",
         "name": "Iran",
         "orientation": "v",
         "showlegend": true,
         "type": "scatter",
         "x": [
          6988.946227555693
         ],
         "xaxis": "x",
         "y": [
          76.271
         ],
         "yaxis": "y"
        },
        {
         "hovertemplate": "Entity=Iraq<br>GDPperCapita=%{x}<br>Life expectancy=%{y}<extra></extra>",
         "legendgroup": "Iraq",
         "marker": {
          "color": "#B6E880",
          "symbol": "circle"
         },
         "mode": "markers",
         "name": "Iraq",
         "orientation": "v",
         "showlegend": true,
         "type": "scatter",
         "x": [
          5652.507955372407
         ],
         "xaxis": "x",
         "y": [
          70.294
         ],
         "yaxis": "y"
        },
        {
         "hovertemplate": "Entity=Ireland<br>GDPperCapita=%{x}<br>Life expectancy=%{y}<extra></extra>",
         "legendgroup": "Ireland",
         "marker": {
          "color": "#FF97FF",
          "symbol": "circle"
         },
         "mode": "markers",
         "name": "Ireland",
         "orientation": "v",
         "showlegend": true,
         "type": "scatter",
         "x": [
          75382.59575206922
         ],
         "xaxis": "x",
         "y": [
          81.872
         ],
         "yaxis": "y"
        },
        {
         "hovertemplate": "Entity=Israel<br>GDPperCapita=%{x}<br>Life expectancy=%{y}<extra></extra>",
         "legendgroup": "Israel",
         "marker": {
          "color": "#FECB52",
          "symbol": "circle"
         },
         "mode": "markers",
         "name": "Israel",
         "orientation": "v",
         "showlegend": true,
         "type": "scatter",
         "x": [
          36074.24555591012
         ],
         "xaxis": "x",
         "y": [
          82.663
         ],
         "yaxis": "y"
        },
        {
         "hovertemplate": "Entity=Italy<br>GDPperCapita=%{x}<br>Life expectancy=%{y}<extra></extra>",
         "legendgroup": "Italy",
         "marker": {
          "color": "#636efa",
          "symbol": "circle"
         },
         "mode": "markers",
         "name": "Italy",
         "orientation": "v",
         "showlegend": true,
         "type": "scatter",
         "x": [
          34807.36298025678
         ],
         "xaxis": "x",
         "y": [
          83.184
         ],
         "yaxis": "y"
        },
        {
         "hovertemplate": "Entity=Jamaica<br>GDPperCapita=%{x}<br>Life expectancy=%{y}<extra></extra>",
         "legendgroup": "Jamaica",
         "marker": {
          "color": "#EF553B",
          "symbol": "circle"
         },
         "mode": "markers",
         "name": "Jamaica",
         "orientation": "v",
         "showlegend": true,
         "type": "scatter",
         "x": [
          4747.777208777131
         ],
         "xaxis": "x",
         "y": [
          74.267
         ],
         "yaxis": "y"
        },
        {
         "hovertemplate": "Entity=Japan<br>GDPperCapita=%{x}<br>Life expectancy=%{y}<extra></extra>",
         "legendgroup": "Japan",
         "marker": {
          "color": "#00cc96",
          "symbol": "circle"
         },
         "mode": "markers",
         "name": "Japan",
         "orientation": "v",
         "showlegend": true,
         "type": "scatter",
         "x": [
          48283.79505249767
         ],
         "xaxis": "x",
         "y": [
          84.29
         ],
         "yaxis": "y"
        },
        {
         "hovertemplate": "Entity=Jordan<br>GDPperCapita=%{x}<br>Life expectancy=%{y}<extra></extra>",
         "legendgroup": "Jordan",
         "marker": {
          "color": "#ab63fa",
          "symbol": "circle"
         },
         "mode": "markers",
         "name": "Jordan",
         "orientation": "v",
         "showlegend": true,
         "type": "scatter",
         "x": [
          3210.5726602202535
         ],
         "xaxis": "x",
         "y": [
          74.292
         ],
         "yaxis": "y"
        },
        {
         "hovertemplate": "Entity=Kazakhstan<br>GDPperCapita=%{x}<br>Life expectancy=%{y}<extra></extra>",
         "legendgroup": "Kazakhstan",
         "marker": {
          "color": "#FFA15A",
          "symbol": "circle"
         },
         "mode": "markers",
         "name": "Kazakhstan",
         "orientation": "v",
         "showlegend": true,
         "type": "scatter",
         "x": [
          10831.942910092477
         ],
         "xaxis": "x",
         "y": [
          72.728
         ],
         "yaxis": "y"
        },
        {
         "hovertemplate": "Entity=Kenya<br>GDPperCapita=%{x}<br>Life expectancy=%{y}<extra></extra>",
         "legendgroup": "Kenya",
         "marker": {
          "color": "#19d3f3",
          "symbol": "circle"
         },
         "mode": "markers",
         "name": "Kenya",
         "orientation": "v",
         "showlegend": true,
         "type": "scatter",
         "x": [
          1157.2094917223153
         ],
         "xaxis": "x",
         "y": [
          65.909
         ],
         "yaxis": "y"
        },
        {
         "hovertemplate": "Entity=Kiribati<br>GDPperCapita=%{x}<br>Life expectancy=%{y}<extra></extra>",
         "legendgroup": "Kiribati",
         "marker": {
          "color": "#FF6692",
          "symbol": "circle"
         },
         "mode": "markers",
         "name": "Kiribati",
         "orientation": "v",
         "showlegend": true,
         "type": "scatter",
         "x": [
          1744.3288443963245
         ],
         "xaxis": "x",
         "y": [
          67.851
         ],
         "yaxis": "y"
        },
        {
         "hovertemplate": "Entity=Kosovo<br>GDPperCapita=%{x}<br>Life expectancy=%{y}<extra></extra>",
         "legendgroup": "Kosovo",
         "marker": {
          "color": "#B6E880",
          "symbol": "circle"
         },
         "mode": "markers",
         "name": "Kosovo",
         "orientation": "v",
         "showlegend": true,
         "type": "scatter",
         "x": [
          null
         ],
         "xaxis": "x",
         "y": [
          null
         ],
         "yaxis": "y"
        },
        {
         "hovertemplate": "Entity=Kuwait<br>GDPperCapita=%{x}<br>Life expectancy=%{y}<extra></extra>",
         "legendgroup": "Kuwait",
         "marker": {
          "color": "#FF97FF",
          "symbol": "circle"
         },
         "mode": "markers",
         "name": "Kuwait",
         "orientation": "v",
         "showlegend": true,
         "type": "scatter",
         "x": [
          34211.63377749877
         ],
         "xaxis": "x",
         "y": [
          75.311
         ],
         "yaxis": "y"
        },
        {
         "hovertemplate": "Entity=Kyrgyzstan<br>GDPperCapita=%{x}<br>Life expectancy=%{y}<extra></extra>",
         "legendgroup": "Kyrgyzstan",
         "marker": {
          "color": "#FECB52",
          "symbol": "circle"
         },
         "mode": "markers",
         "name": "Kyrgyzstan",
         "orientation": "v",
         "showlegend": true,
         "type": "scatter",
         "x": [
          1072.311890452892
         ],
         "xaxis": "x",
         "y": [
          71.193
         ],
         "yaxis": "y"
        },
        {
         "hovertemplate": "Entity=Laos<br>GDPperCapita=%{x}<br>Life expectancy=%{y}<extra></extra>",
         "legendgroup": "Laos",
         "marker": {
          "color": "#636efa",
          "symbol": "circle"
         },
         "mode": "markers",
         "name": "Laos",
         "orientation": "v",
         "showlegend": true,
         "type": "scatter",
         "x": [
          1706.8018243052925
         ],
         "xaxis": "x",
         "y": [
          67.277
         ],
         "yaxis": "y"
        },
        {
         "hovertemplate": "Entity=Latvia<br>GDPperCapita=%{x}<br>Life expectancy=%{y}<extra></extra>",
         "legendgroup": "Latvia",
         "marker": {
          "color": "#EF553B",
          "symbol": "circle"
         },
         "mode": "markers",
         "name": "Latvia",
         "orientation": "v",
         "showlegend": true,
         "type": "scatter",
         "x": [
          15471.535484080063
         ],
         "xaxis": "x",
         "y": [
          75.048
         ],
         "yaxis": "y"
        },
        {
         "hovertemplate": "Entity=Lebanon<br>GDPperCapita=%{x}<br>Life expectancy=%{y}<extra></extra>",
         "legendgroup": "Lebanon",
         "marker": {
          "color": "#00cc96",
          "symbol": "circle"
         },
         "mode": "markers",
         "name": "Lebanon",
         "orientation": "v",
         "showlegend": true,
         "type": "scatter",
         "x": [
          6420.084729746019
         ],
         "xaxis": "x",
         "y": [
          78.833
         ],
         "yaxis": "y"
        },
        {
         "hovertemplate": "Entity=Lesotho<br>GDPperCapita=%{x}<br>Life expectancy=%{y}<extra></extra>",
         "legendgroup": "Lesotho",
         "marker": {
          "color": "#ab63fa",
          "symbol": "circle"
         },
         "mode": "markers",
         "name": "Lesotho",
         "orientation": "v",
         "showlegend": true,
         "type": "scatter",
         "x": [
          1504.425989499173
         ],
         "xaxis": "x",
         "y": [
          52.947
         ],
         "yaxis": "y"
        },
        {
         "hovertemplate": "Entity=Liberia<br>GDPperCapita=%{x}<br>Life expectancy=%{y}<extra></extra>",
         "legendgroup": "Liberia",
         "marker": {
          "color": "#FFA15A",
          "symbol": "circle"
         },
         "mode": "markers",
         "name": "Liberia",
         "orientation": "v",
         "showlegend": true,
         "type": "scatter",
         "x": [
          354.5265876589813
         ],
         "xaxis": "x",
         "y": [
          63.295
         ],
         "yaxis": "y"
        },
        {
         "hovertemplate": "Entity=Libya<br>GDPperCapita=%{x}<br>Life expectancy=%{y}<extra></extra>",
         "legendgroup": "Libya",
         "marker": {
          "color": "#19d3f3",
          "symbol": "circle"
         },
         "mode": "markers",
         "name": "Libya",
         "orientation": "v",
         "showlegend": true,
         "type": "scatter",
         "x": [
          7085.233506390533
         ],
         "xaxis": "x",
         "y": [
          72.52
         ],
         "yaxis": "y"
        },
        {
         "hovertemplate": "Entity=Lithuania<br>GDPperCapita=%{x}<br>Life expectancy=%{y}<extra></extra>",
         "legendgroup": "Lithuania",
         "marker": {
          "color": "#FF6692",
          "symbol": "circle"
         },
         "mode": "markers",
         "name": "Lithuania",
         "orientation": "v",
         "showlegend": true,
         "type": "scatter",
         "x": [
          16691.25687295223
         ],
         "xaxis": "x",
         "y": [
          75.507
         ],
         "yaxis": "y"
        },
        {
         "hovertemplate": "Entity=Luxembourg<br>GDPperCapita=%{x}<br>Life expectancy=%{y}<extra></extra>",
         "legendgroup": "Luxembourg",
         "marker": {
          "color": "#B6E880",
          "symbol": "circle"
         },
         "mode": "markers",
         "name": "Luxembourg",
         "orientation": "v",
         "showlegend": true,
         "type": "scatter",
         "x": [
          109222.51748804915
         ],
         "xaxis": "x",
         "y": [
          81.955
         ],
         "yaxis": "y"
        },
        {
         "hovertemplate": "Entity=Macao<br>GDPperCapita=%{x}<br>Life expectancy=%{y}<extra></extra>",
         "legendgroup": "Macao",
         "marker": {
          "color": "#FF97FF",
          "symbol": "circle"
         },
         "mode": "markers",
         "name": "Macao",
         "orientation": "v",
         "showlegend": true,
         "type": "scatter",
         "x": [
          55897.925654908024
         ],
         "xaxis": "x",
         "y": [
          83.989
         ],
         "yaxis": "y"
        },
        {
         "hovertemplate": "Entity=Madagascar<br>GDPperCapita=%{x}<br>Life expectancy=%{y}<extra></extra>",
         "legendgroup": "Madagascar",
         "marker": {
          "color": "#FECB52",
          "symbol": "circle"
         },
         "mode": "markers",
         "name": "Madagascar",
         "orientation": "v",
         "showlegend": true,
         "type": "scatter",
         "x": [
          421.8895132896171
         ],
         "xaxis": "x",
         "y": [
          66.311
         ],
         "yaxis": "y"
        },
        {
         "hovertemplate": "Entity=Malawi<br>GDPperCapita=%{x}<br>Life expectancy=%{y}<extra></extra>",
         "legendgroup": "Malawi",
         "marker": {
          "color": "#636efa",
          "symbol": "circle"
         },
         "mode": "markers",
         "name": "Malawi",
         "orientation": "v",
         "showlegend": true,
         "type": "scatter",
         "x": [
          512.6562214324799
         ],
         "xaxis": "x",
         "y": [
          63.279
         ],
         "yaxis": "y"
        },
        {
         "hovertemplate": "Entity=Malaysia<br>GDPperCapita=%{x}<br>Life expectancy=%{y}<extra></extra>",
         "legendgroup": "Malaysia",
         "marker": {
          "color": "#EF553B",
          "symbol": "circle"
         },
         "mode": "markers",
         "name": "Malaysia",
         "orientation": "v",
         "showlegend": true,
         "type": "scatter",
         "x": [
          11713.792561266839
         ],
         "xaxis": "x",
         "y": [
          75.828
         ],
         "yaxis": "y"
        },
        {
         "hovertemplate": "Entity=Maldives<br>GDPperCapita=%{x}<br>Life expectancy=%{y}<extra></extra>",
         "legendgroup": "Maldives",
         "marker": {
          "color": "#00cc96",
          "symbol": "circle"
         },
         "mode": "markers",
         "name": "Maldives",
         "orientation": "v",
         "showlegend": true,
         "type": "scatter",
         "x": [
          7899.714168118267
         ],
         "xaxis": "x",
         "y": [
          78.325
         ],
         "yaxis": "y"
        },
        {
         "hovertemplate": "Entity=Mali<br>GDPperCapita=%{x}<br>Life expectancy=%{y}<extra></extra>",
         "legendgroup": "Mali",
         "marker": {
          "color": "#ab63fa",
          "symbol": "circle"
         },
         "mode": "markers",
         "name": "Mali",
         "orientation": "v",
         "showlegend": true,
         "type": "scatter",
         "x": [
          763.4603869121759
         ],
         "xaxis": "x",
         "y": [
          58.452
         ],
         "yaxis": "y"
        },
        {
         "hovertemplate": "Entity=Malta<br>GDPperCapita=%{x}<br>Life expectancy=%{y}<extra></extra>",
         "legendgroup": "Malta",
         "marker": {
          "color": "#FFA15A",
          "symbol": "circle"
         },
         "mode": "markers",
         "name": "Malta",
         "orientation": "v",
         "showlegend": true,
         "type": "scatter",
         "x": [
          28837.27962744566
         ],
         "xaxis": "x",
         "y": [
          82.221
         ],
         "yaxis": "y"
        },
        {
         "hovertemplate": "Entity=Marshall Islands<br>GDPperCapita=%{x}<br>Life expectancy=%{y}<extra></extra>",
         "legendgroup": "Marshall Islands",
         "marker": {
          "color": "#19d3f3",
          "symbol": "circle"
         },
         "mode": "markers",
         "name": "Marshall Islands",
         "orientation": "v",
         "showlegend": true,
         "type": "scatter",
         "x": [
          3164.1006681526383
         ],
         "xaxis": "x",
         "y": [
          73.278
         ],
         "yaxis": "y"
        },
        {
         "hovertemplate": "Entity=Mauritania<br>GDPperCapita=%{x}<br>Life expectancy=%{y}<extra></extra>",
         "legendgroup": "Mauritania",
         "marker": {
          "color": "#FF6692",
          "symbol": "circle"
         },
         "mode": "markers",
         "name": "Mauritania",
         "orientation": "v",
         "showlegend": true,
         "type": "scatter",
         "x": [
          1347.0106110759748
         ],
         "xaxis": "x",
         "y": [
          64.464
         ],
         "yaxis": "y"
        },
        {
         "hovertemplate": "Entity=Mauritius<br>GDPperCapita=%{x}<br>Life expectancy=%{y}<extra></extra>",
         "legendgroup": "Mauritius",
         "marker": {
          "color": "#B6E880",
          "symbol": "circle"
         },
         "mode": "markers",
         "name": "Mauritius",
         "orientation": "v",
         "showlegend": true,
         "type": "scatter",
         "x": [
          10190.993735979035
         ],
         "xaxis": "x",
         "y": [
          74.743
         ],
         "yaxis": "y"
        },
        {
         "hovertemplate": "Entity=Mexico<br>GDPperCapita=%{x}<br>Life expectancy=%{y}<extra></extra>",
         "legendgroup": "Mexico",
         "marker": {
          "color": "#FF97FF",
          "symbol": "circle"
         },
         "mode": "markers",
         "name": "Mexico",
         "orientation": "v",
         "showlegend": true,
         "type": "scatter",
         "x": [
          10295.794498827267
         ],
         "xaxis": "x",
         "y": [
          74.947
         ],
         "yaxis": "y"
        },
        {
         "hovertemplate": "Entity=Moldova<br>GDPperCapita=%{x}<br>Life expectancy=%{y}<extra></extra>",
         "legendgroup": "Moldova",
         "marker": {
          "color": "#FECB52",
          "symbol": "circle"
         },
         "mode": "markers",
         "name": "Moldova",
         "orientation": "v",
         "showlegend": true,
         "type": "scatter",
         "x": [
          1893.0453068657068
         ],
         "xaxis": "x",
         "y": [
          71.717
         ],
         "yaxis": "y"
        },
        {
         "hovertemplate": "Entity=Mongolia<br>GDPperCapita=%{x}<br>Life expectancy=%{y}<extra></extra>",
         "legendgroup": "Mongolia",
         "marker": {
          "color": "#636efa",
          "symbol": "circle"
         },
         "mode": "markers",
         "name": "Mongolia",
         "orientation": "v",
         "showlegend": true,
         "type": "scatter",
         "x": [
          4020.952428596564
         ],
         "xaxis": "x",
         "y": [
          69.509
         ],
         "yaxis": "y"
        },
        {
         "hovertemplate": "Entity=Montenegro<br>GDPperCapita=%{x}<br>Life expectancy=%{y}<extra></extra>",
         "legendgroup": "Montenegro",
         "marker": {
          "color": "#EF553B",
          "symbol": "circle"
         },
         "mode": "markers",
         "name": "Montenegro",
         "orientation": "v",
         "showlegend": true,
         "type": "scatter",
         "x": [
          7744.161328415015
         ],
         "xaxis": "x",
         "y": [
          76.667
         ],
         "yaxis": "y"
        },
        {
         "hovertemplate": "Entity=Morocco<br>GDPperCapita=%{x}<br>Life expectancy=%{y}<extra></extra>",
         "legendgroup": "Morocco",
         "marker": {
          "color": "#00cc96",
          "symbol": "circle"
         },
         "mode": "markers",
         "name": "Morocco",
         "orientation": "v",
         "showlegend": true,
         "type": "scatter",
         "x": [
          3358.2559171027515
         ],
         "xaxis": "x",
         "y": [
          76.218
         ],
         "yaxis": "y"
        },
        {
         "hovertemplate": "Entity=Mozambique<br>GDPperCapita=%{x}<br>Life expectancy=%{y}<extra></extra>",
         "legendgroup": "Mozambique",
         "marker": {
          "color": "#ab63fa",
          "symbol": "circle"
         },
         "mode": "markers",
         "name": "Mozambique",
         "orientation": "v",
         "showlegend": true,
         "type": "scatter",
         "x": [
          537.4346092917973
         ],
         "xaxis": "x",
         "y": [
          59.309
         ],
         "yaxis": "y"
        },
        {
         "hovertemplate": "Entity=Myanmar<br>GDPperCapita=%{x}<br>Life expectancy=%{y}<extra></extra>",
         "legendgroup": "Myanmar",
         "marker": {
          "color": "#FFA15A",
          "symbol": "circle"
         },
         "mode": "markers",
         "name": "Myanmar",
         "orientation": "v",
         "showlegend": true,
         "type": "scatter",
         "x": [
          1483.856240995092
         ],
         "xaxis": "x",
         "y": [
          66.558
         ],
         "yaxis": "y"
        },
        {
         "hovertemplate": "Entity=Namibia<br>GDPperCapita=%{x}<br>Life expectancy=%{y}<extra></extra>",
         "legendgroup": "Namibia",
         "marker": {
          "color": "#19d3f3",
          "symbol": "circle"
         },
         "mode": "markers",
         "name": "Namibia",
         "orientation": "v",
         "showlegend": true,
         "type": "scatter",
         "x": [
          6173.538590781273
         ],
         "xaxis": "x",
         "y": [
          63.021
         ],
         "yaxis": "y"
        },
        {
         "hovertemplate": "Entity=Nauru<br>GDPperCapita=%{x}<br>Life expectancy=%{y}<extra></extra>",
         "legendgroup": "Nauru",
         "marker": {
          "color": "#FF6692",
          "symbol": "circle"
         },
         "mode": "markers",
         "name": "Nauru",
         "orientation": "v",
         "showlegend": true,
         "type": "scatter",
         "x": [
          11923.843074243727
         ],
         "xaxis": "x",
         "y": [
          59.805
         ],
         "yaxis": "y"
        },
        {
         "hovertemplate": "Entity=Nepal<br>GDPperCapita=%{x}<br>Life expectancy=%{y}<extra></extra>",
         "legendgroup": "Nepal",
         "marker": {
          "color": "#B6E880",
          "symbol": "circle"
         },
         "mode": "markers",
         "name": "Nepal",
         "orientation": "v",
         "showlegend": true,
         "type": "scatter",
         "x": [
          772.4735975500814
         ],
         "xaxis": "x",
         "y": [
          70.169
         ],
         "yaxis": "y"
        },
        {
         "hovertemplate": "Entity=Netherlands<br>GDPperCapita=%{x}<br>Life expectancy=%{y}<extra></extra>",
         "legendgroup": "Netherlands",
         "marker": {
          "color": "#FF97FF",
          "symbol": "circle"
         },
         "mode": "markers",
         "name": "Netherlands",
         "orientation": "v",
         "showlegend": true,
         "type": "scatter",
         "x": [
          53950.0540635468
         ],
         "xaxis": "x",
         "y": [
          82.004
         ],
         "yaxis": "y"
        },
        {
         "hovertemplate": "Entity=New Zealand<br>GDPperCapita=%{x}<br>Life expectancy=%{y}<extra></extra>",
         "legendgroup": "New Zealand",
         "marker": {
          "color": "#FECB52",
          "symbol": "circle"
         },
         "mode": "markers",
         "name": "New Zealand",
         "orientation": "v",
         "showlegend": true,
         "type": "scatter",
         "x": [
          38592.70325665397
         ],
         "xaxis": "x",
         "y": [
          82.002
         ],
         "yaxis": "y"
        },
        {
         "hovertemplate": "Entity=Nicaragua<br>GDPperCapita=%{x}<br>Life expectancy=%{y}<extra></extra>",
         "legendgroup": "Nicaragua",
         "marker": {
          "color": "#636efa",
          "symbol": "circle"
         },
         "mode": "markers",
         "name": "Nicaragua",
         "orientation": "v",
         "showlegend": true,
         "type": "scatter",
         "x": [
          1963.4506830054502
         ],
         "xaxis": "x",
         "y": [
          74.068
         ],
         "yaxis": "y"
        },
        {
         "hovertemplate": "Entity=Niger<br>GDPperCapita=%{x}<br>Life expectancy=%{y}<extra></extra>",
         "legendgroup": "Niger",
         "marker": {
          "color": "#EF553B",
          "symbol": "circle"
         },
         "mode": "markers",
         "name": "Niger",
         "orientation": "v",
         "showlegend": true,
         "type": "scatter",
         "x": [
          393.6525754495546
         ],
         "xaxis": "x",
         "y": [
          61.599
         ],
         "yaxis": "y"
        },
        {
         "hovertemplate": "Entity=Nigeria<br>GDPperCapita=%{x}<br>Life expectancy=%{y}<extra></extra>",
         "legendgroup": "Nigeria",
         "marker": {
          "color": "#00cc96",
          "symbol": "circle"
         },
         "mode": "markers",
         "name": "Nigeria",
         "orientation": "v",
         "showlegend": true,
         "type": "scatter",
         "x": [
          2412.5783360682376
         ],
         "xaxis": "x",
         "y": [
          53.95
         ],
         "yaxis": "y"
        },
        {
         "hovertemplate": "Entity=North Macedonia<br>GDPperCapita=%{x}<br>Life expectancy=%{y}<extra></extra>",
         "legendgroup": "North Macedonia",
         "marker": {
          "color": "#ab63fa",
          "symbol": "circle"
         },
         "mode": "markers",
         "name": "North Macedonia",
         "orientation": "v",
         "showlegend": true,
         "type": "scatter",
         "x": [
          5248.282093054803
         ],
         "xaxis": "x",
         "y": [
          75.589
         ],
         "yaxis": "y"
        },
        {
         "hovertemplate": "Entity=Norway<br>GDPperCapita=%{x}<br>Life expectancy=%{y}<extra></extra>",
         "legendgroup": "Norway",
         "marker": {
          "color": "#FFA15A",
          "symbol": "circle"
         },
         "mode": "markers",
         "name": "Norway",
         "orientation": "v",
         "showlegend": true,
         "type": "scatter",
         "x": [
          90981.32256139029
         ],
         "xaxis": "x",
         "y": [
          82.146
         ],
         "yaxis": "y"
        },
        {
         "hovertemplate": "Entity=Oman<br>GDPperCapita=%{x}<br>Life expectancy=%{y}<extra></extra>",
         "legendgroup": "Oman",
         "marker": {
          "color": "#19d3f3",
          "symbol": "circle"
         },
         "mode": "markers",
         "name": "Oman",
         "orientation": "v",
         "showlegend": true,
         "type": "scatter",
         "x": [
          16041.513435599463
         ],
         "xaxis": "x",
         "y": [
          77.393
         ],
         "yaxis": "y"
        },
        {
         "hovertemplate": "Entity=Pakistan<br>GDPperCapita=%{x}<br>Life expectancy=%{y}<extra></extra>",
         "legendgroup": "Pakistan",
         "marker": {
          "color": "#FF6692",
          "symbol": "circle"
         },
         "mode": "markers",
         "name": "Pakistan",
         "orientation": "v",
         "showlegend": true,
         "type": "scatter",
         "x": [
          1158.4885232469962
         ],
         "xaxis": "x",
         "y": [
          66.947
         ],
         "yaxis": "y"
        },
        {
         "hovertemplate": "Entity=Palau<br>GDPperCapita=%{x}<br>Life expectancy=%{y}<extra></extra>",
         "legendgroup": "Palau",
         "marker": {
          "color": "#B6E880",
          "symbol": "circle"
         },
         "mode": "markers",
         "name": "Palau",
         "orientation": "v",
         "showlegend": true,
         "type": "scatter",
         "x": [
          12051.417300994945
         ],
         "xaxis": "x",
         "y": [
          73.32
         ],
         "yaxis": "y"
        },
        {
         "hovertemplate": "Entity=Palestine<br>GDPperCapita=%{x}<br>Life expectancy=%{y}<extra></extra>",
         "legendgroup": "Palestine",
         "marker": {
          "color": "#FF97FF",
          "symbol": "circle"
         },
         "mode": "markers",
         "name": "Palestine",
         "orientation": "v",
         "showlegend": true,
         "type": "scatter",
         "x": [
          2556.716968957236
         ],
         "xaxis": "x",
         "y": [
          73.74
         ],
         "yaxis": "y"
        },
        {
         "hovertemplate": "Entity=Panama<br>GDPperCapita=%{x}<br>Life expectancy=%{y}<extra></extra>",
         "legendgroup": "Panama",
         "marker": {
          "color": "#FECB52",
          "symbol": "circle"
         },
         "mode": "markers",
         "name": "Panama",
         "orientation": "v",
         "showlegend": true,
         "type": "scatter",
         "x": [
          11489.693265479986
         ],
         "xaxis": "x",
         "y": [
          78.149
         ],
         "yaxis": "y"
        },
        {
         "hovertemplate": "Entity=Papua New Guinea<br>GDPperCapita=%{x}<br>Life expectancy=%{y}<extra></extra>",
         "legendgroup": "Papua New Guinea",
         "marker": {
          "color": "#636efa",
          "symbol": "circle"
         },
         "mode": "markers",
         "name": "Papua New Guinea",
         "orientation": "v",
         "showlegend": true,
         "type": "scatter",
         "x": [
          2348.3947050418583
         ],
         "xaxis": "x",
         "y": [
          64.01
         ],
         "yaxis": "y"
        },
        {
         "hovertemplate": "Entity=Paraguay<br>GDPperCapita=%{x}<br>Life expectancy=%{y}<extra></extra>",
         "legendgroup": "Paraguay",
         "marker": {
          "color": "#EF553B",
          "symbol": "circle"
         },
         "mode": "markers",
         "name": "Paraguay",
         "orientation": "v",
         "showlegend": true,
         "type": "scatter",
         "x": [
          3874.246263594248
         ],
         "xaxis": "x",
         "y": [
          73.992
         ],
         "yaxis": "y"
        },
        {
         "hovertemplate": "Entity=Peru<br>GDPperCapita=%{x}<br>Life expectancy=%{y}<extra></extra>",
         "legendgroup": "Peru",
         "marker": {
          "color": "#00cc96",
          "symbol": "circle"
         },
         "mode": "markers",
         "name": "Peru",
         "orientation": "v",
         "showlegend": true,
         "type": "scatter",
         "x": [
          6314.326519317802
         ],
         "xaxis": "x",
         "y": [
          76.286
         ],
         "yaxis": "y"
        },
        {
         "hovertemplate": "Entity=Philippines<br>GDPperCapita=%{x}<br>Life expectancy=%{y}<extra></extra>",
         "legendgroup": "Philippines",
         "marker": {
          "color": "#ab63fa",
          "symbol": "circle"
         },
         "mode": "markers",
         "name": "Philippines",
         "orientation": "v",
         "showlegend": true,
         "type": "scatter",
         "x": [
          2884.3510430859346
         ],
         "xaxis": "x",
         "y": [
          70.952
         ],
         "yaxis": "y"
        },
        {
         "hovertemplate": "Entity=Poland<br>GDPperCapita=%{x}<br>Life expectancy=%{y}<extra></extra>",
         "legendgroup": "Poland",
         "marker": {
          "color": "#FFA15A",
          "symbol": "circle"
         },
         "mode": "markers",
         "name": "Poland",
         "orientation": "v",
         "showlegend": true,
         "type": "scatter",
         "x": [
          15760.713292936132
         ],
         "xaxis": "x",
         "y": [
          78.338
         ],
         "yaxis": "y"
        },
        {
         "hovertemplate": "Entity=Portugal<br>GDPperCapita=%{x}<br>Life expectancy=%{y}<extra></extra>",
         "legendgroup": "Portugal",
         "marker": {
          "color": "#19d3f3",
          "symbol": "circle"
         },
         "mode": "markers",
         "name": "Portugal",
         "orientation": "v",
         "showlegend": true,
         "type": "scatter",
         "x": [
          23127.1793929723
         ],
         "xaxis": "x",
         "y": [
          81.655
         ],
         "yaxis": "y"
        },
        {
         "hovertemplate": "Entity=Qatar<br>GDPperCapita=%{x}<br>Life expectancy=%{y}<extra></extra>",
         "legendgroup": "Qatar",
         "marker": {
          "color": "#FF6692",
          "symbol": "circle"
         },
         "mode": "markers",
         "name": "Qatar",
         "orientation": "v",
         "showlegend": true,
         "type": "scatter",
         "x": [
          63628.12021207412
         ],
         "xaxis": "x",
         "y": [
          79.981
         ],
         "yaxis": "y"
        },
        {
         "hovertemplate": "Entity=Romania<br>GDPperCapita=%{x}<br>Life expectancy=%{y}<extra></extra>",
         "legendgroup": "Romania",
         "marker": {
          "color": "#B6E880",
          "symbol": "circle"
         },
         "mode": "markers",
         "name": "Romania",
         "orientation": "v",
         "showlegend": true,
         "type": "scatter",
         "x": [
          10894.802686279638
         ],
         "xaxis": "x",
         "y": [
          75.79
         ],
         "yaxis": "y"
        },
        {
         "hovertemplate": "Entity=Russia<br>GDPperCapita=%{x}<br>Life expectancy=%{y}<extra></extra>",
         "legendgroup": "Russia",
         "marker": {
          "color": "#FF97FF",
          "symbol": "circle"
         },
         "mode": "markers",
         "name": "Russia",
         "orientation": "v",
         "showlegend": true,
         "type": "scatter",
         "x": [
          11544.047959580705
         ],
         "xaxis": "x",
         "y": [
          72.139
         ],
         "yaxis": "y"
        },
        {
         "hovertemplate": "Entity=Rwanda<br>GDPperCapita=%{x}<br>Life expectancy=%{y}<extra></extra>",
         "legendgroup": "Rwanda",
         "marker": {
          "color": "#FECB52",
          "symbol": "circle"
         },
         "mode": "markers",
         "name": "Rwanda",
         "orientation": "v",
         "showlegend": true,
         "type": "scatter",
         "x": [
          779.7490066089041
         ],
         "xaxis": "x",
         "y": [
          68.341
         ],
         "yaxis": "y"
        },
        {
         "hovertemplate": "Entity=Saint Kitts and Nevis<br>GDPperCapita=%{x}<br>Life expectancy=%{y}<extra></extra>",
         "legendgroup": "Saint Kitts and Nevis",
         "marker": {
          "color": "#636efa",
          "symbol": "circle"
         },
         "mode": "markers",
         "name": "Saint Kitts and Nevis",
         "orientation": "v",
         "showlegend": true,
         "type": "scatter",
         "x": [
          16794.35472127423
         ],
         "xaxis": "x",
         "y": [
          75.91
         ],
         "yaxis": "y"
        },
        {
         "hovertemplate": "Entity=Saint Lucia<br>GDPperCapita=%{x}<br>Life expectancy=%{y}<extra></extra>",
         "legendgroup": "Saint Lucia",
         "marker": {
          "color": "#EF553B",
          "symbol": "circle"
         },
         "mode": "markers",
         "name": "Saint Lucia",
         "orientation": "v",
         "showlegend": true,
         "type": "scatter",
         "x": [
          8452.687524606023
         ],
         "xaxis": "x",
         "y": [
          75.907
         ],
         "yaxis": "y"
        },
        {
         "hovertemplate": "Entity=Saint Vincent and the Grenadines<br>GDPperCapita=%{x}<br>Life expectancy=%{y}<extra></extra>",
         "legendgroup": "Saint Vincent and the Grenadines",
         "marker": {
          "color": "#00cc96",
          "symbol": "circle"
         },
         "mode": "markers",
         "name": "Saint Vincent and the Grenadines",
         "orientation": "v",
         "showlegend": true,
         "type": "scatter",
         "x": [
          6735.514265390299
         ],
         "xaxis": "x",
         "y": [
          72.3
         ],
         "yaxis": "y"
        },
        {
         "hovertemplate": "Entity=Samoa<br>GDPperCapita=%{x}<br>Life expectancy=%{y}<extra></extra>",
         "legendgroup": "Samoa",
         "marker": {
          "color": "#ab63fa",
          "symbol": "circle"
         },
         "mode": "markers",
         "name": "Samoa",
         "orientation": "v",
         "showlegend": true,
         "type": "scatter",
         "x": [
          3879.45020875761
         ],
         "xaxis": "x",
         "y": [
          73.046
         ],
         "yaxis": "y"
        },
        {
         "hovertemplate": "Entity=San Marino<br>GDPperCapita=%{x}<br>Life expectancy=%{y}<extra></extra>",
         "legendgroup": "San Marino",
         "marker": {
          "color": "#FFA15A",
          "symbol": "circle"
         },
         "mode": "markers",
         "name": "San Marino",
         "orientation": "v",
         "showlegend": true,
         "type": "scatter",
         "x": [
          51998.1805325606
         ],
         "xaxis": "x",
         "y": [
          84.699
         ],
         "yaxis": "y"
        },
        {
         "hovertemplate": "Entity=Sao Tome and Principe<br>GDPperCapita=%{x}<br>Life expectancy=%{y}<extra></extra>",
         "legendgroup": "Sao Tome and Principe",
         "marker": {
          "color": "#19d3f3",
          "symbol": "circle"
         },
         "mode": "markers",
         "name": "Sao Tome and Principe",
         "orientation": "v",
         "showlegend": true,
         "type": "scatter",
         "x": [
          1288.762361476111
         ],
         "xaxis": "x",
         "y": [
          69.933
         ],
         "yaxis": "y"
        },
        {
         "hovertemplate": "Entity=Saudi Arabia<br>GDPperCapita=%{x}<br>Life expectancy=%{y}<extra></extra>",
         "legendgroup": "Saudi Arabia",
         "marker": {
          "color": "#FF6692",
          "symbol": "circle"
         },
         "mode": "markers",
         "name": "Saudi Arabia",
         "orientation": "v",
         "showlegend": true,
         "type": "scatter",
         "x": [
          20694.04549711489
         ],
         "xaxis": "x",
         "y": [
          74.874
         ],
         "yaxis": "y"
        },
        {
         "hovertemplate": "Entity=Senegal<br>GDPperCapita=%{x}<br>Life expectancy=%{y}<extra></extra>",
         "legendgroup": "Senegal",
         "marker": {
          "color": "#B6E880",
          "symbol": "circle"
         },
         "mode": "markers",
         "name": "Senegal",
         "orientation": "v",
         "showlegend": true,
         "type": "scatter",
         "x": [
          1165.824407244004
         ],
         "xaxis": "x",
         "y": [
          67.38
         ],
         "yaxis": "y"
        },
        {
         "hovertemplate": "Entity=Serbia<br>GDPperCapita=%{x}<br>Life expectancy=%{y}<extra></extra>",
         "legendgroup": "Serbia",
         "marker": {
          "color": "#FF97FF",
          "symbol": "circle"
         },
         "mode": "markers",
         "name": "Serbia",
         "orientation": "v",
         "showlegend": true,
         "type": "scatter",
         "x": [
          4765.5051662726055
         ],
         "xaxis": "x",
         "y": [
          75.684
         ],
         "yaxis": "y"
        },
        {
         "hovertemplate": "Entity=Seychelles<br>GDPperCapita=%{x}<br>Life expectancy=%{y}<extra></extra>",
         "legendgroup": "Seychelles",
         "marker": {
          "color": "#FECB52",
          "symbol": "circle"
         },
         "mode": "markers",
         "name": "Seychelles",
         "orientation": "v",
         "showlegend": true,
         "type": "scatter",
         "x": [
          13974.193431753958
         ],
         "xaxis": "x",
         "y": [
          73.276
         ],
         "yaxis": "y"
        },
        {
         "hovertemplate": "Entity=Sierra Leone<br>GDPperCapita=%{x}<br>Life expectancy=%{y}<extra></extra>",
         "legendgroup": "Sierra Leone",
         "marker": {
          "color": "#636efa",
          "symbol": "circle"
         },
         "mode": "markers",
         "name": "Sierra Leone",
         "orientation": "v",
         "showlegend": true,
         "type": "scatter",
         "x": [
          466.7321194998571
         ],
         "xaxis": "x",
         "y": [
          53.895
         ],
         "yaxis": "y"
        },
        {
         "hovertemplate": "Entity=Singapore<br>GDPperCapita=%{x}<br>Life expectancy=%{y}<extra></extra>",
         "legendgroup": "Singapore",
         "marker": {
          "color": "#EF553B",
          "symbol": "circle"
         },
         "mode": "markers",
         "name": "Singapore",
         "orientation": "v",
         "showlegend": true,
         "type": "scatter",
         "x": [
          54308.982638511385
         ],
         "xaxis": "x",
         "y": [
          83.279
         ],
         "yaxis": "y"
        },
        {
         "hovertemplate": "Entity=Slovakia<br>GDPperCapita=%{x}<br>Life expectancy=%{y}<extra></extra>",
         "legendgroup": "Slovakia",
         "marker": {
          "color": "#00cc96",
          "symbol": "circle"
         },
         "mode": "markers",
         "name": "Slovakia",
         "orientation": "v",
         "showlegend": true,
         "type": "scatter",
         "x": [
          19867.541517165013
         ],
         "xaxis": "x",
         "y": [
          77.219
         ],
         "yaxis": "y"
        },
        {
         "hovertemplate": "Entity=Slovenia<br>GDPperCapita=%{x}<br>Life expectancy=%{y}<extra></extra>",
         "legendgroup": "Slovenia",
         "marker": {
          "color": "#ab63fa",
          "symbol": "circle"
         },
         "mode": "markers",
         "name": "Slovenia",
         "orientation": "v",
         "showlegend": true,
         "type": "scatter",
         "x": [
          25548.04657953998
         ],
         "xaxis": "x",
         "y": [
          81.016
         ],
         "yaxis": "y"
        },
        {
         "hovertemplate": "Entity=Solomon Islands<br>GDPperCapita=%{x}<br>Life expectancy=%{y}<extra></extra>",
         "legendgroup": "Solomon Islands",
         "marker": {
          "color": "#FFA15A",
          "symbol": "circle"
         },
         "mode": "markers",
         "name": "Solomon Islands",
         "orientation": "v",
         "showlegend": true,
         "type": "scatter",
         "x": [
          1462.315444722118
         ],
         "xaxis": "x",
         "y": [
          72.645
         ],
         "yaxis": "y"
        },
        {
         "hovertemplate": "Entity=South Africa<br>GDPperCapita=%{x}<br>Life expectancy=%{y}<extra></extra>",
         "legendgroup": "South Africa",
         "marker": {
          "color": "#19d3f3",
          "symbol": "circle"
         },
         "mode": "markers",
         "name": "South Africa",
         "orientation": "v",
         "showlegend": true,
         "type": "scatter",
         "x": [
          7485.8599310439395
         ],
         "xaxis": "x",
         "y": [
          63.538
         ],
         "yaxis": "y"
        },
        {
         "hovertemplate": "Entity=South Korea<br>GDPperCapita=%{x}<br>Life expectancy=%{y}<extra></extra>",
         "legendgroup": "South Korea",
         "marker": {
          "color": "#FF6692",
          "symbol": "circle"
         },
         "mode": "markers",
         "name": "South Korea",
         "orientation": "v",
         "showlegend": true,
         "type": "scatter",
         "x": [
          26341.50760170933
         ],
         "xaxis": "x",
         "y": [
          82.628
         ],
         "yaxis": "y"
        },
        {
         "hovertemplate": "Entity=Spain<br>GDPperCapita=%{x}<br>Life expectancy=%{y}<extra></extra>",
         "legendgroup": "Spain",
         "marker": {
          "color": "#B6E880",
          "symbol": "circle"
         },
         "mode": "markers",
         "name": "Spain",
         "orientation": "v",
         "showlegend": true,
         "type": "scatter",
         "x": [
          32353.667637547966
         ],
         "xaxis": "x",
         "y": [
          83.294
         ],
         "yaxis": "y"
        },
        {
         "hovertemplate": "Entity=Sri Lanka<br>GDPperCapita=%{x}<br>Life expectancy=%{y}<extra></extra>",
         "legendgroup": "Sri Lanka",
         "marker": {
          "color": "#FF97FF",
          "symbol": "circle"
         },
         "mode": "markers",
         "name": "Sri Lanka",
         "orientation": "v",
         "showlegend": true,
         "type": "scatter",
         "x": [
          3899.7631299049885
         ],
         "xaxis": "x",
         "y": [
          76.648
         ],
         "yaxis": "y"
        },
        {
         "hovertemplate": "Entity=Sudan<br>GDPperCapita=%{x}<br>Life expectancy=%{y}<extra></extra>",
         "legendgroup": "Sudan",
         "marker": {
          "color": "#FECB52",
          "symbol": "circle"
         },
         "mode": "markers",
         "name": "Sudan",
         "orientation": "v",
         "showlegend": true,
         "type": "scatter",
         "x": [
          1945.7284749482765
         ],
         "xaxis": "x",
         "y": [
          64.881
         ],
         "yaxis": "y"
        },
        {
         "hovertemplate": "Entity=Suriname<br>GDPperCapita=%{x}<br>Life expectancy=%{y}<extra></extra>",
         "legendgroup": "Suriname",
         "marker": {
          "color": "#636efa",
          "symbol": "circle"
         },
         "mode": "markers",
         "name": "Suriname",
         "orientation": "v",
         "showlegend": true,
         "type": "scatter",
         "x": [
          7936.431957189545
         ],
         "xaxis": "x",
         "y": [
          71.463
         ],
         "yaxis": "y"
        },
        {
         "hovertemplate": "Entity=Sweden<br>GDPperCapita=%{x}<br>Life expectancy=%{y}<extra></extra>",
         "legendgroup": "Sweden",
         "marker": {
          "color": "#EF553B",
          "symbol": "circle"
         },
         "mode": "markers",
         "name": "Sweden",
         "orientation": "v",
         "showlegend": true,
         "type": "scatter",
         "x": [
          57870.66129200807
         ],
         "xaxis": "x",
         "y": [
          82.516
         ],
         "yaxis": "y"
        },
        {
         "hovertemplate": "Entity=Switzerland<br>GDPperCapita=%{x}<br>Life expectancy=%{y}<extra></extra>",
         "legendgroup": "Switzerland",
         "marker": {
          "color": "#00cc96",
          "symbol": "circle"
         },
         "mode": "markers",
         "name": "Switzerland",
         "orientation": "v",
         "showlegend": true,
         "type": "scatter",
         "x": [
          76758.26449703275
         ],
         "xaxis": "x",
         "y": [
          83.473
         ],
         "yaxis": "y"
        },
        {
         "hovertemplate": "Entity=Tajikistan<br>GDPperCapita=%{x}<br>Life expectancy=%{y}<extra></extra>",
         "legendgroup": "Tajikistan",
         "marker": {
          "color": "#ab63fa",
          "symbol": "circle"
         },
         "mode": "markers",
         "name": "Tajikistan",
         "orientation": "v",
         "showlegend": true,
         "type": "scatter",
         "x": [
          1020.1999665853256
         ],
         "xaxis": "x",
         "y": [
          70.647
         ],
         "yaxis": "y"
        },
        {
         "hovertemplate": "Entity=Tanzania<br>GDPperCapita=%{x}<br>Life expectancy=%{y}<extra></extra>",
         "legendgroup": "Tanzania",
         "marker": {
          "color": "#FFA15A",
          "symbol": "circle"
         },
         "mode": "markers",
         "name": "Tanzania",
         "orientation": "v",
         "showlegend": true,
         "type": "scatter",
         "x": [
          916.5431662911818
         ],
         "xaxis": "x",
         "y": [
          64.479
         ],
         "yaxis": "y"
        },
        {
         "hovertemplate": "Entity=Thailand<br>GDPperCapita=%{x}<br>Life expectancy=%{y}<extra></extra>",
         "legendgroup": "Thailand",
         "marker": {
          "color": "#19d3f3",
          "symbol": "circle"
         },
         "mode": "markers",
         "name": "Thailand",
         "orientation": "v",
         "showlegend": true,
         "type": "scatter",
         "x": [
          6110.393755646091
         ],
         "xaxis": "x",
         "y": [
          76.683
         ],
         "yaxis": "y"
        },
        {
         "hovertemplate": "Entity=Timor<br>GDPperCapita=%{x}<br>Life expectancy=%{y}<extra></extra>",
         "legendgroup": "Timor",
         "marker": {
          "color": "#FF6692",
          "symbol": "circle"
         },
         "mode": "markers",
         "name": "Timor",
         "orientation": "v",
         "showlegend": true,
         "type": "scatter",
         "x": [
          2786.7006105681335
         ],
         "xaxis": "x",
         "y": [
          69.007
         ],
         "yaxis": "y"
        },
        {
         "hovertemplate": "Entity=Togo<br>GDPperCapita=%{x}<br>Life expectancy=%{y}<extra></extra>",
         "legendgroup": "Togo",
         "marker": {
          "color": "#B6E880",
          "symbol": "circle"
         },
         "mode": "markers",
         "name": "Togo",
         "orientation": "v",
         "showlegend": true,
         "type": "scatter",
         "x": [
          584.8597238590712
         ],
         "xaxis": "x",
         "y": [
          60.489
         ],
         "yaxis": "y"
        },
        {
         "hovertemplate": "Entity=Tonga<br>GDPperCapita=%{x}<br>Life expectancy=%{y}<extra></extra>",
         "legendgroup": "Tonga",
         "marker": {
          "color": "#FF97FF",
          "symbol": "circle"
         },
         "mode": "markers",
         "name": "Tonga",
         "orientation": "v",
         "showlegend": true,
         "type": "scatter",
         "x": [
          4090.2561115260783
         ],
         "xaxis": "x",
         "y": [
          70.701
         ],
         "yaxis": "y"
        },
        {
         "hovertemplate": "Entity=Trinidad and Tobago<br>GDPperCapita=%{x}<br>Life expectancy=%{y}<extra></extra>",
         "legendgroup": "Trinidad and Tobago",
         "marker": {
          "color": "#FECB52",
          "symbol": "circle"
         },
         "mode": "markers",
         "name": "Trinidad and Tobago",
         "orientation": "v",
         "showlegend": true,
         "type": "scatter",
         "x": [
          15185.862214853612
         ],
         "xaxis": "x",
         "y": [
          73.245
         ],
         "yaxis": "y"
        },
        {
         "hovertemplate": "Entity=Tunisia<br>GDPperCapita=%{x}<br>Life expectancy=%{y}<extra></extra>",
         "legendgroup": "Tunisia",
         "marker": {
          "color": "#636efa",
          "symbol": "circle"
         },
         "mode": "markers",
         "name": "Tunisia",
         "orientation": "v",
         "showlegend": true,
         "type": "scatter",
         "x": [
          4341.280063602292
         ],
         "xaxis": "x",
         "y": [
          76.31
         ],
         "yaxis": "y"
        },
        {
         "hovertemplate": "Entity=Turkey<br>GDPperCapita=%{x}<br>Life expectancy=%{y}<extra></extra>",
         "legendgroup": "Turkey",
         "marker": {
          "color": "#EF553B",
          "symbol": "circle"
         },
         "mode": "markers",
         "name": "Turkey",
         "orientation": "v",
         "showlegend": true,
         "type": "scatter",
         "x": [
          14864.968662745698
         ],
         "xaxis": "x",
         "y": [
          77.161
         ],
         "yaxis": "y"
        },
        {
         "hovertemplate": "Entity=Turkmenistan<br>GDPperCapita=%{x}<br>Life expectancy=%{y}<extra></extra>",
         "legendgroup": "Turkmenistan",
         "marker": {
          "color": "#00cc96",
          "symbol": "circle"
         },
         "mode": "markers",
         "name": "Turkmenistan",
         "orientation": "v",
         "showlegend": true,
         "type": "scatter",
         "x": [
          7317.644819810507
         ],
         "xaxis": "x",
         "y": [
          67.956
         ],
         "yaxis": "y"
        },
        {
         "hovertemplate": "Entity=Tuvalu<br>GDPperCapita=%{x}<br>Life expectancy=%{y}<extra></extra>",
         "legendgroup": "Tuvalu",
         "marker": {
          "color": "#ab63fa",
          "symbol": "circle"
         },
         "mode": "markers",
         "name": "Tuvalu",
         "orientation": "v",
         "showlegend": true,
         "type": "scatter",
         "x": [
          3680.6712693304994
         ],
         "xaxis": "x",
         "y": [
          67.089
         ],
         "yaxis": "y"
        },
        {
         "hovertemplate": "Entity=Uganda<br>GDPperCapita=%{x}<br>Life expectancy=%{y}<extra></extra>",
         "legendgroup": "Uganda",
         "marker": {
          "color": "#FFA15A",
          "symbol": "circle"
         },
         "mode": "markers",
         "name": "Uganda",
         "orientation": "v",
         "showlegend": true,
         "type": "scatter",
         "x": [
          694.0680136942867
         ],
         "xaxis": "x",
         "y": [
          62.516
         ],
         "yaxis": "y"
        },
        {
         "hovertemplate": "Entity=Ukraine<br>GDPperCapita=%{x}<br>Life expectancy=%{y}<extra></extra>",
         "legendgroup": "Ukraine",
         "marker": {
          "color": "#19d3f3",
          "symbol": "circle"
         },
         "mode": "markers",
         "name": "Ukraine",
         "orientation": "v",
         "showlegend": true,
         "type": "scatter",
         "x": [
          2856.967863917371
         ],
         "xaxis": "x",
         "y": [
          71.84
         ],
         "yaxis": "y"
        },
        {
         "hovertemplate": "Entity=United Arab Emirates<br>GDPperCapita=%{x}<br>Life expectancy=%{y}<extra></extra>",
         "legendgroup": "United Arab Emirates",
         "marker": {
          "color": "#FF6692",
          "symbol": "circle"
         },
         "mode": "markers",
         "name": "United Arab Emirates",
         "orientation": "v",
         "showlegend": true,
         "type": "scatter",
         "x": [
          40820.002119628756
         ],
         "xaxis": "x",
         "y": [
          77.647
         ],
         "yaxis": "y"
        },
        {
         "hovertemplate": "Entity=United Kingdom<br>GDPperCapita=%{x}<br>Life expectancy=%{y}<extra></extra>",
         "legendgroup": "United Kingdom",
         "marker": {
          "color": "#B6E880",
          "symbol": "circle"
         },
         "mode": "markers",
         "name": "United Kingdom",
         "orientation": "v",
         "showlegend": true,
         "type": "scatter",
         "x": [
          42065.47719657815
         ],
         "xaxis": "x",
         "y": [
          81.168
         ],
         "yaxis": "y"
        },
        {
         "hovertemplate": "Entity=United States<br>GDPperCapita=%{x}<br>Life expectancy=%{y}<extra></extra>",
         "legendgroup": "United States",
         "marker": {
          "color": "#FF97FF",
          "symbol": "circle"
         },
         "mode": "markers",
         "name": "United States",
         "orientation": "v",
         "showlegend": true,
         "type": "scatter",
         "x": [
          53232.18452176347
         ],
         "xaxis": "x",
         "y": [
          78.861
         ],
         "yaxis": "y"
        },
        {
         "hovertemplate": "Entity=Uruguay<br>GDPperCapita=%{x}<br>Life expectancy=%{y}<extra></extra>",
         "legendgroup": "Uruguay",
         "marker": {
          "color": "#FECB52",
          "symbol": "circle"
         },
         "mode": "markers",
         "name": "Uruguay",
         "orientation": "v",
         "showlegend": true,
         "type": "scatter",
         "x": [
          14445.09266111056
         ],
         "xaxis": "x",
         "y": [
          77.632
         ],
         "yaxis": "y"
        },
        {
         "hovertemplate": "Entity=Uzbekistan<br>GDPperCapita=%{x}<br>Life expectancy=%{y}<extra></extra>",
         "legendgroup": "Uzbekistan",
         "marker": {
          "color": "#636efa",
          "symbol": "circle"
         },
         "mode": "markers",
         "name": "Uzbekistan",
         "orientation": "v",
         "showlegend": true,
         "type": "scatter",
         "x": [
          2058.1961771873657
         ],
         "xaxis": "x",
         "y": [
          71.388
         ],
         "yaxis": "y"
        },
        {
         "hovertemplate": "Entity=Vanuatu<br>GDPperCapita=%{x}<br>Life expectancy=%{y}<extra></extra>",
         "legendgroup": "Vanuatu",
         "marker": {
          "color": "#EF553B",
          "symbol": "circle"
         },
         "mode": "markers",
         "name": "Vanuatu",
         "orientation": "v",
         "showlegend": true,
         "type": "scatter",
         "x": [
          2849.2103791819964
         ],
         "xaxis": "x",
         "y": [
          70.172
         ],
         "yaxis": "y"
        },
        {
         "hovertemplate": "Entity=Vietnam<br>GDPperCapita=%{x}<br>Life expectancy=%{y}<extra></extra>",
         "legendgroup": "Vietnam",
         "marker": {
          "color": "#00cc96",
          "symbol": "circle"
         },
         "mode": "markers",
         "name": "Vietnam",
         "orientation": "v",
         "showlegend": true,
         "type": "scatter",
         "x": [
          1852.8776765697721
         ],
         "xaxis": "x",
         "y": [
          75.241
         ],
         "yaxis": "y"
        },
        {
         "hovertemplate": "Entity=Zambia<br>GDPperCapita=%{x}<br>Life expectancy=%{y}<extra></extra>",
         "legendgroup": "Zambia",
         "marker": {
          "color": "#ab63fa",
          "symbol": "circle"
         },
         "mode": "markers",
         "name": "Zambia",
         "orientation": "v",
         "showlegend": true,
         "type": "scatter",
         "x": [
          1669.5975269283852
         ],
         "xaxis": "x",
         "y": [
          63.043
         ],
         "yaxis": "y"
        },
        {
         "hovertemplate": "Entity=Zimbabwe<br>GDPperCapita=%{x}<br>Life expectancy=%{y}<extra></extra>",
         "legendgroup": "Zimbabwe",
         "marker": {
          "color": "#FFA15A",
          "symbol": "circle"
         },
         "mode": "markers",
         "name": "Zimbabwe",
         "orientation": "v",
         "showlegend": true,
         "type": "scatter",
         "x": [
          1076.7585014988622
         ],
         "xaxis": "x",
         "y": [
          60.812
         ],
         "yaxis": "y"
        }
       ],
       "layout": {
        "annotations": [
         {
          "showarrow": false,
          "text": "GDPpercapita median",
          "x": 3550.577906522096,
          "xanchor": "left",
          "xref": "x",
          "y": 1,
          "yanchor": "top",
          "yref": "y domain"
         },
         {
          "showarrow": false,
          "text": "Life exp median",
          "x": 1,
          "xanchor": "right",
          "xref": "x domain",
          "y": 68.176,
          "yanchor": "bottom",
          "yref": "y"
         },
         {
          "showarrow": false,
          "text": "GDPpercapita mean",
          "x": 10924.324230529928,
          "xanchor": "left",
          "xref": "x",
          "y": 1,
          "yanchor": "top",
          "yref": "y domain"
         },
         {
          "showarrow": false,
          "text": "Life exp mean",
          "x": 1,
          "xanchor": "right",
          "xref": "x domain",
          "y": 65.1076625240084,
          "yanchor": "bottom",
          "yref": "y"
         }
        ],
        "height": 600,
        "legend": {
         "title": {
          "text": "Entity"
         },
         "tracegroupgap": 0
        },
        "margin": {
         "t": 60
        },
        "shapes": [
         {
          "line": {
           "color": "green",
           "dash": "dash",
           "width": 2
          },
          "opacity": 1,
          "type": "line",
          "x0": 3550.577906522096,
          "x1": 3550.577906522096,
          "xref": "x",
          "y0": 0,
          "y1": 1,
          "yref": "y domain"
         },
         {
          "line": {
           "color": "green",
           "dash": "dash",
           "width": 2
          },
          "opacity": 1,
          "type": "line",
          "x0": 0,
          "x1": 1,
          "xref": "x domain",
          "y0": 68.176,
          "y1": 68.176,
          "yref": "y"
         },
         {
          "line": {
           "color": "red",
           "dash": "dash",
           "width": 2
          },
          "opacity": 1,
          "type": "line",
          "x0": 10924.324230529928,
          "x1": 10924.324230529928,
          "xref": "x",
          "y0": 0,
          "y1": 1,
          "yref": "y domain"
         },
         {
          "line": {
           "color": "red",
           "dash": "dash",
           "width": 2
          },
          "opacity": 1,
          "type": "line",
          "x0": 0,
          "x1": 1,
          "xref": "x domain",
          "y0": 65.1076625240084,
          "y1": 65.1076625240084,
          "yref": "y"
         }
        ],
        "template": {
         "data": {
          "bar": [
           {
            "error_x": {
             "color": "rgb(36,36,36)"
            },
            "error_y": {
             "color": "rgb(36,36,36)"
            },
            "marker": {
             "line": {
              "color": "white",
              "width": 0.5
             },
             "pattern": {
              "fillmode": "overlay",
              "size": 10,
              "solidity": 0.2
             }
            },
            "type": "bar"
           }
          ],
          "barpolar": [
           {
            "marker": {
             "line": {
              "color": "white",
              "width": 0.5
             },
             "pattern": {
              "fillmode": "overlay",
              "size": 10,
              "solidity": 0.2
             }
            },
            "type": "barpolar"
           }
          ],
          "carpet": [
           {
            "aaxis": {
             "endlinecolor": "rgb(36,36,36)",
             "gridcolor": "white",
             "linecolor": "white",
             "minorgridcolor": "white",
             "startlinecolor": "rgb(36,36,36)"
            },
            "baxis": {
             "endlinecolor": "rgb(36,36,36)",
             "gridcolor": "white",
             "linecolor": "white",
             "minorgridcolor": "white",
             "startlinecolor": "rgb(36,36,36)"
            },
            "type": "carpet"
           }
          ],
          "choropleth": [
           {
            "colorbar": {
             "outlinewidth": 1,
             "tickcolor": "rgb(36,36,36)",
             "ticks": "outside"
            },
            "type": "choropleth"
           }
          ],
          "contour": [
           {
            "colorbar": {
             "outlinewidth": 1,
             "tickcolor": "rgb(36,36,36)",
             "ticks": "outside"
            },
            "colorscale": [
             [
              0,
              "#440154"
             ],
             [
              0.1111111111111111,
              "#482878"
             ],
             [
              0.2222222222222222,
              "#3e4989"
             ],
             [
              0.3333333333333333,
              "#31688e"
             ],
             [
              0.4444444444444444,
              "#26828e"
             ],
             [
              0.5555555555555556,
              "#1f9e89"
             ],
             [
              0.6666666666666666,
              "#35b779"
             ],
             [
              0.7777777777777778,
              "#6ece58"
             ],
             [
              0.8888888888888888,
              "#b5de2b"
             ],
             [
              1,
              "#fde725"
             ]
            ],
            "type": "contour"
           }
          ],
          "contourcarpet": [
           {
            "colorbar": {
             "outlinewidth": 1,
             "tickcolor": "rgb(36,36,36)",
             "ticks": "outside"
            },
            "type": "contourcarpet"
           }
          ],
          "heatmap": [
           {
            "colorbar": {
             "outlinewidth": 1,
             "tickcolor": "rgb(36,36,36)",
             "ticks": "outside"
            },
            "colorscale": [
             [
              0,
              "#440154"
             ],
             [
              0.1111111111111111,
              "#482878"
             ],
             [
              0.2222222222222222,
              "#3e4989"
             ],
             [
              0.3333333333333333,
              "#31688e"
             ],
             [
              0.4444444444444444,
              "#26828e"
             ],
             [
              0.5555555555555556,
              "#1f9e89"
             ],
             [
              0.6666666666666666,
              "#35b779"
             ],
             [
              0.7777777777777778,
              "#6ece58"
             ],
             [
              0.8888888888888888,
              "#b5de2b"
             ],
             [
              1,
              "#fde725"
             ]
            ],
            "type": "heatmap"
           }
          ],
          "heatmapgl": [
           {
            "colorbar": {
             "outlinewidth": 1,
             "tickcolor": "rgb(36,36,36)",
             "ticks": "outside"
            },
            "colorscale": [
             [
              0,
              "#440154"
             ],
             [
              0.1111111111111111,
              "#482878"
             ],
             [
              0.2222222222222222,
              "#3e4989"
             ],
             [
              0.3333333333333333,
              "#31688e"
             ],
             [
              0.4444444444444444,
              "#26828e"
             ],
             [
              0.5555555555555556,
              "#1f9e89"
             ],
             [
              0.6666666666666666,
              "#35b779"
             ],
             [
              0.7777777777777778,
              "#6ece58"
             ],
             [
              0.8888888888888888,
              "#b5de2b"
             ],
             [
              1,
              "#fde725"
             ]
            ],
            "type": "heatmapgl"
           }
          ],
          "histogram": [
           {
            "marker": {
             "line": {
              "color": "white",
              "width": 0.6
             }
            },
            "type": "histogram"
           }
          ],
          "histogram2d": [
           {
            "colorbar": {
             "outlinewidth": 1,
             "tickcolor": "rgb(36,36,36)",
             "ticks": "outside"
            },
            "colorscale": [
             [
              0,
              "#440154"
             ],
             [
              0.1111111111111111,
              "#482878"
             ],
             [
              0.2222222222222222,
              "#3e4989"
             ],
             [
              0.3333333333333333,
              "#31688e"
             ],
             [
              0.4444444444444444,
              "#26828e"
             ],
             [
              0.5555555555555556,
              "#1f9e89"
             ],
             [
              0.6666666666666666,
              "#35b779"
             ],
             [
              0.7777777777777778,
              "#6ece58"
             ],
             [
              0.8888888888888888,
              "#b5de2b"
             ],
             [
              1,
              "#fde725"
             ]
            ],
            "type": "histogram2d"
           }
          ],
          "histogram2dcontour": [
           {
            "colorbar": {
             "outlinewidth": 1,
             "tickcolor": "rgb(36,36,36)",
             "ticks": "outside"
            },
            "colorscale": [
             [
              0,
              "#440154"
             ],
             [
              0.1111111111111111,
              "#482878"
             ],
             [
              0.2222222222222222,
              "#3e4989"
             ],
             [
              0.3333333333333333,
              "#31688e"
             ],
             [
              0.4444444444444444,
              "#26828e"
             ],
             [
              0.5555555555555556,
              "#1f9e89"
             ],
             [
              0.6666666666666666,
              "#35b779"
             ],
             [
              0.7777777777777778,
              "#6ece58"
             ],
             [
              0.8888888888888888,
              "#b5de2b"
             ],
             [
              1,
              "#fde725"
             ]
            ],
            "type": "histogram2dcontour"
           }
          ],
          "mesh3d": [
           {
            "colorbar": {
             "outlinewidth": 1,
             "tickcolor": "rgb(36,36,36)",
             "ticks": "outside"
            },
            "type": "mesh3d"
           }
          ],
          "parcoords": [
           {
            "line": {
             "colorbar": {
              "outlinewidth": 1,
              "tickcolor": "rgb(36,36,36)",
              "ticks": "outside"
             }
            },
            "type": "parcoords"
           }
          ],
          "pie": [
           {
            "automargin": true,
            "type": "pie"
           }
          ],
          "scatter": [
           {
            "fillpattern": {
             "fillmode": "overlay",
             "size": 10,
             "solidity": 0.2
            },
            "type": "scatter"
           }
          ],
          "scatter3d": [
           {
            "line": {
             "colorbar": {
              "outlinewidth": 1,
              "tickcolor": "rgb(36,36,36)",
              "ticks": "outside"
             }
            },
            "marker": {
             "colorbar": {
              "outlinewidth": 1,
              "tickcolor": "rgb(36,36,36)",
              "ticks": "outside"
             }
            },
            "type": "scatter3d"
           }
          ],
          "scattercarpet": [
           {
            "marker": {
             "colorbar": {
              "outlinewidth": 1,
              "tickcolor": "rgb(36,36,36)",
              "ticks": "outside"
             }
            },
            "type": "scattercarpet"
           }
          ],
          "scattergeo": [
           {
            "marker": {
             "colorbar": {
              "outlinewidth": 1,
              "tickcolor": "rgb(36,36,36)",
              "ticks": "outside"
             }
            },
            "type": "scattergeo"
           }
          ],
          "scattergl": [
           {
            "marker": {
             "colorbar": {
              "outlinewidth": 1,
              "tickcolor": "rgb(36,36,36)",
              "ticks": "outside"
             }
            },
            "type": "scattergl"
           }
          ],
          "scattermapbox": [
           {
            "marker": {
             "colorbar": {
              "outlinewidth": 1,
              "tickcolor": "rgb(36,36,36)",
              "ticks": "outside"
             }
            },
            "type": "scattermapbox"
           }
          ],
          "scatterpolar": [
           {
            "marker": {
             "colorbar": {
              "outlinewidth": 1,
              "tickcolor": "rgb(36,36,36)",
              "ticks": "outside"
             }
            },
            "type": "scatterpolar"
           }
          ],
          "scatterpolargl": [
           {
            "marker": {
             "colorbar": {
              "outlinewidth": 1,
              "tickcolor": "rgb(36,36,36)",
              "ticks": "outside"
             }
            },
            "type": "scatterpolargl"
           }
          ],
          "scatterternary": [
           {
            "marker": {
             "colorbar": {
              "outlinewidth": 1,
              "tickcolor": "rgb(36,36,36)",
              "ticks": "outside"
             }
            },
            "type": "scatterternary"
           }
          ],
          "surface": [
           {
            "colorbar": {
             "outlinewidth": 1,
             "tickcolor": "rgb(36,36,36)",
             "ticks": "outside"
            },
            "colorscale": [
             [
              0,
              "#440154"
             ],
             [
              0.1111111111111111,
              "#482878"
             ],
             [
              0.2222222222222222,
              "#3e4989"
             ],
             [
              0.3333333333333333,
              "#31688e"
             ],
             [
              0.4444444444444444,
              "#26828e"
             ],
             [
              0.5555555555555556,
              "#1f9e89"
             ],
             [
              0.6666666666666666,
              "#35b779"
             ],
             [
              0.7777777777777778,
              "#6ece58"
             ],
             [
              0.8888888888888888,
              "#b5de2b"
             ],
             [
              1,
              "#fde725"
             ]
            ],
            "type": "surface"
           }
          ],
          "table": [
           {
            "cells": {
             "fill": {
              "color": "rgb(237,237,237)"
             },
             "line": {
              "color": "white"
             }
            },
            "header": {
             "fill": {
              "color": "rgb(217,217,217)"
             },
             "line": {
              "color": "white"
             }
            },
            "type": "table"
           }
          ]
         },
         "layout": {
          "annotationdefaults": {
           "arrowhead": 0,
           "arrowwidth": 1
          },
          "autotypenumbers": "strict",
          "coloraxis": {
           "colorbar": {
            "outlinewidth": 1,
            "tickcolor": "rgb(36,36,36)",
            "ticks": "outside"
           }
          },
          "colorscale": {
           "diverging": [
            [
             0,
             "rgb(103,0,31)"
            ],
            [
             0.1,
             "rgb(178,24,43)"
            ],
            [
             0.2,
             "rgb(214,96,77)"
            ],
            [
             0.3,
             "rgb(244,165,130)"
            ],
            [
             0.4,
             "rgb(253,219,199)"
            ],
            [
             0.5,
             "rgb(247,247,247)"
            ],
            [
             0.6,
             "rgb(209,229,240)"
            ],
            [
             0.7,
             "rgb(146,197,222)"
            ],
            [
             0.8,
             "rgb(67,147,195)"
            ],
            [
             0.9,
             "rgb(33,102,172)"
            ],
            [
             1,
             "rgb(5,48,97)"
            ]
           ],
           "sequential": [
            [
             0,
             "#440154"
            ],
            [
             0.1111111111111111,
             "#482878"
            ],
            [
             0.2222222222222222,
             "#3e4989"
            ],
            [
             0.3333333333333333,
             "#31688e"
            ],
            [
             0.4444444444444444,
             "#26828e"
            ],
            [
             0.5555555555555556,
             "#1f9e89"
            ],
            [
             0.6666666666666666,
             "#35b779"
            ],
            [
             0.7777777777777778,
             "#6ece58"
            ],
            [
             0.8888888888888888,
             "#b5de2b"
            ],
            [
             1,
             "#fde725"
            ]
           ],
           "sequentialminus": [
            [
             0,
             "#440154"
            ],
            [
             0.1111111111111111,
             "#482878"
            ],
            [
             0.2222222222222222,
             "#3e4989"
            ],
            [
             0.3333333333333333,
             "#31688e"
            ],
            [
             0.4444444444444444,
             "#26828e"
            ],
            [
             0.5555555555555556,
             "#1f9e89"
            ],
            [
             0.6666666666666666,
             "#35b779"
            ],
            [
             0.7777777777777778,
             "#6ece58"
            ],
            [
             0.8888888888888888,
             "#b5de2b"
            ],
            [
             1,
             "#fde725"
            ]
           ]
          },
          "colorway": [
           "#1F77B4",
           "#FF7F0E",
           "#2CA02C",
           "#D62728",
           "#9467BD",
           "#8C564B",
           "#E377C2",
           "#7F7F7F",
           "#BCBD22",
           "#17BECF"
          ],
          "font": {
           "color": "rgb(36,36,36)"
          },
          "geo": {
           "bgcolor": "white",
           "lakecolor": "white",
           "landcolor": "white",
           "showlakes": true,
           "showland": true,
           "subunitcolor": "white"
          },
          "hoverlabel": {
           "align": "left"
          },
          "hovermode": "closest",
          "mapbox": {
           "style": "light"
          },
          "paper_bgcolor": "white",
          "plot_bgcolor": "white",
          "polar": {
           "angularaxis": {
            "gridcolor": "rgb(232,232,232)",
            "linecolor": "rgb(36,36,36)",
            "showgrid": false,
            "showline": true,
            "ticks": "outside"
           },
           "bgcolor": "white",
           "radialaxis": {
            "gridcolor": "rgb(232,232,232)",
            "linecolor": "rgb(36,36,36)",
            "showgrid": false,
            "showline": true,
            "ticks": "outside"
           }
          },
          "scene": {
           "xaxis": {
            "backgroundcolor": "white",
            "gridcolor": "rgb(232,232,232)",
            "gridwidth": 2,
            "linecolor": "rgb(36,36,36)",
            "showbackground": true,
            "showgrid": false,
            "showline": true,
            "ticks": "outside",
            "zeroline": false,
            "zerolinecolor": "rgb(36,36,36)"
           },
           "yaxis": {
            "backgroundcolor": "white",
            "gridcolor": "rgb(232,232,232)",
            "gridwidth": 2,
            "linecolor": "rgb(36,36,36)",
            "showbackground": true,
            "showgrid": false,
            "showline": true,
            "ticks": "outside",
            "zeroline": false,
            "zerolinecolor": "rgb(36,36,36)"
           },
           "zaxis": {
            "backgroundcolor": "white",
            "gridcolor": "rgb(232,232,232)",
            "gridwidth": 2,
            "linecolor": "rgb(36,36,36)",
            "showbackground": true,
            "showgrid": false,
            "showline": true,
            "ticks": "outside",
            "zeroline": false,
            "zerolinecolor": "rgb(36,36,36)"
           }
          },
          "shapedefaults": {
           "fillcolor": "black",
           "line": {
            "width": 0
           },
           "opacity": 0.3
          },
          "ternary": {
           "aaxis": {
            "gridcolor": "rgb(232,232,232)",
            "linecolor": "rgb(36,36,36)",
            "showgrid": false,
            "showline": true,
            "ticks": "outside"
           },
           "baxis": {
            "gridcolor": "rgb(232,232,232)",
            "linecolor": "rgb(36,36,36)",
            "showgrid": false,
            "showline": true,
            "ticks": "outside"
           },
           "bgcolor": "white",
           "caxis": {
            "gridcolor": "rgb(232,232,232)",
            "linecolor": "rgb(36,36,36)",
            "showgrid": false,
            "showline": true,
            "ticks": "outside"
           }
          },
          "title": {
           "x": 0.05
          },
          "xaxis": {
           "automargin": true,
           "gridcolor": "rgb(232,232,232)",
           "linecolor": "rgb(36,36,36)",
           "showgrid": false,
           "showline": true,
           "ticks": "outside",
           "title": {
            "standoff": 15
           },
           "zeroline": false,
           "zerolinecolor": "rgb(36,36,36)"
          },
          "yaxis": {
           "automargin": true,
           "gridcolor": "rgb(232,232,232)",
           "linecolor": "rgb(36,36,36)",
           "showgrid": false,
           "showline": true,
           "ticks": "outside",
           "title": {
            "standoff": 15
           },
           "zeroline": false,
           "zerolinecolor": "rgb(36,36,36)"
          }
         }
        },
        "title": {
         "text": "Life Expectancy by GDPperCapita"
        },
        "width": 800,
        "xaxis": {
         "anchor": "y",
         "domain": [
          0,
          1
         ],
         "title": {
          "text": "GDPperCapita"
         }
        },
        "yaxis": {
         "anchor": "x",
         "domain": [
          0,
          1
         ],
         "title": {
          "text": "LifeExp"
         }
        }
       }
      },
      "text/html": [
       "<div>                            <div id=\"8905a3ba-de92-4d8b-bd5c-14dae408d21d\" class=\"plotly-graph-div\" style=\"height:600px; width:800px;\"></div>            <script type=\"text/javascript\">                require([\"plotly\"], function(Plotly) {                    window.PLOTLYENV=window.PLOTLYENV || {};                                    if (document.getElementById(\"8905a3ba-de92-4d8b-bd5c-14dae408d21d\")) {                    Plotly.newPlot(                        \"8905a3ba-de92-4d8b-bd5c-14dae408d21d\",                        [{\"hovertemplate\":\"Entity=Afghanistan\\u003cbr\\u003eGDPperCapita=%{x}\\u003cbr\\u003eLife expectancy=%{y}\\u003cextra\\u003e\\u003c\\u002fextra\\u003e\",\"legendgroup\":\"Afghanistan\",\"marker\":{\"color\":\"#636efa\",\"symbol\":\"circle\"},\"mode\":\"markers\",\"name\":\"Afghanistan\",\"orientation\":\"v\",\"showlegend\":true,\"x\":[605.2847176666327],\"xaxis\":\"x\",\"y\":[64.13],\"yaxis\":\"y\",\"type\":\"scatter\"},{\"hovertemplate\":\"Entity=Albania\\u003cbr\\u003eGDPperCapita=%{x}\\u003cbr\\u003eLife expectancy=%{y}\\u003cextra\\u003e\\u003c\\u002fextra\\u003e\",\"legendgroup\":\"Albania\",\"marker\":{\"color\":\"#EF553B\",\"symbol\":\"circle\"},\"mode\":\"markers\",\"name\":\"Albania\",\"orientation\":\"v\",\"showlegend\":true,\"x\":[4850.400742998023],\"xaxis\":\"x\",\"y\":[78.333],\"yaxis\":\"y\",\"type\":\"scatter\"},{\"hovertemplate\":\"Entity=Algeria\\u003cbr\\u003eGDPperCapita=%{x}\\u003cbr\\u003eLife expectancy=%{y}\\u003cextra\\u003e\\u003c\\u002fextra\\u003e\",\"legendgroup\":\"Algeria\",\"marker\":{\"color\":\"#00cc96\",\"symbol\":\"circle\"},\"mode\":\"markers\",\"name\":\"Algeria\",\"orientation\":\"v\",\"showlegend\":true,\"x\":[4816.917875943996],\"xaxis\":\"x\",\"y\":[76.499],\"yaxis\":\"y\",\"type\":\"scatter\"},{\"hovertemplate\":\"Entity=Andorra\\u003cbr\\u003eGDPperCapita=%{x}\\u003cbr\\u003eLife expectancy=%{y}\\u003cextra\\u003e\\u003c\\u002fextra\\u003e\",\"legendgroup\":\"Andorra\",\"marker\":{\"color\":\"#ab63fa\",\"symbol\":\"circle\"},\"mode\":\"markers\",\"name\":\"Andorra\",\"orientation\":\"v\",\"showlegend\":true,\"x\":[43922.96412369883],\"xaxis\":\"x\",\"y\":[83.443],\"yaxis\":\"y\",\"type\":\"scatter\"},{\"hovertemplate\":\"Entity=Angola\\u003cbr\\u003eGDPperCapita=%{x}\\u003cbr\\u003eLife expectancy=%{y}\\u003cextra\\u003e\\u003c\\u002fextra\\u003e\",\"legendgroup\":\"Angola\",\"marker\":{\"color\":\"#FFA15A\",\"symbol\":\"circle\"},\"mode\":\"markers\",\"name\":\"Angola\",\"orientation\":\"v\",\"showlegend\":true,\"x\":[3480.765485461146],\"xaxis\":\"x\",\"y\":[60.379],\"yaxis\":\"y\",\"type\":\"scatter\"},{\"hovertemplate\":\"Entity=Antigua and Barbuda\\u003cbr\\u003eGDPperCapita=%{x}\\u003cbr\\u003eLife expectancy=%{y}\\u003cextra\\u003e\\u003c\\u002fextra\\u003e\",\"legendgroup\":\"Antigua and Barbuda\",\"marker\":{\"color\":\"#19d3f3\",\"symbol\":\"circle\"},\"mode\":\"markers\",\"name\":\"Antigua and Barbuda\",\"orientation\":\"v\",\"showlegend\":true,\"x\":[14623.537998553686],\"xaxis\":\"x\",\"y\":[76.752],\"yaxis\":\"y\",\"type\":\"scatter\"},{\"hovertemplate\":\"Entity=Argentina\\u003cbr\\u003eGDPperCapita=%{x}\\u003cbr\\u003eLife expectancy=%{y}\\u003cextra\\u003e\\u003c\\u002fextra\\u003e\",\"legendgroup\":\"Argentina\",\"marker\":{\"color\":\"#FF6692\",\"symbol\":\"circle\"},\"mode\":\"markers\",\"name\":\"Argentina\",\"orientation\":\"v\",\"showlegend\":true,\"x\":[10477.146319354326],\"xaxis\":\"x\",\"y\":[76.372],\"yaxis\":\"y\",\"type\":\"scatter\"},{\"hovertemplate\":\"Entity=Armenia\\u003cbr\\u003eGDPperCapita=%{x}\\u003cbr\\u003eLife expectancy=%{y}\\u003cextra\\u003e\\u003c\\u002fextra\\u003e\",\"legendgroup\":\"Armenia\",\"marker\":{\"color\":\"#B6E880\",\"symbol\":\"circle\"},\"mode\":\"markers\",\"name\":\"Armenia\",\"orientation\":\"v\",\"showlegend\":true,\"x\":[4198.5224330963665],\"xaxis\":\"x\",\"y\":[74.797],\"yaxis\":\"y\",\"type\":\"scatter\"},{\"hovertemplate\":\"Entity=Australia\\u003cbr\\u003eGDPperCapita=%{x}\\u003cbr\\u003eLife expectancy=%{y}\\u003cextra\\u003e\\u003c\\u002fextra\\u003e\",\"legendgroup\":\"Australia\",\"marker\":{\"color\":\"#FF97FF\",\"symbol\":\"circle\"},\"mode\":\"markers\",\"name\":\"Australia\",\"orientation\":\"v\",\"showlegend\":true,\"x\":[55957.626590364045],\"xaxis\":\"x\",\"y\":[83.122],\"yaxis\":\"y\",\"type\":\"scatter\"},{\"hovertemplate\":\"Entity=Austria\\u003cbr\\u003eGDPperCapita=%{x}\\u003cbr\\u003eLife expectancy=%{y}\\u003cextra\\u003e\\u003c\\u002fextra\\u003e\",\"legendgroup\":\"Austria\",\"marker\":{\"color\":\"#FECB52\",\"symbol\":\"circle\"},\"mode\":\"markers\",\"name\":\"Austria\",\"orientation\":\"v\",\"showlegend\":true,\"x\":[49069.142261829365],\"xaxis\":\"x\",\"y\":[81.34],\"yaxis\":\"y\",\"type\":\"scatter\"},{\"hovertemplate\":\"Entity=Azerbaijan\\u003cbr\\u003eGDPperCapita=%{x}\\u003cbr\\u003eLife expectancy=%{y}\\u003cextra\\u003e\\u003c\\u002fextra\\u003e\",\"legendgroup\":\"Azerbaijan\",\"marker\":{\"color\":\"#636efa\",\"symbol\":\"circle\"},\"mode\":\"markers\",\"name\":\"Azerbaijan\",\"orientation\":\"v\",\"showlegend\":true,\"x\":[5815.411598467506],\"xaxis\":\"x\",\"y\":[72.693],\"yaxis\":\"y\",\"type\":\"scatter\"},{\"hovertemplate\":\"Entity=Bahamas\\u003cbr\\u003eGDPperCapita=%{x}\\u003cbr\\u003eLife expectancy=%{y}\\u003cextra\\u003e\\u003c\\u002fextra\\u003e\",\"legendgroup\":\"Bahamas\",\"marker\":{\"color\":\"#EF553B\",\"symbol\":\"circle\"},\"mode\":\"markers\",\"name\":\"Bahamas\",\"orientation\":\"v\",\"showlegend\":true,\"x\":[27467.183467529583],\"xaxis\":\"x\",\"y\":[73.554],\"yaxis\":\"y\",\"type\":\"scatter\"},{\"hovertemplate\":\"Entity=Bahrain\\u003cbr\\u003eGDPperCapita=%{x}\\u003cbr\\u003eLife expectancy=%{y}\\u003cextra\\u003e\\u003c\\u002fextra\\u003e\",\"legendgroup\":\"Bahrain\",\"marker\":{\"color\":\"#00cc96\",\"symbol\":\"circle\"},\"mode\":\"markers\",\"name\":\"Bahrain\",\"orientation\":\"v\",\"showlegend\":true,\"x\":[22090.520174494846],\"xaxis\":\"x\",\"y\":[77.032],\"yaxis\":\"y\",\"type\":\"scatter\"},{\"hovertemplate\":\"Entity=Bangladesh\\u003cbr\\u003eGDPperCapita=%{x}\\u003cbr\\u003eLife expectancy=%{y}\\u003cextra\\u003e\\u003c\\u002fextra\\u003e\",\"legendgroup\":\"Bangladesh\",\"marker\":{\"color\":\"#ab63fa\",\"symbol\":\"circle\"},\"mode\":\"markers\",\"name\":\"Bangladesh\",\"orientation\":\"v\",\"showlegend\":true,\"x\":[1127.1701207960982],\"xaxis\":\"x\",\"y\":[72.052],\"yaxis\":\"y\",\"type\":\"scatter\"},{\"hovertemplate\":\"Entity=Barbados\\u003cbr\\u003eGDPperCapita=%{x}\\u003cbr\\u003eLife expectancy=%{y}\\u003cextra\\u003e\\u003c\\u002fextra\\u003e\",\"legendgroup\":\"Barbados\",\"marker\":{\"color\":\"#FFA15A\",\"symbol\":\"circle\"},\"mode\":\"markers\",\"name\":\"Barbados\",\"orientation\":\"v\",\"showlegend\":true,\"x\":[16487.26340206451],\"xaxis\":\"x\",\"y\":[78.981],\"yaxis\":\"y\",\"type\":\"scatter\"},{\"hovertemplate\":\"Entity=Belarus\\u003cbr\\u003eGDPperCapita=%{x}\\u003cbr\\u003eLife expectancy=%{y}\\u003cextra\\u003e\\u003c\\u002fextra\\u003e\",\"legendgroup\":\"Belarus\",\"marker\":{\"color\":\"#19d3f3\",\"symbol\":\"circle\"},\"mode\":\"markers\",\"name\":\"Belarus\",\"orientation\":\"v\",\"showlegend\":true,\"x\":[6414.86495398254],\"xaxis\":\"x\",\"y\":[74.34],\"yaxis\":\"y\",\"type\":\"scatter\"},{\"hovertemplate\":\"Entity=Belgium\\u003cbr\\u003eGDPperCapita=%{x}\\u003cbr\\u003eLife expectancy=%{y}\\u003cextra\\u003e\\u003c\\u002fextra\\u003e\",\"legendgroup\":\"Belgium\",\"marker\":{\"color\":\"#FF6692\",\"symbol\":\"circle\"},\"mode\":\"markers\",\"name\":\"Belgium\",\"orientation\":\"v\",\"showlegend\":true,\"x\":[45885.52670298003],\"xaxis\":\"x\",\"y\":[81.305],\"yaxis\":\"y\",\"type\":\"scatter\"},{\"hovertemplate\":\"Entity=Belize\\u003cbr\\u003eGDPperCapita=%{x}\\u003cbr\\u003eLife expectancy=%{y}\\u003cextra\\u003e\\u003c\\u002fextra\\u003e\",\"legendgroup\":\"Belize\",\"marker\":{\"color\":\"#B6E880\",\"symbol\":\"circle\"},\"mode\":\"markers\",\"name\":\"Belize\",\"orientation\":\"v\",\"showlegend\":true,\"x\":[4300.087271401622],\"xaxis\":\"x\",\"y\":[74.365],\"yaxis\":\"y\",\"type\":\"scatter\"},{\"hovertemplate\":\"Entity=Benin\\u003cbr\\u003eGDPperCapita=%{x}\\u003cbr\\u003eLife expectancy=%{y}\\u003cextra\\u003e\\u003c\\u002fextra\\u003e\",\"legendgroup\":\"Benin\",\"marker\":{\"color\":\"#FF97FF\",\"symbol\":\"circle\"},\"mode\":\"markers\",\"name\":\"Benin\",\"orientation\":\"v\",\"showlegend\":true,\"x\":[860.0059374439847],\"xaxis\":\"x\",\"y\":[61.174],\"yaxis\":\"y\",\"type\":\"scatter\"},{\"hovertemplate\":\"Entity=Bhutan\\u003cbr\\u003eGDPperCapita=%{x}\\u003cbr\\u003eLife expectancy=%{y}\\u003cextra\\u003e\\u003c\\u002fextra\\u003e\",\"legendgroup\":\"Bhutan\",\"marker\":{\"color\":\"#FECB52\",\"symbol\":\"circle\"},\"mode\":\"markers\",\"name\":\"Bhutan\",\"orientation\":\"v\",\"showlegend\":true,\"x\":[3199.9230745861664],\"xaxis\":\"x\",\"y\":[71.129],\"yaxis\":\"y\",\"type\":\"scatter\"},{\"hovertemplate\":\"Entity=Bolivia\\u003cbr\\u003eGDPperCapita=%{x}\\u003cbr\\u003eLife expectancy=%{y}\\u003cextra\\u003e\\u003c\\u002fextra\\u003e\",\"legendgroup\":\"Bolivia\",\"marker\":{\"color\":\"#636efa\",\"symbol\":\"circle\"},\"mode\":\"markers\",\"name\":\"Bolivia\",\"orientation\":\"v\",\"showlegend\":true,\"x\":[2490.9237281358346],\"xaxis\":\"x\",\"y\":[70.945],\"yaxis\":\"y\",\"type\":\"scatter\"},{\"hovertemplate\":\"Entity=Bosnia and Herzegovina\\u003cbr\\u003eGDPperCapita=%{x}\\u003cbr\\u003eLife expectancy=%{y}\\u003cextra\\u003e\\u003c\\u002fextra\\u003e\",\"legendgroup\":\"Bosnia and Herzegovina\",\"marker\":{\"color\":\"#EF553B\",\"symbol\":\"circle\"},\"mode\":\"markers\",\"name\":\"Bosnia and Herzegovina\",\"orientation\":\"v\",\"showlegend\":true,\"x\":[5818.475950940721],\"xaxis\":\"x\",\"y\":[77.128],\"yaxis\":\"y\",\"type\":\"scatter\"},{\"hovertemplate\":\"Entity=Botswana\\u003cbr\\u003eGDPperCapita=%{x}\\u003cbr\\u003eLife expectancy=%{y}\\u003cextra\\u003e\\u003c\\u002fextra\\u003e\",\"legendgroup\":\"Botswana\",\"marker\":{\"color\":\"#00cc96\",\"symbol\":\"circle\"},\"mode\":\"markers\",\"name\":\"Botswana\",\"orientation\":\"v\",\"showlegend\":true,\"x\":[7818.89407485687],\"xaxis\":\"x\",\"y\":[68.812],\"yaxis\":\"y\",\"type\":\"scatter\"},{\"hovertemplate\":\"Entity=Brazil\\u003cbr\\u003eGDPperCapita=%{x}\\u003cbr\\u003eLife expectancy=%{y}\\u003cextra\\u003e\\u003c\\u002fextra\\u003e\",\"legendgroup\":\"Brazil\",\"marker\":{\"color\":\"#ab63fa\",\"symbol\":\"circle\"},\"mode\":\"markers\",\"name\":\"Brazil\",\"orientation\":\"v\",\"showlegend\":true,\"x\":[10965.175921972874],\"xaxis\":\"x\",\"y\":[75.456],\"yaxis\":\"y\",\"type\":\"scatter\"},{\"hovertemplate\":\"Entity=Brunei\\u003cbr\\u003eGDPperCapita=%{x}\\u003cbr\\u003eLife expectancy=%{y}\\u003cextra\\u003e\\u003c\\u002fextra\\u003e\",\"legendgroup\":\"Brunei\",\"marker\":{\"color\":\"#FFA15A\",\"symbol\":\"circle\"},\"mode\":\"markers\",\"name\":\"Brunei\",\"orientation\":\"v\",\"showlegend\":true,\"x\":[31788.20985671769],\"xaxis\":\"x\",\"y\":[75.585],\"yaxis\":\"y\",\"type\":\"scatter\"},{\"hovertemplate\":\"Entity=Bulgaria\\u003cbr\\u003eGDPperCapita=%{x}\\u003cbr\\u003eLife expectancy=%{y}\\u003cextra\\u003e\\u003c\\u002fextra\\u003e\",\"legendgroup\":\"Bulgaria\",\"marker\":{\"color\":\"#19d3f3\",\"symbol\":\"circle\"},\"mode\":\"markers\",\"name\":\"Bulgaria\",\"orientation\":\"v\",\"showlegend\":true,\"x\":[8281.490880510139],\"xaxis\":\"x\",\"y\":[74.815],\"yaxis\":\"y\",\"type\":\"scatter\"},{\"hovertemplate\":\"Entity=Burkina Faso\\u003cbr\\u003eGDPperCapita=%{x}\\u003cbr\\u003eLife expectancy=%{y}\\u003cextra\\u003e\\u003c\\u002fextra\\u003e\",\"legendgroup\":\"Burkina Faso\",\"marker\":{\"color\":\"#FF6692\",\"symbol\":\"circle\"},\"mode\":\"markers\",\"name\":\"Burkina Faso\",\"orientation\":\"v\",\"showlegend\":true,\"x\":[688.5475953218569],\"xaxis\":\"x\",\"y\":[60.768],\"yaxis\":\"y\",\"type\":\"scatter\"},{\"hovertemplate\":\"Entity=Burundi\\u003cbr\\u003eGDPperCapita=%{x}\\u003cbr\\u003eLife expectancy=%{y}\\u003cextra\\u003e\\u003c\\u002fextra\\u003e\",\"legendgroup\":\"Burundi\",\"marker\":{\"color\":\"#B6E880\",\"symbol\":\"circle\"},\"mode\":\"markers\",\"name\":\"Burundi\",\"orientation\":\"v\",\"showlegend\":true,\"x\":[213.27858761188048],\"xaxis\":\"x\",\"y\":[60.898],\"yaxis\":\"y\",\"type\":\"scatter\"},{\"hovertemplate\":\"Entity=Cambodia\\u003cbr\\u003eGDPperCapita=%{x}\\u003cbr\\u003eLife expectancy=%{y}\\u003cextra\\u003e\\u003c\\u002fextra\\u003e\",\"legendgroup\":\"Cambodia\",\"marker\":{\"color\":\"#FF97FF\",\"symbol\":\"circle\"},\"mode\":\"markers\",\"name\":\"Cambodia\",\"orientation\":\"v\",\"showlegend\":true,\"x\":[1134.8947222330314],\"xaxis\":\"x\",\"y\":[69.289],\"yaxis\":\"y\",\"type\":\"scatter\"},{\"hovertemplate\":\"Entity=Cameroon\\u003cbr\\u003eGDPperCapita=%{x}\\u003cbr\\u003eLife expectancy=%{y}\\u003cextra\\u003e\\u003c\\u002fextra\\u003e\",\"legendgroup\":\"Cameroon\",\"marker\":{\"color\":\"#FECB52\",\"symbol\":\"circle\"},\"mode\":\"markers\",\"name\":\"Cameroon\",\"orientation\":\"v\",\"showlegend\":true,\"x\":[1472.181498185256],\"xaxis\":\"x\",\"y\":[58.511],\"yaxis\":\"y\",\"type\":\"scatter\"},{\"hovertemplate\":\"Entity=Canada\\u003cbr\\u003eGDPperCapita=%{x}\\u003cbr\\u003eLife expectancy=%{y}\\u003cextra\\u003e\\u003c\\u002fextra\\u003e\",\"legendgroup\":\"Canada\",\"marker\":{\"color\":\"#636efa\",\"symbol\":\"circle\"},\"mode\":\"markers\",\"name\":\"Canada\",\"orientation\":\"v\",\"showlegend\":true,\"x\":[51282.4760892625],\"xaxis\":\"x\",\"y\":[82.21],\"yaxis\":\"y\",\"type\":\"scatter\"},{\"hovertemplate\":\"Entity=Cape Verde\\u003cbr\\u003eGDPperCapita=%{x}\\u003cbr\\u003eLife expectancy=%{y}\\u003cextra\\u003e\\u003c\\u002fextra\\u003e\",\"legendgroup\":\"Cape Verde\",\"marker\":{\"color\":\"#EF553B\",\"symbol\":\"circle\"},\"mode\":\"markers\",\"name\":\"Cape Verde\",\"orientation\":\"v\",\"showlegend\":true,\"x\":[3598.791044790726],\"xaxis\":\"x\",\"y\":[72.57],\"yaxis\":\"y\",\"type\":\"scatter\"},{\"hovertemplate\":\"Entity=Central African Republic\\u003cbr\\u003eGDPperCapita=%{x}\\u003cbr\\u003eLife expectancy=%{y}\\u003cextra\\u003e\\u003c\\u002fextra\\u003e\",\"legendgroup\":\"Central African Republic\",\"marker\":{\"color\":\"#00cc96\",\"symbol\":\"circle\"},\"mode\":\"markers\",\"name\":\"Central African Republic\",\"orientation\":\"v\",\"showlegend\":true,\"x\":[339.62431132785247],\"xaxis\":\"x\",\"y\":[52.24],\"yaxis\":\"y\",\"type\":\"scatter\"},{\"hovertemplate\":\"Entity=Chad\\u003cbr\\u003eGDPperCapita=%{x}\\u003cbr\\u003eLife expectancy=%{y}\\u003cextra\\u003e\\u003c\\u002fextra\\u003e\",\"legendgroup\":\"Chad\",\"marker\":{\"color\":\"#ab63fa\",\"symbol\":\"circle\"},\"mode\":\"markers\",\"name\":\"Chad\",\"orientation\":\"v\",\"showlegend\":true,\"x\":[817.0190414555237],\"xaxis\":\"x\",\"y\":[53.712],\"yaxis\":\"y\",\"type\":\"scatter\"},{\"hovertemplate\":\"Entity=Chile\\u003cbr\\u003eGDPperCapita=%{x}\\u003cbr\\u003eLife expectancy=%{y}\\u003cextra\\u003e\\u003c\\u002fextra\\u003e\",\"legendgroup\":\"Chile\",\"marker\":{\"color\":\"#FFA15A\",\"symbol\":\"circle\"},\"mode\":\"markers\",\"name\":\"Chile\",\"orientation\":\"v\",\"showlegend\":true,\"x\":[14720.936133199892],\"xaxis\":\"x\",\"y\":[79.909],\"yaxis\":\"y\",\"type\":\"scatter\"},{\"hovertemplate\":\"Entity=China\\u003cbr\\u003eGDPperCapita=%{x}\\u003cbr\\u003eLife expectancy=%{y}\\u003cextra\\u003e\\u003c\\u002fextra\\u003e\",\"legendgroup\":\"China\",\"marker\":{\"color\":\"#19d3f3\",\"symbol\":\"circle\"},\"mode\":\"markers\",\"name\":\"China\",\"orientation\":\"v\",\"showlegend\":true,\"x\":[7150.496686254078],\"xaxis\":\"x\",\"y\":[76.47],\"yaxis\":\"y\",\"type\":\"scatter\"},{\"hovertemplate\":\"Entity=Colombia\\u003cbr\\u003eGDPperCapita=%{x}\\u003cbr\\u003eLife expectancy=%{y}\\u003cextra\\u003e\\u003c\\u002fextra\\u003e\",\"legendgroup\":\"Colombia\",\"marker\":{\"color\":\"#FF6692\",\"symbol\":\"circle\"},\"mode\":\"markers\",\"name\":\"Colombia\",\"orientation\":\"v\",\"showlegend\":true,\"x\":[7624.942176500532],\"xaxis\":\"x\",\"y\":[76.925],\"yaxis\":\"y\",\"type\":\"scatter\"},{\"hovertemplate\":\"Entity=Comoros\\u003cbr\\u003eGDPperCapita=%{x}\\u003cbr\\u003eLife expectancy=%{y}\\u003cextra\\u003e\\u003c\\u002fextra\\u003e\",\"legendgroup\":\"Comoros\",\"marker\":{\"color\":\"#B6E880\",\"symbol\":\"circle\"},\"mode\":\"markers\",\"name\":\"Comoros\",\"orientation\":\"v\",\"showlegend\":true,\"x\":[769.8465299051155],\"xaxis\":\"x\",\"y\":[63.912],\"yaxis\":\"y\",\"type\":\"scatter\"},{\"hovertemplate\":\"Entity=Congo\\u003cbr\\u003eGDPperCapita=%{x}\\u003cbr\\u003eLife expectancy=%{y}\\u003cextra\\u003e\\u003c\\u002fextra\\u003e\",\"legendgroup\":\"Congo\",\"marker\":{\"color\":\"#FF97FF\",\"symbol\":\"circle\"},\"mode\":\"markers\",\"name\":\"Congo\",\"orientation\":\"v\",\"showlegend\":true,\"x\":[2651.883363736803],\"xaxis\":\"x\",\"y\":[63.954],\"yaxis\":\"y\",\"type\":\"scatter\"},{\"hovertemplate\":\"Entity=Costa Rica\\u003cbr\\u003eGDPperCapita=%{x}\\u003cbr\\u003eLife expectancy=%{y}\\u003cextra\\u003e\\u003c\\u002fextra\\u003e\",\"legendgroup\":\"Costa Rica\",\"marker\":{\"color\":\"#FECB52\",\"symbol\":\"circle\"},\"mode\":\"markers\",\"name\":\"Costa Rica\",\"orientation\":\"v\",\"showlegend\":true,\"x\":[9704.498759439171],\"xaxis\":\"x\",\"y\":[79.914],\"yaxis\":\"y\",\"type\":\"scatter\"},{\"hovertemplate\":\"Entity=Cote d'Ivoire\\u003cbr\\u003eGDPperCapita=%{x}\\u003cbr\\u003eLife expectancy=%{y}\\u003cextra\\u003e\\u003c\\u002fextra\\u003e\",\"legendgroup\":\"Cote d'Ivoire\",\"marker\":{\"color\":\"#636efa\",\"symbol\":\"circle\"},\"mode\":\"markers\",\"name\":\"Cote d'Ivoire\",\"orientation\":\"v\",\"showlegend\":true,\"x\":[1623.1735290278593],\"xaxis\":\"x\",\"y\":[57.017],\"yaxis\":\"y\",\"type\":\"scatter\"},{\"hovertemplate\":\"Entity=Croatia\\u003cbr\\u003eGDPperCapita=%{x}\\u003cbr\\u003eLife expectancy=%{y}\\u003cextra\\u003e\\u003c\\u002fextra\\u003e\",\"legendgroup\":\"Croatia\",\"marker\":{\"color\":\"#EF553B\",\"symbol\":\"circle\"},\"mode\":\"markers\",\"name\":\"Croatia\",\"orientation\":\"v\",\"showlegend\":true,\"x\":[15011.3962242951],\"xaxis\":\"x\",\"y\":[78.197],\"yaxis\":\"y\",\"type\":\"scatter\"},{\"hovertemplate\":\"Entity=Cyprus\\u003cbr\\u003eGDPperCapita=%{x}\\u003cbr\\u003eLife expectancy=%{y}\\u003cextra\\u003e\\u003c\\u002fextra\\u003e\",\"legendgroup\":\"Cyprus\",\"marker\":{\"color\":\"#00cc96\",\"symbol\":\"circle\"},\"mode\":\"markers\",\"name\":\"Cyprus\",\"orientation\":\"v\",\"showlegend\":true,\"x\":[21402.411860269407],\"xaxis\":\"x\",\"y\":[80.672],\"yaxis\":\"y\",\"type\":\"scatter\"},{\"hovertemplate\":\"Entity=Czechia\\u003cbr\\u003eGDPperCapita=%{x}\\u003cbr\\u003eLife expectancy=%{y}\\u003cextra\\u003e\\u003c\\u002fextra\\u003e\",\"legendgroup\":\"Czechia\",\"marker\":{\"color\":\"#ab63fa\",\"symbol\":\"circle\"},\"mode\":\"markers\",\"name\":\"Czechia\",\"orientation\":\"v\",\"showlegend\":true,\"x\":[22672.94786374974],\"xaxis\":\"x\",\"y\":[79.058],\"yaxis\":\"y\",\"type\":\"scatter\"},{\"hovertemplate\":\"Entity=Democratic Republic of Congo\\u003cbr\\u003eGDPperCapita=%{x}\\u003cbr\\u003eLife expectancy=%{y}\\u003cextra\\u003e\\u003c\\u002fextra\\u003e\",\"legendgroup\":\"Democratic Republic of Congo\",\"marker\":{\"color\":\"#FFA15A\",\"symbol\":\"circle\"},\"mode\":\"markers\",\"name\":\"Democratic Republic of Congo\",\"orientation\":\"v\",\"showlegend\":true,\"x\":[408.82077087232886],\"xaxis\":\"x\",\"y\":[60.026],\"yaxis\":\"y\",\"type\":\"scatter\"},{\"hovertemplate\":\"Entity=Denmark\\u003cbr\\u003eGDPperCapita=%{x}\\u003cbr\\u003eLife expectancy=%{y}\\u003cextra\\u003e\\u003c\\u002fextra\\u003e\",\"legendgroup\":\"Denmark\",\"marker\":{\"color\":\"#19d3f3\",\"symbol\":\"circle\"},\"mode\":\"markers\",\"name\":\"Denmark\",\"orientation\":\"v\",\"showlegend\":true,\"x\":[61986.156681440334],\"xaxis\":\"x\",\"y\":[80.681],\"yaxis\":\"y\",\"type\":\"scatter\"},{\"hovertemplate\":\"Entity=Dominica\\u003cbr\\u003eGDPperCapita=%{x}\\u003cbr\\u003eLife expectancy=%{y}\\u003cextra\\u003e\\u003c\\u002fextra\\u003e\",\"legendgroup\":\"Dominica\",\"marker\":{\"color\":\"#FF6692\",\"symbol\":\"circle\"},\"mode\":\"markers\",\"name\":\"Dominica\",\"orientation\":\"v\",\"showlegend\":true,\"x\":[6826.767363664127],\"xaxis\":\"x\",\"y\":[74.597],\"yaxis\":\"y\",\"type\":\"scatter\"},{\"hovertemplate\":\"Entity=Dominican Republic\\u003cbr\\u003eGDPperCapita=%{x}\\u003cbr\\u003eLife expectancy=%{y}\\u003cextra\\u003e\\u003c\\u002fextra\\u003e\",\"legendgroup\":\"Dominican Republic\",\"marker\":{\"color\":\"#B6E880\",\"symbol\":\"circle\"},\"mode\":\"markers\",\"name\":\"Dominican Republic\",\"orientation\":\"v\",\"showlegend\":true,\"x\":[7325.899767129582],\"xaxis\":\"x\",\"y\":[73.689],\"yaxis\":\"y\",\"type\":\"scatter\"},{\"hovertemplate\":\"Entity=Ecuador\\u003cbr\\u003eGDPperCapita=%{x}\\u003cbr\\u003eLife expectancy=%{y}\\u003cextra\\u003e\\u003c\\u002fextra\\u003e\",\"legendgroup\":\"Ecuador\",\"marker\":{\"color\":\"#FF97FF\",\"symbol\":\"circle\"},\"mode\":\"markers\",\"name\":\"Ecuador\",\"orientation\":\"v\",\"showlegend\":true,\"x\":[5219.341306051099],\"xaxis\":\"x\",\"y\":[76.584],\"yaxis\":\"y\",\"type\":\"scatter\"},{\"hovertemplate\":\"Entity=Egypt\\u003cbr\\u003eGDPperCapita=%{x}\\u003cbr\\u003eLife expectancy=%{y}\\u003cextra\\u003e\\u003c\\u002fextra\\u003e\",\"legendgroup\":\"Egypt\",\"marker\":{\"color\":\"#FECB52\",\"symbol\":\"circle\"},\"mode\":\"markers\",\"name\":\"Egypt\",\"orientation\":\"v\",\"showlegend\":true,\"x\":[2817.432289437782],\"xaxis\":\"x\",\"y\":[71.656],\"yaxis\":\"y\",\"type\":\"scatter\"},{\"hovertemplate\":\"Entity=El Salvador\\u003cbr\\u003eGDPperCapita=%{x}\\u003cbr\\u003eLife expectancy=%{y}\\u003cextra\\u003e\\u003c\\u002fextra\\u003e\",\"legendgroup\":\"El Salvador\",\"marker\":{\"color\":\"#636efa\",\"symbol\":\"circle\"},\"mode\":\"markers\",\"name\":\"El Salvador\",\"orientation\":\"v\",\"showlegend\":true,\"x\":[3458.0419227759394],\"xaxis\":\"x\",\"y\":[72.872],\"yaxis\":\"y\",\"type\":\"scatter\"},{\"hovertemplate\":\"Entity=Equatorial Guinea\\u003cbr\\u003eGDPperCapita=%{x}\\u003cbr\\u003eLife expectancy=%{y}\\u003cextra\\u003e\\u003c\\u002fextra\\u003e\",\"legendgroup\":\"Equatorial Guinea\",\"marker\":{\"color\":\"#EF553B\",\"symbol\":\"circle\"},\"mode\":\"markers\",\"name\":\"Equatorial Guinea\",\"orientation\":\"v\",\"showlegend\":true,\"x\":[11538.391726633598],\"xaxis\":\"x\",\"y\":[58.061],\"yaxis\":\"y\",\"type\":\"scatter\"},{\"hovertemplate\":\"Entity=Estonia\\u003cbr\\u003eGDPperCapita=%{x}\\u003cbr\\u003eLife expectancy=%{y}\\u003cextra\\u003e\\u003c\\u002fextra\\u003e\",\"legendgroup\":\"Estonia\",\"marker\":{\"color\":\"#00cc96\",\"symbol\":\"circle\"},\"mode\":\"markers\",\"name\":\"Estonia\",\"orientation\":\"v\",\"showlegend\":true,\"x\":[18926.749646098408],\"xaxis\":\"x\",\"y\":[78.354],\"yaxis\":\"y\",\"type\":\"scatter\"},{\"hovertemplate\":\"Entity=Eswatini\\u003cbr\\u003eGDPperCapita=%{x}\\u003cbr\\u003eLife expectancy=%{y}\\u003cextra\\u003e\\u003c\\u002fextra\\u003e\",\"legendgroup\":\"Eswatini\",\"marker\":{\"color\":\"#ab63fa\",\"symbol\":\"circle\"},\"mode\":\"markers\",\"name\":\"Eswatini\",\"orientation\":\"v\",\"showlegend\":true,\"x\":[4756.849072779929],\"xaxis\":\"x\",\"y\":[58.319],\"yaxis\":\"y\",\"type\":\"scatter\"},{\"hovertemplate\":\"Entity=Ethiopia\\u003cbr\\u003eGDPperCapita=%{x}\\u003cbr\\u003eLife expectancy=%{y}\\u003cextra\\u003e\\u003c\\u002fextra\\u003e\",\"legendgroup\":\"Ethiopia\",\"marker\":{\"color\":\"#FFA15A\",\"symbol\":\"circle\"},\"mode\":\"markers\",\"name\":\"Ethiopia\",\"orientation\":\"v\",\"showlegend\":true,\"x\":[542.3930828490611],\"xaxis\":\"x\",\"y\":[65.872],\"yaxis\":\"y\",\"type\":\"scatter\"},{\"hovertemplate\":\"Entity=Fiji\\u003cbr\\u003eGDPperCapita=%{x}\\u003cbr\\u003eLife expectancy=%{y}\\u003cextra\\u003e\\u003c\\u002fextra\\u003e\",\"legendgroup\":\"Fiji\",\"marker\":{\"color\":\"#19d3f3\",\"symbol\":\"circle\"},\"mode\":\"markers\",\"name\":\"Fiji\",\"orientation\":\"v\",\"showlegend\":true,\"x\":[4463.480825744139],\"xaxis\":\"x\",\"y\":[67.252],\"yaxis\":\"y\",\"type\":\"scatter\"},{\"hovertemplate\":\"Entity=Finland\\u003cbr\\u003eGDPperCapita=%{x}\\u003cbr\\u003eLife expectancy=%{y}\\u003cextra\\u003e\\u003c\\u002fextra\\u003e\",\"legendgroup\":\"Finland\",\"marker\":{\"color\":\"#FF6692\",\"symbol\":\"circle\"},\"mode\":\"markers\",\"name\":\"Finland\",\"orientation\":\"v\",\"showlegend\":true,\"x\":[47060.206319573386],\"xaxis\":\"x\",\"y\":[81.561],\"yaxis\":\"y\",\"type\":\"scatter\"},{\"hovertemplate\":\"Entity=France\\u003cbr\\u003eGDPperCapita=%{x}\\u003cbr\\u003eLife expectancy=%{y}\\u003cextra\\u003e\\u003c\\u002fextra\\u003e\",\"legendgroup\":\"France\",\"marker\":{\"color\":\"#B6E880\",\"symbol\":\"circle\"},\"mode\":\"markers\",\"name\":\"France\",\"orientation\":\"v\",\"showlegend\":true,\"x\":[44061.64739521614],\"xaxis\":\"x\",\"y\":[82.432],\"yaxis\":\"y\",\"type\":\"scatter\"},{\"hovertemplate\":\"Entity=Gabon\\u003cbr\\u003eGDPperCapita=%{x}\\u003cbr\\u003eLife expectancy=%{y}\\u003cextra\\u003e\\u003c\\u002fextra\\u003e\",\"legendgroup\":\"Gabon\",\"marker\":{\"color\":\"#FF97FF\",\"symbol\":\"circle\"},\"mode\":\"markers\",\"name\":\"Gabon\",\"orientation\":\"v\",\"showlegend\":true,\"x\":[9259.756310496272],\"xaxis\":\"x\",\"y\":[65.839],\"yaxis\":\"y\",\"type\":\"scatter\"},{\"hovertemplate\":\"Entity=Gambia\\u003cbr\\u003eGDPperCapita=%{x}\\u003cbr\\u003eLife expectancy=%{y}\\u003cextra\\u003e\\u003c\\u002fextra\\u003e\",\"legendgroup\":\"Gambia\",\"marker\":{\"color\":\"#FECB52\",\"symbol\":\"circle\"},\"mode\":\"markers\",\"name\":\"Gambia\",\"orientation\":\"v\",\"showlegend\":true,\"x\":[506.8967392330487],\"xaxis\":\"x\",\"y\":[61.44],\"yaxis\":\"y\",\"type\":\"scatter\"},{\"hovertemplate\":\"Entity=Georgia\\u003cbr\\u003eGDPperCapita=%{x}\\u003cbr\\u003eLife expectancy=%{y}\\u003cextra\\u003e\\u003c\\u002fextra\\u003e\",\"legendgroup\":\"Georgia\",\"marker\":{\"color\":\"#636efa\",\"symbol\":\"circle\"},\"mode\":\"markers\",\"name\":\"Georgia\",\"orientation\":\"v\",\"showlegend\":true,\"x\":[3977.795688668371],\"xaxis\":\"x\",\"y\":[73.414],\"yaxis\":\"y\",\"type\":\"scatter\"},{\"hovertemplate\":\"Entity=Germany\\u003cbr\\u003eGDPperCapita=%{x}\\u003cbr\\u003eLife expectancy=%{y}\\u003cextra\\u003e\\u003c\\u002fextra\\u003e\",\"legendgroup\":\"Germany\",\"marker\":{\"color\":\"#EF553B\",\"symbol\":\"circle\"},\"mode\":\"markers\",\"name\":\"Germany\",\"orientation\":\"v\",\"showlegend\":true,\"x\":[46768.11780316001],\"xaxis\":\"x\",\"y\":[81.039],\"yaxis\":\"y\",\"type\":\"scatter\"},{\"hovertemplate\":\"Entity=Ghana\\u003cbr\\u003eGDPperCapita=%{x}\\u003cbr\\u003eLife expectancy=%{y}\\u003cextra\\u003e\\u003c\\u002fextra\\u003e\",\"legendgroup\":\"Ghana\",\"marker\":{\"color\":\"#00cc96\",\"symbol\":\"circle\"},\"mode\":\"markers\",\"name\":\"Ghana\",\"orientation\":\"v\",\"showlegend\":true,\"x\":[1795.9363436799663],\"xaxis\":\"x\",\"y\":[63.463],\"yaxis\":\"y\",\"type\":\"scatter\"},{\"hovertemplate\":\"Entity=Greece\\u003cbr\\u003eGDPperCapita=%{x}\\u003cbr\\u003eLife expectancy=%{y}\\u003cextra\\u003e\\u003c\\u002fextra\\u003e\",\"legendgroup\":\"Greece\",\"marker\":{\"color\":\"#ab63fa\",\"symbol\":\"circle\"},\"mode\":\"markers\",\"name\":\"Greece\",\"orientation\":\"v\",\"showlegend\":true,\"x\":[23444.475664032358],\"xaxis\":\"x\",\"y\":[81.901],\"yaxis\":\"y\",\"type\":\"scatter\"},{\"hovertemplate\":\"Entity=Grenada\\u003cbr\\u003eGDPperCapita=%{x}\\u003cbr\\u003eLife expectancy=%{y}\\u003cextra\\u003e\\u003c\\u002fextra\\u003e\",\"legendgroup\":\"Grenada\",\"marker\":{\"color\":\"#FFA15A\",\"symbol\":\"circle\"},\"mode\":\"markers\",\"name\":\"Grenada\",\"orientation\":\"v\",\"showlegend\":true,\"x\":[8701.373037053441],\"xaxis\":\"x\",\"y\":[72.388],\"yaxis\":\"y\",\"type\":\"scatter\"},{\"hovertemplate\":\"Entity=Guatemala\\u003cbr\\u003eGDPperCapita=%{x}\\u003cbr\\u003eLife expectancy=%{y}\\u003cextra\\u003e\\u003c\\u002fextra\\u003e\",\"legendgroup\":\"Guatemala\",\"marker\":{\"color\":\"#19d3f3\",\"symbol\":\"circle\"},\"mode\":\"markers\",\"name\":\"Guatemala\",\"orientation\":\"v\",\"showlegend\":true,\"x\":[3123.933862583884],\"xaxis\":\"x\",\"y\":[73.81],\"yaxis\":\"y\",\"type\":\"scatter\"},{\"hovertemplate\":\"Entity=Guinea\\u003cbr\\u003eGDPperCapita=%{x}\\u003cbr\\u003eLife expectancy=%{y}\\u003cextra\\u003e\\u003c\\u002fextra\\u003e\",\"legendgroup\":\"Guinea\",\"marker\":{\"color\":\"#FF6692\",\"symbol\":\"circle\"},\"mode\":\"markers\",\"name\":\"Guinea\",\"orientation\":\"v\",\"showlegend\":true,\"x\":[867.1934154348526],\"xaxis\":\"x\",\"y\":[60.706],\"yaxis\":\"y\",\"type\":\"scatter\"},{\"hovertemplate\":\"Entity=Guinea-Bissau\\u003cbr\\u003eGDPperCapita=%{x}\\u003cbr\\u003eLife expectancy=%{y}\\u003cextra\\u003e\\u003c\\u002fextra\\u003e\",\"legendgroup\":\"Guinea-Bissau\",\"marker\":{\"color\":\"#B6E880\",\"symbol\":\"circle\"},\"mode\":\"markers\",\"name\":\"Guinea-Bissau\",\"orientation\":\"v\",\"showlegend\":true,\"x\":[615.6331430674506],\"xaxis\":\"x\",\"y\":[57.673],\"yaxis\":\"y\",\"type\":\"scatter\"},{\"hovertemplate\":\"Entity=Guyana\\u003cbr\\u003eGDPperCapita=%{x}\\u003cbr\\u003eLife expectancy=%{y}\\u003cextra\\u003e\\u003c\\u002fextra\\u003e\",\"legendgroup\":\"Guyana\",\"marker\":{\"color\":\"#FF97FF\",\"symbol\":\"circle\"},\"mode\":\"markers\",\"name\":\"Guyana\",\"orientation\":\"v\",\"showlegend\":true,\"x\":[3885.6723798626967],\"xaxis\":\"x\",\"y\":[69.624],\"yaxis\":\"y\",\"type\":\"scatter\"},{\"hovertemplate\":\"Entity=Haiti\\u003cbr\\u003eGDPperCapita=%{x}\\u003cbr\\u003eLife expectancy=%{y}\\u003cextra\\u003e\\u003c\\u002fextra\\u003e\",\"legendgroup\":\"Haiti\",\"marker\":{\"color\":\"#FECB52\",\"symbol\":\"circle\"},\"mode\":\"markers\",\"name\":\"Haiti\",\"orientation\":\"v\",\"showlegend\":true,\"x\":[728.8692284759197],\"xaxis\":\"x\",\"y\":[63.29],\"yaxis\":\"y\",\"type\":\"scatter\"},{\"hovertemplate\":\"Entity=Honduras\\u003cbr\\u003eGDPperCapita=%{x}\\u003cbr\\u003eLife expectancy=%{y}\\u003cextra\\u003e\\u003c\\u002fextra\\u003e\",\"legendgroup\":\"Honduras\",\"marker\":{\"color\":\"#636efa\",\"symbol\":\"circle\"},\"mode\":\"markers\",\"name\":\"Honduras\",\"orientation\":\"v\",\"showlegend\":true,\"x\":[2172.15391486848],\"xaxis\":\"x\",\"y\":[74.898],\"yaxis\":\"y\",\"type\":\"scatter\"},{\"hovertemplate\":\"Entity=Hong Kong\\u003cbr\\u003eGDPperCapita=%{x}\\u003cbr\\u003eLife expectancy=%{y}\\u003cextra\\u003e\\u003c\\u002fextra\\u003e\",\"legendgroup\":\"Hong Kong\",\"marker\":{\"color\":\"#EF553B\",\"symbol\":\"circle\"},\"mode\":\"markers\",\"name\":\"Hong Kong\",\"orientation\":\"v\",\"showlegend\":true,\"x\":[38372.02312307651],\"xaxis\":\"x\",\"y\":[84.493],\"yaxis\":\"y\",\"type\":\"scatter\"},{\"hovertemplate\":\"Entity=Hungary\\u003cbr\\u003eGDPperCapita=%{x}\\u003cbr\\u003eLife expectancy=%{y}\\u003cextra\\u003e\\u003c\\u002fextra\\u003e\",\"legendgroup\":\"Hungary\",\"marker\":{\"color\":\"#00cc96\",\"symbol\":\"circle\"},\"mode\":\"markers\",\"name\":\"Hungary\",\"orientation\":\"v\",\"showlegend\":true,\"x\":[15730.068784316445],\"xaxis\":\"x\",\"y\":[76.498],\"yaxis\":\"y\",\"type\":\"scatter\"},{\"hovertemplate\":\"Entity=Iceland\\u003cbr\\u003eGDPperCapita=%{x}\\u003cbr\\u003eLife expectancy=%{y}\\u003cextra\\u003e\\u003c\\u002fextra\\u003e\",\"legendgroup\":\"Iceland\",\"marker\":{\"color\":\"#ab63fa\",\"symbol\":\"circle\"},\"mode\":\"markers\",\"name\":\"Iceland\",\"orientation\":\"v\",\"showlegend\":true,\"x\":[50998.46204829191],\"xaxis\":\"x\",\"y\":[82.725],\"yaxis\":\"y\",\"type\":\"scatter\"},{\"hovertemplate\":\"Entity=India\\u003cbr\\u003eGDPperCapita=%{x}\\u003cbr\\u003eLife expectancy=%{y}\\u003cextra\\u003e\\u003c\\u002fextra\\u003e\",\"legendgroup\":\"India\",\"marker\":{\"color\":\"#FFA15A\",\"symbol\":\"circle\"},\"mode\":\"markers\",\"name\":\"India\",\"orientation\":\"v\",\"showlegend\":true,\"x\":[1964.284310117216],\"xaxis\":\"x\",\"y\":[69.165],\"yaxis\":\"y\",\"type\":\"scatter\"},{\"hovertemplate\":\"Entity=Indonesia\\u003cbr\\u003eGDPperCapita=%{x}\\u003cbr\\u003eLife expectancy=%{y}\\u003cextra\\u003e\\u003c\\u002fextra\\u003e\",\"legendgroup\":\"Indonesia\",\"marker\":{\"color\":\"#19d3f3\",\"symbol\":\"circle\"},\"mode\":\"markers\",\"name\":\"Indonesia\",\"orientation\":\"v\",\"showlegend\":true,\"x\":[4120.367810496154],\"xaxis\":\"x\",\"y\":[71.282],\"yaxis\":\"y\",\"type\":\"scatter\"},{\"hovertemplate\":\"Entity=Iran\\u003cbr\\u003eGDPperCapita=%{x}\\u003cbr\\u003eLife expectancy=%{y}\\u003cextra\\u003e\\u003c\\u002fextra\\u003e\",\"legendgroup\":\"Iran\",\"marker\":{\"color\":\"#FF6692\",\"symbol\":\"circle\"},\"mode\":\"markers\",\"name\":\"Iran\",\"orientation\":\"v\",\"showlegend\":true,\"x\":[6988.946227555693],\"xaxis\":\"x\",\"y\":[76.271],\"yaxis\":\"y\",\"type\":\"scatter\"},{\"hovertemplate\":\"Entity=Iraq\\u003cbr\\u003eGDPperCapita=%{x}\\u003cbr\\u003eLife expectancy=%{y}\\u003cextra\\u003e\\u003c\\u002fextra\\u003e\",\"legendgroup\":\"Iraq\",\"marker\":{\"color\":\"#B6E880\",\"symbol\":\"circle\"},\"mode\":\"markers\",\"name\":\"Iraq\",\"orientation\":\"v\",\"showlegend\":true,\"x\":[5652.507955372407],\"xaxis\":\"x\",\"y\":[70.294],\"yaxis\":\"y\",\"type\":\"scatter\"},{\"hovertemplate\":\"Entity=Ireland\\u003cbr\\u003eGDPperCapita=%{x}\\u003cbr\\u003eLife expectancy=%{y}\\u003cextra\\u003e\\u003c\\u002fextra\\u003e\",\"legendgroup\":\"Ireland\",\"marker\":{\"color\":\"#FF97FF\",\"symbol\":\"circle\"},\"mode\":\"markers\",\"name\":\"Ireland\",\"orientation\":\"v\",\"showlegend\":true,\"x\":[75382.59575206922],\"xaxis\":\"x\",\"y\":[81.872],\"yaxis\":\"y\",\"type\":\"scatter\"},{\"hovertemplate\":\"Entity=Israel\\u003cbr\\u003eGDPperCapita=%{x}\\u003cbr\\u003eLife expectancy=%{y}\\u003cextra\\u003e\\u003c\\u002fextra\\u003e\",\"legendgroup\":\"Israel\",\"marker\":{\"color\":\"#FECB52\",\"symbol\":\"circle\"},\"mode\":\"markers\",\"name\":\"Israel\",\"orientation\":\"v\",\"showlegend\":true,\"x\":[36074.24555591012],\"xaxis\":\"x\",\"y\":[82.663],\"yaxis\":\"y\",\"type\":\"scatter\"},{\"hovertemplate\":\"Entity=Italy\\u003cbr\\u003eGDPperCapita=%{x}\\u003cbr\\u003eLife expectancy=%{y}\\u003cextra\\u003e\\u003c\\u002fextra\\u003e\",\"legendgroup\":\"Italy\",\"marker\":{\"color\":\"#636efa\",\"symbol\":\"circle\"},\"mode\":\"markers\",\"name\":\"Italy\",\"orientation\":\"v\",\"showlegend\":true,\"x\":[34807.36298025678],\"xaxis\":\"x\",\"y\":[83.184],\"yaxis\":\"y\",\"type\":\"scatter\"},{\"hovertemplate\":\"Entity=Jamaica\\u003cbr\\u003eGDPperCapita=%{x}\\u003cbr\\u003eLife expectancy=%{y}\\u003cextra\\u003e\\u003c\\u002fextra\\u003e\",\"legendgroup\":\"Jamaica\",\"marker\":{\"color\":\"#EF553B\",\"symbol\":\"circle\"},\"mode\":\"markers\",\"name\":\"Jamaica\",\"orientation\":\"v\",\"showlegend\":true,\"x\":[4747.777208777131],\"xaxis\":\"x\",\"y\":[74.267],\"yaxis\":\"y\",\"type\":\"scatter\"},{\"hovertemplate\":\"Entity=Japan\\u003cbr\\u003eGDPperCapita=%{x}\\u003cbr\\u003eLife expectancy=%{y}\\u003cextra\\u003e\\u003c\\u002fextra\\u003e\",\"legendgroup\":\"Japan\",\"marker\":{\"color\":\"#00cc96\",\"symbol\":\"circle\"},\"mode\":\"markers\",\"name\":\"Japan\",\"orientation\":\"v\",\"showlegend\":true,\"x\":[48283.79505249767],\"xaxis\":\"x\",\"y\":[84.29],\"yaxis\":\"y\",\"type\":\"scatter\"},{\"hovertemplate\":\"Entity=Jordan\\u003cbr\\u003eGDPperCapita=%{x}\\u003cbr\\u003eLife expectancy=%{y}\\u003cextra\\u003e\\u003c\\u002fextra\\u003e\",\"legendgroup\":\"Jordan\",\"marker\":{\"color\":\"#ab63fa\",\"symbol\":\"circle\"},\"mode\":\"markers\",\"name\":\"Jordan\",\"orientation\":\"v\",\"showlegend\":true,\"x\":[3210.5726602202535],\"xaxis\":\"x\",\"y\":[74.292],\"yaxis\":\"y\",\"type\":\"scatter\"},{\"hovertemplate\":\"Entity=Kazakhstan\\u003cbr\\u003eGDPperCapita=%{x}\\u003cbr\\u003eLife expectancy=%{y}\\u003cextra\\u003e\\u003c\\u002fextra\\u003e\",\"legendgroup\":\"Kazakhstan\",\"marker\":{\"color\":\"#FFA15A\",\"symbol\":\"circle\"},\"mode\":\"markers\",\"name\":\"Kazakhstan\",\"orientation\":\"v\",\"showlegend\":true,\"x\":[10831.942910092477],\"xaxis\":\"x\",\"y\":[72.728],\"yaxis\":\"y\",\"type\":\"scatter\"},{\"hovertemplate\":\"Entity=Kenya\\u003cbr\\u003eGDPperCapita=%{x}\\u003cbr\\u003eLife expectancy=%{y}\\u003cextra\\u003e\\u003c\\u002fextra\\u003e\",\"legendgroup\":\"Kenya\",\"marker\":{\"color\":\"#19d3f3\",\"symbol\":\"circle\"},\"mode\":\"markers\",\"name\":\"Kenya\",\"orientation\":\"v\",\"showlegend\":true,\"x\":[1157.2094917223153],\"xaxis\":\"x\",\"y\":[65.909],\"yaxis\":\"y\",\"type\":\"scatter\"},{\"hovertemplate\":\"Entity=Kiribati\\u003cbr\\u003eGDPperCapita=%{x}\\u003cbr\\u003eLife expectancy=%{y}\\u003cextra\\u003e\\u003c\\u002fextra\\u003e\",\"legendgroup\":\"Kiribati\",\"marker\":{\"color\":\"#FF6692\",\"symbol\":\"circle\"},\"mode\":\"markers\",\"name\":\"Kiribati\",\"orientation\":\"v\",\"showlegend\":true,\"x\":[1744.3288443963245],\"xaxis\":\"x\",\"y\":[67.851],\"yaxis\":\"y\",\"type\":\"scatter\"},{\"hovertemplate\":\"Entity=Kosovo\\u003cbr\\u003eGDPperCapita=%{x}\\u003cbr\\u003eLife expectancy=%{y}\\u003cextra\\u003e\\u003c\\u002fextra\\u003e\",\"legendgroup\":\"Kosovo\",\"marker\":{\"color\":\"#B6E880\",\"symbol\":\"circle\"},\"mode\":\"markers\",\"name\":\"Kosovo\",\"orientation\":\"v\",\"showlegend\":true,\"x\":[null],\"xaxis\":\"x\",\"y\":[null],\"yaxis\":\"y\",\"type\":\"scatter\"},{\"hovertemplate\":\"Entity=Kuwait\\u003cbr\\u003eGDPperCapita=%{x}\\u003cbr\\u003eLife expectancy=%{y}\\u003cextra\\u003e\\u003c\\u002fextra\\u003e\",\"legendgroup\":\"Kuwait\",\"marker\":{\"color\":\"#FF97FF\",\"symbol\":\"circle\"},\"mode\":\"markers\",\"name\":\"Kuwait\",\"orientation\":\"v\",\"showlegend\":true,\"x\":[34211.63377749877],\"xaxis\":\"x\",\"y\":[75.311],\"yaxis\":\"y\",\"type\":\"scatter\"},{\"hovertemplate\":\"Entity=Kyrgyzstan\\u003cbr\\u003eGDPperCapita=%{x}\\u003cbr\\u003eLife expectancy=%{y}\\u003cextra\\u003e\\u003c\\u002fextra\\u003e\",\"legendgroup\":\"Kyrgyzstan\",\"marker\":{\"color\":\"#FECB52\",\"symbol\":\"circle\"},\"mode\":\"markers\",\"name\":\"Kyrgyzstan\",\"orientation\":\"v\",\"showlegend\":true,\"x\":[1072.311890452892],\"xaxis\":\"x\",\"y\":[71.193],\"yaxis\":\"y\",\"type\":\"scatter\"},{\"hovertemplate\":\"Entity=Laos\\u003cbr\\u003eGDPperCapita=%{x}\\u003cbr\\u003eLife expectancy=%{y}\\u003cextra\\u003e\\u003c\\u002fextra\\u003e\",\"legendgroup\":\"Laos\",\"marker\":{\"color\":\"#636efa\",\"symbol\":\"circle\"},\"mode\":\"markers\",\"name\":\"Laos\",\"orientation\":\"v\",\"showlegend\":true,\"x\":[1706.8018243052925],\"xaxis\":\"x\",\"y\":[67.277],\"yaxis\":\"y\",\"type\":\"scatter\"},{\"hovertemplate\":\"Entity=Latvia\\u003cbr\\u003eGDPperCapita=%{x}\\u003cbr\\u003eLife expectancy=%{y}\\u003cextra\\u003e\\u003c\\u002fextra\\u003e\",\"legendgroup\":\"Latvia\",\"marker\":{\"color\":\"#EF553B\",\"symbol\":\"circle\"},\"mode\":\"markers\",\"name\":\"Latvia\",\"orientation\":\"v\",\"showlegend\":true,\"x\":[15471.535484080063],\"xaxis\":\"x\",\"y\":[75.048],\"yaxis\":\"y\",\"type\":\"scatter\"},{\"hovertemplate\":\"Entity=Lebanon\\u003cbr\\u003eGDPperCapita=%{x}\\u003cbr\\u003eLife expectancy=%{y}\\u003cextra\\u003e\\u003c\\u002fextra\\u003e\",\"legendgroup\":\"Lebanon\",\"marker\":{\"color\":\"#00cc96\",\"symbol\":\"circle\"},\"mode\":\"markers\",\"name\":\"Lebanon\",\"orientation\":\"v\",\"showlegend\":true,\"x\":[6420.084729746019],\"xaxis\":\"x\",\"y\":[78.833],\"yaxis\":\"y\",\"type\":\"scatter\"},{\"hovertemplate\":\"Entity=Lesotho\\u003cbr\\u003eGDPperCapita=%{x}\\u003cbr\\u003eLife expectancy=%{y}\\u003cextra\\u003e\\u003c\\u002fextra\\u003e\",\"legendgroup\":\"Lesotho\",\"marker\":{\"color\":\"#ab63fa\",\"symbol\":\"circle\"},\"mode\":\"markers\",\"name\":\"Lesotho\",\"orientation\":\"v\",\"showlegend\":true,\"x\":[1504.425989499173],\"xaxis\":\"x\",\"y\":[52.947],\"yaxis\":\"y\",\"type\":\"scatter\"},{\"hovertemplate\":\"Entity=Liberia\\u003cbr\\u003eGDPperCapita=%{x}\\u003cbr\\u003eLife expectancy=%{y}\\u003cextra\\u003e\\u003c\\u002fextra\\u003e\",\"legendgroup\":\"Liberia\",\"marker\":{\"color\":\"#FFA15A\",\"symbol\":\"circle\"},\"mode\":\"markers\",\"name\":\"Liberia\",\"orientation\":\"v\",\"showlegend\":true,\"x\":[354.5265876589813],\"xaxis\":\"x\",\"y\":[63.295],\"yaxis\":\"y\",\"type\":\"scatter\"},{\"hovertemplate\":\"Entity=Libya\\u003cbr\\u003eGDPperCapita=%{x}\\u003cbr\\u003eLife expectancy=%{y}\\u003cextra\\u003e\\u003c\\u002fextra\\u003e\",\"legendgroup\":\"Libya\",\"marker\":{\"color\":\"#19d3f3\",\"symbol\":\"circle\"},\"mode\":\"markers\",\"name\":\"Libya\",\"orientation\":\"v\",\"showlegend\":true,\"x\":[7085.233506390533],\"xaxis\":\"x\",\"y\":[72.52],\"yaxis\":\"y\",\"type\":\"scatter\"},{\"hovertemplate\":\"Entity=Lithuania\\u003cbr\\u003eGDPperCapita=%{x}\\u003cbr\\u003eLife expectancy=%{y}\\u003cextra\\u003e\\u003c\\u002fextra\\u003e\",\"legendgroup\":\"Lithuania\",\"marker\":{\"color\":\"#FF6692\",\"symbol\":\"circle\"},\"mode\":\"markers\",\"name\":\"Lithuania\",\"orientation\":\"v\",\"showlegend\":true,\"x\":[16691.25687295223],\"xaxis\":\"x\",\"y\":[75.507],\"yaxis\":\"y\",\"type\":\"scatter\"},{\"hovertemplate\":\"Entity=Luxembourg\\u003cbr\\u003eGDPperCapita=%{x}\\u003cbr\\u003eLife expectancy=%{y}\\u003cextra\\u003e\\u003c\\u002fextra\\u003e\",\"legendgroup\":\"Luxembourg\",\"marker\":{\"color\":\"#B6E880\",\"symbol\":\"circle\"},\"mode\":\"markers\",\"name\":\"Luxembourg\",\"orientation\":\"v\",\"showlegend\":true,\"x\":[109222.51748804915],\"xaxis\":\"x\",\"y\":[81.955],\"yaxis\":\"y\",\"type\":\"scatter\"},{\"hovertemplate\":\"Entity=Macao\\u003cbr\\u003eGDPperCapita=%{x}\\u003cbr\\u003eLife expectancy=%{y}\\u003cextra\\u003e\\u003c\\u002fextra\\u003e\",\"legendgroup\":\"Macao\",\"marker\":{\"color\":\"#FF97FF\",\"symbol\":\"circle\"},\"mode\":\"markers\",\"name\":\"Macao\",\"orientation\":\"v\",\"showlegend\":true,\"x\":[55897.925654908024],\"xaxis\":\"x\",\"y\":[83.989],\"yaxis\":\"y\",\"type\":\"scatter\"},{\"hovertemplate\":\"Entity=Madagascar\\u003cbr\\u003eGDPperCapita=%{x}\\u003cbr\\u003eLife expectancy=%{y}\\u003cextra\\u003e\\u003c\\u002fextra\\u003e\",\"legendgroup\":\"Madagascar\",\"marker\":{\"color\":\"#FECB52\",\"symbol\":\"circle\"},\"mode\":\"markers\",\"name\":\"Madagascar\",\"orientation\":\"v\",\"showlegend\":true,\"x\":[421.8895132896171],\"xaxis\":\"x\",\"y\":[66.311],\"yaxis\":\"y\",\"type\":\"scatter\"},{\"hovertemplate\":\"Entity=Malawi\\u003cbr\\u003eGDPperCapita=%{x}\\u003cbr\\u003eLife expectancy=%{y}\\u003cextra\\u003e\\u003c\\u002fextra\\u003e\",\"legendgroup\":\"Malawi\",\"marker\":{\"color\":\"#636efa\",\"symbol\":\"circle\"},\"mode\":\"markers\",\"name\":\"Malawi\",\"orientation\":\"v\",\"showlegend\":true,\"x\":[512.6562214324799],\"xaxis\":\"x\",\"y\":[63.279],\"yaxis\":\"y\",\"type\":\"scatter\"},{\"hovertemplate\":\"Entity=Malaysia\\u003cbr\\u003eGDPperCapita=%{x}\\u003cbr\\u003eLife expectancy=%{y}\\u003cextra\\u003e\\u003c\\u002fextra\\u003e\",\"legendgroup\":\"Malaysia\",\"marker\":{\"color\":\"#EF553B\",\"symbol\":\"circle\"},\"mode\":\"markers\",\"name\":\"Malaysia\",\"orientation\":\"v\",\"showlegend\":true,\"x\":[11713.792561266839],\"xaxis\":\"x\",\"y\":[75.828],\"yaxis\":\"y\",\"type\":\"scatter\"},{\"hovertemplate\":\"Entity=Maldives\\u003cbr\\u003eGDPperCapita=%{x}\\u003cbr\\u003eLife expectancy=%{y}\\u003cextra\\u003e\\u003c\\u002fextra\\u003e\",\"legendgroup\":\"Maldives\",\"marker\":{\"color\":\"#00cc96\",\"symbol\":\"circle\"},\"mode\":\"markers\",\"name\":\"Maldives\",\"orientation\":\"v\",\"showlegend\":true,\"x\":[7899.714168118267],\"xaxis\":\"x\",\"y\":[78.325],\"yaxis\":\"y\",\"type\":\"scatter\"},{\"hovertemplate\":\"Entity=Mali\\u003cbr\\u003eGDPperCapita=%{x}\\u003cbr\\u003eLife expectancy=%{y}\\u003cextra\\u003e\\u003c\\u002fextra\\u003e\",\"legendgroup\":\"Mali\",\"marker\":{\"color\":\"#ab63fa\",\"symbol\":\"circle\"},\"mode\":\"markers\",\"name\":\"Mali\",\"orientation\":\"v\",\"showlegend\":true,\"x\":[763.4603869121759],\"xaxis\":\"x\",\"y\":[58.452],\"yaxis\":\"y\",\"type\":\"scatter\"},{\"hovertemplate\":\"Entity=Malta\\u003cbr\\u003eGDPperCapita=%{x}\\u003cbr\\u003eLife expectancy=%{y}\\u003cextra\\u003e\\u003c\\u002fextra\\u003e\",\"legendgroup\":\"Malta\",\"marker\":{\"color\":\"#FFA15A\",\"symbol\":\"circle\"},\"mode\":\"markers\",\"name\":\"Malta\",\"orientation\":\"v\",\"showlegend\":true,\"x\":[28837.27962744566],\"xaxis\":\"x\",\"y\":[82.221],\"yaxis\":\"y\",\"type\":\"scatter\"},{\"hovertemplate\":\"Entity=Marshall Islands\\u003cbr\\u003eGDPperCapita=%{x}\\u003cbr\\u003eLife expectancy=%{y}\\u003cextra\\u003e\\u003c\\u002fextra\\u003e\",\"legendgroup\":\"Marshall Islands\",\"marker\":{\"color\":\"#19d3f3\",\"symbol\":\"circle\"},\"mode\":\"markers\",\"name\":\"Marshall Islands\",\"orientation\":\"v\",\"showlegend\":true,\"x\":[3164.1006681526383],\"xaxis\":\"x\",\"y\":[73.278],\"yaxis\":\"y\",\"type\":\"scatter\"},{\"hovertemplate\":\"Entity=Mauritania\\u003cbr\\u003eGDPperCapita=%{x}\\u003cbr\\u003eLife expectancy=%{y}\\u003cextra\\u003e\\u003c\\u002fextra\\u003e\",\"legendgroup\":\"Mauritania\",\"marker\":{\"color\":\"#FF6692\",\"symbol\":\"circle\"},\"mode\":\"markers\",\"name\":\"Mauritania\",\"orientation\":\"v\",\"showlegend\":true,\"x\":[1347.0106110759748],\"xaxis\":\"x\",\"y\":[64.464],\"yaxis\":\"y\",\"type\":\"scatter\"},{\"hovertemplate\":\"Entity=Mauritius\\u003cbr\\u003eGDPperCapita=%{x}\\u003cbr\\u003eLife expectancy=%{y}\\u003cextra\\u003e\\u003c\\u002fextra\\u003e\",\"legendgroup\":\"Mauritius\",\"marker\":{\"color\":\"#B6E880\",\"symbol\":\"circle\"},\"mode\":\"markers\",\"name\":\"Mauritius\",\"orientation\":\"v\",\"showlegend\":true,\"x\":[10190.993735979035],\"xaxis\":\"x\",\"y\":[74.743],\"yaxis\":\"y\",\"type\":\"scatter\"},{\"hovertemplate\":\"Entity=Mexico\\u003cbr\\u003eGDPperCapita=%{x}\\u003cbr\\u003eLife expectancy=%{y}\\u003cextra\\u003e\\u003c\\u002fextra\\u003e\",\"legendgroup\":\"Mexico\",\"marker\":{\"color\":\"#FF97FF\",\"symbol\":\"circle\"},\"mode\":\"markers\",\"name\":\"Mexico\",\"orientation\":\"v\",\"showlegend\":true,\"x\":[10295.794498827267],\"xaxis\":\"x\",\"y\":[74.947],\"yaxis\":\"y\",\"type\":\"scatter\"},{\"hovertemplate\":\"Entity=Moldova\\u003cbr\\u003eGDPperCapita=%{x}\\u003cbr\\u003eLife expectancy=%{y}\\u003cextra\\u003e\\u003c\\u002fextra\\u003e\",\"legendgroup\":\"Moldova\",\"marker\":{\"color\":\"#FECB52\",\"symbol\":\"circle\"},\"mode\":\"markers\",\"name\":\"Moldova\",\"orientation\":\"v\",\"showlegend\":true,\"x\":[1893.0453068657068],\"xaxis\":\"x\",\"y\":[71.717],\"yaxis\":\"y\",\"type\":\"scatter\"},{\"hovertemplate\":\"Entity=Mongolia\\u003cbr\\u003eGDPperCapita=%{x}\\u003cbr\\u003eLife expectancy=%{y}\\u003cextra\\u003e\\u003c\\u002fextra\\u003e\",\"legendgroup\":\"Mongolia\",\"marker\":{\"color\":\"#636efa\",\"symbol\":\"circle\"},\"mode\":\"markers\",\"name\":\"Mongolia\",\"orientation\":\"v\",\"showlegend\":true,\"x\":[4020.952428596564],\"xaxis\":\"x\",\"y\":[69.509],\"yaxis\":\"y\",\"type\":\"scatter\"},{\"hovertemplate\":\"Entity=Montenegro\\u003cbr\\u003eGDPperCapita=%{x}\\u003cbr\\u003eLife expectancy=%{y}\\u003cextra\\u003e\\u003c\\u002fextra\\u003e\",\"legendgroup\":\"Montenegro\",\"marker\":{\"color\":\"#EF553B\",\"symbol\":\"circle\"},\"mode\":\"markers\",\"name\":\"Montenegro\",\"orientation\":\"v\",\"showlegend\":true,\"x\":[7744.161328415015],\"xaxis\":\"x\",\"y\":[76.667],\"yaxis\":\"y\",\"type\":\"scatter\"},{\"hovertemplate\":\"Entity=Morocco\\u003cbr\\u003eGDPperCapita=%{x}\\u003cbr\\u003eLife expectancy=%{y}\\u003cextra\\u003e\\u003c\\u002fextra\\u003e\",\"legendgroup\":\"Morocco\",\"marker\":{\"color\":\"#00cc96\",\"symbol\":\"circle\"},\"mode\":\"markers\",\"name\":\"Morocco\",\"orientation\":\"v\",\"showlegend\":true,\"x\":[3358.2559171027515],\"xaxis\":\"x\",\"y\":[76.218],\"yaxis\":\"y\",\"type\":\"scatter\"},{\"hovertemplate\":\"Entity=Mozambique\\u003cbr\\u003eGDPperCapita=%{x}\\u003cbr\\u003eLife expectancy=%{y}\\u003cextra\\u003e\\u003c\\u002fextra\\u003e\",\"legendgroup\":\"Mozambique\",\"marker\":{\"color\":\"#ab63fa\",\"symbol\":\"circle\"},\"mode\":\"markers\",\"name\":\"Mozambique\",\"orientation\":\"v\",\"showlegend\":true,\"x\":[537.4346092917973],\"xaxis\":\"x\",\"y\":[59.309],\"yaxis\":\"y\",\"type\":\"scatter\"},{\"hovertemplate\":\"Entity=Myanmar\\u003cbr\\u003eGDPperCapita=%{x}\\u003cbr\\u003eLife expectancy=%{y}\\u003cextra\\u003e\\u003c\\u002fextra\\u003e\",\"legendgroup\":\"Myanmar\",\"marker\":{\"color\":\"#FFA15A\",\"symbol\":\"circle\"},\"mode\":\"markers\",\"name\":\"Myanmar\",\"orientation\":\"v\",\"showlegend\":true,\"x\":[1483.856240995092],\"xaxis\":\"x\",\"y\":[66.558],\"yaxis\":\"y\",\"type\":\"scatter\"},{\"hovertemplate\":\"Entity=Namibia\\u003cbr\\u003eGDPperCapita=%{x}\\u003cbr\\u003eLife expectancy=%{y}\\u003cextra\\u003e\\u003c\\u002fextra\\u003e\",\"legendgroup\":\"Namibia\",\"marker\":{\"color\":\"#19d3f3\",\"symbol\":\"circle\"},\"mode\":\"markers\",\"name\":\"Namibia\",\"orientation\":\"v\",\"showlegend\":true,\"x\":[6173.538590781273],\"xaxis\":\"x\",\"y\":[63.021],\"yaxis\":\"y\",\"type\":\"scatter\"},{\"hovertemplate\":\"Entity=Nauru\\u003cbr\\u003eGDPperCapita=%{x}\\u003cbr\\u003eLife expectancy=%{y}\\u003cextra\\u003e\\u003c\\u002fextra\\u003e\",\"legendgroup\":\"Nauru\",\"marker\":{\"color\":\"#FF6692\",\"symbol\":\"circle\"},\"mode\":\"markers\",\"name\":\"Nauru\",\"orientation\":\"v\",\"showlegend\":true,\"x\":[11923.843074243727],\"xaxis\":\"x\",\"y\":[59.805],\"yaxis\":\"y\",\"type\":\"scatter\"},{\"hovertemplate\":\"Entity=Nepal\\u003cbr\\u003eGDPperCapita=%{x}\\u003cbr\\u003eLife expectancy=%{y}\\u003cextra\\u003e\\u003c\\u002fextra\\u003e\",\"legendgroup\":\"Nepal\",\"marker\":{\"color\":\"#B6E880\",\"symbol\":\"circle\"},\"mode\":\"markers\",\"name\":\"Nepal\",\"orientation\":\"v\",\"showlegend\":true,\"x\":[772.4735975500814],\"xaxis\":\"x\",\"y\":[70.169],\"yaxis\":\"y\",\"type\":\"scatter\"},{\"hovertemplate\":\"Entity=Netherlands\\u003cbr\\u003eGDPperCapita=%{x}\\u003cbr\\u003eLife expectancy=%{y}\\u003cextra\\u003e\\u003c\\u002fextra\\u003e\",\"legendgroup\":\"Netherlands\",\"marker\":{\"color\":\"#FF97FF\",\"symbol\":\"circle\"},\"mode\":\"markers\",\"name\":\"Netherlands\",\"orientation\":\"v\",\"showlegend\":true,\"x\":[53950.0540635468],\"xaxis\":\"x\",\"y\":[82.004],\"yaxis\":\"y\",\"type\":\"scatter\"},{\"hovertemplate\":\"Entity=New Zealand\\u003cbr\\u003eGDPperCapita=%{x}\\u003cbr\\u003eLife expectancy=%{y}\\u003cextra\\u003e\\u003c\\u002fextra\\u003e\",\"legendgroup\":\"New Zealand\",\"marker\":{\"color\":\"#FECB52\",\"symbol\":\"circle\"},\"mode\":\"markers\",\"name\":\"New Zealand\",\"orientation\":\"v\",\"showlegend\":true,\"x\":[38592.70325665397],\"xaxis\":\"x\",\"y\":[82.002],\"yaxis\":\"y\",\"type\":\"scatter\"},{\"hovertemplate\":\"Entity=Nicaragua\\u003cbr\\u003eGDPperCapita=%{x}\\u003cbr\\u003eLife expectancy=%{y}\\u003cextra\\u003e\\u003c\\u002fextra\\u003e\",\"legendgroup\":\"Nicaragua\",\"marker\":{\"color\":\"#636efa\",\"symbol\":\"circle\"},\"mode\":\"markers\",\"name\":\"Nicaragua\",\"orientation\":\"v\",\"showlegend\":true,\"x\":[1963.4506830054502],\"xaxis\":\"x\",\"y\":[74.068],\"yaxis\":\"y\",\"type\":\"scatter\"},{\"hovertemplate\":\"Entity=Niger\\u003cbr\\u003eGDPperCapita=%{x}\\u003cbr\\u003eLife expectancy=%{y}\\u003cextra\\u003e\\u003c\\u002fextra\\u003e\",\"legendgroup\":\"Niger\",\"marker\":{\"color\":\"#EF553B\",\"symbol\":\"circle\"},\"mode\":\"markers\",\"name\":\"Niger\",\"orientation\":\"v\",\"showlegend\":true,\"x\":[393.6525754495546],\"xaxis\":\"x\",\"y\":[61.599],\"yaxis\":\"y\",\"type\":\"scatter\"},{\"hovertemplate\":\"Entity=Nigeria\\u003cbr\\u003eGDPperCapita=%{x}\\u003cbr\\u003eLife expectancy=%{y}\\u003cextra\\u003e\\u003c\\u002fextra\\u003e\",\"legendgroup\":\"Nigeria\",\"marker\":{\"color\":\"#00cc96\",\"symbol\":\"circle\"},\"mode\":\"markers\",\"name\":\"Nigeria\",\"orientation\":\"v\",\"showlegend\":true,\"x\":[2412.5783360682376],\"xaxis\":\"x\",\"y\":[53.95],\"yaxis\":\"y\",\"type\":\"scatter\"},{\"hovertemplate\":\"Entity=North Macedonia\\u003cbr\\u003eGDPperCapita=%{x}\\u003cbr\\u003eLife expectancy=%{y}\\u003cextra\\u003e\\u003c\\u002fextra\\u003e\",\"legendgroup\":\"North Macedonia\",\"marker\":{\"color\":\"#ab63fa\",\"symbol\":\"circle\"},\"mode\":\"markers\",\"name\":\"North Macedonia\",\"orientation\":\"v\",\"showlegend\":true,\"x\":[5248.282093054803],\"xaxis\":\"x\",\"y\":[75.589],\"yaxis\":\"y\",\"type\":\"scatter\"},{\"hovertemplate\":\"Entity=Norway\\u003cbr\\u003eGDPperCapita=%{x}\\u003cbr\\u003eLife expectancy=%{y}\\u003cextra\\u003e\\u003c\\u002fextra\\u003e\",\"legendgroup\":\"Norway\",\"marker\":{\"color\":\"#FFA15A\",\"symbol\":\"circle\"},\"mode\":\"markers\",\"name\":\"Norway\",\"orientation\":\"v\",\"showlegend\":true,\"x\":[90981.32256139029],\"xaxis\":\"x\",\"y\":[82.146],\"yaxis\":\"y\",\"type\":\"scatter\"},{\"hovertemplate\":\"Entity=Oman\\u003cbr\\u003eGDPperCapita=%{x}\\u003cbr\\u003eLife expectancy=%{y}\\u003cextra\\u003e\\u003c\\u002fextra\\u003e\",\"legendgroup\":\"Oman\",\"marker\":{\"color\":\"#19d3f3\",\"symbol\":\"circle\"},\"mode\":\"markers\",\"name\":\"Oman\",\"orientation\":\"v\",\"showlegend\":true,\"x\":[16041.513435599463],\"xaxis\":\"x\",\"y\":[77.393],\"yaxis\":\"y\",\"type\":\"scatter\"},{\"hovertemplate\":\"Entity=Pakistan\\u003cbr\\u003eGDPperCapita=%{x}\\u003cbr\\u003eLife expectancy=%{y}\\u003cextra\\u003e\\u003c\\u002fextra\\u003e\",\"legendgroup\":\"Pakistan\",\"marker\":{\"color\":\"#FF6692\",\"symbol\":\"circle\"},\"mode\":\"markers\",\"name\":\"Pakistan\",\"orientation\":\"v\",\"showlegend\":true,\"x\":[1158.4885232469962],\"xaxis\":\"x\",\"y\":[66.947],\"yaxis\":\"y\",\"type\":\"scatter\"},{\"hovertemplate\":\"Entity=Palau\\u003cbr\\u003eGDPperCapita=%{x}\\u003cbr\\u003eLife expectancy=%{y}\\u003cextra\\u003e\\u003c\\u002fextra\\u003e\",\"legendgroup\":\"Palau\",\"marker\":{\"color\":\"#B6E880\",\"symbol\":\"circle\"},\"mode\":\"markers\",\"name\":\"Palau\",\"orientation\":\"v\",\"showlegend\":true,\"x\":[12051.417300994945],\"xaxis\":\"x\",\"y\":[73.32],\"yaxis\":\"y\",\"type\":\"scatter\"},{\"hovertemplate\":\"Entity=Palestine\\u003cbr\\u003eGDPperCapita=%{x}\\u003cbr\\u003eLife expectancy=%{y}\\u003cextra\\u003e\\u003c\\u002fextra\\u003e\",\"legendgroup\":\"Palestine\",\"marker\":{\"color\":\"#FF97FF\",\"symbol\":\"circle\"},\"mode\":\"markers\",\"name\":\"Palestine\",\"orientation\":\"v\",\"showlegend\":true,\"x\":[2556.716968957236],\"xaxis\":\"x\",\"y\":[73.74],\"yaxis\":\"y\",\"type\":\"scatter\"},{\"hovertemplate\":\"Entity=Panama\\u003cbr\\u003eGDPperCapita=%{x}\\u003cbr\\u003eLife expectancy=%{y}\\u003cextra\\u003e\\u003c\\u002fextra\\u003e\",\"legendgroup\":\"Panama\",\"marker\":{\"color\":\"#FECB52\",\"symbol\":\"circle\"},\"mode\":\"markers\",\"name\":\"Panama\",\"orientation\":\"v\",\"showlegend\":true,\"x\":[11489.693265479986],\"xaxis\":\"x\",\"y\":[78.149],\"yaxis\":\"y\",\"type\":\"scatter\"},{\"hovertemplate\":\"Entity=Papua New Guinea\\u003cbr\\u003eGDPperCapita=%{x}\\u003cbr\\u003eLife expectancy=%{y}\\u003cextra\\u003e\\u003c\\u002fextra\\u003e\",\"legendgroup\":\"Papua New Guinea\",\"marker\":{\"color\":\"#636efa\",\"symbol\":\"circle\"},\"mode\":\"markers\",\"name\":\"Papua New Guinea\",\"orientation\":\"v\",\"showlegend\":true,\"x\":[2348.3947050418583],\"xaxis\":\"x\",\"y\":[64.01],\"yaxis\":\"y\",\"type\":\"scatter\"},{\"hovertemplate\":\"Entity=Paraguay\\u003cbr\\u003eGDPperCapita=%{x}\\u003cbr\\u003eLife expectancy=%{y}\\u003cextra\\u003e\\u003c\\u002fextra\\u003e\",\"legendgroup\":\"Paraguay\",\"marker\":{\"color\":\"#EF553B\",\"symbol\":\"circle\"},\"mode\":\"markers\",\"name\":\"Paraguay\",\"orientation\":\"v\",\"showlegend\":true,\"x\":[3874.246263594248],\"xaxis\":\"x\",\"y\":[73.992],\"yaxis\":\"y\",\"type\":\"scatter\"},{\"hovertemplate\":\"Entity=Peru\\u003cbr\\u003eGDPperCapita=%{x}\\u003cbr\\u003eLife expectancy=%{y}\\u003cextra\\u003e\\u003c\\u002fextra\\u003e\",\"legendgroup\":\"Peru\",\"marker\":{\"color\":\"#00cc96\",\"symbol\":\"circle\"},\"mode\":\"markers\",\"name\":\"Peru\",\"orientation\":\"v\",\"showlegend\":true,\"x\":[6314.326519317802],\"xaxis\":\"x\",\"y\":[76.286],\"yaxis\":\"y\",\"type\":\"scatter\"},{\"hovertemplate\":\"Entity=Philippines\\u003cbr\\u003eGDPperCapita=%{x}\\u003cbr\\u003eLife expectancy=%{y}\\u003cextra\\u003e\\u003c\\u002fextra\\u003e\",\"legendgroup\":\"Philippines\",\"marker\":{\"color\":\"#ab63fa\",\"symbol\":\"circle\"},\"mode\":\"markers\",\"name\":\"Philippines\",\"orientation\":\"v\",\"showlegend\":true,\"x\":[2884.3510430859346],\"xaxis\":\"x\",\"y\":[70.952],\"yaxis\":\"y\",\"type\":\"scatter\"},{\"hovertemplate\":\"Entity=Poland\\u003cbr\\u003eGDPperCapita=%{x}\\u003cbr\\u003eLife expectancy=%{y}\\u003cextra\\u003e\\u003c\\u002fextra\\u003e\",\"legendgroup\":\"Poland\",\"marker\":{\"color\":\"#FFA15A\",\"symbol\":\"circle\"},\"mode\":\"markers\",\"name\":\"Poland\",\"orientation\":\"v\",\"showlegend\":true,\"x\":[15760.713292936132],\"xaxis\":\"x\",\"y\":[78.338],\"yaxis\":\"y\",\"type\":\"scatter\"},{\"hovertemplate\":\"Entity=Portugal\\u003cbr\\u003eGDPperCapita=%{x}\\u003cbr\\u003eLife expectancy=%{y}\\u003cextra\\u003e\\u003c\\u002fextra\\u003e\",\"legendgroup\":\"Portugal\",\"marker\":{\"color\":\"#19d3f3\",\"symbol\":\"circle\"},\"mode\":\"markers\",\"name\":\"Portugal\",\"orientation\":\"v\",\"showlegend\":true,\"x\":[23127.1793929723],\"xaxis\":\"x\",\"y\":[81.655],\"yaxis\":\"y\",\"type\":\"scatter\"},{\"hovertemplate\":\"Entity=Qatar\\u003cbr\\u003eGDPperCapita=%{x}\\u003cbr\\u003eLife expectancy=%{y}\\u003cextra\\u003e\\u003c\\u002fextra\\u003e\",\"legendgroup\":\"Qatar\",\"marker\":{\"color\":\"#FF6692\",\"symbol\":\"circle\"},\"mode\":\"markers\",\"name\":\"Qatar\",\"orientation\":\"v\",\"showlegend\":true,\"x\":[63628.12021207412],\"xaxis\":\"x\",\"y\":[79.981],\"yaxis\":\"y\",\"type\":\"scatter\"},{\"hovertemplate\":\"Entity=Romania\\u003cbr\\u003eGDPperCapita=%{x}\\u003cbr\\u003eLife expectancy=%{y}\\u003cextra\\u003e\\u003c\\u002fextra\\u003e\",\"legendgroup\":\"Romania\",\"marker\":{\"color\":\"#B6E880\",\"symbol\":\"circle\"},\"mode\":\"markers\",\"name\":\"Romania\",\"orientation\":\"v\",\"showlegend\":true,\"x\":[10894.802686279638],\"xaxis\":\"x\",\"y\":[75.79],\"yaxis\":\"y\",\"type\":\"scatter\"},{\"hovertemplate\":\"Entity=Russia\\u003cbr\\u003eGDPperCapita=%{x}\\u003cbr\\u003eLife expectancy=%{y}\\u003cextra\\u003e\\u003c\\u002fextra\\u003e\",\"legendgroup\":\"Russia\",\"marker\":{\"color\":\"#FF97FF\",\"symbol\":\"circle\"},\"mode\":\"markers\",\"name\":\"Russia\",\"orientation\":\"v\",\"showlegend\":true,\"x\":[11544.047959580705],\"xaxis\":\"x\",\"y\":[72.139],\"yaxis\":\"y\",\"type\":\"scatter\"},{\"hovertemplate\":\"Entity=Rwanda\\u003cbr\\u003eGDPperCapita=%{x}\\u003cbr\\u003eLife expectancy=%{y}\\u003cextra\\u003e\\u003c\\u002fextra\\u003e\",\"legendgroup\":\"Rwanda\",\"marker\":{\"color\":\"#FECB52\",\"symbol\":\"circle\"},\"mode\":\"markers\",\"name\":\"Rwanda\",\"orientation\":\"v\",\"showlegend\":true,\"x\":[779.7490066089041],\"xaxis\":\"x\",\"y\":[68.341],\"yaxis\":\"y\",\"type\":\"scatter\"},{\"hovertemplate\":\"Entity=Saint Kitts and Nevis\\u003cbr\\u003eGDPperCapita=%{x}\\u003cbr\\u003eLife expectancy=%{y}\\u003cextra\\u003e\\u003c\\u002fextra\\u003e\",\"legendgroup\":\"Saint Kitts and Nevis\",\"marker\":{\"color\":\"#636efa\",\"symbol\":\"circle\"},\"mode\":\"markers\",\"name\":\"Saint Kitts and Nevis\",\"orientation\":\"v\",\"showlegend\":true,\"x\":[16794.35472127423],\"xaxis\":\"x\",\"y\":[75.91],\"yaxis\":\"y\",\"type\":\"scatter\"},{\"hovertemplate\":\"Entity=Saint Lucia\\u003cbr\\u003eGDPperCapita=%{x}\\u003cbr\\u003eLife expectancy=%{y}\\u003cextra\\u003e\\u003c\\u002fextra\\u003e\",\"legendgroup\":\"Saint Lucia\",\"marker\":{\"color\":\"#EF553B\",\"symbol\":\"circle\"},\"mode\":\"markers\",\"name\":\"Saint Lucia\",\"orientation\":\"v\",\"showlegend\":true,\"x\":[8452.687524606023],\"xaxis\":\"x\",\"y\":[75.907],\"yaxis\":\"y\",\"type\":\"scatter\"},{\"hovertemplate\":\"Entity=Saint Vincent and the Grenadines\\u003cbr\\u003eGDPperCapita=%{x}\\u003cbr\\u003eLife expectancy=%{y}\\u003cextra\\u003e\\u003c\\u002fextra\\u003e\",\"legendgroup\":\"Saint Vincent and the Grenadines\",\"marker\":{\"color\":\"#00cc96\",\"symbol\":\"circle\"},\"mode\":\"markers\",\"name\":\"Saint Vincent and the Grenadines\",\"orientation\":\"v\",\"showlegend\":true,\"x\":[6735.514265390299],\"xaxis\":\"x\",\"y\":[72.3],\"yaxis\":\"y\",\"type\":\"scatter\"},{\"hovertemplate\":\"Entity=Samoa\\u003cbr\\u003eGDPperCapita=%{x}\\u003cbr\\u003eLife expectancy=%{y}\\u003cextra\\u003e\\u003c\\u002fextra\\u003e\",\"legendgroup\":\"Samoa\",\"marker\":{\"color\":\"#ab63fa\",\"symbol\":\"circle\"},\"mode\":\"markers\",\"name\":\"Samoa\",\"orientation\":\"v\",\"showlegend\":true,\"x\":[3879.45020875761],\"xaxis\":\"x\",\"y\":[73.046],\"yaxis\":\"y\",\"type\":\"scatter\"},{\"hovertemplate\":\"Entity=San Marino\\u003cbr\\u003eGDPperCapita=%{x}\\u003cbr\\u003eLife expectancy=%{y}\\u003cextra\\u003e\\u003c\\u002fextra\\u003e\",\"legendgroup\":\"San Marino\",\"marker\":{\"color\":\"#FFA15A\",\"symbol\":\"circle\"},\"mode\":\"markers\",\"name\":\"San Marino\",\"orientation\":\"v\",\"showlegend\":true,\"x\":[51998.1805325606],\"xaxis\":\"x\",\"y\":[84.699],\"yaxis\":\"y\",\"type\":\"scatter\"},{\"hovertemplate\":\"Entity=Sao Tome and Principe\\u003cbr\\u003eGDPperCapita=%{x}\\u003cbr\\u003eLife expectancy=%{y}\\u003cextra\\u003e\\u003c\\u002fextra\\u003e\",\"legendgroup\":\"Sao Tome and Principe\",\"marker\":{\"color\":\"#19d3f3\",\"symbol\":\"circle\"},\"mode\":\"markers\",\"name\":\"Sao Tome and Principe\",\"orientation\":\"v\",\"showlegend\":true,\"x\":[1288.762361476111],\"xaxis\":\"x\",\"y\":[69.933],\"yaxis\":\"y\",\"type\":\"scatter\"},{\"hovertemplate\":\"Entity=Saudi Arabia\\u003cbr\\u003eGDPperCapita=%{x}\\u003cbr\\u003eLife expectancy=%{y}\\u003cextra\\u003e\\u003c\\u002fextra\\u003e\",\"legendgroup\":\"Saudi Arabia\",\"marker\":{\"color\":\"#FF6692\",\"symbol\":\"circle\"},\"mode\":\"markers\",\"name\":\"Saudi Arabia\",\"orientation\":\"v\",\"showlegend\":true,\"x\":[20694.04549711489],\"xaxis\":\"x\",\"y\":[74.874],\"yaxis\":\"y\",\"type\":\"scatter\"},{\"hovertemplate\":\"Entity=Senegal\\u003cbr\\u003eGDPperCapita=%{x}\\u003cbr\\u003eLife expectancy=%{y}\\u003cextra\\u003e\\u003c\\u002fextra\\u003e\",\"legendgroup\":\"Senegal\",\"marker\":{\"color\":\"#B6E880\",\"symbol\":\"circle\"},\"mode\":\"markers\",\"name\":\"Senegal\",\"orientation\":\"v\",\"showlegend\":true,\"x\":[1165.824407244004],\"xaxis\":\"x\",\"y\":[67.38],\"yaxis\":\"y\",\"type\":\"scatter\"},{\"hovertemplate\":\"Entity=Serbia\\u003cbr\\u003eGDPperCapita=%{x}\\u003cbr\\u003eLife expectancy=%{y}\\u003cextra\\u003e\\u003c\\u002fextra\\u003e\",\"legendgroup\":\"Serbia\",\"marker\":{\"color\":\"#FF97FF\",\"symbol\":\"circle\"},\"mode\":\"markers\",\"name\":\"Serbia\",\"orientation\":\"v\",\"showlegend\":true,\"x\":[4765.5051662726055],\"xaxis\":\"x\",\"y\":[75.684],\"yaxis\":\"y\",\"type\":\"scatter\"},{\"hovertemplate\":\"Entity=Seychelles\\u003cbr\\u003eGDPperCapita=%{x}\\u003cbr\\u003eLife expectancy=%{y}\\u003cextra\\u003e\\u003c\\u002fextra\\u003e\",\"legendgroup\":\"Seychelles\",\"marker\":{\"color\":\"#FECB52\",\"symbol\":\"circle\"},\"mode\":\"markers\",\"name\":\"Seychelles\",\"orientation\":\"v\",\"showlegend\":true,\"x\":[13974.193431753958],\"xaxis\":\"x\",\"y\":[73.276],\"yaxis\":\"y\",\"type\":\"scatter\"},{\"hovertemplate\":\"Entity=Sierra Leone\\u003cbr\\u003eGDPperCapita=%{x}\\u003cbr\\u003eLife expectancy=%{y}\\u003cextra\\u003e\\u003c\\u002fextra\\u003e\",\"legendgroup\":\"Sierra Leone\",\"marker\":{\"color\":\"#636efa\",\"symbol\":\"circle\"},\"mode\":\"markers\",\"name\":\"Sierra Leone\",\"orientation\":\"v\",\"showlegend\":true,\"x\":[466.7321194998571],\"xaxis\":\"x\",\"y\":[53.895],\"yaxis\":\"y\",\"type\":\"scatter\"},{\"hovertemplate\":\"Entity=Singapore\\u003cbr\\u003eGDPperCapita=%{x}\\u003cbr\\u003eLife expectancy=%{y}\\u003cextra\\u003e\\u003c\\u002fextra\\u003e\",\"legendgroup\":\"Singapore\",\"marker\":{\"color\":\"#EF553B\",\"symbol\":\"circle\"},\"mode\":\"markers\",\"name\":\"Singapore\",\"orientation\":\"v\",\"showlegend\":true,\"x\":[54308.982638511385],\"xaxis\":\"x\",\"y\":[83.279],\"yaxis\":\"y\",\"type\":\"scatter\"},{\"hovertemplate\":\"Entity=Slovakia\\u003cbr\\u003eGDPperCapita=%{x}\\u003cbr\\u003eLife expectancy=%{y}\\u003cextra\\u003e\\u003c\\u002fextra\\u003e\",\"legendgroup\":\"Slovakia\",\"marker\":{\"color\":\"#00cc96\",\"symbol\":\"circle\"},\"mode\":\"markers\",\"name\":\"Slovakia\",\"orientation\":\"v\",\"showlegend\":true,\"x\":[19867.541517165013],\"xaxis\":\"x\",\"y\":[77.219],\"yaxis\":\"y\",\"type\":\"scatter\"},{\"hovertemplate\":\"Entity=Slovenia\\u003cbr\\u003eGDPperCapita=%{x}\\u003cbr\\u003eLife expectancy=%{y}\\u003cextra\\u003e\\u003c\\u002fextra\\u003e\",\"legendgroup\":\"Slovenia\",\"marker\":{\"color\":\"#ab63fa\",\"symbol\":\"circle\"},\"mode\":\"markers\",\"name\":\"Slovenia\",\"orientation\":\"v\",\"showlegend\":true,\"x\":[25548.04657953998],\"xaxis\":\"x\",\"y\":[81.016],\"yaxis\":\"y\",\"type\":\"scatter\"},{\"hovertemplate\":\"Entity=Solomon Islands\\u003cbr\\u003eGDPperCapita=%{x}\\u003cbr\\u003eLife expectancy=%{y}\\u003cextra\\u003e\\u003c\\u002fextra\\u003e\",\"legendgroup\":\"Solomon Islands\",\"marker\":{\"color\":\"#FFA15A\",\"symbol\":\"circle\"},\"mode\":\"markers\",\"name\":\"Solomon Islands\",\"orientation\":\"v\",\"showlegend\":true,\"x\":[1462.315444722118],\"xaxis\":\"x\",\"y\":[72.645],\"yaxis\":\"y\",\"type\":\"scatter\"},{\"hovertemplate\":\"Entity=South Africa\\u003cbr\\u003eGDPperCapita=%{x}\\u003cbr\\u003eLife expectancy=%{y}\\u003cextra\\u003e\\u003c\\u002fextra\\u003e\",\"legendgroup\":\"South Africa\",\"marker\":{\"color\":\"#19d3f3\",\"symbol\":\"circle\"},\"mode\":\"markers\",\"name\":\"South Africa\",\"orientation\":\"v\",\"showlegend\":true,\"x\":[7485.8599310439395],\"xaxis\":\"x\",\"y\":[63.538],\"yaxis\":\"y\",\"type\":\"scatter\"},{\"hovertemplate\":\"Entity=South Korea\\u003cbr\\u003eGDPperCapita=%{x}\\u003cbr\\u003eLife expectancy=%{y}\\u003cextra\\u003e\\u003c\\u002fextra\\u003e\",\"legendgroup\":\"South Korea\",\"marker\":{\"color\":\"#FF6692\",\"symbol\":\"circle\"},\"mode\":\"markers\",\"name\":\"South Korea\",\"orientation\":\"v\",\"showlegend\":true,\"x\":[26341.50760170933],\"xaxis\":\"x\",\"y\":[82.628],\"yaxis\":\"y\",\"type\":\"scatter\"},{\"hovertemplate\":\"Entity=Spain\\u003cbr\\u003eGDPperCapita=%{x}\\u003cbr\\u003eLife expectancy=%{y}\\u003cextra\\u003e\\u003c\\u002fextra\\u003e\",\"legendgroup\":\"Spain\",\"marker\":{\"color\":\"#B6E880\",\"symbol\":\"circle\"},\"mode\":\"markers\",\"name\":\"Spain\",\"orientation\":\"v\",\"showlegend\":true,\"x\":[32353.667637547966],\"xaxis\":\"x\",\"y\":[83.294],\"yaxis\":\"y\",\"type\":\"scatter\"},{\"hovertemplate\":\"Entity=Sri Lanka\\u003cbr\\u003eGDPperCapita=%{x}\\u003cbr\\u003eLife expectancy=%{y}\\u003cextra\\u003e\\u003c\\u002fextra\\u003e\",\"legendgroup\":\"Sri Lanka\",\"marker\":{\"color\":\"#FF97FF\",\"symbol\":\"circle\"},\"mode\":\"markers\",\"name\":\"Sri Lanka\",\"orientation\":\"v\",\"showlegend\":true,\"x\":[3899.7631299049885],\"xaxis\":\"x\",\"y\":[76.648],\"yaxis\":\"y\",\"type\":\"scatter\"},{\"hovertemplate\":\"Entity=Sudan\\u003cbr\\u003eGDPperCapita=%{x}\\u003cbr\\u003eLife expectancy=%{y}\\u003cextra\\u003e\\u003c\\u002fextra\\u003e\",\"legendgroup\":\"Sudan\",\"marker\":{\"color\":\"#FECB52\",\"symbol\":\"circle\"},\"mode\":\"markers\",\"name\":\"Sudan\",\"orientation\":\"v\",\"showlegend\":true,\"x\":[1945.7284749482765],\"xaxis\":\"x\",\"y\":[64.881],\"yaxis\":\"y\",\"type\":\"scatter\"},{\"hovertemplate\":\"Entity=Suriname\\u003cbr\\u003eGDPperCapita=%{x}\\u003cbr\\u003eLife expectancy=%{y}\\u003cextra\\u003e\\u003c\\u002fextra\\u003e\",\"legendgroup\":\"Suriname\",\"marker\":{\"color\":\"#636efa\",\"symbol\":\"circle\"},\"mode\":\"markers\",\"name\":\"Suriname\",\"orientation\":\"v\",\"showlegend\":true,\"x\":[7936.431957189545],\"xaxis\":\"x\",\"y\":[71.463],\"yaxis\":\"y\",\"type\":\"scatter\"},{\"hovertemplate\":\"Entity=Sweden\\u003cbr\\u003eGDPperCapita=%{x}\\u003cbr\\u003eLife expectancy=%{y}\\u003cextra\\u003e\\u003c\\u002fextra\\u003e\",\"legendgroup\":\"Sweden\",\"marker\":{\"color\":\"#EF553B\",\"symbol\":\"circle\"},\"mode\":\"markers\",\"name\":\"Sweden\",\"orientation\":\"v\",\"showlegend\":true,\"x\":[57870.66129200807],\"xaxis\":\"x\",\"y\":[82.516],\"yaxis\":\"y\",\"type\":\"scatter\"},{\"hovertemplate\":\"Entity=Switzerland\\u003cbr\\u003eGDPperCapita=%{x}\\u003cbr\\u003eLife expectancy=%{y}\\u003cextra\\u003e\\u003c\\u002fextra\\u003e\",\"legendgroup\":\"Switzerland\",\"marker\":{\"color\":\"#00cc96\",\"symbol\":\"circle\"},\"mode\":\"markers\",\"name\":\"Switzerland\",\"orientation\":\"v\",\"showlegend\":true,\"x\":[76758.26449703275],\"xaxis\":\"x\",\"y\":[83.473],\"yaxis\":\"y\",\"type\":\"scatter\"},{\"hovertemplate\":\"Entity=Tajikistan\\u003cbr\\u003eGDPperCapita=%{x}\\u003cbr\\u003eLife expectancy=%{y}\\u003cextra\\u003e\\u003c\\u002fextra\\u003e\",\"legendgroup\":\"Tajikistan\",\"marker\":{\"color\":\"#ab63fa\",\"symbol\":\"circle\"},\"mode\":\"markers\",\"name\":\"Tajikistan\",\"orientation\":\"v\",\"showlegend\":true,\"x\":[1020.1999665853256],\"xaxis\":\"x\",\"y\":[70.647],\"yaxis\":\"y\",\"type\":\"scatter\"},{\"hovertemplate\":\"Entity=Tanzania\\u003cbr\\u003eGDPperCapita=%{x}\\u003cbr\\u003eLife expectancy=%{y}\\u003cextra\\u003e\\u003c\\u002fextra\\u003e\",\"legendgroup\":\"Tanzania\",\"marker\":{\"color\":\"#FFA15A\",\"symbol\":\"circle\"},\"mode\":\"markers\",\"name\":\"Tanzania\",\"orientation\":\"v\",\"showlegend\":true,\"x\":[916.5431662911818],\"xaxis\":\"x\",\"y\":[64.479],\"yaxis\":\"y\",\"type\":\"scatter\"},{\"hovertemplate\":\"Entity=Thailand\\u003cbr\\u003eGDPperCapita=%{x}\\u003cbr\\u003eLife expectancy=%{y}\\u003cextra\\u003e\\u003c\\u002fextra\\u003e\",\"legendgroup\":\"Thailand\",\"marker\":{\"color\":\"#19d3f3\",\"symbol\":\"circle\"},\"mode\":\"markers\",\"name\":\"Thailand\",\"orientation\":\"v\",\"showlegend\":true,\"x\":[6110.393755646091],\"xaxis\":\"x\",\"y\":[76.683],\"yaxis\":\"y\",\"type\":\"scatter\"},{\"hovertemplate\":\"Entity=Timor\\u003cbr\\u003eGDPperCapita=%{x}\\u003cbr\\u003eLife expectancy=%{y}\\u003cextra\\u003e\\u003c\\u002fextra\\u003e\",\"legendgroup\":\"Timor\",\"marker\":{\"color\":\"#FF6692\",\"symbol\":\"circle\"},\"mode\":\"markers\",\"name\":\"Timor\",\"orientation\":\"v\",\"showlegend\":true,\"x\":[2786.7006105681335],\"xaxis\":\"x\",\"y\":[69.007],\"yaxis\":\"y\",\"type\":\"scatter\"},{\"hovertemplate\":\"Entity=Togo\\u003cbr\\u003eGDPperCapita=%{x}\\u003cbr\\u003eLife expectancy=%{y}\\u003cextra\\u003e\\u003c\\u002fextra\\u003e\",\"legendgroup\":\"Togo\",\"marker\":{\"color\":\"#B6E880\",\"symbol\":\"circle\"},\"mode\":\"markers\",\"name\":\"Togo\",\"orientation\":\"v\",\"showlegend\":true,\"x\":[584.8597238590712],\"xaxis\":\"x\",\"y\":[60.489],\"yaxis\":\"y\",\"type\":\"scatter\"},{\"hovertemplate\":\"Entity=Tonga\\u003cbr\\u003eGDPperCapita=%{x}\\u003cbr\\u003eLife expectancy=%{y}\\u003cextra\\u003e\\u003c\\u002fextra\\u003e\",\"legendgroup\":\"Tonga\",\"marker\":{\"color\":\"#FF97FF\",\"symbol\":\"circle\"},\"mode\":\"markers\",\"name\":\"Tonga\",\"orientation\":\"v\",\"showlegend\":true,\"x\":[4090.2561115260783],\"xaxis\":\"x\",\"y\":[70.701],\"yaxis\":\"y\",\"type\":\"scatter\"},{\"hovertemplate\":\"Entity=Trinidad and Tobago\\u003cbr\\u003eGDPperCapita=%{x}\\u003cbr\\u003eLife expectancy=%{y}\\u003cextra\\u003e\\u003c\\u002fextra\\u003e\",\"legendgroup\":\"Trinidad and Tobago\",\"marker\":{\"color\":\"#FECB52\",\"symbol\":\"circle\"},\"mode\":\"markers\",\"name\":\"Trinidad and Tobago\",\"orientation\":\"v\",\"showlegend\":true,\"x\":[15185.862214853612],\"xaxis\":\"x\",\"y\":[73.245],\"yaxis\":\"y\",\"type\":\"scatter\"},{\"hovertemplate\":\"Entity=Tunisia\\u003cbr\\u003eGDPperCapita=%{x}\\u003cbr\\u003eLife expectancy=%{y}\\u003cextra\\u003e\\u003c\\u002fextra\\u003e\",\"legendgroup\":\"Tunisia\",\"marker\":{\"color\":\"#636efa\",\"symbol\":\"circle\"},\"mode\":\"markers\",\"name\":\"Tunisia\",\"orientation\":\"v\",\"showlegend\":true,\"x\":[4341.280063602292],\"xaxis\":\"x\",\"y\":[76.31],\"yaxis\":\"y\",\"type\":\"scatter\"},{\"hovertemplate\":\"Entity=Turkey\\u003cbr\\u003eGDPperCapita=%{x}\\u003cbr\\u003eLife expectancy=%{y}\\u003cextra\\u003e\\u003c\\u002fextra\\u003e\",\"legendgroup\":\"Turkey\",\"marker\":{\"color\":\"#EF553B\",\"symbol\":\"circle\"},\"mode\":\"markers\",\"name\":\"Turkey\",\"orientation\":\"v\",\"showlegend\":true,\"x\":[14864.968662745698],\"xaxis\":\"x\",\"y\":[77.161],\"yaxis\":\"y\",\"type\":\"scatter\"},{\"hovertemplate\":\"Entity=Turkmenistan\\u003cbr\\u003eGDPperCapita=%{x}\\u003cbr\\u003eLife expectancy=%{y}\\u003cextra\\u003e\\u003c\\u002fextra\\u003e\",\"legendgroup\":\"Turkmenistan\",\"marker\":{\"color\":\"#00cc96\",\"symbol\":\"circle\"},\"mode\":\"markers\",\"name\":\"Turkmenistan\",\"orientation\":\"v\",\"showlegend\":true,\"x\":[7317.644819810507],\"xaxis\":\"x\",\"y\":[67.956],\"yaxis\":\"y\",\"type\":\"scatter\"},{\"hovertemplate\":\"Entity=Tuvalu\\u003cbr\\u003eGDPperCapita=%{x}\\u003cbr\\u003eLife expectancy=%{y}\\u003cextra\\u003e\\u003c\\u002fextra\\u003e\",\"legendgroup\":\"Tuvalu\",\"marker\":{\"color\":\"#ab63fa\",\"symbol\":\"circle\"},\"mode\":\"markers\",\"name\":\"Tuvalu\",\"orientation\":\"v\",\"showlegend\":true,\"x\":[3680.6712693304994],\"xaxis\":\"x\",\"y\":[67.089],\"yaxis\":\"y\",\"type\":\"scatter\"},{\"hovertemplate\":\"Entity=Uganda\\u003cbr\\u003eGDPperCapita=%{x}\\u003cbr\\u003eLife expectancy=%{y}\\u003cextra\\u003e\\u003c\\u002fextra\\u003e\",\"legendgroup\":\"Uganda\",\"marker\":{\"color\":\"#FFA15A\",\"symbol\":\"circle\"},\"mode\":\"markers\",\"name\":\"Uganda\",\"orientation\":\"v\",\"showlegend\":true,\"x\":[694.0680136942867],\"xaxis\":\"x\",\"y\":[62.516],\"yaxis\":\"y\",\"type\":\"scatter\"},{\"hovertemplate\":\"Entity=Ukraine\\u003cbr\\u003eGDPperCapita=%{x}\\u003cbr\\u003eLife expectancy=%{y}\\u003cextra\\u003e\\u003c\\u002fextra\\u003e\",\"legendgroup\":\"Ukraine\",\"marker\":{\"color\":\"#19d3f3\",\"symbol\":\"circle\"},\"mode\":\"markers\",\"name\":\"Ukraine\",\"orientation\":\"v\",\"showlegend\":true,\"x\":[2856.967863917371],\"xaxis\":\"x\",\"y\":[71.84],\"yaxis\":\"y\",\"type\":\"scatter\"},{\"hovertemplate\":\"Entity=United Arab Emirates\\u003cbr\\u003eGDPperCapita=%{x}\\u003cbr\\u003eLife expectancy=%{y}\\u003cextra\\u003e\\u003c\\u002fextra\\u003e\",\"legendgroup\":\"United Arab Emirates\",\"marker\":{\"color\":\"#FF6692\",\"symbol\":\"circle\"},\"mode\":\"markers\",\"name\":\"United Arab Emirates\",\"orientation\":\"v\",\"showlegend\":true,\"x\":[40820.002119628756],\"xaxis\":\"x\",\"y\":[77.647],\"yaxis\":\"y\",\"type\":\"scatter\"},{\"hovertemplate\":\"Entity=United Kingdom\\u003cbr\\u003eGDPperCapita=%{x}\\u003cbr\\u003eLife expectancy=%{y}\\u003cextra\\u003e\\u003c\\u002fextra\\u003e\",\"legendgroup\":\"United Kingdom\",\"marker\":{\"color\":\"#B6E880\",\"symbol\":\"circle\"},\"mode\":\"markers\",\"name\":\"United Kingdom\",\"orientation\":\"v\",\"showlegend\":true,\"x\":[42065.47719657815],\"xaxis\":\"x\",\"y\":[81.168],\"yaxis\":\"y\",\"type\":\"scatter\"},{\"hovertemplate\":\"Entity=United States\\u003cbr\\u003eGDPperCapita=%{x}\\u003cbr\\u003eLife expectancy=%{y}\\u003cextra\\u003e\\u003c\\u002fextra\\u003e\",\"legendgroup\":\"United States\",\"marker\":{\"color\":\"#FF97FF\",\"symbol\":\"circle\"},\"mode\":\"markers\",\"name\":\"United States\",\"orientation\":\"v\",\"showlegend\":true,\"x\":[53232.18452176347],\"xaxis\":\"x\",\"y\":[78.861],\"yaxis\":\"y\",\"type\":\"scatter\"},{\"hovertemplate\":\"Entity=Uruguay\\u003cbr\\u003eGDPperCapita=%{x}\\u003cbr\\u003eLife expectancy=%{y}\\u003cextra\\u003e\\u003c\\u002fextra\\u003e\",\"legendgroup\":\"Uruguay\",\"marker\":{\"color\":\"#FECB52\",\"symbol\":\"circle\"},\"mode\":\"markers\",\"name\":\"Uruguay\",\"orientation\":\"v\",\"showlegend\":true,\"x\":[14445.09266111056],\"xaxis\":\"x\",\"y\":[77.632],\"yaxis\":\"y\",\"type\":\"scatter\"},{\"hovertemplate\":\"Entity=Uzbekistan\\u003cbr\\u003eGDPperCapita=%{x}\\u003cbr\\u003eLife expectancy=%{y}\\u003cextra\\u003e\\u003c\\u002fextra\\u003e\",\"legendgroup\":\"Uzbekistan\",\"marker\":{\"color\":\"#636efa\",\"symbol\":\"circle\"},\"mode\":\"markers\",\"name\":\"Uzbekistan\",\"orientation\":\"v\",\"showlegend\":true,\"x\":[2058.1961771873657],\"xaxis\":\"x\",\"y\":[71.388],\"yaxis\":\"y\",\"type\":\"scatter\"},{\"hovertemplate\":\"Entity=Vanuatu\\u003cbr\\u003eGDPperCapita=%{x}\\u003cbr\\u003eLife expectancy=%{y}\\u003cextra\\u003e\\u003c\\u002fextra\\u003e\",\"legendgroup\":\"Vanuatu\",\"marker\":{\"color\":\"#EF553B\",\"symbol\":\"circle\"},\"mode\":\"markers\",\"name\":\"Vanuatu\",\"orientation\":\"v\",\"showlegend\":true,\"x\":[2849.2103791819964],\"xaxis\":\"x\",\"y\":[70.172],\"yaxis\":\"y\",\"type\":\"scatter\"},{\"hovertemplate\":\"Entity=Vietnam\\u003cbr\\u003eGDPperCapita=%{x}\\u003cbr\\u003eLife expectancy=%{y}\\u003cextra\\u003e\\u003c\\u002fextra\\u003e\",\"legendgroup\":\"Vietnam\",\"marker\":{\"color\":\"#00cc96\",\"symbol\":\"circle\"},\"mode\":\"markers\",\"name\":\"Vietnam\",\"orientation\":\"v\",\"showlegend\":true,\"x\":[1852.8776765697721],\"xaxis\":\"x\",\"y\":[75.241],\"yaxis\":\"y\",\"type\":\"scatter\"},{\"hovertemplate\":\"Entity=Zambia\\u003cbr\\u003eGDPperCapita=%{x}\\u003cbr\\u003eLife expectancy=%{y}\\u003cextra\\u003e\\u003c\\u002fextra\\u003e\",\"legendgroup\":\"Zambia\",\"marker\":{\"color\":\"#ab63fa\",\"symbol\":\"circle\"},\"mode\":\"markers\",\"name\":\"Zambia\",\"orientation\":\"v\",\"showlegend\":true,\"x\":[1669.5975269283852],\"xaxis\":\"x\",\"y\":[63.043],\"yaxis\":\"y\",\"type\":\"scatter\"},{\"hovertemplate\":\"Entity=Zimbabwe\\u003cbr\\u003eGDPperCapita=%{x}\\u003cbr\\u003eLife expectancy=%{y}\\u003cextra\\u003e\\u003c\\u002fextra\\u003e\",\"legendgroup\":\"Zimbabwe\",\"marker\":{\"color\":\"#FFA15A\",\"symbol\":\"circle\"},\"mode\":\"markers\",\"name\":\"Zimbabwe\",\"orientation\":\"v\",\"showlegend\":true,\"x\":[1076.7585014988622],\"xaxis\":\"x\",\"y\":[60.812],\"yaxis\":\"y\",\"type\":\"scatter\"}],                        {\"template\":{\"data\":{\"barpolar\":[{\"marker\":{\"line\":{\"color\":\"white\",\"width\":0.5},\"pattern\":{\"fillmode\":\"overlay\",\"size\":10,\"solidity\":0.2}},\"type\":\"barpolar\"}],\"bar\":[{\"error_x\":{\"color\":\"rgb(36,36,36)\"},\"error_y\":{\"color\":\"rgb(36,36,36)\"},\"marker\":{\"line\":{\"color\":\"white\",\"width\":0.5},\"pattern\":{\"fillmode\":\"overlay\",\"size\":10,\"solidity\":0.2}},\"type\":\"bar\"}],\"carpet\":[{\"aaxis\":{\"endlinecolor\":\"rgb(36,36,36)\",\"gridcolor\":\"white\",\"linecolor\":\"white\",\"minorgridcolor\":\"white\",\"startlinecolor\":\"rgb(36,36,36)\"},\"baxis\":{\"endlinecolor\":\"rgb(36,36,36)\",\"gridcolor\":\"white\",\"linecolor\":\"white\",\"minorgridcolor\":\"white\",\"startlinecolor\":\"rgb(36,36,36)\"},\"type\":\"carpet\"}],\"choropleth\":[{\"colorbar\":{\"outlinewidth\":1,\"tickcolor\":\"rgb(36,36,36)\",\"ticks\":\"outside\"},\"type\":\"choropleth\"}],\"contourcarpet\":[{\"colorbar\":{\"outlinewidth\":1,\"tickcolor\":\"rgb(36,36,36)\",\"ticks\":\"outside\"},\"type\":\"contourcarpet\"}],\"contour\":[{\"colorbar\":{\"outlinewidth\":1,\"tickcolor\":\"rgb(36,36,36)\",\"ticks\":\"outside\"},\"colorscale\":[[0.0,\"#440154\"],[0.1111111111111111,\"#482878\"],[0.2222222222222222,\"#3e4989\"],[0.3333333333333333,\"#31688e\"],[0.4444444444444444,\"#26828e\"],[0.5555555555555556,\"#1f9e89\"],[0.6666666666666666,\"#35b779\"],[0.7777777777777778,\"#6ece58\"],[0.8888888888888888,\"#b5de2b\"],[1.0,\"#fde725\"]],\"type\":\"contour\"}],\"heatmapgl\":[{\"colorbar\":{\"outlinewidth\":1,\"tickcolor\":\"rgb(36,36,36)\",\"ticks\":\"outside\"},\"colorscale\":[[0.0,\"#440154\"],[0.1111111111111111,\"#482878\"],[0.2222222222222222,\"#3e4989\"],[0.3333333333333333,\"#31688e\"],[0.4444444444444444,\"#26828e\"],[0.5555555555555556,\"#1f9e89\"],[0.6666666666666666,\"#35b779\"],[0.7777777777777778,\"#6ece58\"],[0.8888888888888888,\"#b5de2b\"],[1.0,\"#fde725\"]],\"type\":\"heatmapgl\"}],\"heatmap\":[{\"colorbar\":{\"outlinewidth\":1,\"tickcolor\":\"rgb(36,36,36)\",\"ticks\":\"outside\"},\"colorscale\":[[0.0,\"#440154\"],[0.1111111111111111,\"#482878\"],[0.2222222222222222,\"#3e4989\"],[0.3333333333333333,\"#31688e\"],[0.4444444444444444,\"#26828e\"],[0.5555555555555556,\"#1f9e89\"],[0.6666666666666666,\"#35b779\"],[0.7777777777777778,\"#6ece58\"],[0.8888888888888888,\"#b5de2b\"],[1.0,\"#fde725\"]],\"type\":\"heatmap\"}],\"histogram2dcontour\":[{\"colorbar\":{\"outlinewidth\":1,\"tickcolor\":\"rgb(36,36,36)\",\"ticks\":\"outside\"},\"colorscale\":[[0.0,\"#440154\"],[0.1111111111111111,\"#482878\"],[0.2222222222222222,\"#3e4989\"],[0.3333333333333333,\"#31688e\"],[0.4444444444444444,\"#26828e\"],[0.5555555555555556,\"#1f9e89\"],[0.6666666666666666,\"#35b779\"],[0.7777777777777778,\"#6ece58\"],[0.8888888888888888,\"#b5de2b\"],[1.0,\"#fde725\"]],\"type\":\"histogram2dcontour\"}],\"histogram2d\":[{\"colorbar\":{\"outlinewidth\":1,\"tickcolor\":\"rgb(36,36,36)\",\"ticks\":\"outside\"},\"colorscale\":[[0.0,\"#440154\"],[0.1111111111111111,\"#482878\"],[0.2222222222222222,\"#3e4989\"],[0.3333333333333333,\"#31688e\"],[0.4444444444444444,\"#26828e\"],[0.5555555555555556,\"#1f9e89\"],[0.6666666666666666,\"#35b779\"],[0.7777777777777778,\"#6ece58\"],[0.8888888888888888,\"#b5de2b\"],[1.0,\"#fde725\"]],\"type\":\"histogram2d\"}],\"histogram\":[{\"marker\":{\"line\":{\"color\":\"white\",\"width\":0.6}},\"type\":\"histogram\"}],\"mesh3d\":[{\"colorbar\":{\"outlinewidth\":1,\"tickcolor\":\"rgb(36,36,36)\",\"ticks\":\"outside\"},\"type\":\"mesh3d\"}],\"parcoords\":[{\"line\":{\"colorbar\":{\"outlinewidth\":1,\"tickcolor\":\"rgb(36,36,36)\",\"ticks\":\"outside\"}},\"type\":\"parcoords\"}],\"pie\":[{\"automargin\":true,\"type\":\"pie\"}],\"scatter3d\":[{\"line\":{\"colorbar\":{\"outlinewidth\":1,\"tickcolor\":\"rgb(36,36,36)\",\"ticks\":\"outside\"}},\"marker\":{\"colorbar\":{\"outlinewidth\":1,\"tickcolor\":\"rgb(36,36,36)\",\"ticks\":\"outside\"}},\"type\":\"scatter3d\"}],\"scattercarpet\":[{\"marker\":{\"colorbar\":{\"outlinewidth\":1,\"tickcolor\":\"rgb(36,36,36)\",\"ticks\":\"outside\"}},\"type\":\"scattercarpet\"}],\"scattergeo\":[{\"marker\":{\"colorbar\":{\"outlinewidth\":1,\"tickcolor\":\"rgb(36,36,36)\",\"ticks\":\"outside\"}},\"type\":\"scattergeo\"}],\"scattergl\":[{\"marker\":{\"colorbar\":{\"outlinewidth\":1,\"tickcolor\":\"rgb(36,36,36)\",\"ticks\":\"outside\"}},\"type\":\"scattergl\"}],\"scattermapbox\":[{\"marker\":{\"colorbar\":{\"outlinewidth\":1,\"tickcolor\":\"rgb(36,36,36)\",\"ticks\":\"outside\"}},\"type\":\"scattermapbox\"}],\"scatterpolargl\":[{\"marker\":{\"colorbar\":{\"outlinewidth\":1,\"tickcolor\":\"rgb(36,36,36)\",\"ticks\":\"outside\"}},\"type\":\"scatterpolargl\"}],\"scatterpolar\":[{\"marker\":{\"colorbar\":{\"outlinewidth\":1,\"tickcolor\":\"rgb(36,36,36)\",\"ticks\":\"outside\"}},\"type\":\"scatterpolar\"}],\"scatter\":[{\"fillpattern\":{\"fillmode\":\"overlay\",\"size\":10,\"solidity\":0.2},\"type\":\"scatter\"}],\"scatterternary\":[{\"marker\":{\"colorbar\":{\"outlinewidth\":1,\"tickcolor\":\"rgb(36,36,36)\",\"ticks\":\"outside\"}},\"type\":\"scatterternary\"}],\"surface\":[{\"colorbar\":{\"outlinewidth\":1,\"tickcolor\":\"rgb(36,36,36)\",\"ticks\":\"outside\"},\"colorscale\":[[0.0,\"#440154\"],[0.1111111111111111,\"#482878\"],[0.2222222222222222,\"#3e4989\"],[0.3333333333333333,\"#31688e\"],[0.4444444444444444,\"#26828e\"],[0.5555555555555556,\"#1f9e89\"],[0.6666666666666666,\"#35b779\"],[0.7777777777777778,\"#6ece58\"],[0.8888888888888888,\"#b5de2b\"],[1.0,\"#fde725\"]],\"type\":\"surface\"}],\"table\":[{\"cells\":{\"fill\":{\"color\":\"rgb(237,237,237)\"},\"line\":{\"color\":\"white\"}},\"header\":{\"fill\":{\"color\":\"rgb(217,217,217)\"},\"line\":{\"color\":\"white\"}},\"type\":\"table\"}]},\"layout\":{\"annotationdefaults\":{\"arrowhead\":0,\"arrowwidth\":1},\"autotypenumbers\":\"strict\",\"coloraxis\":{\"colorbar\":{\"outlinewidth\":1,\"tickcolor\":\"rgb(36,36,36)\",\"ticks\":\"outside\"}},\"colorscale\":{\"diverging\":[[0.0,\"rgb(103,0,31)\"],[0.1,\"rgb(178,24,43)\"],[0.2,\"rgb(214,96,77)\"],[0.3,\"rgb(244,165,130)\"],[0.4,\"rgb(253,219,199)\"],[0.5,\"rgb(247,247,247)\"],[0.6,\"rgb(209,229,240)\"],[0.7,\"rgb(146,197,222)\"],[0.8,\"rgb(67,147,195)\"],[0.9,\"rgb(33,102,172)\"],[1.0,\"rgb(5,48,97)\"]],\"sequential\":[[0.0,\"#440154\"],[0.1111111111111111,\"#482878\"],[0.2222222222222222,\"#3e4989\"],[0.3333333333333333,\"#31688e\"],[0.4444444444444444,\"#26828e\"],[0.5555555555555556,\"#1f9e89\"],[0.6666666666666666,\"#35b779\"],[0.7777777777777778,\"#6ece58\"],[0.8888888888888888,\"#b5de2b\"],[1.0,\"#fde725\"]],\"sequentialminus\":[[0.0,\"#440154\"],[0.1111111111111111,\"#482878\"],[0.2222222222222222,\"#3e4989\"],[0.3333333333333333,\"#31688e\"],[0.4444444444444444,\"#26828e\"],[0.5555555555555556,\"#1f9e89\"],[0.6666666666666666,\"#35b779\"],[0.7777777777777778,\"#6ece58\"],[0.8888888888888888,\"#b5de2b\"],[1.0,\"#fde725\"]]},\"colorway\":[\"#1F77B4\",\"#FF7F0E\",\"#2CA02C\",\"#D62728\",\"#9467BD\",\"#8C564B\",\"#E377C2\",\"#7F7F7F\",\"#BCBD22\",\"#17BECF\"],\"font\":{\"color\":\"rgb(36,36,36)\"},\"geo\":{\"bgcolor\":\"white\",\"lakecolor\":\"white\",\"landcolor\":\"white\",\"showlakes\":true,\"showland\":true,\"subunitcolor\":\"white\"},\"hoverlabel\":{\"align\":\"left\"},\"hovermode\":\"closest\",\"mapbox\":{\"style\":\"light\"},\"paper_bgcolor\":\"white\",\"plot_bgcolor\":\"white\",\"polar\":{\"angularaxis\":{\"gridcolor\":\"rgb(232,232,232)\",\"linecolor\":\"rgb(36,36,36)\",\"showgrid\":false,\"showline\":true,\"ticks\":\"outside\"},\"bgcolor\":\"white\",\"radialaxis\":{\"gridcolor\":\"rgb(232,232,232)\",\"linecolor\":\"rgb(36,36,36)\",\"showgrid\":false,\"showline\":true,\"ticks\":\"outside\"}},\"scene\":{\"xaxis\":{\"backgroundcolor\":\"white\",\"gridcolor\":\"rgb(232,232,232)\",\"gridwidth\":2,\"linecolor\":\"rgb(36,36,36)\",\"showbackground\":true,\"showgrid\":false,\"showline\":true,\"ticks\":\"outside\",\"zeroline\":false,\"zerolinecolor\":\"rgb(36,36,36)\"},\"yaxis\":{\"backgroundcolor\":\"white\",\"gridcolor\":\"rgb(232,232,232)\",\"gridwidth\":2,\"linecolor\":\"rgb(36,36,36)\",\"showbackground\":true,\"showgrid\":false,\"showline\":true,\"ticks\":\"outside\",\"zeroline\":false,\"zerolinecolor\":\"rgb(36,36,36)\"},\"zaxis\":{\"backgroundcolor\":\"white\",\"gridcolor\":\"rgb(232,232,232)\",\"gridwidth\":2,\"linecolor\":\"rgb(36,36,36)\",\"showbackground\":true,\"showgrid\":false,\"showline\":true,\"ticks\":\"outside\",\"zeroline\":false,\"zerolinecolor\":\"rgb(36,36,36)\"}},\"shapedefaults\":{\"fillcolor\":\"black\",\"line\":{\"width\":0},\"opacity\":0.3},\"ternary\":{\"aaxis\":{\"gridcolor\":\"rgb(232,232,232)\",\"linecolor\":\"rgb(36,36,36)\",\"showgrid\":false,\"showline\":true,\"ticks\":\"outside\"},\"baxis\":{\"gridcolor\":\"rgb(232,232,232)\",\"linecolor\":\"rgb(36,36,36)\",\"showgrid\":false,\"showline\":true,\"ticks\":\"outside\"},\"bgcolor\":\"white\",\"caxis\":{\"gridcolor\":\"rgb(232,232,232)\",\"linecolor\":\"rgb(36,36,36)\",\"showgrid\":false,\"showline\":true,\"ticks\":\"outside\"}},\"title\":{\"x\":0.05},\"xaxis\":{\"automargin\":true,\"gridcolor\":\"rgb(232,232,232)\",\"linecolor\":\"rgb(36,36,36)\",\"showgrid\":false,\"showline\":true,\"ticks\":\"outside\",\"title\":{\"standoff\":15},\"zeroline\":false,\"zerolinecolor\":\"rgb(36,36,36)\"},\"yaxis\":{\"automargin\":true,\"gridcolor\":\"rgb(232,232,232)\",\"linecolor\":\"rgb(36,36,36)\",\"showgrid\":false,\"showline\":true,\"ticks\":\"outside\",\"title\":{\"standoff\":15},\"zeroline\":false,\"zerolinecolor\":\"rgb(36,36,36)\"}}},\"xaxis\":{\"anchor\":\"y\",\"domain\":[0.0,1.0],\"title\":{\"text\":\"GDPperCapita\"}},\"yaxis\":{\"anchor\":\"x\",\"domain\":[0.0,1.0],\"title\":{\"text\":\"LifeExp\"}},\"legend\":{\"title\":{\"text\":\"Entity\"},\"tracegroupgap\":0},\"margin\":{\"t\":60},\"title\":{\"text\":\"Life Expectancy by GDPperCapita\"},\"width\":800,\"height\":600,\"shapes\":[{\"line\":{\"color\":\"green\",\"dash\":\"dash\",\"width\":2},\"opacity\":1,\"type\":\"line\",\"x0\":3550.577906522096,\"x1\":3550.577906522096,\"xref\":\"x\",\"y0\":0,\"y1\":1,\"yref\":\"y domain\"},{\"line\":{\"color\":\"green\",\"dash\":\"dash\",\"width\":2},\"opacity\":1,\"type\":\"line\",\"x0\":0,\"x1\":1,\"xref\":\"x domain\",\"y0\":68.176,\"y1\":68.176,\"yref\":\"y\"},{\"line\":{\"color\":\"red\",\"dash\":\"dash\",\"width\":2},\"opacity\":1,\"type\":\"line\",\"x0\":10924.324230529928,\"x1\":10924.324230529928,\"xref\":\"x\",\"y0\":0,\"y1\":1,\"yref\":\"y domain\"},{\"line\":{\"color\":\"red\",\"dash\":\"dash\",\"width\":2},\"opacity\":1,\"type\":\"line\",\"x0\":0,\"x1\":1,\"xref\":\"x domain\",\"y0\":65.1076625240084,\"y1\":65.1076625240084,\"yref\":\"y\"}],\"annotations\":[{\"showarrow\":false,\"text\":\"GDPpercapita median\",\"x\":3550.577906522096,\"xanchor\":\"left\",\"xref\":\"x\",\"y\":1,\"yanchor\":\"top\",\"yref\":\"y domain\"},{\"showarrow\":false,\"text\":\"Life exp median\",\"x\":1,\"xanchor\":\"right\",\"xref\":\"x domain\",\"y\":68.176,\"yanchor\":\"bottom\",\"yref\":\"y\"},{\"showarrow\":false,\"text\":\"GDPpercapita mean\",\"x\":10924.324230529928,\"xanchor\":\"left\",\"xref\":\"x\",\"y\":1,\"yanchor\":\"top\",\"yref\":\"y domain\"},{\"showarrow\":false,\"text\":\"Life exp mean\",\"x\":1,\"xanchor\":\"right\",\"xref\":\"x domain\",\"y\":65.1076625240084,\"yanchor\":\"bottom\",\"yref\":\"y\"}]},                        {\"responsive\": true}                    ).then(function(){\n",
       "                            \n",
       "var gd = document.getElementById('8905a3ba-de92-4d8b-bd5c-14dae408d21d');\n",
       "var x = new MutationObserver(function (mutations, observer) {{\n",
       "        var display = window.getComputedStyle(gd).display;\n",
       "        if (!display || display === 'none') {{\n",
       "            console.log([gd, 'removed!']);\n",
       "            Plotly.purge(gd);\n",
       "            observer.disconnect();\n",
       "        }}\n",
       "}});\n",
       "\n",
       "// Listen for the removal of the full notebook cells\n",
       "var notebookContainer = gd.closest('#notebook-container');\n",
       "if (notebookContainer) {{\n",
       "    x.observe(notebookContainer, {childList: true});\n",
       "}}\n",
       "\n",
       "// Listen for the clearing of the current output cell\n",
       "var outputEl = gd.closest('.output');\n",
       "if (outputEl) {{\n",
       "    x.observe(outputEl, {childList: true});\n",
       "}}\n",
       "\n",
       "                        })                };                });            </script>        </div>"
      ]
     },
     "metadata": {},
     "output_type": "display_data"
    }
   ],
   "source": [
    "\n",
    "\n",
    "fig = px.scatter(gdp_and_pop_lifeexp.query('Year==2017'), x = 'GDPperCapita', y = 'Life expectancy' , color = 'Entity')\n",
    "\n",
    "fig.update_layout(    \n",
    "    title = 'Life Expectancy by GDPperCapita', \n",
    "    xaxis_title = 'GDPperCapita', yaxis_title = 'LifeExp',\n",
    "    width = 800,height = 600,\n",
    "    template=\"simple_white\")\n",
    "\n",
    "fig.add_vline(x=gdp_and_pop_lifeexp['GDPperCapita'].median(), opacity = 1, line_width=2, line_color=\"green\", \n",
    "              annotation_text=\"GDPpercapita median\" , line_dash='dash')\n",
    "\n",
    "fig.add_hline(y=gdp_and_pop_lifeexp['Life expectancy'].median(), opacity = 1, line_width=2, line_color=\"green\",\n",
    "              annotation_text=\"Life exp median\" , line_dash='dash')\n",
    "\n",
    "fig.add_vline(x=gdp_and_pop_lifeexp['GDPperCapita'].mean(), opacity = 1, line_width=2, line_color=\"red\", \n",
    "              annotation_text=\"GDPpercapita mean\" , line_dash='dash')\n",
    "\n",
    "fig.add_hline(y=gdp_and_pop_lifeexp['Life expectancy'].mean(), opacity = 1, line_width=2, line_color=\"red\",\n",
    "              annotation_text=\"Life exp mean\" , line_dash='dash')\n",
    "\n",
    "\n",
    "fig.show()\n",
    "\n"
   ]
  },
  {
   "cell_type": "code",
   "execution_count": 113,
   "metadata": {},
   "outputs": [
    {
     "data": {
      "application/vnd.plotly.v1+json": {
       "config": {
        "plotlyServerURL": "https://plot.ly"
       },
       "data": [
        {
         "hovertemplate": "Entity=Afghanistan<br>GDPperCapita=%{x}<br>Life expectancy=%{y}<extra></extra>",
         "legendgroup": "Afghanistan",
         "marker": {
          "color": "#636efa",
          "symbol": "circle"
         },
         "mode": "markers",
         "name": "Afghanistan",
         "orientation": "v",
         "showlegend": true,
         "type": "scatter",
         "x": [
          605.2847176666327
         ],
         "xaxis": "x",
         "y": [
          64.13
         ],
         "yaxis": "y"
        },
        {
         "hovertemplate": "Entity=Albania<br>GDPperCapita=%{x}<br>Life expectancy=%{y}<extra></extra>",
         "legendgroup": "Albania",
         "marker": {
          "color": "#EF553B",
          "symbol": "circle"
         },
         "mode": "markers",
         "name": "Albania",
         "orientation": "v",
         "showlegend": true,
         "type": "scatter",
         "x": [
          4850.400742998023
         ],
         "xaxis": "x",
         "y": [
          78.333
         ],
         "yaxis": "y"
        },
        {
         "hovertemplate": "Entity=Algeria<br>GDPperCapita=%{x}<br>Life expectancy=%{y}<extra></extra>",
         "legendgroup": "Algeria",
         "marker": {
          "color": "#00cc96",
          "symbol": "circle"
         },
         "mode": "markers",
         "name": "Algeria",
         "orientation": "v",
         "showlegend": true,
         "type": "scatter",
         "x": [
          4816.917875943996
         ],
         "xaxis": "x",
         "y": [
          76.499
         ],
         "yaxis": "y"
        },
        {
         "hovertemplate": "Entity=Andorra<br>GDPperCapita=%{x}<br>Life expectancy=%{y}<extra></extra>",
         "legendgroup": "Andorra",
         "marker": {
          "color": "#ab63fa",
          "symbol": "circle"
         },
         "mode": "markers",
         "name": "Andorra",
         "orientation": "v",
         "showlegend": true,
         "type": "scatter",
         "x": [
          43922.96412369883
         ],
         "xaxis": "x",
         "y": [
          83.443
         ],
         "yaxis": "y"
        },
        {
         "hovertemplate": "Entity=Angola<br>GDPperCapita=%{x}<br>Life expectancy=%{y}<extra></extra>",
         "legendgroup": "Angola",
         "marker": {
          "color": "#FFA15A",
          "symbol": "circle"
         },
         "mode": "markers",
         "name": "Angola",
         "orientation": "v",
         "showlegend": true,
         "type": "scatter",
         "x": [
          3480.765485461146
         ],
         "xaxis": "x",
         "y": [
          60.379
         ],
         "yaxis": "y"
        },
        {
         "hovertemplate": "Entity=Antigua and Barbuda<br>GDPperCapita=%{x}<br>Life expectancy=%{y}<extra></extra>",
         "legendgroup": "Antigua and Barbuda",
         "marker": {
          "color": "#19d3f3",
          "symbol": "circle"
         },
         "mode": "markers",
         "name": "Antigua and Barbuda",
         "orientation": "v",
         "showlegend": true,
         "type": "scatter",
         "x": [
          14623.537998553686
         ],
         "xaxis": "x",
         "y": [
          76.752
         ],
         "yaxis": "y"
        },
        {
         "hovertemplate": "Entity=Argentina<br>GDPperCapita=%{x}<br>Life expectancy=%{y}<extra></extra>",
         "legendgroup": "Argentina",
         "marker": {
          "color": "#FF6692",
          "symbol": "circle"
         },
         "mode": "markers",
         "name": "Argentina",
         "orientation": "v",
         "showlegend": true,
         "type": "scatter",
         "x": [
          10477.146319354326
         ],
         "xaxis": "x",
         "y": [
          76.372
         ],
         "yaxis": "y"
        },
        {
         "hovertemplate": "Entity=Armenia<br>GDPperCapita=%{x}<br>Life expectancy=%{y}<extra></extra>",
         "legendgroup": "Armenia",
         "marker": {
          "color": "#B6E880",
          "symbol": "circle"
         },
         "mode": "markers",
         "name": "Armenia",
         "orientation": "v",
         "showlegend": true,
         "type": "scatter",
         "x": [
          4198.5224330963665
         ],
         "xaxis": "x",
         "y": [
          74.797
         ],
         "yaxis": "y"
        },
        {
         "hovertemplate": "Entity=Australia<br>GDPperCapita=%{x}<br>Life expectancy=%{y}<extra></extra>",
         "legendgroup": "Australia",
         "marker": {
          "color": "#FF97FF",
          "symbol": "circle"
         },
         "mode": "markers",
         "name": "Australia",
         "orientation": "v",
         "showlegend": true,
         "type": "scatter",
         "x": [
          55957.626590364045
         ],
         "xaxis": "x",
         "y": [
          83.122
         ],
         "yaxis": "y"
        },
        {
         "hovertemplate": "Entity=Austria<br>GDPperCapita=%{x}<br>Life expectancy=%{y}<extra></extra>",
         "legendgroup": "Austria",
         "marker": {
          "color": "#FECB52",
          "symbol": "circle"
         },
         "mode": "markers",
         "name": "Austria",
         "orientation": "v",
         "showlegend": true,
         "type": "scatter",
         "x": [
          49069.142261829365
         ],
         "xaxis": "x",
         "y": [
          81.34
         ],
         "yaxis": "y"
        },
        {
         "hovertemplate": "Entity=Azerbaijan<br>GDPperCapita=%{x}<br>Life expectancy=%{y}<extra></extra>",
         "legendgroup": "Azerbaijan",
         "marker": {
          "color": "#636efa",
          "symbol": "circle"
         },
         "mode": "markers",
         "name": "Azerbaijan",
         "orientation": "v",
         "showlegend": true,
         "type": "scatter",
         "x": [
          5815.411598467506
         ],
         "xaxis": "x",
         "y": [
          72.693
         ],
         "yaxis": "y"
        },
        {
         "hovertemplate": "Entity=Bahamas<br>GDPperCapita=%{x}<br>Life expectancy=%{y}<extra></extra>",
         "legendgroup": "Bahamas",
         "marker": {
          "color": "#EF553B",
          "symbol": "circle"
         },
         "mode": "markers",
         "name": "Bahamas",
         "orientation": "v",
         "showlegend": true,
         "type": "scatter",
         "x": [
          27467.183467529583
         ],
         "xaxis": "x",
         "y": [
          73.554
         ],
         "yaxis": "y"
        },
        {
         "hovertemplate": "Entity=Bahrain<br>GDPperCapita=%{x}<br>Life expectancy=%{y}<extra></extra>",
         "legendgroup": "Bahrain",
         "marker": {
          "color": "#00cc96",
          "symbol": "circle"
         },
         "mode": "markers",
         "name": "Bahrain",
         "orientation": "v",
         "showlegend": true,
         "type": "scatter",
         "x": [
          22090.520174494846
         ],
         "xaxis": "x",
         "y": [
          77.032
         ],
         "yaxis": "y"
        },
        {
         "hovertemplate": "Entity=Bangladesh<br>GDPperCapita=%{x}<br>Life expectancy=%{y}<extra></extra>",
         "legendgroup": "Bangladesh",
         "marker": {
          "color": "#ab63fa",
          "symbol": "circle"
         },
         "mode": "markers",
         "name": "Bangladesh",
         "orientation": "v",
         "showlegend": true,
         "type": "scatter",
         "x": [
          1127.1701207960982
         ],
         "xaxis": "x",
         "y": [
          72.052
         ],
         "yaxis": "y"
        },
        {
         "hovertemplate": "Entity=Barbados<br>GDPperCapita=%{x}<br>Life expectancy=%{y}<extra></extra>",
         "legendgroup": "Barbados",
         "marker": {
          "color": "#FFA15A",
          "symbol": "circle"
         },
         "mode": "markers",
         "name": "Barbados",
         "orientation": "v",
         "showlegend": true,
         "type": "scatter",
         "x": [
          16487.26340206451
         ],
         "xaxis": "x",
         "y": [
          78.981
         ],
         "yaxis": "y"
        },
        {
         "hovertemplate": "Entity=Belarus<br>GDPperCapita=%{x}<br>Life expectancy=%{y}<extra></extra>",
         "legendgroup": "Belarus",
         "marker": {
          "color": "#19d3f3",
          "symbol": "circle"
         },
         "mode": "markers",
         "name": "Belarus",
         "orientation": "v",
         "showlegend": true,
         "type": "scatter",
         "x": [
          6414.86495398254
         ],
         "xaxis": "x",
         "y": [
          74.34
         ],
         "yaxis": "y"
        },
        {
         "hovertemplate": "Entity=Belgium<br>GDPperCapita=%{x}<br>Life expectancy=%{y}<extra></extra>",
         "legendgroup": "Belgium",
         "marker": {
          "color": "#FF6692",
          "symbol": "circle"
         },
         "mode": "markers",
         "name": "Belgium",
         "orientation": "v",
         "showlegend": true,
         "type": "scatter",
         "x": [
          45885.52670298003
         ],
         "xaxis": "x",
         "y": [
          81.305
         ],
         "yaxis": "y"
        },
        {
         "hovertemplate": "Entity=Belize<br>GDPperCapita=%{x}<br>Life expectancy=%{y}<extra></extra>",
         "legendgroup": "Belize",
         "marker": {
          "color": "#B6E880",
          "symbol": "circle"
         },
         "mode": "markers",
         "name": "Belize",
         "orientation": "v",
         "showlegend": true,
         "type": "scatter",
         "x": [
          4300.087271401622
         ],
         "xaxis": "x",
         "y": [
          74.365
         ],
         "yaxis": "y"
        },
        {
         "hovertemplate": "Entity=Benin<br>GDPperCapita=%{x}<br>Life expectancy=%{y}<extra></extra>",
         "legendgroup": "Benin",
         "marker": {
          "color": "#FF97FF",
          "symbol": "circle"
         },
         "mode": "markers",
         "name": "Benin",
         "orientation": "v",
         "showlegend": true,
         "type": "scatter",
         "x": [
          860.0059374439847
         ],
         "xaxis": "x",
         "y": [
          61.174
         ],
         "yaxis": "y"
        },
        {
         "hovertemplate": "Entity=Bhutan<br>GDPperCapita=%{x}<br>Life expectancy=%{y}<extra></extra>",
         "legendgroup": "Bhutan",
         "marker": {
          "color": "#FECB52",
          "symbol": "circle"
         },
         "mode": "markers",
         "name": "Bhutan",
         "orientation": "v",
         "showlegend": true,
         "type": "scatter",
         "x": [
          3199.9230745861664
         ],
         "xaxis": "x",
         "y": [
          71.129
         ],
         "yaxis": "y"
        },
        {
         "hovertemplate": "Entity=Bolivia<br>GDPperCapita=%{x}<br>Life expectancy=%{y}<extra></extra>",
         "legendgroup": "Bolivia",
         "marker": {
          "color": "#636efa",
          "symbol": "circle"
         },
         "mode": "markers",
         "name": "Bolivia",
         "orientation": "v",
         "showlegend": true,
         "type": "scatter",
         "x": [
          2490.9237281358346
         ],
         "xaxis": "x",
         "y": [
          70.945
         ],
         "yaxis": "y"
        },
        {
         "hovertemplate": "Entity=Bosnia and Herzegovina<br>GDPperCapita=%{x}<br>Life expectancy=%{y}<extra></extra>",
         "legendgroup": "Bosnia and Herzegovina",
         "marker": {
          "color": "#EF553B",
          "symbol": "circle"
         },
         "mode": "markers",
         "name": "Bosnia and Herzegovina",
         "orientation": "v",
         "showlegend": true,
         "type": "scatter",
         "x": [
          5818.475950940721
         ],
         "xaxis": "x",
         "y": [
          77.128
         ],
         "yaxis": "y"
        },
        {
         "hovertemplate": "Entity=Botswana<br>GDPperCapita=%{x}<br>Life expectancy=%{y}<extra></extra>",
         "legendgroup": "Botswana",
         "marker": {
          "color": "#00cc96",
          "symbol": "circle"
         },
         "mode": "markers",
         "name": "Botswana",
         "orientation": "v",
         "showlegend": true,
         "type": "scatter",
         "x": [
          7818.89407485687
         ],
         "xaxis": "x",
         "y": [
          68.812
         ],
         "yaxis": "y"
        },
        {
         "hovertemplate": "Entity=Brazil<br>GDPperCapita=%{x}<br>Life expectancy=%{y}<extra></extra>",
         "legendgroup": "Brazil",
         "marker": {
          "color": "#ab63fa",
          "symbol": "circle"
         },
         "mode": "markers",
         "name": "Brazil",
         "orientation": "v",
         "showlegend": true,
         "type": "scatter",
         "x": [
          10965.175921972874
         ],
         "xaxis": "x",
         "y": [
          75.456
         ],
         "yaxis": "y"
        },
        {
         "hovertemplate": "Entity=Brunei<br>GDPperCapita=%{x}<br>Life expectancy=%{y}<extra></extra>",
         "legendgroup": "Brunei",
         "marker": {
          "color": "#FFA15A",
          "symbol": "circle"
         },
         "mode": "markers",
         "name": "Brunei",
         "orientation": "v",
         "showlegend": true,
         "type": "scatter",
         "x": [
          31788.20985671769
         ],
         "xaxis": "x",
         "y": [
          75.585
         ],
         "yaxis": "y"
        },
        {
         "hovertemplate": "Entity=Bulgaria<br>GDPperCapita=%{x}<br>Life expectancy=%{y}<extra></extra>",
         "legendgroup": "Bulgaria",
         "marker": {
          "color": "#19d3f3",
          "symbol": "circle"
         },
         "mode": "markers",
         "name": "Bulgaria",
         "orientation": "v",
         "showlegend": true,
         "type": "scatter",
         "x": [
          8281.490880510139
         ],
         "xaxis": "x",
         "y": [
          74.815
         ],
         "yaxis": "y"
        },
        {
         "hovertemplate": "Entity=Burkina Faso<br>GDPperCapita=%{x}<br>Life expectancy=%{y}<extra></extra>",
         "legendgroup": "Burkina Faso",
         "marker": {
          "color": "#FF6692",
          "symbol": "circle"
         },
         "mode": "markers",
         "name": "Burkina Faso",
         "orientation": "v",
         "showlegend": true,
         "type": "scatter",
         "x": [
          688.5475953218569
         ],
         "xaxis": "x",
         "y": [
          60.768
         ],
         "yaxis": "y"
        },
        {
         "hovertemplate": "Entity=Burundi<br>GDPperCapita=%{x}<br>Life expectancy=%{y}<extra></extra>",
         "legendgroup": "Burundi",
         "marker": {
          "color": "#B6E880",
          "symbol": "circle"
         },
         "mode": "markers",
         "name": "Burundi",
         "orientation": "v",
         "showlegend": true,
         "type": "scatter",
         "x": [
          213.27858761188048
         ],
         "xaxis": "x",
         "y": [
          60.898
         ],
         "yaxis": "y"
        },
        {
         "hovertemplate": "Entity=Cambodia<br>GDPperCapita=%{x}<br>Life expectancy=%{y}<extra></extra>",
         "legendgroup": "Cambodia",
         "marker": {
          "color": "#FF97FF",
          "symbol": "circle"
         },
         "mode": "markers",
         "name": "Cambodia",
         "orientation": "v",
         "showlegend": true,
         "type": "scatter",
         "x": [
          1134.8947222330314
         ],
         "xaxis": "x",
         "y": [
          69.289
         ],
         "yaxis": "y"
        },
        {
         "hovertemplate": "Entity=Cameroon<br>GDPperCapita=%{x}<br>Life expectancy=%{y}<extra></extra>",
         "legendgroup": "Cameroon",
         "marker": {
          "color": "#FECB52",
          "symbol": "circle"
         },
         "mode": "markers",
         "name": "Cameroon",
         "orientation": "v",
         "showlegend": true,
         "type": "scatter",
         "x": [
          1472.181498185256
         ],
         "xaxis": "x",
         "y": [
          58.511
         ],
         "yaxis": "y"
        },
        {
         "hovertemplate": "Entity=Canada<br>GDPperCapita=%{x}<br>Life expectancy=%{y}<extra></extra>",
         "legendgroup": "Canada",
         "marker": {
          "color": "#636efa",
          "symbol": "circle"
         },
         "mode": "markers",
         "name": "Canada",
         "orientation": "v",
         "showlegend": true,
         "type": "scatter",
         "x": [
          51282.4760892625
         ],
         "xaxis": "x",
         "y": [
          82.21
         ],
         "yaxis": "y"
        },
        {
         "hovertemplate": "Entity=Cape Verde<br>GDPperCapita=%{x}<br>Life expectancy=%{y}<extra></extra>",
         "legendgroup": "Cape Verde",
         "marker": {
          "color": "#EF553B",
          "symbol": "circle"
         },
         "mode": "markers",
         "name": "Cape Verde",
         "orientation": "v",
         "showlegend": true,
         "type": "scatter",
         "x": [
          3598.791044790726
         ],
         "xaxis": "x",
         "y": [
          72.57
         ],
         "yaxis": "y"
        },
        {
         "hovertemplate": "Entity=Central African Republic<br>GDPperCapita=%{x}<br>Life expectancy=%{y}<extra></extra>",
         "legendgroup": "Central African Republic",
         "marker": {
          "color": "#00cc96",
          "symbol": "circle"
         },
         "mode": "markers",
         "name": "Central African Republic",
         "orientation": "v",
         "showlegend": true,
         "type": "scatter",
         "x": [
          339.62431132785247
         ],
         "xaxis": "x",
         "y": [
          52.24
         ],
         "yaxis": "y"
        },
        {
         "hovertemplate": "Entity=Chad<br>GDPperCapita=%{x}<br>Life expectancy=%{y}<extra></extra>",
         "legendgroup": "Chad",
         "marker": {
          "color": "#ab63fa",
          "symbol": "circle"
         },
         "mode": "markers",
         "name": "Chad",
         "orientation": "v",
         "showlegend": true,
         "type": "scatter",
         "x": [
          817.0190414555237
         ],
         "xaxis": "x",
         "y": [
          53.712
         ],
         "yaxis": "y"
        },
        {
         "hovertemplate": "Entity=Chile<br>GDPperCapita=%{x}<br>Life expectancy=%{y}<extra></extra>",
         "legendgroup": "Chile",
         "marker": {
          "color": "#FFA15A",
          "symbol": "circle"
         },
         "mode": "markers",
         "name": "Chile",
         "orientation": "v",
         "showlegend": true,
         "type": "scatter",
         "x": [
          14720.936133199892
         ],
         "xaxis": "x",
         "y": [
          79.909
         ],
         "yaxis": "y"
        },
        {
         "hovertemplate": "Entity=China<br>GDPperCapita=%{x}<br>Life expectancy=%{y}<extra></extra>",
         "legendgroup": "China",
         "marker": {
          "color": "#19d3f3",
          "symbol": "circle"
         },
         "mode": "markers",
         "name": "China",
         "orientation": "v",
         "showlegend": true,
         "type": "scatter",
         "x": [
          7150.496686254078
         ],
         "xaxis": "x",
         "y": [
          76.47
         ],
         "yaxis": "y"
        },
        {
         "hovertemplate": "Entity=Colombia<br>GDPperCapita=%{x}<br>Life expectancy=%{y}<extra></extra>",
         "legendgroup": "Colombia",
         "marker": {
          "color": "#FF6692",
          "symbol": "circle"
         },
         "mode": "markers",
         "name": "Colombia",
         "orientation": "v",
         "showlegend": true,
         "type": "scatter",
         "x": [
          7624.942176500532
         ],
         "xaxis": "x",
         "y": [
          76.925
         ],
         "yaxis": "y"
        },
        {
         "hovertemplate": "Entity=Comoros<br>GDPperCapita=%{x}<br>Life expectancy=%{y}<extra></extra>",
         "legendgroup": "Comoros",
         "marker": {
          "color": "#B6E880",
          "symbol": "circle"
         },
         "mode": "markers",
         "name": "Comoros",
         "orientation": "v",
         "showlegend": true,
         "type": "scatter",
         "x": [
          769.8465299051155
         ],
         "xaxis": "x",
         "y": [
          63.912
         ],
         "yaxis": "y"
        },
        {
         "hovertemplate": "Entity=Congo<br>GDPperCapita=%{x}<br>Life expectancy=%{y}<extra></extra>",
         "legendgroup": "Congo",
         "marker": {
          "color": "#FF97FF",
          "symbol": "circle"
         },
         "mode": "markers",
         "name": "Congo",
         "orientation": "v",
         "showlegend": true,
         "type": "scatter",
         "x": [
          2651.883363736803
         ],
         "xaxis": "x",
         "y": [
          63.954
         ],
         "yaxis": "y"
        },
        {
         "hovertemplate": "Entity=Costa Rica<br>GDPperCapita=%{x}<br>Life expectancy=%{y}<extra></extra>",
         "legendgroup": "Costa Rica",
         "marker": {
          "color": "#FECB52",
          "symbol": "circle"
         },
         "mode": "markers",
         "name": "Costa Rica",
         "orientation": "v",
         "showlegend": true,
         "type": "scatter",
         "x": [
          9704.498759439171
         ],
         "xaxis": "x",
         "y": [
          79.914
         ],
         "yaxis": "y"
        },
        {
         "hovertemplate": "Entity=Cote d'Ivoire<br>GDPperCapita=%{x}<br>Life expectancy=%{y}<extra></extra>",
         "legendgroup": "Cote d'Ivoire",
         "marker": {
          "color": "#636efa",
          "symbol": "circle"
         },
         "mode": "markers",
         "name": "Cote d'Ivoire",
         "orientation": "v",
         "showlegend": true,
         "type": "scatter",
         "x": [
          1623.1735290278593
         ],
         "xaxis": "x",
         "y": [
          57.017
         ],
         "yaxis": "y"
        },
        {
         "hovertemplate": "Entity=Croatia<br>GDPperCapita=%{x}<br>Life expectancy=%{y}<extra></extra>",
         "legendgroup": "Croatia",
         "marker": {
          "color": "#EF553B",
          "symbol": "circle"
         },
         "mode": "markers",
         "name": "Croatia",
         "orientation": "v",
         "showlegend": true,
         "type": "scatter",
         "x": [
          15011.3962242951
         ],
         "xaxis": "x",
         "y": [
          78.197
         ],
         "yaxis": "y"
        },
        {
         "hovertemplate": "Entity=Cyprus<br>GDPperCapita=%{x}<br>Life expectancy=%{y}<extra></extra>",
         "legendgroup": "Cyprus",
         "marker": {
          "color": "#00cc96",
          "symbol": "circle"
         },
         "mode": "markers",
         "name": "Cyprus",
         "orientation": "v",
         "showlegend": true,
         "type": "scatter",
         "x": [
          21402.411860269407
         ],
         "xaxis": "x",
         "y": [
          80.672
         ],
         "yaxis": "y"
        },
        {
         "hovertemplate": "Entity=Czechia<br>GDPperCapita=%{x}<br>Life expectancy=%{y}<extra></extra>",
         "legendgroup": "Czechia",
         "marker": {
          "color": "#ab63fa",
          "symbol": "circle"
         },
         "mode": "markers",
         "name": "Czechia",
         "orientation": "v",
         "showlegend": true,
         "type": "scatter",
         "x": [
          22672.94786374974
         ],
         "xaxis": "x",
         "y": [
          79.058
         ],
         "yaxis": "y"
        },
        {
         "hovertemplate": "Entity=Democratic Republic of Congo<br>GDPperCapita=%{x}<br>Life expectancy=%{y}<extra></extra>",
         "legendgroup": "Democratic Republic of Congo",
         "marker": {
          "color": "#FFA15A",
          "symbol": "circle"
         },
         "mode": "markers",
         "name": "Democratic Republic of Congo",
         "orientation": "v",
         "showlegend": true,
         "type": "scatter",
         "x": [
          408.82077087232886
         ],
         "xaxis": "x",
         "y": [
          60.026
         ],
         "yaxis": "y"
        },
        {
         "hovertemplate": "Entity=Denmark<br>GDPperCapita=%{x}<br>Life expectancy=%{y}<extra></extra>",
         "legendgroup": "Denmark",
         "marker": {
          "color": "#19d3f3",
          "symbol": "circle"
         },
         "mode": "markers",
         "name": "Denmark",
         "orientation": "v",
         "showlegend": true,
         "type": "scatter",
         "x": [
          61986.156681440334
         ],
         "xaxis": "x",
         "y": [
          80.681
         ],
         "yaxis": "y"
        },
        {
         "hovertemplate": "Entity=Dominica<br>GDPperCapita=%{x}<br>Life expectancy=%{y}<extra></extra>",
         "legendgroup": "Dominica",
         "marker": {
          "color": "#FF6692",
          "symbol": "circle"
         },
         "mode": "markers",
         "name": "Dominica",
         "orientation": "v",
         "showlegend": true,
         "type": "scatter",
         "x": [
          6826.767363664127
         ],
         "xaxis": "x",
         "y": [
          74.597
         ],
         "yaxis": "y"
        },
        {
         "hovertemplate": "Entity=Dominican Republic<br>GDPperCapita=%{x}<br>Life expectancy=%{y}<extra></extra>",
         "legendgroup": "Dominican Republic",
         "marker": {
          "color": "#B6E880",
          "symbol": "circle"
         },
         "mode": "markers",
         "name": "Dominican Republic",
         "orientation": "v",
         "showlegend": true,
         "type": "scatter",
         "x": [
          7325.899767129582
         ],
         "xaxis": "x",
         "y": [
          73.689
         ],
         "yaxis": "y"
        },
        {
         "hovertemplate": "Entity=Ecuador<br>GDPperCapita=%{x}<br>Life expectancy=%{y}<extra></extra>",
         "legendgroup": "Ecuador",
         "marker": {
          "color": "#FF97FF",
          "symbol": "circle"
         },
         "mode": "markers",
         "name": "Ecuador",
         "orientation": "v",
         "showlegend": true,
         "type": "scatter",
         "x": [
          5219.341306051099
         ],
         "xaxis": "x",
         "y": [
          76.584
         ],
         "yaxis": "y"
        },
        {
         "hovertemplate": "Entity=Egypt<br>GDPperCapita=%{x}<br>Life expectancy=%{y}<extra></extra>",
         "legendgroup": "Egypt",
         "marker": {
          "color": "#FECB52",
          "symbol": "circle"
         },
         "mode": "markers",
         "name": "Egypt",
         "orientation": "v",
         "showlegend": true,
         "type": "scatter",
         "x": [
          2817.432289437782
         ],
         "xaxis": "x",
         "y": [
          71.656
         ],
         "yaxis": "y"
        },
        {
         "hovertemplate": "Entity=El Salvador<br>GDPperCapita=%{x}<br>Life expectancy=%{y}<extra></extra>",
         "legendgroup": "El Salvador",
         "marker": {
          "color": "#636efa",
          "symbol": "circle"
         },
         "mode": "markers",
         "name": "El Salvador",
         "orientation": "v",
         "showlegend": true,
         "type": "scatter",
         "x": [
          3458.0419227759394
         ],
         "xaxis": "x",
         "y": [
          72.872
         ],
         "yaxis": "y"
        },
        {
         "hovertemplate": "Entity=Equatorial Guinea<br>GDPperCapita=%{x}<br>Life expectancy=%{y}<extra></extra>",
         "legendgroup": "Equatorial Guinea",
         "marker": {
          "color": "#EF553B",
          "symbol": "circle"
         },
         "mode": "markers",
         "name": "Equatorial Guinea",
         "orientation": "v",
         "showlegend": true,
         "type": "scatter",
         "x": [
          11538.391726633598
         ],
         "xaxis": "x",
         "y": [
          58.061
         ],
         "yaxis": "y"
        },
        {
         "hovertemplate": "Entity=Estonia<br>GDPperCapita=%{x}<br>Life expectancy=%{y}<extra></extra>",
         "legendgroup": "Estonia",
         "marker": {
          "color": "#00cc96",
          "symbol": "circle"
         },
         "mode": "markers",
         "name": "Estonia",
         "orientation": "v",
         "showlegend": true,
         "type": "scatter",
         "x": [
          18926.749646098408
         ],
         "xaxis": "x",
         "y": [
          78.354
         ],
         "yaxis": "y"
        },
        {
         "hovertemplate": "Entity=Eswatini<br>GDPperCapita=%{x}<br>Life expectancy=%{y}<extra></extra>",
         "legendgroup": "Eswatini",
         "marker": {
          "color": "#ab63fa",
          "symbol": "circle"
         },
         "mode": "markers",
         "name": "Eswatini",
         "orientation": "v",
         "showlegend": true,
         "type": "scatter",
         "x": [
          4756.849072779929
         ],
         "xaxis": "x",
         "y": [
          58.319
         ],
         "yaxis": "y"
        },
        {
         "hovertemplate": "Entity=Ethiopia<br>GDPperCapita=%{x}<br>Life expectancy=%{y}<extra></extra>",
         "legendgroup": "Ethiopia",
         "marker": {
          "color": "#FFA15A",
          "symbol": "circle"
         },
         "mode": "markers",
         "name": "Ethiopia",
         "orientation": "v",
         "showlegend": true,
         "type": "scatter",
         "x": [
          542.3930828490611
         ],
         "xaxis": "x",
         "y": [
          65.872
         ],
         "yaxis": "y"
        },
        {
         "hovertemplate": "Entity=Fiji<br>GDPperCapita=%{x}<br>Life expectancy=%{y}<extra></extra>",
         "legendgroup": "Fiji",
         "marker": {
          "color": "#19d3f3",
          "symbol": "circle"
         },
         "mode": "markers",
         "name": "Fiji",
         "orientation": "v",
         "showlegend": true,
         "type": "scatter",
         "x": [
          4463.480825744139
         ],
         "xaxis": "x",
         "y": [
          67.252
         ],
         "yaxis": "y"
        },
        {
         "hovertemplate": "Entity=Finland<br>GDPperCapita=%{x}<br>Life expectancy=%{y}<extra></extra>",
         "legendgroup": "Finland",
         "marker": {
          "color": "#FF6692",
          "symbol": "circle"
         },
         "mode": "markers",
         "name": "Finland",
         "orientation": "v",
         "showlegend": true,
         "type": "scatter",
         "x": [
          47060.206319573386
         ],
         "xaxis": "x",
         "y": [
          81.561
         ],
         "yaxis": "y"
        },
        {
         "hovertemplate": "Entity=France<br>GDPperCapita=%{x}<br>Life expectancy=%{y}<extra></extra>",
         "legendgroup": "France",
         "marker": {
          "color": "#B6E880",
          "symbol": "circle"
         },
         "mode": "markers",
         "name": "France",
         "orientation": "v",
         "showlegend": true,
         "type": "scatter",
         "x": [
          44061.64739521614
         ],
         "xaxis": "x",
         "y": [
          82.432
         ],
         "yaxis": "y"
        },
        {
         "hovertemplate": "Entity=Gabon<br>GDPperCapita=%{x}<br>Life expectancy=%{y}<extra></extra>",
         "legendgroup": "Gabon",
         "marker": {
          "color": "#FF97FF",
          "symbol": "circle"
         },
         "mode": "markers",
         "name": "Gabon",
         "orientation": "v",
         "showlegend": true,
         "type": "scatter",
         "x": [
          9259.756310496272
         ],
         "xaxis": "x",
         "y": [
          65.839
         ],
         "yaxis": "y"
        },
        {
         "hovertemplate": "Entity=Gambia<br>GDPperCapita=%{x}<br>Life expectancy=%{y}<extra></extra>",
         "legendgroup": "Gambia",
         "marker": {
          "color": "#FECB52",
          "symbol": "circle"
         },
         "mode": "markers",
         "name": "Gambia",
         "orientation": "v",
         "showlegend": true,
         "type": "scatter",
         "x": [
          506.8967392330487
         ],
         "xaxis": "x",
         "y": [
          61.44
         ],
         "yaxis": "y"
        },
        {
         "hovertemplate": "Entity=Georgia<br>GDPperCapita=%{x}<br>Life expectancy=%{y}<extra></extra>",
         "legendgroup": "Georgia",
         "marker": {
          "color": "#636efa",
          "symbol": "circle"
         },
         "mode": "markers",
         "name": "Georgia",
         "orientation": "v",
         "showlegend": true,
         "type": "scatter",
         "x": [
          3977.795688668371
         ],
         "xaxis": "x",
         "y": [
          73.414
         ],
         "yaxis": "y"
        },
        {
         "hovertemplate": "Entity=Germany<br>GDPperCapita=%{x}<br>Life expectancy=%{y}<extra></extra>",
         "legendgroup": "Germany",
         "marker": {
          "color": "#EF553B",
          "symbol": "circle"
         },
         "mode": "markers",
         "name": "Germany",
         "orientation": "v",
         "showlegend": true,
         "type": "scatter",
         "x": [
          46768.11780316001
         ],
         "xaxis": "x",
         "y": [
          81.039
         ],
         "yaxis": "y"
        },
        {
         "hovertemplate": "Entity=Ghana<br>GDPperCapita=%{x}<br>Life expectancy=%{y}<extra></extra>",
         "legendgroup": "Ghana",
         "marker": {
          "color": "#00cc96",
          "symbol": "circle"
         },
         "mode": "markers",
         "name": "Ghana",
         "orientation": "v",
         "showlegend": true,
         "type": "scatter",
         "x": [
          1795.9363436799663
         ],
         "xaxis": "x",
         "y": [
          63.463
         ],
         "yaxis": "y"
        },
        {
         "hovertemplate": "Entity=Greece<br>GDPperCapita=%{x}<br>Life expectancy=%{y}<extra></extra>",
         "legendgroup": "Greece",
         "marker": {
          "color": "#ab63fa",
          "symbol": "circle"
         },
         "mode": "markers",
         "name": "Greece",
         "orientation": "v",
         "showlegend": true,
         "type": "scatter",
         "x": [
          23444.475664032358
         ],
         "xaxis": "x",
         "y": [
          81.901
         ],
         "yaxis": "y"
        },
        {
         "hovertemplate": "Entity=Grenada<br>GDPperCapita=%{x}<br>Life expectancy=%{y}<extra></extra>",
         "legendgroup": "Grenada",
         "marker": {
          "color": "#FFA15A",
          "symbol": "circle"
         },
         "mode": "markers",
         "name": "Grenada",
         "orientation": "v",
         "showlegend": true,
         "type": "scatter",
         "x": [
          8701.373037053441
         ],
         "xaxis": "x",
         "y": [
          72.388
         ],
         "yaxis": "y"
        },
        {
         "hovertemplate": "Entity=Guatemala<br>GDPperCapita=%{x}<br>Life expectancy=%{y}<extra></extra>",
         "legendgroup": "Guatemala",
         "marker": {
          "color": "#19d3f3",
          "symbol": "circle"
         },
         "mode": "markers",
         "name": "Guatemala",
         "orientation": "v",
         "showlegend": true,
         "type": "scatter",
         "x": [
          3123.933862583884
         ],
         "xaxis": "x",
         "y": [
          73.81
         ],
         "yaxis": "y"
        },
        {
         "hovertemplate": "Entity=Guinea<br>GDPperCapita=%{x}<br>Life expectancy=%{y}<extra></extra>",
         "legendgroup": "Guinea",
         "marker": {
          "color": "#FF6692",
          "symbol": "circle"
         },
         "mode": "markers",
         "name": "Guinea",
         "orientation": "v",
         "showlegend": true,
         "type": "scatter",
         "x": [
          867.1934154348526
         ],
         "xaxis": "x",
         "y": [
          60.706
         ],
         "yaxis": "y"
        },
        {
         "hovertemplate": "Entity=Guinea-Bissau<br>GDPperCapita=%{x}<br>Life expectancy=%{y}<extra></extra>",
         "legendgroup": "Guinea-Bissau",
         "marker": {
          "color": "#B6E880",
          "symbol": "circle"
         },
         "mode": "markers",
         "name": "Guinea-Bissau",
         "orientation": "v",
         "showlegend": true,
         "type": "scatter",
         "x": [
          615.6331430674506
         ],
         "xaxis": "x",
         "y": [
          57.673
         ],
         "yaxis": "y"
        },
        {
         "hovertemplate": "Entity=Guyana<br>GDPperCapita=%{x}<br>Life expectancy=%{y}<extra></extra>",
         "legendgroup": "Guyana",
         "marker": {
          "color": "#FF97FF",
          "symbol": "circle"
         },
         "mode": "markers",
         "name": "Guyana",
         "orientation": "v",
         "showlegend": true,
         "type": "scatter",
         "x": [
          3885.6723798626967
         ],
         "xaxis": "x",
         "y": [
          69.624
         ],
         "yaxis": "y"
        },
        {
         "hovertemplate": "Entity=Haiti<br>GDPperCapita=%{x}<br>Life expectancy=%{y}<extra></extra>",
         "legendgroup": "Haiti",
         "marker": {
          "color": "#FECB52",
          "symbol": "circle"
         },
         "mode": "markers",
         "name": "Haiti",
         "orientation": "v",
         "showlegend": true,
         "type": "scatter",
         "x": [
          728.8692284759197
         ],
         "xaxis": "x",
         "y": [
          63.29
         ],
         "yaxis": "y"
        },
        {
         "hovertemplate": "Entity=Honduras<br>GDPperCapita=%{x}<br>Life expectancy=%{y}<extra></extra>",
         "legendgroup": "Honduras",
         "marker": {
          "color": "#636efa",
          "symbol": "circle"
         },
         "mode": "markers",
         "name": "Honduras",
         "orientation": "v",
         "showlegend": true,
         "type": "scatter",
         "x": [
          2172.15391486848
         ],
         "xaxis": "x",
         "y": [
          74.898
         ],
         "yaxis": "y"
        },
        {
         "hovertemplate": "Entity=Hong Kong<br>GDPperCapita=%{x}<br>Life expectancy=%{y}<extra></extra>",
         "legendgroup": "Hong Kong",
         "marker": {
          "color": "#EF553B",
          "symbol": "circle"
         },
         "mode": "markers",
         "name": "Hong Kong",
         "orientation": "v",
         "showlegend": true,
         "type": "scatter",
         "x": [
          38372.02312307651
         ],
         "xaxis": "x",
         "y": [
          84.493
         ],
         "yaxis": "y"
        },
        {
         "hovertemplate": "Entity=Hungary<br>GDPperCapita=%{x}<br>Life expectancy=%{y}<extra></extra>",
         "legendgroup": "Hungary",
         "marker": {
          "color": "#00cc96",
          "symbol": "circle"
         },
         "mode": "markers",
         "name": "Hungary",
         "orientation": "v",
         "showlegend": true,
         "type": "scatter",
         "x": [
          15730.068784316445
         ],
         "xaxis": "x",
         "y": [
          76.498
         ],
         "yaxis": "y"
        },
        {
         "hovertemplate": "Entity=Iceland<br>GDPperCapita=%{x}<br>Life expectancy=%{y}<extra></extra>",
         "legendgroup": "Iceland",
         "marker": {
          "color": "#ab63fa",
          "symbol": "circle"
         },
         "mode": "markers",
         "name": "Iceland",
         "orientation": "v",
         "showlegend": true,
         "type": "scatter",
         "x": [
          50998.46204829191
         ],
         "xaxis": "x",
         "y": [
          82.725
         ],
         "yaxis": "y"
        },
        {
         "hovertemplate": "Entity=India<br>GDPperCapita=%{x}<br>Life expectancy=%{y}<extra></extra>",
         "legendgroup": "India",
         "marker": {
          "color": "#FFA15A",
          "symbol": "circle"
         },
         "mode": "markers",
         "name": "India",
         "orientation": "v",
         "showlegend": true,
         "type": "scatter",
         "x": [
          1964.284310117216
         ],
         "xaxis": "x",
         "y": [
          69.165
         ],
         "yaxis": "y"
        },
        {
         "hovertemplate": "Entity=Indonesia<br>GDPperCapita=%{x}<br>Life expectancy=%{y}<extra></extra>",
         "legendgroup": "Indonesia",
         "marker": {
          "color": "#19d3f3",
          "symbol": "circle"
         },
         "mode": "markers",
         "name": "Indonesia",
         "orientation": "v",
         "showlegend": true,
         "type": "scatter",
         "x": [
          4120.367810496154
         ],
         "xaxis": "x",
         "y": [
          71.282
         ],
         "yaxis": "y"
        },
        {
         "hovertemplate": "Entity=Iran<br>GDPperCapita=%{x}<br>Life expectancy=%{y}<extra></extra>",
         "legendgroup": "Iran",
         "marker": {
          "color": "#FF6692",
          "symbol": "circle"
         },
         "mode": "markers",
         "name": "Iran",
         "orientation": "v",
         "showlegend": true,
         "type": "scatter",
         "x": [
          6988.946227555693
         ],
         "xaxis": "x",
         "y": [
          76.271
         ],
         "yaxis": "y"
        },
        {
         "hovertemplate": "Entity=Iraq<br>GDPperCapita=%{x}<br>Life expectancy=%{y}<extra></extra>",
         "legendgroup": "Iraq",
         "marker": {
          "color": "#B6E880",
          "symbol": "circle"
         },
         "mode": "markers",
         "name": "Iraq",
         "orientation": "v",
         "showlegend": true,
         "type": "scatter",
         "x": [
          5652.507955372407
         ],
         "xaxis": "x",
         "y": [
          70.294
         ],
         "yaxis": "y"
        },
        {
         "hovertemplate": "Entity=Ireland<br>GDPperCapita=%{x}<br>Life expectancy=%{y}<extra></extra>",
         "legendgroup": "Ireland",
         "marker": {
          "color": "#FF97FF",
          "symbol": "circle"
         },
         "mode": "markers",
         "name": "Ireland",
         "orientation": "v",
         "showlegend": true,
         "type": "scatter",
         "x": [
          75382.59575206922
         ],
         "xaxis": "x",
         "y": [
          81.872
         ],
         "yaxis": "y"
        },
        {
         "hovertemplate": "Entity=Israel<br>GDPperCapita=%{x}<br>Life expectancy=%{y}<extra></extra>",
         "legendgroup": "Israel",
         "marker": {
          "color": "#FECB52",
          "symbol": "circle"
         },
         "mode": "markers",
         "name": "Israel",
         "orientation": "v",
         "showlegend": true,
         "type": "scatter",
         "x": [
          36074.24555591012
         ],
         "xaxis": "x",
         "y": [
          82.663
         ],
         "yaxis": "y"
        },
        {
         "hovertemplate": "Entity=Italy<br>GDPperCapita=%{x}<br>Life expectancy=%{y}<extra></extra>",
         "legendgroup": "Italy",
         "marker": {
          "color": "#636efa",
          "symbol": "circle"
         },
         "mode": "markers",
         "name": "Italy",
         "orientation": "v",
         "showlegend": true,
         "type": "scatter",
         "x": [
          34807.36298025678
         ],
         "xaxis": "x",
         "y": [
          83.184
         ],
         "yaxis": "y"
        },
        {
         "hovertemplate": "Entity=Jamaica<br>GDPperCapita=%{x}<br>Life expectancy=%{y}<extra></extra>",
         "legendgroup": "Jamaica",
         "marker": {
          "color": "#EF553B",
          "symbol": "circle"
         },
         "mode": "markers",
         "name": "Jamaica",
         "orientation": "v",
         "showlegend": true,
         "type": "scatter",
         "x": [
          4747.777208777131
         ],
         "xaxis": "x",
         "y": [
          74.267
         ],
         "yaxis": "y"
        },
        {
         "hovertemplate": "Entity=Japan<br>GDPperCapita=%{x}<br>Life expectancy=%{y}<extra></extra>",
         "legendgroup": "Japan",
         "marker": {
          "color": "#00cc96",
          "symbol": "circle"
         },
         "mode": "markers",
         "name": "Japan",
         "orientation": "v",
         "showlegend": true,
         "type": "scatter",
         "x": [
          48283.79505249767
         ],
         "xaxis": "x",
         "y": [
          84.29
         ],
         "yaxis": "y"
        },
        {
         "hovertemplate": "Entity=Jordan<br>GDPperCapita=%{x}<br>Life expectancy=%{y}<extra></extra>",
         "legendgroup": "Jordan",
         "marker": {
          "color": "#ab63fa",
          "symbol": "circle"
         },
         "mode": "markers",
         "name": "Jordan",
         "orientation": "v",
         "showlegend": true,
         "type": "scatter",
         "x": [
          3210.5726602202535
         ],
         "xaxis": "x",
         "y": [
          74.292
         ],
         "yaxis": "y"
        },
        {
         "hovertemplate": "Entity=Kazakhstan<br>GDPperCapita=%{x}<br>Life expectancy=%{y}<extra></extra>",
         "legendgroup": "Kazakhstan",
         "marker": {
          "color": "#FFA15A",
          "symbol": "circle"
         },
         "mode": "markers",
         "name": "Kazakhstan",
         "orientation": "v",
         "showlegend": true,
         "type": "scatter",
         "x": [
          10831.942910092477
         ],
         "xaxis": "x",
         "y": [
          72.728
         ],
         "yaxis": "y"
        },
        {
         "hovertemplate": "Entity=Kenya<br>GDPperCapita=%{x}<br>Life expectancy=%{y}<extra></extra>",
         "legendgroup": "Kenya",
         "marker": {
          "color": "#19d3f3",
          "symbol": "circle"
         },
         "mode": "markers",
         "name": "Kenya",
         "orientation": "v",
         "showlegend": true,
         "type": "scatter",
         "x": [
          1157.2094917223153
         ],
         "xaxis": "x",
         "y": [
          65.909
         ],
         "yaxis": "y"
        },
        {
         "hovertemplate": "Entity=Kiribati<br>GDPperCapita=%{x}<br>Life expectancy=%{y}<extra></extra>",
         "legendgroup": "Kiribati",
         "marker": {
          "color": "#FF6692",
          "symbol": "circle"
         },
         "mode": "markers",
         "name": "Kiribati",
         "orientation": "v",
         "showlegend": true,
         "type": "scatter",
         "x": [
          1744.3288443963245
         ],
         "xaxis": "x",
         "y": [
          67.851
         ],
         "yaxis": "y"
        },
        {
         "hovertemplate": "Entity=Kosovo<br>GDPperCapita=%{x}<br>Life expectancy=%{y}<extra></extra>",
         "legendgroup": "Kosovo",
         "marker": {
          "color": "#B6E880",
          "symbol": "circle"
         },
         "mode": "markers",
         "name": "Kosovo",
         "orientation": "v",
         "showlegend": true,
         "type": "scatter",
         "x": [
          null
         ],
         "xaxis": "x",
         "y": [
          null
         ],
         "yaxis": "y"
        },
        {
         "hovertemplate": "Entity=Kuwait<br>GDPperCapita=%{x}<br>Life expectancy=%{y}<extra></extra>",
         "legendgroup": "Kuwait",
         "marker": {
          "color": "#FF97FF",
          "symbol": "circle"
         },
         "mode": "markers",
         "name": "Kuwait",
         "orientation": "v",
         "showlegend": true,
         "type": "scatter",
         "x": [
          34211.63377749877
         ],
         "xaxis": "x",
         "y": [
          75.311
         ],
         "yaxis": "y"
        },
        {
         "hovertemplate": "Entity=Kyrgyzstan<br>GDPperCapita=%{x}<br>Life expectancy=%{y}<extra></extra>",
         "legendgroup": "Kyrgyzstan",
         "marker": {
          "color": "#FECB52",
          "symbol": "circle"
         },
         "mode": "markers",
         "name": "Kyrgyzstan",
         "orientation": "v",
         "showlegend": true,
         "type": "scatter",
         "x": [
          1072.311890452892
         ],
         "xaxis": "x",
         "y": [
          71.193
         ],
         "yaxis": "y"
        },
        {
         "hovertemplate": "Entity=Laos<br>GDPperCapita=%{x}<br>Life expectancy=%{y}<extra></extra>",
         "legendgroup": "Laos",
         "marker": {
          "color": "#636efa",
          "symbol": "circle"
         },
         "mode": "markers",
         "name": "Laos",
         "orientation": "v",
         "showlegend": true,
         "type": "scatter",
         "x": [
          1706.8018243052925
         ],
         "xaxis": "x",
         "y": [
          67.277
         ],
         "yaxis": "y"
        },
        {
         "hovertemplate": "Entity=Latvia<br>GDPperCapita=%{x}<br>Life expectancy=%{y}<extra></extra>",
         "legendgroup": "Latvia",
         "marker": {
          "color": "#EF553B",
          "symbol": "circle"
         },
         "mode": "markers",
         "name": "Latvia",
         "orientation": "v",
         "showlegend": true,
         "type": "scatter",
         "x": [
          15471.535484080063
         ],
         "xaxis": "x",
         "y": [
          75.048
         ],
         "yaxis": "y"
        },
        {
         "hovertemplate": "Entity=Lebanon<br>GDPperCapita=%{x}<br>Life expectancy=%{y}<extra></extra>",
         "legendgroup": "Lebanon",
         "marker": {
          "color": "#00cc96",
          "symbol": "circle"
         },
         "mode": "markers",
         "name": "Lebanon",
         "orientation": "v",
         "showlegend": true,
         "type": "scatter",
         "x": [
          6420.084729746019
         ],
         "xaxis": "x",
         "y": [
          78.833
         ],
         "yaxis": "y"
        },
        {
         "hovertemplate": "Entity=Lesotho<br>GDPperCapita=%{x}<br>Life expectancy=%{y}<extra></extra>",
         "legendgroup": "Lesotho",
         "marker": {
          "color": "#ab63fa",
          "symbol": "circle"
         },
         "mode": "markers",
         "name": "Lesotho",
         "orientation": "v",
         "showlegend": true,
         "type": "scatter",
         "x": [
          1504.425989499173
         ],
         "xaxis": "x",
         "y": [
          52.947
         ],
         "yaxis": "y"
        },
        {
         "hovertemplate": "Entity=Liberia<br>GDPperCapita=%{x}<br>Life expectancy=%{y}<extra></extra>",
         "legendgroup": "Liberia",
         "marker": {
          "color": "#FFA15A",
          "symbol": "circle"
         },
         "mode": "markers",
         "name": "Liberia",
         "orientation": "v",
         "showlegend": true,
         "type": "scatter",
         "x": [
          354.5265876589813
         ],
         "xaxis": "x",
         "y": [
          63.295
         ],
         "yaxis": "y"
        },
        {
         "hovertemplate": "Entity=Libya<br>GDPperCapita=%{x}<br>Life expectancy=%{y}<extra></extra>",
         "legendgroup": "Libya",
         "marker": {
          "color": "#19d3f3",
          "symbol": "circle"
         },
         "mode": "markers",
         "name": "Libya",
         "orientation": "v",
         "showlegend": true,
         "type": "scatter",
         "x": [
          7085.233506390533
         ],
         "xaxis": "x",
         "y": [
          72.52
         ],
         "yaxis": "y"
        },
        {
         "hovertemplate": "Entity=Lithuania<br>GDPperCapita=%{x}<br>Life expectancy=%{y}<extra></extra>",
         "legendgroup": "Lithuania",
         "marker": {
          "color": "#FF6692",
          "symbol": "circle"
         },
         "mode": "markers",
         "name": "Lithuania",
         "orientation": "v",
         "showlegend": true,
         "type": "scatter",
         "x": [
          16691.25687295223
         ],
         "xaxis": "x",
         "y": [
          75.507
         ],
         "yaxis": "y"
        },
        {
         "hovertemplate": "Entity=Luxembourg<br>GDPperCapita=%{x}<br>Life expectancy=%{y}<extra></extra>",
         "legendgroup": "Luxembourg",
         "marker": {
          "color": "#B6E880",
          "symbol": "circle"
         },
         "mode": "markers",
         "name": "Luxembourg",
         "orientation": "v",
         "showlegend": true,
         "type": "scatter",
         "x": [
          109222.51748804915
         ],
         "xaxis": "x",
         "y": [
          81.955
         ],
         "yaxis": "y"
        },
        {
         "hovertemplate": "Entity=Macao<br>GDPperCapita=%{x}<br>Life expectancy=%{y}<extra></extra>",
         "legendgroup": "Macao",
         "marker": {
          "color": "#FF97FF",
          "symbol": "circle"
         },
         "mode": "markers",
         "name": "Macao",
         "orientation": "v",
         "showlegend": true,
         "type": "scatter",
         "x": [
          55897.925654908024
         ],
         "xaxis": "x",
         "y": [
          83.989
         ],
         "yaxis": "y"
        },
        {
         "hovertemplate": "Entity=Madagascar<br>GDPperCapita=%{x}<br>Life expectancy=%{y}<extra></extra>",
         "legendgroup": "Madagascar",
         "marker": {
          "color": "#FECB52",
          "symbol": "circle"
         },
         "mode": "markers",
         "name": "Madagascar",
         "orientation": "v",
         "showlegend": true,
         "type": "scatter",
         "x": [
          421.8895132896171
         ],
         "xaxis": "x",
         "y": [
          66.311
         ],
         "yaxis": "y"
        },
        {
         "hovertemplate": "Entity=Malawi<br>GDPperCapita=%{x}<br>Life expectancy=%{y}<extra></extra>",
         "legendgroup": "Malawi",
         "marker": {
          "color": "#636efa",
          "symbol": "circle"
         },
         "mode": "markers",
         "name": "Malawi",
         "orientation": "v",
         "showlegend": true,
         "type": "scatter",
         "x": [
          512.6562214324799
         ],
         "xaxis": "x",
         "y": [
          63.279
         ],
         "yaxis": "y"
        },
        {
         "hovertemplate": "Entity=Malaysia<br>GDPperCapita=%{x}<br>Life expectancy=%{y}<extra></extra>",
         "legendgroup": "Malaysia",
         "marker": {
          "color": "#EF553B",
          "symbol": "circle"
         },
         "mode": "markers",
         "name": "Malaysia",
         "orientation": "v",
         "showlegend": true,
         "type": "scatter",
         "x": [
          11713.792561266839
         ],
         "xaxis": "x",
         "y": [
          75.828
         ],
         "yaxis": "y"
        },
        {
         "hovertemplate": "Entity=Maldives<br>GDPperCapita=%{x}<br>Life expectancy=%{y}<extra></extra>",
         "legendgroup": "Maldives",
         "marker": {
          "color": "#00cc96",
          "symbol": "circle"
         },
         "mode": "markers",
         "name": "Maldives",
         "orientation": "v",
         "showlegend": true,
         "type": "scatter",
         "x": [
          7899.714168118267
         ],
         "xaxis": "x",
         "y": [
          78.325
         ],
         "yaxis": "y"
        },
        {
         "hovertemplate": "Entity=Mali<br>GDPperCapita=%{x}<br>Life expectancy=%{y}<extra></extra>",
         "legendgroup": "Mali",
         "marker": {
          "color": "#ab63fa",
          "symbol": "circle"
         },
         "mode": "markers",
         "name": "Mali",
         "orientation": "v",
         "showlegend": true,
         "type": "scatter",
         "x": [
          763.4603869121759
         ],
         "xaxis": "x",
         "y": [
          58.452
         ],
         "yaxis": "y"
        },
        {
         "hovertemplate": "Entity=Malta<br>GDPperCapita=%{x}<br>Life expectancy=%{y}<extra></extra>",
         "legendgroup": "Malta",
         "marker": {
          "color": "#FFA15A",
          "symbol": "circle"
         },
         "mode": "markers",
         "name": "Malta",
         "orientation": "v",
         "showlegend": true,
         "type": "scatter",
         "x": [
          28837.27962744566
         ],
         "xaxis": "x",
         "y": [
          82.221
         ],
         "yaxis": "y"
        },
        {
         "hovertemplate": "Entity=Marshall Islands<br>GDPperCapita=%{x}<br>Life expectancy=%{y}<extra></extra>",
         "legendgroup": "Marshall Islands",
         "marker": {
          "color": "#19d3f3",
          "symbol": "circle"
         },
         "mode": "markers",
         "name": "Marshall Islands",
         "orientation": "v",
         "showlegend": true,
         "type": "scatter",
         "x": [
          3164.1006681526383
         ],
         "xaxis": "x",
         "y": [
          73.278
         ],
         "yaxis": "y"
        },
        {
         "hovertemplate": "Entity=Mauritania<br>GDPperCapita=%{x}<br>Life expectancy=%{y}<extra></extra>",
         "legendgroup": "Mauritania",
         "marker": {
          "color": "#FF6692",
          "symbol": "circle"
         },
         "mode": "markers",
         "name": "Mauritania",
         "orientation": "v",
         "showlegend": true,
         "type": "scatter",
         "x": [
          1347.0106110759748
         ],
         "xaxis": "x",
         "y": [
          64.464
         ],
         "yaxis": "y"
        },
        {
         "hovertemplate": "Entity=Mauritius<br>GDPperCapita=%{x}<br>Life expectancy=%{y}<extra></extra>",
         "legendgroup": "Mauritius",
         "marker": {
          "color": "#B6E880",
          "symbol": "circle"
         },
         "mode": "markers",
         "name": "Mauritius",
         "orientation": "v",
         "showlegend": true,
         "type": "scatter",
         "x": [
          10190.993735979035
         ],
         "xaxis": "x",
         "y": [
          74.743
         ],
         "yaxis": "y"
        },
        {
         "hovertemplate": "Entity=Mexico<br>GDPperCapita=%{x}<br>Life expectancy=%{y}<extra></extra>",
         "legendgroup": "Mexico",
         "marker": {
          "color": "#FF97FF",
          "symbol": "circle"
         },
         "mode": "markers",
         "name": "Mexico",
         "orientation": "v",
         "showlegend": true,
         "type": "scatter",
         "x": [
          10295.794498827267
         ],
         "xaxis": "x",
         "y": [
          74.947
         ],
         "yaxis": "y"
        },
        {
         "hovertemplate": "Entity=Moldova<br>GDPperCapita=%{x}<br>Life expectancy=%{y}<extra></extra>",
         "legendgroup": "Moldova",
         "marker": {
          "color": "#FECB52",
          "symbol": "circle"
         },
         "mode": "markers",
         "name": "Moldova",
         "orientation": "v",
         "showlegend": true,
         "type": "scatter",
         "x": [
          1893.0453068657068
         ],
         "xaxis": "x",
         "y": [
          71.717
         ],
         "yaxis": "y"
        },
        {
         "hovertemplate": "Entity=Mongolia<br>GDPperCapita=%{x}<br>Life expectancy=%{y}<extra></extra>",
         "legendgroup": "Mongolia",
         "marker": {
          "color": "#636efa",
          "symbol": "circle"
         },
         "mode": "markers",
         "name": "Mongolia",
         "orientation": "v",
         "showlegend": true,
         "type": "scatter",
         "x": [
          4020.952428596564
         ],
         "xaxis": "x",
         "y": [
          69.509
         ],
         "yaxis": "y"
        },
        {
         "hovertemplate": "Entity=Montenegro<br>GDPperCapita=%{x}<br>Life expectancy=%{y}<extra></extra>",
         "legendgroup": "Montenegro",
         "marker": {
          "color": "#EF553B",
          "symbol": "circle"
         },
         "mode": "markers",
         "name": "Montenegro",
         "orientation": "v",
         "showlegend": true,
         "type": "scatter",
         "x": [
          7744.161328415015
         ],
         "xaxis": "x",
         "y": [
          76.667
         ],
         "yaxis": "y"
        },
        {
         "hovertemplate": "Entity=Morocco<br>GDPperCapita=%{x}<br>Life expectancy=%{y}<extra></extra>",
         "legendgroup": "Morocco",
         "marker": {
          "color": "#00cc96",
          "symbol": "circle"
         },
         "mode": "markers",
         "name": "Morocco",
         "orientation": "v",
         "showlegend": true,
         "type": "scatter",
         "x": [
          3358.2559171027515
         ],
         "xaxis": "x",
         "y": [
          76.218
         ],
         "yaxis": "y"
        },
        {
         "hovertemplate": "Entity=Mozambique<br>GDPperCapita=%{x}<br>Life expectancy=%{y}<extra></extra>",
         "legendgroup": "Mozambique",
         "marker": {
          "color": "#ab63fa",
          "symbol": "circle"
         },
         "mode": "markers",
         "name": "Mozambique",
         "orientation": "v",
         "showlegend": true,
         "type": "scatter",
         "x": [
          537.4346092917973
         ],
         "xaxis": "x",
         "y": [
          59.309
         ],
         "yaxis": "y"
        },
        {
         "hovertemplate": "Entity=Myanmar<br>GDPperCapita=%{x}<br>Life expectancy=%{y}<extra></extra>",
         "legendgroup": "Myanmar",
         "marker": {
          "color": "#FFA15A",
          "symbol": "circle"
         },
         "mode": "markers",
         "name": "Myanmar",
         "orientation": "v",
         "showlegend": true,
         "type": "scatter",
         "x": [
          1483.856240995092
         ],
         "xaxis": "x",
         "y": [
          66.558
         ],
         "yaxis": "y"
        },
        {
         "hovertemplate": "Entity=Namibia<br>GDPperCapita=%{x}<br>Life expectancy=%{y}<extra></extra>",
         "legendgroup": "Namibia",
         "marker": {
          "color": "#19d3f3",
          "symbol": "circle"
         },
         "mode": "markers",
         "name": "Namibia",
         "orientation": "v",
         "showlegend": true,
         "type": "scatter",
         "x": [
          6173.538590781273
         ],
         "xaxis": "x",
         "y": [
          63.021
         ],
         "yaxis": "y"
        },
        {
         "hovertemplate": "Entity=Nauru<br>GDPperCapita=%{x}<br>Life expectancy=%{y}<extra></extra>",
         "legendgroup": "Nauru",
         "marker": {
          "color": "#FF6692",
          "symbol": "circle"
         },
         "mode": "markers",
         "name": "Nauru",
         "orientation": "v",
         "showlegend": true,
         "type": "scatter",
         "x": [
          11923.843074243727
         ],
         "xaxis": "x",
         "y": [
          59.805
         ],
         "yaxis": "y"
        },
        {
         "hovertemplate": "Entity=Nepal<br>GDPperCapita=%{x}<br>Life expectancy=%{y}<extra></extra>",
         "legendgroup": "Nepal",
         "marker": {
          "color": "#B6E880",
          "symbol": "circle"
         },
         "mode": "markers",
         "name": "Nepal",
         "orientation": "v",
         "showlegend": true,
         "type": "scatter",
         "x": [
          772.4735975500814
         ],
         "xaxis": "x",
         "y": [
          70.169
         ],
         "yaxis": "y"
        },
        {
         "hovertemplate": "Entity=Netherlands<br>GDPperCapita=%{x}<br>Life expectancy=%{y}<extra></extra>",
         "legendgroup": "Netherlands",
         "marker": {
          "color": "#FF97FF",
          "symbol": "circle"
         },
         "mode": "markers",
         "name": "Netherlands",
         "orientation": "v",
         "showlegend": true,
         "type": "scatter",
         "x": [
          53950.0540635468
         ],
         "xaxis": "x",
         "y": [
          82.004
         ],
         "yaxis": "y"
        },
        {
         "hovertemplate": "Entity=New Zealand<br>GDPperCapita=%{x}<br>Life expectancy=%{y}<extra></extra>",
         "legendgroup": "New Zealand",
         "marker": {
          "color": "#FECB52",
          "symbol": "circle"
         },
         "mode": "markers",
         "name": "New Zealand",
         "orientation": "v",
         "showlegend": true,
         "type": "scatter",
         "x": [
          38592.70325665397
         ],
         "xaxis": "x",
         "y": [
          82.002
         ],
         "yaxis": "y"
        },
        {
         "hovertemplate": "Entity=Nicaragua<br>GDPperCapita=%{x}<br>Life expectancy=%{y}<extra></extra>",
         "legendgroup": "Nicaragua",
         "marker": {
          "color": "#636efa",
          "symbol": "circle"
         },
         "mode": "markers",
         "name": "Nicaragua",
         "orientation": "v",
         "showlegend": true,
         "type": "scatter",
         "x": [
          1963.4506830054502
         ],
         "xaxis": "x",
         "y": [
          74.068
         ],
         "yaxis": "y"
        },
        {
         "hovertemplate": "Entity=Niger<br>GDPperCapita=%{x}<br>Life expectancy=%{y}<extra></extra>",
         "legendgroup": "Niger",
         "marker": {
          "color": "#EF553B",
          "symbol": "circle"
         },
         "mode": "markers",
         "name": "Niger",
         "orientation": "v",
         "showlegend": true,
         "type": "scatter",
         "x": [
          393.6525754495546
         ],
         "xaxis": "x",
         "y": [
          61.599
         ],
         "yaxis": "y"
        },
        {
         "hovertemplate": "Entity=Nigeria<br>GDPperCapita=%{x}<br>Life expectancy=%{y}<extra></extra>",
         "legendgroup": "Nigeria",
         "marker": {
          "color": "#00cc96",
          "symbol": "circle"
         },
         "mode": "markers",
         "name": "Nigeria",
         "orientation": "v",
         "showlegend": true,
         "type": "scatter",
         "x": [
          2412.5783360682376
         ],
         "xaxis": "x",
         "y": [
          53.95
         ],
         "yaxis": "y"
        },
        {
         "hovertemplate": "Entity=North Macedonia<br>GDPperCapita=%{x}<br>Life expectancy=%{y}<extra></extra>",
         "legendgroup": "North Macedonia",
         "marker": {
          "color": "#ab63fa",
          "symbol": "circle"
         },
         "mode": "markers",
         "name": "North Macedonia",
         "orientation": "v",
         "showlegend": true,
         "type": "scatter",
         "x": [
          5248.282093054803
         ],
         "xaxis": "x",
         "y": [
          75.589
         ],
         "yaxis": "y"
        },
        {
         "hovertemplate": "Entity=Norway<br>GDPperCapita=%{x}<br>Life expectancy=%{y}<extra></extra>",
         "legendgroup": "Norway",
         "marker": {
          "color": "#FFA15A",
          "symbol": "circle"
         },
         "mode": "markers",
         "name": "Norway",
         "orientation": "v",
         "showlegend": true,
         "type": "scatter",
         "x": [
          90981.32256139029
         ],
         "xaxis": "x",
         "y": [
          82.146
         ],
         "yaxis": "y"
        },
        {
         "hovertemplate": "Entity=Oman<br>GDPperCapita=%{x}<br>Life expectancy=%{y}<extra></extra>",
         "legendgroup": "Oman",
         "marker": {
          "color": "#19d3f3",
          "symbol": "circle"
         },
         "mode": "markers",
         "name": "Oman",
         "orientation": "v",
         "showlegend": true,
         "type": "scatter",
         "x": [
          16041.513435599463
         ],
         "xaxis": "x",
         "y": [
          77.393
         ],
         "yaxis": "y"
        },
        {
         "hovertemplate": "Entity=Pakistan<br>GDPperCapita=%{x}<br>Life expectancy=%{y}<extra></extra>",
         "legendgroup": "Pakistan",
         "marker": {
          "color": "#FF6692",
          "symbol": "circle"
         },
         "mode": "markers",
         "name": "Pakistan",
         "orientation": "v",
         "showlegend": true,
         "type": "scatter",
         "x": [
          1158.4885232469962
         ],
         "xaxis": "x",
         "y": [
          66.947
         ],
         "yaxis": "y"
        },
        {
         "hovertemplate": "Entity=Palau<br>GDPperCapita=%{x}<br>Life expectancy=%{y}<extra></extra>",
         "legendgroup": "Palau",
         "marker": {
          "color": "#B6E880",
          "symbol": "circle"
         },
         "mode": "markers",
         "name": "Palau",
         "orientation": "v",
         "showlegend": true,
         "type": "scatter",
         "x": [
          12051.417300994945
         ],
         "xaxis": "x",
         "y": [
          73.32
         ],
         "yaxis": "y"
        },
        {
         "hovertemplate": "Entity=Palestine<br>GDPperCapita=%{x}<br>Life expectancy=%{y}<extra></extra>",
         "legendgroup": "Palestine",
         "marker": {
          "color": "#FF97FF",
          "symbol": "circle"
         },
         "mode": "markers",
         "name": "Palestine",
         "orientation": "v",
         "showlegend": true,
         "type": "scatter",
         "x": [
          2556.716968957236
         ],
         "xaxis": "x",
         "y": [
          73.74
         ],
         "yaxis": "y"
        },
        {
         "hovertemplate": "Entity=Panama<br>GDPperCapita=%{x}<br>Life expectancy=%{y}<extra></extra>",
         "legendgroup": "Panama",
         "marker": {
          "color": "#FECB52",
          "symbol": "circle"
         },
         "mode": "markers",
         "name": "Panama",
         "orientation": "v",
         "showlegend": true,
         "type": "scatter",
         "x": [
          11489.693265479986
         ],
         "xaxis": "x",
         "y": [
          78.149
         ],
         "yaxis": "y"
        },
        {
         "hovertemplate": "Entity=Papua New Guinea<br>GDPperCapita=%{x}<br>Life expectancy=%{y}<extra></extra>",
         "legendgroup": "Papua New Guinea",
         "marker": {
          "color": "#636efa",
          "symbol": "circle"
         },
         "mode": "markers",
         "name": "Papua New Guinea",
         "orientation": "v",
         "showlegend": true,
         "type": "scatter",
         "x": [
          2348.3947050418583
         ],
         "xaxis": "x",
         "y": [
          64.01
         ],
         "yaxis": "y"
        },
        {
         "hovertemplate": "Entity=Paraguay<br>GDPperCapita=%{x}<br>Life expectancy=%{y}<extra></extra>",
         "legendgroup": "Paraguay",
         "marker": {
          "color": "#EF553B",
          "symbol": "circle"
         },
         "mode": "markers",
         "name": "Paraguay",
         "orientation": "v",
         "showlegend": true,
         "type": "scatter",
         "x": [
          3874.246263594248
         ],
         "xaxis": "x",
         "y": [
          73.992
         ],
         "yaxis": "y"
        },
        {
         "hovertemplate": "Entity=Peru<br>GDPperCapita=%{x}<br>Life expectancy=%{y}<extra></extra>",
         "legendgroup": "Peru",
         "marker": {
          "color": "#00cc96",
          "symbol": "circle"
         },
         "mode": "markers",
         "name": "Peru",
         "orientation": "v",
         "showlegend": true,
         "type": "scatter",
         "x": [
          6314.326519317802
         ],
         "xaxis": "x",
         "y": [
          76.286
         ],
         "yaxis": "y"
        },
        {
         "hovertemplate": "Entity=Philippines<br>GDPperCapita=%{x}<br>Life expectancy=%{y}<extra></extra>",
         "legendgroup": "Philippines",
         "marker": {
          "color": "#ab63fa",
          "symbol": "circle"
         },
         "mode": "markers",
         "name": "Philippines",
         "orientation": "v",
         "showlegend": true,
         "type": "scatter",
         "x": [
          2884.3510430859346
         ],
         "xaxis": "x",
         "y": [
          70.952
         ],
         "yaxis": "y"
        },
        {
         "hovertemplate": "Entity=Poland<br>GDPperCapita=%{x}<br>Life expectancy=%{y}<extra></extra>",
         "legendgroup": "Poland",
         "marker": {
          "color": "#FFA15A",
          "symbol": "circle"
         },
         "mode": "markers",
         "name": "Poland",
         "orientation": "v",
         "showlegend": true,
         "type": "scatter",
         "x": [
          15760.713292936132
         ],
         "xaxis": "x",
         "y": [
          78.338
         ],
         "yaxis": "y"
        },
        {
         "hovertemplate": "Entity=Portugal<br>GDPperCapita=%{x}<br>Life expectancy=%{y}<extra></extra>",
         "legendgroup": "Portugal",
         "marker": {
          "color": "#19d3f3",
          "symbol": "circle"
         },
         "mode": "markers",
         "name": "Portugal",
         "orientation": "v",
         "showlegend": true,
         "type": "scatter",
         "x": [
          23127.1793929723
         ],
         "xaxis": "x",
         "y": [
          81.655
         ],
         "yaxis": "y"
        },
        {
         "hovertemplate": "Entity=Qatar<br>GDPperCapita=%{x}<br>Life expectancy=%{y}<extra></extra>",
         "legendgroup": "Qatar",
         "marker": {
          "color": "#FF6692",
          "symbol": "circle"
         },
         "mode": "markers",
         "name": "Qatar",
         "orientation": "v",
         "showlegend": true,
         "type": "scatter",
         "x": [
          63628.12021207412
         ],
         "xaxis": "x",
         "y": [
          79.981
         ],
         "yaxis": "y"
        },
        {
         "hovertemplate": "Entity=Romania<br>GDPperCapita=%{x}<br>Life expectancy=%{y}<extra></extra>",
         "legendgroup": "Romania",
         "marker": {
          "color": "#B6E880",
          "symbol": "circle"
         },
         "mode": "markers",
         "name": "Romania",
         "orientation": "v",
         "showlegend": true,
         "type": "scatter",
         "x": [
          10894.802686279638
         ],
         "xaxis": "x",
         "y": [
          75.79
         ],
         "yaxis": "y"
        },
        {
         "hovertemplate": "Entity=Russia<br>GDPperCapita=%{x}<br>Life expectancy=%{y}<extra></extra>",
         "legendgroup": "Russia",
         "marker": {
          "color": "#FF97FF",
          "symbol": "circle"
         },
         "mode": "markers",
         "name": "Russia",
         "orientation": "v",
         "showlegend": true,
         "type": "scatter",
         "x": [
          11544.047959580705
         ],
         "xaxis": "x",
         "y": [
          72.139
         ],
         "yaxis": "y"
        },
        {
         "hovertemplate": "Entity=Rwanda<br>GDPperCapita=%{x}<br>Life expectancy=%{y}<extra></extra>",
         "legendgroup": "Rwanda",
         "marker": {
          "color": "#FECB52",
          "symbol": "circle"
         },
         "mode": "markers",
         "name": "Rwanda",
         "orientation": "v",
         "showlegend": true,
         "type": "scatter",
         "x": [
          779.7490066089041
         ],
         "xaxis": "x",
         "y": [
          68.341
         ],
         "yaxis": "y"
        },
        {
         "hovertemplate": "Entity=Saint Kitts and Nevis<br>GDPperCapita=%{x}<br>Life expectancy=%{y}<extra></extra>",
         "legendgroup": "Saint Kitts and Nevis",
         "marker": {
          "color": "#636efa",
          "symbol": "circle"
         },
         "mode": "markers",
         "name": "Saint Kitts and Nevis",
         "orientation": "v",
         "showlegend": true,
         "type": "scatter",
         "x": [
          16794.35472127423
         ],
         "xaxis": "x",
         "y": [
          75.91
         ],
         "yaxis": "y"
        },
        {
         "hovertemplate": "Entity=Saint Lucia<br>GDPperCapita=%{x}<br>Life expectancy=%{y}<extra></extra>",
         "legendgroup": "Saint Lucia",
         "marker": {
          "color": "#EF553B",
          "symbol": "circle"
         },
         "mode": "markers",
         "name": "Saint Lucia",
         "orientation": "v",
         "showlegend": true,
         "type": "scatter",
         "x": [
          8452.687524606023
         ],
         "xaxis": "x",
         "y": [
          75.907
         ],
         "yaxis": "y"
        },
        {
         "hovertemplate": "Entity=Saint Vincent and the Grenadines<br>GDPperCapita=%{x}<br>Life expectancy=%{y}<extra></extra>",
         "legendgroup": "Saint Vincent and the Grenadines",
         "marker": {
          "color": "#00cc96",
          "symbol": "circle"
         },
         "mode": "markers",
         "name": "Saint Vincent and the Grenadines",
         "orientation": "v",
         "showlegend": true,
         "type": "scatter",
         "x": [
          6735.514265390299
         ],
         "xaxis": "x",
         "y": [
          72.3
         ],
         "yaxis": "y"
        },
        {
         "hovertemplate": "Entity=Samoa<br>GDPperCapita=%{x}<br>Life expectancy=%{y}<extra></extra>",
         "legendgroup": "Samoa",
         "marker": {
          "color": "#ab63fa",
          "symbol": "circle"
         },
         "mode": "markers",
         "name": "Samoa",
         "orientation": "v",
         "showlegend": true,
         "type": "scatter",
         "x": [
          3879.45020875761
         ],
         "xaxis": "x",
         "y": [
          73.046
         ],
         "yaxis": "y"
        },
        {
         "hovertemplate": "Entity=San Marino<br>GDPperCapita=%{x}<br>Life expectancy=%{y}<extra></extra>",
         "legendgroup": "San Marino",
         "marker": {
          "color": "#FFA15A",
          "symbol": "circle"
         },
         "mode": "markers",
         "name": "San Marino",
         "orientation": "v",
         "showlegend": true,
         "type": "scatter",
         "x": [
          51998.1805325606
         ],
         "xaxis": "x",
         "y": [
          84.699
         ],
         "yaxis": "y"
        },
        {
         "hovertemplate": "Entity=Sao Tome and Principe<br>GDPperCapita=%{x}<br>Life expectancy=%{y}<extra></extra>",
         "legendgroup": "Sao Tome and Principe",
         "marker": {
          "color": "#19d3f3",
          "symbol": "circle"
         },
         "mode": "markers",
         "name": "Sao Tome and Principe",
         "orientation": "v",
         "showlegend": true,
         "type": "scatter",
         "x": [
          1288.762361476111
         ],
         "xaxis": "x",
         "y": [
          69.933
         ],
         "yaxis": "y"
        },
        {
         "hovertemplate": "Entity=Saudi Arabia<br>GDPperCapita=%{x}<br>Life expectancy=%{y}<extra></extra>",
         "legendgroup": "Saudi Arabia",
         "marker": {
          "color": "#FF6692",
          "symbol": "circle"
         },
         "mode": "markers",
         "name": "Saudi Arabia",
         "orientation": "v",
         "showlegend": true,
         "type": "scatter",
         "x": [
          20694.04549711489
         ],
         "xaxis": "x",
         "y": [
          74.874
         ],
         "yaxis": "y"
        },
        {
         "hovertemplate": "Entity=Senegal<br>GDPperCapita=%{x}<br>Life expectancy=%{y}<extra></extra>",
         "legendgroup": "Senegal",
         "marker": {
          "color": "#B6E880",
          "symbol": "circle"
         },
         "mode": "markers",
         "name": "Senegal",
         "orientation": "v",
         "showlegend": true,
         "type": "scatter",
         "x": [
          1165.824407244004
         ],
         "xaxis": "x",
         "y": [
          67.38
         ],
         "yaxis": "y"
        },
        {
         "hovertemplate": "Entity=Serbia<br>GDPperCapita=%{x}<br>Life expectancy=%{y}<extra></extra>",
         "legendgroup": "Serbia",
         "marker": {
          "color": "#FF97FF",
          "symbol": "circle"
         },
         "mode": "markers",
         "name": "Serbia",
         "orientation": "v",
         "showlegend": true,
         "type": "scatter",
         "x": [
          4765.5051662726055
         ],
         "xaxis": "x",
         "y": [
          75.684
         ],
         "yaxis": "y"
        },
        {
         "hovertemplate": "Entity=Seychelles<br>GDPperCapita=%{x}<br>Life expectancy=%{y}<extra></extra>",
         "legendgroup": "Seychelles",
         "marker": {
          "color": "#FECB52",
          "symbol": "circle"
         },
         "mode": "markers",
         "name": "Seychelles",
         "orientation": "v",
         "showlegend": true,
         "type": "scatter",
         "x": [
          13974.193431753958
         ],
         "xaxis": "x",
         "y": [
          73.276
         ],
         "yaxis": "y"
        },
        {
         "hovertemplate": "Entity=Sierra Leone<br>GDPperCapita=%{x}<br>Life expectancy=%{y}<extra></extra>",
         "legendgroup": "Sierra Leone",
         "marker": {
          "color": "#636efa",
          "symbol": "circle"
         },
         "mode": "markers",
         "name": "Sierra Leone",
         "orientation": "v",
         "showlegend": true,
         "type": "scatter",
         "x": [
          466.7321194998571
         ],
         "xaxis": "x",
         "y": [
          53.895
         ],
         "yaxis": "y"
        },
        {
         "hovertemplate": "Entity=Singapore<br>GDPperCapita=%{x}<br>Life expectancy=%{y}<extra></extra>",
         "legendgroup": "Singapore",
         "marker": {
          "color": "#EF553B",
          "symbol": "circle"
         },
         "mode": "markers",
         "name": "Singapore",
         "orientation": "v",
         "showlegend": true,
         "type": "scatter",
         "x": [
          54308.982638511385
         ],
         "xaxis": "x",
         "y": [
          83.279
         ],
         "yaxis": "y"
        },
        {
         "hovertemplate": "Entity=Slovakia<br>GDPperCapita=%{x}<br>Life expectancy=%{y}<extra></extra>",
         "legendgroup": "Slovakia",
         "marker": {
          "color": "#00cc96",
          "symbol": "circle"
         },
         "mode": "markers",
         "name": "Slovakia",
         "orientation": "v",
         "showlegend": true,
         "type": "scatter",
         "x": [
          19867.541517165013
         ],
         "xaxis": "x",
         "y": [
          77.219
         ],
         "yaxis": "y"
        },
        {
         "hovertemplate": "Entity=Slovenia<br>GDPperCapita=%{x}<br>Life expectancy=%{y}<extra></extra>",
         "legendgroup": "Slovenia",
         "marker": {
          "color": "#ab63fa",
          "symbol": "circle"
         },
         "mode": "markers",
         "name": "Slovenia",
         "orientation": "v",
         "showlegend": true,
         "type": "scatter",
         "x": [
          25548.04657953998
         ],
         "xaxis": "x",
         "y": [
          81.016
         ],
         "yaxis": "y"
        },
        {
         "hovertemplate": "Entity=Solomon Islands<br>GDPperCapita=%{x}<br>Life expectancy=%{y}<extra></extra>",
         "legendgroup": "Solomon Islands",
         "marker": {
          "color": "#FFA15A",
          "symbol": "circle"
         },
         "mode": "markers",
         "name": "Solomon Islands",
         "orientation": "v",
         "showlegend": true,
         "type": "scatter",
         "x": [
          1462.315444722118
         ],
         "xaxis": "x",
         "y": [
          72.645
         ],
         "yaxis": "y"
        },
        {
         "hovertemplate": "Entity=South Africa<br>GDPperCapita=%{x}<br>Life expectancy=%{y}<extra></extra>",
         "legendgroup": "South Africa",
         "marker": {
          "color": "#19d3f3",
          "symbol": "circle"
         },
         "mode": "markers",
         "name": "South Africa",
         "orientation": "v",
         "showlegend": true,
         "type": "scatter",
         "x": [
          7485.8599310439395
         ],
         "xaxis": "x",
         "y": [
          63.538
         ],
         "yaxis": "y"
        },
        {
         "hovertemplate": "Entity=South Korea<br>GDPperCapita=%{x}<br>Life expectancy=%{y}<extra></extra>",
         "legendgroup": "South Korea",
         "marker": {
          "color": "#FF6692",
          "symbol": "circle"
         },
         "mode": "markers",
         "name": "South Korea",
         "orientation": "v",
         "showlegend": true,
         "type": "scatter",
         "x": [
          26341.50760170933
         ],
         "xaxis": "x",
         "y": [
          82.628
         ],
         "yaxis": "y"
        },
        {
         "hovertemplate": "Entity=Spain<br>GDPperCapita=%{x}<br>Life expectancy=%{y}<extra></extra>",
         "legendgroup": "Spain",
         "marker": {
          "color": "#B6E880",
          "symbol": "circle"
         },
         "mode": "markers",
         "name": "Spain",
         "orientation": "v",
         "showlegend": true,
         "type": "scatter",
         "x": [
          32353.667637547966
         ],
         "xaxis": "x",
         "y": [
          83.294
         ],
         "yaxis": "y"
        },
        {
         "hovertemplate": "Entity=Sri Lanka<br>GDPperCapita=%{x}<br>Life expectancy=%{y}<extra></extra>",
         "legendgroup": "Sri Lanka",
         "marker": {
          "color": "#FF97FF",
          "symbol": "circle"
         },
         "mode": "markers",
         "name": "Sri Lanka",
         "orientation": "v",
         "showlegend": true,
         "type": "scatter",
         "x": [
          3899.7631299049885
         ],
         "xaxis": "x",
         "y": [
          76.648
         ],
         "yaxis": "y"
        },
        {
         "hovertemplate": "Entity=Sudan<br>GDPperCapita=%{x}<br>Life expectancy=%{y}<extra></extra>",
         "legendgroup": "Sudan",
         "marker": {
          "color": "#FECB52",
          "symbol": "circle"
         },
         "mode": "markers",
         "name": "Sudan",
         "orientation": "v",
         "showlegend": true,
         "type": "scatter",
         "x": [
          1945.7284749482765
         ],
         "xaxis": "x",
         "y": [
          64.881
         ],
         "yaxis": "y"
        },
        {
         "hovertemplate": "Entity=Suriname<br>GDPperCapita=%{x}<br>Life expectancy=%{y}<extra></extra>",
         "legendgroup": "Suriname",
         "marker": {
          "color": "#636efa",
          "symbol": "circle"
         },
         "mode": "markers",
         "name": "Suriname",
         "orientation": "v",
         "showlegend": true,
         "type": "scatter",
         "x": [
          7936.431957189545
         ],
         "xaxis": "x",
         "y": [
          71.463
         ],
         "yaxis": "y"
        },
        {
         "hovertemplate": "Entity=Sweden<br>GDPperCapita=%{x}<br>Life expectancy=%{y}<extra></extra>",
         "legendgroup": "Sweden",
         "marker": {
          "color": "#EF553B",
          "symbol": "circle"
         },
         "mode": "markers",
         "name": "Sweden",
         "orientation": "v",
         "showlegend": true,
         "type": "scatter",
         "x": [
          57870.66129200807
         ],
         "xaxis": "x",
         "y": [
          82.516
         ],
         "yaxis": "y"
        },
        {
         "hovertemplate": "Entity=Switzerland<br>GDPperCapita=%{x}<br>Life expectancy=%{y}<extra></extra>",
         "legendgroup": "Switzerland",
         "marker": {
          "color": "#00cc96",
          "symbol": "circle"
         },
         "mode": "markers",
         "name": "Switzerland",
         "orientation": "v",
         "showlegend": true,
         "type": "scatter",
         "x": [
          76758.26449703275
         ],
         "xaxis": "x",
         "y": [
          83.473
         ],
         "yaxis": "y"
        },
        {
         "hovertemplate": "Entity=Tajikistan<br>GDPperCapita=%{x}<br>Life expectancy=%{y}<extra></extra>",
         "legendgroup": "Tajikistan",
         "marker": {
          "color": "#ab63fa",
          "symbol": "circle"
         },
         "mode": "markers",
         "name": "Tajikistan",
         "orientation": "v",
         "showlegend": true,
         "type": "scatter",
         "x": [
          1020.1999665853256
         ],
         "xaxis": "x",
         "y": [
          70.647
         ],
         "yaxis": "y"
        },
        {
         "hovertemplate": "Entity=Tanzania<br>GDPperCapita=%{x}<br>Life expectancy=%{y}<extra></extra>",
         "legendgroup": "Tanzania",
         "marker": {
          "color": "#FFA15A",
          "symbol": "circle"
         },
         "mode": "markers",
         "name": "Tanzania",
         "orientation": "v",
         "showlegend": true,
         "type": "scatter",
         "x": [
          916.5431662911818
         ],
         "xaxis": "x",
         "y": [
          64.479
         ],
         "yaxis": "y"
        },
        {
         "hovertemplate": "Entity=Thailand<br>GDPperCapita=%{x}<br>Life expectancy=%{y}<extra></extra>",
         "legendgroup": "Thailand",
         "marker": {
          "color": "#19d3f3",
          "symbol": "circle"
         },
         "mode": "markers",
         "name": "Thailand",
         "orientation": "v",
         "showlegend": true,
         "type": "scatter",
         "x": [
          6110.393755646091
         ],
         "xaxis": "x",
         "y": [
          76.683
         ],
         "yaxis": "y"
        },
        {
         "hovertemplate": "Entity=Timor<br>GDPperCapita=%{x}<br>Life expectancy=%{y}<extra></extra>",
         "legendgroup": "Timor",
         "marker": {
          "color": "#FF6692",
          "symbol": "circle"
         },
         "mode": "markers",
         "name": "Timor",
         "orientation": "v",
         "showlegend": true,
         "type": "scatter",
         "x": [
          2786.7006105681335
         ],
         "xaxis": "x",
         "y": [
          69.007
         ],
         "yaxis": "y"
        },
        {
         "hovertemplate": "Entity=Togo<br>GDPperCapita=%{x}<br>Life expectancy=%{y}<extra></extra>",
         "legendgroup": "Togo",
         "marker": {
          "color": "#B6E880",
          "symbol": "circle"
         },
         "mode": "markers",
         "name": "Togo",
         "orientation": "v",
         "showlegend": true,
         "type": "scatter",
         "x": [
          584.8597238590712
         ],
         "xaxis": "x",
         "y": [
          60.489
         ],
         "yaxis": "y"
        },
        {
         "hovertemplate": "Entity=Tonga<br>GDPperCapita=%{x}<br>Life expectancy=%{y}<extra></extra>",
         "legendgroup": "Tonga",
         "marker": {
          "color": "#FF97FF",
          "symbol": "circle"
         },
         "mode": "markers",
         "name": "Tonga",
         "orientation": "v",
         "showlegend": true,
         "type": "scatter",
         "x": [
          4090.2561115260783
         ],
         "xaxis": "x",
         "y": [
          70.701
         ],
         "yaxis": "y"
        },
        {
         "hovertemplate": "Entity=Trinidad and Tobago<br>GDPperCapita=%{x}<br>Life expectancy=%{y}<extra></extra>",
         "legendgroup": "Trinidad and Tobago",
         "marker": {
          "color": "#FECB52",
          "symbol": "circle"
         },
         "mode": "markers",
         "name": "Trinidad and Tobago",
         "orientation": "v",
         "showlegend": true,
         "type": "scatter",
         "x": [
          15185.862214853612
         ],
         "xaxis": "x",
         "y": [
          73.245
         ],
         "yaxis": "y"
        },
        {
         "hovertemplate": "Entity=Tunisia<br>GDPperCapita=%{x}<br>Life expectancy=%{y}<extra></extra>",
         "legendgroup": "Tunisia",
         "marker": {
          "color": "#636efa",
          "symbol": "circle"
         },
         "mode": "markers",
         "name": "Tunisia",
         "orientation": "v",
         "showlegend": true,
         "type": "scatter",
         "x": [
          4341.280063602292
         ],
         "xaxis": "x",
         "y": [
          76.31
         ],
         "yaxis": "y"
        },
        {
         "hovertemplate": "Entity=Turkey<br>GDPperCapita=%{x}<br>Life expectancy=%{y}<extra></extra>",
         "legendgroup": "Turkey",
         "marker": {
          "color": "#EF553B",
          "symbol": "circle"
         },
         "mode": "markers",
         "name": "Turkey",
         "orientation": "v",
         "showlegend": true,
         "type": "scatter",
         "x": [
          14864.968662745698
         ],
         "xaxis": "x",
         "y": [
          77.161
         ],
         "yaxis": "y"
        },
        {
         "hovertemplate": "Entity=Turkmenistan<br>GDPperCapita=%{x}<br>Life expectancy=%{y}<extra></extra>",
         "legendgroup": "Turkmenistan",
         "marker": {
          "color": "#00cc96",
          "symbol": "circle"
         },
         "mode": "markers",
         "name": "Turkmenistan",
         "orientation": "v",
         "showlegend": true,
         "type": "scatter",
         "x": [
          7317.644819810507
         ],
         "xaxis": "x",
         "y": [
          67.956
         ],
         "yaxis": "y"
        },
        {
         "hovertemplate": "Entity=Tuvalu<br>GDPperCapita=%{x}<br>Life expectancy=%{y}<extra></extra>",
         "legendgroup": "Tuvalu",
         "marker": {
          "color": "#ab63fa",
          "symbol": "circle"
         },
         "mode": "markers",
         "name": "Tuvalu",
         "orientation": "v",
         "showlegend": true,
         "type": "scatter",
         "x": [
          3680.6712693304994
         ],
         "xaxis": "x",
         "y": [
          67.089
         ],
         "yaxis": "y"
        },
        {
         "hovertemplate": "Entity=Uganda<br>GDPperCapita=%{x}<br>Life expectancy=%{y}<extra></extra>",
         "legendgroup": "Uganda",
         "marker": {
          "color": "#FFA15A",
          "symbol": "circle"
         },
         "mode": "markers",
         "name": "Uganda",
         "orientation": "v",
         "showlegend": true,
         "type": "scatter",
         "x": [
          694.0680136942867
         ],
         "xaxis": "x",
         "y": [
          62.516
         ],
         "yaxis": "y"
        },
        {
         "hovertemplate": "Entity=Ukraine<br>GDPperCapita=%{x}<br>Life expectancy=%{y}<extra></extra>",
         "legendgroup": "Ukraine",
         "marker": {
          "color": "#19d3f3",
          "symbol": "circle"
         },
         "mode": "markers",
         "name": "Ukraine",
         "orientation": "v",
         "showlegend": true,
         "type": "scatter",
         "x": [
          2856.967863917371
         ],
         "xaxis": "x",
         "y": [
          71.84
         ],
         "yaxis": "y"
        },
        {
         "hovertemplate": "Entity=United Arab Emirates<br>GDPperCapita=%{x}<br>Life expectancy=%{y}<extra></extra>",
         "legendgroup": "United Arab Emirates",
         "marker": {
          "color": "#FF6692",
          "symbol": "circle"
         },
         "mode": "markers",
         "name": "United Arab Emirates",
         "orientation": "v",
         "showlegend": true,
         "type": "scatter",
         "x": [
          40820.002119628756
         ],
         "xaxis": "x",
         "y": [
          77.647
         ],
         "yaxis": "y"
        },
        {
         "hovertemplate": "Entity=United Kingdom<br>GDPperCapita=%{x}<br>Life expectancy=%{y}<extra></extra>",
         "legendgroup": "United Kingdom",
         "marker": {
          "color": "#B6E880",
          "symbol": "circle"
         },
         "mode": "markers",
         "name": "United Kingdom",
         "orientation": "v",
         "showlegend": true,
         "type": "scatter",
         "x": [
          42065.47719657815
         ],
         "xaxis": "x",
         "y": [
          81.168
         ],
         "yaxis": "y"
        },
        {
         "hovertemplate": "Entity=United States<br>GDPperCapita=%{x}<br>Life expectancy=%{y}<extra></extra>",
         "legendgroup": "United States",
         "marker": {
          "color": "#FF97FF",
          "symbol": "circle"
         },
         "mode": "markers",
         "name": "United States",
         "orientation": "v",
         "showlegend": true,
         "type": "scatter",
         "x": [
          53232.18452176347
         ],
         "xaxis": "x",
         "y": [
          78.861
         ],
         "yaxis": "y"
        },
        {
         "hovertemplate": "Entity=Uruguay<br>GDPperCapita=%{x}<br>Life expectancy=%{y}<extra></extra>",
         "legendgroup": "Uruguay",
         "marker": {
          "color": "#FECB52",
          "symbol": "circle"
         },
         "mode": "markers",
         "name": "Uruguay",
         "orientation": "v",
         "showlegend": true,
         "type": "scatter",
         "x": [
          14445.09266111056
         ],
         "xaxis": "x",
         "y": [
          77.632
         ],
         "yaxis": "y"
        },
        {
         "hovertemplate": "Entity=Uzbekistan<br>GDPperCapita=%{x}<br>Life expectancy=%{y}<extra></extra>",
         "legendgroup": "Uzbekistan",
         "marker": {
          "color": "#636efa",
          "symbol": "circle"
         },
         "mode": "markers",
         "name": "Uzbekistan",
         "orientation": "v",
         "showlegend": true,
         "type": "scatter",
         "x": [
          2058.1961771873657
         ],
         "xaxis": "x",
         "y": [
          71.388
         ],
         "yaxis": "y"
        },
        {
         "hovertemplate": "Entity=Vanuatu<br>GDPperCapita=%{x}<br>Life expectancy=%{y}<extra></extra>",
         "legendgroup": "Vanuatu",
         "marker": {
          "color": "#EF553B",
          "symbol": "circle"
         },
         "mode": "markers",
         "name": "Vanuatu",
         "orientation": "v",
         "showlegend": true,
         "type": "scatter",
         "x": [
          2849.2103791819964
         ],
         "xaxis": "x",
         "y": [
          70.172
         ],
         "yaxis": "y"
        },
        {
         "hovertemplate": "Entity=Vietnam<br>GDPperCapita=%{x}<br>Life expectancy=%{y}<extra></extra>",
         "legendgroup": "Vietnam",
         "marker": {
          "color": "#00cc96",
          "symbol": "circle"
         },
         "mode": "markers",
         "name": "Vietnam",
         "orientation": "v",
         "showlegend": true,
         "type": "scatter",
         "x": [
          1852.8776765697721
         ],
         "xaxis": "x",
         "y": [
          75.241
         ],
         "yaxis": "y"
        },
        {
         "hovertemplate": "Entity=Zambia<br>GDPperCapita=%{x}<br>Life expectancy=%{y}<extra></extra>",
         "legendgroup": "Zambia",
         "marker": {
          "color": "#ab63fa",
          "symbol": "circle"
         },
         "mode": "markers",
         "name": "Zambia",
         "orientation": "v",
         "showlegend": true,
         "type": "scatter",
         "x": [
          1669.5975269283852
         ],
         "xaxis": "x",
         "y": [
          63.043
         ],
         "yaxis": "y"
        },
        {
         "hovertemplate": "Entity=Zimbabwe<br>GDPperCapita=%{x}<br>Life expectancy=%{y}<extra></extra>",
         "legendgroup": "Zimbabwe",
         "marker": {
          "color": "#FFA15A",
          "symbol": "circle"
         },
         "mode": "markers",
         "name": "Zimbabwe",
         "orientation": "v",
         "showlegend": true,
         "type": "scatter",
         "x": [
          1076.7585014988622
         ],
         "xaxis": "x",
         "y": [
          60.812
         ],
         "yaxis": "y"
        }
       ],
       "layout": {
        "legend": {
         "title": {
          "text": "Entity"
         },
         "tracegroupgap": 0
        },
        "margin": {
         "t": 60
        },
        "template": {
         "data": {
          "bar": [
           {
            "error_x": {
             "color": "#2a3f5f"
            },
            "error_y": {
             "color": "#2a3f5f"
            },
            "marker": {
             "line": {
              "color": "#E5ECF6",
              "width": 0.5
             },
             "pattern": {
              "fillmode": "overlay",
              "size": 10,
              "solidity": 0.2
             }
            },
            "type": "bar"
           }
          ],
          "barpolar": [
           {
            "marker": {
             "line": {
              "color": "#E5ECF6",
              "width": 0.5
             },
             "pattern": {
              "fillmode": "overlay",
              "size": 10,
              "solidity": 0.2
             }
            },
            "type": "barpolar"
           }
          ],
          "carpet": [
           {
            "aaxis": {
             "endlinecolor": "#2a3f5f",
             "gridcolor": "white",
             "linecolor": "white",
             "minorgridcolor": "white",
             "startlinecolor": "#2a3f5f"
            },
            "baxis": {
             "endlinecolor": "#2a3f5f",
             "gridcolor": "white",
             "linecolor": "white",
             "minorgridcolor": "white",
             "startlinecolor": "#2a3f5f"
            },
            "type": "carpet"
           }
          ],
          "choropleth": [
           {
            "colorbar": {
             "outlinewidth": 0,
             "ticks": ""
            },
            "type": "choropleth"
           }
          ],
          "contour": [
           {
            "colorbar": {
             "outlinewidth": 0,
             "ticks": ""
            },
            "colorscale": [
             [
              0,
              "#0d0887"
             ],
             [
              0.1111111111111111,
              "#46039f"
             ],
             [
              0.2222222222222222,
              "#7201a8"
             ],
             [
              0.3333333333333333,
              "#9c179e"
             ],
             [
              0.4444444444444444,
              "#bd3786"
             ],
             [
              0.5555555555555556,
              "#d8576b"
             ],
             [
              0.6666666666666666,
              "#ed7953"
             ],
             [
              0.7777777777777778,
              "#fb9f3a"
             ],
             [
              0.8888888888888888,
              "#fdca26"
             ],
             [
              1,
              "#f0f921"
             ]
            ],
            "type": "contour"
           }
          ],
          "contourcarpet": [
           {
            "colorbar": {
             "outlinewidth": 0,
             "ticks": ""
            },
            "type": "contourcarpet"
           }
          ],
          "heatmap": [
           {
            "colorbar": {
             "outlinewidth": 0,
             "ticks": ""
            },
            "colorscale": [
             [
              0,
              "#0d0887"
             ],
             [
              0.1111111111111111,
              "#46039f"
             ],
             [
              0.2222222222222222,
              "#7201a8"
             ],
             [
              0.3333333333333333,
              "#9c179e"
             ],
             [
              0.4444444444444444,
              "#bd3786"
             ],
             [
              0.5555555555555556,
              "#d8576b"
             ],
             [
              0.6666666666666666,
              "#ed7953"
             ],
             [
              0.7777777777777778,
              "#fb9f3a"
             ],
             [
              0.8888888888888888,
              "#fdca26"
             ],
             [
              1,
              "#f0f921"
             ]
            ],
            "type": "heatmap"
           }
          ],
          "heatmapgl": [
           {
            "colorbar": {
             "outlinewidth": 0,
             "ticks": ""
            },
            "colorscale": [
             [
              0,
              "#0d0887"
             ],
             [
              0.1111111111111111,
              "#46039f"
             ],
             [
              0.2222222222222222,
              "#7201a8"
             ],
             [
              0.3333333333333333,
              "#9c179e"
             ],
             [
              0.4444444444444444,
              "#bd3786"
             ],
             [
              0.5555555555555556,
              "#d8576b"
             ],
             [
              0.6666666666666666,
              "#ed7953"
             ],
             [
              0.7777777777777778,
              "#fb9f3a"
             ],
             [
              0.8888888888888888,
              "#fdca26"
             ],
             [
              1,
              "#f0f921"
             ]
            ],
            "type": "heatmapgl"
           }
          ],
          "histogram": [
           {
            "marker": {
             "pattern": {
              "fillmode": "overlay",
              "size": 10,
              "solidity": 0.2
             }
            },
            "type": "histogram"
           }
          ],
          "histogram2d": [
           {
            "colorbar": {
             "outlinewidth": 0,
             "ticks": ""
            },
            "colorscale": [
             [
              0,
              "#0d0887"
             ],
             [
              0.1111111111111111,
              "#46039f"
             ],
             [
              0.2222222222222222,
              "#7201a8"
             ],
             [
              0.3333333333333333,
              "#9c179e"
             ],
             [
              0.4444444444444444,
              "#bd3786"
             ],
             [
              0.5555555555555556,
              "#d8576b"
             ],
             [
              0.6666666666666666,
              "#ed7953"
             ],
             [
              0.7777777777777778,
              "#fb9f3a"
             ],
             [
              0.8888888888888888,
              "#fdca26"
             ],
             [
              1,
              "#f0f921"
             ]
            ],
            "type": "histogram2d"
           }
          ],
          "histogram2dcontour": [
           {
            "colorbar": {
             "outlinewidth": 0,
             "ticks": ""
            },
            "colorscale": [
             [
              0,
              "#0d0887"
             ],
             [
              0.1111111111111111,
              "#46039f"
             ],
             [
              0.2222222222222222,
              "#7201a8"
             ],
             [
              0.3333333333333333,
              "#9c179e"
             ],
             [
              0.4444444444444444,
              "#bd3786"
             ],
             [
              0.5555555555555556,
              "#d8576b"
             ],
             [
              0.6666666666666666,
              "#ed7953"
             ],
             [
              0.7777777777777778,
              "#fb9f3a"
             ],
             [
              0.8888888888888888,
              "#fdca26"
             ],
             [
              1,
              "#f0f921"
             ]
            ],
            "type": "histogram2dcontour"
           }
          ],
          "mesh3d": [
           {
            "colorbar": {
             "outlinewidth": 0,
             "ticks": ""
            },
            "type": "mesh3d"
           }
          ],
          "parcoords": [
           {
            "line": {
             "colorbar": {
              "outlinewidth": 0,
              "ticks": ""
             }
            },
            "type": "parcoords"
           }
          ],
          "pie": [
           {
            "automargin": true,
            "type": "pie"
           }
          ],
          "scatter": [
           {
            "fillpattern": {
             "fillmode": "overlay",
             "size": 10,
             "solidity": 0.2
            },
            "type": "scatter"
           }
          ],
          "scatter3d": [
           {
            "line": {
             "colorbar": {
              "outlinewidth": 0,
              "ticks": ""
             }
            },
            "marker": {
             "colorbar": {
              "outlinewidth": 0,
              "ticks": ""
             }
            },
            "type": "scatter3d"
           }
          ],
          "scattercarpet": [
           {
            "marker": {
             "colorbar": {
              "outlinewidth": 0,
              "ticks": ""
             }
            },
            "type": "scattercarpet"
           }
          ],
          "scattergeo": [
           {
            "marker": {
             "colorbar": {
              "outlinewidth": 0,
              "ticks": ""
             }
            },
            "type": "scattergeo"
           }
          ],
          "scattergl": [
           {
            "marker": {
             "colorbar": {
              "outlinewidth": 0,
              "ticks": ""
             }
            },
            "type": "scattergl"
           }
          ],
          "scattermapbox": [
           {
            "marker": {
             "colorbar": {
              "outlinewidth": 0,
              "ticks": ""
             }
            },
            "type": "scattermapbox"
           }
          ],
          "scatterpolar": [
           {
            "marker": {
             "colorbar": {
              "outlinewidth": 0,
              "ticks": ""
             }
            },
            "type": "scatterpolar"
           }
          ],
          "scatterpolargl": [
           {
            "marker": {
             "colorbar": {
              "outlinewidth": 0,
              "ticks": ""
             }
            },
            "type": "scatterpolargl"
           }
          ],
          "scatterternary": [
           {
            "marker": {
             "colorbar": {
              "outlinewidth": 0,
              "ticks": ""
             }
            },
            "type": "scatterternary"
           }
          ],
          "surface": [
           {
            "colorbar": {
             "outlinewidth": 0,
             "ticks": ""
            },
            "colorscale": [
             [
              0,
              "#0d0887"
             ],
             [
              0.1111111111111111,
              "#46039f"
             ],
             [
              0.2222222222222222,
              "#7201a8"
             ],
             [
              0.3333333333333333,
              "#9c179e"
             ],
             [
              0.4444444444444444,
              "#bd3786"
             ],
             [
              0.5555555555555556,
              "#d8576b"
             ],
             [
              0.6666666666666666,
              "#ed7953"
             ],
             [
              0.7777777777777778,
              "#fb9f3a"
             ],
             [
              0.8888888888888888,
              "#fdca26"
             ],
             [
              1,
              "#f0f921"
             ]
            ],
            "type": "surface"
           }
          ],
          "table": [
           {
            "cells": {
             "fill": {
              "color": "#EBF0F8"
             },
             "line": {
              "color": "white"
             }
            },
            "header": {
             "fill": {
              "color": "#C8D4E3"
             },
             "line": {
              "color": "white"
             }
            },
            "type": "table"
           }
          ]
         },
         "layout": {
          "annotationdefaults": {
           "arrowcolor": "#2a3f5f",
           "arrowhead": 0,
           "arrowwidth": 1
          },
          "autotypenumbers": "strict",
          "coloraxis": {
           "colorbar": {
            "outlinewidth": 0,
            "ticks": ""
           }
          },
          "colorscale": {
           "diverging": [
            [
             0,
             "#8e0152"
            ],
            [
             0.1,
             "#c51b7d"
            ],
            [
             0.2,
             "#de77ae"
            ],
            [
             0.3,
             "#f1b6da"
            ],
            [
             0.4,
             "#fde0ef"
            ],
            [
             0.5,
             "#f7f7f7"
            ],
            [
             0.6,
             "#e6f5d0"
            ],
            [
             0.7,
             "#b8e186"
            ],
            [
             0.8,
             "#7fbc41"
            ],
            [
             0.9,
             "#4d9221"
            ],
            [
             1,
             "#276419"
            ]
           ],
           "sequential": [
            [
             0,
             "#0d0887"
            ],
            [
             0.1111111111111111,
             "#46039f"
            ],
            [
             0.2222222222222222,
             "#7201a8"
            ],
            [
             0.3333333333333333,
             "#9c179e"
            ],
            [
             0.4444444444444444,
             "#bd3786"
            ],
            [
             0.5555555555555556,
             "#d8576b"
            ],
            [
             0.6666666666666666,
             "#ed7953"
            ],
            [
             0.7777777777777778,
             "#fb9f3a"
            ],
            [
             0.8888888888888888,
             "#fdca26"
            ],
            [
             1,
             "#f0f921"
            ]
           ],
           "sequentialminus": [
            [
             0,
             "#0d0887"
            ],
            [
             0.1111111111111111,
             "#46039f"
            ],
            [
             0.2222222222222222,
             "#7201a8"
            ],
            [
             0.3333333333333333,
             "#9c179e"
            ],
            [
             0.4444444444444444,
             "#bd3786"
            ],
            [
             0.5555555555555556,
             "#d8576b"
            ],
            [
             0.6666666666666666,
             "#ed7953"
            ],
            [
             0.7777777777777778,
             "#fb9f3a"
            ],
            [
             0.8888888888888888,
             "#fdca26"
            ],
            [
             1,
             "#f0f921"
            ]
           ]
          },
          "colorway": [
           "#636efa",
           "#EF553B",
           "#00cc96",
           "#ab63fa",
           "#FFA15A",
           "#19d3f3",
           "#FF6692",
           "#B6E880",
           "#FF97FF",
           "#FECB52"
          ],
          "font": {
           "color": "#2a3f5f"
          },
          "geo": {
           "bgcolor": "white",
           "lakecolor": "white",
           "landcolor": "#E5ECF6",
           "showlakes": true,
           "showland": true,
           "subunitcolor": "white"
          },
          "hoverlabel": {
           "align": "left"
          },
          "hovermode": "closest",
          "mapbox": {
           "style": "light"
          },
          "paper_bgcolor": "white",
          "plot_bgcolor": "#E5ECF6",
          "polar": {
           "angularaxis": {
            "gridcolor": "white",
            "linecolor": "white",
            "ticks": ""
           },
           "bgcolor": "#E5ECF6",
           "radialaxis": {
            "gridcolor": "white",
            "linecolor": "white",
            "ticks": ""
           }
          },
          "scene": {
           "xaxis": {
            "backgroundcolor": "#E5ECF6",
            "gridcolor": "white",
            "gridwidth": 2,
            "linecolor": "white",
            "showbackground": true,
            "ticks": "",
            "zerolinecolor": "white"
           },
           "yaxis": {
            "backgroundcolor": "#E5ECF6",
            "gridcolor": "white",
            "gridwidth": 2,
            "linecolor": "white",
            "showbackground": true,
            "ticks": "",
            "zerolinecolor": "white"
           },
           "zaxis": {
            "backgroundcolor": "#E5ECF6",
            "gridcolor": "white",
            "gridwidth": 2,
            "linecolor": "white",
            "showbackground": true,
            "ticks": "",
            "zerolinecolor": "white"
           }
          },
          "shapedefaults": {
           "line": {
            "color": "#2a3f5f"
           }
          },
          "ternary": {
           "aaxis": {
            "gridcolor": "white",
            "linecolor": "white",
            "ticks": ""
           },
           "baxis": {
            "gridcolor": "white",
            "linecolor": "white",
            "ticks": ""
           },
           "bgcolor": "#E5ECF6",
           "caxis": {
            "gridcolor": "white",
            "linecolor": "white",
            "ticks": ""
           }
          },
          "title": {
           "x": 0.05
          },
          "xaxis": {
           "automargin": true,
           "gridcolor": "white",
           "linecolor": "white",
           "ticks": "",
           "title": {
            "standoff": 15
           },
           "zerolinecolor": "white",
           "zerolinewidth": 2
          },
          "yaxis": {
           "automargin": true,
           "gridcolor": "white",
           "linecolor": "white",
           "ticks": "",
           "title": {
            "standoff": 15
           },
           "zerolinecolor": "white",
           "zerolinewidth": 2
          }
         }
        },
        "xaxis": {
         "anchor": "y",
         "domain": [
          0,
          1
         ],
         "title": {
          "text": "GDPperCapita"
         },
         "type": "log"
        },
        "yaxis": {
         "anchor": "x",
         "domain": [
          0,
          1
         ],
         "title": {
          "text": "Life expectancy"
         }
        }
       }
      },
      "text/html": [
       "<div>                            <div id=\"721975d0-9b94-4bf6-88c1-19df4d2d465f\" class=\"plotly-graph-div\" style=\"height:525px; width:100%;\"></div>            <script type=\"text/javascript\">                require([\"plotly\"], function(Plotly) {                    window.PLOTLYENV=window.PLOTLYENV || {};                                    if (document.getElementById(\"721975d0-9b94-4bf6-88c1-19df4d2d465f\")) {                    Plotly.newPlot(                        \"721975d0-9b94-4bf6-88c1-19df4d2d465f\",                        [{\"hovertemplate\":\"Entity=Afghanistan\\u003cbr\\u003eGDPperCapita=%{x}\\u003cbr\\u003eLife expectancy=%{y}\\u003cextra\\u003e\\u003c\\u002fextra\\u003e\",\"legendgroup\":\"Afghanistan\",\"marker\":{\"color\":\"#636efa\",\"symbol\":\"circle\"},\"mode\":\"markers\",\"name\":\"Afghanistan\",\"orientation\":\"v\",\"showlegend\":true,\"x\":[605.2847176666327],\"xaxis\":\"x\",\"y\":[64.13],\"yaxis\":\"y\",\"type\":\"scatter\"},{\"hovertemplate\":\"Entity=Albania\\u003cbr\\u003eGDPperCapita=%{x}\\u003cbr\\u003eLife expectancy=%{y}\\u003cextra\\u003e\\u003c\\u002fextra\\u003e\",\"legendgroup\":\"Albania\",\"marker\":{\"color\":\"#EF553B\",\"symbol\":\"circle\"},\"mode\":\"markers\",\"name\":\"Albania\",\"orientation\":\"v\",\"showlegend\":true,\"x\":[4850.400742998023],\"xaxis\":\"x\",\"y\":[78.333],\"yaxis\":\"y\",\"type\":\"scatter\"},{\"hovertemplate\":\"Entity=Algeria\\u003cbr\\u003eGDPperCapita=%{x}\\u003cbr\\u003eLife expectancy=%{y}\\u003cextra\\u003e\\u003c\\u002fextra\\u003e\",\"legendgroup\":\"Algeria\",\"marker\":{\"color\":\"#00cc96\",\"symbol\":\"circle\"},\"mode\":\"markers\",\"name\":\"Algeria\",\"orientation\":\"v\",\"showlegend\":true,\"x\":[4816.917875943996],\"xaxis\":\"x\",\"y\":[76.499],\"yaxis\":\"y\",\"type\":\"scatter\"},{\"hovertemplate\":\"Entity=Andorra\\u003cbr\\u003eGDPperCapita=%{x}\\u003cbr\\u003eLife expectancy=%{y}\\u003cextra\\u003e\\u003c\\u002fextra\\u003e\",\"legendgroup\":\"Andorra\",\"marker\":{\"color\":\"#ab63fa\",\"symbol\":\"circle\"},\"mode\":\"markers\",\"name\":\"Andorra\",\"orientation\":\"v\",\"showlegend\":true,\"x\":[43922.96412369883],\"xaxis\":\"x\",\"y\":[83.443],\"yaxis\":\"y\",\"type\":\"scatter\"},{\"hovertemplate\":\"Entity=Angola\\u003cbr\\u003eGDPperCapita=%{x}\\u003cbr\\u003eLife expectancy=%{y}\\u003cextra\\u003e\\u003c\\u002fextra\\u003e\",\"legendgroup\":\"Angola\",\"marker\":{\"color\":\"#FFA15A\",\"symbol\":\"circle\"},\"mode\":\"markers\",\"name\":\"Angola\",\"orientation\":\"v\",\"showlegend\":true,\"x\":[3480.765485461146],\"xaxis\":\"x\",\"y\":[60.379],\"yaxis\":\"y\",\"type\":\"scatter\"},{\"hovertemplate\":\"Entity=Antigua and Barbuda\\u003cbr\\u003eGDPperCapita=%{x}\\u003cbr\\u003eLife expectancy=%{y}\\u003cextra\\u003e\\u003c\\u002fextra\\u003e\",\"legendgroup\":\"Antigua and Barbuda\",\"marker\":{\"color\":\"#19d3f3\",\"symbol\":\"circle\"},\"mode\":\"markers\",\"name\":\"Antigua and Barbuda\",\"orientation\":\"v\",\"showlegend\":true,\"x\":[14623.537998553686],\"xaxis\":\"x\",\"y\":[76.752],\"yaxis\":\"y\",\"type\":\"scatter\"},{\"hovertemplate\":\"Entity=Argentina\\u003cbr\\u003eGDPperCapita=%{x}\\u003cbr\\u003eLife expectancy=%{y}\\u003cextra\\u003e\\u003c\\u002fextra\\u003e\",\"legendgroup\":\"Argentina\",\"marker\":{\"color\":\"#FF6692\",\"symbol\":\"circle\"},\"mode\":\"markers\",\"name\":\"Argentina\",\"orientation\":\"v\",\"showlegend\":true,\"x\":[10477.146319354326],\"xaxis\":\"x\",\"y\":[76.372],\"yaxis\":\"y\",\"type\":\"scatter\"},{\"hovertemplate\":\"Entity=Armenia\\u003cbr\\u003eGDPperCapita=%{x}\\u003cbr\\u003eLife expectancy=%{y}\\u003cextra\\u003e\\u003c\\u002fextra\\u003e\",\"legendgroup\":\"Armenia\",\"marker\":{\"color\":\"#B6E880\",\"symbol\":\"circle\"},\"mode\":\"markers\",\"name\":\"Armenia\",\"orientation\":\"v\",\"showlegend\":true,\"x\":[4198.5224330963665],\"xaxis\":\"x\",\"y\":[74.797],\"yaxis\":\"y\",\"type\":\"scatter\"},{\"hovertemplate\":\"Entity=Australia\\u003cbr\\u003eGDPperCapita=%{x}\\u003cbr\\u003eLife expectancy=%{y}\\u003cextra\\u003e\\u003c\\u002fextra\\u003e\",\"legendgroup\":\"Australia\",\"marker\":{\"color\":\"#FF97FF\",\"symbol\":\"circle\"},\"mode\":\"markers\",\"name\":\"Australia\",\"orientation\":\"v\",\"showlegend\":true,\"x\":[55957.626590364045],\"xaxis\":\"x\",\"y\":[83.122],\"yaxis\":\"y\",\"type\":\"scatter\"},{\"hovertemplate\":\"Entity=Austria\\u003cbr\\u003eGDPperCapita=%{x}\\u003cbr\\u003eLife expectancy=%{y}\\u003cextra\\u003e\\u003c\\u002fextra\\u003e\",\"legendgroup\":\"Austria\",\"marker\":{\"color\":\"#FECB52\",\"symbol\":\"circle\"},\"mode\":\"markers\",\"name\":\"Austria\",\"orientation\":\"v\",\"showlegend\":true,\"x\":[49069.142261829365],\"xaxis\":\"x\",\"y\":[81.34],\"yaxis\":\"y\",\"type\":\"scatter\"},{\"hovertemplate\":\"Entity=Azerbaijan\\u003cbr\\u003eGDPperCapita=%{x}\\u003cbr\\u003eLife expectancy=%{y}\\u003cextra\\u003e\\u003c\\u002fextra\\u003e\",\"legendgroup\":\"Azerbaijan\",\"marker\":{\"color\":\"#636efa\",\"symbol\":\"circle\"},\"mode\":\"markers\",\"name\":\"Azerbaijan\",\"orientation\":\"v\",\"showlegend\":true,\"x\":[5815.411598467506],\"xaxis\":\"x\",\"y\":[72.693],\"yaxis\":\"y\",\"type\":\"scatter\"},{\"hovertemplate\":\"Entity=Bahamas\\u003cbr\\u003eGDPperCapita=%{x}\\u003cbr\\u003eLife expectancy=%{y}\\u003cextra\\u003e\\u003c\\u002fextra\\u003e\",\"legendgroup\":\"Bahamas\",\"marker\":{\"color\":\"#EF553B\",\"symbol\":\"circle\"},\"mode\":\"markers\",\"name\":\"Bahamas\",\"orientation\":\"v\",\"showlegend\":true,\"x\":[27467.183467529583],\"xaxis\":\"x\",\"y\":[73.554],\"yaxis\":\"y\",\"type\":\"scatter\"},{\"hovertemplate\":\"Entity=Bahrain\\u003cbr\\u003eGDPperCapita=%{x}\\u003cbr\\u003eLife expectancy=%{y}\\u003cextra\\u003e\\u003c\\u002fextra\\u003e\",\"legendgroup\":\"Bahrain\",\"marker\":{\"color\":\"#00cc96\",\"symbol\":\"circle\"},\"mode\":\"markers\",\"name\":\"Bahrain\",\"orientation\":\"v\",\"showlegend\":true,\"x\":[22090.520174494846],\"xaxis\":\"x\",\"y\":[77.032],\"yaxis\":\"y\",\"type\":\"scatter\"},{\"hovertemplate\":\"Entity=Bangladesh\\u003cbr\\u003eGDPperCapita=%{x}\\u003cbr\\u003eLife expectancy=%{y}\\u003cextra\\u003e\\u003c\\u002fextra\\u003e\",\"legendgroup\":\"Bangladesh\",\"marker\":{\"color\":\"#ab63fa\",\"symbol\":\"circle\"},\"mode\":\"markers\",\"name\":\"Bangladesh\",\"orientation\":\"v\",\"showlegend\":true,\"x\":[1127.1701207960982],\"xaxis\":\"x\",\"y\":[72.052],\"yaxis\":\"y\",\"type\":\"scatter\"},{\"hovertemplate\":\"Entity=Barbados\\u003cbr\\u003eGDPperCapita=%{x}\\u003cbr\\u003eLife expectancy=%{y}\\u003cextra\\u003e\\u003c\\u002fextra\\u003e\",\"legendgroup\":\"Barbados\",\"marker\":{\"color\":\"#FFA15A\",\"symbol\":\"circle\"},\"mode\":\"markers\",\"name\":\"Barbados\",\"orientation\":\"v\",\"showlegend\":true,\"x\":[16487.26340206451],\"xaxis\":\"x\",\"y\":[78.981],\"yaxis\":\"y\",\"type\":\"scatter\"},{\"hovertemplate\":\"Entity=Belarus\\u003cbr\\u003eGDPperCapita=%{x}\\u003cbr\\u003eLife expectancy=%{y}\\u003cextra\\u003e\\u003c\\u002fextra\\u003e\",\"legendgroup\":\"Belarus\",\"marker\":{\"color\":\"#19d3f3\",\"symbol\":\"circle\"},\"mode\":\"markers\",\"name\":\"Belarus\",\"orientation\":\"v\",\"showlegend\":true,\"x\":[6414.86495398254],\"xaxis\":\"x\",\"y\":[74.34],\"yaxis\":\"y\",\"type\":\"scatter\"},{\"hovertemplate\":\"Entity=Belgium\\u003cbr\\u003eGDPperCapita=%{x}\\u003cbr\\u003eLife expectancy=%{y}\\u003cextra\\u003e\\u003c\\u002fextra\\u003e\",\"legendgroup\":\"Belgium\",\"marker\":{\"color\":\"#FF6692\",\"symbol\":\"circle\"},\"mode\":\"markers\",\"name\":\"Belgium\",\"orientation\":\"v\",\"showlegend\":true,\"x\":[45885.52670298003],\"xaxis\":\"x\",\"y\":[81.305],\"yaxis\":\"y\",\"type\":\"scatter\"},{\"hovertemplate\":\"Entity=Belize\\u003cbr\\u003eGDPperCapita=%{x}\\u003cbr\\u003eLife expectancy=%{y}\\u003cextra\\u003e\\u003c\\u002fextra\\u003e\",\"legendgroup\":\"Belize\",\"marker\":{\"color\":\"#B6E880\",\"symbol\":\"circle\"},\"mode\":\"markers\",\"name\":\"Belize\",\"orientation\":\"v\",\"showlegend\":true,\"x\":[4300.087271401622],\"xaxis\":\"x\",\"y\":[74.365],\"yaxis\":\"y\",\"type\":\"scatter\"},{\"hovertemplate\":\"Entity=Benin\\u003cbr\\u003eGDPperCapita=%{x}\\u003cbr\\u003eLife expectancy=%{y}\\u003cextra\\u003e\\u003c\\u002fextra\\u003e\",\"legendgroup\":\"Benin\",\"marker\":{\"color\":\"#FF97FF\",\"symbol\":\"circle\"},\"mode\":\"markers\",\"name\":\"Benin\",\"orientation\":\"v\",\"showlegend\":true,\"x\":[860.0059374439847],\"xaxis\":\"x\",\"y\":[61.174],\"yaxis\":\"y\",\"type\":\"scatter\"},{\"hovertemplate\":\"Entity=Bhutan\\u003cbr\\u003eGDPperCapita=%{x}\\u003cbr\\u003eLife expectancy=%{y}\\u003cextra\\u003e\\u003c\\u002fextra\\u003e\",\"legendgroup\":\"Bhutan\",\"marker\":{\"color\":\"#FECB52\",\"symbol\":\"circle\"},\"mode\":\"markers\",\"name\":\"Bhutan\",\"orientation\":\"v\",\"showlegend\":true,\"x\":[3199.9230745861664],\"xaxis\":\"x\",\"y\":[71.129],\"yaxis\":\"y\",\"type\":\"scatter\"},{\"hovertemplate\":\"Entity=Bolivia\\u003cbr\\u003eGDPperCapita=%{x}\\u003cbr\\u003eLife expectancy=%{y}\\u003cextra\\u003e\\u003c\\u002fextra\\u003e\",\"legendgroup\":\"Bolivia\",\"marker\":{\"color\":\"#636efa\",\"symbol\":\"circle\"},\"mode\":\"markers\",\"name\":\"Bolivia\",\"orientation\":\"v\",\"showlegend\":true,\"x\":[2490.9237281358346],\"xaxis\":\"x\",\"y\":[70.945],\"yaxis\":\"y\",\"type\":\"scatter\"},{\"hovertemplate\":\"Entity=Bosnia and Herzegovina\\u003cbr\\u003eGDPperCapita=%{x}\\u003cbr\\u003eLife expectancy=%{y}\\u003cextra\\u003e\\u003c\\u002fextra\\u003e\",\"legendgroup\":\"Bosnia and Herzegovina\",\"marker\":{\"color\":\"#EF553B\",\"symbol\":\"circle\"},\"mode\":\"markers\",\"name\":\"Bosnia and Herzegovina\",\"orientation\":\"v\",\"showlegend\":true,\"x\":[5818.475950940721],\"xaxis\":\"x\",\"y\":[77.128],\"yaxis\":\"y\",\"type\":\"scatter\"},{\"hovertemplate\":\"Entity=Botswana\\u003cbr\\u003eGDPperCapita=%{x}\\u003cbr\\u003eLife expectancy=%{y}\\u003cextra\\u003e\\u003c\\u002fextra\\u003e\",\"legendgroup\":\"Botswana\",\"marker\":{\"color\":\"#00cc96\",\"symbol\":\"circle\"},\"mode\":\"markers\",\"name\":\"Botswana\",\"orientation\":\"v\",\"showlegend\":true,\"x\":[7818.89407485687],\"xaxis\":\"x\",\"y\":[68.812],\"yaxis\":\"y\",\"type\":\"scatter\"},{\"hovertemplate\":\"Entity=Brazil\\u003cbr\\u003eGDPperCapita=%{x}\\u003cbr\\u003eLife expectancy=%{y}\\u003cextra\\u003e\\u003c\\u002fextra\\u003e\",\"legendgroup\":\"Brazil\",\"marker\":{\"color\":\"#ab63fa\",\"symbol\":\"circle\"},\"mode\":\"markers\",\"name\":\"Brazil\",\"orientation\":\"v\",\"showlegend\":true,\"x\":[10965.175921972874],\"xaxis\":\"x\",\"y\":[75.456],\"yaxis\":\"y\",\"type\":\"scatter\"},{\"hovertemplate\":\"Entity=Brunei\\u003cbr\\u003eGDPperCapita=%{x}\\u003cbr\\u003eLife expectancy=%{y}\\u003cextra\\u003e\\u003c\\u002fextra\\u003e\",\"legendgroup\":\"Brunei\",\"marker\":{\"color\":\"#FFA15A\",\"symbol\":\"circle\"},\"mode\":\"markers\",\"name\":\"Brunei\",\"orientation\":\"v\",\"showlegend\":true,\"x\":[31788.20985671769],\"xaxis\":\"x\",\"y\":[75.585],\"yaxis\":\"y\",\"type\":\"scatter\"},{\"hovertemplate\":\"Entity=Bulgaria\\u003cbr\\u003eGDPperCapita=%{x}\\u003cbr\\u003eLife expectancy=%{y}\\u003cextra\\u003e\\u003c\\u002fextra\\u003e\",\"legendgroup\":\"Bulgaria\",\"marker\":{\"color\":\"#19d3f3\",\"symbol\":\"circle\"},\"mode\":\"markers\",\"name\":\"Bulgaria\",\"orientation\":\"v\",\"showlegend\":true,\"x\":[8281.490880510139],\"xaxis\":\"x\",\"y\":[74.815],\"yaxis\":\"y\",\"type\":\"scatter\"},{\"hovertemplate\":\"Entity=Burkina Faso\\u003cbr\\u003eGDPperCapita=%{x}\\u003cbr\\u003eLife expectancy=%{y}\\u003cextra\\u003e\\u003c\\u002fextra\\u003e\",\"legendgroup\":\"Burkina Faso\",\"marker\":{\"color\":\"#FF6692\",\"symbol\":\"circle\"},\"mode\":\"markers\",\"name\":\"Burkina Faso\",\"orientation\":\"v\",\"showlegend\":true,\"x\":[688.5475953218569],\"xaxis\":\"x\",\"y\":[60.768],\"yaxis\":\"y\",\"type\":\"scatter\"},{\"hovertemplate\":\"Entity=Burundi\\u003cbr\\u003eGDPperCapita=%{x}\\u003cbr\\u003eLife expectancy=%{y}\\u003cextra\\u003e\\u003c\\u002fextra\\u003e\",\"legendgroup\":\"Burundi\",\"marker\":{\"color\":\"#B6E880\",\"symbol\":\"circle\"},\"mode\":\"markers\",\"name\":\"Burundi\",\"orientation\":\"v\",\"showlegend\":true,\"x\":[213.27858761188048],\"xaxis\":\"x\",\"y\":[60.898],\"yaxis\":\"y\",\"type\":\"scatter\"},{\"hovertemplate\":\"Entity=Cambodia\\u003cbr\\u003eGDPperCapita=%{x}\\u003cbr\\u003eLife expectancy=%{y}\\u003cextra\\u003e\\u003c\\u002fextra\\u003e\",\"legendgroup\":\"Cambodia\",\"marker\":{\"color\":\"#FF97FF\",\"symbol\":\"circle\"},\"mode\":\"markers\",\"name\":\"Cambodia\",\"orientation\":\"v\",\"showlegend\":true,\"x\":[1134.8947222330314],\"xaxis\":\"x\",\"y\":[69.289],\"yaxis\":\"y\",\"type\":\"scatter\"},{\"hovertemplate\":\"Entity=Cameroon\\u003cbr\\u003eGDPperCapita=%{x}\\u003cbr\\u003eLife expectancy=%{y}\\u003cextra\\u003e\\u003c\\u002fextra\\u003e\",\"legendgroup\":\"Cameroon\",\"marker\":{\"color\":\"#FECB52\",\"symbol\":\"circle\"},\"mode\":\"markers\",\"name\":\"Cameroon\",\"orientation\":\"v\",\"showlegend\":true,\"x\":[1472.181498185256],\"xaxis\":\"x\",\"y\":[58.511],\"yaxis\":\"y\",\"type\":\"scatter\"},{\"hovertemplate\":\"Entity=Canada\\u003cbr\\u003eGDPperCapita=%{x}\\u003cbr\\u003eLife expectancy=%{y}\\u003cextra\\u003e\\u003c\\u002fextra\\u003e\",\"legendgroup\":\"Canada\",\"marker\":{\"color\":\"#636efa\",\"symbol\":\"circle\"},\"mode\":\"markers\",\"name\":\"Canada\",\"orientation\":\"v\",\"showlegend\":true,\"x\":[51282.4760892625],\"xaxis\":\"x\",\"y\":[82.21],\"yaxis\":\"y\",\"type\":\"scatter\"},{\"hovertemplate\":\"Entity=Cape Verde\\u003cbr\\u003eGDPperCapita=%{x}\\u003cbr\\u003eLife expectancy=%{y}\\u003cextra\\u003e\\u003c\\u002fextra\\u003e\",\"legendgroup\":\"Cape Verde\",\"marker\":{\"color\":\"#EF553B\",\"symbol\":\"circle\"},\"mode\":\"markers\",\"name\":\"Cape Verde\",\"orientation\":\"v\",\"showlegend\":true,\"x\":[3598.791044790726],\"xaxis\":\"x\",\"y\":[72.57],\"yaxis\":\"y\",\"type\":\"scatter\"},{\"hovertemplate\":\"Entity=Central African Republic\\u003cbr\\u003eGDPperCapita=%{x}\\u003cbr\\u003eLife expectancy=%{y}\\u003cextra\\u003e\\u003c\\u002fextra\\u003e\",\"legendgroup\":\"Central African Republic\",\"marker\":{\"color\":\"#00cc96\",\"symbol\":\"circle\"},\"mode\":\"markers\",\"name\":\"Central African Republic\",\"orientation\":\"v\",\"showlegend\":true,\"x\":[339.62431132785247],\"xaxis\":\"x\",\"y\":[52.24],\"yaxis\":\"y\",\"type\":\"scatter\"},{\"hovertemplate\":\"Entity=Chad\\u003cbr\\u003eGDPperCapita=%{x}\\u003cbr\\u003eLife expectancy=%{y}\\u003cextra\\u003e\\u003c\\u002fextra\\u003e\",\"legendgroup\":\"Chad\",\"marker\":{\"color\":\"#ab63fa\",\"symbol\":\"circle\"},\"mode\":\"markers\",\"name\":\"Chad\",\"orientation\":\"v\",\"showlegend\":true,\"x\":[817.0190414555237],\"xaxis\":\"x\",\"y\":[53.712],\"yaxis\":\"y\",\"type\":\"scatter\"},{\"hovertemplate\":\"Entity=Chile\\u003cbr\\u003eGDPperCapita=%{x}\\u003cbr\\u003eLife expectancy=%{y}\\u003cextra\\u003e\\u003c\\u002fextra\\u003e\",\"legendgroup\":\"Chile\",\"marker\":{\"color\":\"#FFA15A\",\"symbol\":\"circle\"},\"mode\":\"markers\",\"name\":\"Chile\",\"orientation\":\"v\",\"showlegend\":true,\"x\":[14720.936133199892],\"xaxis\":\"x\",\"y\":[79.909],\"yaxis\":\"y\",\"type\":\"scatter\"},{\"hovertemplate\":\"Entity=China\\u003cbr\\u003eGDPperCapita=%{x}\\u003cbr\\u003eLife expectancy=%{y}\\u003cextra\\u003e\\u003c\\u002fextra\\u003e\",\"legendgroup\":\"China\",\"marker\":{\"color\":\"#19d3f3\",\"symbol\":\"circle\"},\"mode\":\"markers\",\"name\":\"China\",\"orientation\":\"v\",\"showlegend\":true,\"x\":[7150.496686254078],\"xaxis\":\"x\",\"y\":[76.47],\"yaxis\":\"y\",\"type\":\"scatter\"},{\"hovertemplate\":\"Entity=Colombia\\u003cbr\\u003eGDPperCapita=%{x}\\u003cbr\\u003eLife expectancy=%{y}\\u003cextra\\u003e\\u003c\\u002fextra\\u003e\",\"legendgroup\":\"Colombia\",\"marker\":{\"color\":\"#FF6692\",\"symbol\":\"circle\"},\"mode\":\"markers\",\"name\":\"Colombia\",\"orientation\":\"v\",\"showlegend\":true,\"x\":[7624.942176500532],\"xaxis\":\"x\",\"y\":[76.925],\"yaxis\":\"y\",\"type\":\"scatter\"},{\"hovertemplate\":\"Entity=Comoros\\u003cbr\\u003eGDPperCapita=%{x}\\u003cbr\\u003eLife expectancy=%{y}\\u003cextra\\u003e\\u003c\\u002fextra\\u003e\",\"legendgroup\":\"Comoros\",\"marker\":{\"color\":\"#B6E880\",\"symbol\":\"circle\"},\"mode\":\"markers\",\"name\":\"Comoros\",\"orientation\":\"v\",\"showlegend\":true,\"x\":[769.8465299051155],\"xaxis\":\"x\",\"y\":[63.912],\"yaxis\":\"y\",\"type\":\"scatter\"},{\"hovertemplate\":\"Entity=Congo\\u003cbr\\u003eGDPperCapita=%{x}\\u003cbr\\u003eLife expectancy=%{y}\\u003cextra\\u003e\\u003c\\u002fextra\\u003e\",\"legendgroup\":\"Congo\",\"marker\":{\"color\":\"#FF97FF\",\"symbol\":\"circle\"},\"mode\":\"markers\",\"name\":\"Congo\",\"orientation\":\"v\",\"showlegend\":true,\"x\":[2651.883363736803],\"xaxis\":\"x\",\"y\":[63.954],\"yaxis\":\"y\",\"type\":\"scatter\"},{\"hovertemplate\":\"Entity=Costa Rica\\u003cbr\\u003eGDPperCapita=%{x}\\u003cbr\\u003eLife expectancy=%{y}\\u003cextra\\u003e\\u003c\\u002fextra\\u003e\",\"legendgroup\":\"Costa Rica\",\"marker\":{\"color\":\"#FECB52\",\"symbol\":\"circle\"},\"mode\":\"markers\",\"name\":\"Costa Rica\",\"orientation\":\"v\",\"showlegend\":true,\"x\":[9704.498759439171],\"xaxis\":\"x\",\"y\":[79.914],\"yaxis\":\"y\",\"type\":\"scatter\"},{\"hovertemplate\":\"Entity=Cote d'Ivoire\\u003cbr\\u003eGDPperCapita=%{x}\\u003cbr\\u003eLife expectancy=%{y}\\u003cextra\\u003e\\u003c\\u002fextra\\u003e\",\"legendgroup\":\"Cote d'Ivoire\",\"marker\":{\"color\":\"#636efa\",\"symbol\":\"circle\"},\"mode\":\"markers\",\"name\":\"Cote d'Ivoire\",\"orientation\":\"v\",\"showlegend\":true,\"x\":[1623.1735290278593],\"xaxis\":\"x\",\"y\":[57.017],\"yaxis\":\"y\",\"type\":\"scatter\"},{\"hovertemplate\":\"Entity=Croatia\\u003cbr\\u003eGDPperCapita=%{x}\\u003cbr\\u003eLife expectancy=%{y}\\u003cextra\\u003e\\u003c\\u002fextra\\u003e\",\"legendgroup\":\"Croatia\",\"marker\":{\"color\":\"#EF553B\",\"symbol\":\"circle\"},\"mode\":\"markers\",\"name\":\"Croatia\",\"orientation\":\"v\",\"showlegend\":true,\"x\":[15011.3962242951],\"xaxis\":\"x\",\"y\":[78.197],\"yaxis\":\"y\",\"type\":\"scatter\"},{\"hovertemplate\":\"Entity=Cyprus\\u003cbr\\u003eGDPperCapita=%{x}\\u003cbr\\u003eLife expectancy=%{y}\\u003cextra\\u003e\\u003c\\u002fextra\\u003e\",\"legendgroup\":\"Cyprus\",\"marker\":{\"color\":\"#00cc96\",\"symbol\":\"circle\"},\"mode\":\"markers\",\"name\":\"Cyprus\",\"orientation\":\"v\",\"showlegend\":true,\"x\":[21402.411860269407],\"xaxis\":\"x\",\"y\":[80.672],\"yaxis\":\"y\",\"type\":\"scatter\"},{\"hovertemplate\":\"Entity=Czechia\\u003cbr\\u003eGDPperCapita=%{x}\\u003cbr\\u003eLife expectancy=%{y}\\u003cextra\\u003e\\u003c\\u002fextra\\u003e\",\"legendgroup\":\"Czechia\",\"marker\":{\"color\":\"#ab63fa\",\"symbol\":\"circle\"},\"mode\":\"markers\",\"name\":\"Czechia\",\"orientation\":\"v\",\"showlegend\":true,\"x\":[22672.94786374974],\"xaxis\":\"x\",\"y\":[79.058],\"yaxis\":\"y\",\"type\":\"scatter\"},{\"hovertemplate\":\"Entity=Democratic Republic of Congo\\u003cbr\\u003eGDPperCapita=%{x}\\u003cbr\\u003eLife expectancy=%{y}\\u003cextra\\u003e\\u003c\\u002fextra\\u003e\",\"legendgroup\":\"Democratic Republic of Congo\",\"marker\":{\"color\":\"#FFA15A\",\"symbol\":\"circle\"},\"mode\":\"markers\",\"name\":\"Democratic Republic of Congo\",\"orientation\":\"v\",\"showlegend\":true,\"x\":[408.82077087232886],\"xaxis\":\"x\",\"y\":[60.026],\"yaxis\":\"y\",\"type\":\"scatter\"},{\"hovertemplate\":\"Entity=Denmark\\u003cbr\\u003eGDPperCapita=%{x}\\u003cbr\\u003eLife expectancy=%{y}\\u003cextra\\u003e\\u003c\\u002fextra\\u003e\",\"legendgroup\":\"Denmark\",\"marker\":{\"color\":\"#19d3f3\",\"symbol\":\"circle\"},\"mode\":\"markers\",\"name\":\"Denmark\",\"orientation\":\"v\",\"showlegend\":true,\"x\":[61986.156681440334],\"xaxis\":\"x\",\"y\":[80.681],\"yaxis\":\"y\",\"type\":\"scatter\"},{\"hovertemplate\":\"Entity=Dominica\\u003cbr\\u003eGDPperCapita=%{x}\\u003cbr\\u003eLife expectancy=%{y}\\u003cextra\\u003e\\u003c\\u002fextra\\u003e\",\"legendgroup\":\"Dominica\",\"marker\":{\"color\":\"#FF6692\",\"symbol\":\"circle\"},\"mode\":\"markers\",\"name\":\"Dominica\",\"orientation\":\"v\",\"showlegend\":true,\"x\":[6826.767363664127],\"xaxis\":\"x\",\"y\":[74.597],\"yaxis\":\"y\",\"type\":\"scatter\"},{\"hovertemplate\":\"Entity=Dominican Republic\\u003cbr\\u003eGDPperCapita=%{x}\\u003cbr\\u003eLife expectancy=%{y}\\u003cextra\\u003e\\u003c\\u002fextra\\u003e\",\"legendgroup\":\"Dominican Republic\",\"marker\":{\"color\":\"#B6E880\",\"symbol\":\"circle\"},\"mode\":\"markers\",\"name\":\"Dominican Republic\",\"orientation\":\"v\",\"showlegend\":true,\"x\":[7325.899767129582],\"xaxis\":\"x\",\"y\":[73.689],\"yaxis\":\"y\",\"type\":\"scatter\"},{\"hovertemplate\":\"Entity=Ecuador\\u003cbr\\u003eGDPperCapita=%{x}\\u003cbr\\u003eLife expectancy=%{y}\\u003cextra\\u003e\\u003c\\u002fextra\\u003e\",\"legendgroup\":\"Ecuador\",\"marker\":{\"color\":\"#FF97FF\",\"symbol\":\"circle\"},\"mode\":\"markers\",\"name\":\"Ecuador\",\"orientation\":\"v\",\"showlegend\":true,\"x\":[5219.341306051099],\"xaxis\":\"x\",\"y\":[76.584],\"yaxis\":\"y\",\"type\":\"scatter\"},{\"hovertemplate\":\"Entity=Egypt\\u003cbr\\u003eGDPperCapita=%{x}\\u003cbr\\u003eLife expectancy=%{y}\\u003cextra\\u003e\\u003c\\u002fextra\\u003e\",\"legendgroup\":\"Egypt\",\"marker\":{\"color\":\"#FECB52\",\"symbol\":\"circle\"},\"mode\":\"markers\",\"name\":\"Egypt\",\"orientation\":\"v\",\"showlegend\":true,\"x\":[2817.432289437782],\"xaxis\":\"x\",\"y\":[71.656],\"yaxis\":\"y\",\"type\":\"scatter\"},{\"hovertemplate\":\"Entity=El Salvador\\u003cbr\\u003eGDPperCapita=%{x}\\u003cbr\\u003eLife expectancy=%{y}\\u003cextra\\u003e\\u003c\\u002fextra\\u003e\",\"legendgroup\":\"El Salvador\",\"marker\":{\"color\":\"#636efa\",\"symbol\":\"circle\"},\"mode\":\"markers\",\"name\":\"El Salvador\",\"orientation\":\"v\",\"showlegend\":true,\"x\":[3458.0419227759394],\"xaxis\":\"x\",\"y\":[72.872],\"yaxis\":\"y\",\"type\":\"scatter\"},{\"hovertemplate\":\"Entity=Equatorial Guinea\\u003cbr\\u003eGDPperCapita=%{x}\\u003cbr\\u003eLife expectancy=%{y}\\u003cextra\\u003e\\u003c\\u002fextra\\u003e\",\"legendgroup\":\"Equatorial Guinea\",\"marker\":{\"color\":\"#EF553B\",\"symbol\":\"circle\"},\"mode\":\"markers\",\"name\":\"Equatorial Guinea\",\"orientation\":\"v\",\"showlegend\":true,\"x\":[11538.391726633598],\"xaxis\":\"x\",\"y\":[58.061],\"yaxis\":\"y\",\"type\":\"scatter\"},{\"hovertemplate\":\"Entity=Estonia\\u003cbr\\u003eGDPperCapita=%{x}\\u003cbr\\u003eLife expectancy=%{y}\\u003cextra\\u003e\\u003c\\u002fextra\\u003e\",\"legendgroup\":\"Estonia\",\"marker\":{\"color\":\"#00cc96\",\"symbol\":\"circle\"},\"mode\":\"markers\",\"name\":\"Estonia\",\"orientation\":\"v\",\"showlegend\":true,\"x\":[18926.749646098408],\"xaxis\":\"x\",\"y\":[78.354],\"yaxis\":\"y\",\"type\":\"scatter\"},{\"hovertemplate\":\"Entity=Eswatini\\u003cbr\\u003eGDPperCapita=%{x}\\u003cbr\\u003eLife expectancy=%{y}\\u003cextra\\u003e\\u003c\\u002fextra\\u003e\",\"legendgroup\":\"Eswatini\",\"marker\":{\"color\":\"#ab63fa\",\"symbol\":\"circle\"},\"mode\":\"markers\",\"name\":\"Eswatini\",\"orientation\":\"v\",\"showlegend\":true,\"x\":[4756.849072779929],\"xaxis\":\"x\",\"y\":[58.319],\"yaxis\":\"y\",\"type\":\"scatter\"},{\"hovertemplate\":\"Entity=Ethiopia\\u003cbr\\u003eGDPperCapita=%{x}\\u003cbr\\u003eLife expectancy=%{y}\\u003cextra\\u003e\\u003c\\u002fextra\\u003e\",\"legendgroup\":\"Ethiopia\",\"marker\":{\"color\":\"#FFA15A\",\"symbol\":\"circle\"},\"mode\":\"markers\",\"name\":\"Ethiopia\",\"orientation\":\"v\",\"showlegend\":true,\"x\":[542.3930828490611],\"xaxis\":\"x\",\"y\":[65.872],\"yaxis\":\"y\",\"type\":\"scatter\"},{\"hovertemplate\":\"Entity=Fiji\\u003cbr\\u003eGDPperCapita=%{x}\\u003cbr\\u003eLife expectancy=%{y}\\u003cextra\\u003e\\u003c\\u002fextra\\u003e\",\"legendgroup\":\"Fiji\",\"marker\":{\"color\":\"#19d3f3\",\"symbol\":\"circle\"},\"mode\":\"markers\",\"name\":\"Fiji\",\"orientation\":\"v\",\"showlegend\":true,\"x\":[4463.480825744139],\"xaxis\":\"x\",\"y\":[67.252],\"yaxis\":\"y\",\"type\":\"scatter\"},{\"hovertemplate\":\"Entity=Finland\\u003cbr\\u003eGDPperCapita=%{x}\\u003cbr\\u003eLife expectancy=%{y}\\u003cextra\\u003e\\u003c\\u002fextra\\u003e\",\"legendgroup\":\"Finland\",\"marker\":{\"color\":\"#FF6692\",\"symbol\":\"circle\"},\"mode\":\"markers\",\"name\":\"Finland\",\"orientation\":\"v\",\"showlegend\":true,\"x\":[47060.206319573386],\"xaxis\":\"x\",\"y\":[81.561],\"yaxis\":\"y\",\"type\":\"scatter\"},{\"hovertemplate\":\"Entity=France\\u003cbr\\u003eGDPperCapita=%{x}\\u003cbr\\u003eLife expectancy=%{y}\\u003cextra\\u003e\\u003c\\u002fextra\\u003e\",\"legendgroup\":\"France\",\"marker\":{\"color\":\"#B6E880\",\"symbol\":\"circle\"},\"mode\":\"markers\",\"name\":\"France\",\"orientation\":\"v\",\"showlegend\":true,\"x\":[44061.64739521614],\"xaxis\":\"x\",\"y\":[82.432],\"yaxis\":\"y\",\"type\":\"scatter\"},{\"hovertemplate\":\"Entity=Gabon\\u003cbr\\u003eGDPperCapita=%{x}\\u003cbr\\u003eLife expectancy=%{y}\\u003cextra\\u003e\\u003c\\u002fextra\\u003e\",\"legendgroup\":\"Gabon\",\"marker\":{\"color\":\"#FF97FF\",\"symbol\":\"circle\"},\"mode\":\"markers\",\"name\":\"Gabon\",\"orientation\":\"v\",\"showlegend\":true,\"x\":[9259.756310496272],\"xaxis\":\"x\",\"y\":[65.839],\"yaxis\":\"y\",\"type\":\"scatter\"},{\"hovertemplate\":\"Entity=Gambia\\u003cbr\\u003eGDPperCapita=%{x}\\u003cbr\\u003eLife expectancy=%{y}\\u003cextra\\u003e\\u003c\\u002fextra\\u003e\",\"legendgroup\":\"Gambia\",\"marker\":{\"color\":\"#FECB52\",\"symbol\":\"circle\"},\"mode\":\"markers\",\"name\":\"Gambia\",\"orientation\":\"v\",\"showlegend\":true,\"x\":[506.8967392330487],\"xaxis\":\"x\",\"y\":[61.44],\"yaxis\":\"y\",\"type\":\"scatter\"},{\"hovertemplate\":\"Entity=Georgia\\u003cbr\\u003eGDPperCapita=%{x}\\u003cbr\\u003eLife expectancy=%{y}\\u003cextra\\u003e\\u003c\\u002fextra\\u003e\",\"legendgroup\":\"Georgia\",\"marker\":{\"color\":\"#636efa\",\"symbol\":\"circle\"},\"mode\":\"markers\",\"name\":\"Georgia\",\"orientation\":\"v\",\"showlegend\":true,\"x\":[3977.795688668371],\"xaxis\":\"x\",\"y\":[73.414],\"yaxis\":\"y\",\"type\":\"scatter\"},{\"hovertemplate\":\"Entity=Germany\\u003cbr\\u003eGDPperCapita=%{x}\\u003cbr\\u003eLife expectancy=%{y}\\u003cextra\\u003e\\u003c\\u002fextra\\u003e\",\"legendgroup\":\"Germany\",\"marker\":{\"color\":\"#EF553B\",\"symbol\":\"circle\"},\"mode\":\"markers\",\"name\":\"Germany\",\"orientation\":\"v\",\"showlegend\":true,\"x\":[46768.11780316001],\"xaxis\":\"x\",\"y\":[81.039],\"yaxis\":\"y\",\"type\":\"scatter\"},{\"hovertemplate\":\"Entity=Ghana\\u003cbr\\u003eGDPperCapita=%{x}\\u003cbr\\u003eLife expectancy=%{y}\\u003cextra\\u003e\\u003c\\u002fextra\\u003e\",\"legendgroup\":\"Ghana\",\"marker\":{\"color\":\"#00cc96\",\"symbol\":\"circle\"},\"mode\":\"markers\",\"name\":\"Ghana\",\"orientation\":\"v\",\"showlegend\":true,\"x\":[1795.9363436799663],\"xaxis\":\"x\",\"y\":[63.463],\"yaxis\":\"y\",\"type\":\"scatter\"},{\"hovertemplate\":\"Entity=Greece\\u003cbr\\u003eGDPperCapita=%{x}\\u003cbr\\u003eLife expectancy=%{y}\\u003cextra\\u003e\\u003c\\u002fextra\\u003e\",\"legendgroup\":\"Greece\",\"marker\":{\"color\":\"#ab63fa\",\"symbol\":\"circle\"},\"mode\":\"markers\",\"name\":\"Greece\",\"orientation\":\"v\",\"showlegend\":true,\"x\":[23444.475664032358],\"xaxis\":\"x\",\"y\":[81.901],\"yaxis\":\"y\",\"type\":\"scatter\"},{\"hovertemplate\":\"Entity=Grenada\\u003cbr\\u003eGDPperCapita=%{x}\\u003cbr\\u003eLife expectancy=%{y}\\u003cextra\\u003e\\u003c\\u002fextra\\u003e\",\"legendgroup\":\"Grenada\",\"marker\":{\"color\":\"#FFA15A\",\"symbol\":\"circle\"},\"mode\":\"markers\",\"name\":\"Grenada\",\"orientation\":\"v\",\"showlegend\":true,\"x\":[8701.373037053441],\"xaxis\":\"x\",\"y\":[72.388],\"yaxis\":\"y\",\"type\":\"scatter\"},{\"hovertemplate\":\"Entity=Guatemala\\u003cbr\\u003eGDPperCapita=%{x}\\u003cbr\\u003eLife expectancy=%{y}\\u003cextra\\u003e\\u003c\\u002fextra\\u003e\",\"legendgroup\":\"Guatemala\",\"marker\":{\"color\":\"#19d3f3\",\"symbol\":\"circle\"},\"mode\":\"markers\",\"name\":\"Guatemala\",\"orientation\":\"v\",\"showlegend\":true,\"x\":[3123.933862583884],\"xaxis\":\"x\",\"y\":[73.81],\"yaxis\":\"y\",\"type\":\"scatter\"},{\"hovertemplate\":\"Entity=Guinea\\u003cbr\\u003eGDPperCapita=%{x}\\u003cbr\\u003eLife expectancy=%{y}\\u003cextra\\u003e\\u003c\\u002fextra\\u003e\",\"legendgroup\":\"Guinea\",\"marker\":{\"color\":\"#FF6692\",\"symbol\":\"circle\"},\"mode\":\"markers\",\"name\":\"Guinea\",\"orientation\":\"v\",\"showlegend\":true,\"x\":[867.1934154348526],\"xaxis\":\"x\",\"y\":[60.706],\"yaxis\":\"y\",\"type\":\"scatter\"},{\"hovertemplate\":\"Entity=Guinea-Bissau\\u003cbr\\u003eGDPperCapita=%{x}\\u003cbr\\u003eLife expectancy=%{y}\\u003cextra\\u003e\\u003c\\u002fextra\\u003e\",\"legendgroup\":\"Guinea-Bissau\",\"marker\":{\"color\":\"#B6E880\",\"symbol\":\"circle\"},\"mode\":\"markers\",\"name\":\"Guinea-Bissau\",\"orientation\":\"v\",\"showlegend\":true,\"x\":[615.6331430674506],\"xaxis\":\"x\",\"y\":[57.673],\"yaxis\":\"y\",\"type\":\"scatter\"},{\"hovertemplate\":\"Entity=Guyana\\u003cbr\\u003eGDPperCapita=%{x}\\u003cbr\\u003eLife expectancy=%{y}\\u003cextra\\u003e\\u003c\\u002fextra\\u003e\",\"legendgroup\":\"Guyana\",\"marker\":{\"color\":\"#FF97FF\",\"symbol\":\"circle\"},\"mode\":\"markers\",\"name\":\"Guyana\",\"orientation\":\"v\",\"showlegend\":true,\"x\":[3885.6723798626967],\"xaxis\":\"x\",\"y\":[69.624],\"yaxis\":\"y\",\"type\":\"scatter\"},{\"hovertemplate\":\"Entity=Haiti\\u003cbr\\u003eGDPperCapita=%{x}\\u003cbr\\u003eLife expectancy=%{y}\\u003cextra\\u003e\\u003c\\u002fextra\\u003e\",\"legendgroup\":\"Haiti\",\"marker\":{\"color\":\"#FECB52\",\"symbol\":\"circle\"},\"mode\":\"markers\",\"name\":\"Haiti\",\"orientation\":\"v\",\"showlegend\":true,\"x\":[728.8692284759197],\"xaxis\":\"x\",\"y\":[63.29],\"yaxis\":\"y\",\"type\":\"scatter\"},{\"hovertemplate\":\"Entity=Honduras\\u003cbr\\u003eGDPperCapita=%{x}\\u003cbr\\u003eLife expectancy=%{y}\\u003cextra\\u003e\\u003c\\u002fextra\\u003e\",\"legendgroup\":\"Honduras\",\"marker\":{\"color\":\"#636efa\",\"symbol\":\"circle\"},\"mode\":\"markers\",\"name\":\"Honduras\",\"orientation\":\"v\",\"showlegend\":true,\"x\":[2172.15391486848],\"xaxis\":\"x\",\"y\":[74.898],\"yaxis\":\"y\",\"type\":\"scatter\"},{\"hovertemplate\":\"Entity=Hong Kong\\u003cbr\\u003eGDPperCapita=%{x}\\u003cbr\\u003eLife expectancy=%{y}\\u003cextra\\u003e\\u003c\\u002fextra\\u003e\",\"legendgroup\":\"Hong Kong\",\"marker\":{\"color\":\"#EF553B\",\"symbol\":\"circle\"},\"mode\":\"markers\",\"name\":\"Hong Kong\",\"orientation\":\"v\",\"showlegend\":true,\"x\":[38372.02312307651],\"xaxis\":\"x\",\"y\":[84.493],\"yaxis\":\"y\",\"type\":\"scatter\"},{\"hovertemplate\":\"Entity=Hungary\\u003cbr\\u003eGDPperCapita=%{x}\\u003cbr\\u003eLife expectancy=%{y}\\u003cextra\\u003e\\u003c\\u002fextra\\u003e\",\"legendgroup\":\"Hungary\",\"marker\":{\"color\":\"#00cc96\",\"symbol\":\"circle\"},\"mode\":\"markers\",\"name\":\"Hungary\",\"orientation\":\"v\",\"showlegend\":true,\"x\":[15730.068784316445],\"xaxis\":\"x\",\"y\":[76.498],\"yaxis\":\"y\",\"type\":\"scatter\"},{\"hovertemplate\":\"Entity=Iceland\\u003cbr\\u003eGDPperCapita=%{x}\\u003cbr\\u003eLife expectancy=%{y}\\u003cextra\\u003e\\u003c\\u002fextra\\u003e\",\"legendgroup\":\"Iceland\",\"marker\":{\"color\":\"#ab63fa\",\"symbol\":\"circle\"},\"mode\":\"markers\",\"name\":\"Iceland\",\"orientation\":\"v\",\"showlegend\":true,\"x\":[50998.46204829191],\"xaxis\":\"x\",\"y\":[82.725],\"yaxis\":\"y\",\"type\":\"scatter\"},{\"hovertemplate\":\"Entity=India\\u003cbr\\u003eGDPperCapita=%{x}\\u003cbr\\u003eLife expectancy=%{y}\\u003cextra\\u003e\\u003c\\u002fextra\\u003e\",\"legendgroup\":\"India\",\"marker\":{\"color\":\"#FFA15A\",\"symbol\":\"circle\"},\"mode\":\"markers\",\"name\":\"India\",\"orientation\":\"v\",\"showlegend\":true,\"x\":[1964.284310117216],\"xaxis\":\"x\",\"y\":[69.165],\"yaxis\":\"y\",\"type\":\"scatter\"},{\"hovertemplate\":\"Entity=Indonesia\\u003cbr\\u003eGDPperCapita=%{x}\\u003cbr\\u003eLife expectancy=%{y}\\u003cextra\\u003e\\u003c\\u002fextra\\u003e\",\"legendgroup\":\"Indonesia\",\"marker\":{\"color\":\"#19d3f3\",\"symbol\":\"circle\"},\"mode\":\"markers\",\"name\":\"Indonesia\",\"orientation\":\"v\",\"showlegend\":true,\"x\":[4120.367810496154],\"xaxis\":\"x\",\"y\":[71.282],\"yaxis\":\"y\",\"type\":\"scatter\"},{\"hovertemplate\":\"Entity=Iran\\u003cbr\\u003eGDPperCapita=%{x}\\u003cbr\\u003eLife expectancy=%{y}\\u003cextra\\u003e\\u003c\\u002fextra\\u003e\",\"legendgroup\":\"Iran\",\"marker\":{\"color\":\"#FF6692\",\"symbol\":\"circle\"},\"mode\":\"markers\",\"name\":\"Iran\",\"orientation\":\"v\",\"showlegend\":true,\"x\":[6988.946227555693],\"xaxis\":\"x\",\"y\":[76.271],\"yaxis\":\"y\",\"type\":\"scatter\"},{\"hovertemplate\":\"Entity=Iraq\\u003cbr\\u003eGDPperCapita=%{x}\\u003cbr\\u003eLife expectancy=%{y}\\u003cextra\\u003e\\u003c\\u002fextra\\u003e\",\"legendgroup\":\"Iraq\",\"marker\":{\"color\":\"#B6E880\",\"symbol\":\"circle\"},\"mode\":\"markers\",\"name\":\"Iraq\",\"orientation\":\"v\",\"showlegend\":true,\"x\":[5652.507955372407],\"xaxis\":\"x\",\"y\":[70.294],\"yaxis\":\"y\",\"type\":\"scatter\"},{\"hovertemplate\":\"Entity=Ireland\\u003cbr\\u003eGDPperCapita=%{x}\\u003cbr\\u003eLife expectancy=%{y}\\u003cextra\\u003e\\u003c\\u002fextra\\u003e\",\"legendgroup\":\"Ireland\",\"marker\":{\"color\":\"#FF97FF\",\"symbol\":\"circle\"},\"mode\":\"markers\",\"name\":\"Ireland\",\"orientation\":\"v\",\"showlegend\":true,\"x\":[75382.59575206922],\"xaxis\":\"x\",\"y\":[81.872],\"yaxis\":\"y\",\"type\":\"scatter\"},{\"hovertemplate\":\"Entity=Israel\\u003cbr\\u003eGDPperCapita=%{x}\\u003cbr\\u003eLife expectancy=%{y}\\u003cextra\\u003e\\u003c\\u002fextra\\u003e\",\"legendgroup\":\"Israel\",\"marker\":{\"color\":\"#FECB52\",\"symbol\":\"circle\"},\"mode\":\"markers\",\"name\":\"Israel\",\"orientation\":\"v\",\"showlegend\":true,\"x\":[36074.24555591012],\"xaxis\":\"x\",\"y\":[82.663],\"yaxis\":\"y\",\"type\":\"scatter\"},{\"hovertemplate\":\"Entity=Italy\\u003cbr\\u003eGDPperCapita=%{x}\\u003cbr\\u003eLife expectancy=%{y}\\u003cextra\\u003e\\u003c\\u002fextra\\u003e\",\"legendgroup\":\"Italy\",\"marker\":{\"color\":\"#636efa\",\"symbol\":\"circle\"},\"mode\":\"markers\",\"name\":\"Italy\",\"orientation\":\"v\",\"showlegend\":true,\"x\":[34807.36298025678],\"xaxis\":\"x\",\"y\":[83.184],\"yaxis\":\"y\",\"type\":\"scatter\"},{\"hovertemplate\":\"Entity=Jamaica\\u003cbr\\u003eGDPperCapita=%{x}\\u003cbr\\u003eLife expectancy=%{y}\\u003cextra\\u003e\\u003c\\u002fextra\\u003e\",\"legendgroup\":\"Jamaica\",\"marker\":{\"color\":\"#EF553B\",\"symbol\":\"circle\"},\"mode\":\"markers\",\"name\":\"Jamaica\",\"orientation\":\"v\",\"showlegend\":true,\"x\":[4747.777208777131],\"xaxis\":\"x\",\"y\":[74.267],\"yaxis\":\"y\",\"type\":\"scatter\"},{\"hovertemplate\":\"Entity=Japan\\u003cbr\\u003eGDPperCapita=%{x}\\u003cbr\\u003eLife expectancy=%{y}\\u003cextra\\u003e\\u003c\\u002fextra\\u003e\",\"legendgroup\":\"Japan\",\"marker\":{\"color\":\"#00cc96\",\"symbol\":\"circle\"},\"mode\":\"markers\",\"name\":\"Japan\",\"orientation\":\"v\",\"showlegend\":true,\"x\":[48283.79505249767],\"xaxis\":\"x\",\"y\":[84.29],\"yaxis\":\"y\",\"type\":\"scatter\"},{\"hovertemplate\":\"Entity=Jordan\\u003cbr\\u003eGDPperCapita=%{x}\\u003cbr\\u003eLife expectancy=%{y}\\u003cextra\\u003e\\u003c\\u002fextra\\u003e\",\"legendgroup\":\"Jordan\",\"marker\":{\"color\":\"#ab63fa\",\"symbol\":\"circle\"},\"mode\":\"markers\",\"name\":\"Jordan\",\"orientation\":\"v\",\"showlegend\":true,\"x\":[3210.5726602202535],\"xaxis\":\"x\",\"y\":[74.292],\"yaxis\":\"y\",\"type\":\"scatter\"},{\"hovertemplate\":\"Entity=Kazakhstan\\u003cbr\\u003eGDPperCapita=%{x}\\u003cbr\\u003eLife expectancy=%{y}\\u003cextra\\u003e\\u003c\\u002fextra\\u003e\",\"legendgroup\":\"Kazakhstan\",\"marker\":{\"color\":\"#FFA15A\",\"symbol\":\"circle\"},\"mode\":\"markers\",\"name\":\"Kazakhstan\",\"orientation\":\"v\",\"showlegend\":true,\"x\":[10831.942910092477],\"xaxis\":\"x\",\"y\":[72.728],\"yaxis\":\"y\",\"type\":\"scatter\"},{\"hovertemplate\":\"Entity=Kenya\\u003cbr\\u003eGDPperCapita=%{x}\\u003cbr\\u003eLife expectancy=%{y}\\u003cextra\\u003e\\u003c\\u002fextra\\u003e\",\"legendgroup\":\"Kenya\",\"marker\":{\"color\":\"#19d3f3\",\"symbol\":\"circle\"},\"mode\":\"markers\",\"name\":\"Kenya\",\"orientation\":\"v\",\"showlegend\":true,\"x\":[1157.2094917223153],\"xaxis\":\"x\",\"y\":[65.909],\"yaxis\":\"y\",\"type\":\"scatter\"},{\"hovertemplate\":\"Entity=Kiribati\\u003cbr\\u003eGDPperCapita=%{x}\\u003cbr\\u003eLife expectancy=%{y}\\u003cextra\\u003e\\u003c\\u002fextra\\u003e\",\"legendgroup\":\"Kiribati\",\"marker\":{\"color\":\"#FF6692\",\"symbol\":\"circle\"},\"mode\":\"markers\",\"name\":\"Kiribati\",\"orientation\":\"v\",\"showlegend\":true,\"x\":[1744.3288443963245],\"xaxis\":\"x\",\"y\":[67.851],\"yaxis\":\"y\",\"type\":\"scatter\"},{\"hovertemplate\":\"Entity=Kosovo\\u003cbr\\u003eGDPperCapita=%{x}\\u003cbr\\u003eLife expectancy=%{y}\\u003cextra\\u003e\\u003c\\u002fextra\\u003e\",\"legendgroup\":\"Kosovo\",\"marker\":{\"color\":\"#B6E880\",\"symbol\":\"circle\"},\"mode\":\"markers\",\"name\":\"Kosovo\",\"orientation\":\"v\",\"showlegend\":true,\"x\":[null],\"xaxis\":\"x\",\"y\":[null],\"yaxis\":\"y\",\"type\":\"scatter\"},{\"hovertemplate\":\"Entity=Kuwait\\u003cbr\\u003eGDPperCapita=%{x}\\u003cbr\\u003eLife expectancy=%{y}\\u003cextra\\u003e\\u003c\\u002fextra\\u003e\",\"legendgroup\":\"Kuwait\",\"marker\":{\"color\":\"#FF97FF\",\"symbol\":\"circle\"},\"mode\":\"markers\",\"name\":\"Kuwait\",\"orientation\":\"v\",\"showlegend\":true,\"x\":[34211.63377749877],\"xaxis\":\"x\",\"y\":[75.311],\"yaxis\":\"y\",\"type\":\"scatter\"},{\"hovertemplate\":\"Entity=Kyrgyzstan\\u003cbr\\u003eGDPperCapita=%{x}\\u003cbr\\u003eLife expectancy=%{y}\\u003cextra\\u003e\\u003c\\u002fextra\\u003e\",\"legendgroup\":\"Kyrgyzstan\",\"marker\":{\"color\":\"#FECB52\",\"symbol\":\"circle\"},\"mode\":\"markers\",\"name\":\"Kyrgyzstan\",\"orientation\":\"v\",\"showlegend\":true,\"x\":[1072.311890452892],\"xaxis\":\"x\",\"y\":[71.193],\"yaxis\":\"y\",\"type\":\"scatter\"},{\"hovertemplate\":\"Entity=Laos\\u003cbr\\u003eGDPperCapita=%{x}\\u003cbr\\u003eLife expectancy=%{y}\\u003cextra\\u003e\\u003c\\u002fextra\\u003e\",\"legendgroup\":\"Laos\",\"marker\":{\"color\":\"#636efa\",\"symbol\":\"circle\"},\"mode\":\"markers\",\"name\":\"Laos\",\"orientation\":\"v\",\"showlegend\":true,\"x\":[1706.8018243052925],\"xaxis\":\"x\",\"y\":[67.277],\"yaxis\":\"y\",\"type\":\"scatter\"},{\"hovertemplate\":\"Entity=Latvia\\u003cbr\\u003eGDPperCapita=%{x}\\u003cbr\\u003eLife expectancy=%{y}\\u003cextra\\u003e\\u003c\\u002fextra\\u003e\",\"legendgroup\":\"Latvia\",\"marker\":{\"color\":\"#EF553B\",\"symbol\":\"circle\"},\"mode\":\"markers\",\"name\":\"Latvia\",\"orientation\":\"v\",\"showlegend\":true,\"x\":[15471.535484080063],\"xaxis\":\"x\",\"y\":[75.048],\"yaxis\":\"y\",\"type\":\"scatter\"},{\"hovertemplate\":\"Entity=Lebanon\\u003cbr\\u003eGDPperCapita=%{x}\\u003cbr\\u003eLife expectancy=%{y}\\u003cextra\\u003e\\u003c\\u002fextra\\u003e\",\"legendgroup\":\"Lebanon\",\"marker\":{\"color\":\"#00cc96\",\"symbol\":\"circle\"},\"mode\":\"markers\",\"name\":\"Lebanon\",\"orientation\":\"v\",\"showlegend\":true,\"x\":[6420.084729746019],\"xaxis\":\"x\",\"y\":[78.833],\"yaxis\":\"y\",\"type\":\"scatter\"},{\"hovertemplate\":\"Entity=Lesotho\\u003cbr\\u003eGDPperCapita=%{x}\\u003cbr\\u003eLife expectancy=%{y}\\u003cextra\\u003e\\u003c\\u002fextra\\u003e\",\"legendgroup\":\"Lesotho\",\"marker\":{\"color\":\"#ab63fa\",\"symbol\":\"circle\"},\"mode\":\"markers\",\"name\":\"Lesotho\",\"orientation\":\"v\",\"showlegend\":true,\"x\":[1504.425989499173],\"xaxis\":\"x\",\"y\":[52.947],\"yaxis\":\"y\",\"type\":\"scatter\"},{\"hovertemplate\":\"Entity=Liberia\\u003cbr\\u003eGDPperCapita=%{x}\\u003cbr\\u003eLife expectancy=%{y}\\u003cextra\\u003e\\u003c\\u002fextra\\u003e\",\"legendgroup\":\"Liberia\",\"marker\":{\"color\":\"#FFA15A\",\"symbol\":\"circle\"},\"mode\":\"markers\",\"name\":\"Liberia\",\"orientation\":\"v\",\"showlegend\":true,\"x\":[354.5265876589813],\"xaxis\":\"x\",\"y\":[63.295],\"yaxis\":\"y\",\"type\":\"scatter\"},{\"hovertemplate\":\"Entity=Libya\\u003cbr\\u003eGDPperCapita=%{x}\\u003cbr\\u003eLife expectancy=%{y}\\u003cextra\\u003e\\u003c\\u002fextra\\u003e\",\"legendgroup\":\"Libya\",\"marker\":{\"color\":\"#19d3f3\",\"symbol\":\"circle\"},\"mode\":\"markers\",\"name\":\"Libya\",\"orientation\":\"v\",\"showlegend\":true,\"x\":[7085.233506390533],\"xaxis\":\"x\",\"y\":[72.52],\"yaxis\":\"y\",\"type\":\"scatter\"},{\"hovertemplate\":\"Entity=Lithuania\\u003cbr\\u003eGDPperCapita=%{x}\\u003cbr\\u003eLife expectancy=%{y}\\u003cextra\\u003e\\u003c\\u002fextra\\u003e\",\"legendgroup\":\"Lithuania\",\"marker\":{\"color\":\"#FF6692\",\"symbol\":\"circle\"},\"mode\":\"markers\",\"name\":\"Lithuania\",\"orientation\":\"v\",\"showlegend\":true,\"x\":[16691.25687295223],\"xaxis\":\"x\",\"y\":[75.507],\"yaxis\":\"y\",\"type\":\"scatter\"},{\"hovertemplate\":\"Entity=Luxembourg\\u003cbr\\u003eGDPperCapita=%{x}\\u003cbr\\u003eLife expectancy=%{y}\\u003cextra\\u003e\\u003c\\u002fextra\\u003e\",\"legendgroup\":\"Luxembourg\",\"marker\":{\"color\":\"#B6E880\",\"symbol\":\"circle\"},\"mode\":\"markers\",\"name\":\"Luxembourg\",\"orientation\":\"v\",\"showlegend\":true,\"x\":[109222.51748804915],\"xaxis\":\"x\",\"y\":[81.955],\"yaxis\":\"y\",\"type\":\"scatter\"},{\"hovertemplate\":\"Entity=Macao\\u003cbr\\u003eGDPperCapita=%{x}\\u003cbr\\u003eLife expectancy=%{y}\\u003cextra\\u003e\\u003c\\u002fextra\\u003e\",\"legendgroup\":\"Macao\",\"marker\":{\"color\":\"#FF97FF\",\"symbol\":\"circle\"},\"mode\":\"markers\",\"name\":\"Macao\",\"orientation\":\"v\",\"showlegend\":true,\"x\":[55897.925654908024],\"xaxis\":\"x\",\"y\":[83.989],\"yaxis\":\"y\",\"type\":\"scatter\"},{\"hovertemplate\":\"Entity=Madagascar\\u003cbr\\u003eGDPperCapita=%{x}\\u003cbr\\u003eLife expectancy=%{y}\\u003cextra\\u003e\\u003c\\u002fextra\\u003e\",\"legendgroup\":\"Madagascar\",\"marker\":{\"color\":\"#FECB52\",\"symbol\":\"circle\"},\"mode\":\"markers\",\"name\":\"Madagascar\",\"orientation\":\"v\",\"showlegend\":true,\"x\":[421.8895132896171],\"xaxis\":\"x\",\"y\":[66.311],\"yaxis\":\"y\",\"type\":\"scatter\"},{\"hovertemplate\":\"Entity=Malawi\\u003cbr\\u003eGDPperCapita=%{x}\\u003cbr\\u003eLife expectancy=%{y}\\u003cextra\\u003e\\u003c\\u002fextra\\u003e\",\"legendgroup\":\"Malawi\",\"marker\":{\"color\":\"#636efa\",\"symbol\":\"circle\"},\"mode\":\"markers\",\"name\":\"Malawi\",\"orientation\":\"v\",\"showlegend\":true,\"x\":[512.6562214324799],\"xaxis\":\"x\",\"y\":[63.279],\"yaxis\":\"y\",\"type\":\"scatter\"},{\"hovertemplate\":\"Entity=Malaysia\\u003cbr\\u003eGDPperCapita=%{x}\\u003cbr\\u003eLife expectancy=%{y}\\u003cextra\\u003e\\u003c\\u002fextra\\u003e\",\"legendgroup\":\"Malaysia\",\"marker\":{\"color\":\"#EF553B\",\"symbol\":\"circle\"},\"mode\":\"markers\",\"name\":\"Malaysia\",\"orientation\":\"v\",\"showlegend\":true,\"x\":[11713.792561266839],\"xaxis\":\"x\",\"y\":[75.828],\"yaxis\":\"y\",\"type\":\"scatter\"},{\"hovertemplate\":\"Entity=Maldives\\u003cbr\\u003eGDPperCapita=%{x}\\u003cbr\\u003eLife expectancy=%{y}\\u003cextra\\u003e\\u003c\\u002fextra\\u003e\",\"legendgroup\":\"Maldives\",\"marker\":{\"color\":\"#00cc96\",\"symbol\":\"circle\"},\"mode\":\"markers\",\"name\":\"Maldives\",\"orientation\":\"v\",\"showlegend\":true,\"x\":[7899.714168118267],\"xaxis\":\"x\",\"y\":[78.325],\"yaxis\":\"y\",\"type\":\"scatter\"},{\"hovertemplate\":\"Entity=Mali\\u003cbr\\u003eGDPperCapita=%{x}\\u003cbr\\u003eLife expectancy=%{y}\\u003cextra\\u003e\\u003c\\u002fextra\\u003e\",\"legendgroup\":\"Mali\",\"marker\":{\"color\":\"#ab63fa\",\"symbol\":\"circle\"},\"mode\":\"markers\",\"name\":\"Mali\",\"orientation\":\"v\",\"showlegend\":true,\"x\":[763.4603869121759],\"xaxis\":\"x\",\"y\":[58.452],\"yaxis\":\"y\",\"type\":\"scatter\"},{\"hovertemplate\":\"Entity=Malta\\u003cbr\\u003eGDPperCapita=%{x}\\u003cbr\\u003eLife expectancy=%{y}\\u003cextra\\u003e\\u003c\\u002fextra\\u003e\",\"legendgroup\":\"Malta\",\"marker\":{\"color\":\"#FFA15A\",\"symbol\":\"circle\"},\"mode\":\"markers\",\"name\":\"Malta\",\"orientation\":\"v\",\"showlegend\":true,\"x\":[28837.27962744566],\"xaxis\":\"x\",\"y\":[82.221],\"yaxis\":\"y\",\"type\":\"scatter\"},{\"hovertemplate\":\"Entity=Marshall Islands\\u003cbr\\u003eGDPperCapita=%{x}\\u003cbr\\u003eLife expectancy=%{y}\\u003cextra\\u003e\\u003c\\u002fextra\\u003e\",\"legendgroup\":\"Marshall Islands\",\"marker\":{\"color\":\"#19d3f3\",\"symbol\":\"circle\"},\"mode\":\"markers\",\"name\":\"Marshall Islands\",\"orientation\":\"v\",\"showlegend\":true,\"x\":[3164.1006681526383],\"xaxis\":\"x\",\"y\":[73.278],\"yaxis\":\"y\",\"type\":\"scatter\"},{\"hovertemplate\":\"Entity=Mauritania\\u003cbr\\u003eGDPperCapita=%{x}\\u003cbr\\u003eLife expectancy=%{y}\\u003cextra\\u003e\\u003c\\u002fextra\\u003e\",\"legendgroup\":\"Mauritania\",\"marker\":{\"color\":\"#FF6692\",\"symbol\":\"circle\"},\"mode\":\"markers\",\"name\":\"Mauritania\",\"orientation\":\"v\",\"showlegend\":true,\"x\":[1347.0106110759748],\"xaxis\":\"x\",\"y\":[64.464],\"yaxis\":\"y\",\"type\":\"scatter\"},{\"hovertemplate\":\"Entity=Mauritius\\u003cbr\\u003eGDPperCapita=%{x}\\u003cbr\\u003eLife expectancy=%{y}\\u003cextra\\u003e\\u003c\\u002fextra\\u003e\",\"legendgroup\":\"Mauritius\",\"marker\":{\"color\":\"#B6E880\",\"symbol\":\"circle\"},\"mode\":\"markers\",\"name\":\"Mauritius\",\"orientation\":\"v\",\"showlegend\":true,\"x\":[10190.993735979035],\"xaxis\":\"x\",\"y\":[74.743],\"yaxis\":\"y\",\"type\":\"scatter\"},{\"hovertemplate\":\"Entity=Mexico\\u003cbr\\u003eGDPperCapita=%{x}\\u003cbr\\u003eLife expectancy=%{y}\\u003cextra\\u003e\\u003c\\u002fextra\\u003e\",\"legendgroup\":\"Mexico\",\"marker\":{\"color\":\"#FF97FF\",\"symbol\":\"circle\"},\"mode\":\"markers\",\"name\":\"Mexico\",\"orientation\":\"v\",\"showlegend\":true,\"x\":[10295.794498827267],\"xaxis\":\"x\",\"y\":[74.947],\"yaxis\":\"y\",\"type\":\"scatter\"},{\"hovertemplate\":\"Entity=Moldova\\u003cbr\\u003eGDPperCapita=%{x}\\u003cbr\\u003eLife expectancy=%{y}\\u003cextra\\u003e\\u003c\\u002fextra\\u003e\",\"legendgroup\":\"Moldova\",\"marker\":{\"color\":\"#FECB52\",\"symbol\":\"circle\"},\"mode\":\"markers\",\"name\":\"Moldova\",\"orientation\":\"v\",\"showlegend\":true,\"x\":[1893.0453068657068],\"xaxis\":\"x\",\"y\":[71.717],\"yaxis\":\"y\",\"type\":\"scatter\"},{\"hovertemplate\":\"Entity=Mongolia\\u003cbr\\u003eGDPperCapita=%{x}\\u003cbr\\u003eLife expectancy=%{y}\\u003cextra\\u003e\\u003c\\u002fextra\\u003e\",\"legendgroup\":\"Mongolia\",\"marker\":{\"color\":\"#636efa\",\"symbol\":\"circle\"},\"mode\":\"markers\",\"name\":\"Mongolia\",\"orientation\":\"v\",\"showlegend\":true,\"x\":[4020.952428596564],\"xaxis\":\"x\",\"y\":[69.509],\"yaxis\":\"y\",\"type\":\"scatter\"},{\"hovertemplate\":\"Entity=Montenegro\\u003cbr\\u003eGDPperCapita=%{x}\\u003cbr\\u003eLife expectancy=%{y}\\u003cextra\\u003e\\u003c\\u002fextra\\u003e\",\"legendgroup\":\"Montenegro\",\"marker\":{\"color\":\"#EF553B\",\"symbol\":\"circle\"},\"mode\":\"markers\",\"name\":\"Montenegro\",\"orientation\":\"v\",\"showlegend\":true,\"x\":[7744.161328415015],\"xaxis\":\"x\",\"y\":[76.667],\"yaxis\":\"y\",\"type\":\"scatter\"},{\"hovertemplate\":\"Entity=Morocco\\u003cbr\\u003eGDPperCapita=%{x}\\u003cbr\\u003eLife expectancy=%{y}\\u003cextra\\u003e\\u003c\\u002fextra\\u003e\",\"legendgroup\":\"Morocco\",\"marker\":{\"color\":\"#00cc96\",\"symbol\":\"circle\"},\"mode\":\"markers\",\"name\":\"Morocco\",\"orientation\":\"v\",\"showlegend\":true,\"x\":[3358.2559171027515],\"xaxis\":\"x\",\"y\":[76.218],\"yaxis\":\"y\",\"type\":\"scatter\"},{\"hovertemplate\":\"Entity=Mozambique\\u003cbr\\u003eGDPperCapita=%{x}\\u003cbr\\u003eLife expectancy=%{y}\\u003cextra\\u003e\\u003c\\u002fextra\\u003e\",\"legendgroup\":\"Mozambique\",\"marker\":{\"color\":\"#ab63fa\",\"symbol\":\"circle\"},\"mode\":\"markers\",\"name\":\"Mozambique\",\"orientation\":\"v\",\"showlegend\":true,\"x\":[537.4346092917973],\"xaxis\":\"x\",\"y\":[59.309],\"yaxis\":\"y\",\"type\":\"scatter\"},{\"hovertemplate\":\"Entity=Myanmar\\u003cbr\\u003eGDPperCapita=%{x}\\u003cbr\\u003eLife expectancy=%{y}\\u003cextra\\u003e\\u003c\\u002fextra\\u003e\",\"legendgroup\":\"Myanmar\",\"marker\":{\"color\":\"#FFA15A\",\"symbol\":\"circle\"},\"mode\":\"markers\",\"name\":\"Myanmar\",\"orientation\":\"v\",\"showlegend\":true,\"x\":[1483.856240995092],\"xaxis\":\"x\",\"y\":[66.558],\"yaxis\":\"y\",\"type\":\"scatter\"},{\"hovertemplate\":\"Entity=Namibia\\u003cbr\\u003eGDPperCapita=%{x}\\u003cbr\\u003eLife expectancy=%{y}\\u003cextra\\u003e\\u003c\\u002fextra\\u003e\",\"legendgroup\":\"Namibia\",\"marker\":{\"color\":\"#19d3f3\",\"symbol\":\"circle\"},\"mode\":\"markers\",\"name\":\"Namibia\",\"orientation\":\"v\",\"showlegend\":true,\"x\":[6173.538590781273],\"xaxis\":\"x\",\"y\":[63.021],\"yaxis\":\"y\",\"type\":\"scatter\"},{\"hovertemplate\":\"Entity=Nauru\\u003cbr\\u003eGDPperCapita=%{x}\\u003cbr\\u003eLife expectancy=%{y}\\u003cextra\\u003e\\u003c\\u002fextra\\u003e\",\"legendgroup\":\"Nauru\",\"marker\":{\"color\":\"#FF6692\",\"symbol\":\"circle\"},\"mode\":\"markers\",\"name\":\"Nauru\",\"orientation\":\"v\",\"showlegend\":true,\"x\":[11923.843074243727],\"xaxis\":\"x\",\"y\":[59.805],\"yaxis\":\"y\",\"type\":\"scatter\"},{\"hovertemplate\":\"Entity=Nepal\\u003cbr\\u003eGDPperCapita=%{x}\\u003cbr\\u003eLife expectancy=%{y}\\u003cextra\\u003e\\u003c\\u002fextra\\u003e\",\"legendgroup\":\"Nepal\",\"marker\":{\"color\":\"#B6E880\",\"symbol\":\"circle\"},\"mode\":\"markers\",\"name\":\"Nepal\",\"orientation\":\"v\",\"showlegend\":true,\"x\":[772.4735975500814],\"xaxis\":\"x\",\"y\":[70.169],\"yaxis\":\"y\",\"type\":\"scatter\"},{\"hovertemplate\":\"Entity=Netherlands\\u003cbr\\u003eGDPperCapita=%{x}\\u003cbr\\u003eLife expectancy=%{y}\\u003cextra\\u003e\\u003c\\u002fextra\\u003e\",\"legendgroup\":\"Netherlands\",\"marker\":{\"color\":\"#FF97FF\",\"symbol\":\"circle\"},\"mode\":\"markers\",\"name\":\"Netherlands\",\"orientation\":\"v\",\"showlegend\":true,\"x\":[53950.0540635468],\"xaxis\":\"x\",\"y\":[82.004],\"yaxis\":\"y\",\"type\":\"scatter\"},{\"hovertemplate\":\"Entity=New Zealand\\u003cbr\\u003eGDPperCapita=%{x}\\u003cbr\\u003eLife expectancy=%{y}\\u003cextra\\u003e\\u003c\\u002fextra\\u003e\",\"legendgroup\":\"New Zealand\",\"marker\":{\"color\":\"#FECB52\",\"symbol\":\"circle\"},\"mode\":\"markers\",\"name\":\"New Zealand\",\"orientation\":\"v\",\"showlegend\":true,\"x\":[38592.70325665397],\"xaxis\":\"x\",\"y\":[82.002],\"yaxis\":\"y\",\"type\":\"scatter\"},{\"hovertemplate\":\"Entity=Nicaragua\\u003cbr\\u003eGDPperCapita=%{x}\\u003cbr\\u003eLife expectancy=%{y}\\u003cextra\\u003e\\u003c\\u002fextra\\u003e\",\"legendgroup\":\"Nicaragua\",\"marker\":{\"color\":\"#636efa\",\"symbol\":\"circle\"},\"mode\":\"markers\",\"name\":\"Nicaragua\",\"orientation\":\"v\",\"showlegend\":true,\"x\":[1963.4506830054502],\"xaxis\":\"x\",\"y\":[74.068],\"yaxis\":\"y\",\"type\":\"scatter\"},{\"hovertemplate\":\"Entity=Niger\\u003cbr\\u003eGDPperCapita=%{x}\\u003cbr\\u003eLife expectancy=%{y}\\u003cextra\\u003e\\u003c\\u002fextra\\u003e\",\"legendgroup\":\"Niger\",\"marker\":{\"color\":\"#EF553B\",\"symbol\":\"circle\"},\"mode\":\"markers\",\"name\":\"Niger\",\"orientation\":\"v\",\"showlegend\":true,\"x\":[393.6525754495546],\"xaxis\":\"x\",\"y\":[61.599],\"yaxis\":\"y\",\"type\":\"scatter\"},{\"hovertemplate\":\"Entity=Nigeria\\u003cbr\\u003eGDPperCapita=%{x}\\u003cbr\\u003eLife expectancy=%{y}\\u003cextra\\u003e\\u003c\\u002fextra\\u003e\",\"legendgroup\":\"Nigeria\",\"marker\":{\"color\":\"#00cc96\",\"symbol\":\"circle\"},\"mode\":\"markers\",\"name\":\"Nigeria\",\"orientation\":\"v\",\"showlegend\":true,\"x\":[2412.5783360682376],\"xaxis\":\"x\",\"y\":[53.95],\"yaxis\":\"y\",\"type\":\"scatter\"},{\"hovertemplate\":\"Entity=North Macedonia\\u003cbr\\u003eGDPperCapita=%{x}\\u003cbr\\u003eLife expectancy=%{y}\\u003cextra\\u003e\\u003c\\u002fextra\\u003e\",\"legendgroup\":\"North Macedonia\",\"marker\":{\"color\":\"#ab63fa\",\"symbol\":\"circle\"},\"mode\":\"markers\",\"name\":\"North Macedonia\",\"orientation\":\"v\",\"showlegend\":true,\"x\":[5248.282093054803],\"xaxis\":\"x\",\"y\":[75.589],\"yaxis\":\"y\",\"type\":\"scatter\"},{\"hovertemplate\":\"Entity=Norway\\u003cbr\\u003eGDPperCapita=%{x}\\u003cbr\\u003eLife expectancy=%{y}\\u003cextra\\u003e\\u003c\\u002fextra\\u003e\",\"legendgroup\":\"Norway\",\"marker\":{\"color\":\"#FFA15A\",\"symbol\":\"circle\"},\"mode\":\"markers\",\"name\":\"Norway\",\"orientation\":\"v\",\"showlegend\":true,\"x\":[90981.32256139029],\"xaxis\":\"x\",\"y\":[82.146],\"yaxis\":\"y\",\"type\":\"scatter\"},{\"hovertemplate\":\"Entity=Oman\\u003cbr\\u003eGDPperCapita=%{x}\\u003cbr\\u003eLife expectancy=%{y}\\u003cextra\\u003e\\u003c\\u002fextra\\u003e\",\"legendgroup\":\"Oman\",\"marker\":{\"color\":\"#19d3f3\",\"symbol\":\"circle\"},\"mode\":\"markers\",\"name\":\"Oman\",\"orientation\":\"v\",\"showlegend\":true,\"x\":[16041.513435599463],\"xaxis\":\"x\",\"y\":[77.393],\"yaxis\":\"y\",\"type\":\"scatter\"},{\"hovertemplate\":\"Entity=Pakistan\\u003cbr\\u003eGDPperCapita=%{x}\\u003cbr\\u003eLife expectancy=%{y}\\u003cextra\\u003e\\u003c\\u002fextra\\u003e\",\"legendgroup\":\"Pakistan\",\"marker\":{\"color\":\"#FF6692\",\"symbol\":\"circle\"},\"mode\":\"markers\",\"name\":\"Pakistan\",\"orientation\":\"v\",\"showlegend\":true,\"x\":[1158.4885232469962],\"xaxis\":\"x\",\"y\":[66.947],\"yaxis\":\"y\",\"type\":\"scatter\"},{\"hovertemplate\":\"Entity=Palau\\u003cbr\\u003eGDPperCapita=%{x}\\u003cbr\\u003eLife expectancy=%{y}\\u003cextra\\u003e\\u003c\\u002fextra\\u003e\",\"legendgroup\":\"Palau\",\"marker\":{\"color\":\"#B6E880\",\"symbol\":\"circle\"},\"mode\":\"markers\",\"name\":\"Palau\",\"orientation\":\"v\",\"showlegend\":true,\"x\":[12051.417300994945],\"xaxis\":\"x\",\"y\":[73.32],\"yaxis\":\"y\",\"type\":\"scatter\"},{\"hovertemplate\":\"Entity=Palestine\\u003cbr\\u003eGDPperCapita=%{x}\\u003cbr\\u003eLife expectancy=%{y}\\u003cextra\\u003e\\u003c\\u002fextra\\u003e\",\"legendgroup\":\"Palestine\",\"marker\":{\"color\":\"#FF97FF\",\"symbol\":\"circle\"},\"mode\":\"markers\",\"name\":\"Palestine\",\"orientation\":\"v\",\"showlegend\":true,\"x\":[2556.716968957236],\"xaxis\":\"x\",\"y\":[73.74],\"yaxis\":\"y\",\"type\":\"scatter\"},{\"hovertemplate\":\"Entity=Panama\\u003cbr\\u003eGDPperCapita=%{x}\\u003cbr\\u003eLife expectancy=%{y}\\u003cextra\\u003e\\u003c\\u002fextra\\u003e\",\"legendgroup\":\"Panama\",\"marker\":{\"color\":\"#FECB52\",\"symbol\":\"circle\"},\"mode\":\"markers\",\"name\":\"Panama\",\"orientation\":\"v\",\"showlegend\":true,\"x\":[11489.693265479986],\"xaxis\":\"x\",\"y\":[78.149],\"yaxis\":\"y\",\"type\":\"scatter\"},{\"hovertemplate\":\"Entity=Papua New Guinea\\u003cbr\\u003eGDPperCapita=%{x}\\u003cbr\\u003eLife expectancy=%{y}\\u003cextra\\u003e\\u003c\\u002fextra\\u003e\",\"legendgroup\":\"Papua New Guinea\",\"marker\":{\"color\":\"#636efa\",\"symbol\":\"circle\"},\"mode\":\"markers\",\"name\":\"Papua New Guinea\",\"orientation\":\"v\",\"showlegend\":true,\"x\":[2348.3947050418583],\"xaxis\":\"x\",\"y\":[64.01],\"yaxis\":\"y\",\"type\":\"scatter\"},{\"hovertemplate\":\"Entity=Paraguay\\u003cbr\\u003eGDPperCapita=%{x}\\u003cbr\\u003eLife expectancy=%{y}\\u003cextra\\u003e\\u003c\\u002fextra\\u003e\",\"legendgroup\":\"Paraguay\",\"marker\":{\"color\":\"#EF553B\",\"symbol\":\"circle\"},\"mode\":\"markers\",\"name\":\"Paraguay\",\"orientation\":\"v\",\"showlegend\":true,\"x\":[3874.246263594248],\"xaxis\":\"x\",\"y\":[73.992],\"yaxis\":\"y\",\"type\":\"scatter\"},{\"hovertemplate\":\"Entity=Peru\\u003cbr\\u003eGDPperCapita=%{x}\\u003cbr\\u003eLife expectancy=%{y}\\u003cextra\\u003e\\u003c\\u002fextra\\u003e\",\"legendgroup\":\"Peru\",\"marker\":{\"color\":\"#00cc96\",\"symbol\":\"circle\"},\"mode\":\"markers\",\"name\":\"Peru\",\"orientation\":\"v\",\"showlegend\":true,\"x\":[6314.326519317802],\"xaxis\":\"x\",\"y\":[76.286],\"yaxis\":\"y\",\"type\":\"scatter\"},{\"hovertemplate\":\"Entity=Philippines\\u003cbr\\u003eGDPperCapita=%{x}\\u003cbr\\u003eLife expectancy=%{y}\\u003cextra\\u003e\\u003c\\u002fextra\\u003e\",\"legendgroup\":\"Philippines\",\"marker\":{\"color\":\"#ab63fa\",\"symbol\":\"circle\"},\"mode\":\"markers\",\"name\":\"Philippines\",\"orientation\":\"v\",\"showlegend\":true,\"x\":[2884.3510430859346],\"xaxis\":\"x\",\"y\":[70.952],\"yaxis\":\"y\",\"type\":\"scatter\"},{\"hovertemplate\":\"Entity=Poland\\u003cbr\\u003eGDPperCapita=%{x}\\u003cbr\\u003eLife expectancy=%{y}\\u003cextra\\u003e\\u003c\\u002fextra\\u003e\",\"legendgroup\":\"Poland\",\"marker\":{\"color\":\"#FFA15A\",\"symbol\":\"circle\"},\"mode\":\"markers\",\"name\":\"Poland\",\"orientation\":\"v\",\"showlegend\":true,\"x\":[15760.713292936132],\"xaxis\":\"x\",\"y\":[78.338],\"yaxis\":\"y\",\"type\":\"scatter\"},{\"hovertemplate\":\"Entity=Portugal\\u003cbr\\u003eGDPperCapita=%{x}\\u003cbr\\u003eLife expectancy=%{y}\\u003cextra\\u003e\\u003c\\u002fextra\\u003e\",\"legendgroup\":\"Portugal\",\"marker\":{\"color\":\"#19d3f3\",\"symbol\":\"circle\"},\"mode\":\"markers\",\"name\":\"Portugal\",\"orientation\":\"v\",\"showlegend\":true,\"x\":[23127.1793929723],\"xaxis\":\"x\",\"y\":[81.655],\"yaxis\":\"y\",\"type\":\"scatter\"},{\"hovertemplate\":\"Entity=Qatar\\u003cbr\\u003eGDPperCapita=%{x}\\u003cbr\\u003eLife expectancy=%{y}\\u003cextra\\u003e\\u003c\\u002fextra\\u003e\",\"legendgroup\":\"Qatar\",\"marker\":{\"color\":\"#FF6692\",\"symbol\":\"circle\"},\"mode\":\"markers\",\"name\":\"Qatar\",\"orientation\":\"v\",\"showlegend\":true,\"x\":[63628.12021207412],\"xaxis\":\"x\",\"y\":[79.981],\"yaxis\":\"y\",\"type\":\"scatter\"},{\"hovertemplate\":\"Entity=Romania\\u003cbr\\u003eGDPperCapita=%{x}\\u003cbr\\u003eLife expectancy=%{y}\\u003cextra\\u003e\\u003c\\u002fextra\\u003e\",\"legendgroup\":\"Romania\",\"marker\":{\"color\":\"#B6E880\",\"symbol\":\"circle\"},\"mode\":\"markers\",\"name\":\"Romania\",\"orientation\":\"v\",\"showlegend\":true,\"x\":[10894.802686279638],\"xaxis\":\"x\",\"y\":[75.79],\"yaxis\":\"y\",\"type\":\"scatter\"},{\"hovertemplate\":\"Entity=Russia\\u003cbr\\u003eGDPperCapita=%{x}\\u003cbr\\u003eLife expectancy=%{y}\\u003cextra\\u003e\\u003c\\u002fextra\\u003e\",\"legendgroup\":\"Russia\",\"marker\":{\"color\":\"#FF97FF\",\"symbol\":\"circle\"},\"mode\":\"markers\",\"name\":\"Russia\",\"orientation\":\"v\",\"showlegend\":true,\"x\":[11544.047959580705],\"xaxis\":\"x\",\"y\":[72.139],\"yaxis\":\"y\",\"type\":\"scatter\"},{\"hovertemplate\":\"Entity=Rwanda\\u003cbr\\u003eGDPperCapita=%{x}\\u003cbr\\u003eLife expectancy=%{y}\\u003cextra\\u003e\\u003c\\u002fextra\\u003e\",\"legendgroup\":\"Rwanda\",\"marker\":{\"color\":\"#FECB52\",\"symbol\":\"circle\"},\"mode\":\"markers\",\"name\":\"Rwanda\",\"orientation\":\"v\",\"showlegend\":true,\"x\":[779.7490066089041],\"xaxis\":\"x\",\"y\":[68.341],\"yaxis\":\"y\",\"type\":\"scatter\"},{\"hovertemplate\":\"Entity=Saint Kitts and Nevis\\u003cbr\\u003eGDPperCapita=%{x}\\u003cbr\\u003eLife expectancy=%{y}\\u003cextra\\u003e\\u003c\\u002fextra\\u003e\",\"legendgroup\":\"Saint Kitts and Nevis\",\"marker\":{\"color\":\"#636efa\",\"symbol\":\"circle\"},\"mode\":\"markers\",\"name\":\"Saint Kitts and Nevis\",\"orientation\":\"v\",\"showlegend\":true,\"x\":[16794.35472127423],\"xaxis\":\"x\",\"y\":[75.91],\"yaxis\":\"y\",\"type\":\"scatter\"},{\"hovertemplate\":\"Entity=Saint Lucia\\u003cbr\\u003eGDPperCapita=%{x}\\u003cbr\\u003eLife expectancy=%{y}\\u003cextra\\u003e\\u003c\\u002fextra\\u003e\",\"legendgroup\":\"Saint Lucia\",\"marker\":{\"color\":\"#EF553B\",\"symbol\":\"circle\"},\"mode\":\"markers\",\"name\":\"Saint Lucia\",\"orientation\":\"v\",\"showlegend\":true,\"x\":[8452.687524606023],\"xaxis\":\"x\",\"y\":[75.907],\"yaxis\":\"y\",\"type\":\"scatter\"},{\"hovertemplate\":\"Entity=Saint Vincent and the Grenadines\\u003cbr\\u003eGDPperCapita=%{x}\\u003cbr\\u003eLife expectancy=%{y}\\u003cextra\\u003e\\u003c\\u002fextra\\u003e\",\"legendgroup\":\"Saint Vincent and the Grenadines\",\"marker\":{\"color\":\"#00cc96\",\"symbol\":\"circle\"},\"mode\":\"markers\",\"name\":\"Saint Vincent and the Grenadines\",\"orientation\":\"v\",\"showlegend\":true,\"x\":[6735.514265390299],\"xaxis\":\"x\",\"y\":[72.3],\"yaxis\":\"y\",\"type\":\"scatter\"},{\"hovertemplate\":\"Entity=Samoa\\u003cbr\\u003eGDPperCapita=%{x}\\u003cbr\\u003eLife expectancy=%{y}\\u003cextra\\u003e\\u003c\\u002fextra\\u003e\",\"legendgroup\":\"Samoa\",\"marker\":{\"color\":\"#ab63fa\",\"symbol\":\"circle\"},\"mode\":\"markers\",\"name\":\"Samoa\",\"orientation\":\"v\",\"showlegend\":true,\"x\":[3879.45020875761],\"xaxis\":\"x\",\"y\":[73.046],\"yaxis\":\"y\",\"type\":\"scatter\"},{\"hovertemplate\":\"Entity=San Marino\\u003cbr\\u003eGDPperCapita=%{x}\\u003cbr\\u003eLife expectancy=%{y}\\u003cextra\\u003e\\u003c\\u002fextra\\u003e\",\"legendgroup\":\"San Marino\",\"marker\":{\"color\":\"#FFA15A\",\"symbol\":\"circle\"},\"mode\":\"markers\",\"name\":\"San Marino\",\"orientation\":\"v\",\"showlegend\":true,\"x\":[51998.1805325606],\"xaxis\":\"x\",\"y\":[84.699],\"yaxis\":\"y\",\"type\":\"scatter\"},{\"hovertemplate\":\"Entity=Sao Tome and Principe\\u003cbr\\u003eGDPperCapita=%{x}\\u003cbr\\u003eLife expectancy=%{y}\\u003cextra\\u003e\\u003c\\u002fextra\\u003e\",\"legendgroup\":\"Sao Tome and Principe\",\"marker\":{\"color\":\"#19d3f3\",\"symbol\":\"circle\"},\"mode\":\"markers\",\"name\":\"Sao Tome and Principe\",\"orientation\":\"v\",\"showlegend\":true,\"x\":[1288.762361476111],\"xaxis\":\"x\",\"y\":[69.933],\"yaxis\":\"y\",\"type\":\"scatter\"},{\"hovertemplate\":\"Entity=Saudi Arabia\\u003cbr\\u003eGDPperCapita=%{x}\\u003cbr\\u003eLife expectancy=%{y}\\u003cextra\\u003e\\u003c\\u002fextra\\u003e\",\"legendgroup\":\"Saudi Arabia\",\"marker\":{\"color\":\"#FF6692\",\"symbol\":\"circle\"},\"mode\":\"markers\",\"name\":\"Saudi Arabia\",\"orientation\":\"v\",\"showlegend\":true,\"x\":[20694.04549711489],\"xaxis\":\"x\",\"y\":[74.874],\"yaxis\":\"y\",\"type\":\"scatter\"},{\"hovertemplate\":\"Entity=Senegal\\u003cbr\\u003eGDPperCapita=%{x}\\u003cbr\\u003eLife expectancy=%{y}\\u003cextra\\u003e\\u003c\\u002fextra\\u003e\",\"legendgroup\":\"Senegal\",\"marker\":{\"color\":\"#B6E880\",\"symbol\":\"circle\"},\"mode\":\"markers\",\"name\":\"Senegal\",\"orientation\":\"v\",\"showlegend\":true,\"x\":[1165.824407244004],\"xaxis\":\"x\",\"y\":[67.38],\"yaxis\":\"y\",\"type\":\"scatter\"},{\"hovertemplate\":\"Entity=Serbia\\u003cbr\\u003eGDPperCapita=%{x}\\u003cbr\\u003eLife expectancy=%{y}\\u003cextra\\u003e\\u003c\\u002fextra\\u003e\",\"legendgroup\":\"Serbia\",\"marker\":{\"color\":\"#FF97FF\",\"symbol\":\"circle\"},\"mode\":\"markers\",\"name\":\"Serbia\",\"orientation\":\"v\",\"showlegend\":true,\"x\":[4765.5051662726055],\"xaxis\":\"x\",\"y\":[75.684],\"yaxis\":\"y\",\"type\":\"scatter\"},{\"hovertemplate\":\"Entity=Seychelles\\u003cbr\\u003eGDPperCapita=%{x}\\u003cbr\\u003eLife expectancy=%{y}\\u003cextra\\u003e\\u003c\\u002fextra\\u003e\",\"legendgroup\":\"Seychelles\",\"marker\":{\"color\":\"#FECB52\",\"symbol\":\"circle\"},\"mode\":\"markers\",\"name\":\"Seychelles\",\"orientation\":\"v\",\"showlegend\":true,\"x\":[13974.193431753958],\"xaxis\":\"x\",\"y\":[73.276],\"yaxis\":\"y\",\"type\":\"scatter\"},{\"hovertemplate\":\"Entity=Sierra Leone\\u003cbr\\u003eGDPperCapita=%{x}\\u003cbr\\u003eLife expectancy=%{y}\\u003cextra\\u003e\\u003c\\u002fextra\\u003e\",\"legendgroup\":\"Sierra Leone\",\"marker\":{\"color\":\"#636efa\",\"symbol\":\"circle\"},\"mode\":\"markers\",\"name\":\"Sierra Leone\",\"orientation\":\"v\",\"showlegend\":true,\"x\":[466.7321194998571],\"xaxis\":\"x\",\"y\":[53.895],\"yaxis\":\"y\",\"type\":\"scatter\"},{\"hovertemplate\":\"Entity=Singapore\\u003cbr\\u003eGDPperCapita=%{x}\\u003cbr\\u003eLife expectancy=%{y}\\u003cextra\\u003e\\u003c\\u002fextra\\u003e\",\"legendgroup\":\"Singapore\",\"marker\":{\"color\":\"#EF553B\",\"symbol\":\"circle\"},\"mode\":\"markers\",\"name\":\"Singapore\",\"orientation\":\"v\",\"showlegend\":true,\"x\":[54308.982638511385],\"xaxis\":\"x\",\"y\":[83.279],\"yaxis\":\"y\",\"type\":\"scatter\"},{\"hovertemplate\":\"Entity=Slovakia\\u003cbr\\u003eGDPperCapita=%{x}\\u003cbr\\u003eLife expectancy=%{y}\\u003cextra\\u003e\\u003c\\u002fextra\\u003e\",\"legendgroup\":\"Slovakia\",\"marker\":{\"color\":\"#00cc96\",\"symbol\":\"circle\"},\"mode\":\"markers\",\"name\":\"Slovakia\",\"orientation\":\"v\",\"showlegend\":true,\"x\":[19867.541517165013],\"xaxis\":\"x\",\"y\":[77.219],\"yaxis\":\"y\",\"type\":\"scatter\"},{\"hovertemplate\":\"Entity=Slovenia\\u003cbr\\u003eGDPperCapita=%{x}\\u003cbr\\u003eLife expectancy=%{y}\\u003cextra\\u003e\\u003c\\u002fextra\\u003e\",\"legendgroup\":\"Slovenia\",\"marker\":{\"color\":\"#ab63fa\",\"symbol\":\"circle\"},\"mode\":\"markers\",\"name\":\"Slovenia\",\"orientation\":\"v\",\"showlegend\":true,\"x\":[25548.04657953998],\"xaxis\":\"x\",\"y\":[81.016],\"yaxis\":\"y\",\"type\":\"scatter\"},{\"hovertemplate\":\"Entity=Solomon Islands\\u003cbr\\u003eGDPperCapita=%{x}\\u003cbr\\u003eLife expectancy=%{y}\\u003cextra\\u003e\\u003c\\u002fextra\\u003e\",\"legendgroup\":\"Solomon Islands\",\"marker\":{\"color\":\"#FFA15A\",\"symbol\":\"circle\"},\"mode\":\"markers\",\"name\":\"Solomon Islands\",\"orientation\":\"v\",\"showlegend\":true,\"x\":[1462.315444722118],\"xaxis\":\"x\",\"y\":[72.645],\"yaxis\":\"y\",\"type\":\"scatter\"},{\"hovertemplate\":\"Entity=South Africa\\u003cbr\\u003eGDPperCapita=%{x}\\u003cbr\\u003eLife expectancy=%{y}\\u003cextra\\u003e\\u003c\\u002fextra\\u003e\",\"legendgroup\":\"South Africa\",\"marker\":{\"color\":\"#19d3f3\",\"symbol\":\"circle\"},\"mode\":\"markers\",\"name\":\"South Africa\",\"orientation\":\"v\",\"showlegend\":true,\"x\":[7485.8599310439395],\"xaxis\":\"x\",\"y\":[63.538],\"yaxis\":\"y\",\"type\":\"scatter\"},{\"hovertemplate\":\"Entity=South Korea\\u003cbr\\u003eGDPperCapita=%{x}\\u003cbr\\u003eLife expectancy=%{y}\\u003cextra\\u003e\\u003c\\u002fextra\\u003e\",\"legendgroup\":\"South Korea\",\"marker\":{\"color\":\"#FF6692\",\"symbol\":\"circle\"},\"mode\":\"markers\",\"name\":\"South Korea\",\"orientation\":\"v\",\"showlegend\":true,\"x\":[26341.50760170933],\"xaxis\":\"x\",\"y\":[82.628],\"yaxis\":\"y\",\"type\":\"scatter\"},{\"hovertemplate\":\"Entity=Spain\\u003cbr\\u003eGDPperCapita=%{x}\\u003cbr\\u003eLife expectancy=%{y}\\u003cextra\\u003e\\u003c\\u002fextra\\u003e\",\"legendgroup\":\"Spain\",\"marker\":{\"color\":\"#B6E880\",\"symbol\":\"circle\"},\"mode\":\"markers\",\"name\":\"Spain\",\"orientation\":\"v\",\"showlegend\":true,\"x\":[32353.667637547966],\"xaxis\":\"x\",\"y\":[83.294],\"yaxis\":\"y\",\"type\":\"scatter\"},{\"hovertemplate\":\"Entity=Sri Lanka\\u003cbr\\u003eGDPperCapita=%{x}\\u003cbr\\u003eLife expectancy=%{y}\\u003cextra\\u003e\\u003c\\u002fextra\\u003e\",\"legendgroup\":\"Sri Lanka\",\"marker\":{\"color\":\"#FF97FF\",\"symbol\":\"circle\"},\"mode\":\"markers\",\"name\":\"Sri Lanka\",\"orientation\":\"v\",\"showlegend\":true,\"x\":[3899.7631299049885],\"xaxis\":\"x\",\"y\":[76.648],\"yaxis\":\"y\",\"type\":\"scatter\"},{\"hovertemplate\":\"Entity=Sudan\\u003cbr\\u003eGDPperCapita=%{x}\\u003cbr\\u003eLife expectancy=%{y}\\u003cextra\\u003e\\u003c\\u002fextra\\u003e\",\"legendgroup\":\"Sudan\",\"marker\":{\"color\":\"#FECB52\",\"symbol\":\"circle\"},\"mode\":\"markers\",\"name\":\"Sudan\",\"orientation\":\"v\",\"showlegend\":true,\"x\":[1945.7284749482765],\"xaxis\":\"x\",\"y\":[64.881],\"yaxis\":\"y\",\"type\":\"scatter\"},{\"hovertemplate\":\"Entity=Suriname\\u003cbr\\u003eGDPperCapita=%{x}\\u003cbr\\u003eLife expectancy=%{y}\\u003cextra\\u003e\\u003c\\u002fextra\\u003e\",\"legendgroup\":\"Suriname\",\"marker\":{\"color\":\"#636efa\",\"symbol\":\"circle\"},\"mode\":\"markers\",\"name\":\"Suriname\",\"orientation\":\"v\",\"showlegend\":true,\"x\":[7936.431957189545],\"xaxis\":\"x\",\"y\":[71.463],\"yaxis\":\"y\",\"type\":\"scatter\"},{\"hovertemplate\":\"Entity=Sweden\\u003cbr\\u003eGDPperCapita=%{x}\\u003cbr\\u003eLife expectancy=%{y}\\u003cextra\\u003e\\u003c\\u002fextra\\u003e\",\"legendgroup\":\"Sweden\",\"marker\":{\"color\":\"#EF553B\",\"symbol\":\"circle\"},\"mode\":\"markers\",\"name\":\"Sweden\",\"orientation\":\"v\",\"showlegend\":true,\"x\":[57870.66129200807],\"xaxis\":\"x\",\"y\":[82.516],\"yaxis\":\"y\",\"type\":\"scatter\"},{\"hovertemplate\":\"Entity=Switzerland\\u003cbr\\u003eGDPperCapita=%{x}\\u003cbr\\u003eLife expectancy=%{y}\\u003cextra\\u003e\\u003c\\u002fextra\\u003e\",\"legendgroup\":\"Switzerland\",\"marker\":{\"color\":\"#00cc96\",\"symbol\":\"circle\"},\"mode\":\"markers\",\"name\":\"Switzerland\",\"orientation\":\"v\",\"showlegend\":true,\"x\":[76758.26449703275],\"xaxis\":\"x\",\"y\":[83.473],\"yaxis\":\"y\",\"type\":\"scatter\"},{\"hovertemplate\":\"Entity=Tajikistan\\u003cbr\\u003eGDPperCapita=%{x}\\u003cbr\\u003eLife expectancy=%{y}\\u003cextra\\u003e\\u003c\\u002fextra\\u003e\",\"legendgroup\":\"Tajikistan\",\"marker\":{\"color\":\"#ab63fa\",\"symbol\":\"circle\"},\"mode\":\"markers\",\"name\":\"Tajikistan\",\"orientation\":\"v\",\"showlegend\":true,\"x\":[1020.1999665853256],\"xaxis\":\"x\",\"y\":[70.647],\"yaxis\":\"y\",\"type\":\"scatter\"},{\"hovertemplate\":\"Entity=Tanzania\\u003cbr\\u003eGDPperCapita=%{x}\\u003cbr\\u003eLife expectancy=%{y}\\u003cextra\\u003e\\u003c\\u002fextra\\u003e\",\"legendgroup\":\"Tanzania\",\"marker\":{\"color\":\"#FFA15A\",\"symbol\":\"circle\"},\"mode\":\"markers\",\"name\":\"Tanzania\",\"orientation\":\"v\",\"showlegend\":true,\"x\":[916.5431662911818],\"xaxis\":\"x\",\"y\":[64.479],\"yaxis\":\"y\",\"type\":\"scatter\"},{\"hovertemplate\":\"Entity=Thailand\\u003cbr\\u003eGDPperCapita=%{x}\\u003cbr\\u003eLife expectancy=%{y}\\u003cextra\\u003e\\u003c\\u002fextra\\u003e\",\"legendgroup\":\"Thailand\",\"marker\":{\"color\":\"#19d3f3\",\"symbol\":\"circle\"},\"mode\":\"markers\",\"name\":\"Thailand\",\"orientation\":\"v\",\"showlegend\":true,\"x\":[6110.393755646091],\"xaxis\":\"x\",\"y\":[76.683],\"yaxis\":\"y\",\"type\":\"scatter\"},{\"hovertemplate\":\"Entity=Timor\\u003cbr\\u003eGDPperCapita=%{x}\\u003cbr\\u003eLife expectancy=%{y}\\u003cextra\\u003e\\u003c\\u002fextra\\u003e\",\"legendgroup\":\"Timor\",\"marker\":{\"color\":\"#FF6692\",\"symbol\":\"circle\"},\"mode\":\"markers\",\"name\":\"Timor\",\"orientation\":\"v\",\"showlegend\":true,\"x\":[2786.7006105681335],\"xaxis\":\"x\",\"y\":[69.007],\"yaxis\":\"y\",\"type\":\"scatter\"},{\"hovertemplate\":\"Entity=Togo\\u003cbr\\u003eGDPperCapita=%{x}\\u003cbr\\u003eLife expectancy=%{y}\\u003cextra\\u003e\\u003c\\u002fextra\\u003e\",\"legendgroup\":\"Togo\",\"marker\":{\"color\":\"#B6E880\",\"symbol\":\"circle\"},\"mode\":\"markers\",\"name\":\"Togo\",\"orientation\":\"v\",\"showlegend\":true,\"x\":[584.8597238590712],\"xaxis\":\"x\",\"y\":[60.489],\"yaxis\":\"y\",\"type\":\"scatter\"},{\"hovertemplate\":\"Entity=Tonga\\u003cbr\\u003eGDPperCapita=%{x}\\u003cbr\\u003eLife expectancy=%{y}\\u003cextra\\u003e\\u003c\\u002fextra\\u003e\",\"legendgroup\":\"Tonga\",\"marker\":{\"color\":\"#FF97FF\",\"symbol\":\"circle\"},\"mode\":\"markers\",\"name\":\"Tonga\",\"orientation\":\"v\",\"showlegend\":true,\"x\":[4090.2561115260783],\"xaxis\":\"x\",\"y\":[70.701],\"yaxis\":\"y\",\"type\":\"scatter\"},{\"hovertemplate\":\"Entity=Trinidad and Tobago\\u003cbr\\u003eGDPperCapita=%{x}\\u003cbr\\u003eLife expectancy=%{y}\\u003cextra\\u003e\\u003c\\u002fextra\\u003e\",\"legendgroup\":\"Trinidad and Tobago\",\"marker\":{\"color\":\"#FECB52\",\"symbol\":\"circle\"},\"mode\":\"markers\",\"name\":\"Trinidad and Tobago\",\"orientation\":\"v\",\"showlegend\":true,\"x\":[15185.862214853612],\"xaxis\":\"x\",\"y\":[73.245],\"yaxis\":\"y\",\"type\":\"scatter\"},{\"hovertemplate\":\"Entity=Tunisia\\u003cbr\\u003eGDPperCapita=%{x}\\u003cbr\\u003eLife expectancy=%{y}\\u003cextra\\u003e\\u003c\\u002fextra\\u003e\",\"legendgroup\":\"Tunisia\",\"marker\":{\"color\":\"#636efa\",\"symbol\":\"circle\"},\"mode\":\"markers\",\"name\":\"Tunisia\",\"orientation\":\"v\",\"showlegend\":true,\"x\":[4341.280063602292],\"xaxis\":\"x\",\"y\":[76.31],\"yaxis\":\"y\",\"type\":\"scatter\"},{\"hovertemplate\":\"Entity=Turkey\\u003cbr\\u003eGDPperCapita=%{x}\\u003cbr\\u003eLife expectancy=%{y}\\u003cextra\\u003e\\u003c\\u002fextra\\u003e\",\"legendgroup\":\"Turkey\",\"marker\":{\"color\":\"#EF553B\",\"symbol\":\"circle\"},\"mode\":\"markers\",\"name\":\"Turkey\",\"orientation\":\"v\",\"showlegend\":true,\"x\":[14864.968662745698],\"xaxis\":\"x\",\"y\":[77.161],\"yaxis\":\"y\",\"type\":\"scatter\"},{\"hovertemplate\":\"Entity=Turkmenistan\\u003cbr\\u003eGDPperCapita=%{x}\\u003cbr\\u003eLife expectancy=%{y}\\u003cextra\\u003e\\u003c\\u002fextra\\u003e\",\"legendgroup\":\"Turkmenistan\",\"marker\":{\"color\":\"#00cc96\",\"symbol\":\"circle\"},\"mode\":\"markers\",\"name\":\"Turkmenistan\",\"orientation\":\"v\",\"showlegend\":true,\"x\":[7317.644819810507],\"xaxis\":\"x\",\"y\":[67.956],\"yaxis\":\"y\",\"type\":\"scatter\"},{\"hovertemplate\":\"Entity=Tuvalu\\u003cbr\\u003eGDPperCapita=%{x}\\u003cbr\\u003eLife expectancy=%{y}\\u003cextra\\u003e\\u003c\\u002fextra\\u003e\",\"legendgroup\":\"Tuvalu\",\"marker\":{\"color\":\"#ab63fa\",\"symbol\":\"circle\"},\"mode\":\"markers\",\"name\":\"Tuvalu\",\"orientation\":\"v\",\"showlegend\":true,\"x\":[3680.6712693304994],\"xaxis\":\"x\",\"y\":[67.089],\"yaxis\":\"y\",\"type\":\"scatter\"},{\"hovertemplate\":\"Entity=Uganda\\u003cbr\\u003eGDPperCapita=%{x}\\u003cbr\\u003eLife expectancy=%{y}\\u003cextra\\u003e\\u003c\\u002fextra\\u003e\",\"legendgroup\":\"Uganda\",\"marker\":{\"color\":\"#FFA15A\",\"symbol\":\"circle\"},\"mode\":\"markers\",\"name\":\"Uganda\",\"orientation\":\"v\",\"showlegend\":true,\"x\":[694.0680136942867],\"xaxis\":\"x\",\"y\":[62.516],\"yaxis\":\"y\",\"type\":\"scatter\"},{\"hovertemplate\":\"Entity=Ukraine\\u003cbr\\u003eGDPperCapita=%{x}\\u003cbr\\u003eLife expectancy=%{y}\\u003cextra\\u003e\\u003c\\u002fextra\\u003e\",\"legendgroup\":\"Ukraine\",\"marker\":{\"color\":\"#19d3f3\",\"symbol\":\"circle\"},\"mode\":\"markers\",\"name\":\"Ukraine\",\"orientation\":\"v\",\"showlegend\":true,\"x\":[2856.967863917371],\"xaxis\":\"x\",\"y\":[71.84],\"yaxis\":\"y\",\"type\":\"scatter\"},{\"hovertemplate\":\"Entity=United Arab Emirates\\u003cbr\\u003eGDPperCapita=%{x}\\u003cbr\\u003eLife expectancy=%{y}\\u003cextra\\u003e\\u003c\\u002fextra\\u003e\",\"legendgroup\":\"United Arab Emirates\",\"marker\":{\"color\":\"#FF6692\",\"symbol\":\"circle\"},\"mode\":\"markers\",\"name\":\"United Arab Emirates\",\"orientation\":\"v\",\"showlegend\":true,\"x\":[40820.002119628756],\"xaxis\":\"x\",\"y\":[77.647],\"yaxis\":\"y\",\"type\":\"scatter\"},{\"hovertemplate\":\"Entity=United Kingdom\\u003cbr\\u003eGDPperCapita=%{x}\\u003cbr\\u003eLife expectancy=%{y}\\u003cextra\\u003e\\u003c\\u002fextra\\u003e\",\"legendgroup\":\"United Kingdom\",\"marker\":{\"color\":\"#B6E880\",\"symbol\":\"circle\"},\"mode\":\"markers\",\"name\":\"United Kingdom\",\"orientation\":\"v\",\"showlegend\":true,\"x\":[42065.47719657815],\"xaxis\":\"x\",\"y\":[81.168],\"yaxis\":\"y\",\"type\":\"scatter\"},{\"hovertemplate\":\"Entity=United States\\u003cbr\\u003eGDPperCapita=%{x}\\u003cbr\\u003eLife expectancy=%{y}\\u003cextra\\u003e\\u003c\\u002fextra\\u003e\",\"legendgroup\":\"United States\",\"marker\":{\"color\":\"#FF97FF\",\"symbol\":\"circle\"},\"mode\":\"markers\",\"name\":\"United States\",\"orientation\":\"v\",\"showlegend\":true,\"x\":[53232.18452176347],\"xaxis\":\"x\",\"y\":[78.861],\"yaxis\":\"y\",\"type\":\"scatter\"},{\"hovertemplate\":\"Entity=Uruguay\\u003cbr\\u003eGDPperCapita=%{x}\\u003cbr\\u003eLife expectancy=%{y}\\u003cextra\\u003e\\u003c\\u002fextra\\u003e\",\"legendgroup\":\"Uruguay\",\"marker\":{\"color\":\"#FECB52\",\"symbol\":\"circle\"},\"mode\":\"markers\",\"name\":\"Uruguay\",\"orientation\":\"v\",\"showlegend\":true,\"x\":[14445.09266111056],\"xaxis\":\"x\",\"y\":[77.632],\"yaxis\":\"y\",\"type\":\"scatter\"},{\"hovertemplate\":\"Entity=Uzbekistan\\u003cbr\\u003eGDPperCapita=%{x}\\u003cbr\\u003eLife expectancy=%{y}\\u003cextra\\u003e\\u003c\\u002fextra\\u003e\",\"legendgroup\":\"Uzbekistan\",\"marker\":{\"color\":\"#636efa\",\"symbol\":\"circle\"},\"mode\":\"markers\",\"name\":\"Uzbekistan\",\"orientation\":\"v\",\"showlegend\":true,\"x\":[2058.1961771873657],\"xaxis\":\"x\",\"y\":[71.388],\"yaxis\":\"y\",\"type\":\"scatter\"},{\"hovertemplate\":\"Entity=Vanuatu\\u003cbr\\u003eGDPperCapita=%{x}\\u003cbr\\u003eLife expectancy=%{y}\\u003cextra\\u003e\\u003c\\u002fextra\\u003e\",\"legendgroup\":\"Vanuatu\",\"marker\":{\"color\":\"#EF553B\",\"symbol\":\"circle\"},\"mode\":\"markers\",\"name\":\"Vanuatu\",\"orientation\":\"v\",\"showlegend\":true,\"x\":[2849.2103791819964],\"xaxis\":\"x\",\"y\":[70.172],\"yaxis\":\"y\",\"type\":\"scatter\"},{\"hovertemplate\":\"Entity=Vietnam\\u003cbr\\u003eGDPperCapita=%{x}\\u003cbr\\u003eLife expectancy=%{y}\\u003cextra\\u003e\\u003c\\u002fextra\\u003e\",\"legendgroup\":\"Vietnam\",\"marker\":{\"color\":\"#00cc96\",\"symbol\":\"circle\"},\"mode\":\"markers\",\"name\":\"Vietnam\",\"orientation\":\"v\",\"showlegend\":true,\"x\":[1852.8776765697721],\"xaxis\":\"x\",\"y\":[75.241],\"yaxis\":\"y\",\"type\":\"scatter\"},{\"hovertemplate\":\"Entity=Zambia\\u003cbr\\u003eGDPperCapita=%{x}\\u003cbr\\u003eLife expectancy=%{y}\\u003cextra\\u003e\\u003c\\u002fextra\\u003e\",\"legendgroup\":\"Zambia\",\"marker\":{\"color\":\"#ab63fa\",\"symbol\":\"circle\"},\"mode\":\"markers\",\"name\":\"Zambia\",\"orientation\":\"v\",\"showlegend\":true,\"x\":[1669.5975269283852],\"xaxis\":\"x\",\"y\":[63.043],\"yaxis\":\"y\",\"type\":\"scatter\"},{\"hovertemplate\":\"Entity=Zimbabwe\\u003cbr\\u003eGDPperCapita=%{x}\\u003cbr\\u003eLife expectancy=%{y}\\u003cextra\\u003e\\u003c\\u002fextra\\u003e\",\"legendgroup\":\"Zimbabwe\",\"marker\":{\"color\":\"#FFA15A\",\"symbol\":\"circle\"},\"mode\":\"markers\",\"name\":\"Zimbabwe\",\"orientation\":\"v\",\"showlegend\":true,\"x\":[1076.7585014988622],\"xaxis\":\"x\",\"y\":[60.812],\"yaxis\":\"y\",\"type\":\"scatter\"}],                        {\"template\":{\"data\":{\"histogram2dcontour\":[{\"type\":\"histogram2dcontour\",\"colorbar\":{\"outlinewidth\":0,\"ticks\":\"\"},\"colorscale\":[[0.0,\"#0d0887\"],[0.1111111111111111,\"#46039f\"],[0.2222222222222222,\"#7201a8\"],[0.3333333333333333,\"#9c179e\"],[0.4444444444444444,\"#bd3786\"],[0.5555555555555556,\"#d8576b\"],[0.6666666666666666,\"#ed7953\"],[0.7777777777777778,\"#fb9f3a\"],[0.8888888888888888,\"#fdca26\"],[1.0,\"#f0f921\"]]}],\"choropleth\":[{\"type\":\"choropleth\",\"colorbar\":{\"outlinewidth\":0,\"ticks\":\"\"}}],\"histogram2d\":[{\"type\":\"histogram2d\",\"colorbar\":{\"outlinewidth\":0,\"ticks\":\"\"},\"colorscale\":[[0.0,\"#0d0887\"],[0.1111111111111111,\"#46039f\"],[0.2222222222222222,\"#7201a8\"],[0.3333333333333333,\"#9c179e\"],[0.4444444444444444,\"#bd3786\"],[0.5555555555555556,\"#d8576b\"],[0.6666666666666666,\"#ed7953\"],[0.7777777777777778,\"#fb9f3a\"],[0.8888888888888888,\"#fdca26\"],[1.0,\"#f0f921\"]]}],\"heatmap\":[{\"type\":\"heatmap\",\"colorbar\":{\"outlinewidth\":0,\"ticks\":\"\"},\"colorscale\":[[0.0,\"#0d0887\"],[0.1111111111111111,\"#46039f\"],[0.2222222222222222,\"#7201a8\"],[0.3333333333333333,\"#9c179e\"],[0.4444444444444444,\"#bd3786\"],[0.5555555555555556,\"#d8576b\"],[0.6666666666666666,\"#ed7953\"],[0.7777777777777778,\"#fb9f3a\"],[0.8888888888888888,\"#fdca26\"],[1.0,\"#f0f921\"]]}],\"heatmapgl\":[{\"type\":\"heatmapgl\",\"colorbar\":{\"outlinewidth\":0,\"ticks\":\"\"},\"colorscale\":[[0.0,\"#0d0887\"],[0.1111111111111111,\"#46039f\"],[0.2222222222222222,\"#7201a8\"],[0.3333333333333333,\"#9c179e\"],[0.4444444444444444,\"#bd3786\"],[0.5555555555555556,\"#d8576b\"],[0.6666666666666666,\"#ed7953\"],[0.7777777777777778,\"#fb9f3a\"],[0.8888888888888888,\"#fdca26\"],[1.0,\"#f0f921\"]]}],\"contourcarpet\":[{\"type\":\"contourcarpet\",\"colorbar\":{\"outlinewidth\":0,\"ticks\":\"\"}}],\"contour\":[{\"type\":\"contour\",\"colorbar\":{\"outlinewidth\":0,\"ticks\":\"\"},\"colorscale\":[[0.0,\"#0d0887\"],[0.1111111111111111,\"#46039f\"],[0.2222222222222222,\"#7201a8\"],[0.3333333333333333,\"#9c179e\"],[0.4444444444444444,\"#bd3786\"],[0.5555555555555556,\"#d8576b\"],[0.6666666666666666,\"#ed7953\"],[0.7777777777777778,\"#fb9f3a\"],[0.8888888888888888,\"#fdca26\"],[1.0,\"#f0f921\"]]}],\"surface\":[{\"type\":\"surface\",\"colorbar\":{\"outlinewidth\":0,\"ticks\":\"\"},\"colorscale\":[[0.0,\"#0d0887\"],[0.1111111111111111,\"#46039f\"],[0.2222222222222222,\"#7201a8\"],[0.3333333333333333,\"#9c179e\"],[0.4444444444444444,\"#bd3786\"],[0.5555555555555556,\"#d8576b\"],[0.6666666666666666,\"#ed7953\"],[0.7777777777777778,\"#fb9f3a\"],[0.8888888888888888,\"#fdca26\"],[1.0,\"#f0f921\"]]}],\"mesh3d\":[{\"type\":\"mesh3d\",\"colorbar\":{\"outlinewidth\":0,\"ticks\":\"\"}}],\"scatter\":[{\"fillpattern\":{\"fillmode\":\"overlay\",\"size\":10,\"solidity\":0.2},\"type\":\"scatter\"}],\"parcoords\":[{\"type\":\"parcoords\",\"line\":{\"colorbar\":{\"outlinewidth\":0,\"ticks\":\"\"}}}],\"scatterpolargl\":[{\"type\":\"scatterpolargl\",\"marker\":{\"colorbar\":{\"outlinewidth\":0,\"ticks\":\"\"}}}],\"bar\":[{\"error_x\":{\"color\":\"#2a3f5f\"},\"error_y\":{\"color\":\"#2a3f5f\"},\"marker\":{\"line\":{\"color\":\"#E5ECF6\",\"width\":0.5},\"pattern\":{\"fillmode\":\"overlay\",\"size\":10,\"solidity\":0.2}},\"type\":\"bar\"}],\"scattergeo\":[{\"type\":\"scattergeo\",\"marker\":{\"colorbar\":{\"outlinewidth\":0,\"ticks\":\"\"}}}],\"scatterpolar\":[{\"type\":\"scatterpolar\",\"marker\":{\"colorbar\":{\"outlinewidth\":0,\"ticks\":\"\"}}}],\"histogram\":[{\"marker\":{\"pattern\":{\"fillmode\":\"overlay\",\"size\":10,\"solidity\":0.2}},\"type\":\"histogram\"}],\"scattergl\":[{\"type\":\"scattergl\",\"marker\":{\"colorbar\":{\"outlinewidth\":0,\"ticks\":\"\"}}}],\"scatter3d\":[{\"type\":\"scatter3d\",\"line\":{\"colorbar\":{\"outlinewidth\":0,\"ticks\":\"\"}},\"marker\":{\"colorbar\":{\"outlinewidth\":0,\"ticks\":\"\"}}}],\"scattermapbox\":[{\"type\":\"scattermapbox\",\"marker\":{\"colorbar\":{\"outlinewidth\":0,\"ticks\":\"\"}}}],\"scatterternary\":[{\"type\":\"scatterternary\",\"marker\":{\"colorbar\":{\"outlinewidth\":0,\"ticks\":\"\"}}}],\"scattercarpet\":[{\"type\":\"scattercarpet\",\"marker\":{\"colorbar\":{\"outlinewidth\":0,\"ticks\":\"\"}}}],\"carpet\":[{\"aaxis\":{\"endlinecolor\":\"#2a3f5f\",\"gridcolor\":\"white\",\"linecolor\":\"white\",\"minorgridcolor\":\"white\",\"startlinecolor\":\"#2a3f5f\"},\"baxis\":{\"endlinecolor\":\"#2a3f5f\",\"gridcolor\":\"white\",\"linecolor\":\"white\",\"minorgridcolor\":\"white\",\"startlinecolor\":\"#2a3f5f\"},\"type\":\"carpet\"}],\"table\":[{\"cells\":{\"fill\":{\"color\":\"#EBF0F8\"},\"line\":{\"color\":\"white\"}},\"header\":{\"fill\":{\"color\":\"#C8D4E3\"},\"line\":{\"color\":\"white\"}},\"type\":\"table\"}],\"barpolar\":[{\"marker\":{\"line\":{\"color\":\"#E5ECF6\",\"width\":0.5},\"pattern\":{\"fillmode\":\"overlay\",\"size\":10,\"solidity\":0.2}},\"type\":\"barpolar\"}],\"pie\":[{\"automargin\":true,\"type\":\"pie\"}]},\"layout\":{\"autotypenumbers\":\"strict\",\"colorway\":[\"#636efa\",\"#EF553B\",\"#00cc96\",\"#ab63fa\",\"#FFA15A\",\"#19d3f3\",\"#FF6692\",\"#B6E880\",\"#FF97FF\",\"#FECB52\"],\"font\":{\"color\":\"#2a3f5f\"},\"hovermode\":\"closest\",\"hoverlabel\":{\"align\":\"left\"},\"paper_bgcolor\":\"white\",\"plot_bgcolor\":\"#E5ECF6\",\"polar\":{\"bgcolor\":\"#E5ECF6\",\"angularaxis\":{\"gridcolor\":\"white\",\"linecolor\":\"white\",\"ticks\":\"\"},\"radialaxis\":{\"gridcolor\":\"white\",\"linecolor\":\"white\",\"ticks\":\"\"}},\"ternary\":{\"bgcolor\":\"#E5ECF6\",\"aaxis\":{\"gridcolor\":\"white\",\"linecolor\":\"white\",\"ticks\":\"\"},\"baxis\":{\"gridcolor\":\"white\",\"linecolor\":\"white\",\"ticks\":\"\"},\"caxis\":{\"gridcolor\":\"white\",\"linecolor\":\"white\",\"ticks\":\"\"}},\"coloraxis\":{\"colorbar\":{\"outlinewidth\":0,\"ticks\":\"\"}},\"colorscale\":{\"sequential\":[[0.0,\"#0d0887\"],[0.1111111111111111,\"#46039f\"],[0.2222222222222222,\"#7201a8\"],[0.3333333333333333,\"#9c179e\"],[0.4444444444444444,\"#bd3786\"],[0.5555555555555556,\"#d8576b\"],[0.6666666666666666,\"#ed7953\"],[0.7777777777777778,\"#fb9f3a\"],[0.8888888888888888,\"#fdca26\"],[1.0,\"#f0f921\"]],\"sequentialminus\":[[0.0,\"#0d0887\"],[0.1111111111111111,\"#46039f\"],[0.2222222222222222,\"#7201a8\"],[0.3333333333333333,\"#9c179e\"],[0.4444444444444444,\"#bd3786\"],[0.5555555555555556,\"#d8576b\"],[0.6666666666666666,\"#ed7953\"],[0.7777777777777778,\"#fb9f3a\"],[0.8888888888888888,\"#fdca26\"],[1.0,\"#f0f921\"]],\"diverging\":[[0,\"#8e0152\"],[0.1,\"#c51b7d\"],[0.2,\"#de77ae\"],[0.3,\"#f1b6da\"],[0.4,\"#fde0ef\"],[0.5,\"#f7f7f7\"],[0.6,\"#e6f5d0\"],[0.7,\"#b8e186\"],[0.8,\"#7fbc41\"],[0.9,\"#4d9221\"],[1,\"#276419\"]]},\"xaxis\":{\"gridcolor\":\"white\",\"linecolor\":\"white\",\"ticks\":\"\",\"title\":{\"standoff\":15},\"zerolinecolor\":\"white\",\"automargin\":true,\"zerolinewidth\":2},\"yaxis\":{\"gridcolor\":\"white\",\"linecolor\":\"white\",\"ticks\":\"\",\"title\":{\"standoff\":15},\"zerolinecolor\":\"white\",\"automargin\":true,\"zerolinewidth\":2},\"scene\":{\"xaxis\":{\"backgroundcolor\":\"#E5ECF6\",\"gridcolor\":\"white\",\"linecolor\":\"white\",\"showbackground\":true,\"ticks\":\"\",\"zerolinecolor\":\"white\",\"gridwidth\":2},\"yaxis\":{\"backgroundcolor\":\"#E5ECF6\",\"gridcolor\":\"white\",\"linecolor\":\"white\",\"showbackground\":true,\"ticks\":\"\",\"zerolinecolor\":\"white\",\"gridwidth\":2},\"zaxis\":{\"backgroundcolor\":\"#E5ECF6\",\"gridcolor\":\"white\",\"linecolor\":\"white\",\"showbackground\":true,\"ticks\":\"\",\"zerolinecolor\":\"white\",\"gridwidth\":2}},\"shapedefaults\":{\"line\":{\"color\":\"#2a3f5f\"}},\"annotationdefaults\":{\"arrowcolor\":\"#2a3f5f\",\"arrowhead\":0,\"arrowwidth\":1},\"geo\":{\"bgcolor\":\"white\",\"landcolor\":\"#E5ECF6\",\"subunitcolor\":\"white\",\"showland\":true,\"showlakes\":true,\"lakecolor\":\"white\"},\"title\":{\"x\":0.05},\"mapbox\":{\"style\":\"light\"}}},\"xaxis\":{\"anchor\":\"y\",\"domain\":[0.0,1.0],\"title\":{\"text\":\"GDPperCapita\"},\"type\":\"log\"},\"yaxis\":{\"anchor\":\"x\",\"domain\":[0.0,1.0],\"title\":{\"text\":\"Life expectancy\"}},\"legend\":{\"title\":{\"text\":\"Entity\"},\"tracegroupgap\":0},\"margin\":{\"t\":60}},                        {\"responsive\": true}                    ).then(function(){\n",
       "                            \n",
       "var gd = document.getElementById('721975d0-9b94-4bf6-88c1-19df4d2d465f');\n",
       "var x = new MutationObserver(function (mutations, observer) {{\n",
       "        var display = window.getComputedStyle(gd).display;\n",
       "        if (!display || display === 'none') {{\n",
       "            console.log([gd, 'removed!']);\n",
       "            Plotly.purge(gd);\n",
       "            observer.disconnect();\n",
       "        }}\n",
       "}});\n",
       "\n",
       "// Listen for the removal of the full notebook cells\n",
       "var notebookContainer = gd.closest('#notebook-container');\n",
       "if (notebookContainer) {{\n",
       "    x.observe(notebookContainer, {childList: true});\n",
       "}}\n",
       "\n",
       "// Listen for the clearing of the current output cell\n",
       "var outputEl = gd.closest('.output');\n",
       "if (outputEl) {{\n",
       "    x.observe(outputEl, {childList: true});\n",
       "}}\n",
       "\n",
       "                        })                };                });            </script>        </div>"
      ]
     },
     "metadata": {},
     "output_type": "display_data"
    }
   ],
   "source": [
    "px.scatter(gdp_and_pop_lifeexp.query('Year==2017'), x = 'GDPperCapita', y = 'Life expectancy' , color = 'Entity' , log_x = True)"
   ]
  },
  {
   "cell_type": "code",
   "execution_count": 121,
   "metadata": {},
   "outputs": [
    {
     "data": {
      "text/html": [
       "<div>\n",
       "<style scoped>\n",
       "    .dataframe tbody tr th:only-of-type {\n",
       "        vertical-align: middle;\n",
       "    }\n",
       "\n",
       "    .dataframe tbody tr th {\n",
       "        vertical-align: top;\n",
       "    }\n",
       "\n",
       "    .dataframe thead th {\n",
       "        text-align: right;\n",
       "    }\n",
       "</style>\n",
       "<table border=\"1\" class=\"dataframe\">\n",
       "  <thead>\n",
       "    <tr style=\"text-align: right;\">\n",
       "      <th></th>\n",
       "      <th>Country</th>\n",
       "      <th>Continent</th>\n",
       "    </tr>\n",
       "  </thead>\n",
       "  <tbody>\n",
       "    <tr>\n",
       "      <th>0</th>\n",
       "      <td>Algeria</td>\n",
       "      <td>Africa</td>\n",
       "    </tr>\n",
       "    <tr>\n",
       "      <th>1</th>\n",
       "      <td>Angola</td>\n",
       "      <td>Africa</td>\n",
       "    </tr>\n",
       "    <tr>\n",
       "      <th>2</th>\n",
       "      <td>Benin</td>\n",
       "      <td>Africa</td>\n",
       "    </tr>\n",
       "    <tr>\n",
       "      <th>3</th>\n",
       "      <td>Botswana</td>\n",
       "      <td>Africa</td>\n",
       "    </tr>\n",
       "    <tr>\n",
       "      <th>4</th>\n",
       "      <td>Burkina Faso</td>\n",
       "      <td>Africa</td>\n",
       "    </tr>\n",
       "  </tbody>\n",
       "</table>\n",
       "</div>"
      ],
      "text/plain": [
       "        Country Continent\n",
       "0       Algeria    Africa\n",
       "1        Angola    Africa\n",
       "2         Benin    Africa\n",
       "3      Botswana    Africa\n",
       "4  Burkina Faso    Africa"
      ]
     },
     "execution_count": 121,
     "metadata": {},
     "output_type": "execute_result"
    }
   ],
   "source": [
    "# Continents\n",
    "\n",
    "continents = pd.read_csv(myfolder / \"continents.csv\")\n",
    "\n",
    "continents.head()"
   ]
  },
  {
   "cell_type": "code",
   "execution_count": 125,
   "metadata": {},
   "outputs": [
    {
     "data": {
      "text/html": [
       "<div>\n",
       "<style scoped>\n",
       "    .dataframe tbody tr th:only-of-type {\n",
       "        vertical-align: middle;\n",
       "    }\n",
       "\n",
       "    .dataframe tbody tr th {\n",
       "        vertical-align: top;\n",
       "    }\n",
       "\n",
       "    .dataframe thead th {\n",
       "        text-align: right;\n",
       "    }\n",
       "</style>\n",
       "<table border=\"1\" class=\"dataframe\">\n",
       "  <thead>\n",
       "    <tr style=\"text-align: right;\">\n",
       "      <th></th>\n",
       "      <th>Entity</th>\n",
       "      <th>Year</th>\n",
       "      <th>GDP</th>\n",
       "      <th>Population</th>\n",
       "      <th>GDPperCapita</th>\n",
       "      <th>Life expectancy</th>\n",
       "      <th>Country</th>\n",
       "      <th>Continent</th>\n",
       "    </tr>\n",
       "  </thead>\n",
       "  <tbody>\n",
       "    <tr>\n",
       "      <th>0</th>\n",
       "      <td>Afghanistan</td>\n",
       "      <td>2002</td>\n",
       "      <td>8.013233e+09</td>\n",
       "      <td>22601000.0</td>\n",
       "      <td>354.552149</td>\n",
       "      <td>56.784</td>\n",
       "      <td>Afghanistan</td>\n",
       "      <td>South Asia</td>\n",
       "    </tr>\n",
       "    <tr>\n",
       "      <th>1</th>\n",
       "      <td>Afghanistan</td>\n",
       "      <td>2003</td>\n",
       "      <td>8.689884e+09</td>\n",
       "      <td>23681000.0</td>\n",
       "      <td>366.955940</td>\n",
       "      <td>57.271</td>\n",
       "      <td>Afghanistan</td>\n",
       "      <td>South Asia</td>\n",
       "    </tr>\n",
       "    <tr>\n",
       "      <th>2</th>\n",
       "      <td>Afghanistan</td>\n",
       "      <td>2004</td>\n",
       "      <td>8.781610e+09</td>\n",
       "      <td>24727000.0</td>\n",
       "      <td>355.142564</td>\n",
       "      <td>57.772</td>\n",
       "      <td>Afghanistan</td>\n",
       "      <td>South Asia</td>\n",
       "    </tr>\n",
       "    <tr>\n",
       "      <th>3</th>\n",
       "      <td>Afghanistan</td>\n",
       "      <td>2005</td>\n",
       "      <td>9.762979e+09</td>\n",
       "      <td>25654000.0</td>\n",
       "      <td>380.563610</td>\n",
       "      <td>58.290</td>\n",
       "      <td>Afghanistan</td>\n",
       "      <td>South Asia</td>\n",
       "    </tr>\n",
       "    <tr>\n",
       "      <th>4</th>\n",
       "      <td>Afghanistan</td>\n",
       "      <td>2006</td>\n",
       "      <td>1.030523e+10</td>\n",
       "      <td>26433000.0</td>\n",
       "      <td>389.862222</td>\n",
       "      <td>58.826</td>\n",
       "      <td>Afghanistan</td>\n",
       "      <td>South Asia</td>\n",
       "    </tr>\n",
       "  </tbody>\n",
       "</table>\n",
       "</div>"
      ],
      "text/plain": [
       "        Entity  Year           GDP  Population  GDPperCapita  Life expectancy  \\\n",
       "0  Afghanistan  2002  8.013233e+09  22601000.0    354.552149           56.784   \n",
       "1  Afghanistan  2003  8.689884e+09  23681000.0    366.955940           57.271   \n",
       "2  Afghanistan  2004  8.781610e+09  24727000.0    355.142564           57.772   \n",
       "3  Afghanistan  2005  9.762979e+09  25654000.0    380.563610           58.290   \n",
       "4  Afghanistan  2006  1.030523e+10  26433000.0    389.862222           58.826   \n",
       "\n",
       "       Country   Continent  \n",
       "0  Afghanistan  South Asia  \n",
       "1  Afghanistan  South Asia  \n",
       "2  Afghanistan  South Asia  \n",
       "3  Afghanistan  South Asia  \n",
       "4  Afghanistan  South Asia  "
      ]
     },
     "execution_count": 125,
     "metadata": {},
     "output_type": "execute_result"
    }
   ],
   "source": [
    "gdp_and_pop_lifeexp = pd.merge(gdp_and_pop_lifeexp, continents, how='left', left_on=['Entity'] , right_on=['Country'])\n",
    "\n",
    "gdp_and_pop_lifeexp.head()"
   ]
  },
  {
   "cell_type": "code",
   "execution_count": 126,
   "metadata": {},
   "outputs": [
    {
     "data": {
      "application/vnd.plotly.v1+json": {
       "config": {
        "plotlyServerURL": "https://plot.ly"
       },
       "data": [
        {
         "alignmentgroup": "True",
         "hovertemplate": "Continent=South Asia<br>Life expectancy=%{y}<extra></extra>",
         "legendgroup": "South Asia",
         "marker": {
          "color": "#636efa"
         },
         "name": "South Asia",
         "notched": false,
         "offsetgroup": "South Asia",
         "orientation": "v",
         "showlegend": true,
         "type": "box",
         "x0": " ",
         "xaxis": "x",
         "y": [
          64.13,
          72.052,
          71.129,
          69.165,
          78.325,
          70.169,
          66.947,
          76.648
         ],
         "y0": " ",
         "yaxis": "y"
        },
        {
         "alignmentgroup": "True",
         "hovertemplate": "Continent=Europe<br>Life expectancy=%{y}<extra></extra>",
         "legendgroup": "Europe",
         "marker": {
          "color": "#EF553B"
         },
         "name": "Europe",
         "notched": false,
         "offsetgroup": "Europe",
         "orientation": "v",
         "showlegend": true,
         "type": "box",
         "x0": " ",
         "xaxis": "x",
         "y": [
          78.333,
          83.443,
          74.797,
          81.34,
          72.693,
          74.34,
          81.305,
          77.128,
          74.815,
          78.197,
          80.672,
          79.058,
          80.681,
          78.354,
          81.561,
          82.432,
          73.414,
          81.039,
          81.901,
          76.498,
          82.725,
          81.872,
          83.184,
          72.728,
          75.048,
          75.507,
          81.955,
          82.221,
          71.717,
          76.667,
          82.004,
          75.589,
          82.146,
          78.338,
          81.655,
          75.79,
          72.139,
          84.699,
          75.684,
          77.219,
          81.016,
          83.294,
          82.516,
          83.473,
          77.161,
          71.84,
          81.168
         ],
         "y0": " ",
         "yaxis": "y"
        },
        {
         "alignmentgroup": "True",
         "hovertemplate": "Continent=Africa<br>Life expectancy=%{y}<extra></extra>",
         "legendgroup": "Africa",
         "marker": {
          "color": "#00cc96"
         },
         "name": "Africa",
         "notched": false,
         "offsetgroup": "Africa",
         "orientation": "v",
         "showlegend": true,
         "type": "box",
         "x0": " ",
         "xaxis": "x",
         "y": [
          76.499,
          60.379,
          61.174,
          68.812,
          60.768,
          60.898,
          58.511,
          52.24,
          53.712,
          63.912,
          71.656,
          58.061,
          65.872,
          65.839,
          61.44,
          63.463,
          60.706,
          57.673,
          65.909,
          52.947,
          63.295,
          72.52,
          66.311,
          63.279,
          58.452,
          64.464,
          74.743,
          76.218,
          59.309,
          63.021,
          61.599,
          53.95,
          68.341,
          69.933,
          67.38,
          73.276,
          53.895,
          63.538,
          64.881,
          64.479,
          60.489,
          76.31,
          62.516,
          63.043,
          60.812
         ],
         "y0": " ",
         "yaxis": "y"
        },
        {
         "alignmentgroup": "True",
         "hovertemplate": "Continent=North America<br>Life expectancy=%{y}<extra></extra>",
         "legendgroup": "North America",
         "marker": {
          "color": "#ab63fa"
         },
         "name": "North America",
         "notched": false,
         "offsetgroup": "North America",
         "orientation": "v",
         "showlegend": true,
         "type": "box",
         "x0": " ",
         "xaxis": "x",
         "y": [
          76.752,
          73.554,
          78.981,
          74.365,
          82.21,
          79.914,
          74.597,
          73.689,
          72.872,
          72.388,
          73.81,
          63.29,
          74.898,
          74.267,
          74.947,
          74.068,
          78.149,
          75.91,
          75.907,
          72.3,
          73.245
         ],
         "y0": " ",
         "yaxis": "y"
        },
        {
         "alignmentgroup": "True",
         "hovertemplate": "Continent=South America<br>Life expectancy=%{y}<extra></extra>",
         "legendgroup": "South America",
         "marker": {
          "color": "#FFA15A"
         },
         "name": "South America",
         "notched": false,
         "offsetgroup": "South America",
         "orientation": "v",
         "showlegend": true,
         "type": "box",
         "x0": " ",
         "xaxis": "x",
         "y": [
          76.372,
          70.945,
          75.456,
          79.909,
          76.925,
          76.584,
          69.624,
          73.992,
          76.286,
          71.463,
          77.632
         ],
         "y0": " ",
         "yaxis": "y"
        },
        {
         "alignmentgroup": "True",
         "hovertemplate": "Continent=Asia<br>Life expectancy=%{y}<extra></extra>",
         "legendgroup": "Asia",
         "marker": {
          "color": "#19d3f3"
         },
         "name": "Asia",
         "notched": false,
         "offsetgroup": "Asia",
         "orientation": "v",
         "showlegend": true,
         "type": "box",
         "x0": " ",
         "xaxis": "x",
         "y": [
          74.797,
          72.693,
          77.032,
          75.585,
          69.289,
          76.47,
          80.672,
          73.414,
          71.282,
          76.271,
          70.294,
          82.663,
          84.29,
          74.292,
          72.728,
          75.311,
          71.193,
          67.277,
          78.833,
          75.828,
          69.509,
          77.393,
          73.74,
          70.952,
          79.981,
          72.139,
          74.874,
          83.279,
          82.628,
          70.647,
          76.683,
          77.161,
          67.956,
          77.647,
          71.388,
          75.241
         ],
         "y0": " ",
         "yaxis": "y"
        },
        {
         "alignmentgroup": "True",
         "hovertemplate": "Continent=Oceania<br>Life expectancy=%{y}<extra></extra>",
         "legendgroup": "Oceania",
         "marker": {
          "color": "#FF6692"
         },
         "name": "Oceania",
         "notched": false,
         "offsetgroup": "Oceania",
         "orientation": "v",
         "showlegend": true,
         "type": "box",
         "x0": " ",
         "xaxis": "x",
         "y": [
          83.122,
          67.252,
          67.851,
          73.278,
          59.805,
          82.002,
          73.32,
          64.01,
          73.046,
          72.645,
          70.701,
          67.089,
          70.172
         ],
         "y0": " ",
         "yaxis": "y"
        }
       ],
       "layout": {
        "boxmode": "group",
        "legend": {
         "title": {
          "text": "Continent"
         },
         "tracegroupgap": 0
        },
        "margin": {
         "t": 60
        },
        "template": {
         "data": {
          "bar": [
           {
            "error_x": {
             "color": "#2a3f5f"
            },
            "error_y": {
             "color": "#2a3f5f"
            },
            "marker": {
             "line": {
              "color": "#E5ECF6",
              "width": 0.5
             },
             "pattern": {
              "fillmode": "overlay",
              "size": 10,
              "solidity": 0.2
             }
            },
            "type": "bar"
           }
          ],
          "barpolar": [
           {
            "marker": {
             "line": {
              "color": "#E5ECF6",
              "width": 0.5
             },
             "pattern": {
              "fillmode": "overlay",
              "size": 10,
              "solidity": 0.2
             }
            },
            "type": "barpolar"
           }
          ],
          "carpet": [
           {
            "aaxis": {
             "endlinecolor": "#2a3f5f",
             "gridcolor": "white",
             "linecolor": "white",
             "minorgridcolor": "white",
             "startlinecolor": "#2a3f5f"
            },
            "baxis": {
             "endlinecolor": "#2a3f5f",
             "gridcolor": "white",
             "linecolor": "white",
             "minorgridcolor": "white",
             "startlinecolor": "#2a3f5f"
            },
            "type": "carpet"
           }
          ],
          "choropleth": [
           {
            "colorbar": {
             "outlinewidth": 0,
             "ticks": ""
            },
            "type": "choropleth"
           }
          ],
          "contour": [
           {
            "colorbar": {
             "outlinewidth": 0,
             "ticks": ""
            },
            "colorscale": [
             [
              0,
              "#0d0887"
             ],
             [
              0.1111111111111111,
              "#46039f"
             ],
             [
              0.2222222222222222,
              "#7201a8"
             ],
             [
              0.3333333333333333,
              "#9c179e"
             ],
             [
              0.4444444444444444,
              "#bd3786"
             ],
             [
              0.5555555555555556,
              "#d8576b"
             ],
             [
              0.6666666666666666,
              "#ed7953"
             ],
             [
              0.7777777777777778,
              "#fb9f3a"
             ],
             [
              0.8888888888888888,
              "#fdca26"
             ],
             [
              1,
              "#f0f921"
             ]
            ],
            "type": "contour"
           }
          ],
          "contourcarpet": [
           {
            "colorbar": {
             "outlinewidth": 0,
             "ticks": ""
            },
            "type": "contourcarpet"
           }
          ],
          "heatmap": [
           {
            "colorbar": {
             "outlinewidth": 0,
             "ticks": ""
            },
            "colorscale": [
             [
              0,
              "#0d0887"
             ],
             [
              0.1111111111111111,
              "#46039f"
             ],
             [
              0.2222222222222222,
              "#7201a8"
             ],
             [
              0.3333333333333333,
              "#9c179e"
             ],
             [
              0.4444444444444444,
              "#bd3786"
             ],
             [
              0.5555555555555556,
              "#d8576b"
             ],
             [
              0.6666666666666666,
              "#ed7953"
             ],
             [
              0.7777777777777778,
              "#fb9f3a"
             ],
             [
              0.8888888888888888,
              "#fdca26"
             ],
             [
              1,
              "#f0f921"
             ]
            ],
            "type": "heatmap"
           }
          ],
          "heatmapgl": [
           {
            "colorbar": {
             "outlinewidth": 0,
             "ticks": ""
            },
            "colorscale": [
             [
              0,
              "#0d0887"
             ],
             [
              0.1111111111111111,
              "#46039f"
             ],
             [
              0.2222222222222222,
              "#7201a8"
             ],
             [
              0.3333333333333333,
              "#9c179e"
             ],
             [
              0.4444444444444444,
              "#bd3786"
             ],
             [
              0.5555555555555556,
              "#d8576b"
             ],
             [
              0.6666666666666666,
              "#ed7953"
             ],
             [
              0.7777777777777778,
              "#fb9f3a"
             ],
             [
              0.8888888888888888,
              "#fdca26"
             ],
             [
              1,
              "#f0f921"
             ]
            ],
            "type": "heatmapgl"
           }
          ],
          "histogram": [
           {
            "marker": {
             "pattern": {
              "fillmode": "overlay",
              "size": 10,
              "solidity": 0.2
             }
            },
            "type": "histogram"
           }
          ],
          "histogram2d": [
           {
            "colorbar": {
             "outlinewidth": 0,
             "ticks": ""
            },
            "colorscale": [
             [
              0,
              "#0d0887"
             ],
             [
              0.1111111111111111,
              "#46039f"
             ],
             [
              0.2222222222222222,
              "#7201a8"
             ],
             [
              0.3333333333333333,
              "#9c179e"
             ],
             [
              0.4444444444444444,
              "#bd3786"
             ],
             [
              0.5555555555555556,
              "#d8576b"
             ],
             [
              0.6666666666666666,
              "#ed7953"
             ],
             [
              0.7777777777777778,
              "#fb9f3a"
             ],
             [
              0.8888888888888888,
              "#fdca26"
             ],
             [
              1,
              "#f0f921"
             ]
            ],
            "type": "histogram2d"
           }
          ],
          "histogram2dcontour": [
           {
            "colorbar": {
             "outlinewidth": 0,
             "ticks": ""
            },
            "colorscale": [
             [
              0,
              "#0d0887"
             ],
             [
              0.1111111111111111,
              "#46039f"
             ],
             [
              0.2222222222222222,
              "#7201a8"
             ],
             [
              0.3333333333333333,
              "#9c179e"
             ],
             [
              0.4444444444444444,
              "#bd3786"
             ],
             [
              0.5555555555555556,
              "#d8576b"
             ],
             [
              0.6666666666666666,
              "#ed7953"
             ],
             [
              0.7777777777777778,
              "#fb9f3a"
             ],
             [
              0.8888888888888888,
              "#fdca26"
             ],
             [
              1,
              "#f0f921"
             ]
            ],
            "type": "histogram2dcontour"
           }
          ],
          "mesh3d": [
           {
            "colorbar": {
             "outlinewidth": 0,
             "ticks": ""
            },
            "type": "mesh3d"
           }
          ],
          "parcoords": [
           {
            "line": {
             "colorbar": {
              "outlinewidth": 0,
              "ticks": ""
             }
            },
            "type": "parcoords"
           }
          ],
          "pie": [
           {
            "automargin": true,
            "type": "pie"
           }
          ],
          "scatter": [
           {
            "fillpattern": {
             "fillmode": "overlay",
             "size": 10,
             "solidity": 0.2
            },
            "type": "scatter"
           }
          ],
          "scatter3d": [
           {
            "line": {
             "colorbar": {
              "outlinewidth": 0,
              "ticks": ""
             }
            },
            "marker": {
             "colorbar": {
              "outlinewidth": 0,
              "ticks": ""
             }
            },
            "type": "scatter3d"
           }
          ],
          "scattercarpet": [
           {
            "marker": {
             "colorbar": {
              "outlinewidth": 0,
              "ticks": ""
             }
            },
            "type": "scattercarpet"
           }
          ],
          "scattergeo": [
           {
            "marker": {
             "colorbar": {
              "outlinewidth": 0,
              "ticks": ""
             }
            },
            "type": "scattergeo"
           }
          ],
          "scattergl": [
           {
            "marker": {
             "colorbar": {
              "outlinewidth": 0,
              "ticks": ""
             }
            },
            "type": "scattergl"
           }
          ],
          "scattermapbox": [
           {
            "marker": {
             "colorbar": {
              "outlinewidth": 0,
              "ticks": ""
             }
            },
            "type": "scattermapbox"
           }
          ],
          "scatterpolar": [
           {
            "marker": {
             "colorbar": {
              "outlinewidth": 0,
              "ticks": ""
             }
            },
            "type": "scatterpolar"
           }
          ],
          "scatterpolargl": [
           {
            "marker": {
             "colorbar": {
              "outlinewidth": 0,
              "ticks": ""
             }
            },
            "type": "scatterpolargl"
           }
          ],
          "scatterternary": [
           {
            "marker": {
             "colorbar": {
              "outlinewidth": 0,
              "ticks": ""
             }
            },
            "type": "scatterternary"
           }
          ],
          "surface": [
           {
            "colorbar": {
             "outlinewidth": 0,
             "ticks": ""
            },
            "colorscale": [
             [
              0,
              "#0d0887"
             ],
             [
              0.1111111111111111,
              "#46039f"
             ],
             [
              0.2222222222222222,
              "#7201a8"
             ],
             [
              0.3333333333333333,
              "#9c179e"
             ],
             [
              0.4444444444444444,
              "#bd3786"
             ],
             [
              0.5555555555555556,
              "#d8576b"
             ],
             [
              0.6666666666666666,
              "#ed7953"
             ],
             [
              0.7777777777777778,
              "#fb9f3a"
             ],
             [
              0.8888888888888888,
              "#fdca26"
             ],
             [
              1,
              "#f0f921"
             ]
            ],
            "type": "surface"
           }
          ],
          "table": [
           {
            "cells": {
             "fill": {
              "color": "#EBF0F8"
             },
             "line": {
              "color": "white"
             }
            },
            "header": {
             "fill": {
              "color": "#C8D4E3"
             },
             "line": {
              "color": "white"
             }
            },
            "type": "table"
           }
          ]
         },
         "layout": {
          "annotationdefaults": {
           "arrowcolor": "#2a3f5f",
           "arrowhead": 0,
           "arrowwidth": 1
          },
          "autotypenumbers": "strict",
          "coloraxis": {
           "colorbar": {
            "outlinewidth": 0,
            "ticks": ""
           }
          },
          "colorscale": {
           "diverging": [
            [
             0,
             "#8e0152"
            ],
            [
             0.1,
             "#c51b7d"
            ],
            [
             0.2,
             "#de77ae"
            ],
            [
             0.3,
             "#f1b6da"
            ],
            [
             0.4,
             "#fde0ef"
            ],
            [
             0.5,
             "#f7f7f7"
            ],
            [
             0.6,
             "#e6f5d0"
            ],
            [
             0.7,
             "#b8e186"
            ],
            [
             0.8,
             "#7fbc41"
            ],
            [
             0.9,
             "#4d9221"
            ],
            [
             1,
             "#276419"
            ]
           ],
           "sequential": [
            [
             0,
             "#0d0887"
            ],
            [
             0.1111111111111111,
             "#46039f"
            ],
            [
             0.2222222222222222,
             "#7201a8"
            ],
            [
             0.3333333333333333,
             "#9c179e"
            ],
            [
             0.4444444444444444,
             "#bd3786"
            ],
            [
             0.5555555555555556,
             "#d8576b"
            ],
            [
             0.6666666666666666,
             "#ed7953"
            ],
            [
             0.7777777777777778,
             "#fb9f3a"
            ],
            [
             0.8888888888888888,
             "#fdca26"
            ],
            [
             1,
             "#f0f921"
            ]
           ],
           "sequentialminus": [
            [
             0,
             "#0d0887"
            ],
            [
             0.1111111111111111,
             "#46039f"
            ],
            [
             0.2222222222222222,
             "#7201a8"
            ],
            [
             0.3333333333333333,
             "#9c179e"
            ],
            [
             0.4444444444444444,
             "#bd3786"
            ],
            [
             0.5555555555555556,
             "#d8576b"
            ],
            [
             0.6666666666666666,
             "#ed7953"
            ],
            [
             0.7777777777777778,
             "#fb9f3a"
            ],
            [
             0.8888888888888888,
             "#fdca26"
            ],
            [
             1,
             "#f0f921"
            ]
           ]
          },
          "colorway": [
           "#636efa",
           "#EF553B",
           "#00cc96",
           "#ab63fa",
           "#FFA15A",
           "#19d3f3",
           "#FF6692",
           "#B6E880",
           "#FF97FF",
           "#FECB52"
          ],
          "font": {
           "color": "#2a3f5f"
          },
          "geo": {
           "bgcolor": "white",
           "lakecolor": "white",
           "landcolor": "#E5ECF6",
           "showlakes": true,
           "showland": true,
           "subunitcolor": "white"
          },
          "hoverlabel": {
           "align": "left"
          },
          "hovermode": "closest",
          "mapbox": {
           "style": "light"
          },
          "paper_bgcolor": "white",
          "plot_bgcolor": "#E5ECF6",
          "polar": {
           "angularaxis": {
            "gridcolor": "white",
            "linecolor": "white",
            "ticks": ""
           },
           "bgcolor": "#E5ECF6",
           "radialaxis": {
            "gridcolor": "white",
            "linecolor": "white",
            "ticks": ""
           }
          },
          "scene": {
           "xaxis": {
            "backgroundcolor": "#E5ECF6",
            "gridcolor": "white",
            "gridwidth": 2,
            "linecolor": "white",
            "showbackground": true,
            "ticks": "",
            "zerolinecolor": "white"
           },
           "yaxis": {
            "backgroundcolor": "#E5ECF6",
            "gridcolor": "white",
            "gridwidth": 2,
            "linecolor": "white",
            "showbackground": true,
            "ticks": "",
            "zerolinecolor": "white"
           },
           "zaxis": {
            "backgroundcolor": "#E5ECF6",
            "gridcolor": "white",
            "gridwidth": 2,
            "linecolor": "white",
            "showbackground": true,
            "ticks": "",
            "zerolinecolor": "white"
           }
          },
          "shapedefaults": {
           "line": {
            "color": "#2a3f5f"
           }
          },
          "ternary": {
           "aaxis": {
            "gridcolor": "white",
            "linecolor": "white",
            "ticks": ""
           },
           "baxis": {
            "gridcolor": "white",
            "linecolor": "white",
            "ticks": ""
           },
           "bgcolor": "#E5ECF6",
           "caxis": {
            "gridcolor": "white",
            "linecolor": "white",
            "ticks": ""
           }
          },
          "title": {
           "x": 0.05
          },
          "xaxis": {
           "automargin": true,
           "gridcolor": "white",
           "linecolor": "white",
           "ticks": "",
           "title": {
            "standoff": 15
           },
           "zerolinecolor": "white",
           "zerolinewidth": 2
          },
          "yaxis": {
           "automargin": true,
           "gridcolor": "white",
           "linecolor": "white",
           "ticks": "",
           "title": {
            "standoff": 15
           },
           "zerolinecolor": "white",
           "zerolinewidth": 2
          }
         }
        },
        "xaxis": {
         "anchor": "y",
         "domain": [
          0,
          1
         ]
        },
        "yaxis": {
         "anchor": "x",
         "domain": [
          0,
          1
         ],
         "title": {
          "text": "Life expectancy"
         }
        }
       }
      },
      "text/html": [
       "<div>                            <div id=\"7d752c38-e854-462a-848a-98f83b6a9840\" class=\"plotly-graph-div\" style=\"height:525px; width:100%;\"></div>            <script type=\"text/javascript\">                require([\"plotly\"], function(Plotly) {                    window.PLOTLYENV=window.PLOTLYENV || {};                                    if (document.getElementById(\"7d752c38-e854-462a-848a-98f83b6a9840\")) {                    Plotly.newPlot(                        \"7d752c38-e854-462a-848a-98f83b6a9840\",                        [{\"alignmentgroup\":\"True\",\"hovertemplate\":\"Continent=South Asia\\u003cbr\\u003eLife expectancy=%{y}\\u003cextra\\u003e\\u003c\\u002fextra\\u003e\",\"legendgroup\":\"South Asia\",\"marker\":{\"color\":\"#636efa\"},\"name\":\"South Asia\",\"notched\":false,\"offsetgroup\":\"South Asia\",\"orientation\":\"v\",\"showlegend\":true,\"x0\":\" \",\"xaxis\":\"x\",\"y\":[64.13,72.052,71.129,69.165,78.325,70.169,66.947,76.648],\"y0\":\" \",\"yaxis\":\"y\",\"type\":\"box\"},{\"alignmentgroup\":\"True\",\"hovertemplate\":\"Continent=Europe\\u003cbr\\u003eLife expectancy=%{y}\\u003cextra\\u003e\\u003c\\u002fextra\\u003e\",\"legendgroup\":\"Europe\",\"marker\":{\"color\":\"#EF553B\"},\"name\":\"Europe\",\"notched\":false,\"offsetgroup\":\"Europe\",\"orientation\":\"v\",\"showlegend\":true,\"x0\":\" \",\"xaxis\":\"x\",\"y\":[78.333,83.443,74.797,81.34,72.693,74.34,81.305,77.128,74.815,78.197,80.672,79.058,80.681,78.354,81.561,82.432,73.414,81.039,81.901,76.498,82.725,81.872,83.184,72.728,75.048,75.507,81.955,82.221,71.717,76.667,82.004,75.589,82.146,78.338,81.655,75.79,72.139,84.699,75.684,77.219,81.016,83.294,82.516,83.473,77.161,71.84,81.168],\"y0\":\" \",\"yaxis\":\"y\",\"type\":\"box\"},{\"alignmentgroup\":\"True\",\"hovertemplate\":\"Continent=Africa\\u003cbr\\u003eLife expectancy=%{y}\\u003cextra\\u003e\\u003c\\u002fextra\\u003e\",\"legendgroup\":\"Africa\",\"marker\":{\"color\":\"#00cc96\"},\"name\":\"Africa\",\"notched\":false,\"offsetgroup\":\"Africa\",\"orientation\":\"v\",\"showlegend\":true,\"x0\":\" \",\"xaxis\":\"x\",\"y\":[76.499,60.379,61.174,68.812,60.768,60.898,58.511,52.24,53.712,63.912,71.656,58.061,65.872,65.839,61.44,63.463,60.706,57.673,65.909,52.947,63.295,72.52,66.311,63.279,58.452,64.464,74.743,76.218,59.309,63.021,61.599,53.95,68.341,69.933,67.38,73.276,53.895,63.538,64.881,64.479,60.489,76.31,62.516,63.043,60.812],\"y0\":\" \",\"yaxis\":\"y\",\"type\":\"box\"},{\"alignmentgroup\":\"True\",\"hovertemplate\":\"Continent=North America\\u003cbr\\u003eLife expectancy=%{y}\\u003cextra\\u003e\\u003c\\u002fextra\\u003e\",\"legendgroup\":\"North America\",\"marker\":{\"color\":\"#ab63fa\"},\"name\":\"North America\",\"notched\":false,\"offsetgroup\":\"North America\",\"orientation\":\"v\",\"showlegend\":true,\"x0\":\" \",\"xaxis\":\"x\",\"y\":[76.752,73.554,78.981,74.365,82.21,79.914,74.597,73.689,72.872,72.388,73.81,63.29,74.898,74.267,74.947,74.068,78.149,75.91,75.907,72.3,73.245],\"y0\":\" \",\"yaxis\":\"y\",\"type\":\"box\"},{\"alignmentgroup\":\"True\",\"hovertemplate\":\"Continent=South America\\u003cbr\\u003eLife expectancy=%{y}\\u003cextra\\u003e\\u003c\\u002fextra\\u003e\",\"legendgroup\":\"South America\",\"marker\":{\"color\":\"#FFA15A\"},\"name\":\"South America\",\"notched\":false,\"offsetgroup\":\"South America\",\"orientation\":\"v\",\"showlegend\":true,\"x0\":\" \",\"xaxis\":\"x\",\"y\":[76.372,70.945,75.456,79.909,76.925,76.584,69.624,73.992,76.286,71.463,77.632],\"y0\":\" \",\"yaxis\":\"y\",\"type\":\"box\"},{\"alignmentgroup\":\"True\",\"hovertemplate\":\"Continent=Asia\\u003cbr\\u003eLife expectancy=%{y}\\u003cextra\\u003e\\u003c\\u002fextra\\u003e\",\"legendgroup\":\"Asia\",\"marker\":{\"color\":\"#19d3f3\"},\"name\":\"Asia\",\"notched\":false,\"offsetgroup\":\"Asia\",\"orientation\":\"v\",\"showlegend\":true,\"x0\":\" \",\"xaxis\":\"x\",\"y\":[74.797,72.693,77.032,75.585,69.289,76.47,80.672,73.414,71.282,76.271,70.294,82.663,84.29,74.292,72.728,75.311,71.193,67.277,78.833,75.828,69.509,77.393,73.74,70.952,79.981,72.139,74.874,83.279,82.628,70.647,76.683,77.161,67.956,77.647,71.388,75.241],\"y0\":\" \",\"yaxis\":\"y\",\"type\":\"box\"},{\"alignmentgroup\":\"True\",\"hovertemplate\":\"Continent=Oceania\\u003cbr\\u003eLife expectancy=%{y}\\u003cextra\\u003e\\u003c\\u002fextra\\u003e\",\"legendgroup\":\"Oceania\",\"marker\":{\"color\":\"#FF6692\"},\"name\":\"Oceania\",\"notched\":false,\"offsetgroup\":\"Oceania\",\"orientation\":\"v\",\"showlegend\":true,\"x0\":\" \",\"xaxis\":\"x\",\"y\":[83.122,67.252,67.851,73.278,59.805,82.002,73.32,64.01,73.046,72.645,70.701,67.089,70.172],\"y0\":\" \",\"yaxis\":\"y\",\"type\":\"box\"}],                        {\"template\":{\"data\":{\"histogram2dcontour\":[{\"type\":\"histogram2dcontour\",\"colorbar\":{\"outlinewidth\":0,\"ticks\":\"\"},\"colorscale\":[[0.0,\"#0d0887\"],[0.1111111111111111,\"#46039f\"],[0.2222222222222222,\"#7201a8\"],[0.3333333333333333,\"#9c179e\"],[0.4444444444444444,\"#bd3786\"],[0.5555555555555556,\"#d8576b\"],[0.6666666666666666,\"#ed7953\"],[0.7777777777777778,\"#fb9f3a\"],[0.8888888888888888,\"#fdca26\"],[1.0,\"#f0f921\"]]}],\"choropleth\":[{\"type\":\"choropleth\",\"colorbar\":{\"outlinewidth\":0,\"ticks\":\"\"}}],\"histogram2d\":[{\"type\":\"histogram2d\",\"colorbar\":{\"outlinewidth\":0,\"ticks\":\"\"},\"colorscale\":[[0.0,\"#0d0887\"],[0.1111111111111111,\"#46039f\"],[0.2222222222222222,\"#7201a8\"],[0.3333333333333333,\"#9c179e\"],[0.4444444444444444,\"#bd3786\"],[0.5555555555555556,\"#d8576b\"],[0.6666666666666666,\"#ed7953\"],[0.7777777777777778,\"#fb9f3a\"],[0.8888888888888888,\"#fdca26\"],[1.0,\"#f0f921\"]]}],\"heatmap\":[{\"type\":\"heatmap\",\"colorbar\":{\"outlinewidth\":0,\"ticks\":\"\"},\"colorscale\":[[0.0,\"#0d0887\"],[0.1111111111111111,\"#46039f\"],[0.2222222222222222,\"#7201a8\"],[0.3333333333333333,\"#9c179e\"],[0.4444444444444444,\"#bd3786\"],[0.5555555555555556,\"#d8576b\"],[0.6666666666666666,\"#ed7953\"],[0.7777777777777778,\"#fb9f3a\"],[0.8888888888888888,\"#fdca26\"],[1.0,\"#f0f921\"]]}],\"heatmapgl\":[{\"type\":\"heatmapgl\",\"colorbar\":{\"outlinewidth\":0,\"ticks\":\"\"},\"colorscale\":[[0.0,\"#0d0887\"],[0.1111111111111111,\"#46039f\"],[0.2222222222222222,\"#7201a8\"],[0.3333333333333333,\"#9c179e\"],[0.4444444444444444,\"#bd3786\"],[0.5555555555555556,\"#d8576b\"],[0.6666666666666666,\"#ed7953\"],[0.7777777777777778,\"#fb9f3a\"],[0.8888888888888888,\"#fdca26\"],[1.0,\"#f0f921\"]]}],\"contourcarpet\":[{\"type\":\"contourcarpet\",\"colorbar\":{\"outlinewidth\":0,\"ticks\":\"\"}}],\"contour\":[{\"type\":\"contour\",\"colorbar\":{\"outlinewidth\":0,\"ticks\":\"\"},\"colorscale\":[[0.0,\"#0d0887\"],[0.1111111111111111,\"#46039f\"],[0.2222222222222222,\"#7201a8\"],[0.3333333333333333,\"#9c179e\"],[0.4444444444444444,\"#bd3786\"],[0.5555555555555556,\"#d8576b\"],[0.6666666666666666,\"#ed7953\"],[0.7777777777777778,\"#fb9f3a\"],[0.8888888888888888,\"#fdca26\"],[1.0,\"#f0f921\"]]}],\"surface\":[{\"type\":\"surface\",\"colorbar\":{\"outlinewidth\":0,\"ticks\":\"\"},\"colorscale\":[[0.0,\"#0d0887\"],[0.1111111111111111,\"#46039f\"],[0.2222222222222222,\"#7201a8\"],[0.3333333333333333,\"#9c179e\"],[0.4444444444444444,\"#bd3786\"],[0.5555555555555556,\"#d8576b\"],[0.6666666666666666,\"#ed7953\"],[0.7777777777777778,\"#fb9f3a\"],[0.8888888888888888,\"#fdca26\"],[1.0,\"#f0f921\"]]}],\"mesh3d\":[{\"type\":\"mesh3d\",\"colorbar\":{\"outlinewidth\":0,\"ticks\":\"\"}}],\"scatter\":[{\"fillpattern\":{\"fillmode\":\"overlay\",\"size\":10,\"solidity\":0.2},\"type\":\"scatter\"}],\"parcoords\":[{\"type\":\"parcoords\",\"line\":{\"colorbar\":{\"outlinewidth\":0,\"ticks\":\"\"}}}],\"scatterpolargl\":[{\"type\":\"scatterpolargl\",\"marker\":{\"colorbar\":{\"outlinewidth\":0,\"ticks\":\"\"}}}],\"bar\":[{\"error_x\":{\"color\":\"#2a3f5f\"},\"error_y\":{\"color\":\"#2a3f5f\"},\"marker\":{\"line\":{\"color\":\"#E5ECF6\",\"width\":0.5},\"pattern\":{\"fillmode\":\"overlay\",\"size\":10,\"solidity\":0.2}},\"type\":\"bar\"}],\"scattergeo\":[{\"type\":\"scattergeo\",\"marker\":{\"colorbar\":{\"outlinewidth\":0,\"ticks\":\"\"}}}],\"scatterpolar\":[{\"type\":\"scatterpolar\",\"marker\":{\"colorbar\":{\"outlinewidth\":0,\"ticks\":\"\"}}}],\"histogram\":[{\"marker\":{\"pattern\":{\"fillmode\":\"overlay\",\"size\":10,\"solidity\":0.2}},\"type\":\"histogram\"}],\"scattergl\":[{\"type\":\"scattergl\",\"marker\":{\"colorbar\":{\"outlinewidth\":0,\"ticks\":\"\"}}}],\"scatter3d\":[{\"type\":\"scatter3d\",\"line\":{\"colorbar\":{\"outlinewidth\":0,\"ticks\":\"\"}},\"marker\":{\"colorbar\":{\"outlinewidth\":0,\"ticks\":\"\"}}}],\"scattermapbox\":[{\"type\":\"scattermapbox\",\"marker\":{\"colorbar\":{\"outlinewidth\":0,\"ticks\":\"\"}}}],\"scatterternary\":[{\"type\":\"scatterternary\",\"marker\":{\"colorbar\":{\"outlinewidth\":0,\"ticks\":\"\"}}}],\"scattercarpet\":[{\"type\":\"scattercarpet\",\"marker\":{\"colorbar\":{\"outlinewidth\":0,\"ticks\":\"\"}}}],\"carpet\":[{\"aaxis\":{\"endlinecolor\":\"#2a3f5f\",\"gridcolor\":\"white\",\"linecolor\":\"white\",\"minorgridcolor\":\"white\",\"startlinecolor\":\"#2a3f5f\"},\"baxis\":{\"endlinecolor\":\"#2a3f5f\",\"gridcolor\":\"white\",\"linecolor\":\"white\",\"minorgridcolor\":\"white\",\"startlinecolor\":\"#2a3f5f\"},\"type\":\"carpet\"}],\"table\":[{\"cells\":{\"fill\":{\"color\":\"#EBF0F8\"},\"line\":{\"color\":\"white\"}},\"header\":{\"fill\":{\"color\":\"#C8D4E3\"},\"line\":{\"color\":\"white\"}},\"type\":\"table\"}],\"barpolar\":[{\"marker\":{\"line\":{\"color\":\"#E5ECF6\",\"width\":0.5},\"pattern\":{\"fillmode\":\"overlay\",\"size\":10,\"solidity\":0.2}},\"type\":\"barpolar\"}],\"pie\":[{\"automargin\":true,\"type\":\"pie\"}]},\"layout\":{\"autotypenumbers\":\"strict\",\"colorway\":[\"#636efa\",\"#EF553B\",\"#00cc96\",\"#ab63fa\",\"#FFA15A\",\"#19d3f3\",\"#FF6692\",\"#B6E880\",\"#FF97FF\",\"#FECB52\"],\"font\":{\"color\":\"#2a3f5f\"},\"hovermode\":\"closest\",\"hoverlabel\":{\"align\":\"left\"},\"paper_bgcolor\":\"white\",\"plot_bgcolor\":\"#E5ECF6\",\"polar\":{\"bgcolor\":\"#E5ECF6\",\"angularaxis\":{\"gridcolor\":\"white\",\"linecolor\":\"white\",\"ticks\":\"\"},\"radialaxis\":{\"gridcolor\":\"white\",\"linecolor\":\"white\",\"ticks\":\"\"}},\"ternary\":{\"bgcolor\":\"#E5ECF6\",\"aaxis\":{\"gridcolor\":\"white\",\"linecolor\":\"white\",\"ticks\":\"\"},\"baxis\":{\"gridcolor\":\"white\",\"linecolor\":\"white\",\"ticks\":\"\"},\"caxis\":{\"gridcolor\":\"white\",\"linecolor\":\"white\",\"ticks\":\"\"}},\"coloraxis\":{\"colorbar\":{\"outlinewidth\":0,\"ticks\":\"\"}},\"colorscale\":{\"sequential\":[[0.0,\"#0d0887\"],[0.1111111111111111,\"#46039f\"],[0.2222222222222222,\"#7201a8\"],[0.3333333333333333,\"#9c179e\"],[0.4444444444444444,\"#bd3786\"],[0.5555555555555556,\"#d8576b\"],[0.6666666666666666,\"#ed7953\"],[0.7777777777777778,\"#fb9f3a\"],[0.8888888888888888,\"#fdca26\"],[1.0,\"#f0f921\"]],\"sequentialminus\":[[0.0,\"#0d0887\"],[0.1111111111111111,\"#46039f\"],[0.2222222222222222,\"#7201a8\"],[0.3333333333333333,\"#9c179e\"],[0.4444444444444444,\"#bd3786\"],[0.5555555555555556,\"#d8576b\"],[0.6666666666666666,\"#ed7953\"],[0.7777777777777778,\"#fb9f3a\"],[0.8888888888888888,\"#fdca26\"],[1.0,\"#f0f921\"]],\"diverging\":[[0,\"#8e0152\"],[0.1,\"#c51b7d\"],[0.2,\"#de77ae\"],[0.3,\"#f1b6da\"],[0.4,\"#fde0ef\"],[0.5,\"#f7f7f7\"],[0.6,\"#e6f5d0\"],[0.7,\"#b8e186\"],[0.8,\"#7fbc41\"],[0.9,\"#4d9221\"],[1,\"#276419\"]]},\"xaxis\":{\"gridcolor\":\"white\",\"linecolor\":\"white\",\"ticks\":\"\",\"title\":{\"standoff\":15},\"zerolinecolor\":\"white\",\"automargin\":true,\"zerolinewidth\":2},\"yaxis\":{\"gridcolor\":\"white\",\"linecolor\":\"white\",\"ticks\":\"\",\"title\":{\"standoff\":15},\"zerolinecolor\":\"white\",\"automargin\":true,\"zerolinewidth\":2},\"scene\":{\"xaxis\":{\"backgroundcolor\":\"#E5ECF6\",\"gridcolor\":\"white\",\"linecolor\":\"white\",\"showbackground\":true,\"ticks\":\"\",\"zerolinecolor\":\"white\",\"gridwidth\":2},\"yaxis\":{\"backgroundcolor\":\"#E5ECF6\",\"gridcolor\":\"white\",\"linecolor\":\"white\",\"showbackground\":true,\"ticks\":\"\",\"zerolinecolor\":\"white\",\"gridwidth\":2},\"zaxis\":{\"backgroundcolor\":\"#E5ECF6\",\"gridcolor\":\"white\",\"linecolor\":\"white\",\"showbackground\":true,\"ticks\":\"\",\"zerolinecolor\":\"white\",\"gridwidth\":2}},\"shapedefaults\":{\"line\":{\"color\":\"#2a3f5f\"}},\"annotationdefaults\":{\"arrowcolor\":\"#2a3f5f\",\"arrowhead\":0,\"arrowwidth\":1},\"geo\":{\"bgcolor\":\"white\",\"landcolor\":\"#E5ECF6\",\"subunitcolor\":\"white\",\"showland\":true,\"showlakes\":true,\"lakecolor\":\"white\"},\"title\":{\"x\":0.05},\"mapbox\":{\"style\":\"light\"}}},\"xaxis\":{\"anchor\":\"y\",\"domain\":[0.0,1.0]},\"yaxis\":{\"anchor\":\"x\",\"domain\":[0.0,1.0],\"title\":{\"text\":\"Life expectancy\"}},\"legend\":{\"title\":{\"text\":\"Continent\"},\"tracegroupgap\":0},\"margin\":{\"t\":60},\"boxmode\":\"group\"},                        {\"responsive\": true}                    ).then(function(){\n",
       "                            \n",
       "var gd = document.getElementById('7d752c38-e854-462a-848a-98f83b6a9840');\n",
       "var x = new MutationObserver(function (mutations, observer) {{\n",
       "        var display = window.getComputedStyle(gd).display;\n",
       "        if (!display || display === 'none') {{\n",
       "            console.log([gd, 'removed!']);\n",
       "            Plotly.purge(gd);\n",
       "            observer.disconnect();\n",
       "        }}\n",
       "}});\n",
       "\n",
       "// Listen for the removal of the full notebook cells\n",
       "var notebookContainer = gd.closest('#notebook-container');\n",
       "if (notebookContainer) {{\n",
       "    x.observe(notebookContainer, {childList: true});\n",
       "}}\n",
       "\n",
       "// Listen for the clearing of the current output cell\n",
       "var outputEl = gd.closest('.output');\n",
       "if (outputEl) {{\n",
       "    x.observe(outputEl, {childList: true});\n",
       "}}\n",
       "\n",
       "                        })                };                });            </script>        </div>"
      ]
     },
     "metadata": {},
     "output_type": "display_data"
    }
   ],
   "source": [
    "px.box(gdp_and_pop_lifeexp.query('Year==2017').dropna(), y = 'Life expectancy' , color = 'Continent')"
   ]
  },
  {
   "cell_type": "code",
   "execution_count": 127,
   "metadata": {},
   "outputs": [
    {
     "data": {
      "application/vnd.plotly.v1+json": {
       "config": {
        "plotlyServerURL": "https://plot.ly"
       },
       "data": [
        {
         "alignmentgroup": "True",
         "box": {
          "visible": false
         },
         "hovertemplate": "Continent=South Asia<br>Life expectancy=%{y}<extra></extra>",
         "legendgroup": "South Asia",
         "marker": {
          "color": "#636efa"
         },
         "name": "South Asia",
         "offsetgroup": "South Asia",
         "orientation": "v",
         "scalegroup": "True",
         "showlegend": true,
         "type": "violin",
         "x0": " ",
         "xaxis": "x",
         "y": [
          64.13,
          72.052,
          71.129,
          69.165,
          78.325,
          70.169,
          66.947,
          76.648
         ],
         "y0": " ",
         "yaxis": "y"
        },
        {
         "alignmentgroup": "True",
         "box": {
          "visible": false
         },
         "hovertemplate": "Continent=Europe<br>Life expectancy=%{y}<extra></extra>",
         "legendgroup": "Europe",
         "marker": {
          "color": "#EF553B"
         },
         "name": "Europe",
         "offsetgroup": "Europe",
         "orientation": "v",
         "scalegroup": "True",
         "showlegend": true,
         "type": "violin",
         "x0": " ",
         "xaxis": "x",
         "y": [
          78.333,
          83.443,
          74.797,
          81.34,
          72.693,
          74.34,
          81.305,
          77.128,
          74.815,
          78.197,
          80.672,
          79.058,
          80.681,
          78.354,
          81.561,
          82.432,
          73.414,
          81.039,
          81.901,
          76.498,
          82.725,
          81.872,
          83.184,
          72.728,
          75.048,
          75.507,
          81.955,
          82.221,
          71.717,
          76.667,
          82.004,
          75.589,
          82.146,
          78.338,
          81.655,
          75.79,
          72.139,
          84.699,
          75.684,
          77.219,
          81.016,
          83.294,
          82.516,
          83.473,
          77.161,
          71.84,
          81.168
         ],
         "y0": " ",
         "yaxis": "y"
        },
        {
         "alignmentgroup": "True",
         "box": {
          "visible": false
         },
         "hovertemplate": "Continent=Africa<br>Life expectancy=%{y}<extra></extra>",
         "legendgroup": "Africa",
         "marker": {
          "color": "#00cc96"
         },
         "name": "Africa",
         "offsetgroup": "Africa",
         "orientation": "v",
         "scalegroup": "True",
         "showlegend": true,
         "type": "violin",
         "x0": " ",
         "xaxis": "x",
         "y": [
          76.499,
          60.379,
          61.174,
          68.812,
          60.768,
          60.898,
          58.511,
          52.24,
          53.712,
          63.912,
          71.656,
          58.061,
          65.872,
          65.839,
          61.44,
          63.463,
          60.706,
          57.673,
          65.909,
          52.947,
          63.295,
          72.52,
          66.311,
          63.279,
          58.452,
          64.464,
          74.743,
          76.218,
          59.309,
          63.021,
          61.599,
          53.95,
          68.341,
          69.933,
          67.38,
          73.276,
          53.895,
          63.538,
          64.881,
          64.479,
          60.489,
          76.31,
          62.516,
          63.043,
          60.812
         ],
         "y0": " ",
         "yaxis": "y"
        },
        {
         "alignmentgroup": "True",
         "box": {
          "visible": false
         },
         "hovertemplate": "Continent=North America<br>Life expectancy=%{y}<extra></extra>",
         "legendgroup": "North America",
         "marker": {
          "color": "#ab63fa"
         },
         "name": "North America",
         "offsetgroup": "North America",
         "orientation": "v",
         "scalegroup": "True",
         "showlegend": true,
         "type": "violin",
         "x0": " ",
         "xaxis": "x",
         "y": [
          76.752,
          73.554,
          78.981,
          74.365,
          82.21,
          79.914,
          74.597,
          73.689,
          72.872,
          72.388,
          73.81,
          63.29,
          74.898,
          74.267,
          74.947,
          74.068,
          78.149,
          75.91,
          75.907,
          72.3,
          73.245
         ],
         "y0": " ",
         "yaxis": "y"
        },
        {
         "alignmentgroup": "True",
         "box": {
          "visible": false
         },
         "hovertemplate": "Continent=South America<br>Life expectancy=%{y}<extra></extra>",
         "legendgroup": "South America",
         "marker": {
          "color": "#FFA15A"
         },
         "name": "South America",
         "offsetgroup": "South America",
         "orientation": "v",
         "scalegroup": "True",
         "showlegend": true,
         "type": "violin",
         "x0": " ",
         "xaxis": "x",
         "y": [
          76.372,
          70.945,
          75.456,
          79.909,
          76.925,
          76.584,
          69.624,
          73.992,
          76.286,
          71.463,
          77.632
         ],
         "y0": " ",
         "yaxis": "y"
        },
        {
         "alignmentgroup": "True",
         "box": {
          "visible": false
         },
         "hovertemplate": "Continent=Asia<br>Life expectancy=%{y}<extra></extra>",
         "legendgroup": "Asia",
         "marker": {
          "color": "#19d3f3"
         },
         "name": "Asia",
         "offsetgroup": "Asia",
         "orientation": "v",
         "scalegroup": "True",
         "showlegend": true,
         "type": "violin",
         "x0": " ",
         "xaxis": "x",
         "y": [
          74.797,
          72.693,
          77.032,
          75.585,
          69.289,
          76.47,
          80.672,
          73.414,
          71.282,
          76.271,
          70.294,
          82.663,
          84.29,
          74.292,
          72.728,
          75.311,
          71.193,
          67.277,
          78.833,
          75.828,
          69.509,
          77.393,
          73.74,
          70.952,
          79.981,
          72.139,
          74.874,
          83.279,
          82.628,
          70.647,
          76.683,
          77.161,
          67.956,
          77.647,
          71.388,
          75.241
         ],
         "y0": " ",
         "yaxis": "y"
        },
        {
         "alignmentgroup": "True",
         "box": {
          "visible": false
         },
         "hovertemplate": "Continent=Oceania<br>Life expectancy=%{y}<extra></extra>",
         "legendgroup": "Oceania",
         "marker": {
          "color": "#FF6692"
         },
         "name": "Oceania",
         "offsetgroup": "Oceania",
         "orientation": "v",
         "scalegroup": "True",
         "showlegend": true,
         "type": "violin",
         "x0": " ",
         "xaxis": "x",
         "y": [
          83.122,
          67.252,
          67.851,
          73.278,
          59.805,
          82.002,
          73.32,
          64.01,
          73.046,
          72.645,
          70.701,
          67.089,
          70.172
         ],
         "y0": " ",
         "yaxis": "y"
        }
       ],
       "layout": {
        "legend": {
         "title": {
          "text": "Continent"
         },
         "tracegroupgap": 0
        },
        "margin": {
         "t": 60
        },
        "template": {
         "data": {
          "bar": [
           {
            "error_x": {
             "color": "#2a3f5f"
            },
            "error_y": {
             "color": "#2a3f5f"
            },
            "marker": {
             "line": {
              "color": "#E5ECF6",
              "width": 0.5
             },
             "pattern": {
              "fillmode": "overlay",
              "size": 10,
              "solidity": 0.2
             }
            },
            "type": "bar"
           }
          ],
          "barpolar": [
           {
            "marker": {
             "line": {
              "color": "#E5ECF6",
              "width": 0.5
             },
             "pattern": {
              "fillmode": "overlay",
              "size": 10,
              "solidity": 0.2
             }
            },
            "type": "barpolar"
           }
          ],
          "carpet": [
           {
            "aaxis": {
             "endlinecolor": "#2a3f5f",
             "gridcolor": "white",
             "linecolor": "white",
             "minorgridcolor": "white",
             "startlinecolor": "#2a3f5f"
            },
            "baxis": {
             "endlinecolor": "#2a3f5f",
             "gridcolor": "white",
             "linecolor": "white",
             "minorgridcolor": "white",
             "startlinecolor": "#2a3f5f"
            },
            "type": "carpet"
           }
          ],
          "choropleth": [
           {
            "colorbar": {
             "outlinewidth": 0,
             "ticks": ""
            },
            "type": "choropleth"
           }
          ],
          "contour": [
           {
            "colorbar": {
             "outlinewidth": 0,
             "ticks": ""
            },
            "colorscale": [
             [
              0,
              "#0d0887"
             ],
             [
              0.1111111111111111,
              "#46039f"
             ],
             [
              0.2222222222222222,
              "#7201a8"
             ],
             [
              0.3333333333333333,
              "#9c179e"
             ],
             [
              0.4444444444444444,
              "#bd3786"
             ],
             [
              0.5555555555555556,
              "#d8576b"
             ],
             [
              0.6666666666666666,
              "#ed7953"
             ],
             [
              0.7777777777777778,
              "#fb9f3a"
             ],
             [
              0.8888888888888888,
              "#fdca26"
             ],
             [
              1,
              "#f0f921"
             ]
            ],
            "type": "contour"
           }
          ],
          "contourcarpet": [
           {
            "colorbar": {
             "outlinewidth": 0,
             "ticks": ""
            },
            "type": "contourcarpet"
           }
          ],
          "heatmap": [
           {
            "colorbar": {
             "outlinewidth": 0,
             "ticks": ""
            },
            "colorscale": [
             [
              0,
              "#0d0887"
             ],
             [
              0.1111111111111111,
              "#46039f"
             ],
             [
              0.2222222222222222,
              "#7201a8"
             ],
             [
              0.3333333333333333,
              "#9c179e"
             ],
             [
              0.4444444444444444,
              "#bd3786"
             ],
             [
              0.5555555555555556,
              "#d8576b"
             ],
             [
              0.6666666666666666,
              "#ed7953"
             ],
             [
              0.7777777777777778,
              "#fb9f3a"
             ],
             [
              0.8888888888888888,
              "#fdca26"
             ],
             [
              1,
              "#f0f921"
             ]
            ],
            "type": "heatmap"
           }
          ],
          "heatmapgl": [
           {
            "colorbar": {
             "outlinewidth": 0,
             "ticks": ""
            },
            "colorscale": [
             [
              0,
              "#0d0887"
             ],
             [
              0.1111111111111111,
              "#46039f"
             ],
             [
              0.2222222222222222,
              "#7201a8"
             ],
             [
              0.3333333333333333,
              "#9c179e"
             ],
             [
              0.4444444444444444,
              "#bd3786"
             ],
             [
              0.5555555555555556,
              "#d8576b"
             ],
             [
              0.6666666666666666,
              "#ed7953"
             ],
             [
              0.7777777777777778,
              "#fb9f3a"
             ],
             [
              0.8888888888888888,
              "#fdca26"
             ],
             [
              1,
              "#f0f921"
             ]
            ],
            "type": "heatmapgl"
           }
          ],
          "histogram": [
           {
            "marker": {
             "pattern": {
              "fillmode": "overlay",
              "size": 10,
              "solidity": 0.2
             }
            },
            "type": "histogram"
           }
          ],
          "histogram2d": [
           {
            "colorbar": {
             "outlinewidth": 0,
             "ticks": ""
            },
            "colorscale": [
             [
              0,
              "#0d0887"
             ],
             [
              0.1111111111111111,
              "#46039f"
             ],
             [
              0.2222222222222222,
              "#7201a8"
             ],
             [
              0.3333333333333333,
              "#9c179e"
             ],
             [
              0.4444444444444444,
              "#bd3786"
             ],
             [
              0.5555555555555556,
              "#d8576b"
             ],
             [
              0.6666666666666666,
              "#ed7953"
             ],
             [
              0.7777777777777778,
              "#fb9f3a"
             ],
             [
              0.8888888888888888,
              "#fdca26"
             ],
             [
              1,
              "#f0f921"
             ]
            ],
            "type": "histogram2d"
           }
          ],
          "histogram2dcontour": [
           {
            "colorbar": {
             "outlinewidth": 0,
             "ticks": ""
            },
            "colorscale": [
             [
              0,
              "#0d0887"
             ],
             [
              0.1111111111111111,
              "#46039f"
             ],
             [
              0.2222222222222222,
              "#7201a8"
             ],
             [
              0.3333333333333333,
              "#9c179e"
             ],
             [
              0.4444444444444444,
              "#bd3786"
             ],
             [
              0.5555555555555556,
              "#d8576b"
             ],
             [
              0.6666666666666666,
              "#ed7953"
             ],
             [
              0.7777777777777778,
              "#fb9f3a"
             ],
             [
              0.8888888888888888,
              "#fdca26"
             ],
             [
              1,
              "#f0f921"
             ]
            ],
            "type": "histogram2dcontour"
           }
          ],
          "mesh3d": [
           {
            "colorbar": {
             "outlinewidth": 0,
             "ticks": ""
            },
            "type": "mesh3d"
           }
          ],
          "parcoords": [
           {
            "line": {
             "colorbar": {
              "outlinewidth": 0,
              "ticks": ""
             }
            },
            "type": "parcoords"
           }
          ],
          "pie": [
           {
            "automargin": true,
            "type": "pie"
           }
          ],
          "scatter": [
           {
            "fillpattern": {
             "fillmode": "overlay",
             "size": 10,
             "solidity": 0.2
            },
            "type": "scatter"
           }
          ],
          "scatter3d": [
           {
            "line": {
             "colorbar": {
              "outlinewidth": 0,
              "ticks": ""
             }
            },
            "marker": {
             "colorbar": {
              "outlinewidth": 0,
              "ticks": ""
             }
            },
            "type": "scatter3d"
           }
          ],
          "scattercarpet": [
           {
            "marker": {
             "colorbar": {
              "outlinewidth": 0,
              "ticks": ""
             }
            },
            "type": "scattercarpet"
           }
          ],
          "scattergeo": [
           {
            "marker": {
             "colorbar": {
              "outlinewidth": 0,
              "ticks": ""
             }
            },
            "type": "scattergeo"
           }
          ],
          "scattergl": [
           {
            "marker": {
             "colorbar": {
              "outlinewidth": 0,
              "ticks": ""
             }
            },
            "type": "scattergl"
           }
          ],
          "scattermapbox": [
           {
            "marker": {
             "colorbar": {
              "outlinewidth": 0,
              "ticks": ""
             }
            },
            "type": "scattermapbox"
           }
          ],
          "scatterpolar": [
           {
            "marker": {
             "colorbar": {
              "outlinewidth": 0,
              "ticks": ""
             }
            },
            "type": "scatterpolar"
           }
          ],
          "scatterpolargl": [
           {
            "marker": {
             "colorbar": {
              "outlinewidth": 0,
              "ticks": ""
             }
            },
            "type": "scatterpolargl"
           }
          ],
          "scatterternary": [
           {
            "marker": {
             "colorbar": {
              "outlinewidth": 0,
              "ticks": ""
             }
            },
            "type": "scatterternary"
           }
          ],
          "surface": [
           {
            "colorbar": {
             "outlinewidth": 0,
             "ticks": ""
            },
            "colorscale": [
             [
              0,
              "#0d0887"
             ],
             [
              0.1111111111111111,
              "#46039f"
             ],
             [
              0.2222222222222222,
              "#7201a8"
             ],
             [
              0.3333333333333333,
              "#9c179e"
             ],
             [
              0.4444444444444444,
              "#bd3786"
             ],
             [
              0.5555555555555556,
              "#d8576b"
             ],
             [
              0.6666666666666666,
              "#ed7953"
             ],
             [
              0.7777777777777778,
              "#fb9f3a"
             ],
             [
              0.8888888888888888,
              "#fdca26"
             ],
             [
              1,
              "#f0f921"
             ]
            ],
            "type": "surface"
           }
          ],
          "table": [
           {
            "cells": {
             "fill": {
              "color": "#EBF0F8"
             },
             "line": {
              "color": "white"
             }
            },
            "header": {
             "fill": {
              "color": "#C8D4E3"
             },
             "line": {
              "color": "white"
             }
            },
            "type": "table"
           }
          ]
         },
         "layout": {
          "annotationdefaults": {
           "arrowcolor": "#2a3f5f",
           "arrowhead": 0,
           "arrowwidth": 1
          },
          "autotypenumbers": "strict",
          "coloraxis": {
           "colorbar": {
            "outlinewidth": 0,
            "ticks": ""
           }
          },
          "colorscale": {
           "diverging": [
            [
             0,
             "#8e0152"
            ],
            [
             0.1,
             "#c51b7d"
            ],
            [
             0.2,
             "#de77ae"
            ],
            [
             0.3,
             "#f1b6da"
            ],
            [
             0.4,
             "#fde0ef"
            ],
            [
             0.5,
             "#f7f7f7"
            ],
            [
             0.6,
             "#e6f5d0"
            ],
            [
             0.7,
             "#b8e186"
            ],
            [
             0.8,
             "#7fbc41"
            ],
            [
             0.9,
             "#4d9221"
            ],
            [
             1,
             "#276419"
            ]
           ],
           "sequential": [
            [
             0,
             "#0d0887"
            ],
            [
             0.1111111111111111,
             "#46039f"
            ],
            [
             0.2222222222222222,
             "#7201a8"
            ],
            [
             0.3333333333333333,
             "#9c179e"
            ],
            [
             0.4444444444444444,
             "#bd3786"
            ],
            [
             0.5555555555555556,
             "#d8576b"
            ],
            [
             0.6666666666666666,
             "#ed7953"
            ],
            [
             0.7777777777777778,
             "#fb9f3a"
            ],
            [
             0.8888888888888888,
             "#fdca26"
            ],
            [
             1,
             "#f0f921"
            ]
           ],
           "sequentialminus": [
            [
             0,
             "#0d0887"
            ],
            [
             0.1111111111111111,
             "#46039f"
            ],
            [
             0.2222222222222222,
             "#7201a8"
            ],
            [
             0.3333333333333333,
             "#9c179e"
            ],
            [
             0.4444444444444444,
             "#bd3786"
            ],
            [
             0.5555555555555556,
             "#d8576b"
            ],
            [
             0.6666666666666666,
             "#ed7953"
            ],
            [
             0.7777777777777778,
             "#fb9f3a"
            ],
            [
             0.8888888888888888,
             "#fdca26"
            ],
            [
             1,
             "#f0f921"
            ]
           ]
          },
          "colorway": [
           "#636efa",
           "#EF553B",
           "#00cc96",
           "#ab63fa",
           "#FFA15A",
           "#19d3f3",
           "#FF6692",
           "#B6E880",
           "#FF97FF",
           "#FECB52"
          ],
          "font": {
           "color": "#2a3f5f"
          },
          "geo": {
           "bgcolor": "white",
           "lakecolor": "white",
           "landcolor": "#E5ECF6",
           "showlakes": true,
           "showland": true,
           "subunitcolor": "white"
          },
          "hoverlabel": {
           "align": "left"
          },
          "hovermode": "closest",
          "mapbox": {
           "style": "light"
          },
          "paper_bgcolor": "white",
          "plot_bgcolor": "#E5ECF6",
          "polar": {
           "angularaxis": {
            "gridcolor": "white",
            "linecolor": "white",
            "ticks": ""
           },
           "bgcolor": "#E5ECF6",
           "radialaxis": {
            "gridcolor": "white",
            "linecolor": "white",
            "ticks": ""
           }
          },
          "scene": {
           "xaxis": {
            "backgroundcolor": "#E5ECF6",
            "gridcolor": "white",
            "gridwidth": 2,
            "linecolor": "white",
            "showbackground": true,
            "ticks": "",
            "zerolinecolor": "white"
           },
           "yaxis": {
            "backgroundcolor": "#E5ECF6",
            "gridcolor": "white",
            "gridwidth": 2,
            "linecolor": "white",
            "showbackground": true,
            "ticks": "",
            "zerolinecolor": "white"
           },
           "zaxis": {
            "backgroundcolor": "#E5ECF6",
            "gridcolor": "white",
            "gridwidth": 2,
            "linecolor": "white",
            "showbackground": true,
            "ticks": "",
            "zerolinecolor": "white"
           }
          },
          "shapedefaults": {
           "line": {
            "color": "#2a3f5f"
           }
          },
          "ternary": {
           "aaxis": {
            "gridcolor": "white",
            "linecolor": "white",
            "ticks": ""
           },
           "baxis": {
            "gridcolor": "white",
            "linecolor": "white",
            "ticks": ""
           },
           "bgcolor": "#E5ECF6",
           "caxis": {
            "gridcolor": "white",
            "linecolor": "white",
            "ticks": ""
           }
          },
          "title": {
           "x": 0.05
          },
          "xaxis": {
           "automargin": true,
           "gridcolor": "white",
           "linecolor": "white",
           "ticks": "",
           "title": {
            "standoff": 15
           },
           "zerolinecolor": "white",
           "zerolinewidth": 2
          },
          "yaxis": {
           "automargin": true,
           "gridcolor": "white",
           "linecolor": "white",
           "ticks": "",
           "title": {
            "standoff": 15
           },
           "zerolinecolor": "white",
           "zerolinewidth": 2
          }
         }
        },
        "violinmode": "group",
        "xaxis": {
         "anchor": "y",
         "domain": [
          0,
          1
         ]
        },
        "yaxis": {
         "anchor": "x",
         "domain": [
          0,
          1
         ],
         "title": {
          "text": "Life expectancy"
         }
        }
       }
      },
      "text/html": [
       "<div>                            <div id=\"52c422de-4613-4082-9ad2-d98bf1ccbde9\" class=\"plotly-graph-div\" style=\"height:525px; width:100%;\"></div>            <script type=\"text/javascript\">                require([\"plotly\"], function(Plotly) {                    window.PLOTLYENV=window.PLOTLYENV || {};                                    if (document.getElementById(\"52c422de-4613-4082-9ad2-d98bf1ccbde9\")) {                    Plotly.newPlot(                        \"52c422de-4613-4082-9ad2-d98bf1ccbde9\",                        [{\"alignmentgroup\":\"True\",\"box\":{\"visible\":false},\"hovertemplate\":\"Continent=South Asia\\u003cbr\\u003eLife expectancy=%{y}\\u003cextra\\u003e\\u003c\\u002fextra\\u003e\",\"legendgroup\":\"South Asia\",\"marker\":{\"color\":\"#636efa\"},\"name\":\"South Asia\",\"offsetgroup\":\"South Asia\",\"orientation\":\"v\",\"scalegroup\":\"True\",\"showlegend\":true,\"x0\":\" \",\"xaxis\":\"x\",\"y\":[64.13,72.052,71.129,69.165,78.325,70.169,66.947,76.648],\"y0\":\" \",\"yaxis\":\"y\",\"type\":\"violin\"},{\"alignmentgroup\":\"True\",\"box\":{\"visible\":false},\"hovertemplate\":\"Continent=Europe\\u003cbr\\u003eLife expectancy=%{y}\\u003cextra\\u003e\\u003c\\u002fextra\\u003e\",\"legendgroup\":\"Europe\",\"marker\":{\"color\":\"#EF553B\"},\"name\":\"Europe\",\"offsetgroup\":\"Europe\",\"orientation\":\"v\",\"scalegroup\":\"True\",\"showlegend\":true,\"x0\":\" \",\"xaxis\":\"x\",\"y\":[78.333,83.443,74.797,81.34,72.693,74.34,81.305,77.128,74.815,78.197,80.672,79.058,80.681,78.354,81.561,82.432,73.414,81.039,81.901,76.498,82.725,81.872,83.184,72.728,75.048,75.507,81.955,82.221,71.717,76.667,82.004,75.589,82.146,78.338,81.655,75.79,72.139,84.699,75.684,77.219,81.016,83.294,82.516,83.473,77.161,71.84,81.168],\"y0\":\" \",\"yaxis\":\"y\",\"type\":\"violin\"},{\"alignmentgroup\":\"True\",\"box\":{\"visible\":false},\"hovertemplate\":\"Continent=Africa\\u003cbr\\u003eLife expectancy=%{y}\\u003cextra\\u003e\\u003c\\u002fextra\\u003e\",\"legendgroup\":\"Africa\",\"marker\":{\"color\":\"#00cc96\"},\"name\":\"Africa\",\"offsetgroup\":\"Africa\",\"orientation\":\"v\",\"scalegroup\":\"True\",\"showlegend\":true,\"x0\":\" \",\"xaxis\":\"x\",\"y\":[76.499,60.379,61.174,68.812,60.768,60.898,58.511,52.24,53.712,63.912,71.656,58.061,65.872,65.839,61.44,63.463,60.706,57.673,65.909,52.947,63.295,72.52,66.311,63.279,58.452,64.464,74.743,76.218,59.309,63.021,61.599,53.95,68.341,69.933,67.38,73.276,53.895,63.538,64.881,64.479,60.489,76.31,62.516,63.043,60.812],\"y0\":\" \",\"yaxis\":\"y\",\"type\":\"violin\"},{\"alignmentgroup\":\"True\",\"box\":{\"visible\":false},\"hovertemplate\":\"Continent=North America\\u003cbr\\u003eLife expectancy=%{y}\\u003cextra\\u003e\\u003c\\u002fextra\\u003e\",\"legendgroup\":\"North America\",\"marker\":{\"color\":\"#ab63fa\"},\"name\":\"North America\",\"offsetgroup\":\"North America\",\"orientation\":\"v\",\"scalegroup\":\"True\",\"showlegend\":true,\"x0\":\" \",\"xaxis\":\"x\",\"y\":[76.752,73.554,78.981,74.365,82.21,79.914,74.597,73.689,72.872,72.388,73.81,63.29,74.898,74.267,74.947,74.068,78.149,75.91,75.907,72.3,73.245],\"y0\":\" \",\"yaxis\":\"y\",\"type\":\"violin\"},{\"alignmentgroup\":\"True\",\"box\":{\"visible\":false},\"hovertemplate\":\"Continent=South America\\u003cbr\\u003eLife expectancy=%{y}\\u003cextra\\u003e\\u003c\\u002fextra\\u003e\",\"legendgroup\":\"South America\",\"marker\":{\"color\":\"#FFA15A\"},\"name\":\"South America\",\"offsetgroup\":\"South America\",\"orientation\":\"v\",\"scalegroup\":\"True\",\"showlegend\":true,\"x0\":\" \",\"xaxis\":\"x\",\"y\":[76.372,70.945,75.456,79.909,76.925,76.584,69.624,73.992,76.286,71.463,77.632],\"y0\":\" \",\"yaxis\":\"y\",\"type\":\"violin\"},{\"alignmentgroup\":\"True\",\"box\":{\"visible\":false},\"hovertemplate\":\"Continent=Asia\\u003cbr\\u003eLife expectancy=%{y}\\u003cextra\\u003e\\u003c\\u002fextra\\u003e\",\"legendgroup\":\"Asia\",\"marker\":{\"color\":\"#19d3f3\"},\"name\":\"Asia\",\"offsetgroup\":\"Asia\",\"orientation\":\"v\",\"scalegroup\":\"True\",\"showlegend\":true,\"x0\":\" \",\"xaxis\":\"x\",\"y\":[74.797,72.693,77.032,75.585,69.289,76.47,80.672,73.414,71.282,76.271,70.294,82.663,84.29,74.292,72.728,75.311,71.193,67.277,78.833,75.828,69.509,77.393,73.74,70.952,79.981,72.139,74.874,83.279,82.628,70.647,76.683,77.161,67.956,77.647,71.388,75.241],\"y0\":\" \",\"yaxis\":\"y\",\"type\":\"violin\"},{\"alignmentgroup\":\"True\",\"box\":{\"visible\":false},\"hovertemplate\":\"Continent=Oceania\\u003cbr\\u003eLife expectancy=%{y}\\u003cextra\\u003e\\u003c\\u002fextra\\u003e\",\"legendgroup\":\"Oceania\",\"marker\":{\"color\":\"#FF6692\"},\"name\":\"Oceania\",\"offsetgroup\":\"Oceania\",\"orientation\":\"v\",\"scalegroup\":\"True\",\"showlegend\":true,\"x0\":\" \",\"xaxis\":\"x\",\"y\":[83.122,67.252,67.851,73.278,59.805,82.002,73.32,64.01,73.046,72.645,70.701,67.089,70.172],\"y0\":\" \",\"yaxis\":\"y\",\"type\":\"violin\"}],                        {\"template\":{\"data\":{\"histogram2dcontour\":[{\"type\":\"histogram2dcontour\",\"colorbar\":{\"outlinewidth\":0,\"ticks\":\"\"},\"colorscale\":[[0.0,\"#0d0887\"],[0.1111111111111111,\"#46039f\"],[0.2222222222222222,\"#7201a8\"],[0.3333333333333333,\"#9c179e\"],[0.4444444444444444,\"#bd3786\"],[0.5555555555555556,\"#d8576b\"],[0.6666666666666666,\"#ed7953\"],[0.7777777777777778,\"#fb9f3a\"],[0.8888888888888888,\"#fdca26\"],[1.0,\"#f0f921\"]]}],\"choropleth\":[{\"type\":\"choropleth\",\"colorbar\":{\"outlinewidth\":0,\"ticks\":\"\"}}],\"histogram2d\":[{\"type\":\"histogram2d\",\"colorbar\":{\"outlinewidth\":0,\"ticks\":\"\"},\"colorscale\":[[0.0,\"#0d0887\"],[0.1111111111111111,\"#46039f\"],[0.2222222222222222,\"#7201a8\"],[0.3333333333333333,\"#9c179e\"],[0.4444444444444444,\"#bd3786\"],[0.5555555555555556,\"#d8576b\"],[0.6666666666666666,\"#ed7953\"],[0.7777777777777778,\"#fb9f3a\"],[0.8888888888888888,\"#fdca26\"],[1.0,\"#f0f921\"]]}],\"heatmap\":[{\"type\":\"heatmap\",\"colorbar\":{\"outlinewidth\":0,\"ticks\":\"\"},\"colorscale\":[[0.0,\"#0d0887\"],[0.1111111111111111,\"#46039f\"],[0.2222222222222222,\"#7201a8\"],[0.3333333333333333,\"#9c179e\"],[0.4444444444444444,\"#bd3786\"],[0.5555555555555556,\"#d8576b\"],[0.6666666666666666,\"#ed7953\"],[0.7777777777777778,\"#fb9f3a\"],[0.8888888888888888,\"#fdca26\"],[1.0,\"#f0f921\"]]}],\"heatmapgl\":[{\"type\":\"heatmapgl\",\"colorbar\":{\"outlinewidth\":0,\"ticks\":\"\"},\"colorscale\":[[0.0,\"#0d0887\"],[0.1111111111111111,\"#46039f\"],[0.2222222222222222,\"#7201a8\"],[0.3333333333333333,\"#9c179e\"],[0.4444444444444444,\"#bd3786\"],[0.5555555555555556,\"#d8576b\"],[0.6666666666666666,\"#ed7953\"],[0.7777777777777778,\"#fb9f3a\"],[0.8888888888888888,\"#fdca26\"],[1.0,\"#f0f921\"]]}],\"contourcarpet\":[{\"type\":\"contourcarpet\",\"colorbar\":{\"outlinewidth\":0,\"ticks\":\"\"}}],\"contour\":[{\"type\":\"contour\",\"colorbar\":{\"outlinewidth\":0,\"ticks\":\"\"},\"colorscale\":[[0.0,\"#0d0887\"],[0.1111111111111111,\"#46039f\"],[0.2222222222222222,\"#7201a8\"],[0.3333333333333333,\"#9c179e\"],[0.4444444444444444,\"#bd3786\"],[0.5555555555555556,\"#d8576b\"],[0.6666666666666666,\"#ed7953\"],[0.7777777777777778,\"#fb9f3a\"],[0.8888888888888888,\"#fdca26\"],[1.0,\"#f0f921\"]]}],\"surface\":[{\"type\":\"surface\",\"colorbar\":{\"outlinewidth\":0,\"ticks\":\"\"},\"colorscale\":[[0.0,\"#0d0887\"],[0.1111111111111111,\"#46039f\"],[0.2222222222222222,\"#7201a8\"],[0.3333333333333333,\"#9c179e\"],[0.4444444444444444,\"#bd3786\"],[0.5555555555555556,\"#d8576b\"],[0.6666666666666666,\"#ed7953\"],[0.7777777777777778,\"#fb9f3a\"],[0.8888888888888888,\"#fdca26\"],[1.0,\"#f0f921\"]]}],\"mesh3d\":[{\"type\":\"mesh3d\",\"colorbar\":{\"outlinewidth\":0,\"ticks\":\"\"}}],\"scatter\":[{\"fillpattern\":{\"fillmode\":\"overlay\",\"size\":10,\"solidity\":0.2},\"type\":\"scatter\"}],\"parcoords\":[{\"type\":\"parcoords\",\"line\":{\"colorbar\":{\"outlinewidth\":0,\"ticks\":\"\"}}}],\"scatterpolargl\":[{\"type\":\"scatterpolargl\",\"marker\":{\"colorbar\":{\"outlinewidth\":0,\"ticks\":\"\"}}}],\"bar\":[{\"error_x\":{\"color\":\"#2a3f5f\"},\"error_y\":{\"color\":\"#2a3f5f\"},\"marker\":{\"line\":{\"color\":\"#E5ECF6\",\"width\":0.5},\"pattern\":{\"fillmode\":\"overlay\",\"size\":10,\"solidity\":0.2}},\"type\":\"bar\"}],\"scattergeo\":[{\"type\":\"scattergeo\",\"marker\":{\"colorbar\":{\"outlinewidth\":0,\"ticks\":\"\"}}}],\"scatterpolar\":[{\"type\":\"scatterpolar\",\"marker\":{\"colorbar\":{\"outlinewidth\":0,\"ticks\":\"\"}}}],\"histogram\":[{\"marker\":{\"pattern\":{\"fillmode\":\"overlay\",\"size\":10,\"solidity\":0.2}},\"type\":\"histogram\"}],\"scattergl\":[{\"type\":\"scattergl\",\"marker\":{\"colorbar\":{\"outlinewidth\":0,\"ticks\":\"\"}}}],\"scatter3d\":[{\"type\":\"scatter3d\",\"line\":{\"colorbar\":{\"outlinewidth\":0,\"ticks\":\"\"}},\"marker\":{\"colorbar\":{\"outlinewidth\":0,\"ticks\":\"\"}}}],\"scattermapbox\":[{\"type\":\"scattermapbox\",\"marker\":{\"colorbar\":{\"outlinewidth\":0,\"ticks\":\"\"}}}],\"scatterternary\":[{\"type\":\"scatterternary\",\"marker\":{\"colorbar\":{\"outlinewidth\":0,\"ticks\":\"\"}}}],\"scattercarpet\":[{\"type\":\"scattercarpet\",\"marker\":{\"colorbar\":{\"outlinewidth\":0,\"ticks\":\"\"}}}],\"carpet\":[{\"aaxis\":{\"endlinecolor\":\"#2a3f5f\",\"gridcolor\":\"white\",\"linecolor\":\"white\",\"minorgridcolor\":\"white\",\"startlinecolor\":\"#2a3f5f\"},\"baxis\":{\"endlinecolor\":\"#2a3f5f\",\"gridcolor\":\"white\",\"linecolor\":\"white\",\"minorgridcolor\":\"white\",\"startlinecolor\":\"#2a3f5f\"},\"type\":\"carpet\"}],\"table\":[{\"cells\":{\"fill\":{\"color\":\"#EBF0F8\"},\"line\":{\"color\":\"white\"}},\"header\":{\"fill\":{\"color\":\"#C8D4E3\"},\"line\":{\"color\":\"white\"}},\"type\":\"table\"}],\"barpolar\":[{\"marker\":{\"line\":{\"color\":\"#E5ECF6\",\"width\":0.5},\"pattern\":{\"fillmode\":\"overlay\",\"size\":10,\"solidity\":0.2}},\"type\":\"barpolar\"}],\"pie\":[{\"automargin\":true,\"type\":\"pie\"}]},\"layout\":{\"autotypenumbers\":\"strict\",\"colorway\":[\"#636efa\",\"#EF553B\",\"#00cc96\",\"#ab63fa\",\"#FFA15A\",\"#19d3f3\",\"#FF6692\",\"#B6E880\",\"#FF97FF\",\"#FECB52\"],\"font\":{\"color\":\"#2a3f5f\"},\"hovermode\":\"closest\",\"hoverlabel\":{\"align\":\"left\"},\"paper_bgcolor\":\"white\",\"plot_bgcolor\":\"#E5ECF6\",\"polar\":{\"bgcolor\":\"#E5ECF6\",\"angularaxis\":{\"gridcolor\":\"white\",\"linecolor\":\"white\",\"ticks\":\"\"},\"radialaxis\":{\"gridcolor\":\"white\",\"linecolor\":\"white\",\"ticks\":\"\"}},\"ternary\":{\"bgcolor\":\"#E5ECF6\",\"aaxis\":{\"gridcolor\":\"white\",\"linecolor\":\"white\",\"ticks\":\"\"},\"baxis\":{\"gridcolor\":\"white\",\"linecolor\":\"white\",\"ticks\":\"\"},\"caxis\":{\"gridcolor\":\"white\",\"linecolor\":\"white\",\"ticks\":\"\"}},\"coloraxis\":{\"colorbar\":{\"outlinewidth\":0,\"ticks\":\"\"}},\"colorscale\":{\"sequential\":[[0.0,\"#0d0887\"],[0.1111111111111111,\"#46039f\"],[0.2222222222222222,\"#7201a8\"],[0.3333333333333333,\"#9c179e\"],[0.4444444444444444,\"#bd3786\"],[0.5555555555555556,\"#d8576b\"],[0.6666666666666666,\"#ed7953\"],[0.7777777777777778,\"#fb9f3a\"],[0.8888888888888888,\"#fdca26\"],[1.0,\"#f0f921\"]],\"sequentialminus\":[[0.0,\"#0d0887\"],[0.1111111111111111,\"#46039f\"],[0.2222222222222222,\"#7201a8\"],[0.3333333333333333,\"#9c179e\"],[0.4444444444444444,\"#bd3786\"],[0.5555555555555556,\"#d8576b\"],[0.6666666666666666,\"#ed7953\"],[0.7777777777777778,\"#fb9f3a\"],[0.8888888888888888,\"#fdca26\"],[1.0,\"#f0f921\"]],\"diverging\":[[0,\"#8e0152\"],[0.1,\"#c51b7d\"],[0.2,\"#de77ae\"],[0.3,\"#f1b6da\"],[0.4,\"#fde0ef\"],[0.5,\"#f7f7f7\"],[0.6,\"#e6f5d0\"],[0.7,\"#b8e186\"],[0.8,\"#7fbc41\"],[0.9,\"#4d9221\"],[1,\"#276419\"]]},\"xaxis\":{\"gridcolor\":\"white\",\"linecolor\":\"white\",\"ticks\":\"\",\"title\":{\"standoff\":15},\"zerolinecolor\":\"white\",\"automargin\":true,\"zerolinewidth\":2},\"yaxis\":{\"gridcolor\":\"white\",\"linecolor\":\"white\",\"ticks\":\"\",\"title\":{\"standoff\":15},\"zerolinecolor\":\"white\",\"automargin\":true,\"zerolinewidth\":2},\"scene\":{\"xaxis\":{\"backgroundcolor\":\"#E5ECF6\",\"gridcolor\":\"white\",\"linecolor\":\"white\",\"showbackground\":true,\"ticks\":\"\",\"zerolinecolor\":\"white\",\"gridwidth\":2},\"yaxis\":{\"backgroundcolor\":\"#E5ECF6\",\"gridcolor\":\"white\",\"linecolor\":\"white\",\"showbackground\":true,\"ticks\":\"\",\"zerolinecolor\":\"white\",\"gridwidth\":2},\"zaxis\":{\"backgroundcolor\":\"#E5ECF6\",\"gridcolor\":\"white\",\"linecolor\":\"white\",\"showbackground\":true,\"ticks\":\"\",\"zerolinecolor\":\"white\",\"gridwidth\":2}},\"shapedefaults\":{\"line\":{\"color\":\"#2a3f5f\"}},\"annotationdefaults\":{\"arrowcolor\":\"#2a3f5f\",\"arrowhead\":0,\"arrowwidth\":1},\"geo\":{\"bgcolor\":\"white\",\"landcolor\":\"#E5ECF6\",\"subunitcolor\":\"white\",\"showland\":true,\"showlakes\":true,\"lakecolor\":\"white\"},\"title\":{\"x\":0.05},\"mapbox\":{\"style\":\"light\"}}},\"xaxis\":{\"anchor\":\"y\",\"domain\":[0.0,1.0]},\"yaxis\":{\"anchor\":\"x\",\"domain\":[0.0,1.0],\"title\":{\"text\":\"Life expectancy\"}},\"legend\":{\"title\":{\"text\":\"Continent\"},\"tracegroupgap\":0},\"margin\":{\"t\":60},\"violinmode\":\"group\"},                        {\"responsive\": true}                    ).then(function(){\n",
       "                            \n",
       "var gd = document.getElementById('52c422de-4613-4082-9ad2-d98bf1ccbde9');\n",
       "var x = new MutationObserver(function (mutations, observer) {{\n",
       "        var display = window.getComputedStyle(gd).display;\n",
       "        if (!display || display === 'none') {{\n",
       "            console.log([gd, 'removed!']);\n",
       "            Plotly.purge(gd);\n",
       "            observer.disconnect();\n",
       "        }}\n",
       "}});\n",
       "\n",
       "// Listen for the removal of the full notebook cells\n",
       "var notebookContainer = gd.closest('#notebook-container');\n",
       "if (notebookContainer) {{\n",
       "    x.observe(notebookContainer, {childList: true});\n",
       "}}\n",
       "\n",
       "// Listen for the clearing of the current output cell\n",
       "var outputEl = gd.closest('.output');\n",
       "if (outputEl) {{\n",
       "    x.observe(outputEl, {childList: true});\n",
       "}}\n",
       "\n",
       "                        })                };                });            </script>        </div>"
      ]
     },
     "metadata": {},
     "output_type": "display_data"
    }
   ],
   "source": [
    "px.violin(gdp_and_pop_lifeexp.query('Year==2017').dropna(), y = 'Life expectancy' , color = 'Continent')"
   ]
  },
  {
   "cell_type": "code",
   "execution_count": 130,
   "metadata": {},
   "outputs": [
    {
     "data": {
      "application/vnd.plotly.v1+json": {
       "config": {
        "plotlyServerURL": "https://plot.ly"
       },
       "data": [
        {
         "hovertemplate": "GDPperCapita=%{x}<br>Life expectancy=%{y}<extra></extra>",
         "legendgroup": "",
         "marker": {
          "color": "#636efa",
          "symbol": "circle"
         },
         "mode": "markers",
         "name": "",
         "orientation": "v",
         "showlegend": false,
         "type": "scatter",
         "x": [
          605.2847176666327,
          4850.400742998023,
          4816.917875943996,
          43922.96412369883,
          3480.765485461146,
          14623.537998553686,
          10477.146319354326,
          4198.5224330963665,
          4198.5224330963665,
          55957.626590364045,
          49069.142261829365,
          5815.411598467506,
          5815.411598467506,
          27467.183467529583,
          22090.520174494846,
          1127.1701207960982,
          16487.26340206451,
          6414.86495398254,
          45885.52670298003,
          4300.087271401622,
          860.0059374439847,
          3199.9230745861664,
          2490.9237281358346,
          5818.475950940721,
          7818.89407485687,
          10965.175921972874,
          31788.20985671769,
          8281.490880510139,
          688.5475953218569,
          213.27858761188048,
          1134.8947222330314,
          1472.181498185256,
          51282.4760892625,
          3598.791044790726,
          339.62431132785247,
          817.0190414555237,
          14720.936133199892,
          7150.496686254078,
          7624.942176500532,
          769.8465299051155,
          2651.883363736803,
          9704.498759439171,
          1623.1735290278593,
          15011.3962242951,
          21402.411860269407,
          21402.411860269407,
          22672.94786374974,
          408.82077087232886,
          61986.156681440334,
          6826.767363664127,
          7325.899767129582,
          5219.341306051099,
          2817.432289437782,
          3458.0419227759394,
          11538.391726633598,
          18926.749646098408,
          4756.849072779929,
          542.3930828490611,
          4463.480825744139,
          47060.206319573386,
          44061.64739521614,
          9259.756310496272,
          506.8967392330487,
          3977.795688668371,
          3977.795688668371,
          46768.11780316001,
          1795.9363436799663,
          23444.475664032358,
          8701.373037053441,
          3123.933862583884,
          867.1934154348526,
          615.6331430674506,
          3885.6723798626967,
          728.8692284759197,
          2172.15391486848,
          38372.02312307651,
          15730.068784316445,
          50998.46204829191,
          1964.284310117216,
          4120.367810496154,
          6988.946227555693,
          5652.507955372407,
          75382.59575206922,
          36074.24555591012,
          34807.36298025678,
          4747.777208777131,
          48283.79505249767,
          3210.5726602202535,
          10831.942910092477,
          10831.942910092477,
          1157.2094917223153,
          1744.3288443963245,
          null,
          34211.63377749877,
          1072.311890452892,
          1706.8018243052925,
          15471.535484080063,
          6420.084729746019,
          1504.425989499173,
          354.5265876589813,
          7085.233506390533,
          16691.25687295223,
          109222.51748804915,
          55897.925654908024,
          421.8895132896171,
          512.6562214324799,
          11713.792561266839,
          7899.714168118267,
          763.4603869121759,
          28837.27962744566,
          3164.1006681526383,
          1347.0106110759748,
          10190.993735979035,
          10295.794498827267,
          1893.0453068657068,
          4020.952428596564,
          7744.161328415015,
          3358.2559171027515,
          537.4346092917973,
          1483.856240995092,
          6173.538590781273,
          11923.843074243727,
          772.4735975500814,
          53950.0540635468,
          38592.70325665397,
          1963.4506830054502,
          393.6525754495546,
          2412.5783360682376,
          5248.282093054803,
          90981.32256139029,
          16041.513435599463,
          1158.4885232469962,
          12051.417300994945,
          2556.716968957236,
          11489.693265479986,
          2348.3947050418583,
          3874.246263594248,
          6314.326519317802,
          2884.3510430859346,
          15760.713292936132,
          23127.1793929723,
          63628.12021207412,
          10894.802686279638,
          11544.047959580705,
          11544.047959580705,
          779.7490066089041,
          16794.35472127423,
          8452.687524606023,
          6735.514265390299,
          3879.45020875761,
          51998.1805325606,
          1288.762361476111,
          20694.04549711489,
          1165.824407244004,
          4765.5051662726055,
          13974.193431753958,
          466.7321194998571,
          54308.982638511385,
          19867.541517165013,
          25548.04657953998,
          1462.315444722118,
          7485.8599310439395,
          26341.50760170933,
          32353.667637547966,
          3899.7631299049885,
          1945.7284749482765,
          7936.431957189545,
          57870.66129200807,
          76758.26449703275,
          1020.1999665853256,
          916.5431662911818,
          6110.393755646091,
          2786.7006105681335,
          584.8597238590712,
          4090.2561115260783,
          15185.862214853612,
          4341.280063602292,
          14864.968662745698,
          14864.968662745698,
          7317.644819810507,
          3680.6712693304994,
          694.0680136942867,
          2856.967863917371,
          40820.002119628756,
          42065.47719657815,
          53232.18452176347,
          14445.09266111056,
          2058.1961771873657,
          2849.2103791819964,
          1852.8776765697721,
          1669.5975269283852,
          1076.7585014988622
         ],
         "xaxis": "x",
         "y": [
          64.13,
          78.333,
          76.499,
          83.443,
          60.379,
          76.752,
          76.372,
          74.797,
          74.797,
          83.122,
          81.34,
          72.693,
          72.693,
          73.554,
          77.032,
          72.052,
          78.981,
          74.34,
          81.305,
          74.365,
          61.174,
          71.129,
          70.945,
          77.128,
          68.812,
          75.456,
          75.585,
          74.815,
          60.768,
          60.898,
          69.289,
          58.511,
          82.21,
          72.57,
          52.24,
          53.712,
          79.909,
          76.47,
          76.925,
          63.912,
          63.954,
          79.914,
          57.017,
          78.197,
          80.672,
          80.672,
          79.058,
          60.026,
          80.681,
          74.597,
          73.689,
          76.584,
          71.656,
          72.872,
          58.061,
          78.354,
          58.319,
          65.872,
          67.252,
          81.561,
          82.432,
          65.839,
          61.44,
          73.414,
          73.414,
          81.039,
          63.463,
          81.901,
          72.388,
          73.81,
          60.706,
          57.673,
          69.624,
          63.29,
          74.898,
          84.493,
          76.498,
          82.725,
          69.165,
          71.282,
          76.271,
          70.294,
          81.872,
          82.663,
          83.184,
          74.267,
          84.29,
          74.292,
          72.728,
          72.728,
          65.909,
          67.851,
          null,
          75.311,
          71.193,
          67.277,
          75.048,
          78.833,
          52.947,
          63.295,
          72.52,
          75.507,
          81.955,
          83.989,
          66.311,
          63.279,
          75.828,
          78.325,
          58.452,
          82.221,
          73.278,
          64.464,
          74.743,
          74.947,
          71.717,
          69.509,
          76.667,
          76.218,
          59.309,
          66.558,
          63.021,
          59.805,
          70.169,
          82.004,
          82.002,
          74.068,
          61.599,
          53.95,
          75.589,
          82.146,
          77.393,
          66.947,
          73.32,
          73.74,
          78.149,
          64.01,
          73.992,
          76.286,
          70.952,
          78.338,
          81.655,
          79.981,
          75.79,
          72.139,
          72.139,
          68.341,
          75.91,
          75.907,
          72.3,
          73.046,
          84.699,
          69.933,
          74.874,
          67.38,
          75.684,
          73.276,
          53.895,
          83.279,
          77.219,
          81.016,
          72.645,
          63.538,
          82.628,
          83.294,
          76.648,
          64.881,
          71.463,
          82.516,
          83.473,
          70.647,
          64.479,
          76.683,
          69.007,
          60.489,
          70.701,
          73.245,
          76.31,
          77.161,
          77.161,
          67.956,
          67.089,
          62.516,
          71.84,
          77.647,
          81.168,
          78.861,
          77.632,
          71.388,
          70.172,
          75.241,
          63.043,
          60.812
         ],
         "yaxis": "y"
        },
        {
         "alignmentgroup": "True",
         "bingroup": "x",
         "hovertemplate": "GDPperCapita=%{x}<br>count=%{y}<extra></extra>",
         "legendgroup": "",
         "marker": {
          "color": "#636efa"
         },
         "name": "",
         "offsetgroup": "",
         "opacity": 0.5,
         "showlegend": false,
         "type": "histogram",
         "x": [
          605.2847176666327,
          4850.400742998023,
          4816.917875943996,
          43922.96412369883,
          3480.765485461146,
          14623.537998553686,
          10477.146319354326,
          4198.5224330963665,
          4198.5224330963665,
          55957.626590364045,
          49069.142261829365,
          5815.411598467506,
          5815.411598467506,
          27467.183467529583,
          22090.520174494846,
          1127.1701207960982,
          16487.26340206451,
          6414.86495398254,
          45885.52670298003,
          4300.087271401622,
          860.0059374439847,
          3199.9230745861664,
          2490.9237281358346,
          5818.475950940721,
          7818.89407485687,
          10965.175921972874,
          31788.20985671769,
          8281.490880510139,
          688.5475953218569,
          213.27858761188048,
          1134.8947222330314,
          1472.181498185256,
          51282.4760892625,
          3598.791044790726,
          339.62431132785247,
          817.0190414555237,
          14720.936133199892,
          7150.496686254078,
          7624.942176500532,
          769.8465299051155,
          2651.883363736803,
          9704.498759439171,
          1623.1735290278593,
          15011.3962242951,
          21402.411860269407,
          21402.411860269407,
          22672.94786374974,
          408.82077087232886,
          61986.156681440334,
          6826.767363664127,
          7325.899767129582,
          5219.341306051099,
          2817.432289437782,
          3458.0419227759394,
          11538.391726633598,
          18926.749646098408,
          4756.849072779929,
          542.3930828490611,
          4463.480825744139,
          47060.206319573386,
          44061.64739521614,
          9259.756310496272,
          506.8967392330487,
          3977.795688668371,
          3977.795688668371,
          46768.11780316001,
          1795.9363436799663,
          23444.475664032358,
          8701.373037053441,
          3123.933862583884,
          867.1934154348526,
          615.6331430674506,
          3885.6723798626967,
          728.8692284759197,
          2172.15391486848,
          38372.02312307651,
          15730.068784316445,
          50998.46204829191,
          1964.284310117216,
          4120.367810496154,
          6988.946227555693,
          5652.507955372407,
          75382.59575206922,
          36074.24555591012,
          34807.36298025678,
          4747.777208777131,
          48283.79505249767,
          3210.5726602202535,
          10831.942910092477,
          10831.942910092477,
          1157.2094917223153,
          1744.3288443963245,
          null,
          34211.63377749877,
          1072.311890452892,
          1706.8018243052925,
          15471.535484080063,
          6420.084729746019,
          1504.425989499173,
          354.5265876589813,
          7085.233506390533,
          16691.25687295223,
          109222.51748804915,
          55897.925654908024,
          421.8895132896171,
          512.6562214324799,
          11713.792561266839,
          7899.714168118267,
          763.4603869121759,
          28837.27962744566,
          3164.1006681526383,
          1347.0106110759748,
          10190.993735979035,
          10295.794498827267,
          1893.0453068657068,
          4020.952428596564,
          7744.161328415015,
          3358.2559171027515,
          537.4346092917973,
          1483.856240995092,
          6173.538590781273,
          11923.843074243727,
          772.4735975500814,
          53950.0540635468,
          38592.70325665397,
          1963.4506830054502,
          393.6525754495546,
          2412.5783360682376,
          5248.282093054803,
          90981.32256139029,
          16041.513435599463,
          1158.4885232469962,
          12051.417300994945,
          2556.716968957236,
          11489.693265479986,
          2348.3947050418583,
          3874.246263594248,
          6314.326519317802,
          2884.3510430859346,
          15760.713292936132,
          23127.1793929723,
          63628.12021207412,
          10894.802686279638,
          11544.047959580705,
          11544.047959580705,
          779.7490066089041,
          16794.35472127423,
          8452.687524606023,
          6735.514265390299,
          3879.45020875761,
          51998.1805325606,
          1288.762361476111,
          20694.04549711489,
          1165.824407244004,
          4765.5051662726055,
          13974.193431753958,
          466.7321194998571,
          54308.982638511385,
          19867.541517165013,
          25548.04657953998,
          1462.315444722118,
          7485.8599310439395,
          26341.50760170933,
          32353.667637547966,
          3899.7631299049885,
          1945.7284749482765,
          7936.431957189545,
          57870.66129200807,
          76758.26449703275,
          1020.1999665853256,
          916.5431662911818,
          6110.393755646091,
          2786.7006105681335,
          584.8597238590712,
          4090.2561115260783,
          15185.862214853612,
          4341.280063602292,
          14864.968662745698,
          14864.968662745698,
          7317.644819810507,
          3680.6712693304994,
          694.0680136942867,
          2856.967863917371,
          40820.002119628756,
          42065.47719657815,
          53232.18452176347,
          14445.09266111056,
          2058.1961771873657,
          2849.2103791819964,
          1852.8776765697721,
          1669.5975269283852,
          1076.7585014988622
         ],
         "xaxis": "x3",
         "yaxis": "y3"
        },
        {
         "alignmentgroup": "True",
         "bingroup": "y",
         "hovertemplate": "Life expectancy=%{y}<br>count=%{x}<extra></extra>",
         "legendgroup": "",
         "marker": {
          "color": "#636efa"
         },
         "name": "",
         "offsetgroup": "",
         "opacity": 0.5,
         "showlegend": false,
         "type": "histogram",
         "xaxis": "x2",
         "y": [
          64.13,
          78.333,
          76.499,
          83.443,
          60.379,
          76.752,
          76.372,
          74.797,
          74.797,
          83.122,
          81.34,
          72.693,
          72.693,
          73.554,
          77.032,
          72.052,
          78.981,
          74.34,
          81.305,
          74.365,
          61.174,
          71.129,
          70.945,
          77.128,
          68.812,
          75.456,
          75.585,
          74.815,
          60.768,
          60.898,
          69.289,
          58.511,
          82.21,
          72.57,
          52.24,
          53.712,
          79.909,
          76.47,
          76.925,
          63.912,
          63.954,
          79.914,
          57.017,
          78.197,
          80.672,
          80.672,
          79.058,
          60.026,
          80.681,
          74.597,
          73.689,
          76.584,
          71.656,
          72.872,
          58.061,
          78.354,
          58.319,
          65.872,
          67.252,
          81.561,
          82.432,
          65.839,
          61.44,
          73.414,
          73.414,
          81.039,
          63.463,
          81.901,
          72.388,
          73.81,
          60.706,
          57.673,
          69.624,
          63.29,
          74.898,
          84.493,
          76.498,
          82.725,
          69.165,
          71.282,
          76.271,
          70.294,
          81.872,
          82.663,
          83.184,
          74.267,
          84.29,
          74.292,
          72.728,
          72.728,
          65.909,
          67.851,
          null,
          75.311,
          71.193,
          67.277,
          75.048,
          78.833,
          52.947,
          63.295,
          72.52,
          75.507,
          81.955,
          83.989,
          66.311,
          63.279,
          75.828,
          78.325,
          58.452,
          82.221,
          73.278,
          64.464,
          74.743,
          74.947,
          71.717,
          69.509,
          76.667,
          76.218,
          59.309,
          66.558,
          63.021,
          59.805,
          70.169,
          82.004,
          82.002,
          74.068,
          61.599,
          53.95,
          75.589,
          82.146,
          77.393,
          66.947,
          73.32,
          73.74,
          78.149,
          64.01,
          73.992,
          76.286,
          70.952,
          78.338,
          81.655,
          79.981,
          75.79,
          72.139,
          72.139,
          68.341,
          75.91,
          75.907,
          72.3,
          73.046,
          84.699,
          69.933,
          74.874,
          67.38,
          75.684,
          73.276,
          53.895,
          83.279,
          77.219,
          81.016,
          72.645,
          63.538,
          82.628,
          83.294,
          76.648,
          64.881,
          71.463,
          82.516,
          83.473,
          70.647,
          64.479,
          76.683,
          69.007,
          60.489,
          70.701,
          73.245,
          76.31,
          77.161,
          77.161,
          67.956,
          67.089,
          62.516,
          71.84,
          77.647,
          81.168,
          78.861,
          77.632,
          71.388,
          70.172,
          75.241,
          63.043,
          60.812
         ],
         "yaxis": "y2"
        }
       ],
       "layout": {
        "barmode": "overlay",
        "legend": {
         "tracegroupgap": 0
        },
        "margin": {
         "t": 60
        },
        "template": {
         "data": {
          "bar": [
           {
            "error_x": {
             "color": "#2a3f5f"
            },
            "error_y": {
             "color": "#2a3f5f"
            },
            "marker": {
             "line": {
              "color": "#E5ECF6",
              "width": 0.5
             },
             "pattern": {
              "fillmode": "overlay",
              "size": 10,
              "solidity": 0.2
             }
            },
            "type": "bar"
           }
          ],
          "barpolar": [
           {
            "marker": {
             "line": {
              "color": "#E5ECF6",
              "width": 0.5
             },
             "pattern": {
              "fillmode": "overlay",
              "size": 10,
              "solidity": 0.2
             }
            },
            "type": "barpolar"
           }
          ],
          "carpet": [
           {
            "aaxis": {
             "endlinecolor": "#2a3f5f",
             "gridcolor": "white",
             "linecolor": "white",
             "minorgridcolor": "white",
             "startlinecolor": "#2a3f5f"
            },
            "baxis": {
             "endlinecolor": "#2a3f5f",
             "gridcolor": "white",
             "linecolor": "white",
             "minorgridcolor": "white",
             "startlinecolor": "#2a3f5f"
            },
            "type": "carpet"
           }
          ],
          "choropleth": [
           {
            "colorbar": {
             "outlinewidth": 0,
             "ticks": ""
            },
            "type": "choropleth"
           }
          ],
          "contour": [
           {
            "colorbar": {
             "outlinewidth": 0,
             "ticks": ""
            },
            "colorscale": [
             [
              0,
              "#0d0887"
             ],
             [
              0.1111111111111111,
              "#46039f"
             ],
             [
              0.2222222222222222,
              "#7201a8"
             ],
             [
              0.3333333333333333,
              "#9c179e"
             ],
             [
              0.4444444444444444,
              "#bd3786"
             ],
             [
              0.5555555555555556,
              "#d8576b"
             ],
             [
              0.6666666666666666,
              "#ed7953"
             ],
             [
              0.7777777777777778,
              "#fb9f3a"
             ],
             [
              0.8888888888888888,
              "#fdca26"
             ],
             [
              1,
              "#f0f921"
             ]
            ],
            "type": "contour"
           }
          ],
          "contourcarpet": [
           {
            "colorbar": {
             "outlinewidth": 0,
             "ticks": ""
            },
            "type": "contourcarpet"
           }
          ],
          "heatmap": [
           {
            "colorbar": {
             "outlinewidth": 0,
             "ticks": ""
            },
            "colorscale": [
             [
              0,
              "#0d0887"
             ],
             [
              0.1111111111111111,
              "#46039f"
             ],
             [
              0.2222222222222222,
              "#7201a8"
             ],
             [
              0.3333333333333333,
              "#9c179e"
             ],
             [
              0.4444444444444444,
              "#bd3786"
             ],
             [
              0.5555555555555556,
              "#d8576b"
             ],
             [
              0.6666666666666666,
              "#ed7953"
             ],
             [
              0.7777777777777778,
              "#fb9f3a"
             ],
             [
              0.8888888888888888,
              "#fdca26"
             ],
             [
              1,
              "#f0f921"
             ]
            ],
            "type": "heatmap"
           }
          ],
          "heatmapgl": [
           {
            "colorbar": {
             "outlinewidth": 0,
             "ticks": ""
            },
            "colorscale": [
             [
              0,
              "#0d0887"
             ],
             [
              0.1111111111111111,
              "#46039f"
             ],
             [
              0.2222222222222222,
              "#7201a8"
             ],
             [
              0.3333333333333333,
              "#9c179e"
             ],
             [
              0.4444444444444444,
              "#bd3786"
             ],
             [
              0.5555555555555556,
              "#d8576b"
             ],
             [
              0.6666666666666666,
              "#ed7953"
             ],
             [
              0.7777777777777778,
              "#fb9f3a"
             ],
             [
              0.8888888888888888,
              "#fdca26"
             ],
             [
              1,
              "#f0f921"
             ]
            ],
            "type": "heatmapgl"
           }
          ],
          "histogram": [
           {
            "marker": {
             "pattern": {
              "fillmode": "overlay",
              "size": 10,
              "solidity": 0.2
             }
            },
            "type": "histogram"
           }
          ],
          "histogram2d": [
           {
            "colorbar": {
             "outlinewidth": 0,
             "ticks": ""
            },
            "colorscale": [
             [
              0,
              "#0d0887"
             ],
             [
              0.1111111111111111,
              "#46039f"
             ],
             [
              0.2222222222222222,
              "#7201a8"
             ],
             [
              0.3333333333333333,
              "#9c179e"
             ],
             [
              0.4444444444444444,
              "#bd3786"
             ],
             [
              0.5555555555555556,
              "#d8576b"
             ],
             [
              0.6666666666666666,
              "#ed7953"
             ],
             [
              0.7777777777777778,
              "#fb9f3a"
             ],
             [
              0.8888888888888888,
              "#fdca26"
             ],
             [
              1,
              "#f0f921"
             ]
            ],
            "type": "histogram2d"
           }
          ],
          "histogram2dcontour": [
           {
            "colorbar": {
             "outlinewidth": 0,
             "ticks": ""
            },
            "colorscale": [
             [
              0,
              "#0d0887"
             ],
             [
              0.1111111111111111,
              "#46039f"
             ],
             [
              0.2222222222222222,
              "#7201a8"
             ],
             [
              0.3333333333333333,
              "#9c179e"
             ],
             [
              0.4444444444444444,
              "#bd3786"
             ],
             [
              0.5555555555555556,
              "#d8576b"
             ],
             [
              0.6666666666666666,
              "#ed7953"
             ],
             [
              0.7777777777777778,
              "#fb9f3a"
             ],
             [
              0.8888888888888888,
              "#fdca26"
             ],
             [
              1,
              "#f0f921"
             ]
            ],
            "type": "histogram2dcontour"
           }
          ],
          "mesh3d": [
           {
            "colorbar": {
             "outlinewidth": 0,
             "ticks": ""
            },
            "type": "mesh3d"
           }
          ],
          "parcoords": [
           {
            "line": {
             "colorbar": {
              "outlinewidth": 0,
              "ticks": ""
             }
            },
            "type": "parcoords"
           }
          ],
          "pie": [
           {
            "automargin": true,
            "type": "pie"
           }
          ],
          "scatter": [
           {
            "fillpattern": {
             "fillmode": "overlay",
             "size": 10,
             "solidity": 0.2
            },
            "type": "scatter"
           }
          ],
          "scatter3d": [
           {
            "line": {
             "colorbar": {
              "outlinewidth": 0,
              "ticks": ""
             }
            },
            "marker": {
             "colorbar": {
              "outlinewidth": 0,
              "ticks": ""
             }
            },
            "type": "scatter3d"
           }
          ],
          "scattercarpet": [
           {
            "marker": {
             "colorbar": {
              "outlinewidth": 0,
              "ticks": ""
             }
            },
            "type": "scattercarpet"
           }
          ],
          "scattergeo": [
           {
            "marker": {
             "colorbar": {
              "outlinewidth": 0,
              "ticks": ""
             }
            },
            "type": "scattergeo"
           }
          ],
          "scattergl": [
           {
            "marker": {
             "colorbar": {
              "outlinewidth": 0,
              "ticks": ""
             }
            },
            "type": "scattergl"
           }
          ],
          "scattermapbox": [
           {
            "marker": {
             "colorbar": {
              "outlinewidth": 0,
              "ticks": ""
             }
            },
            "type": "scattermapbox"
           }
          ],
          "scatterpolar": [
           {
            "marker": {
             "colorbar": {
              "outlinewidth": 0,
              "ticks": ""
             }
            },
            "type": "scatterpolar"
           }
          ],
          "scatterpolargl": [
           {
            "marker": {
             "colorbar": {
              "outlinewidth": 0,
              "ticks": ""
             }
            },
            "type": "scatterpolargl"
           }
          ],
          "scatterternary": [
           {
            "marker": {
             "colorbar": {
              "outlinewidth": 0,
              "ticks": ""
             }
            },
            "type": "scatterternary"
           }
          ],
          "surface": [
           {
            "colorbar": {
             "outlinewidth": 0,
             "ticks": ""
            },
            "colorscale": [
             [
              0,
              "#0d0887"
             ],
             [
              0.1111111111111111,
              "#46039f"
             ],
             [
              0.2222222222222222,
              "#7201a8"
             ],
             [
              0.3333333333333333,
              "#9c179e"
             ],
             [
              0.4444444444444444,
              "#bd3786"
             ],
             [
              0.5555555555555556,
              "#d8576b"
             ],
             [
              0.6666666666666666,
              "#ed7953"
             ],
             [
              0.7777777777777778,
              "#fb9f3a"
             ],
             [
              0.8888888888888888,
              "#fdca26"
             ],
             [
              1,
              "#f0f921"
             ]
            ],
            "type": "surface"
           }
          ],
          "table": [
           {
            "cells": {
             "fill": {
              "color": "#EBF0F8"
             },
             "line": {
              "color": "white"
             }
            },
            "header": {
             "fill": {
              "color": "#C8D4E3"
             },
             "line": {
              "color": "white"
             }
            },
            "type": "table"
           }
          ]
         },
         "layout": {
          "annotationdefaults": {
           "arrowcolor": "#2a3f5f",
           "arrowhead": 0,
           "arrowwidth": 1
          },
          "autotypenumbers": "strict",
          "coloraxis": {
           "colorbar": {
            "outlinewidth": 0,
            "ticks": ""
           }
          },
          "colorscale": {
           "diverging": [
            [
             0,
             "#8e0152"
            ],
            [
             0.1,
             "#c51b7d"
            ],
            [
             0.2,
             "#de77ae"
            ],
            [
             0.3,
             "#f1b6da"
            ],
            [
             0.4,
             "#fde0ef"
            ],
            [
             0.5,
             "#f7f7f7"
            ],
            [
             0.6,
             "#e6f5d0"
            ],
            [
             0.7,
             "#b8e186"
            ],
            [
             0.8,
             "#7fbc41"
            ],
            [
             0.9,
             "#4d9221"
            ],
            [
             1,
             "#276419"
            ]
           ],
           "sequential": [
            [
             0,
             "#0d0887"
            ],
            [
             0.1111111111111111,
             "#46039f"
            ],
            [
             0.2222222222222222,
             "#7201a8"
            ],
            [
             0.3333333333333333,
             "#9c179e"
            ],
            [
             0.4444444444444444,
             "#bd3786"
            ],
            [
             0.5555555555555556,
             "#d8576b"
            ],
            [
             0.6666666666666666,
             "#ed7953"
            ],
            [
             0.7777777777777778,
             "#fb9f3a"
            ],
            [
             0.8888888888888888,
             "#fdca26"
            ],
            [
             1,
             "#f0f921"
            ]
           ],
           "sequentialminus": [
            [
             0,
             "#0d0887"
            ],
            [
             0.1111111111111111,
             "#46039f"
            ],
            [
             0.2222222222222222,
             "#7201a8"
            ],
            [
             0.3333333333333333,
             "#9c179e"
            ],
            [
             0.4444444444444444,
             "#bd3786"
            ],
            [
             0.5555555555555556,
             "#d8576b"
            ],
            [
             0.6666666666666666,
             "#ed7953"
            ],
            [
             0.7777777777777778,
             "#fb9f3a"
            ],
            [
             0.8888888888888888,
             "#fdca26"
            ],
            [
             1,
             "#f0f921"
            ]
           ]
          },
          "colorway": [
           "#636efa",
           "#EF553B",
           "#00cc96",
           "#ab63fa",
           "#FFA15A",
           "#19d3f3",
           "#FF6692",
           "#B6E880",
           "#FF97FF",
           "#FECB52"
          ],
          "font": {
           "color": "#2a3f5f"
          },
          "geo": {
           "bgcolor": "white",
           "lakecolor": "white",
           "landcolor": "#E5ECF6",
           "showlakes": true,
           "showland": true,
           "subunitcolor": "white"
          },
          "hoverlabel": {
           "align": "left"
          },
          "hovermode": "closest",
          "mapbox": {
           "style": "light"
          },
          "paper_bgcolor": "white",
          "plot_bgcolor": "#E5ECF6",
          "polar": {
           "angularaxis": {
            "gridcolor": "white",
            "linecolor": "white",
            "ticks": ""
           },
           "bgcolor": "#E5ECF6",
           "radialaxis": {
            "gridcolor": "white",
            "linecolor": "white",
            "ticks": ""
           }
          },
          "scene": {
           "xaxis": {
            "backgroundcolor": "#E5ECF6",
            "gridcolor": "white",
            "gridwidth": 2,
            "linecolor": "white",
            "showbackground": true,
            "ticks": "",
            "zerolinecolor": "white"
           },
           "yaxis": {
            "backgroundcolor": "#E5ECF6",
            "gridcolor": "white",
            "gridwidth": 2,
            "linecolor": "white",
            "showbackground": true,
            "ticks": "",
            "zerolinecolor": "white"
           },
           "zaxis": {
            "backgroundcolor": "#E5ECF6",
            "gridcolor": "white",
            "gridwidth": 2,
            "linecolor": "white",
            "showbackground": true,
            "ticks": "",
            "zerolinecolor": "white"
           }
          },
          "shapedefaults": {
           "line": {
            "color": "#2a3f5f"
           }
          },
          "ternary": {
           "aaxis": {
            "gridcolor": "white",
            "linecolor": "white",
            "ticks": ""
           },
           "baxis": {
            "gridcolor": "white",
            "linecolor": "white",
            "ticks": ""
           },
           "bgcolor": "#E5ECF6",
           "caxis": {
            "gridcolor": "white",
            "linecolor": "white",
            "ticks": ""
           }
          },
          "title": {
           "x": 0.05
          },
          "xaxis": {
           "automargin": true,
           "gridcolor": "white",
           "linecolor": "white",
           "ticks": "",
           "title": {
            "standoff": 15
           },
           "zerolinecolor": "white",
           "zerolinewidth": 2
          },
          "yaxis": {
           "automargin": true,
           "gridcolor": "white",
           "linecolor": "white",
           "ticks": "",
           "title": {
            "standoff": 15
           },
           "zerolinecolor": "white",
           "zerolinewidth": 2
          }
         }
        },
        "xaxis": {
         "anchor": "y",
         "domain": [
          0,
          0.7363
         ],
         "title": {
          "text": "GDPperCapita"
         }
        },
        "xaxis2": {
         "anchor": "y2",
         "domain": [
          0.7413,
          1
         ],
         "matches": "x2",
         "showgrid": true,
         "showline": false,
         "showticklabels": false,
         "ticks": ""
        },
        "xaxis3": {
         "anchor": "y3",
         "domain": [
          0,
          0.7363
         ],
         "matches": "x",
         "showgrid": true,
         "showticklabels": false
        },
        "xaxis4": {
         "anchor": "y4",
         "domain": [
          0.7413,
          1
         ],
         "matches": "x2",
         "showgrid": true,
         "showline": false,
         "showticklabels": false,
         "ticks": ""
        },
        "yaxis": {
         "anchor": "x",
         "domain": [
          0,
          0.7326
         ],
         "title": {
          "text": "Life expectancy"
         }
        },
        "yaxis2": {
         "anchor": "x2",
         "domain": [
          0,
          0.7326
         ],
         "matches": "y",
         "showgrid": true,
         "showticklabels": false
        },
        "yaxis3": {
         "anchor": "x3",
         "domain": [
          0.7426,
          1
         ],
         "matches": "y3",
         "showgrid": true,
         "showline": false,
         "showticklabels": false,
         "ticks": ""
        },
        "yaxis4": {
         "anchor": "x4",
         "domain": [
          0.7426,
          1
         ],
         "matches": "y3",
         "showgrid": true,
         "showline": false,
         "showticklabels": false,
         "ticks": ""
        }
       }
      },
      "text/html": [
       "<div>                            <div id=\"c571e955-0305-463b-9571-66137d201029\" class=\"plotly-graph-div\" style=\"height:525px; width:100%;\"></div>            <script type=\"text/javascript\">                require([\"plotly\"], function(Plotly) {                    window.PLOTLYENV=window.PLOTLYENV || {};                                    if (document.getElementById(\"c571e955-0305-463b-9571-66137d201029\")) {                    Plotly.newPlot(                        \"c571e955-0305-463b-9571-66137d201029\",                        [{\"hovertemplate\":\"GDPperCapita=%{x}\\u003cbr\\u003eLife expectancy=%{y}\\u003cextra\\u003e\\u003c\\u002fextra\\u003e\",\"legendgroup\":\"\",\"marker\":{\"color\":\"#636efa\",\"symbol\":\"circle\"},\"mode\":\"markers\",\"name\":\"\",\"orientation\":\"v\",\"showlegend\":false,\"x\":[605.2847176666327,4850.400742998023,4816.917875943996,43922.96412369883,3480.765485461146,14623.537998553686,10477.146319354326,4198.5224330963665,4198.5224330963665,55957.626590364045,49069.142261829365,5815.411598467506,5815.411598467506,27467.183467529583,22090.520174494846,1127.1701207960982,16487.26340206451,6414.86495398254,45885.52670298003,4300.087271401622,860.0059374439847,3199.9230745861664,2490.9237281358346,5818.475950940721,7818.89407485687,10965.175921972874,31788.20985671769,8281.490880510139,688.5475953218569,213.27858761188048,1134.8947222330314,1472.181498185256,51282.4760892625,3598.791044790726,339.62431132785247,817.0190414555237,14720.936133199892,7150.496686254078,7624.942176500532,769.8465299051155,2651.883363736803,9704.498759439171,1623.1735290278593,15011.3962242951,21402.411860269407,21402.411860269407,22672.94786374974,408.82077087232886,61986.156681440334,6826.767363664127,7325.899767129582,5219.341306051099,2817.432289437782,3458.0419227759394,11538.391726633598,18926.749646098408,4756.849072779929,542.3930828490611,4463.480825744139,47060.206319573386,44061.64739521614,9259.756310496272,506.8967392330487,3977.795688668371,3977.795688668371,46768.11780316001,1795.9363436799663,23444.475664032358,8701.373037053441,3123.933862583884,867.1934154348526,615.6331430674506,3885.6723798626967,728.8692284759197,2172.15391486848,38372.02312307651,15730.068784316445,50998.46204829191,1964.284310117216,4120.367810496154,6988.946227555693,5652.507955372407,75382.59575206922,36074.24555591012,34807.36298025678,4747.777208777131,48283.79505249767,3210.5726602202535,10831.942910092477,10831.942910092477,1157.2094917223153,1744.3288443963245,null,34211.63377749877,1072.311890452892,1706.8018243052925,15471.535484080063,6420.084729746019,1504.425989499173,354.5265876589813,7085.233506390533,16691.25687295223,109222.51748804915,55897.925654908024,421.8895132896171,512.6562214324799,11713.792561266839,7899.714168118267,763.4603869121759,28837.27962744566,3164.1006681526383,1347.0106110759748,10190.993735979035,10295.794498827267,1893.0453068657068,4020.952428596564,7744.161328415015,3358.2559171027515,537.4346092917973,1483.856240995092,6173.538590781273,11923.843074243727,772.4735975500814,53950.0540635468,38592.70325665397,1963.4506830054502,393.6525754495546,2412.5783360682376,5248.282093054803,90981.32256139029,16041.513435599463,1158.4885232469962,12051.417300994945,2556.716968957236,11489.693265479986,2348.3947050418583,3874.246263594248,6314.326519317802,2884.3510430859346,15760.713292936132,23127.1793929723,63628.12021207412,10894.802686279638,11544.047959580705,11544.047959580705,779.7490066089041,16794.35472127423,8452.687524606023,6735.514265390299,3879.45020875761,51998.1805325606,1288.762361476111,20694.04549711489,1165.824407244004,4765.5051662726055,13974.193431753958,466.7321194998571,54308.982638511385,19867.541517165013,25548.04657953998,1462.315444722118,7485.8599310439395,26341.50760170933,32353.667637547966,3899.7631299049885,1945.7284749482765,7936.431957189545,57870.66129200807,76758.26449703275,1020.1999665853256,916.5431662911818,6110.393755646091,2786.7006105681335,584.8597238590712,4090.2561115260783,15185.862214853612,4341.280063602292,14864.968662745698,14864.968662745698,7317.644819810507,3680.6712693304994,694.0680136942867,2856.967863917371,40820.002119628756,42065.47719657815,53232.18452176347,14445.09266111056,2058.1961771873657,2849.2103791819964,1852.8776765697721,1669.5975269283852,1076.7585014988622],\"xaxis\":\"x\",\"y\":[64.13,78.333,76.499,83.443,60.379,76.752,76.372,74.797,74.797,83.122,81.34,72.693,72.693,73.554,77.032,72.052,78.981,74.34,81.305,74.365,61.174,71.129,70.945,77.128,68.812,75.456,75.585,74.815,60.768,60.898,69.289,58.511,82.21,72.57,52.24,53.712,79.909,76.47,76.925,63.912,63.954,79.914,57.017,78.197,80.672,80.672,79.058,60.026,80.681,74.597,73.689,76.584,71.656,72.872,58.061,78.354,58.319,65.872,67.252,81.561,82.432,65.839,61.44,73.414,73.414,81.039,63.463,81.901,72.388,73.81,60.706,57.673,69.624,63.29,74.898,84.493,76.498,82.725,69.165,71.282,76.271,70.294,81.872,82.663,83.184,74.267,84.29,74.292,72.728,72.728,65.909,67.851,null,75.311,71.193,67.277,75.048,78.833,52.947,63.295,72.52,75.507,81.955,83.989,66.311,63.279,75.828,78.325,58.452,82.221,73.278,64.464,74.743,74.947,71.717,69.509,76.667,76.218,59.309,66.558,63.021,59.805,70.169,82.004,82.002,74.068,61.599,53.95,75.589,82.146,77.393,66.947,73.32,73.74,78.149,64.01,73.992,76.286,70.952,78.338,81.655,79.981,75.79,72.139,72.139,68.341,75.91,75.907,72.3,73.046,84.699,69.933,74.874,67.38,75.684,73.276,53.895,83.279,77.219,81.016,72.645,63.538,82.628,83.294,76.648,64.881,71.463,82.516,83.473,70.647,64.479,76.683,69.007,60.489,70.701,73.245,76.31,77.161,77.161,67.956,67.089,62.516,71.84,77.647,81.168,78.861,77.632,71.388,70.172,75.241,63.043,60.812],\"yaxis\":\"y\",\"type\":\"scatter\"},{\"alignmentgroup\":\"True\",\"bingroup\":\"x\",\"hovertemplate\":\"GDPperCapita=%{x}\\u003cbr\\u003ecount=%{y}\\u003cextra\\u003e\\u003c\\u002fextra\\u003e\",\"legendgroup\":\"\",\"marker\":{\"color\":\"#636efa\"},\"name\":\"\",\"offsetgroup\":\"\",\"opacity\":0.5,\"showlegend\":false,\"x\":[605.2847176666327,4850.400742998023,4816.917875943996,43922.96412369883,3480.765485461146,14623.537998553686,10477.146319354326,4198.5224330963665,4198.5224330963665,55957.626590364045,49069.142261829365,5815.411598467506,5815.411598467506,27467.183467529583,22090.520174494846,1127.1701207960982,16487.26340206451,6414.86495398254,45885.52670298003,4300.087271401622,860.0059374439847,3199.9230745861664,2490.9237281358346,5818.475950940721,7818.89407485687,10965.175921972874,31788.20985671769,8281.490880510139,688.5475953218569,213.27858761188048,1134.8947222330314,1472.181498185256,51282.4760892625,3598.791044790726,339.62431132785247,817.0190414555237,14720.936133199892,7150.496686254078,7624.942176500532,769.8465299051155,2651.883363736803,9704.498759439171,1623.1735290278593,15011.3962242951,21402.411860269407,21402.411860269407,22672.94786374974,408.82077087232886,61986.156681440334,6826.767363664127,7325.899767129582,5219.341306051099,2817.432289437782,3458.0419227759394,11538.391726633598,18926.749646098408,4756.849072779929,542.3930828490611,4463.480825744139,47060.206319573386,44061.64739521614,9259.756310496272,506.8967392330487,3977.795688668371,3977.795688668371,46768.11780316001,1795.9363436799663,23444.475664032358,8701.373037053441,3123.933862583884,867.1934154348526,615.6331430674506,3885.6723798626967,728.8692284759197,2172.15391486848,38372.02312307651,15730.068784316445,50998.46204829191,1964.284310117216,4120.367810496154,6988.946227555693,5652.507955372407,75382.59575206922,36074.24555591012,34807.36298025678,4747.777208777131,48283.79505249767,3210.5726602202535,10831.942910092477,10831.942910092477,1157.2094917223153,1744.3288443963245,null,34211.63377749877,1072.311890452892,1706.8018243052925,15471.535484080063,6420.084729746019,1504.425989499173,354.5265876589813,7085.233506390533,16691.25687295223,109222.51748804915,55897.925654908024,421.8895132896171,512.6562214324799,11713.792561266839,7899.714168118267,763.4603869121759,28837.27962744566,3164.1006681526383,1347.0106110759748,10190.993735979035,10295.794498827267,1893.0453068657068,4020.952428596564,7744.161328415015,3358.2559171027515,537.4346092917973,1483.856240995092,6173.538590781273,11923.843074243727,772.4735975500814,53950.0540635468,38592.70325665397,1963.4506830054502,393.6525754495546,2412.5783360682376,5248.282093054803,90981.32256139029,16041.513435599463,1158.4885232469962,12051.417300994945,2556.716968957236,11489.693265479986,2348.3947050418583,3874.246263594248,6314.326519317802,2884.3510430859346,15760.713292936132,23127.1793929723,63628.12021207412,10894.802686279638,11544.047959580705,11544.047959580705,779.7490066089041,16794.35472127423,8452.687524606023,6735.514265390299,3879.45020875761,51998.1805325606,1288.762361476111,20694.04549711489,1165.824407244004,4765.5051662726055,13974.193431753958,466.7321194998571,54308.982638511385,19867.541517165013,25548.04657953998,1462.315444722118,7485.8599310439395,26341.50760170933,32353.667637547966,3899.7631299049885,1945.7284749482765,7936.431957189545,57870.66129200807,76758.26449703275,1020.1999665853256,916.5431662911818,6110.393755646091,2786.7006105681335,584.8597238590712,4090.2561115260783,15185.862214853612,4341.280063602292,14864.968662745698,14864.968662745698,7317.644819810507,3680.6712693304994,694.0680136942867,2856.967863917371,40820.002119628756,42065.47719657815,53232.18452176347,14445.09266111056,2058.1961771873657,2849.2103791819964,1852.8776765697721,1669.5975269283852,1076.7585014988622],\"xaxis\":\"x3\",\"yaxis\":\"y3\",\"type\":\"histogram\"},{\"alignmentgroup\":\"True\",\"bingroup\":\"y\",\"hovertemplate\":\"Life expectancy=%{y}\\u003cbr\\u003ecount=%{x}\\u003cextra\\u003e\\u003c\\u002fextra\\u003e\",\"legendgroup\":\"\",\"marker\":{\"color\":\"#636efa\"},\"name\":\"\",\"offsetgroup\":\"\",\"opacity\":0.5,\"showlegend\":false,\"xaxis\":\"x2\",\"y\":[64.13,78.333,76.499,83.443,60.379,76.752,76.372,74.797,74.797,83.122,81.34,72.693,72.693,73.554,77.032,72.052,78.981,74.34,81.305,74.365,61.174,71.129,70.945,77.128,68.812,75.456,75.585,74.815,60.768,60.898,69.289,58.511,82.21,72.57,52.24,53.712,79.909,76.47,76.925,63.912,63.954,79.914,57.017,78.197,80.672,80.672,79.058,60.026,80.681,74.597,73.689,76.584,71.656,72.872,58.061,78.354,58.319,65.872,67.252,81.561,82.432,65.839,61.44,73.414,73.414,81.039,63.463,81.901,72.388,73.81,60.706,57.673,69.624,63.29,74.898,84.493,76.498,82.725,69.165,71.282,76.271,70.294,81.872,82.663,83.184,74.267,84.29,74.292,72.728,72.728,65.909,67.851,null,75.311,71.193,67.277,75.048,78.833,52.947,63.295,72.52,75.507,81.955,83.989,66.311,63.279,75.828,78.325,58.452,82.221,73.278,64.464,74.743,74.947,71.717,69.509,76.667,76.218,59.309,66.558,63.021,59.805,70.169,82.004,82.002,74.068,61.599,53.95,75.589,82.146,77.393,66.947,73.32,73.74,78.149,64.01,73.992,76.286,70.952,78.338,81.655,79.981,75.79,72.139,72.139,68.341,75.91,75.907,72.3,73.046,84.699,69.933,74.874,67.38,75.684,73.276,53.895,83.279,77.219,81.016,72.645,63.538,82.628,83.294,76.648,64.881,71.463,82.516,83.473,70.647,64.479,76.683,69.007,60.489,70.701,73.245,76.31,77.161,77.161,67.956,67.089,62.516,71.84,77.647,81.168,78.861,77.632,71.388,70.172,75.241,63.043,60.812],\"yaxis\":\"y2\",\"type\":\"histogram\"}],                        {\"template\":{\"data\":{\"histogram2dcontour\":[{\"type\":\"histogram2dcontour\",\"colorbar\":{\"outlinewidth\":0,\"ticks\":\"\"},\"colorscale\":[[0.0,\"#0d0887\"],[0.1111111111111111,\"#46039f\"],[0.2222222222222222,\"#7201a8\"],[0.3333333333333333,\"#9c179e\"],[0.4444444444444444,\"#bd3786\"],[0.5555555555555556,\"#d8576b\"],[0.6666666666666666,\"#ed7953\"],[0.7777777777777778,\"#fb9f3a\"],[0.8888888888888888,\"#fdca26\"],[1.0,\"#f0f921\"]]}],\"choropleth\":[{\"type\":\"choropleth\",\"colorbar\":{\"outlinewidth\":0,\"ticks\":\"\"}}],\"histogram2d\":[{\"type\":\"histogram2d\",\"colorbar\":{\"outlinewidth\":0,\"ticks\":\"\"},\"colorscale\":[[0.0,\"#0d0887\"],[0.1111111111111111,\"#46039f\"],[0.2222222222222222,\"#7201a8\"],[0.3333333333333333,\"#9c179e\"],[0.4444444444444444,\"#bd3786\"],[0.5555555555555556,\"#d8576b\"],[0.6666666666666666,\"#ed7953\"],[0.7777777777777778,\"#fb9f3a\"],[0.8888888888888888,\"#fdca26\"],[1.0,\"#f0f921\"]]}],\"heatmap\":[{\"type\":\"heatmap\",\"colorbar\":{\"outlinewidth\":0,\"ticks\":\"\"},\"colorscale\":[[0.0,\"#0d0887\"],[0.1111111111111111,\"#46039f\"],[0.2222222222222222,\"#7201a8\"],[0.3333333333333333,\"#9c179e\"],[0.4444444444444444,\"#bd3786\"],[0.5555555555555556,\"#d8576b\"],[0.6666666666666666,\"#ed7953\"],[0.7777777777777778,\"#fb9f3a\"],[0.8888888888888888,\"#fdca26\"],[1.0,\"#f0f921\"]]}],\"heatmapgl\":[{\"type\":\"heatmapgl\",\"colorbar\":{\"outlinewidth\":0,\"ticks\":\"\"},\"colorscale\":[[0.0,\"#0d0887\"],[0.1111111111111111,\"#46039f\"],[0.2222222222222222,\"#7201a8\"],[0.3333333333333333,\"#9c179e\"],[0.4444444444444444,\"#bd3786\"],[0.5555555555555556,\"#d8576b\"],[0.6666666666666666,\"#ed7953\"],[0.7777777777777778,\"#fb9f3a\"],[0.8888888888888888,\"#fdca26\"],[1.0,\"#f0f921\"]]}],\"contourcarpet\":[{\"type\":\"contourcarpet\",\"colorbar\":{\"outlinewidth\":0,\"ticks\":\"\"}}],\"contour\":[{\"type\":\"contour\",\"colorbar\":{\"outlinewidth\":0,\"ticks\":\"\"},\"colorscale\":[[0.0,\"#0d0887\"],[0.1111111111111111,\"#46039f\"],[0.2222222222222222,\"#7201a8\"],[0.3333333333333333,\"#9c179e\"],[0.4444444444444444,\"#bd3786\"],[0.5555555555555556,\"#d8576b\"],[0.6666666666666666,\"#ed7953\"],[0.7777777777777778,\"#fb9f3a\"],[0.8888888888888888,\"#fdca26\"],[1.0,\"#f0f921\"]]}],\"surface\":[{\"type\":\"surface\",\"colorbar\":{\"outlinewidth\":0,\"ticks\":\"\"},\"colorscale\":[[0.0,\"#0d0887\"],[0.1111111111111111,\"#46039f\"],[0.2222222222222222,\"#7201a8\"],[0.3333333333333333,\"#9c179e\"],[0.4444444444444444,\"#bd3786\"],[0.5555555555555556,\"#d8576b\"],[0.6666666666666666,\"#ed7953\"],[0.7777777777777778,\"#fb9f3a\"],[0.8888888888888888,\"#fdca26\"],[1.0,\"#f0f921\"]]}],\"mesh3d\":[{\"type\":\"mesh3d\",\"colorbar\":{\"outlinewidth\":0,\"ticks\":\"\"}}],\"scatter\":[{\"fillpattern\":{\"fillmode\":\"overlay\",\"size\":10,\"solidity\":0.2},\"type\":\"scatter\"}],\"parcoords\":[{\"type\":\"parcoords\",\"line\":{\"colorbar\":{\"outlinewidth\":0,\"ticks\":\"\"}}}],\"scatterpolargl\":[{\"type\":\"scatterpolargl\",\"marker\":{\"colorbar\":{\"outlinewidth\":0,\"ticks\":\"\"}}}],\"bar\":[{\"error_x\":{\"color\":\"#2a3f5f\"},\"error_y\":{\"color\":\"#2a3f5f\"},\"marker\":{\"line\":{\"color\":\"#E5ECF6\",\"width\":0.5},\"pattern\":{\"fillmode\":\"overlay\",\"size\":10,\"solidity\":0.2}},\"type\":\"bar\"}],\"scattergeo\":[{\"type\":\"scattergeo\",\"marker\":{\"colorbar\":{\"outlinewidth\":0,\"ticks\":\"\"}}}],\"scatterpolar\":[{\"type\":\"scatterpolar\",\"marker\":{\"colorbar\":{\"outlinewidth\":0,\"ticks\":\"\"}}}],\"histogram\":[{\"marker\":{\"pattern\":{\"fillmode\":\"overlay\",\"size\":10,\"solidity\":0.2}},\"type\":\"histogram\"}],\"scattergl\":[{\"type\":\"scattergl\",\"marker\":{\"colorbar\":{\"outlinewidth\":0,\"ticks\":\"\"}}}],\"scatter3d\":[{\"type\":\"scatter3d\",\"line\":{\"colorbar\":{\"outlinewidth\":0,\"ticks\":\"\"}},\"marker\":{\"colorbar\":{\"outlinewidth\":0,\"ticks\":\"\"}}}],\"scattermapbox\":[{\"type\":\"scattermapbox\",\"marker\":{\"colorbar\":{\"outlinewidth\":0,\"ticks\":\"\"}}}],\"scatterternary\":[{\"type\":\"scatterternary\",\"marker\":{\"colorbar\":{\"outlinewidth\":0,\"ticks\":\"\"}}}],\"scattercarpet\":[{\"type\":\"scattercarpet\",\"marker\":{\"colorbar\":{\"outlinewidth\":0,\"ticks\":\"\"}}}],\"carpet\":[{\"aaxis\":{\"endlinecolor\":\"#2a3f5f\",\"gridcolor\":\"white\",\"linecolor\":\"white\",\"minorgridcolor\":\"white\",\"startlinecolor\":\"#2a3f5f\"},\"baxis\":{\"endlinecolor\":\"#2a3f5f\",\"gridcolor\":\"white\",\"linecolor\":\"white\",\"minorgridcolor\":\"white\",\"startlinecolor\":\"#2a3f5f\"},\"type\":\"carpet\"}],\"table\":[{\"cells\":{\"fill\":{\"color\":\"#EBF0F8\"},\"line\":{\"color\":\"white\"}},\"header\":{\"fill\":{\"color\":\"#C8D4E3\"},\"line\":{\"color\":\"white\"}},\"type\":\"table\"}],\"barpolar\":[{\"marker\":{\"line\":{\"color\":\"#E5ECF6\",\"width\":0.5},\"pattern\":{\"fillmode\":\"overlay\",\"size\":10,\"solidity\":0.2}},\"type\":\"barpolar\"}],\"pie\":[{\"automargin\":true,\"type\":\"pie\"}]},\"layout\":{\"autotypenumbers\":\"strict\",\"colorway\":[\"#636efa\",\"#EF553B\",\"#00cc96\",\"#ab63fa\",\"#FFA15A\",\"#19d3f3\",\"#FF6692\",\"#B6E880\",\"#FF97FF\",\"#FECB52\"],\"font\":{\"color\":\"#2a3f5f\"},\"hovermode\":\"closest\",\"hoverlabel\":{\"align\":\"left\"},\"paper_bgcolor\":\"white\",\"plot_bgcolor\":\"#E5ECF6\",\"polar\":{\"bgcolor\":\"#E5ECF6\",\"angularaxis\":{\"gridcolor\":\"white\",\"linecolor\":\"white\",\"ticks\":\"\"},\"radialaxis\":{\"gridcolor\":\"white\",\"linecolor\":\"white\",\"ticks\":\"\"}},\"ternary\":{\"bgcolor\":\"#E5ECF6\",\"aaxis\":{\"gridcolor\":\"white\",\"linecolor\":\"white\",\"ticks\":\"\"},\"baxis\":{\"gridcolor\":\"white\",\"linecolor\":\"white\",\"ticks\":\"\"},\"caxis\":{\"gridcolor\":\"white\",\"linecolor\":\"white\",\"ticks\":\"\"}},\"coloraxis\":{\"colorbar\":{\"outlinewidth\":0,\"ticks\":\"\"}},\"colorscale\":{\"sequential\":[[0.0,\"#0d0887\"],[0.1111111111111111,\"#46039f\"],[0.2222222222222222,\"#7201a8\"],[0.3333333333333333,\"#9c179e\"],[0.4444444444444444,\"#bd3786\"],[0.5555555555555556,\"#d8576b\"],[0.6666666666666666,\"#ed7953\"],[0.7777777777777778,\"#fb9f3a\"],[0.8888888888888888,\"#fdca26\"],[1.0,\"#f0f921\"]],\"sequentialminus\":[[0.0,\"#0d0887\"],[0.1111111111111111,\"#46039f\"],[0.2222222222222222,\"#7201a8\"],[0.3333333333333333,\"#9c179e\"],[0.4444444444444444,\"#bd3786\"],[0.5555555555555556,\"#d8576b\"],[0.6666666666666666,\"#ed7953\"],[0.7777777777777778,\"#fb9f3a\"],[0.8888888888888888,\"#fdca26\"],[1.0,\"#f0f921\"]],\"diverging\":[[0,\"#8e0152\"],[0.1,\"#c51b7d\"],[0.2,\"#de77ae\"],[0.3,\"#f1b6da\"],[0.4,\"#fde0ef\"],[0.5,\"#f7f7f7\"],[0.6,\"#e6f5d0\"],[0.7,\"#b8e186\"],[0.8,\"#7fbc41\"],[0.9,\"#4d9221\"],[1,\"#276419\"]]},\"xaxis\":{\"gridcolor\":\"white\",\"linecolor\":\"white\",\"ticks\":\"\",\"title\":{\"standoff\":15},\"zerolinecolor\":\"white\",\"automargin\":true,\"zerolinewidth\":2},\"yaxis\":{\"gridcolor\":\"white\",\"linecolor\":\"white\",\"ticks\":\"\",\"title\":{\"standoff\":15},\"zerolinecolor\":\"white\",\"automargin\":true,\"zerolinewidth\":2},\"scene\":{\"xaxis\":{\"backgroundcolor\":\"#E5ECF6\",\"gridcolor\":\"white\",\"linecolor\":\"white\",\"showbackground\":true,\"ticks\":\"\",\"zerolinecolor\":\"white\",\"gridwidth\":2},\"yaxis\":{\"backgroundcolor\":\"#E5ECF6\",\"gridcolor\":\"white\",\"linecolor\":\"white\",\"showbackground\":true,\"ticks\":\"\",\"zerolinecolor\":\"white\",\"gridwidth\":2},\"zaxis\":{\"backgroundcolor\":\"#E5ECF6\",\"gridcolor\":\"white\",\"linecolor\":\"white\",\"showbackground\":true,\"ticks\":\"\",\"zerolinecolor\":\"white\",\"gridwidth\":2}},\"shapedefaults\":{\"line\":{\"color\":\"#2a3f5f\"}},\"annotationdefaults\":{\"arrowcolor\":\"#2a3f5f\",\"arrowhead\":0,\"arrowwidth\":1},\"geo\":{\"bgcolor\":\"white\",\"landcolor\":\"#E5ECF6\",\"subunitcolor\":\"white\",\"showland\":true,\"showlakes\":true,\"lakecolor\":\"white\"},\"title\":{\"x\":0.05},\"mapbox\":{\"style\":\"light\"}}},\"xaxis\":{\"anchor\":\"y\",\"domain\":[0.0,0.7363],\"title\":{\"text\":\"GDPperCapita\"}},\"yaxis\":{\"anchor\":\"x\",\"domain\":[0.0,0.7326],\"title\":{\"text\":\"Life expectancy\"}},\"xaxis2\":{\"anchor\":\"y2\",\"domain\":[0.7413,1.0],\"matches\":\"x2\",\"showticklabels\":false,\"showline\":false,\"ticks\":\"\",\"showgrid\":true},\"yaxis2\":{\"anchor\":\"x2\",\"domain\":[0.0,0.7326],\"matches\":\"y\",\"showticklabels\":false,\"showgrid\":true},\"xaxis3\":{\"anchor\":\"y3\",\"domain\":[0.0,0.7363],\"matches\":\"x\",\"showticklabels\":false,\"showgrid\":true},\"yaxis3\":{\"anchor\":\"x3\",\"domain\":[0.7426,1.0],\"matches\":\"y3\",\"showticklabels\":false,\"showline\":false,\"ticks\":\"\",\"showgrid\":true},\"xaxis4\":{\"anchor\":\"y4\",\"domain\":[0.7413,1.0],\"matches\":\"x2\",\"showticklabels\":false,\"showgrid\":true,\"showline\":false,\"ticks\":\"\"},\"yaxis4\":{\"anchor\":\"x4\",\"domain\":[0.7426,1.0],\"matches\":\"y3\",\"showticklabels\":false,\"showline\":false,\"ticks\":\"\",\"showgrid\":true},\"legend\":{\"tracegroupgap\":0},\"margin\":{\"t\":60},\"barmode\":\"overlay\"},                        {\"responsive\": true}                    ).then(function(){\n",
       "                            \n",
       "var gd = document.getElementById('c571e955-0305-463b-9571-66137d201029');\n",
       "var x = new MutationObserver(function (mutations, observer) {{\n",
       "        var display = window.getComputedStyle(gd).display;\n",
       "        if (!display || display === 'none') {{\n",
       "            console.log([gd, 'removed!']);\n",
       "            Plotly.purge(gd);\n",
       "            observer.disconnect();\n",
       "        }}\n",
       "}});\n",
       "\n",
       "// Listen for the removal of the full notebook cells\n",
       "var notebookContainer = gd.closest('#notebook-container');\n",
       "if (notebookContainer) {{\n",
       "    x.observe(notebookContainer, {childList: true});\n",
       "}}\n",
       "\n",
       "// Listen for the clearing of the current output cell\n",
       "var outputEl = gd.closest('.output');\n",
       "if (outputEl) {{\n",
       "    x.observe(outputEl, {childList: true});\n",
       "}}\n",
       "\n",
       "                        })                };                });            </script>        </div>"
      ]
     },
     "metadata": {},
     "output_type": "display_data"
    }
   ],
   "source": [
    "# Joint Plots\n",
    "\n",
    "px.scatter(gdp_and_pop_lifeexp.query('Year==2017'), x = 'GDPperCapita', y = 'Life expectancy',\n",
    "                marginal_x='histogram' , marginal_y='histogram')\n"
   ]
  },
  {
   "cell_type": "code",
   "execution_count": null,
   "metadata": {},
   "outputs": [],
   "source": []
  }
 ],
 "metadata": {
  "kernelspec": {
   "display_name": "Python 3",
   "language": "python",
   "name": "python3"
  },
  "language_info": {
   "codemirror_mode": {
    "name": "ipython",
    "version": 3
   },
   "file_extension": ".py",
   "mimetype": "text/x-python",
   "name": "python",
   "nbconvert_exporter": "python",
   "pygments_lexer": "ipython3",
   "version": "3.8.5"
  }
 },
 "nbformat": 4,
 "nbformat_minor": 4
}
