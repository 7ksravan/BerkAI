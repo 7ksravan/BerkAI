{
 "cells": [
  {
   "attachments": {},
   "cell_type": "markdown",
   "metadata": {},
   "source": [
    "# Dambholi (thunderbolt) - An automated cancer detection system v1.0"
   ]
  },
  {
   "cell_type": "markdown",
   "metadata": {},
   "source": [
    "Goal\n",
    "\n",
    "Create an automated cancer detection system that can take diverse demographic, patient vitals, physiological and/or pathological data and predict malignancy"
   ]
  },
  {
   "cell_type": "markdown",
   "metadata": {},
   "source": [
    "Capabilities in v1.0\n",
    "\n",
    "Take in a dataset involving cancer detection - either demographic or patient vitals or pathological findings\n",
    "\n",
    "Give an initial Data exploratory summary\n",
    "\n",
    "Give an initial feature importance summary\n",
    "\n",
    "Perform an initial run of diverse models including deep neural models\n",
    "\n",
    "Run a cancer-specific evaluation rubric for the models considered\n",
    "\n",
    "Further steps related to model fine tuning are manual in v1.0 and will tried to be automated in future versions"
   ]
  },
  {
   "cell_type": "code",
   "execution_count": null,
   "metadata": {},
   "outputs": [],
   "source": []
  },
  {
   "cell_type": "markdown",
   "metadata": {},
   "source": [
    "Context: \n",
    "\n",
    "Cancer is the 2nd leading cause of death in US and will become overtake heart disease in the next 3-5 years to become the Top cause of death. Cancer impacts individuals and disrupts families like no other disease. Prevention and Early detection are key to managing this cancer epidemic."
   ]
  },
  {
   "cell_type": "markdown",
   "metadata": {},
   "source": [
    "Motivation: etymology of my tools's name\n",
    "\n",
    "Dambholi is a mythological thunderbolt used to destroy 'the mountain of disease'\n",
    "\n"
   ]
  },
  {
   "cell_type": "markdown",
   "metadata": {},
   "source": [
    "Datasets\n",
    "\n",
    "https://www.kaggle.com/datasets/mysarahmadbhat/lung-cancer/data\n",
    "\n",
    "https://www.kaggle.com/datasets/sajidsaifi/prostate-cancer/data"
   ]
  },
  {
   "cell_type": "markdown",
   "metadata": {},
   "source": []
  },
  {
   "cell_type": "markdown",
   "metadata": {},
   "source": []
  },
  {
   "cell_type": "markdown",
   "metadata": {},
   "source": [
    "Next Steps:\n",
    "\n",
    "Get a first draft completed\n",
    "\n"
   ]
  },
  {
   "cell_type": "markdown",
   "metadata": {},
   "source": [
    "first draft\n",
    "\n",
    "1) EDA - \n",
    "\n",
    "null values, outliers, correlation among features, how well separated is the data - data visualization - PCA, \n",
    "\n",
    "2) Feature "
   ]
  },
  {
   "cell_type": "markdown",
   "metadata": {},
   "source": []
  },
  {
   "cell_type": "markdown",
   "metadata": {},
   "source": []
  },
  {
   "cell_type": "markdown",
   "metadata": {},
   "source": [
    "Section A: EDA\n",
    "Sectopm B: Baseline Score: average accuracy of running out of box Ski models on raw data (only convert cat variable)\n",
    "Section C: Data pre-processing\n",
    "Section D: Feature Selection: external filters (statistical), internal filters ("
   ]
  },
  {
   "cell_type": "markdown",
   "metadata": {},
   "source": []
  },
  {
   "cell_type": "markdown",
   "metadata": {},
   "source": []
  },
  {
   "cell_type": "code",
   "execution_count": 40,
   "metadata": {},
   "outputs": [],
   "source": [
    "# Libs\n",
    "\n",
    "# data structures\n",
    "import pandas as pd\n",
    "import numpy as np\n",
    "\n",
    "# zSrv\n",
    "# my custom functions\n",
    "from ipynb.fs.full.Anchana_version2_functions import numvis_pipe, preproc, evalR, evalC, run_pca\n",
    "# my folder path\n",
    "from pathlib import Path\n",
    "myfolder = Path(\"C:/Users/pdpc/Documents/MLfiles/Data/\")\n",
    "\n",
    "# graphs\n",
    "import seaborn as sns\n",
    "from pylab import rcParams\n",
    "import matplotlib.pyplot as plt\n",
    "%matplotlib inline\n",
    "\n",
    "# train/test split\n",
    "from sklearn.model_selection import train_test_split\n",
    "\n",
    "# supress warning\n",
    "import warnings\n",
    "from sklearn.exceptions import DataConversionWarning, ConvergenceWarning\n",
    "warnings.filterwarnings(action='ignore', category=DataConversionWarning)\n",
    "warnings.filterwarnings(action='ignore', category=ConvergenceWarning)\n",
    "\n",
    "# time function for timing program run\n",
    "import time\n",
    "\n",
    "# patch for overcoming 'float' error in nump 24.1v\n",
    "np.float = float    \n",
    "np.int = int   #module 'numpy' has no attribute 'int'\n",
    "np.object = object    #module 'numpy' has no attribute 'object'\n",
    "np.bool = bool    #module 'numpy' has no attribute 'bool'\n",
    "\n",
    "# Classifier models\n",
    "from sklearn.linear_model import LogisticRegression\n",
    "from sklearn.neighbors import KNeighborsClassifier\n",
    "from sklearn.svm import SVC\n",
    "from sklearn.tree import DecisionTreeClassifier\n",
    "from sklearn.ensemble import RandomForestClassifier, AdaBoostClassifier, ExtraTreesClassifier, GradientBoostingClassifier\n",
    "from sklearn.neural_network import MLPClassifier\n",
    "from sklearn.discriminant_analysis import LinearDiscriminantAnalysis"
   ]
  },
  {
   "cell_type": "code",
   "execution_count": 46,
   "metadata": {},
   "outputs": [],
   "source": [
    "# Evaluation\n",
    "\n",
    "from sklearn.metrics import roc_auc_score"
   ]
  },
  {
   "cell_type": "code",
   "execution_count": null,
   "metadata": {},
   "outputs": [],
   "source": []
  },
  {
   "cell_type": "code",
   "execution_count": 29,
   "metadata": {},
   "outputs": [
    {
     "data": {
      "text/html": [
       "<div>\n",
       "<style scoped>\n",
       "    .dataframe tbody tr th:only-of-type {\n",
       "        vertical-align: middle;\n",
       "    }\n",
       "\n",
       "    .dataframe tbody tr th {\n",
       "        vertical-align: top;\n",
       "    }\n",
       "\n",
       "    .dataframe thead th {\n",
       "        text-align: right;\n",
       "    }\n",
       "</style>\n",
       "<table border=\"1\" class=\"dataframe\">\n",
       "  <thead>\n",
       "    <tr style=\"text-align: right;\">\n",
       "      <th></th>\n",
       "      <th>id</th>\n",
       "      <th>diagnosis_result</th>\n",
       "      <th>radius</th>\n",
       "      <th>texture</th>\n",
       "      <th>perimeter</th>\n",
       "      <th>area</th>\n",
       "      <th>smoothness</th>\n",
       "      <th>compactness</th>\n",
       "      <th>symmetry</th>\n",
       "      <th>fractal_dimension</th>\n",
       "    </tr>\n",
       "  </thead>\n",
       "  <tbody>\n",
       "    <tr>\n",
       "      <th>0</th>\n",
       "      <td>1</td>\n",
       "      <td>M</td>\n",
       "      <td>23</td>\n",
       "      <td>12</td>\n",
       "      <td>151</td>\n",
       "      <td>954</td>\n",
       "      <td>0.143</td>\n",
       "      <td>0.278</td>\n",
       "      <td>0.242</td>\n",
       "      <td>0.079</td>\n",
       "    </tr>\n",
       "    <tr>\n",
       "      <th>1</th>\n",
       "      <td>2</td>\n",
       "      <td>B</td>\n",
       "      <td>9</td>\n",
       "      <td>13</td>\n",
       "      <td>133</td>\n",
       "      <td>1326</td>\n",
       "      <td>0.143</td>\n",
       "      <td>0.079</td>\n",
       "      <td>0.181</td>\n",
       "      <td>0.057</td>\n",
       "    </tr>\n",
       "    <tr>\n",
       "      <th>2</th>\n",
       "      <td>3</td>\n",
       "      <td>M</td>\n",
       "      <td>21</td>\n",
       "      <td>27</td>\n",
       "      <td>130</td>\n",
       "      <td>1203</td>\n",
       "      <td>0.125</td>\n",
       "      <td>0.160</td>\n",
       "      <td>0.207</td>\n",
       "      <td>0.060</td>\n",
       "    </tr>\n",
       "    <tr>\n",
       "      <th>3</th>\n",
       "      <td>4</td>\n",
       "      <td>M</td>\n",
       "      <td>14</td>\n",
       "      <td>16</td>\n",
       "      <td>78</td>\n",
       "      <td>386</td>\n",
       "      <td>0.070</td>\n",
       "      <td>0.284</td>\n",
       "      <td>0.260</td>\n",
       "      <td>0.097</td>\n",
       "    </tr>\n",
       "    <tr>\n",
       "      <th>4</th>\n",
       "      <td>5</td>\n",
       "      <td>M</td>\n",
       "      <td>9</td>\n",
       "      <td>19</td>\n",
       "      <td>135</td>\n",
       "      <td>1297</td>\n",
       "      <td>0.141</td>\n",
       "      <td>0.133</td>\n",
       "      <td>0.181</td>\n",
       "      <td>0.059</td>\n",
       "    </tr>\n",
       "  </tbody>\n",
       "</table>\n",
       "</div>"
      ],
      "text/plain": [
       "   id diagnosis_result  radius  texture  perimeter  area  smoothness  \\\n",
       "0   1                M      23       12        151   954       0.143   \n",
       "1   2                B       9       13        133  1326       0.143   \n",
       "2   3                M      21       27        130  1203       0.125   \n",
       "3   4                M      14       16         78   386       0.070   \n",
       "4   5                M       9       19        135  1297       0.141   \n",
       "\n",
       "   compactness  symmetry  fractal_dimension  \n",
       "0        0.278     0.242              0.079  \n",
       "1        0.079     0.181              0.057  \n",
       "2        0.160     0.207              0.060  \n",
       "3        0.284     0.260              0.097  \n",
       "4        0.133     0.181              0.059  "
      ]
     },
     "execution_count": 29,
     "metadata": {},
     "output_type": "execute_result"
    }
   ],
   "source": [
    "# 2 Get Data\n",
    "\n",
    "rawdata = pd.read_excel(myfolder / \"cancer prostrate cancer.xlsx\", sheet_name=\"cancer prostrate cancer\")\n",
    "\n",
    "rawdata.head()"
   ]
  },
  {
   "cell_type": "markdown",
   "metadata": {},
   "source": [
    "## Section A: Exploratory Data Analysis"
   ]
  },
  {
   "cell_type": "code",
   "execution_count": null,
   "metadata": {},
   "outputs": [],
   "source": [
    "# A0 - Data introduction"
   ]
  },
  {
   "cell_type": "code",
   "execution_count": 30,
   "metadata": {},
   "outputs": [
    {
     "data": {
      "text/html": [
       "<div>\n",
       "<style scoped>\n",
       "    .dataframe tbody tr th:only-of-type {\n",
       "        vertical-align: middle;\n",
       "    }\n",
       "\n",
       "    .dataframe tbody tr th {\n",
       "        vertical-align: top;\n",
       "    }\n",
       "\n",
       "    .dataframe thead th {\n",
       "        text-align: right;\n",
       "    }\n",
       "</style>\n",
       "<table border=\"1\" class=\"dataframe\">\n",
       "  <thead>\n",
       "    <tr style=\"text-align: right;\">\n",
       "      <th></th>\n",
       "      <th>id</th>\n",
       "      <th>diagnosis_result</th>\n",
       "      <th>radius</th>\n",
       "      <th>texture</th>\n",
       "      <th>perimeter</th>\n",
       "      <th>area</th>\n",
       "      <th>smoothness</th>\n",
       "      <th>compactness</th>\n",
       "      <th>symmetry</th>\n",
       "      <th>fractal_dimension</th>\n",
       "    </tr>\n",
       "  </thead>\n",
       "  <tbody>\n",
       "    <tr>\n",
       "      <th>0</th>\n",
       "      <td>1</td>\n",
       "      <td>M</td>\n",
       "      <td>23</td>\n",
       "      <td>12</td>\n",
       "      <td>151</td>\n",
       "      <td>954</td>\n",
       "      <td>0.143</td>\n",
       "      <td>0.278</td>\n",
       "      <td>0.242</td>\n",
       "      <td>0.079</td>\n",
       "    </tr>\n",
       "    <tr>\n",
       "      <th>1</th>\n",
       "      <td>2</td>\n",
       "      <td>B</td>\n",
       "      <td>9</td>\n",
       "      <td>13</td>\n",
       "      <td>133</td>\n",
       "      <td>1326</td>\n",
       "      <td>0.143</td>\n",
       "      <td>0.079</td>\n",
       "      <td>0.181</td>\n",
       "      <td>0.057</td>\n",
       "    </tr>\n",
       "    <tr>\n",
       "      <th>2</th>\n",
       "      <td>3</td>\n",
       "      <td>M</td>\n",
       "      <td>21</td>\n",
       "      <td>27</td>\n",
       "      <td>130</td>\n",
       "      <td>1203</td>\n",
       "      <td>0.125</td>\n",
       "      <td>0.160</td>\n",
       "      <td>0.207</td>\n",
       "      <td>0.060</td>\n",
       "    </tr>\n",
       "    <tr>\n",
       "      <th>3</th>\n",
       "      <td>4</td>\n",
       "      <td>M</td>\n",
       "      <td>14</td>\n",
       "      <td>16</td>\n",
       "      <td>78</td>\n",
       "      <td>386</td>\n",
       "      <td>0.070</td>\n",
       "      <td>0.284</td>\n",
       "      <td>0.260</td>\n",
       "      <td>0.097</td>\n",
       "    </tr>\n",
       "    <tr>\n",
       "      <th>4</th>\n",
       "      <td>5</td>\n",
       "      <td>M</td>\n",
       "      <td>9</td>\n",
       "      <td>19</td>\n",
       "      <td>135</td>\n",
       "      <td>1297</td>\n",
       "      <td>0.141</td>\n",
       "      <td>0.133</td>\n",
       "      <td>0.181</td>\n",
       "      <td>0.059</td>\n",
       "    </tr>\n",
       "  </tbody>\n",
       "</table>\n",
       "</div>"
      ],
      "text/plain": [
       "   id diagnosis_result  radius  texture  perimeter  area  smoothness  \\\n",
       "0   1                M      23       12        151   954       0.143   \n",
       "1   2                B       9       13        133  1326       0.143   \n",
       "2   3                M      21       27        130  1203       0.125   \n",
       "3   4                M      14       16         78   386       0.070   \n",
       "4   5                M       9       19        135  1297       0.141   \n",
       "\n",
       "   compactness  symmetry  fractal_dimension  \n",
       "0        0.278     0.242              0.079  \n",
       "1        0.079     0.181              0.057  \n",
       "2        0.160     0.207              0.060  \n",
       "3        0.284     0.260              0.097  \n",
       "4        0.133     0.181              0.059  "
      ]
     },
     "execution_count": 30,
     "metadata": {},
     "output_type": "execute_result"
    }
   ],
   "source": [
    "# A1 - Quick Look at data\n",
    "\n",
    "# is an out of box pandas function that displays \n",
    "rawdata.head()"
   ]
  },
  {
   "cell_type": "code",
   "execution_count": 34,
   "metadata": {},
   "outputs": [],
   "source": [
    "# A2 - Giving the dataset a name, Identifying X & y\n",
    "\n",
    "datasetname = 'prostratecancer_dataset'\n",
    "\n",
    "y_column = [\"diagnosis_result\"]\n",
    "\n",
    "# X/y split\n",
    "X  = rawdata.drop(y_column, axis=1, errors='ignore')\n",
    "y  = rawdata[y_column].copy()"
   ]
  },
  {
   "cell_type": "code",
   "execution_count": 32,
   "metadata": {},
   "outputs": [
    {
     "name": "stdout",
     "output_type": "stream",
     "text": [
      "Dataset shape:   (100, 10)\n",
      "Dataset size:    1000\n",
      "Duplicate rows:  0\n",
      "# of columns with numerical features  :    9\n",
      "# of columns with categorical features:    1\n"
     ]
    }
   ],
   "source": [
    "# A3 - Initial Analysis of Data\n",
    "\n",
    "print(\"Dataset shape:  \",rawdata.shape)\n",
    "print(\"Dataset size:   \",rawdata.size)\n",
    "print(\"Duplicate rows: \",rawdata.duplicated().sum())\n",
    "print(\"# of columns with numerical features  :   \",len(rawdata.select_dtypes(include=['int64', 'float64']).columns.values))\n",
    "print(\"# of columns with categorical features:   \",len(rawdata.select_dtypes(include=['object', 'category']).columns.values))"
   ]
  },
  {
   "cell_type": "code",
   "execution_count": 33,
   "metadata": {},
   "outputs": [],
   "source": [
    "# A4 - level 1 data cleaning\n",
    "\n",
    "# obviously irrelevant columns\n",
    "# duplicate rows\n",
    "# Rename Columns\n",
    "\n",
    "# This helps us do a cleaner data analysis\n",
    "\n",
    "# in this step I remove very obvious aspects of the dataset like columns with no contribution (id#s or row#s) and rows that are duplicates\n",
    "\n",
    "drop_col = ['id']\n",
    "data = rawdata.drop(drop_col, axis=1, errors='ignore')\n",
    "\n"
   ]
  },
  {
   "cell_type": "code",
   "execution_count": null,
   "metadata": {},
   "outputs": [],
   "source": [
    "# A5 - evaluating numerical features\n",
    "\n",
    "num_all_features = list(data.select_dtypes(include=['int64', 'float64']).columns.values)\n",
    "\n",
    "num_all_features"
   ]
  },
  {
   "cell_type": "code",
   "execution_count": null,
   "metadata": {},
   "outputs": [],
   "source": [
    "# A7 - evaluating numerical features impact on y"
   ]
  },
  {
   "cell_type": "code",
   "execution_count": null,
   "metadata": {},
   "outputs": [],
   "source": [
    "# A8 - evaluating categorical features"
   ]
  },
  {
   "cell_type": "code",
   "execution_count": null,
   "metadata": {},
   "outputs": [],
   "source": [
    "# A9 - evaluating categorical features impact on y"
   ]
  },
  {
   "cell_type": "code",
   "execution_count": null,
   "metadata": {},
   "outputs": [],
   "source": [
    "# A10 - Descriptive Statistics"
   ]
  },
  {
   "cell_type": "code",
   "execution_count": null,
   "metadata": {},
   "outputs": [],
   "source": [
    "# A11 - Distribution Analysis"
   ]
  },
  {
   "cell_type": "code",
   "execution_count": null,
   "metadata": {},
   "outputs": [],
   "source": []
  },
  {
   "cell_type": "code",
   "execution_count": null,
   "metadata": {},
   "outputs": [],
   "source": []
  },
  {
   "cell_type": "markdown",
   "metadata": {},
   "source": []
  },
  {
   "cell_type": "code",
   "execution_count": null,
   "metadata": {},
   "outputs": [],
   "source": [
    "SGDClassifier"
   ]
  },
  {
   "cell_type": "code",
   "execution_count": 41,
   "metadata": {},
   "outputs": [],
   "source": [
    "\n"
   ]
  },
  {
   "cell_type": "code",
   "execution_count": 42,
   "metadata": {},
   "outputs": [
    {
     "data": {
      "text/html": [
       "<div>\n",
       "<style scoped>\n",
       "    .dataframe tbody tr th:only-of-type {\n",
       "        vertical-align: middle;\n",
       "    }\n",
       "\n",
       "    .dataframe tbody tr th {\n",
       "        vertical-align: top;\n",
       "    }\n",
       "\n",
       "    .dataframe thead th {\n",
       "        text-align: right;\n",
       "    }\n",
       "</style>\n",
       "<table border=\"1\" class=\"dataframe\">\n",
       "  <thead>\n",
       "    <tr style=\"text-align: right;\">\n",
       "      <th></th>\n",
       "      <th>LOG</th>\n",
       "      <th>KNN</th>\n",
       "      <th>GBC</th>\n",
       "      <th>SVC</th>\n",
       "      <th>DEC</th>\n",
       "      <th>RAF</th>\n",
       "      <th>ABC</th>\n",
       "      <th>ETC</th>\n",
       "      <th>MLP</th>\n",
       "      <th>LDA</th>\n",
       "    </tr>\n",
       "  </thead>\n",
       "  <tbody>\n",
       "    <tr>\n",
       "      <th>Acc_Train</th>\n",
       "      <td>0.8500</td>\n",
       "      <td>0.8500</td>\n",
       "      <td>1.0000</td>\n",
       "      <td>0.8250</td>\n",
       "      <td>1.0000</td>\n",
       "      <td>1.0000</td>\n",
       "      <td>1.0000</td>\n",
       "      <td>1.0000</td>\n",
       "      <td>0.7625</td>\n",
       "      <td>0.8000</td>\n",
       "    </tr>\n",
       "    <tr>\n",
       "      <th>Acc_Test</th>\n",
       "      <td>0.9000</td>\n",
       "      <td>0.8500</td>\n",
       "      <td>0.9000</td>\n",
       "      <td>0.8000</td>\n",
       "      <td>0.7500</td>\n",
       "      <td>0.9000</td>\n",
       "      <td>0.7500</td>\n",
       "      <td>0.9000</td>\n",
       "      <td>0.7500</td>\n",
       "      <td>0.9000</td>\n",
       "    </tr>\n",
       "  </tbody>\n",
       "</table>\n",
       "</div>"
      ],
      "text/plain": [
       "              LOG     KNN     GBC     SVC     DEC     RAF     ABC     ETC  \\\n",
       "Acc_Train  0.8500  0.8500  1.0000  0.8250  1.0000  1.0000  1.0000  1.0000   \n",
       "Acc_Test   0.9000  0.8500  0.9000  0.8000  0.7500  0.9000  0.7500  0.9000   \n",
       "\n",
       "              MLP     LDA  \n",
       "Acc_Train  0.7625  0.8000  \n",
       "Acc_Test   0.7500  0.9000  "
      ]
     },
     "execution_count": 42,
     "metadata": {},
     "output_type": "execute_result"
    }
   ],
   "source": [
    "\n",
    "    \n"
   ]
  },
  {
   "cell_type": "code",
   "execution_count": null,
   "metadata": {},
   "outputs": [],
   "source": []
  },
  {
   "cell_type": "markdown",
   "metadata": {},
   "source": [
    "# Section B: Feature Engineering\n",
    "\n",
    "reminder: I already performed level1 data cleaning by removing obviouslly irrelevant columns & duplicate rows \n",
    "\n",
    "1) in Handling null values\n",
    "2) handling outliers\n",
    "3) Feature Selection: extrinsic filters (pure statistical methods)\n",
    "4) Feature Selection: intrinsic filters (filters wrapper around a model)\n",
    "5) Feature Selection: domain expertise / mathematical angle\n",
    "6) Decision on Feature Selection\n",
    "7) Feature Scaling\n",
    "\n",
    "Outcomes:\n",
    "\n",
    "X_allfeatures\n",
    "X_selectedfeatures\n",
    "X_allfeatures_scaled\n",
    "X_selectedfeatures_scaled"
   ]
  },
  {
   "cell_type": "code",
   "execution_count": null,
   "metadata": {},
   "outputs": [],
   "source": []
  },
  {
   "cell_type": "code",
   "execution_count": null,
   "metadata": {},
   "outputs": [],
   "source": []
  },
  {
   "cell_type": "markdown",
   "metadata": {},
   "source": [
    "# Section C: Evaluation Rubric specific for Cancer\n",
    "\n",
    "Cancer models Evaluation Rubric developed by me\n",
    "\n",
    "there are 10s of evaluation metrics for classification models\n",
    "\n",
    "Specific to cancer, it is most important that 'false positives' are avoided since it will be disastrous\n",
    "\n",
    "Hence RECALL is the most important metric, I choose this\n",
    "\n",
    "Next, F1 score is an aggregated performance score which is the harmonic mean of precision & recall.\n",
    "F1 is high only when both recall & precision are high. It takes both precision and recall into account.\n",
    "So I chose this.\n",
    "\n",
    "Next \n",
    "\n",
    "\n",
    "roc_auc_score is an important metric - If ROC AUC is 1, it is a perfect classifier\n",
    "\n",
    "Accuracy '\"This metric a very naive metric that shouldn't be used for most problems\"'\n",
    "\n",
    "we will however include it for completion sake.\n",
    "\n",
    "To summarize, \n",
    "\n",
    "1) Recall 2) F1 score 3) AOC score 4) Accuracy are 4 metrics we will use for Cancer detection in this order of importance\n",
    "\n",
    "all metrics are correlated - but key point is each metric points out to specific aspect of the validation\n",
    "\n",
    "while we want false positives to be minimal/none, \n",
    "the model should still perform really well by the golden standard evaluation metrics for classification namely\n",
    "ROC score, accuracy, classification rate\n",
    "\n",
    "D1 - most important metric: as less False Positives as possible\n",
    "D2 - other important metrics\n",
    "D3 - metrics baseline score - average accuracy of running out of box Ski models on raw data (only convert cat variable)\n",
    "\n",
    "Function module for Evaluation\n",
    "\n",
    "def\n"
   ]
  },
  {
   "cell_type": "code",
   "execution_count": null,
   "metadata": {},
   "outputs": [],
   "source": []
  },
  {
   "cell_type": "code",
   "execution_count": null,
   "metadata": {},
   "outputs": [],
   "source": [
    "def Cancer_Evaluation_Rubric:\n",
    "    # Recall - train, test - put if DF\n",
    "    # F1 - train, test - put in DF\n",
    "    # ROC score - train, test - put in DF\n",
    "    # Accuracy - train, test - put in DF"
   ]
  },
  {
   "cell_type": "code",
   "execution_count": null,
   "metadata": {},
   "outputs": [],
   "source": []
  },
  {
   "cell_type": "code",
   "execution_count": null,
   "metadata": {},
   "outputs": [],
   "source": []
  },
  {
   "cell_type": "code",
   "execution_count": null,
   "metadata": {},
   "outputs": [],
   "source": []
  },
  {
   "cell_type": "markdown",
   "metadata": {},
   "source": [
    "# Section D: Baseline score thru oob model run"
   ]
  },
  {
   "cell_type": "code",
   "execution_count": null,
   "metadata": {},
   "outputs": [],
   "source": []
  },
  {
   "cell_type": "code",
   "execution_count": 45,
   "metadata": {},
   "outputs": [],
   "source": [
    "# train/test split\n",
    "X_train, X_test, y_train, y_test = train_test_split(X, y, test_size = 0.2)\n",
    "    \n",
    "models = [LogisticRegression(),\n",
    "              KNeighborsClassifier(),\n",
    "              GradientBoostingClassifier(),\n",
    "              SVC(),\n",
    "              DecisionTreeClassifier(),\n",
    "              RandomForestClassifier(),\n",
    "              AdaBoostClassifier(DecisionTreeClassifier()),\n",
    "              ExtraTreesClassifier(),\n",
    "              MLPClassifier(),\n",
    "              LinearDiscriminantAnalysis()]\n",
    "                   \n",
    "names  = ['LOG','KNN','GBC','SVC','DEC','RAF','ABC','ETC','MLP','LDA']\n",
    "\n",
    "Acc_Train = []\n",
    "Acc_Test  = []\n",
    "\n",
    "ROC_AUC_Train = []\n",
    "ROC_AUC_Test  = []"
   ]
  },
  {
   "cell_type": "code",
   "execution_count": 56,
   "metadata": {},
   "outputs": [
    {
     "data": {
      "text/html": [
       "<div>\n",
       "<style scoped>\n",
       "    .dataframe tbody tr th:only-of-type {\n",
       "        vertical-align: middle;\n",
       "    }\n",
       "\n",
       "    .dataframe tbody tr th {\n",
       "        vertical-align: top;\n",
       "    }\n",
       "\n",
       "    .dataframe thead th {\n",
       "        text-align: right;\n",
       "    }\n",
       "</style>\n",
       "<table border=\"1\" class=\"dataframe\">\n",
       "  <thead>\n",
       "    <tr style=\"text-align: right;\">\n",
       "      <th></th>\n",
       "      <th>0</th>\n",
       "    </tr>\n",
       "  </thead>\n",
       "  <tbody>\n",
       "    <tr>\n",
       "      <th>0</th>\n",
       "      <td>B</td>\n",
       "    </tr>\n",
       "    <tr>\n",
       "      <th>1</th>\n",
       "      <td>B</td>\n",
       "    </tr>\n",
       "    <tr>\n",
       "      <th>2</th>\n",
       "      <td>M</td>\n",
       "    </tr>\n",
       "    <tr>\n",
       "      <th>3</th>\n",
       "      <td>M</td>\n",
       "    </tr>\n",
       "    <tr>\n",
       "      <th>4</th>\n",
       "      <td>B</td>\n",
       "    </tr>\n",
       "    <tr>\n",
       "      <th>5</th>\n",
       "      <td>M</td>\n",
       "    </tr>\n",
       "    <tr>\n",
       "      <th>6</th>\n",
       "      <td>M</td>\n",
       "    </tr>\n",
       "    <tr>\n",
       "      <th>7</th>\n",
       "      <td>M</td>\n",
       "    </tr>\n",
       "    <tr>\n",
       "      <th>8</th>\n",
       "      <td>M</td>\n",
       "    </tr>\n",
       "    <tr>\n",
       "      <th>9</th>\n",
       "      <td>M</td>\n",
       "    </tr>\n",
       "    <tr>\n",
       "      <th>10</th>\n",
       "      <td>M</td>\n",
       "    </tr>\n",
       "    <tr>\n",
       "      <th>11</th>\n",
       "      <td>B</td>\n",
       "    </tr>\n",
       "    <tr>\n",
       "      <th>12</th>\n",
       "      <td>B</td>\n",
       "    </tr>\n",
       "    <tr>\n",
       "      <th>13</th>\n",
       "      <td>B</td>\n",
       "    </tr>\n",
       "    <tr>\n",
       "      <th>14</th>\n",
       "      <td>M</td>\n",
       "    </tr>\n",
       "    <tr>\n",
       "      <th>15</th>\n",
       "      <td>M</td>\n",
       "    </tr>\n",
       "    <tr>\n",
       "      <th>16</th>\n",
       "      <td>M</td>\n",
       "    </tr>\n",
       "    <tr>\n",
       "      <th>17</th>\n",
       "      <td>B</td>\n",
       "    </tr>\n",
       "    <tr>\n",
       "      <th>18</th>\n",
       "      <td>M</td>\n",
       "    </tr>\n",
       "    <tr>\n",
       "      <th>19</th>\n",
       "      <td>B</td>\n",
       "    </tr>\n",
       "  </tbody>\n",
       "</table>\n",
       "</div>"
      ],
      "text/plain": [
       "    0\n",
       "0   B\n",
       "1   B\n",
       "2   M\n",
       "3   M\n",
       "4   B\n",
       "5   M\n",
       "6   M\n",
       "7   M\n",
       "8   M\n",
       "9   M\n",
       "10  M\n",
       "11  B\n",
       "12  B\n",
       "13  B\n",
       "14  M\n",
       "15  M\n",
       "16  M\n",
       "17  B\n",
       "18  M\n",
       "19  B"
      ]
     },
     "execution_count": 56,
     "metadata": {},
     "output_type": "execute_result"
    }
   ],
   "source": [
    "y_pred"
   ]
  },
  {
   "cell_type": "code",
   "execution_count": 57,
   "metadata": {},
   "outputs": [],
   "source": [
    "# ROC_AUC_Train\n",
    "\n",
    "y_pred = pd.DataFrame(model.predict(X_test))\n",
    "\n",
    "#roc_auc_score(y_test,y_pred)"
   ]
  },
  {
   "cell_type": "code",
   "execution_count": 44,
   "metadata": {},
   "outputs": [
    {
     "data": {
      "text/html": [
       "<div>\n",
       "<style scoped>\n",
       "    .dataframe tbody tr th:only-of-type {\n",
       "        vertical-align: middle;\n",
       "    }\n",
       "\n",
       "    .dataframe tbody tr th {\n",
       "        vertical-align: top;\n",
       "    }\n",
       "\n",
       "    .dataframe thead th {\n",
       "        text-align: right;\n",
       "    }\n",
       "</style>\n",
       "<table border=\"1\" class=\"dataframe\">\n",
       "  <thead>\n",
       "    <tr style=\"text-align: right;\">\n",
       "      <th></th>\n",
       "      <th>LOG</th>\n",
       "      <th>KNN</th>\n",
       "      <th>GBC</th>\n",
       "      <th>SVC</th>\n",
       "      <th>DEC</th>\n",
       "      <th>RAF</th>\n",
       "      <th>ABC</th>\n",
       "      <th>ETC</th>\n",
       "      <th>MLP</th>\n",
       "      <th>LDA</th>\n",
       "    </tr>\n",
       "  </thead>\n",
       "  <tbody>\n",
       "    <tr>\n",
       "      <th>Acc_Train</th>\n",
       "      <td>0.8375</td>\n",
       "      <td>0.8500</td>\n",
       "      <td>1.0000</td>\n",
       "      <td>0.8000</td>\n",
       "      <td>1.0000</td>\n",
       "      <td>1.0000</td>\n",
       "      <td>1.0000</td>\n",
       "      <td>1.0000</td>\n",
       "      <td>0.8500</td>\n",
       "      <td>0.8750</td>\n",
       "    </tr>\n",
       "    <tr>\n",
       "      <th>Acc_Test</th>\n",
       "      <td>0.9500</td>\n",
       "      <td>0.9000</td>\n",
       "      <td>0.8000</td>\n",
       "      <td>0.9000</td>\n",
       "      <td>0.7500</td>\n",
       "      <td>0.9000</td>\n",
       "      <td>0.8000</td>\n",
       "      <td>0.8500</td>\n",
       "      <td>0.8000</td>\n",
       "      <td>0.9000</td>\n",
       "    </tr>\n",
       "  </tbody>\n",
       "</table>\n",
       "</div>"
      ],
      "text/plain": [
       "              LOG     KNN     GBC     SVC     DEC     RAF     ABC     ETC  \\\n",
       "Acc_Train  0.8375  0.8500  1.0000  0.8000  1.0000  1.0000  1.0000  1.0000   \n",
       "Acc_Test   0.9500  0.9000  0.8000  0.9000  0.7500  0.9000  0.8000  0.8500   \n",
       "\n",
       "              MLP     LDA  \n",
       "Acc_Train  0.8500  0.8750  \n",
       "Acc_Test   0.8000  0.9000  "
      ]
     },
     "execution_count": 44,
     "metadata": {},
     "output_type": "execute_result"
    }
   ],
   "source": [
    "\n",
    "for model,name in zip(models,names):\n",
    "    model.fit(X_train, y_train)\n",
    "    Acc_Train.append(\"%.4f\" % model.score(X_train, y_train))\n",
    "    Acc_Test.append(\"%.4f\" % model.score(X_test, y_test))\n",
    "           \n",
    "# Getting results of Evaluation into a DF\n",
    "C1 = pd.DataFrame({'Acc_Train':Acc_Train,'Acc_Test':Acc_Test})\n",
    "C2 = C1.T\n",
    "C2.columns = names\n",
    "\n",
    "C2"
   ]
  },
  {
   "cell_type": "code",
   "execution_count": null,
   "metadata": {},
   "outputs": [],
   "source": []
  },
  {
   "cell_type": "code",
   "execution_count": null,
   "metadata": {},
   "outputs": [],
   "source": []
  },
  {
   "cell_type": "code",
   "execution_count": null,
   "metadata": {},
   "outputs": [],
   "source": []
  },
  {
   "cell_type": "markdown",
   "metadata": {},
   "source": [
    "# Section E: model training & finetuning"
   ]
  },
  {
   "cell_type": "code",
   "execution_count": null,
   "metadata": {},
   "outputs": [],
   "source": [
    "# D1 LogReg"
   ]
  },
  {
   "cell_type": "code",
   "execution_count": null,
   "metadata": {},
   "outputs": [],
   "source": [
    "# D2 KNN"
   ]
  },
  {
   "cell_type": "code",
   "execution_count": null,
   "metadata": {},
   "outputs": [],
   "source": [
    "# D3 "
   ]
  },
  {
   "cell_type": "code",
   "execution_count": null,
   "metadata": {},
   "outputs": [],
   "source": []
  },
  {
   "cell_type": "code",
   "execution_count": null,
   "metadata": {},
   "outputs": [],
   "source": []
  },
  {
   "cell_type": "code",
   "execution_count": null,
   "metadata": {},
   "outputs": [],
   "source": []
  },
  {
   "cell_type": "code",
   "execution_count": null,
   "metadata": {},
   "outputs": [],
   "source": []
  },
  {
   "cell_type": "code",
   "execution_count": null,
   "metadata": {},
   "outputs": [],
   "source": []
  },
  {
   "cell_type": "code",
   "execution_count": 38,
   "metadata": {},
   "outputs": [],
   "source": [
    "#g = sns.PairGrid(rawdata, hue=\"diagnosis_result\")\n",
    "#g.map_diag(sns.histplot)\n",
    "#g.map_offdiag(sns.scatterplot)\n",
    "#g.add_legend()"
   ]
  },
  {
   "cell_type": "code",
   "execution_count": null,
   "metadata": {},
   "outputs": [],
   "source": []
  },
  {
   "cell_type": "code",
   "execution_count": null,
   "metadata": {},
   "outputs": [],
   "source": []
  },
  {
   "cell_type": "code",
   "execution_count": null,
   "metadata": {},
   "outputs": [],
   "source": []
  },
  {
   "cell_type": "code",
   "execution_count": null,
   "metadata": {},
   "outputs": [],
   "source": []
  },
  {
   "cell_type": "code",
   "execution_count": null,
   "metadata": {},
   "outputs": [],
   "source": []
  },
  {
   "cell_type": "code",
   "execution_count": null,
   "metadata": {},
   "outputs": [],
   "source": []
  },
  {
   "cell_type": "code",
   "execution_count": null,
   "metadata": {},
   "outputs": [],
   "source": [
    "# Preprocess\n",
    "X_preproc = preproc(X)"
   ]
  },
  {
   "cell_type": "code",
   "execution_count": 9,
   "metadata": {},
   "outputs": [
    {
     "name": "stdout",
     "output_type": "stream",
     "text": [
      "Dataset shape:   (100, 8)\n",
      "Dataset size:    800\n",
      "Duplicate rows:  0\n",
      "Num features:    8\n",
      "Cat features:    0\n",
      "Null features:   0\n",
      "# of features with normal distribution: 2\n"
     ]
    }
   ],
   "source": [
    "# Explore Data\n",
    "\n",
    "numvis_pipe(X)"
   ]
  },
  {
   "cell_type": "code",
   "execution_count": 10,
   "metadata": {},
   "outputs": [
    {
     "data": {
      "text/plain": [
       "<AxesSubplot:>"
      ]
     },
     "execution_count": 10,
     "metadata": {},
     "output_type": "execute_result"
    },
    {
     "data": {
      "image/png": "[encoded data removed]",
      "text/plain": [
       "<Figure size 720x576 with 2 Axes>"
      ]
     },
     "metadata": {
      "needs_background": "light"
     },
     "output_type": "display_data"
    }
   ],
   "source": [
    "# Visualize Data\n",
    "# building the correlation matrix\n",
    "\n",
    "# figure size in inches\n",
    "rcParams['figure.figsize'] = 10,8\n",
    "sns.heatmap(data.corr(), annot=False,cmap ='RdYlGn')"
   ]
  },
  {
   "cell_type": "code",
   "execution_count": 11,
   "metadata": {},
   "outputs": [
    {
     "name": "stdout",
     "output_type": "stream",
     "text": [
      "time taken for evaluation: 1 seconds \n",
      "\n",
      "Quick analysis of your dataset prostratecancer\n"
     ]
    },
    {
     "data": {
      "text/html": [
       "<div>\n",
       "<style scoped>\n",
       "    .dataframe tbody tr th:only-of-type {\n",
       "        vertical-align: middle;\n",
       "    }\n",
       "\n",
       "    .dataframe tbody tr th {\n",
       "        vertical-align: top;\n",
       "    }\n",
       "\n",
       "    .dataframe thead th {\n",
       "        text-align: right;\n",
       "    }\n",
       "</style>\n",
       "<table border=\"1\" class=\"dataframe\">\n",
       "  <thead>\n",
       "    <tr style=\"text-align: right;\">\n",
       "      <th></th>\n",
       "      <th>LOG</th>\n",
       "      <th>KNN</th>\n",
       "      <th>GBC</th>\n",
       "      <th>SVC</th>\n",
       "      <th>DEC</th>\n",
       "      <th>RAF</th>\n",
       "      <th>ABC</th>\n",
       "      <th>ETC</th>\n",
       "      <th>MLP</th>\n",
       "      <th>LDA</th>\n",
       "    </tr>\n",
       "  </thead>\n",
       "  <tbody>\n",
       "    <tr>\n",
       "      <th>Acc_Train</th>\n",
       "      <td>0.9000</td>\n",
       "      <td>0.8875</td>\n",
       "      <td>1.0000</td>\n",
       "      <td>0.9375</td>\n",
       "      <td>1.0000</td>\n",
       "      <td>1.0000</td>\n",
       "      <td>1.0000</td>\n",
       "      <td>1.0000</td>\n",
       "      <td>0.8875</td>\n",
       "      <td>0.9125</td>\n",
       "    </tr>\n",
       "    <tr>\n",
       "      <th>Acc_Test</th>\n",
       "      <td>0.7500</td>\n",
       "      <td>0.8000</td>\n",
       "      <td>0.7500</td>\n",
       "      <td>0.7000</td>\n",
       "      <td>0.7000</td>\n",
       "      <td>0.7000</td>\n",
       "      <td>0.7000</td>\n",
       "      <td>0.7500</td>\n",
       "      <td>0.7500</td>\n",
       "      <td>0.7500</td>\n",
       "    </tr>\n",
       "  </tbody>\n",
       "</table>\n",
       "</div>"
      ],
      "text/plain": [
       "              LOG     KNN     GBC     SVC     DEC     RAF     ABC     ETC  \\\n",
       "Acc_Train  0.9000  0.8875  1.0000  0.9375  1.0000  1.0000  1.0000  1.0000   \n",
       "Acc_Test   0.7500  0.8000  0.7500  0.7000  0.7000  0.7000  0.7000  0.7500   \n",
       "\n",
       "              MLP     LDA  \n",
       "Acc_Train  0.8875  0.9125  \n",
       "Acc_Test   0.7500  0.7500  "
      ]
     },
     "execution_count": 11,
     "metadata": {},
     "output_type": "execute_result"
    }
   ],
   "source": [
    "# Initial evaluation\n",
    "\n",
    "tic = time.time()\n",
    "\n",
    "result = evalC(X_preproc,y)\n",
    "\n",
    "toc = time.time()\n",
    "\n",
    "print('time taken for evaluation:', round(toc-tic) , 'seconds' , \"\\n\")\n",
    "print(\"Quick analysis of your dataset \" + datasetname)\n",
    "\n",
    "result"
   ]
  },
  {
   "cell_type": "code",
   "execution_count": 12,
   "metadata": {},
   "outputs": [
    {
     "name": "stdout",
     "output_type": "stream",
     "text": [
      "Preserved variance is:  56.96 %\n",
      "PCA features:           [0.3030254  0.26655728]\n"
     ]
    },
    {
     "data": {
      "image/png": "[encoded data removed]",
      "text/plain": [
       "<Figure size 864x576 with 1 Axes>"
      ]
     },
     "metadata": {
      "needs_background": "light"
     },
     "output_type": "display_data"
    }
   ],
   "source": [
    "# PCA for visualization\n",
    "\n",
    "run_pca(X_preproc,y)"
   ]
  },
  {
   "cell_type": "code",
   "execution_count": null,
   "metadata": {},
   "outputs": [],
   "source": []
  },
  {
   "cell_type": "code",
   "execution_count": null,
   "metadata": {},
   "outputs": [],
   "source": []
  },
  {
   "cell_type": "code",
   "execution_count": null,
   "metadata": {},
   "outputs": [],
   "source": []
  },
  {
   "cell_type": "code",
   "execution_count": null,
   "metadata": {},
   "outputs": [],
   "source": [
    "EDA"
   ]
  },
  {
   "cell_type": "code",
   "execution_count": null,
   "metadata": {},
   "outputs": [],
   "source": [
    "Feature Importance"
   ]
  },
  {
   "cell_type": "code",
   "execution_count": null,
   "metadata": {},
   "outputs": [],
   "source": [
    "Baseline run of diverse models\n",
    "\n",
    "Models\n",
    "\n",
    "1 Log Reg\n",
    "\n",
    "2 KNN\n",
    "\n",
    "3 SVC\n",
    "\n",
    "4 Decision Tree / Random Forest\n",
    "\n",
    "5 ANN\n",
    "\n",
    "6 RNN\n",
    "\n",
    "Arriving at Baseline score"
   ]
  },
  {
   "cell_type": "code",
   "execution_count": null,
   "metadata": {},
   "outputs": [],
   "source": []
  },
  {
   "cell_type": "code",
   "execution_count": null,
   "metadata": {},
   "outputs": [],
   "source": []
  }
 ],
 "metadata": {
  "kernelspec": {
   "display_name": "Python 3",
   "language": "python",
   "name": "python3"
  },
  "language_info": {
   "codemirror_mode": {
    "name": "ipython",
    "version": 3
   },
   "file_extension": ".py",
   "mimetype": "text/x-python",
   "name": "python",
   "nbconvert_exporter": "python",
   "pygments_lexer": "ipython3",
   "version": "3.8.5"
  }
 },
 "nbformat": 4,
 "nbformat_minor": 4
}
