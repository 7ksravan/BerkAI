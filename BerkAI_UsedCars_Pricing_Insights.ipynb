{
 "cells": [
  {
   "cell_type": "markdown",
   "metadata": {},
   "source": [
    "# Used Cars Pricing Insights"
   ]
  },
  {
   "cell_type": "markdown",
   "metadata": {},
   "source": [
    "## Contents\n",
    "\n",
    "    . Section A: Business Understanding\n",
    "    . Section B: Libraries\n",
    "    . Section C: Data Understanding\n",
    "    . Section D: Data Preparation\n",
    "    . Section E: Modeling\n",
    "    . Section F: Evaluation & Deployment"
   ]
  },
  {
   "cell_type": "markdown",
   "metadata": {},
   "source": [
    "## Section A: Business Understanding\n",
    "\n",
    "From a business perspective, we are tasked with identifying key drivers for used car prices.  In the CRISP-DM overview, we are asked to convert this business framing to a data problem definition.  Using a few sentences, reframe the task as a data task with the appropriate technical vocabulary. "
   ]
  },
  {
   "cell_type": "markdown",
   "metadata": {},
   "source": [
    "### Overview\n",
    "\n",
    "In this application, you will explore a dataset from kaggle. The original dataset contained information on 3 million used cars. The provided dataset contains information on 426K cars to ensure speed of processing.  Your goal is to understand what factors make a car more or less expensive.  As a result of your analysis, you should provide clear recommendations to your client -- a used car dealership -- as to what consumers value in a used car."
   ]
  },
  {
   "cell_type": "markdown",
   "metadata": {},
   "source": [
    "### Business Goal\n",
    "\n",
    "Get pricing insights for used cars to determine procurement pricing and strategy, sales pricing and statrgy, and car segments to focus for maximizing revenue"
   ]
  },
  {
   "cell_type": "markdown",
   "metadata": {},
   "source": [
    "### Technical Objectives from data perspective\n",
    "\n",
    "    1. Exploratory Data Analysis for getting insights into data features, their inter-relationships and influence on pricing\n",
    "    2. Data Curation to handle data discrepancies including duplicates, outliers, nulls and special issues\n",
    "    3. Appropriate feature scaling techniques for numerical and categorical features\n",
    "    4. Modeling and hyperparameter tuning for building Regression models that determine pricing accuracy based on features\n",
    "    5. Appropriate Evaluation metrics for measuring efficiencies of model"
   ]
  },
  {
   "cell_type": "markdown",
   "metadata": {},
   "source": [
    "## Section B: Libraries"
   ]
  },
  {
   "cell_type": "markdown",
   "metadata": {},
   "source": [
    "### B1) Generic Libraries"
   ]
  },
  {
   "cell_type": "code",
   "execution_count": 2,
   "metadata": {
    "scrolled": false
   },
   "outputs": [],
   "source": [
    "# data structures\n",
    "import pandas as pd\n",
    "import numpy as np\n",
    "\n",
    "# my folder path\n",
    "from pathlib import Path\n",
    "myfolder = Path(\"C:/Users/pdpc/Documents/MLfiles/Data/\")\n",
    "BerkAIdatafolder = Path(\"C:/Users/pdpc/Documents/MLfiles/Data/berkAIdata/\")\n",
    "\n",
    "# for timing program run\n",
    "import time\n",
    "\n",
    "# graphs\n",
    "import seaborn as sns\n",
    "from pylab import rcParams\n",
    "import matplotlib.pyplot as plt\n",
    "%matplotlib inline\n",
    "\n",
    "# train/test split\n",
    "from sklearn.model_selection import train_test_split\n",
    "\n",
    "# supress warning\n",
    "import warnings\n",
    "warnings.filterwarnings(\"ignore\")\n",
    "from sklearn.exceptions import DataConversionWarning, ConvergenceWarning\n",
    "warnings.filterwarnings(action='ignore', category=DataConversionWarning)\n",
    "warnings.filterwarnings(action='ignore', category=ConvergenceWarning)\n",
    "from sklearn.exceptions import FitFailedWarning \n",
    "\n",
    "# code to overcome my system specific errors\n",
    "# patch for overcoming 'float' error in nump 24.1v\n",
    "np.float = float    \n",
    "np.int = int   #module 'numpy' has no attribute 'int'\n",
    "np.object = object    #module 'numpy' has no attribute 'object'\n",
    "np.bool = bool    #module 'numpy' has no attribute 'bool'\n",
    "\n",
    "# Classifier models\n",
    "from sklearn.linear_model import LogisticRegression\n",
    "from sklearn.neighbors import KNeighborsClassifier\n",
    "from sklearn.svm import SVC\n",
    "from sklearn.tree import DecisionTreeClassifier\n",
    "from sklearn.ensemble import RandomForestClassifier, AdaBoostClassifier, ExtraTreesClassifier, GradientBoostingClassifier\n",
    "from sklearn.neural_network import MLPClassifier\n",
    "from sklearn.discriminant_analysis import LinearDiscriminantAnalysis\n",
    "\n",
    "# ColTransf / Pipeline / GridSearch\n",
    "from sklearn.impute import SimpleImputer\n",
    "from sklearn.preprocessing import StandardScaler, MinMaxScaler, OrdinalEncoder, LabelEncoder\n",
    "from sklearn.compose import ColumnTransformer\n",
    "from sklearn.pipeline import Pipeline\n",
    "from sklearn.model_selection import GridSearchCV\n",
    "\n",
    "# evaluation libs\n",
    "from sklearn.metrics import r2_score\n",
    "from sklearn.metrics import mean_squared_error, mean_absolute_error\n",
    "from sklearn.model_selection import cross_val_score, KFold"
   ]
  },
  {
   "cell_type": "markdown",
   "metadata": {},
   "source": [
    "### B2) ZSRV - Sravan Katragadda custom Libraries\n",
    "\n",
    "These are my custom defined functions I have developed my years of learning and working in AI & ML"
   ]
  },
  {
   "cell_type": "code",
   "execution_count": 3,
   "metadata": {
    "scrolled": false
   },
   "outputs": [],
   "source": [
    "# zsrv function for quick data analyis\n",
    "\n",
    "def data_quickanalysis(df):\n",
    "    print('Quick Data Analysis')\n",
    "    print(\"Dataset shape:  \",df.shape)\n",
    "    print(\"Dataset size:   \",df.size)\n",
    "    print(\"# of columns with numerical features  :   \",len(df.select_dtypes(include=['int64', 'float64']).columns.values))\n",
    "    print(\"# of columns with categorical features:   \",len(df.select_dtypes(include=['object', 'category']).columns.values))\n",
    "    \n",
    "    num_features = list(df.select_dtypes(include=['int64', 'float64']).columns.values)\n",
    "    cat_features = list(df.select_dtypes(include=['object', 'category','bool']).columns.values)\n",
    "    #This is a check to see if any features are being missed out\n",
    "    oth_features = list(set(df.columns.tolist()) - set(num_features) - set(cat_features))\n",
    "    \n",
    "    print('Numerical features:', num_features)\n",
    "    print('Categorical features:', cat_features)\n",
    "    print('non-num/non-cat features:', oth_features)\n",
    "    print()\n",
    "    \n",
    "def info_df(df):\n",
    "    \n",
    "    # io module provides tools for working with text I/O, binary I/O, and raw I/O\n",
    "    import io\n",
    "    # Create a buffer to capture the output of df.info()\n",
    "    buffer = io.StringIO()\n",
    "    df.info(buf=buffer)\n",
    "    s = buffer.getvalue()\n",
    "    # Parse the captured text into a DataFrame\n",
    "    info_lines = s.split('\\n')\n",
    "    info_data = [line.split(maxsplit=4) for line in info_lines[5:-3]]\n",
    "    columns = ['#', 'column', '# of non-nulls', 'non-null', 'Data Type']\n",
    "    info_df = pd.DataFrame(info_data, columns=columns)\n",
    "    \n",
    "    \n",
    "    info_df['# of non-nulls'] = info_df['# of non-nulls'].astype('int64')\n",
    "    s = df.shape[0]\n",
    "    info_df['# of nulls'] = s - info_df['# of non-nulls']\n",
    "    info_df['% of nulls'] = round((info_df['# of nulls'] / s * 100),1)\n",
    "    \n",
    "    info_df = info_df.reset_index()\n",
    "    info_df.index = range(1, len(info_df) + 1)\n",
    "    info_df = info_df[['column','Data Type','# of nulls','% of nulls']]\n",
    "    \n",
    "    return(info_df)\n",
    "\n",
    "# zsrv function for getting null values information\n",
    "\n",
    "def nulls_info(df):    \n",
    "\n",
    "    # getting df with null info\n",
    "    datasetsize = df.shape[0]\n",
    "    df_nullinfo = pd.DataFrame(df.isna().sum(),columns=['# of Null Values'])\n",
    "    df_nullinfo['% of Null Values'] = (df_nullinfo['# of Null Values'] / datasetsize * 100).round(1)\n",
    "    return df_nullinfo\n",
    "\n",
    "# --------------------------------------------------------------------------------------------------\n",
    "\n",
    "def nulls_remove(df):\n",
    "    \n",
    "    pre_size = df.shape[0]\n",
    "    # Removing rows with null values\n",
    "    df.dropna(inplace=True)\n",
    "    post_size = df.shape[0]\n",
    "    print('Data loss in removing nulls:', \"%.2f\" % (100-(post_size / pre_size * 100)) , '%')\n",
    "    return df\n",
    "\n",
    "# --------------------------------------------------------------------------------------------------\n",
    "\n",
    "def nulls_impute(df):\n",
    "    \n",
    "    num_features = list(df.select_dtypes(include=['int64', 'float64']).columns.values)\n",
    "    cat_features = list(df.select_dtypes(include=['object', 'category','bool']).columns.values)\n",
    "    print(f'There are {len(num_features)} numerical features and {len(cat_features)} categorical features in {datasetname} dataset')\n",
    "    # Define imputers\n",
    "    numerical_imputer = SimpleImputer(strategy='mean')\n",
    "    categorical_imputer = SimpleImputer(strategy='constant',fill_value='missing')\n",
    "    # Numerical Values Imputation\n",
    "    df[num_features] = numerical_imputer.fit_transform(df[num_features])\n",
    "    # Categorical Values Imputation\n",
    "    df[cat_features] = categorical_imputer.fit_transform(df[cat_features])\n",
    "    # return df\n",
    "    return df\n",
    "\n",
    "def IQRoutliers_info(df):\n",
    "    \n",
    "    # get Data Loss %\n",
    "    '''df1 = df\n",
    "    pre_size = df1.shape[0]\n",
    "    \n",
    "    for col in df1.select_dtypes(include=['float64', 'int64']).columns.tolist():\n",
    "        q1 = df1[col].quantile(0.25)\n",
    "        q3 = df1[col].quantile(0.75)\n",
    "        iqr = q3 - q1\n",
    "        lower_bound = q1 - 1.5 * iqr\n",
    "        upper_bound = q3 + 1.5 * iqr\n",
    "        df1 = df1[(df1[col] >= lower_bound) & (df1[col] <= upper_bound)]\n",
    "    \n",
    "    post_size = df1.shape[0]\n",
    "    print('Data loss in removing nulls:', \"%.2f\" % (100-(post_size / pre_size * 100)) , '%')\n",
    "    '''\n",
    "    \n",
    "    # get only numerical columns\n",
    "    df = df.select_dtypes(include=['number'])\n",
    "    \n",
    "    # getting df with outlier info\n",
    "    datasetsize = df.shape[0]\n",
    "    Q1 = df.quantile(0.25)\n",
    "    Q3 = df.quantile(0.75)\n",
    "    IQR = Q3 - Q1\n",
    "    df_IQRoutliersinfo = pd.DataFrame(((df < (Q1 - 1.5 * IQR)) | (df > (Q3 + 1.5 * IQR))).sum(),columns=['# of Outliers'])\n",
    "    df_IQRoutliersinfo['% Outliers'] = (df_IQRoutliersinfo['# of Outliers'] / datasetsize * 100).round(1)\n",
    "    return df_IQRoutliersinfo\n",
    "\n",
    "def IQRoutliers_remove(df):\n",
    "    \n",
    "    # get Data Loss %\n",
    "    pre_size = df.shape[0]\n",
    "    \n",
    "    for col in df.select_dtypes(include=['float64', 'int64']).columns.tolist():\n",
    "        q1 = df[col].quantile(0.25)\n",
    "        q3 = df[col].quantile(0.75)\n",
    "        iqr = q3 - q1\n",
    "        lower_bound = q1 - 1.5 * iqr\n",
    "        upper_bound = q3 + 1.5 * iqr\n",
    "        df = df[(df[col] >= lower_bound) & (df[col] <= upper_bound)]\n",
    "    \n",
    "    post_size = df.shape[0]\n",
    "    print('Data loss in removing IQQ outliers:', \"%.2f\" % (100-(post_size / pre_size * 100)) , '%')\n",
    "    return df\n",
    "\n",
    "# --------------------------------------------------------------------------------------------------\n",
    "\n",
    "# zsrv function to get highly correlated features\n",
    "def get_high_correlated_features(df):\n",
    "    \n",
    "    # Calculate the correlation matrix\n",
    "    corr_matrix = df.corr()\n",
    "    # Remove duplicate values and keep the upper triangle\n",
    "    corr_matrix_upper = corr_matrix.where(np.triu(np.ones(corr_matrix.shape), k=1).astype(bool))\n",
    "    \n",
    "    # Flatten the matrix and drop NA values (diagonal values)\n",
    "    corrdf = corr_matrix_upper.stack().reset_index()\n",
    "    corrdf.columns = ['Feature 1', 'Feature 2', 'PearsonCorrCoef']\n",
    "    high_corrdf = corrdf[(corrdf['PearsonCorrCoef'] <= -0.7)]\n",
    "    high_corrdf = corrdf[(corrdf['PearsonCorrCoef'] >= 0.7)]\n",
    "    \n",
    "    print(f'There are {len(high_corrdf)} feature combinations that are HIGHLY correlated by Pearson Correlation Coefficient')\n",
    "    p = len(high_corrdf.query('PearsonCorrCoef > 0.7'))\n",
    "    print(f'There are {p} feature combinations that are HIGHLY positively correlated by Pearson Correlation Coefficient')\n",
    "    n = len(high_corrdf.query('PearsonCorrCoef < -0.7'))\n",
    "    print(f'There are {n} feature combinations that are HIGHLY negatively correlated by Pearson Correlation Coefficient')\n",
    "    \n",
    "    return filt_corrdf\n",
    "\n",
    "# --------------------------------------------------------------------------------------------------\n",
    "\n",
    "# My custom function for Preprocessing X\n",
    "\n",
    "def preprocessX(A):\n",
    "    \n",
    "    # features\n",
    "    num_all_features = list(A.select_dtypes(include=['int64', 'float64']).columns.values)\n",
    "    cat_all_features = list(A.select_dtypes(include=['object', 'category','bool']).columns.values)\n",
    "\n",
    "    # Numerical Transformation\n",
    "    num_transform = Pipeline (steps=[('mms', MinMaxScaler())])\n",
    "\n",
    "    # Categorical Operations\n",
    "    cat_transform = Pipeline (steps=[('ore', OrdinalEncoder())])\n",
    "\n",
    "    # Column Transformer (CT)\n",
    "    preprocessor = ColumnTransformer(transformers=[\n",
    "                    ('num_tran', num_transform, num_all_features),\n",
    "                    ('cat_tran', cat_transform, cat_all_features),\n",
    "                    ])\n",
    "    \n",
    "    B = preprocessor.fit_transform(A)\n",
    "    return(B)"
   ]
  },
  {
   "cell_type": "markdown",
   "metadata": {},
   "source": [
    "## Section C: Data Understanding\n",
    "\n",
    "After considering the business understanding, we want to get familiar with our data.  Write down some steps that you would take to get to know the dataset and identify any quality issues within.  Take time to get to know the dataset and explore what information it contains and how this could be used to inform your business understanding."
   ]
  },
  {
   "cell_type": "markdown",
   "metadata": {},
   "source": [
    "### C1) Getting Data from source"
   ]
  },
  {
   "cell_type": "code",
   "execution_count": 4,
   "metadata": {
    "scrolled": false
   },
   "outputs": [
    {
     "data": {
      "text/html": [
       "<div>\n",
       "<style scoped>\n",
       "    .dataframe tbody tr th:only-of-type {\n",
       "        vertical-align: middle;\n",
       "    }\n",
       "\n",
       "    .dataframe tbody tr th {\n",
       "        vertical-align: top;\n",
       "    }\n",
       "\n",
       "    .dataframe thead th {\n",
       "        text-align: right;\n",
       "    }\n",
       "</style>\n",
       "<table border=\"1\" class=\"dataframe\">\n",
       "  <thead>\n",
       "    <tr style=\"text-align: right;\">\n",
       "      <th></th>\n",
       "      <th>id</th>\n",
       "      <th>region</th>\n",
       "      <th>price</th>\n",
       "      <th>year</th>\n",
       "      <th>manufacturer</th>\n",
       "      <th>model</th>\n",
       "      <th>condition</th>\n",
       "      <th>cylinders</th>\n",
       "      <th>fuel</th>\n",
       "      <th>odometer</th>\n",
       "      <th>title_status</th>\n",
       "      <th>transmission</th>\n",
       "      <th>VIN</th>\n",
       "      <th>drive</th>\n",
       "      <th>size</th>\n",
       "      <th>type</th>\n",
       "      <th>paint_color</th>\n",
       "      <th>state</th>\n",
       "    </tr>\n",
       "  </thead>\n",
       "  <tbody>\n",
       "    <tr>\n",
       "      <th>188723</th>\n",
       "      <td>7310733237</td>\n",
       "      <td>cape cod / islands</td>\n",
       "      <td>36590</td>\n",
       "      <td>2019.0</td>\n",
       "      <td>bmw</td>\n",
       "      <td>4 series 440i xdrive gran</td>\n",
       "      <td>good</td>\n",
       "      <td>NaN</td>\n",
       "      <td>gas</td>\n",
       "      <td>17647.0</td>\n",
       "      <td>clean</td>\n",
       "      <td>other</td>\n",
       "      <td>WBA4J7C51KBM74333</td>\n",
       "      <td>NaN</td>\n",
       "      <td>NaN</td>\n",
       "      <td>coupe</td>\n",
       "      <td>black</td>\n",
       "      <td>ma</td>\n",
       "    </tr>\n",
       "    <tr>\n",
       "      <th>220527</th>\n",
       "      <td>7315994874</td>\n",
       "      <td>joplin</td>\n",
       "      <td>21000</td>\n",
       "      <td>2005.0</td>\n",
       "      <td>jeep</td>\n",
       "      <td>wrangler rubicon unlimited</td>\n",
       "      <td>excellent</td>\n",
       "      <td>6 cylinders</td>\n",
       "      <td>gas</td>\n",
       "      <td>100433.0</td>\n",
       "      <td>clean</td>\n",
       "      <td>automatic</td>\n",
       "      <td>NaN</td>\n",
       "      <td>4wd</td>\n",
       "      <td>NaN</td>\n",
       "      <td>NaN</td>\n",
       "      <td>NaN</td>\n",
       "      <td>mo</td>\n",
       "    </tr>\n",
       "    <tr>\n",
       "      <th>421915</th>\n",
       "      <td>7302262151</td>\n",
       "      <td>madison</td>\n",
       "      <td>5300</td>\n",
       "      <td>1999.0</td>\n",
       "      <td>chevrolet</td>\n",
       "      <td>camero</td>\n",
       "      <td>excellent</td>\n",
       "      <td>6 cylinders</td>\n",
       "      <td>gas</td>\n",
       "      <td>159800.0</td>\n",
       "      <td>clean</td>\n",
       "      <td>automatic</td>\n",
       "      <td>NaN</td>\n",
       "      <td>rwd</td>\n",
       "      <td>mid-size</td>\n",
       "      <td>convertible</td>\n",
       "      <td>red</td>\n",
       "      <td>wi</td>\n",
       "    </tr>\n",
       "    <tr>\n",
       "      <th>394770</th>\n",
       "      <td>7307330250</td>\n",
       "      <td>norfolk / hampton roads</td>\n",
       "      <td>2990</td>\n",
       "      <td>2003.0</td>\n",
       "      <td>ford</td>\n",
       "      <td>explorer</td>\n",
       "      <td>NaN</td>\n",
       "      <td>NaN</td>\n",
       "      <td>gas</td>\n",
       "      <td>240413.0</td>\n",
       "      <td>clean</td>\n",
       "      <td>automatic</td>\n",
       "      <td>1FMZU72K83UA55811</td>\n",
       "      <td>4wd</td>\n",
       "      <td>NaN</td>\n",
       "      <td>SUV</td>\n",
       "      <td>white</td>\n",
       "      <td>va</td>\n",
       "    </tr>\n",
       "  </tbody>\n",
       "</table>\n",
       "</div>"
      ],
      "text/plain": [
       "                id                   region  price    year manufacturer  \\\n",
       "188723  7310733237       cape cod / islands  36590  2019.0          bmw   \n",
       "220527  7315994874                   joplin  21000  2005.0         jeep   \n",
       "421915  7302262151                  madison   5300  1999.0    chevrolet   \n",
       "394770  7307330250  norfolk / hampton roads   2990  2003.0         ford   \n",
       "\n",
       "                             model  condition    cylinders fuel  odometer  \\\n",
       "188723   4 series 440i xdrive gran       good          NaN  gas   17647.0   \n",
       "220527  wrangler rubicon unlimited  excellent  6 cylinders  gas  100433.0   \n",
       "421915                      camero  excellent  6 cylinders  gas  159800.0   \n",
       "394770                    explorer        NaN          NaN  gas  240413.0   \n",
       "\n",
       "       title_status transmission                VIN drive      size  \\\n",
       "188723        clean        other  WBA4J7C51KBM74333   NaN       NaN   \n",
       "220527        clean    automatic                NaN   4wd       NaN   \n",
       "421915        clean    automatic                NaN   rwd  mid-size   \n",
       "394770        clean    automatic  1FMZU72K83UA55811   4wd       NaN   \n",
       "\n",
       "               type paint_color state  \n",
       "188723        coupe       black    ma  \n",
       "220527          NaN         NaN    mo  \n",
       "421915  convertible         red    wi  \n",
       "394770          SUV       white    va  "
      ]
     },
     "execution_count": 4,
     "metadata": {},
     "output_type": "execute_result"
    }
   ],
   "source": [
    "rawdata = pd.read_csv(BerkAIdatafolder / 'vehicles.csv')\n",
    "\n",
    "datasetname = 'UsedCarsPrices'\n",
    "\n",
    "rawdata.sample(4)"
   ]
  },
  {
   "cell_type": "markdown",
   "metadata": {},
   "source": [
    "### C2) Columns curation\n",
    "\n",
    "Here only columns will be modified and there will be no change to rows.\n",
    "\n",
    " 1. drop irrelevant columns \n",
    " 2. column names handling\n",
    " 3. columns sort"
   ]
  },
  {
   "cell_type": "code",
   "execution_count": 5,
   "metadata": {
    "scrolled": false
   },
   "outputs": [
    {
     "data": {
      "text/html": [
       "<div>\n",
       "<style scoped>\n",
       "    .dataframe tbody tr th:only-of-type {\n",
       "        vertical-align: middle;\n",
       "    }\n",
       "\n",
       "    .dataframe tbody tr th {\n",
       "        vertical-align: top;\n",
       "    }\n",
       "\n",
       "    .dataframe thead th {\n",
       "        text-align: right;\n",
       "    }\n",
       "</style>\n",
       "<table border=\"1\" class=\"dataframe\">\n",
       "  <thead>\n",
       "    <tr style=\"text-align: right;\">\n",
       "      <th></th>\n",
       "      <th>price</th>\n",
       "      <th>year</th>\n",
       "      <th>odometer</th>\n",
       "      <th>manufacturer</th>\n",
       "      <th>cylinders</th>\n",
       "      <th>fuel</th>\n",
       "      <th>transmission</th>\n",
       "      <th>drive</th>\n",
       "      <th>condition</th>\n",
       "      <th>title_status</th>\n",
       "      <th>type</th>\n",
       "      <th>size</th>\n",
       "      <th>paint_color</th>\n",
       "      <th>state</th>\n",
       "    </tr>\n",
       "  </thead>\n",
       "  <tbody>\n",
       "    <tr>\n",
       "      <th>97429</th>\n",
       "      <td>35500</td>\n",
       "      <td>2019.0</td>\n",
       "      <td>7189.0</td>\n",
       "      <td>chevrolet</td>\n",
       "      <td>8 cylinders</td>\n",
       "      <td>gas</td>\n",
       "      <td>automatic</td>\n",
       "      <td>4wd</td>\n",
       "      <td>like new</td>\n",
       "      <td>clean</td>\n",
       "      <td>truck</td>\n",
       "      <td>full-size</td>\n",
       "      <td>black</td>\n",
       "      <td>fl</td>\n",
       "    </tr>\n",
       "    <tr>\n",
       "      <th>93645</th>\n",
       "      <td>9995</td>\n",
       "      <td>2010.0</td>\n",
       "      <td>80156.0</td>\n",
       "      <td>toyota</td>\n",
       "      <td>4 cylinders</td>\n",
       "      <td>gas</td>\n",
       "      <td>automatic</td>\n",
       "      <td>fwd</td>\n",
       "      <td>excellent</td>\n",
       "      <td>clean</td>\n",
       "      <td>sedan</td>\n",
       "      <td>mid-size</td>\n",
       "      <td>silver</td>\n",
       "      <td>fl</td>\n",
       "    </tr>\n",
       "    <tr>\n",
       "      <th>339949</th>\n",
       "      <td>16700</td>\n",
       "      <td>2011.0</td>\n",
       "      <td>154000.0</td>\n",
       "      <td>chevrolet</td>\n",
       "      <td>8 cylinders</td>\n",
       "      <td>gas</td>\n",
       "      <td>automatic</td>\n",
       "      <td>rwd</td>\n",
       "      <td>excellent</td>\n",
       "      <td>clean</td>\n",
       "      <td>truck</td>\n",
       "      <td>full-size</td>\n",
       "      <td>white</td>\n",
       "      <td>pa</td>\n",
       "    </tr>\n",
       "    <tr>\n",
       "      <th>415818</th>\n",
       "      <td>27450</td>\n",
       "      <td>2018.0</td>\n",
       "      <td>22700.0</td>\n",
       "      <td>ford</td>\n",
       "      <td>6 cylinders</td>\n",
       "      <td>gas</td>\n",
       "      <td>automatic</td>\n",
       "      <td>4wd</td>\n",
       "      <td>like new</td>\n",
       "      <td>rebuilt</td>\n",
       "      <td>SUV</td>\n",
       "      <td>mid-size</td>\n",
       "      <td>black</td>\n",
       "      <td>wi</td>\n",
       "    </tr>\n",
       "    <tr>\n",
       "      <th>308459</th>\n",
       "      <td>15997</td>\n",
       "      <td>2012.0</td>\n",
       "      <td>159519.0</td>\n",
       "      <td>chevrolet</td>\n",
       "      <td>8 cylinders</td>\n",
       "      <td>gas</td>\n",
       "      <td>automatic</td>\n",
       "      <td>rwd</td>\n",
       "      <td>excellent</td>\n",
       "      <td>clean</td>\n",
       "      <td>truck</td>\n",
       "      <td>full-size</td>\n",
       "      <td>white</td>\n",
       "      <td>ok</td>\n",
       "    </tr>\n",
       "  </tbody>\n",
       "</table>\n",
       "</div>"
      ],
      "text/plain": [
       "        price    year  odometer manufacturer    cylinders fuel transmission  \\\n",
       "97429   35500  2019.0    7189.0    chevrolet  8 cylinders  gas    automatic   \n",
       "93645    9995  2010.0   80156.0       toyota  4 cylinders  gas    automatic   \n",
       "339949  16700  2011.0  154000.0    chevrolet  8 cylinders  gas    automatic   \n",
       "415818  27450  2018.0   22700.0         ford  6 cylinders  gas    automatic   \n",
       "308459  15997  2012.0  159519.0    chevrolet  8 cylinders  gas    automatic   \n",
       "\n",
       "       drive  condition title_status   type       size paint_color state  \n",
       "97429    4wd   like new        clean  truck  full-size       black    fl  \n",
       "93645    fwd  excellent        clean  sedan   mid-size      silver    fl  \n",
       "339949   rwd  excellent        clean  truck  full-size       white    pa  \n",
       "415818   4wd   like new      rebuilt    SUV   mid-size       black    wi  \n",
       "308459   rwd  excellent        clean  truck  full-size       white    ok  "
      ]
     },
     "execution_count": 5,
     "metadata": {},
     "output_type": "execute_result"
    }
   ],
   "source": [
    "data = rawdata\n",
    "\n",
    "# 1) removing obviously irrelevant columns\n",
    "drop_col = ['id','model','region','VIN']\n",
    "data = data.drop(drop_col, axis=1, errors='ignore')\n",
    "\n",
    "# 2) column names handling - rename, case handling\n",
    "data.columns = data.columns.str.lower()\n",
    "\n",
    "# 3) columns sort \n",
    "y_column = ['price']\n",
    "num_features = ['year', 'odometer']\n",
    "cat_features = ['manufacturer',  'cylinders', 'fuel','transmission','drive',\n",
    "                'condition','title_status', 'type', 'size', 'paint_color', 'state']\n",
    "column_order = y_column + num_features + cat_features\n",
    "data = data[column_order]\n",
    "\n",
    "data.dropna().sample(5)"
   ]
  },
  {
   "cell_type": "markdown",
   "metadata": {},
   "source": [
    "### C3) Data Information\n",
    "\n",
    "my custom defined function for understanding data"
   ]
  },
  {
   "cell_type": "code",
   "execution_count": 6,
   "metadata": {
    "scrolled": false
   },
   "outputs": [
    {
     "data": {
      "text/html": [
       "<div>\n",
       "<style scoped>\n",
       "    .dataframe tbody tr th:only-of-type {\n",
       "        vertical-align: middle;\n",
       "    }\n",
       "\n",
       "    .dataframe tbody tr th {\n",
       "        vertical-align: top;\n",
       "    }\n",
       "\n",
       "    .dataframe thead th {\n",
       "        text-align: right;\n",
       "    }\n",
       "</style>\n",
       "<table border=\"1\" class=\"dataframe\">\n",
       "  <thead>\n",
       "    <tr style=\"text-align: right;\">\n",
       "      <th></th>\n",
       "      <th>column</th>\n",
       "      <th>Data Type</th>\n",
       "      <th># of nulls</th>\n",
       "      <th>% of nulls</th>\n",
       "    </tr>\n",
       "  </thead>\n",
       "  <tbody>\n",
       "    <tr>\n",
       "      <th>1</th>\n",
       "      <td>price</td>\n",
       "      <td>int64</td>\n",
       "      <td>0</td>\n",
       "      <td>0.0</td>\n",
       "    </tr>\n",
       "    <tr>\n",
       "      <th>2</th>\n",
       "      <td>year</td>\n",
       "      <td>float64</td>\n",
       "      <td>1205</td>\n",
       "      <td>0.3</td>\n",
       "    </tr>\n",
       "    <tr>\n",
       "      <th>3</th>\n",
       "      <td>odometer</td>\n",
       "      <td>float64</td>\n",
       "      <td>4400</td>\n",
       "      <td>1.0</td>\n",
       "    </tr>\n",
       "    <tr>\n",
       "      <th>4</th>\n",
       "      <td>manufacturer</td>\n",
       "      <td>object</td>\n",
       "      <td>17646</td>\n",
       "      <td>4.1</td>\n",
       "    </tr>\n",
       "    <tr>\n",
       "      <th>5</th>\n",
       "      <td>cylinders</td>\n",
       "      <td>object</td>\n",
       "      <td>177678</td>\n",
       "      <td>41.6</td>\n",
       "    </tr>\n",
       "    <tr>\n",
       "      <th>6</th>\n",
       "      <td>fuel</td>\n",
       "      <td>object</td>\n",
       "      <td>3013</td>\n",
       "      <td>0.7</td>\n",
       "    </tr>\n",
       "    <tr>\n",
       "      <th>7</th>\n",
       "      <td>transmission</td>\n",
       "      <td>object</td>\n",
       "      <td>2556</td>\n",
       "      <td>0.6</td>\n",
       "    </tr>\n",
       "    <tr>\n",
       "      <th>8</th>\n",
       "      <td>drive</td>\n",
       "      <td>object</td>\n",
       "      <td>130567</td>\n",
       "      <td>30.6</td>\n",
       "    </tr>\n",
       "    <tr>\n",
       "      <th>9</th>\n",
       "      <td>condition</td>\n",
       "      <td>object</td>\n",
       "      <td>174104</td>\n",
       "      <td>40.8</td>\n",
       "    </tr>\n",
       "    <tr>\n",
       "      <th>10</th>\n",
       "      <td>title_status</td>\n",
       "      <td>object</td>\n",
       "      <td>8242</td>\n",
       "      <td>1.9</td>\n",
       "    </tr>\n",
       "    <tr>\n",
       "      <th>11</th>\n",
       "      <td>type</td>\n",
       "      <td>object</td>\n",
       "      <td>92858</td>\n",
       "      <td>21.8</td>\n",
       "    </tr>\n",
       "    <tr>\n",
       "      <th>12</th>\n",
       "      <td>size</td>\n",
       "      <td>object</td>\n",
       "      <td>306361</td>\n",
       "      <td>71.8</td>\n",
       "    </tr>\n",
       "    <tr>\n",
       "      <th>13</th>\n",
       "      <td>paint_color</td>\n",
       "      <td>object</td>\n",
       "      <td>130203</td>\n",
       "      <td>30.5</td>\n",
       "    </tr>\n",
       "    <tr>\n",
       "      <th>14</th>\n",
       "      <td>state</td>\n",
       "      <td>object</td>\n",
       "      <td>0</td>\n",
       "      <td>0.0</td>\n",
       "    </tr>\n",
       "  </tbody>\n",
       "</table>\n",
       "</div>"
      ],
      "text/plain": [
       "          column Data Type  # of nulls  % of nulls\n",
       "1          price   int64             0         0.0\n",
       "2           year   float64        1205         0.3\n",
       "3       odometer   float64        4400         1.0\n",
       "4   manufacturer   object        17646         4.1\n",
       "5      cylinders   object       177678        41.6\n",
       "6           fuel   object         3013         0.7\n",
       "7   transmission   object         2556         0.6\n",
       "8          drive   object       130567        30.6\n",
       "9      condition   object       174104        40.8\n",
       "10  title_status   object         8242         1.9\n",
       "11          type   object        92858        21.8\n",
       "12          size   object       306361        71.8\n",
       "13   paint_color   object       130203        30.5\n",
       "14         state   object            0         0.0"
      ]
     },
     "execution_count": 6,
     "metadata": {},
     "output_type": "execute_result"
    }
   ],
   "source": [
    "info_df(data)"
   ]
  },
  {
   "cell_type": "markdown",
   "metadata": {},
   "source": [
    "### C3) Handling Duplicates, Outliers, Nulls, Special issues"
   ]
  },
  {
   "cell_type": "code",
   "execution_count": 7,
   "metadata": {
    "scrolled": false
   },
   "outputs": [
    {
     "name": "stdout",
     "output_type": "stream",
     "text": [
      "Duplicate rows: 130218\n",
      "30.50 percent of rows are duplicates\n"
     ]
    }
   ],
   "source": [
    "# Duplicates\n",
    "\n",
    "print('Duplicate rows:',data.duplicated().sum())\n",
    "print(\"%.2f\" % (data.duplicated().sum()/len(data)*100), 'percent of rows are duplicates')"
   ]
  },
  {
   "cell_type": "code",
   "execution_count": 8,
   "metadata": {
    "scrolled": false
   },
   "outputs": [],
   "source": [
    "# There are lot of duplicates after removing id, model and region.\n",
    "# I am removing these\n",
    "\n",
    "data = data.drop_duplicates()"
   ]
  },
  {
   "cell_type": "code",
   "execution_count": 9,
   "metadata": {
    "scrolled": false
   },
   "outputs": [
    {
     "name": "stdout",
     "output_type": "stream",
     "text": [
      "Duplicate rows: 0\n",
      "0.00 percent of rows are duplicates\n"
     ]
    }
   ],
   "source": [
    "print('Duplicate rows:',data.duplicated().sum())\n",
    "print(\"%.2f\" % (data.duplicated().sum()/len(data)*100), 'percent of rows are duplicates')"
   ]
  },
  {
   "cell_type": "markdown",
   "metadata": {},
   "source": [
    "#### using my custom function modules to analyze and remove outliers"
   ]
  },
  {
   "cell_type": "code",
   "execution_count": 10,
   "metadata": {
    "scrolled": false
   },
   "outputs": [
    {
     "name": "stdout",
     "output_type": "stream",
     "text": [
      "          # of Outliers  % Outliers\n",
      "price              7310         2.5\n",
      "year              12666         4.3\n",
      "odometer           3336         1.1\n",
      "Data loss in removing IQQ outliers: 9.01 %\n",
      "          # of Outliers  % Outliers\n",
      "price               790         0.3\n",
      "year                832         0.3\n",
      "odometer             91         0.0\n"
     ]
    }
   ],
   "source": [
    "# Removing Outliers\n",
    "\n",
    "print(IQRoutliers_info(data))\n",
    "\n",
    "# Removing Outlier\n",
    "data = IQRoutliers_remove(data)\n",
    "\n",
    "print(IQRoutliers_info(data))"
   ]
  },
  {
   "cell_type": "code",
   "execution_count": 11,
   "metadata": {
    "scrolled": false
   },
   "outputs": [
    {
     "data": {
      "text/html": [
       "<div>\n",
       "<style scoped>\n",
       "    .dataframe tbody tr th:only-of-type {\n",
       "        vertical-align: middle;\n",
       "    }\n",
       "\n",
       "    .dataframe tbody tr th {\n",
       "        vertical-align: top;\n",
       "    }\n",
       "\n",
       "    .dataframe thead th {\n",
       "        text-align: right;\n",
       "    }\n",
       "</style>\n",
       "<table border=\"1\" class=\"dataframe\">\n",
       "  <thead>\n",
       "    <tr style=\"text-align: right;\">\n",
       "      <th></th>\n",
       "      <th># of Null Values</th>\n",
       "      <th>% of Null Values</th>\n",
       "    </tr>\n",
       "  </thead>\n",
       "  <tbody>\n",
       "    <tr>\n",
       "      <th>price</th>\n",
       "      <td>0</td>\n",
       "      <td>0.0</td>\n",
       "    </tr>\n",
       "    <tr>\n",
       "      <th>year</th>\n",
       "      <td>0</td>\n",
       "      <td>0.0</td>\n",
       "    </tr>\n",
       "    <tr>\n",
       "      <th>odometer</th>\n",
       "      <td>0</td>\n",
       "      <td>0.0</td>\n",
       "    </tr>\n",
       "    <tr>\n",
       "      <th>manufacturer</th>\n",
       "      <td>8473</td>\n",
       "      <td>3.1</td>\n",
       "    </tr>\n",
       "    <tr>\n",
       "      <th>cylinders</th>\n",
       "      <td>104796</td>\n",
       "      <td>38.8</td>\n",
       "    </tr>\n",
       "    <tr>\n",
       "      <th>fuel</th>\n",
       "      <td>1332</td>\n",
       "      <td>0.5</td>\n",
       "    </tr>\n",
       "    <tr>\n",
       "      <th>transmission</th>\n",
       "      <td>1079</td>\n",
       "      <td>0.4</td>\n",
       "    </tr>\n",
       "    <tr>\n",
       "      <th>drive</th>\n",
       "      <td>78875</td>\n",
       "      <td>29.2</td>\n",
       "    </tr>\n",
       "    <tr>\n",
       "      <th>condition</th>\n",
       "      <td>100920</td>\n",
       "      <td>37.4</td>\n",
       "    </tr>\n",
       "    <tr>\n",
       "      <th>title_status</th>\n",
       "      <td>4032</td>\n",
       "      <td>1.5</td>\n",
       "    </tr>\n",
       "    <tr>\n",
       "      <th>type</th>\n",
       "      <td>59134</td>\n",
       "      <td>21.9</td>\n",
       "    </tr>\n",
       "    <tr>\n",
       "      <th>size</th>\n",
       "      <td>184708</td>\n",
       "      <td>68.4</td>\n",
       "    </tr>\n",
       "    <tr>\n",
       "      <th>paint_color</th>\n",
       "      <td>77000</td>\n",
       "      <td>28.5</td>\n",
       "    </tr>\n",
       "    <tr>\n",
       "      <th>state</th>\n",
       "      <td>0</td>\n",
       "      <td>0.0</td>\n",
       "    </tr>\n",
       "  </tbody>\n",
       "</table>\n",
       "</div>"
      ],
      "text/plain": [
       "              # of Null Values  % of Null Values\n",
       "price                        0               0.0\n",
       "year                         0               0.0\n",
       "odometer                     0               0.0\n",
       "manufacturer              8473               3.1\n",
       "cylinders               104796              38.8\n",
       "fuel                      1332               0.5\n",
       "transmission              1079               0.4\n",
       "drive                    78875              29.2\n",
       "condition               100920              37.4\n",
       "title_status              4032               1.5\n",
       "type                     59134              21.9\n",
       "size                    184708              68.4\n",
       "paint_color              77000              28.5\n",
       "state                        0               0.0"
      ]
     },
     "execution_count": 11,
     "metadata": {},
     "output_type": "execute_result"
    }
   ],
   "source": [
    "# Nulls in Data\n",
    "\n",
    "nulls_info(data)"
   ]
  },
  {
   "cell_type": "markdown",
   "metadata": {},
   "source": [
    "#### using my custom function modules to Impute\n",
    "\n",
    "Since there are a lot of nulls, we cannot remove the null rows.\n",
    "\n",
    "we need to impute with values\n",
    "\n",
    "IMPUTATION STRATEGY:\n",
    "\n",
    "    1. Numerical Features: fill with mean (no need to consider median which accounts for outliers, since they are removed)\n",
    "    2. Categorical Features: fill with 'Missing' constant"
   ]
  },
  {
   "cell_type": "code",
   "execution_count": 12,
   "metadata": {
    "scrolled": false
   },
   "outputs": [
    {
     "name": "stdout",
     "output_type": "stream",
     "text": [
      "              # of Null Values  % of Null Values\n",
      "price                        0               0.0\n",
      "year                         0               0.0\n",
      "odometer                     0               0.0\n",
      "manufacturer              8473               3.1\n",
      "cylinders               104796              38.8\n",
      "fuel                      1332               0.5\n",
      "transmission              1079               0.4\n",
      "drive                    78875              29.2\n",
      "condition               100920              37.4\n",
      "title_status              4032               1.5\n",
      "type                     59134              21.9\n",
      "size                    184708              68.4\n",
      "paint_color              77000              28.5\n",
      "state                        0               0.0\n",
      "There are 3 numerical features and 11 categorical features in UsedCarsPrices dataset\n",
      "              # of Null Values  % of Null Values\n",
      "price                        0               0.0\n",
      "year                         0               0.0\n",
      "odometer                     0               0.0\n",
      "manufacturer                 0               0.0\n",
      "cylinders                    0               0.0\n",
      "fuel                         0               0.0\n",
      "transmission                 0               0.0\n",
      "drive                        0               0.0\n",
      "condition                    0               0.0\n",
      "title_status                 0               0.0\n",
      "type                         0               0.0\n",
      "size                         0               0.0\n",
      "paint_color                  0               0.0\n",
      "state                        0               0.0\n"
     ]
    }
   ],
   "source": [
    "# Imputings Nulls in Numerical and Categorical variables\n",
    "\n",
    "print(nulls_info(data))\n",
    "\n",
    "data = nulls_impute(data)\n",
    "\n",
    "print(nulls_info(data))"
   ]
  },
  {
   "cell_type": "code",
   "execution_count": 13,
   "metadata": {
    "scrolled": false
   },
   "outputs": [],
   "source": [
    "# Special Issue - data type conversion for numerical data\n",
    "\n",
    "dtypeconvert_dict = {'year':'int64', 'odometer':'int64'}\n",
    "data = data.astype(dtypeconvert_dict)"
   ]
  },
  {
   "cell_type": "markdown",
   "metadata": {},
   "source": [
    "#### Data is ready for analysis"
   ]
  },
  {
   "cell_type": "code",
   "execution_count": 14,
   "metadata": {
    "scrolled": false
   },
   "outputs": [],
   "source": [
    "UsedCarPrices = data\n",
    "\n",
    "# X/y split\n",
    "y_column = [\"price\"]\n",
    "UsedCarPrices_X  = data.drop(y_column, axis=1, errors='ignore')\n",
    "UsedCarPrices_y  = data[y_column].copy()"
   ]
  },
  {
   "cell_type": "markdown",
   "metadata": {},
   "source": [
    "### C4) Exploratory Data Analysis"
   ]
  },
  {
   "cell_type": "markdown",
   "metadata": {},
   "source": [
    "### Numerical Features"
   ]
  },
  {
   "cell_type": "code",
   "execution_count": 15,
   "metadata": {
    "scrolled": false
   },
   "outputs": [
    {
     "data": {
      "text/html": [
       "<div>\n",
       "<style scoped>\n",
       "    .dataframe tbody tr th:only-of-type {\n",
       "        vertical-align: middle;\n",
       "    }\n",
       "\n",
       "    .dataframe tbody tr th {\n",
       "        vertical-align: top;\n",
       "    }\n",
       "\n",
       "    .dataframe thead th {\n",
       "        text-align: right;\n",
       "    }\n",
       "</style>\n",
       "<table border=\"1\" class=\"dataframe\">\n",
       "  <thead>\n",
       "    <tr style=\"text-align: right;\">\n",
       "      <th></th>\n",
       "      <th>price</th>\n",
       "      <th>year</th>\n",
       "      <th>odometer</th>\n",
       "    </tr>\n",
       "  </thead>\n",
       "  <tbody>\n",
       "    <tr>\n",
       "      <th>count</th>\n",
       "      <td>269942.000000</td>\n",
       "      <td>269942.000000</td>\n",
       "      <td>269942.000000</td>\n",
       "    </tr>\n",
       "    <tr>\n",
       "      <th>mean</th>\n",
       "      <td>15340.138696</td>\n",
       "      <td>2011.981066</td>\n",
       "      <td>96118.591475</td>\n",
       "    </tr>\n",
       "    <tr>\n",
       "      <th>std</th>\n",
       "      <td>12297.927607</td>\n",
       "      <td>5.722555</td>\n",
       "      <td>61425.056196</td>\n",
       "    </tr>\n",
       "    <tr>\n",
       "      <th>min</th>\n",
       "      <td>0.000000</td>\n",
       "      <td>1994.000000</td>\n",
       "      <td>0.000000</td>\n",
       "    </tr>\n",
       "    <tr>\n",
       "      <th>25%</th>\n",
       "      <td>5500.000000</td>\n",
       "      <td>2008.000000</td>\n",
       "      <td>43062.000000</td>\n",
       "    </tr>\n",
       "    <tr>\n",
       "      <th>50%</th>\n",
       "      <td>12000.000000</td>\n",
       "      <td>2013.000000</td>\n",
       "      <td>92885.000000</td>\n",
       "    </tr>\n",
       "    <tr>\n",
       "      <th>75%</th>\n",
       "      <td>23588.000000</td>\n",
       "      <td>2017.000000</td>\n",
       "      <td>139200.000000</td>\n",
       "    </tr>\n",
       "    <tr>\n",
       "      <th>max</th>\n",
       "      <td>52944.000000</td>\n",
       "      <td>2022.000000</td>\n",
       "      <td>285800.000000</td>\n",
       "    </tr>\n",
       "  </tbody>\n",
       "</table>\n",
       "</div>"
      ],
      "text/plain": [
       "               price           year       odometer\n",
       "count  269942.000000  269942.000000  269942.000000\n",
       "mean    15340.138696    2011.981066   96118.591475\n",
       "std     12297.927607       5.722555   61425.056196\n",
       "min         0.000000    1994.000000       0.000000\n",
       "25%      5500.000000    2008.000000   43062.000000\n",
       "50%     12000.000000    2013.000000   92885.000000\n",
       "75%     23588.000000    2017.000000  139200.000000\n",
       "max     52944.000000    2022.000000  285800.000000"
      ]
     },
     "execution_count": 15,
     "metadata": {},
     "output_type": "execute_result"
    }
   ],
   "source": [
    "# Statistics of Numerical Data\n",
    "\n",
    "UsedCarPrices.describe()"
   ]
  },
  {
   "cell_type": "code",
   "execution_count": 30,
   "metadata": {
    "scrolled": true
   },
   "outputs": [
    {
     "data": {
      "image/png": "[encoded data removed]",
      "text/plain": [
       "<Figure size 504x432 with 2 Axes>"
      ]
     },
     "metadata": {
      "needs_background": "light"
     },
     "output_type": "display_data"
    }
   ],
   "source": [
    "# Correlation between Features\n",
    "\n",
    "plt.figure(figsize=(7,6))\n",
    "sns.heatmap(UsedCarPrices_X.corr(), annot=True)\n",
    "plt.title('Correlation between the features')\n",
    "plt.show()"
   ]
  },
  {
   "cell_type": "markdown",
   "metadata": {},
   "source": [
    "There is STRONG negative correlation between Year and Odometer, which is intuitive.\n",
    "\n",
    "The older the year the higher the mileage"
   ]
  },
  {
   "cell_type": "code",
   "execution_count": 34,
   "metadata": {
    "scrolled": false
   },
   "outputs": [
    {
     "data": {
      "image/png": "[encoded data removed]",
      "text/plain": [
       "<Figure size 504x432 with 2 Axes>"
      ]
     },
     "metadata": {
      "needs_background": "light"
     },
     "output_type": "display_data"
    }
   ],
   "source": [
    "# Correlation between Features\n",
    "\n",
    "plt.figure(figsize=(7,6))\n",
    "sns.heatmap(UsedCarPrices.corr(), annot=True)\n",
    "plt.title('Correlation between the features & Price')\n",
    "plt.show()"
   ]
  },
  {
   "cell_type": "markdown",
   "metadata": {},
   "source": [
    "There is WEAK positive correlation between Price and year\n",
    "\n",
    "There is WEAK negative correlation between Price and Odometer reading"
   ]
  },
  {
   "cell_type": "code",
   "execution_count": null,
   "metadata": {
    "scrolled": false
   },
   "outputs": [],
   "source": [
    "# SCATTER PLOTS for numerical features & Price relationship"
   ]
  },
  {
   "cell_type": "code",
   "execution_count": 32,
   "metadata": {
    "scrolled": false
   },
   "outputs": [
    {
     "data": {
      "image/png": "[encoded data removed]",
      "text/plain": [
       "<Figure size 720x432 with 1 Axes>"
      ]
     },
     "metadata": {
      "needs_background": "light"
     },
     "output_type": "display_data"
    }
   ],
   "source": [
    "plt.figure(figsize=(10, 6))\n",
    "sns.scatterplot(data=UsedCarPrices, x='year', y='price')\n",
    "plt.title('Price & Year relationship')\n",
    "plt.show()"
   ]
  },
  {
   "cell_type": "code",
   "execution_count": 33,
   "metadata": {
    "scrolled": false
   },
   "outputs": [
    {
     "data": {
      "image/png": "[encoded data removed]",
      "text/plain": [
       "<Figure size 720x432 with 1 Axes>"
      ]
     },
     "metadata": {
      "needs_background": "light"
     },
     "output_type": "display_data"
    }
   ],
   "source": [
    "plt.figure(figsize=(10, 6))\n",
    "sns.scatterplot(data=UsedCarPrices, x='year', y='odometer')\n",
    "plt.title('Price & Odometer relationship')\n",
    "plt.show()"
   ]
  },
  {
   "cell_type": "markdown",
   "metadata": {},
   "source": [
    "### Categorical Variables"
   ]
  },
  {
   "cell_type": "code",
   "execution_count": 35,
   "metadata": {
    "scrolled": true
   },
   "outputs": [
    {
     "data": {
      "image/png": "[encoded data removed]",
      "text/plain": [
       "<Figure size 864x432 with 1 Axes>"
      ]
     },
     "metadata": {
      "needs_background": "light"
     },
     "output_type": "display_data"
    },
    {
     "data": {
      "image/png": "[encoded data removed]",
      "text/plain": [
       "<Figure size 864x432 with 1 Axes>"
      ]
     },
     "metadata": {
      "needs_background": "light"
     },
     "output_type": "display_data"
    },
    {
     "data": {
      "image/png": "[encoded data removed]",
      "text/plain": [
       "<Figure size 864x432 with 1 Axes>"
      ]
     },
     "metadata": {
      "needs_background": "light"
     },
     "output_type": "display_data"
    },
    {
     "data": {
      "image/png": "[encoded data removed]",
      "text/plain": [
       "<Figure size 864x432 with 1 Axes>"
      ]
     },
     "metadata": {
      "needs_background": "light"
     },
     "output_type": "display_data"
    },
    {
     "data": {
      "image/png": "[encoded data removed]",
      "text/plain": [
       "<Figure size 864x432 with 1 Axes>"
      ]
     },
     "metadata": {
      "needs_background": "light"
     },
     "output_type": "display_data"
    },
    {
     "data": {
      "image/png": "[encoded data removed]",
      "text/plain": [
       "<Figure size 864x432 with 1 Axes>"
      ]
     },
     "metadata": {
      "needs_background": "light"
     },
     "output_type": "display_data"
    },
    {
     "data": {
      "image/png": "[encoded data removed]",
      "text/plain": [
       "<Figure size 864x432 with 1 Axes>"
      ]
     },
     "metadata": {
      "needs_background": "light"
     },
     "output_type": "display_data"
    },
    {
     "data": {
      "image/png": "[encoded data removed]",
      "text/plain": [
       "<Figure size 864x432 with 1 Axes>"
      ]
     },
     "metadata": {
      "needs_background": "light"
     },
     "output_type": "display_data"
    },
    {
     "data": {
      "image/png": "[encoded data removed]",
      "text/plain": [
       "<Figure size 864x432 with 1 Axes>"
      ]
     },
     "metadata": {
      "needs_background": "light"
     },
     "output_type": "display_data"
    },
    {
     "data": {
      "image/png": "[encoded data removed]",
      "text/plain": [
       "<Figure size 864x432 with 1 Axes>"
      ]
     },
     "metadata": {
      "needs_background": "light"
     },
     "output_type": "display_data"
    }
   ],
   "source": [
    "# Visualizing the Average Pricing by different values of the various features\n",
    "\n",
    "df = UsedCarPrices\n",
    "\n",
    "cols = ['manufacturer', 'cylinders', 'fuel', 'transmission', 'drive', \n",
    "        'condition', 'title_status', 'type', 'size', 'paint_color']\n",
    "\n",
    "\n",
    "for col in cols:\n",
    "    grouped_df = df.groupby(col)['price'].mean().reset_index()\n",
    "    grouped_df = grouped_df.sort_values(by='price', ascending=True)\n",
    "   \n",
    "    plt.figure(figsize=(12,6))\n",
    "    sns.barplot(x=col, y='price', data=grouped_df)\n",
    "    # Set plot title and labels\n",
    "    plt.title(f'Average of price by {col}',fontsize=14)\n",
    "    plt.xlabel(col,fontsize=14)\n",
    "    plt.ylabel('Average of price',fontsize=14)\n",
    "    plt.show()"
   ]
  },
  {
   "cell_type": "markdown",
   "metadata": {},
   "source": [
    "## Section D: Data Preparation\n",
    "\n",
    "After our initial exploration and fine tuning of the business understanding, it is time to construct our final dataset prior to modeling.  Here, we want to make sure to handle any integrity issues and cleaning, the engineering of new features, any transformations that we believe should happen (scaling, logarithms, normalization, etc.), and general preparation for modeling with `sklearn`."
   ]
  },
  {
   "cell_type": "markdown",
   "metadata": {},
   "source": [
    "### D1) Feature Scaling\n",
    "\n",
    "I use my custom function module for Feature Scaling:\n",
    "\n",
    "1. Numerical Features: Normalized with Min Max Scaler\n",
    "2. Categorical Features: Ordinal Encoded"
   ]
  },
  {
   "cell_type": "code",
   "execution_count": 16,
   "metadata": {
    "scrolled": false
   },
   "outputs": [
    {
     "data": {
      "text/html": [
       "<div>\n",
       "<style scoped>\n",
       "    .dataframe tbody tr th:only-of-type {\n",
       "        vertical-align: middle;\n",
       "    }\n",
       "\n",
       "    .dataframe tbody tr th {\n",
       "        vertical-align: top;\n",
       "    }\n",
       "\n",
       "    .dataframe thead th {\n",
       "        text-align: right;\n",
       "    }\n",
       "</style>\n",
       "<table border=\"1\" class=\"dataframe\">\n",
       "  <thead>\n",
       "    <tr style=\"text-align: right;\">\n",
       "      <th></th>\n",
       "      <th>year</th>\n",
       "      <th>odometer</th>\n",
       "      <th>manufacturer</th>\n",
       "      <th>cylinders</th>\n",
       "      <th>fuel</th>\n",
       "      <th>transmission</th>\n",
       "      <th>drive</th>\n",
       "      <th>condition</th>\n",
       "      <th>title_status</th>\n",
       "      <th>type</th>\n",
       "      <th>size</th>\n",
       "      <th>paint_color</th>\n",
       "      <th>state</th>\n",
       "    </tr>\n",
       "  </thead>\n",
       "  <tbody>\n",
       "    <tr>\n",
       "      <th>13457</th>\n",
       "      <td>0.607143</td>\n",
       "      <td>0.728688</td>\n",
       "      <td>13.0</td>\n",
       "      <td>6.0</td>\n",
       "      <td>2.0</td>\n",
       "      <td>0.0</td>\n",
       "      <td>2.0</td>\n",
       "      <td>3.0</td>\n",
       "      <td>0.0</td>\n",
       "      <td>6.0</td>\n",
       "      <td>3.0</td>\n",
       "      <td>11.0</td>\n",
       "      <td>2.0</td>\n",
       "    </tr>\n",
       "    <tr>\n",
       "      <th>103570</th>\n",
       "      <td>0.857143</td>\n",
       "      <td>0.121638</td>\n",
       "      <td>19.0</td>\n",
       "      <td>7.0</td>\n",
       "      <td>2.0</td>\n",
       "      <td>0.0</td>\n",
       "      <td>2.0</td>\n",
       "      <td>4.0</td>\n",
       "      <td>0.0</td>\n",
       "      <td>6.0</td>\n",
       "      <td>3.0</td>\n",
       "      <td>6.0</td>\n",
       "      <td>12.0</td>\n",
       "    </tr>\n",
       "    <tr>\n",
       "      <th>191025</th>\n",
       "      <td>0.607143</td>\n",
       "      <td>0.566830</td>\n",
       "      <td>20.0</td>\n",
       "      <td>3.0</td>\n",
       "      <td>2.0</td>\n",
       "      <td>0.0</td>\n",
       "      <td>0.0</td>\n",
       "      <td>0.0</td>\n",
       "      <td>0.0</td>\n",
       "      <td>0.0</td>\n",
       "      <td>2.0</td>\n",
       "      <td>11.0</td>\n",
       "      <td>35.0</td>\n",
       "    </tr>\n",
       "    <tr>\n",
       "      <th>35959</th>\n",
       "      <td>0.821429</td>\n",
       "      <td>0.143093</td>\n",
       "      <td>12.0</td>\n",
       "      <td>6.0</td>\n",
       "      <td>2.0</td>\n",
       "      <td>0.0</td>\n",
       "      <td>0.0</td>\n",
       "      <td>2.0</td>\n",
       "      <td>0.0</td>\n",
       "      <td>11.0</td>\n",
       "      <td>1.0</td>\n",
       "      <td>5.0</td>\n",
       "      <td>4.0</td>\n",
       "    </tr>\n",
       "    <tr>\n",
       "      <th>68047</th>\n",
       "      <td>0.678571</td>\n",
       "      <td>0.567792</td>\n",
       "      <td>12.0</td>\n",
       "      <td>5.0</td>\n",
       "      <td>2.0</td>\n",
       "      <td>0.0</td>\n",
       "      <td>3.0</td>\n",
       "      <td>4.0</td>\n",
       "      <td>0.0</td>\n",
       "      <td>11.0</td>\n",
       "      <td>3.0</td>\n",
       "      <td>1.0</td>\n",
       "      <td>9.0</td>\n",
       "    </tr>\n",
       "  </tbody>\n",
       "</table>\n",
       "</div>"
      ],
      "text/plain": [
       "            year  odometer  manufacturer  cylinders  fuel  transmission  \\\n",
       "13457   0.607143  0.728688          13.0        6.0   2.0           0.0   \n",
       "103570  0.857143  0.121638          19.0        7.0   2.0           0.0   \n",
       "191025  0.607143  0.566830          20.0        3.0   2.0           0.0   \n",
       "35959   0.821429  0.143093          12.0        6.0   2.0           0.0   \n",
       "68047   0.678571  0.567792          12.0        5.0   2.0           0.0   \n",
       "\n",
       "        drive  condition  title_status  type  size  paint_color  state  \n",
       "13457     2.0        3.0           0.0   6.0   3.0         11.0    2.0  \n",
       "103570    2.0        4.0           0.0   6.0   3.0          6.0   12.0  \n",
       "191025    0.0        0.0           0.0   0.0   2.0         11.0   35.0  \n",
       "35959     0.0        2.0           0.0  11.0   1.0          5.0    4.0  \n",
       "68047     3.0        4.0           0.0  11.0   3.0          1.0    9.0  "
      ]
     },
     "execution_count": 16,
     "metadata": {},
     "output_type": "execute_result"
    }
   ],
   "source": [
    "# Scaling X\n",
    "\n",
    "UsedCarPrices_X_scaled = pd.DataFrame(preprocessX(UsedCarPrices_X),columns=UsedCarPrices_X.columns.tolist())\n",
    "\n",
    "UsedCarPrices_X_scaled.sample(5)"
   ]
  },
  {
   "cell_type": "markdown",
   "metadata": {},
   "source": [
    "### D2) Train/Test Split\n",
    "\n",
    "Splitting the X and y data into Training and Testing Sets for evaluating model accuracy"
   ]
  },
  {
   "cell_type": "code",
   "execution_count": 17,
   "metadata": {
    "scrolled": false
   },
   "outputs": [],
   "source": [
    "X_train, X_test, y_train, y_test = train_test_split(UsedCarPrices_X_scaled, UsedCarPrices_y, test_size = 0.2)"
   ]
  },
  {
   "cell_type": "markdown",
   "metadata": {},
   "source": [
    "## Section E: Modeling\n",
    "\n",
    "With your (almost?) final dataset in hand, it is now time to build some models.  Here, you should build a number of different regression models with the price as the target.  In building your models, you should explore different parameters and be sure to cross-validate your findings."
   ]
  },
  {
   "cell_type": "markdown",
   "metadata": {},
   "source": [
    "### Models Chosen:\n",
    "\n",
    "    1. Linear Regression\n",
    "    2. Lasso Regression\n",
    "    3. Ridge Regression\n",
    "    4. Random Forest Regression"
   ]
  },
  {
   "cell_type": "markdown",
   "metadata": {},
   "source": [
    "### E1) Linear Regression"
   ]
  },
  {
   "cell_type": "code",
   "execution_count": 18,
   "metadata": {},
   "outputs": [
    {
     "data": {
      "application/javascript": [
       "\n",
       "        if (window._pyforest_update_imports_cell) { window._pyforest_update_imports_cell('from sklearn.linear_model import LinearRegression\\nfrom sklearn.ensemble import RandomForestRegressor'); }\n",
       "    "
      ],
      "text/plain": [
       "<IPython.core.display.Javascript object>"
      ]
     },
     "metadata": {},
     "output_type": "display_data"
    },
    {
     "name": "stdout",
     "output_type": "stream",
     "text": [
      "Linear Regression Score\n",
      "Training Accuracy: 0.3584\n",
      "Test Accuracy    : 0.3564\n",
      "RMSE             : 9849.2413\n"
     ]
    }
   ],
   "source": [
    "model_lin = LinearRegression()\n",
    "model_lin.fit(X_train,y_train)\n",
    "\n",
    "y_pred = model_lin.predict(X_test)\n",
    "\n",
    "print('Linear Regression Score')\n",
    "print(\"Training Accuracy:\", \"%.4f\" % model_lin.score(X_train, y_train))\n",
    "print(\"Test Accuracy    :\", \"%.4f\" % model_lin.score(X_test, y_test))\n",
    "print(\"RMSE             :\", \"%.4f\" %np.sqrt(mean_squared_error(y_test,y_pred)))"
   ]
  },
  {
   "cell_type": "code",
   "execution_count": 19,
   "metadata": {},
   "outputs": [
    {
     "data": {
      "text/plain": [
       "array([[ 2.01647973e+04, -1.15337327e+04, -3.05071060e+01,\n",
       "         1.14081124e+03, -1.66473573e+03,  2.38950867e+03,\n",
       "        -7.62489127e+02, -1.95328648e+02, -7.34966135e+02,\n",
       "         6.71379952e+01, -9.62673118e+01,  6.32071068e+01,\n",
       "        -1.07883880e+01]])"
      ]
     },
     "execution_count": 19,
     "metadata": {},
     "output_type": "execute_result"
    }
   ],
   "source": [
    "model_lin.coef_"
   ]
  },
  {
   "cell_type": "code",
   "execution_count": 20,
   "metadata": {},
   "outputs": [
    {
     "data": {
      "text/html": [
       "<div>\n",
       "<style scoped>\n",
       "    .dataframe tbody tr th:only-of-type {\n",
       "        vertical-align: middle;\n",
       "    }\n",
       "\n",
       "    .dataframe tbody tr th {\n",
       "        vertical-align: top;\n",
       "    }\n",
       "\n",
       "    .dataframe thead th {\n",
       "        text-align: right;\n",
       "    }\n",
       "</style>\n",
       "<table border=\"1\" class=\"dataframe\">\n",
       "  <thead>\n",
       "    <tr style=\"text-align: right;\">\n",
       "      <th></th>\n",
       "      <th>features</th>\n",
       "      <th>LinCoeffs</th>\n",
       "    </tr>\n",
       "  </thead>\n",
       "  <tbody>\n",
       "    <tr>\n",
       "      <th>0</th>\n",
       "      <td>year</td>\n",
       "      <td>20234.063500</td>\n",
       "    </tr>\n",
       "    <tr>\n",
       "      <th>1</th>\n",
       "      <td>odometer</td>\n",
       "      <td>-11472.134800</td>\n",
       "    </tr>\n",
       "    <tr>\n",
       "      <th>2</th>\n",
       "      <td>manufacturer</td>\n",
       "      <td>-30.484253</td>\n",
       "    </tr>\n",
       "    <tr>\n",
       "      <th>3</th>\n",
       "      <td>cylinders</td>\n",
       "      <td>1148.490850</td>\n",
       "    </tr>\n",
       "    <tr>\n",
       "      <th>4</th>\n",
       "      <td>fuel</td>\n",
       "      <td>-1665.799560</td>\n",
       "    </tr>\n",
       "    <tr>\n",
       "      <th>5</th>\n",
       "      <td>transmission</td>\n",
       "      <td>2360.937830</td>\n",
       "    </tr>\n",
       "    <tr>\n",
       "      <th>6</th>\n",
       "      <td>drive</td>\n",
       "      <td>-770.174333</td>\n",
       "    </tr>\n",
       "    <tr>\n",
       "      <th>7</th>\n",
       "      <td>condition</td>\n",
       "      <td>-190.911291</td>\n",
       "    </tr>\n",
       "    <tr>\n",
       "      <th>8</th>\n",
       "      <td>title_status</td>\n",
       "      <td>-739.298265</td>\n",
       "    </tr>\n",
       "    <tr>\n",
       "      <th>9</th>\n",
       "      <td>type</td>\n",
       "      <td>69.355080</td>\n",
       "    </tr>\n",
       "    <tr>\n",
       "      <th>10</th>\n",
       "      <td>size</td>\n",
       "      <td>-110.994146</td>\n",
       "    </tr>\n",
       "    <tr>\n",
       "      <th>11</th>\n",
       "      <td>paint_color</td>\n",
       "      <td>60.800461</td>\n",
       "    </tr>\n",
       "    <tr>\n",
       "      <th>12</th>\n",
       "      <td>state</td>\n",
       "      <td>-12.279846</td>\n",
       "    </tr>\n",
       "  </tbody>\n",
       "</table>\n",
       "</div>"
      ],
      "text/plain": [
       "        features     LinCoeffs\n",
       "0           year  20234.063500\n",
       "1       odometer -11472.134800\n",
       "2   manufacturer    -30.484253\n",
       "3      cylinders   1148.490850\n",
       "4           fuel  -1665.799560\n",
       "5   transmission   2360.937830\n",
       "6          drive   -770.174333\n",
       "7      condition   -190.911291\n",
       "8   title_status   -739.298265\n",
       "9           type     69.355080\n",
       "10          size   -110.994146\n",
       "11   paint_color     60.800461\n",
       "12         state    -12.279846"
      ]
     },
     "execution_count": 20,
     "metadata": {},
     "output_type": "execute_result"
    }
   ],
   "source": [
    "coefficients = [2.02340635e+04, -1.14721348e+04, -3.04842530e+01,\n",
    "         1.14849085e+03, -1.66579956e+03,  2.36093783e+03,\n",
    "        -7.70174333e+02, -1.90911291e+02, -7.39298265e+02,\n",
    "         6.93550801e+01, -1.10994146e+02,  6.08004608e+01,\n",
    "        -1.22798455e+01]\n",
    "\n",
    "featimp_lin = pd.DataFrame({'features': UsedCarPrices_X.columns, 'LinCoeffs': coefficients})\n",
    "featimp_lin"
   ]
  },
  {
   "cell_type": "markdown",
   "metadata": {},
   "source": [
    "### E2) Lasso Regression"
   ]
  },
  {
   "cell_type": "code",
   "execution_count": 21,
   "metadata": {},
   "outputs": [
    {
     "data": {
      "application/javascript": [
       "\n",
       "        if (window._pyforest_update_imports_cell) { window._pyforest_update_imports_cell('from sklearn.linear_model import Lasso\\nfrom sklearn.linear_model import LinearRegression\\nfrom sklearn.ensemble import RandomForestRegressor'); }\n",
       "    "
      ],
      "text/plain": [
       "<IPython.core.display.Javascript object>"
      ]
     },
     "metadata": {},
     "output_type": "display_data"
    },
    {
     "name": "stdout",
     "output_type": "stream",
     "text": [
      "Linear Regression Score\n",
      "Training Accuracy: 0.3558\n",
      "Test Accuracy    : 0.3536\n",
      "RMSE             : 9870.2983\n"
     ]
    }
   ],
   "source": [
    "model_las = Lasso(alpha=100)\n",
    "model_las.fit(X_train,y_train)\n",
    "\n",
    "y_pred = model_las.predict(X_test)\n",
    "\n",
    "print('Linear Regression Score')\n",
    "print(\"Training Accuracy:\", \"%.4f\" % model_las.score(X_train, y_train))\n",
    "print(\"Test Accuracy    :\", \"%.4f\" % model_las.score(X_test, y_test))\n",
    "print(\"RMSE             :\", \"%.4f\" %np.sqrt(mean_squared_error(y_test,y_pred)))"
   ]
  },
  {
   "cell_type": "markdown",
   "metadata": {},
   "source": [
    "### E3) Ridge Regression"
   ]
  },
  {
   "cell_type": "code",
   "execution_count": 22,
   "metadata": {},
   "outputs": [
    {
     "data": {
      "application/javascript": [
       "\n",
       "        if (window._pyforest_update_imports_cell) { window._pyforest_update_imports_cell('from sklearn.ensemble import RandomForestRegressor\\nfrom sklearn.linear_model import Lasso\\nfrom sklearn.linear_model import LinearRegression\\nfrom sklearn.linear_model import Ridge'); }\n",
       "    "
      ],
      "text/plain": [
       "<IPython.core.display.Javascript object>"
      ]
     },
     "metadata": {},
     "output_type": "display_data"
    },
    {
     "name": "stdout",
     "output_type": "stream",
     "text": [
      "Ridge Regression Score\n",
      "Training Accuracy: 0.3584\n",
      "Test Accuracy    : 0.3563\n",
      "RMSE             : 9849.5162\n"
     ]
    }
   ],
   "source": [
    "model_rid = Ridge(alpha=100)\n",
    "model_rid.fit(X_train,y_train)\n",
    "\n",
    "y_pred = model_rid.predict(X_test)\n",
    "\n",
    "print('Ridge Regression Score')\n",
    "print(\"Training Accuracy:\", \"%.4f\" % model_rid.score(X_train, y_train))\n",
    "print(\"Test Accuracy    :\", \"%.4f\" % model_rid.score(X_test, y_test))\n",
    "print(\"RMSE             :\", \"%.4f\" %np.sqrt(mean_squared_error(y_test,y_pred)))"
   ]
  },
  {
   "cell_type": "markdown",
   "metadata": {},
   "source": [
    "### E4) Random Forest Regression"
   ]
  },
  {
   "cell_type": "code",
   "execution_count": 23,
   "metadata": {},
   "outputs": [
    {
     "data": {
      "application/javascript": [
       "\n",
       "        if (window._pyforest_update_imports_cell) { window._pyforest_update_imports_cell('from sklearn.ensemble import RandomForestRegressor\\nfrom sklearn.linear_model import Lasso\\nfrom sklearn.linear_model import LinearRegression\\nfrom sklearn.linear_model import Ridge'); }\n",
       "    "
      ],
      "text/plain": [
       "<IPython.core.display.Javascript object>"
      ]
     },
     "metadata": {},
     "output_type": "display_data"
    },
    {
     "name": "stdout",
     "output_type": "stream",
     "text": [
      "Random Regression Score\n",
      "Training Accuracy: 0.9563\n",
      "Test Accuracy    : 0.7111\n",
      "RMSE             : 6598.4522\n"
     ]
    }
   ],
   "source": [
    "model_ran = RandomForestRegressor()\n",
    "model_ran.fit(X_train,y_train)\n",
    "\n",
    "y_pred = model_ran.predict(X_test)\n",
    "\n",
    "print('Random Regression Score')\n",
    "print(\"Training Accuracy:\", \"%.4f\" % model_ran.score(X_train, y_train))\n",
    "print(\"Test Accuracy    :\", \"%.4f\" % model_ran.score(X_test, y_test))\n",
    "print(\"RMSE             :\", \"%.4f\" %np.sqrt(mean_squared_error(y_test,y_pred)))"
   ]
  },
  {
   "cell_type": "code",
   "execution_count": 24,
   "metadata": {
    "scrolled": false
   },
   "outputs": [
    {
     "data": {
      "text/html": [
       "<div>\n",
       "<style scoped>\n",
       "    .dataframe tbody tr th:only-of-type {\n",
       "        vertical-align: middle;\n",
       "    }\n",
       "\n",
       "    .dataframe tbody tr th {\n",
       "        vertical-align: top;\n",
       "    }\n",
       "\n",
       "    .dataframe thead th {\n",
       "        text-align: right;\n",
       "    }\n",
       "</style>\n",
       "<table border=\"1\" class=\"dataframe\">\n",
       "  <thead>\n",
       "    <tr style=\"text-align: right;\">\n",
       "      <th></th>\n",
       "      <th>features</th>\n",
       "      <th>FeatImp</th>\n",
       "    </tr>\n",
       "  </thead>\n",
       "  <tbody>\n",
       "    <tr>\n",
       "      <th>0</th>\n",
       "      <td>year</td>\n",
       "      <td>0.309052</td>\n",
       "    </tr>\n",
       "    <tr>\n",
       "      <th>1</th>\n",
       "      <td>odometer</td>\n",
       "      <td>0.169745</td>\n",
       "    </tr>\n",
       "    <tr>\n",
       "      <th>2</th>\n",
       "      <td>manufacturer</td>\n",
       "      <td>0.073558</td>\n",
       "    </tr>\n",
       "    <tr>\n",
       "      <th>3</th>\n",
       "      <td>cylinders</td>\n",
       "      <td>0.062762</td>\n",
       "    </tr>\n",
       "    <tr>\n",
       "      <th>4</th>\n",
       "      <td>fuel</td>\n",
       "      <td>0.053717</td>\n",
       "    </tr>\n",
       "    <tr>\n",
       "      <th>5</th>\n",
       "      <td>transmission</td>\n",
       "      <td>0.049671</td>\n",
       "    </tr>\n",
       "    <tr>\n",
       "      <th>6</th>\n",
       "      <td>drive</td>\n",
       "      <td>0.068002</td>\n",
       "    </tr>\n",
       "    <tr>\n",
       "      <th>7</th>\n",
       "      <td>condition</td>\n",
       "      <td>0.034750</td>\n",
       "    </tr>\n",
       "    <tr>\n",
       "      <th>8</th>\n",
       "      <td>title_status</td>\n",
       "      <td>0.007074</td>\n",
       "    </tr>\n",
       "    <tr>\n",
       "      <th>9</th>\n",
       "      <td>type</td>\n",
       "      <td>0.042383</td>\n",
       "    </tr>\n",
       "    <tr>\n",
       "      <th>10</th>\n",
       "      <td>size</td>\n",
       "      <td>0.017533</td>\n",
       "    </tr>\n",
       "    <tr>\n",
       "      <th>11</th>\n",
       "      <td>paint_color</td>\n",
       "      <td>0.041128</td>\n",
       "    </tr>\n",
       "    <tr>\n",
       "      <th>12</th>\n",
       "      <td>state</td>\n",
       "      <td>0.070625</td>\n",
       "    </tr>\n",
       "  </tbody>\n",
       "</table>\n",
       "</div>"
      ],
      "text/plain": [
       "        features   FeatImp\n",
       "0           year  0.309052\n",
       "1       odometer  0.169745\n",
       "2   manufacturer  0.073558\n",
       "3      cylinders  0.062762\n",
       "4           fuel  0.053717\n",
       "5   transmission  0.049671\n",
       "6          drive  0.068002\n",
       "7      condition  0.034750\n",
       "8   title_status  0.007074\n",
       "9           type  0.042383\n",
       "10          size  0.017533\n",
       "11   paint_color  0.041128\n",
       "12         state  0.070625"
      ]
     },
     "execution_count": 24,
     "metadata": {},
     "output_type": "execute_result"
    }
   ],
   "source": [
    "featimp_ran = pd.DataFrame({'features': UsedCarPrices_X.columns, 'FeatImp': model_ran.feature_importances_})\n",
    "featimp_ran"
   ]
  },
  {
   "cell_type": "markdown",
   "metadata": {},
   "source": [
    "### E5) Grid Search for Best Hyperparameters"
   ]
  },
  {
   "cell_type": "code",
   "execution_count": 30,
   "metadata": {
    "scrolled": false
   },
   "outputs": [
    {
     "data": {
      "application/javascript": [
       "\n",
       "        if (window._pyforest_update_imports_cell) { window._pyforest_update_imports_cell('from sklearn.ensemble import RandomForestRegressor\\nfrom sklearn.linear_model import Lasso\\nfrom sklearn.linear_model import LinearRegression\\nfrom sklearn.linear_model import Ridge'); }\n",
       "    "
      ],
      "text/plain": [
       "<IPython.core.display.Javascript object>"
      ]
     },
     "metadata": {},
     "output_type": "display_data"
    },
    {
     "data": {
      "application/javascript": [
       "\n",
       "        if (window._pyforest_update_imports_cell) { window._pyforest_update_imports_cell('from sklearn.ensemble import RandomForestRegressor\\nfrom sklearn.linear_model import Lasso\\nfrom sklearn.linear_model import LinearRegression\\nfrom sklearn.linear_model import Ridge'); }\n",
       "    "
      ],
      "text/plain": [
       "<IPython.core.display.Javascript object>"
      ]
     },
     "metadata": {},
     "output_type": "display_data"
    },
    {
     "data": {
      "application/javascript": [
       "\n",
       "        if (window._pyforest_update_imports_cell) { window._pyforest_update_imports_cell('from sklearn.ensemble import RandomForestRegressor\\nfrom sklearn.linear_model import Lasso\\nfrom sklearn.linear_model import LinearRegression\\nfrom sklearn.linear_model import Ridge'); }\n",
       "    "
      ],
      "text/plain": [
       "<IPython.core.display.Javascript object>"
      ]
     },
     "metadata": {},
     "output_type": "display_data"
    }
   ],
   "source": [
    "param_grid = {\n",
    "    'Linear Regression': {'fit_intercept': [True,False]},\n",
    "    'Lasso': {'alpha': [0.1,1,10,100]},\n",
    "    'Ridge': {'alpha': [0.1,1,10,100]}}\n",
    "\n",
    "models = {'Linear Regression': LinearRegression(),'Lasso': Lasso(), 'Ridge':Ridge()}\n",
    "\n",
    "best_models = {}\n",
    "best_params = {}\n",
    "timetaken_gridsearch = []"
   ]
  },
  {
   "cell_type": "code",
   "execution_count": 31,
   "metadata": {},
   "outputs": [
    {
     "name": "stdout",
     "output_type": "stream",
     "text": [
      "Time to run the GridSearch for Linear Regression is: 0.94 seconds\n",
      "Time to run the GridSearch for Lasso is: 1.94 seconds\n",
      "Time to run the GridSearch for Ridge is: 1.22 seconds\n",
      "Time to run the GridSearch evaluation for multiple models: 4.10 seconds\n"
     ]
    }
   ],
   "source": [
    "tik1 = time.time()\n",
    "\n",
    "for name, model in models.items():\n",
    "    \n",
    "    tik = time.time()\n",
    "    \n",
    "    grid = GridSearchCV(model, param_grid[name], cv=5, scoring='accuracy')\n",
    "    grid.fit(X_train, y_train)\n",
    "    \n",
    "    best_models[name] = grid.best_estimator_\n",
    "    best_params[name] = grid.best_params_\n",
    "    \n",
    "    tok = time.time()\n",
    "    print('Time to run the GridSearch for' , name , 'is:' , '%.2f' % (tok-tik) , 'seconds')\n",
    "    timetaken_gridsearch.append('%.1f' % (tok-tik))\n",
    "\n",
    "tok1 = time.time()\n",
    "print('Time to run the GridSearch evaluation for multiple models:' , '%.2f' % (tok1-tik1) , 'seconds')"
   ]
  },
  {
   "cell_type": "code",
   "execution_count": 32,
   "metadata": {},
   "outputs": [
    {
     "data": {
      "text/plain": [
       "{'Linear Regression': LinearRegression(),\n",
       " 'Lasso': Lasso(alpha=0.1),\n",
       " 'Ridge': Ridge(alpha=0.1)}"
      ]
     },
     "execution_count": 32,
     "metadata": {},
     "output_type": "execute_result"
    }
   ],
   "source": [
    "best_models"
   ]
  },
  {
   "cell_type": "markdown",
   "metadata": {},
   "source": [
    "## Section F: Evaluation & Deployment\n",
    "\n",
    "**Evaluation:** With some modeling accomplished, we aim to reflect on what we identify as a high quality model and what we are able to learn from this.  We should review our business objective and explore how well we can provide meaningful insight on drivers of used car prices.  Your goal now is to distill your findings and determine whether the earlier phases need revisitation and adjustment or if you have information of value to bring back to your client.\n",
    "\n",
    "**Deployment:** Now that we've settled on our models and findings, it is time to deliver the information to the client.  You should organize your work as a basic report that details your primary findings.  Keep in mind that your audience is a group of used car dealers interested in fine tuning their inventory."
   ]
  },
  {
   "cell_type": "markdown",
   "metadata": {},
   "source": [
    "### F1) Final Model Scores"
   ]
  },
  {
   "cell_type": "code",
   "execution_count": 51,
   "metadata": {},
   "outputs": [],
   "source": [
    "# Running Evaluation metrics for best parameters of all 4 models\n",
    "\n",
    "names  = ['Linear Regression', 'Lasso', 'Ridge']\n",
    "\n",
    "RMSE = []\n",
    "acc_train = []\n",
    "acc_test  = []"
   ]
  },
  {
   "cell_type": "code",
   "execution_count": 52,
   "metadata": {},
   "outputs": [
    {
     "data": {
      "text/html": [
       "<div>\n",
       "<style scoped>\n",
       "    .dataframe tbody tr th:only-of-type {\n",
       "        vertical-align: middle;\n",
       "    }\n",
       "\n",
       "    .dataframe tbody tr th {\n",
       "        vertical-align: top;\n",
       "    }\n",
       "\n",
       "    .dataframe thead th {\n",
       "        text-align: right;\n",
       "    }\n",
       "</style>\n",
       "<table border=\"1\" class=\"dataframe\">\n",
       "  <thead>\n",
       "    <tr style=\"text-align: right;\">\n",
       "      <th></th>\n",
       "      <th>Linear Regression</th>\n",
       "      <th>Lasso</th>\n",
       "      <th>Ridge</th>\n",
       "    </tr>\n",
       "  </thead>\n",
       "  <tbody>\n",
       "    <tr>\n",
       "      <th>RMSE</th>\n",
       "      <td>9849.2413</td>\n",
       "      <td>9849.2428</td>\n",
       "      <td>9849.2414</td>\n",
       "    </tr>\n",
       "    <tr>\n",
       "      <th>Train Accuracy</th>\n",
       "      <td>0.3584</td>\n",
       "      <td>0.3584</td>\n",
       "      <td>0.3584</td>\n",
       "    </tr>\n",
       "    <tr>\n",
       "      <th>Test Accuracy</th>\n",
       "      <td>0.3564</td>\n",
       "      <td>0.3564</td>\n",
       "      <td>0.3564</td>\n",
       "    </tr>\n",
       "  </tbody>\n",
       "</table>\n",
       "</div>"
      ],
      "text/plain": [
       "                Linear Regression      Lasso      Ridge\n",
       "RMSE                    9849.2413  9849.2428  9849.2414\n",
       "Train Accuracy             0.3584     0.3584     0.3584\n",
       "Test Accuracy              0.3564     0.3564     0.3564"
      ]
     },
     "execution_count": 52,
     "metadata": {},
     "output_type": "execute_result"
    }
   ],
   "source": [
    "for name, model in best_models.items():\n",
    "    model.fit(X_train,y_train)\n",
    "    y_pred = model.predict(X_test)\n",
    "    RMSE.append(\"%.4f\" % np.sqrt(mean_squared_error(y_test,y_pred)))\n",
    "    acc_train.append(\"%.4f\" %model.score(X_train, y_train))\n",
    "    acc_test.append(\"%.4f\" %model.score(X_test, y_test))\n",
    "    \n",
    "Df = pd.DataFrame({'RMSE':RMSE,'Train Accuracy':acc_train,'Test Accuracy':acc_test})\n",
    "Df = Df.T\n",
    "Df.columns = names\n",
    "evaluation_final = Df.apply(pd.to_numeric, errors='coerce')\n",
    "evaluation_final"
   ]
  },
  {
   "cell_type": "code",
   "execution_count": 57,
   "metadata": {},
   "outputs": [
    {
     "data": {
      "text/html": [
       "<div>\n",
       "<style scoped>\n",
       "    .dataframe tbody tr th:only-of-type {\n",
       "        vertical-align: middle;\n",
       "    }\n",
       "\n",
       "    .dataframe tbody tr th {\n",
       "        vertical-align: top;\n",
       "    }\n",
       "\n",
       "    .dataframe thead th {\n",
       "        text-align: right;\n",
       "    }\n",
       "</style>\n",
       "<table border=\"1\" class=\"dataframe\">\n",
       "  <thead>\n",
       "    <tr style=\"text-align: right;\">\n",
       "      <th></th>\n",
       "      <th>Linear Regression</th>\n",
       "      <th>Lasso</th>\n",
       "      <th>Ridge</th>\n",
       "      <th>Random</th>\n",
       "    </tr>\n",
       "  </thead>\n",
       "  <tbody>\n",
       "    <tr>\n",
       "      <th>RMSE</th>\n",
       "      <td>9849.2413</td>\n",
       "      <td>9849.2428</td>\n",
       "      <td>9849.2414</td>\n",
       "      <td>6598.4522</td>\n",
       "    </tr>\n",
       "    <tr>\n",
       "      <th>Train Accuracy</th>\n",
       "      <td>0.3584</td>\n",
       "      <td>0.3584</td>\n",
       "      <td>0.3584</td>\n",
       "      <td>0.9563</td>\n",
       "    </tr>\n",
       "    <tr>\n",
       "      <th>Test Accuracy</th>\n",
       "      <td>0.3564</td>\n",
       "      <td>0.3564</td>\n",
       "      <td>0.3564</td>\n",
       "      <td>0.7111</td>\n",
       "    </tr>\n",
       "  </tbody>\n",
       "</table>\n",
       "</div>"
      ],
      "text/plain": [
       "                Linear Regression      Lasso      Ridge     Random\n",
       "RMSE                    9849.2413  9849.2428  9849.2414  6598.4522\n",
       "Train Accuracy             0.3584     0.3584     0.3584     0.9563\n",
       "Test Accuracy              0.3564     0.3564     0.3564     0.7111"
      ]
     },
     "execution_count": 57,
     "metadata": {},
     "output_type": "execute_result"
    }
   ],
   "source": [
    "# Appending Values of Random Forest\n",
    "\n",
    "evaluation_final['Random'] = [6598.4522,0.9563,0.7111]\n",
    "evaluation_final.apply(pd.to_numeric, errors='coerce')"
   ]
  },
  {
   "cell_type": "code",
   "execution_count": 65,
   "metadata": {},
   "outputs": [
    {
     "data": {
      "text/html": [
       "<div>\n",
       "<style scoped>\n",
       "    .dataframe tbody tr th:only-of-type {\n",
       "        vertical-align: middle;\n",
       "    }\n",
       "\n",
       "    .dataframe tbody tr th {\n",
       "        vertical-align: top;\n",
       "    }\n",
       "\n",
       "    .dataframe thead th {\n",
       "        text-align: right;\n",
       "    }\n",
       "</style>\n",
       "<table border=\"1\" class=\"dataframe\">\n",
       "  <thead>\n",
       "    <tr style=\"text-align: right;\">\n",
       "      <th></th>\n",
       "      <th>RMSE</th>\n",
       "      <th>Train Accuracy</th>\n",
       "      <th>Test Accuracy</th>\n",
       "    </tr>\n",
       "  </thead>\n",
       "  <tbody>\n",
       "    <tr>\n",
       "      <th>Linear Regression</th>\n",
       "      <td>9849.2413</td>\n",
       "      <td>0.3584</td>\n",
       "      <td>0.3564</td>\n",
       "    </tr>\n",
       "    <tr>\n",
       "      <th>Lasso</th>\n",
       "      <td>9849.2428</td>\n",
       "      <td>0.3584</td>\n",
       "      <td>0.3564</td>\n",
       "    </tr>\n",
       "    <tr>\n",
       "      <th>Ridge</th>\n",
       "      <td>9849.2414</td>\n",
       "      <td>0.3584</td>\n",
       "      <td>0.3564</td>\n",
       "    </tr>\n",
       "    <tr>\n",
       "      <th>Random</th>\n",
       "      <td>6598.4522</td>\n",
       "      <td>0.9563</td>\n",
       "      <td>0.7111</td>\n",
       "    </tr>\n",
       "  </tbody>\n",
       "</table>\n",
       "</div>"
      ],
      "text/plain": [
       "                        RMSE  Train Accuracy  Test Accuracy\n",
       "Linear Regression  9849.2413          0.3584         0.3564\n",
       "Lasso              9849.2428          0.3584         0.3564\n",
       "Ridge              9849.2414          0.3584         0.3564\n",
       "Random             6598.4522          0.9563         0.7111"
      ]
     },
     "execution_count": 65,
     "metadata": {},
     "output_type": "execute_result"
    }
   ],
   "source": [
    "evaluation_final = evaluation_final.T\n",
    "\n",
    "evaluation_final"
   ]
  },
  {
   "cell_type": "code",
   "execution_count": 72,
   "metadata": {},
   "outputs": [
    {
     "data": {
      "image/png": "[encoded data removed]",
      "text/plain": [
       "<Figure size 1008x504 with 1 Axes>"
      ]
     },
     "metadata": {
      "needs_background": "light"
     },
     "output_type": "display_data"
    }
   ],
   "source": [
    "evaluation_final.drop(columns=['RMSE']).plot(kind='line',figsize=(14, 7))\n",
    "plt.title('Regression Models Comparison: Evaluation Score', fontsize=16)\n",
    "plt.xlabel('Models', fontsize=14);plt.xlabel('Values', fontsize=14);\n",
    "plt.legend(bbox_to_anchor=(1.01, 1), loc='upper left',fontsize=12);\n",
    "plt.xticks(fontsize=14); plt.yticks(fontsize=12);plt.show()"
   ]
  },
  {
   "cell_type": "markdown",
   "metadata": {},
   "source": [
    "### F2) Feature Importance"
   ]
  },
  {
   "cell_type": "code",
   "execution_count": 69,
   "metadata": {},
   "outputs": [
    {
     "data": {
      "text/html": [
       "<div>\n",
       "<style scoped>\n",
       "    .dataframe tbody tr th:only-of-type {\n",
       "        vertical-align: middle;\n",
       "    }\n",
       "\n",
       "    .dataframe tbody tr th {\n",
       "        vertical-align: top;\n",
       "    }\n",
       "\n",
       "    .dataframe thead th {\n",
       "        text-align: right;\n",
       "    }\n",
       "</style>\n",
       "<table border=\"1\" class=\"dataframe\">\n",
       "  <thead>\n",
       "    <tr style=\"text-align: right;\">\n",
       "      <th></th>\n",
       "      <th>features</th>\n",
       "      <th>FeatImp</th>\n",
       "    </tr>\n",
       "  </thead>\n",
       "  <tbody>\n",
       "    <tr>\n",
       "      <th>0</th>\n",
       "      <td>year</td>\n",
       "      <td>0.309052</td>\n",
       "    </tr>\n",
       "    <tr>\n",
       "      <th>1</th>\n",
       "      <td>odometer</td>\n",
       "      <td>0.169745</td>\n",
       "    </tr>\n",
       "    <tr>\n",
       "      <th>2</th>\n",
       "      <td>manufacturer</td>\n",
       "      <td>0.073558</td>\n",
       "    </tr>\n",
       "    <tr>\n",
       "      <th>3</th>\n",
       "      <td>cylinders</td>\n",
       "      <td>0.062762</td>\n",
       "    </tr>\n",
       "    <tr>\n",
       "      <th>4</th>\n",
       "      <td>fuel</td>\n",
       "      <td>0.053717</td>\n",
       "    </tr>\n",
       "    <tr>\n",
       "      <th>5</th>\n",
       "      <td>transmission</td>\n",
       "      <td>0.049671</td>\n",
       "    </tr>\n",
       "    <tr>\n",
       "      <th>6</th>\n",
       "      <td>drive</td>\n",
       "      <td>0.068002</td>\n",
       "    </tr>\n",
       "    <tr>\n",
       "      <th>7</th>\n",
       "      <td>condition</td>\n",
       "      <td>0.034750</td>\n",
       "    </tr>\n",
       "    <tr>\n",
       "      <th>8</th>\n",
       "      <td>title_status</td>\n",
       "      <td>0.007074</td>\n",
       "    </tr>\n",
       "    <tr>\n",
       "      <th>9</th>\n",
       "      <td>type</td>\n",
       "      <td>0.042383</td>\n",
       "    </tr>\n",
       "    <tr>\n",
       "      <th>10</th>\n",
       "      <td>size</td>\n",
       "      <td>0.017533</td>\n",
       "    </tr>\n",
       "    <tr>\n",
       "      <th>11</th>\n",
       "      <td>paint_color</td>\n",
       "      <td>0.041128</td>\n",
       "    </tr>\n",
       "    <tr>\n",
       "      <th>12</th>\n",
       "      <td>state</td>\n",
       "      <td>0.070625</td>\n",
       "    </tr>\n",
       "  </tbody>\n",
       "</table>\n",
       "</div>"
      ],
      "text/plain": [
       "        features   FeatImp\n",
       "0           year  0.309052\n",
       "1       odometer  0.169745\n",
       "2   manufacturer  0.073558\n",
       "3      cylinders  0.062762\n",
       "4           fuel  0.053717\n",
       "5   transmission  0.049671\n",
       "6          drive  0.068002\n",
       "7      condition  0.034750\n",
       "8   title_status  0.007074\n",
       "9           type  0.042383\n",
       "10          size  0.017533\n",
       "11   paint_color  0.041128\n",
       "12         state  0.070625"
      ]
     },
     "execution_count": 69,
     "metadata": {},
     "output_type": "execute_result"
    }
   ],
   "source": [
    "# Feature Importance By Random Forest\n",
    "\n",
    "featimp_ran"
   ]
  },
  {
   "cell_type": "code",
   "execution_count": 71,
   "metadata": {},
   "outputs": [
    {
     "data": {
      "text/html": [
       "<div>\n",
       "<style scoped>\n",
       "    .dataframe tbody tr th:only-of-type {\n",
       "        vertical-align: middle;\n",
       "    }\n",
       "\n",
       "    .dataframe tbody tr th {\n",
       "        vertical-align: top;\n",
       "    }\n",
       "\n",
       "    .dataframe thead th {\n",
       "        text-align: right;\n",
       "    }\n",
       "</style>\n",
       "<table border=\"1\" class=\"dataframe\">\n",
       "  <thead>\n",
       "    <tr style=\"text-align: right;\">\n",
       "      <th></th>\n",
       "      <th>features</th>\n",
       "      <th>LinCoeffs</th>\n",
       "    </tr>\n",
       "  </thead>\n",
       "  <tbody>\n",
       "    <tr>\n",
       "      <th>0</th>\n",
       "      <td>year</td>\n",
       "      <td>20234.063500</td>\n",
       "    </tr>\n",
       "    <tr>\n",
       "      <th>5</th>\n",
       "      <td>transmission</td>\n",
       "      <td>2360.937830</td>\n",
       "    </tr>\n",
       "    <tr>\n",
       "      <th>3</th>\n",
       "      <td>cylinders</td>\n",
       "      <td>1148.490850</td>\n",
       "    </tr>\n",
       "    <tr>\n",
       "      <th>9</th>\n",
       "      <td>type</td>\n",
       "      <td>69.355080</td>\n",
       "    </tr>\n",
       "    <tr>\n",
       "      <th>11</th>\n",
       "      <td>paint_color</td>\n",
       "      <td>60.800461</td>\n",
       "    </tr>\n",
       "    <tr>\n",
       "      <th>12</th>\n",
       "      <td>state</td>\n",
       "      <td>-12.279846</td>\n",
       "    </tr>\n",
       "    <tr>\n",
       "      <th>2</th>\n",
       "      <td>manufacturer</td>\n",
       "      <td>-30.484253</td>\n",
       "    </tr>\n",
       "    <tr>\n",
       "      <th>10</th>\n",
       "      <td>size</td>\n",
       "      <td>-110.994146</td>\n",
       "    </tr>\n",
       "    <tr>\n",
       "      <th>7</th>\n",
       "      <td>condition</td>\n",
       "      <td>-190.911291</td>\n",
       "    </tr>\n",
       "    <tr>\n",
       "      <th>8</th>\n",
       "      <td>title_status</td>\n",
       "      <td>-739.298265</td>\n",
       "    </tr>\n",
       "    <tr>\n",
       "      <th>6</th>\n",
       "      <td>drive</td>\n",
       "      <td>-770.174333</td>\n",
       "    </tr>\n",
       "    <tr>\n",
       "      <th>4</th>\n",
       "      <td>fuel</td>\n",
       "      <td>-1665.799560</td>\n",
       "    </tr>\n",
       "    <tr>\n",
       "      <th>1</th>\n",
       "      <td>odometer</td>\n",
       "      <td>-11472.134800</td>\n",
       "    </tr>\n",
       "  </tbody>\n",
       "</table>\n",
       "</div>"
      ],
      "text/plain": [
       "        features     LinCoeffs\n",
       "0           year  20234.063500\n",
       "5   transmission   2360.937830\n",
       "3      cylinders   1148.490850\n",
       "9           type     69.355080\n",
       "11   paint_color     60.800461\n",
       "12         state    -12.279846\n",
       "2   manufacturer    -30.484253\n",
       "10          size   -110.994146\n",
       "7      condition   -190.911291\n",
       "8   title_status   -739.298265\n",
       "6          drive   -770.174333\n",
       "4           fuel  -1665.799560\n",
       "1       odometer -11472.134800"
      ]
     },
     "execution_count": 71,
     "metadata": {},
     "output_type": "execute_result"
    }
   ],
   "source": [
    "# Feature Importance By Linear Regression\n",
    "\n",
    "featimp_lin.sort_values(by='LinCoeffs',ascending=False)"
   ]
  },
  {
   "cell_type": "markdown",
   "metadata": {},
   "source": [
    "### F3) Report and Insights\n",
    "\n",
    "    1. The dataset was evaluated with 4 models Linear Regression, Lasso Regression, Ridge Regression and Random Forest.\n",
    "    2. Random Forest was the best performing model among all 4 models\n",
    "    3. Linear Regression, Lasso and Ridge performed very poorly for this dataset even with hyperparameter tuning\n",
    "    4. Random Forest modeling took significant computational resource and was time consuming. Finetuning for Random Forest had to be interupted because it was taking too long\n",
    "    5. There is STRONG negative correlation between Year and Odometer, which is intuitive. The older the year the higher the mileage\n",
    "    6. There is WEAK positive correlation between Price and year\n",
    "    7. There is WEAK negative correlation between Price and Odometer reading\n",
    "    8. Based on Random Forest feature importance Year, Odometer, Manufacturer and Cylinder turned out to be the most significant features\n",
    "    9. The client is asked to present any further data associated with the used cars that might be helpful in better modeling\n"
   ]
  },
  {
   "cell_type": "markdown",
   "metadata": {},
   "source": [
    "### F4) Future Work\n",
    "\n",
    "    1. The poor accuracy shows the need to improve the features by feature engineering\n",
    "    2. This effort will be taken up in my Capstone Project"
   ]
  }
 ],
 "metadata": {
  "kernelspec": {
   "display_name": "Python 3",
   "language": "python",
   "name": "python3"
  },
  "language_info": {
   "codemirror_mode": {
    "name": "ipython",
    "version": 3
   },
   "file_extension": ".py",
   "mimetype": "text/x-python",
   "name": "python",
   "nbconvert_exporter": "python",
   "pygments_lexer": "ipython3",
   "version": "3.8.5"
  },
  "widgets": {
   "application/vnd.jupyter.widget-state+json": {
    "state": {},
    "version_major": 2,
    "version_minor": 0
   }
  }
 },
 "nbformat": 4,
 "nbformat_minor": 4
}
