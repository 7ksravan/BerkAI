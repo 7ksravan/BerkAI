{
 "cells": [
  {
   "cell_type": "markdown",
   "metadata": {},
   "source": [
    "### Linear Regression with Multiple Variables\n",
    "\n",
    "1. Import Libs\n",
    "2. Get Data\n",
    "3. Visualize Data\n",
    "4. Split Data\n",
    "5. Train Model\n",
    "6. Test Model\n",
    "7. Evaluating Model\n",
    "8. Endpoint"
   ]
  },
  {
   "cell_type": "code",
   "execution_count": null,
   "metadata": {},
   "outputs": [],
   "source": []
  },
  {
   "cell_type": "code",
   "execution_count": 1,
   "metadata": {},
   "outputs": [],
   "source": [
    "# 1 Import Libs\n",
    "\n",
    "# data structures\n",
    "import pandas as pd\n",
    "import numpy as np\n",
    "\n",
    "# lib for files access\n",
    "from pathlib import Path\n",
    "myfolder = Path(\"C:/Users/pdpc/Documents/MLfiles/Data/\")\n",
    "\n",
    "# evaluation\n",
    "from scipy import stats\n",
    "\n",
    "# for graphs\n",
    "import seaborn as sns\n",
    "from pylab import rcParams\n",
    "import matplotlib.pyplot as plt\n",
    "%matplotlib inline\n",
    "\n",
    "# libs ColTransf / Pipeline / GridSearch\n",
    "from sklearn.preprocessing import StandardScaler, OrdinalEncoder,MinMaxScaler\n",
    "from sklearn.compose import ColumnTransformer\n",
    "from sklearn.pipeline import Pipeline\n",
    "from sklearn.model_selection import GridSearchCV"
   ]
  },
  {
   "cell_type": "code",
   "execution_count": 2,
   "metadata": {},
   "outputs": [
    {
     "data": {
      "text/html": [
       "<div>\n",
       "<style scoped>\n",
       "    .dataframe tbody tr th:only-of-type {\n",
       "        vertical-align: middle;\n",
       "    }\n",
       "\n",
       "    .dataframe tbody tr th {\n",
       "        vertical-align: top;\n",
       "    }\n",
       "\n",
       "    .dataframe thead th {\n",
       "        text-align: right;\n",
       "    }\n",
       "</style>\n",
       "<table border=\"1\" class=\"dataframe\">\n",
       "  <thead>\n",
       "    <tr style=\"text-align: right;\">\n",
       "      <th></th>\n",
       "      <th>age</th>\n",
       "      <th>sex</th>\n",
       "      <th>bmi</th>\n",
       "      <th>children</th>\n",
       "      <th>smoker</th>\n",
       "      <th>region</th>\n",
       "      <th>charges</th>\n",
       "    </tr>\n",
       "  </thead>\n",
       "  <tbody>\n",
       "    <tr>\n",
       "      <th>0</th>\n",
       "      <td>19</td>\n",
       "      <td>female</td>\n",
       "      <td>27.900</td>\n",
       "      <td>0</td>\n",
       "      <td>yes</td>\n",
       "      <td>southwest</td>\n",
       "      <td>16884.92400</td>\n",
       "    </tr>\n",
       "    <tr>\n",
       "      <th>1</th>\n",
       "      <td>18</td>\n",
       "      <td>male</td>\n",
       "      <td>33.770</td>\n",
       "      <td>1</td>\n",
       "      <td>no</td>\n",
       "      <td>southeast</td>\n",
       "      <td>1725.55230</td>\n",
       "    </tr>\n",
       "    <tr>\n",
       "      <th>2</th>\n",
       "      <td>28</td>\n",
       "      <td>male</td>\n",
       "      <td>33.000</td>\n",
       "      <td>3</td>\n",
       "      <td>no</td>\n",
       "      <td>southeast</td>\n",
       "      <td>4449.46200</td>\n",
       "    </tr>\n",
       "    <tr>\n",
       "      <th>3</th>\n",
       "      <td>33</td>\n",
       "      <td>male</td>\n",
       "      <td>22.705</td>\n",
       "      <td>0</td>\n",
       "      <td>no</td>\n",
       "      <td>northwest</td>\n",
       "      <td>21984.47061</td>\n",
       "    </tr>\n",
       "    <tr>\n",
       "      <th>4</th>\n",
       "      <td>32</td>\n",
       "      <td>male</td>\n",
       "      <td>28.880</td>\n",
       "      <td>0</td>\n",
       "      <td>no</td>\n",
       "      <td>northwest</td>\n",
       "      <td>3866.85520</td>\n",
       "    </tr>\n",
       "  </tbody>\n",
       "</table>\n",
       "</div>"
      ],
      "text/plain": [
       "   age     sex     bmi  children smoker     region      charges\n",
       "0   19  female  27.900         0    yes  southwest  16884.92400\n",
       "1   18    male  33.770         1     no  southeast   1725.55230\n",
       "2   28    male  33.000         3     no  southeast   4449.46200\n",
       "3   33    male  22.705         0     no  northwest  21984.47061\n",
       "4   32    male  28.880         0     no  northwest   3866.85520"
      ]
     },
     "execution_count": 2,
     "metadata": {},
     "output_type": "execute_result"
    }
   ],
   "source": [
    "# 2 Get data from file path\n",
    "\n",
    "data = pd.read_excel(myfolder / \"insurance.xlsx\", sheet_name=\"ins_unchanged\")\n",
    "\n",
    "data.head()"
   ]
  },
  {
   "cell_type": "code",
   "execution_count": 4,
   "metadata": {},
   "outputs": [
    {
     "data": {
      "text/html": [
       "<div>\n",
       "<style scoped>\n",
       "    .dataframe tbody tr th:only-of-type {\n",
       "        vertical-align: middle;\n",
       "    }\n",
       "\n",
       "    .dataframe tbody tr th {\n",
       "        vertical-align: top;\n",
       "    }\n",
       "\n",
       "    .dataframe thead th {\n",
       "        text-align: right;\n",
       "    }\n",
       "</style>\n",
       "<table border=\"1\" class=\"dataframe\">\n",
       "  <thead>\n",
       "    <tr style=\"text-align: right;\">\n",
       "      <th></th>\n",
       "      <th>age</th>\n",
       "      <th>sex</th>\n",
       "      <th>bmi</th>\n",
       "      <th>children</th>\n",
       "      <th>smoker</th>\n",
       "      <th>region</th>\n",
       "    </tr>\n",
       "  </thead>\n",
       "  <tbody>\n",
       "    <tr>\n",
       "      <th>0</th>\n",
       "      <td>19</td>\n",
       "      <td>female</td>\n",
       "      <td>27.900</td>\n",
       "      <td>0</td>\n",
       "      <td>yes</td>\n",
       "      <td>southwest</td>\n",
       "    </tr>\n",
       "    <tr>\n",
       "      <th>1</th>\n",
       "      <td>18</td>\n",
       "      <td>male</td>\n",
       "      <td>33.770</td>\n",
       "      <td>1</td>\n",
       "      <td>no</td>\n",
       "      <td>southeast</td>\n",
       "    </tr>\n",
       "    <tr>\n",
       "      <th>2</th>\n",
       "      <td>28</td>\n",
       "      <td>male</td>\n",
       "      <td>33.000</td>\n",
       "      <td>3</td>\n",
       "      <td>no</td>\n",
       "      <td>southeast</td>\n",
       "    </tr>\n",
       "    <tr>\n",
       "      <th>3</th>\n",
       "      <td>33</td>\n",
       "      <td>male</td>\n",
       "      <td>22.705</td>\n",
       "      <td>0</td>\n",
       "      <td>no</td>\n",
       "      <td>northwest</td>\n",
       "    </tr>\n",
       "    <tr>\n",
       "      <th>4</th>\n",
       "      <td>32</td>\n",
       "      <td>male</td>\n",
       "      <td>28.880</td>\n",
       "      <td>0</td>\n",
       "      <td>no</td>\n",
       "      <td>northwest</td>\n",
       "    </tr>\n",
       "  </tbody>\n",
       "</table>\n",
       "</div>"
      ],
      "text/plain": [
       "   age     sex     bmi  children smoker     region\n",
       "0   19  female  27.900         0    yes  southwest\n",
       "1   18    male  33.770         1     no  southeast\n",
       "2   28    male  33.000         3     no  southeast\n",
       "3   33    male  22.705         0     no  northwest\n",
       "4   32    male  28.880         0     no  northwest"
      ]
     },
     "execution_count": 4,
     "metadata": {},
     "output_type": "execute_result"
    }
   ],
   "source": [
    "# X / y split (this will retain the data in dataframe)\n",
    "target_column = [\"charges\"]\n",
    "X  = data.drop(target_column, axis=1)\n",
    "y  = data[target_column].copy()\n",
    "\n",
    "X.head()"
   ]
  },
  {
   "cell_type": "code",
   "execution_count": 3,
   "metadata": {
    "scrolled": false
   },
   "outputs": [
    {
     "data": {
      "text/plain": [
       "<AxesSubplot:>"
      ]
     },
     "execution_count": 3,
     "metadata": {},
     "output_type": "execute_result"
    },
    {
     "data": {
      "image/png": "[encoded data removed]",
      "text/plain": [
       "<Figure size 576x432 with 2 Axes>"
      ]
     },
     "metadata": {
      "needs_background": "light"
     },
     "output_type": "display_data"
    }
   ],
   "source": [
    "# 3 exlore data\n",
    "\n",
    "# correlation matrix with formating\n",
    "# control size,labels\n",
    "rcParams['figure.figsize'] = 8,6\n",
    "sns.heatmap(data.corr(), annot=True,cmap ='RdYlGn')"
   ]
  },
  {
   "cell_type": "code",
   "execution_count": 6,
   "metadata": {},
   "outputs": [
    {
     "name": "stdout",
     "output_type": "stream",
     "text": [
      "Features to be standardized: ['age', 'bmi', 'children']\n",
      "Features to be ordinalencoded: ['sex', 'smoker', 'region']\n"
     ]
    }
   ],
   "source": [
    "num_std_features = list(X.select_dtypes(include=['int64', 'float64']).columns.values)\n",
    "cat_ore_features = list(X.select_dtypes(include=['object', 'category','bool']).columns.values)\n",
    "\n",
    "print(\"Features to be standardized:\", num_std_features,)\n",
    "print(\"Features to be ordinalencoded:\", cat_ore_features,)"
   ]
  },
  {
   "cell_type": "code",
   "execution_count": 7,
   "metadata": {},
   "outputs": [],
   "source": [
    "# Preprocessor\n",
    "\n",
    "preprocessor = ColumnTransformer(transformers=[\n",
    "                    ('numTran',StandardScaler(),num_std_features),\n",
    "                    ('catTran',OrdinalEncoder(),cat_ore_features)\n",
    "                    ])"
   ]
  },
  {
   "cell_type": "code",
   "execution_count": 8,
   "metadata": {},
   "outputs": [],
   "source": [
    "# Splitting Train/Test for holdout/LOO\n",
    "from sklearn.model_selection import train_test_split\n",
    "X_train0, X_test0, y_train, y_test = train_test_split(X, y, test_size = 0.2)"
   ]
  },
  {
   "cell_type": "code",
   "execution_count": 9,
   "metadata": {},
   "outputs": [
    {
     "data": {
      "text/plain": [
       "array([ 0.69703804, -0.59223727, -0.07049671,  0.        ,  0.        ,\n",
       "        3.        ])"
      ]
     },
     "execution_count": 9,
     "metadata": {},
     "output_type": "execute_result"
    }
   ],
   "source": [
    "# Scale data\n",
    "\n",
    "X_train = preprocessor.fit_transform(X_train0)\n",
    "X_test = preprocessor.fit_transform(X_test0)\n",
    "\n",
    "X_train[0]"
   ]
  },
  {
   "cell_type": "code",
   "execution_count": 10,
   "metadata": {},
   "outputs": [],
   "source": [
    "# More Libs\n",
    "\n",
    "# model libs\n",
    "from sklearn.neighbors import KNeighborsRegressor\n",
    "from sklearn.ensemble import  RandomForestRegressor\n",
    "from sklearn.linear_model import LinearRegression\n",
    "from sklearn.ensemble import  GradientBoostingRegressor\n",
    "from sklearn.linear_model import  Ridge\n",
    "from sklearn.svm import SVR\n",
    "import warnings\n",
    "warnings.filterwarnings(\"ignore\", category=DeprecationWarning)\n",
    "\n",
    "from sklearn.exceptions import DataConversionWarning\n",
    "warnings.filterwarnings(action='ignore', category=DataConversionWarning)\n",
    "\n",
    "# CV/kfold libs\n",
    "from sklearn.model_selection import cross_val_score, KFold"
   ]
  },
  {
   "cell_type": "code",
   "execution_count": 21,
   "metadata": {},
   "outputs": [
    {
     "name": "stdout",
     "output_type": "stream",
     "text": [
      "LinReg Intercept:      8911.95\n",
      "LinReg Coefficient(s):  [[ 3566.08276722  1850.53217738   690.44495643   -28.25543441\n",
      "  24048.20500576  -321.55801784]]\n",
      "perfecto\n"
     ]
    }
   ],
   "source": [
    "# Evaluation for Regression Tasks\n",
    "\n",
    "from sklearn.metrics import r2_score\n",
    "from sklearn.metrics import mean_squared_error, mean_absolute_error\n",
    "\n",
    "\n",
    "models = [LinearRegression(),KNeighborsRegressor(),SVR(),RandomForestRegressor(),GradientBoostingRegressor(),Ridge()]\n",
    "names  = ['Lin','KNN', 'SVR', 'RAF','GBR','Rid']\n",
    "\n",
    "R2 = []\n",
    "RMSE = []\n",
    "RMSE_CV = []\n",
    "MAE = []\n",
    "Acc_Train = []\n",
    "Acc_Test = []\n",
    "RMSE_CV = []\n",
    "RMSE_CV_sdv=[]\n",
    "\n",
    "for model,name in zip(models,names):\n",
    "    \n",
    "    model.fit(X_train, y_train)\n",
    "    y_pred = model.predict(X_test)\n",
    "    \n",
    "    R2.append(\"%.4f\" % r2_score(y_test,y_pred))\n",
    "    mse = mean_squared_error(y_test,y_pred)\n",
    "    RMSE.append(\"%.4f\" % np.sqrt(mse))\n",
    "    MAE.append( \"%.4f\" % mean_absolute_error(y_test, y_pred))\n",
    "    Acc_Train.append(\"%.4f\" % model.score(X_train, y_train))\n",
    "    Acc_Test.append(\"%.4f\" % model.score(X_test, y_test))\n",
    "\n",
    "    # CV scores\n",
    "    scores = cross_val_score(model, X_train, y_train, scoring=\"neg_mean_squared_error\", cv=5)\n",
    "    rmse_scores = np.sqrt(-scores)\n",
    "    RMSE_CV.append(\"%.4f\" % rmse_scores.mean())\n",
    "    RMSE_CV_sdv.append(\"%.4f\" % rmse_scores.std())\n",
    "    \n",
    "    if name == \"Lin\":\n",
    "        print(\"LinReg Intercept:     \", \"%.2f\" % model.intercept_)\n",
    "        print(\"LinReg Coefficient(s): \", model.coef_)     \n",
    "\n",
    "# Round based on sigfigs (automate this if you can)\n",
    "# Check for other metrics: fit of train/test - indicates overfit/underfit\n",
    "'''\n",
    "print(names)\n",
    "print(R2)\n",
    "print(RMSE)\n",
    "print(MAE)\n",
    "print(Acc_Train)\n",
    "print(Acc_Test)\n",
    "'''\n",
    "print('perfecto')"
   ]
  },
  {
   "cell_type": "code",
   "execution_count": 22,
   "metadata": {},
   "outputs": [
    {
     "data": {
      "text/html": [
       "<div>\n",
       "<style scoped>\n",
       "    .dataframe tbody tr th:only-of-type {\n",
       "        vertical-align: middle;\n",
       "    }\n",
       "\n",
       "    .dataframe tbody tr th {\n",
       "        vertical-align: top;\n",
       "    }\n",
       "\n",
       "    .dataframe thead th {\n",
       "        text-align: right;\n",
       "    }\n",
       "</style>\n",
       "<table border=\"1\" class=\"dataframe\">\n",
       "  <thead>\n",
       "    <tr style=\"text-align: right;\">\n",
       "      <th></th>\n",
       "      <th>Lin</th>\n",
       "      <th>KNN</th>\n",
       "      <th>SVR</th>\n",
       "      <th>RAF</th>\n",
       "      <th>GBR</th>\n",
       "      <th>Rid</th>\n",
       "    </tr>\n",
       "  </thead>\n",
       "  <tbody>\n",
       "    <tr>\n",
       "      <th>R2</th>\n",
       "      <td>0.7532</td>\n",
       "      <td>0.6422</td>\n",
       "      <td>-0.0871</td>\n",
       "      <td>0.8291</td>\n",
       "      <td>0.8548</td>\n",
       "      <td>0.7535</td>\n",
       "    </tr>\n",
       "    <tr>\n",
       "      <th>RMSE</th>\n",
       "      <td>6065.9745</td>\n",
       "      <td>7303.1885</td>\n",
       "      <td>12729.9452</td>\n",
       "      <td>5047.6413</td>\n",
       "      <td>4652.5421</td>\n",
       "      <td>6062.1637</td>\n",
       "    </tr>\n",
       "    <tr>\n",
       "      <th>MAE</th>\n",
       "      <td>4116.3619</td>\n",
       "      <td>4120.1005</td>\n",
       "      <td>8324.0195</td>\n",
       "      <td>2716.0437</td>\n",
       "      <td>2557.5764</td>\n",
       "      <td>4125.8337</td>\n",
       "    </tr>\n",
       "    <tr>\n",
       "      <th>Acc_Train</th>\n",
       "      <td>0.7494</td>\n",
       "      <td>0.8241</td>\n",
       "      <td>-0.1049</td>\n",
       "      <td>0.9761</td>\n",
       "      <td>0.9041</td>\n",
       "      <td>0.7494</td>\n",
       "    </tr>\n",
       "    <tr>\n",
       "      <th>Acc_Test</th>\n",
       "      <td>0.7532</td>\n",
       "      <td>0.6422</td>\n",
       "      <td>-0.0871</td>\n",
       "      <td>0.8291</td>\n",
       "      <td>0.8548</td>\n",
       "      <td>0.7535</td>\n",
       "    </tr>\n",
       "    <tr>\n",
       "      <th>RMSE_CV</th>\n",
       "      <td>6075.2075</td>\n",
       "      <td>6826.1966</td>\n",
       "      <td>12681.8782</td>\n",
       "      <td>4833.3836</td>\n",
       "      <td>4579.9290</td>\n",
       "      <td>6075.9722</td>\n",
       "    </tr>\n",
       "    <tr>\n",
       "      <th>RMSE_CV_sdv</th>\n",
       "      <td>438.5926</td>\n",
       "      <td>247.0830</td>\n",
       "      <td>707.2552</td>\n",
       "      <td>438.1609</td>\n",
       "      <td>422.8619</td>\n",
       "      <td>433.0421</td>\n",
       "    </tr>\n",
       "  </tbody>\n",
       "</table>\n",
       "</div>"
      ],
      "text/plain": [
       "                   Lin        KNN         SVR        RAF        GBR        Rid\n",
       "R2              0.7532     0.6422     -0.0871     0.8291     0.8548     0.7535\n",
       "RMSE         6065.9745  7303.1885  12729.9452  5047.6413  4652.5421  6062.1637\n",
       "MAE          4116.3619  4120.1005   8324.0195  2716.0437  2557.5764  4125.8337\n",
       "Acc_Train       0.7494     0.8241     -0.1049     0.9761     0.9041     0.7494\n",
       "Acc_Test        0.7532     0.6422     -0.0871     0.8291     0.8548     0.7535\n",
       "RMSE_CV      6075.2075  6826.1966  12681.8782  4833.3836  4579.9290  6075.9722\n",
       "RMSE_CV_sdv   438.5926   247.0830    707.2552   438.1609   422.8619   433.0421"
      ]
     },
     "execution_count": 22,
     "metadata": {},
     "output_type": "execute_result"
    }
   ],
   "source": [
    "# Getting evaluation data into evaluation table\n",
    "\n",
    "\n",
    "C = pd.DataFrame({'R2':R2,'RMSE':RMSE,'MAE':MAE,'Acc_Train':Acc_Train,'Acc_Test':Acc_Test,'RMSE_CV':RMSE_CV,'RMSE_CV_sdv':RMSE_CV_sdv})\n",
    "\n",
    "C = C.T\n",
    "C.columns = names\n",
    "C\n",
    "\n",
    "# Have RMSE/MAE by correct sig figs\n",
    "# add column with average of R2,\n",
    "# get best estimator (column name of max value of numbers in row)"
   ]
  },
  {
   "cell_type": "code",
   "execution_count": 25,
   "metadata": {},
   "outputs": [
    {
     "name": "stdout",
     "output_type": "stream",
     "text": [
      "LinReg Intercept:        8911.95\n",
      "LinReg Coefficient(s):   [[ 3566.08276722  1850.53217738   690.44495643   -28.25543441\n",
      "  24048.20500576  -321.55801784]]\n"
     ]
    }
   ],
   "source": [
    "# Linear Regression Coefficients\n",
    "\n",
    "reg_lin = LinearRegression().fit(X_train,y_train)\n",
    "\n",
    "print(\"LinReg Intercept:       \", \"%.2f\" % reg_lin.intercept_)\n",
    "print(\"LinReg Coefficient(s):  \", reg_lin.coef_) "
   ]
  },
  {
   "cell_type": "code",
   "execution_count": null,
   "metadata": {},
   "outputs": [],
   "source": [
    "# Further\n",
    "\n",
    "try bagging & adaboost on Random Forest to see if overfitting can be fixed"
   ]
  }
 ],
 "metadata": {
  "kernelspec": {
   "display_name": "Python 3",
   "language": "python",
   "name": "python3"
  },
  "language_info": {
   "codemirror_mode": {
    "name": "ipython",
    "version": 3
   },
   "file_extension": ".py",
   "mimetype": "text/x-python",
   "name": "python",
   "nbconvert_exporter": "python",
   "pygments_lexer": "ipython3",
   "version": "3.8.5"
  }
 },
 "nbformat": 4,
 "nbformat_minor": 2
}
