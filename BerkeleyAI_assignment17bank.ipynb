{
 "cells": [
  {
   "cell_type": "markdown",
   "metadata": {},
   "source": [
    "# Bank Marketing Data"
   ]
  },
  {
   "cell_type": "markdown",
   "metadata": {},
   "source": [
    "### SECTION A - INTRODUCTION"
   ]
  },
  {
   "cell_type": "code",
   "execution_count": null,
   "metadata": {},
   "outputs": [],
   "source": []
  },
  {
   "cell_type": "code",
   "execution_count": null,
   "metadata": {},
   "outputs": [],
   "source": []
  },
  {
   "cell_type": "markdown",
   "metadata": {},
   "source": [
    "### SECTION B - LIBRARIES"
   ]
  },
  {
   "cell_type": "code",
   "execution_count": 1,
   "metadata": {},
   "outputs": [],
   "source": [
    "# Libs\n",
    "\n",
    "# data structures\n",
    "import pandas as pd\n",
    "import numpy as np\n",
    "\n",
    "# zSrv\n",
    "# my custom functions\n",
    "from ipynb.fs.full.Anchana_version2_functions import numvis_pipe, preproc, evalR, evalC, run_pca\n",
    "# my folder path\n",
    "from pathlib import Path\n",
    "myfolder = Path(\"C:/Users/pdpc/Documents/MLfiles/Data/\")\n",
    "\n",
    "# graphs\n",
    "import seaborn as sns\n",
    "from pylab import rcParams\n",
    "import matplotlib.pyplot as plt\n",
    "%matplotlib inline\n",
    "\n",
    "import plotly.express as px\n",
    "import plotly.io as pio\n",
    "pio.renderers.default = 'notebook'\n",
    "\n",
    "# train/test split\n",
    "from sklearn.model_selection import train_test_split\n",
    "\n",
    "# supress warning\n",
    "import warnings\n",
    "from sklearn.exceptions import DataConversionWarning, ConvergenceWarning\n",
    "warnings.filterwarnings(action='ignore', category=DataConversionWarning)\n",
    "warnings.filterwarnings(action='ignore', category=ConvergenceWarning)\n",
    "\n",
    "import warnings\n",
    "warnings.filterwarnings(\"ignore\")\n",
    "from sklearn.exceptions import FitFailedWarning \n",
    "\n",
    "# time function for timing program run\n",
    "import time\n",
    "\n",
    "# patch for overcoming 'float' error in nump 24.1v\n",
    "np.float = float    \n",
    "np.int = int   #module 'numpy' has no attribute 'int'\n",
    "np.object = object    #module 'numpy' has no attribute 'object'\n",
    "np.bool = bool    #module 'numpy' has no attribute 'bool'\n",
    "\n",
    "# Classifier models\n",
    "from sklearn.linear_model import LogisticRegression\n",
    "from sklearn.neighbors import KNeighborsClassifier\n",
    "from sklearn.svm import SVC\n",
    "from sklearn.tree import DecisionTreeClassifier\n",
    "from sklearn.ensemble import RandomForestClassifier, AdaBoostClassifier, ExtraTreesClassifier, GradientBoostingClassifier\n",
    "from sklearn.neural_network import MLPClassifier\n",
    "from sklearn.discriminant_analysis import LinearDiscriminantAnalysis\n",
    "\n",
    "# ColTransf / Pipeline / GridSearch\n",
    "from sklearn.impute import SimpleImputer\n",
    "from sklearn.preprocessing import StandardScaler, MinMaxScaler, OrdinalEncoder, LabelEncoder\n",
    "from sklearn.compose import ColumnTransformer\n",
    "from sklearn.pipeline import Pipeline\n",
    "from sklearn.model_selection import GridSearchCV\n",
    "\n",
    "# Evaluation\n",
    "\n",
    "from sklearn.metrics import roc_auc_score, recall_score, f1_score, accuracy_score\n",
    "from sklearn.metrics import precision_recall_fscore_support as score\n",
    "\n",
    "from sklearn.metrics import classification_report, accuracy_score, ConfusionMatrixDisplay\n"
   ]
  },
  {
   "cell_type": "markdown",
   "metadata": {},
   "source": [
    "### Sravan Katragadda's custom functions\n",
    "\n",
    "Over the past years of enthusiastically learning Machine Learning through self-learning and courses,\n",
    "\n",
    "I developed the below custom functions which I recurrently use in my Machine Learning methodologies & problem solving."
   ]
  },
  {
   "cell_type": "code",
   "execution_count": 3,
   "metadata": {},
   "outputs": [],
   "source": [
    "# Visualizing Classses of Data in 2D using PCA\n",
    "\n",
    "def visualize_classes_in_pca(X,y):\n",
    "    \n",
    "    scaled_X = preprocessX(X)\n",
    "    LE = LabelEncoder()\n",
    "    scaled_y = LE.fit_transform(y)\n",
    "    z = LE.classes_\n",
    "\n",
    "    pca = PCA(n_components=2)\n",
    "    X_reducedfeatures = pca.fit_transform(scaled_X)\n",
    "\n",
    "    # Plotting in PCA Dimensions\n",
    "    plt.figure(figsize=(10,8))\n",
    "    plt.scatter(X_reducedfeatures[:,0],X_reducedfeatures[:,1], s = 8, c=scaled_y, label=z)\n",
    "    plt.xlabel('First principle component')\n",
    "    plt.ylabel('Second principle component')\n",
    "    plt.title('Classes Visualization in 2D-PCA')\n",
    "    plt.legend()\n",
    "    \n",
    "    # Evaluating PCA\n",
    "    print(\"Preserved variance is: \", \"%.2f\" % (np.sum(pca.explained_variance_ratio_) * 100),\"%\")\n",
    "    print(\"PCA features:          \", pca.explained_variance_ratio_)"
   ]
  },
  {
   "cell_type": "code",
   "execution_count": 4,
   "metadata": {},
   "outputs": [],
   "source": [
    "# my custom function to remove the null values, duplicate values and outliers (using IQR method)\n",
    "\n",
    "def datacleaner(df):\n",
    "    \n",
    "    # dataset size before clean up\n",
    "    pre_size = df.shape[0]\n",
    "    \n",
    "    # Removing rows with null values\n",
    "    df.dropna(inplace=True)\n",
    "    \n",
    "    # Removing duplicate rows\n",
    "    df.drop_duplicates(keep='first', inplace=True)\n",
    "    \n",
    "    for col in df.select_dtypes(include='number'):\n",
    "        q1 = df[col].quantile(0.25)\n",
    "        q3 = df[col].quantile(0.75)\n",
    "        iqr = q3 - q1\n",
    "        lower_bound = q1 - 1.5 * iqr\n",
    "        upper_bound = q3 + 1.5 * iqr\n",
    "        df_out = df[(df[col] >= lower_bound) & (df[col] <= upper_bound)]\n",
    "    \n",
    "    # dataset size after clean up\n",
    "    post_size = df_out.shape[0]\n",
    "    \n",
    "    print('Data Retention after clean up:' , \"%.2f\" % (post_size / pre_size * 100) , '%')\n",
    "    print('Data lost in clean up        :' , \"%.2f\" % (100-(post_size / pre_size * 100)) , '%')\n",
    "    return df_out  "
   ]
  },
  {
   "cell_type": "code",
   "execution_count": 5,
   "metadata": {},
   "outputs": [],
   "source": [
    "# My custom function for Preprocessing X\n",
    "\n",
    "def preprocessX(A):\n",
    "    \n",
    "    # features\n",
    "    num_all_features = list(A.select_dtypes(include=['int64', 'float64']).columns.values)\n",
    "    cat_all_features = list(A.select_dtypes(include=['object', 'category','bool']).columns.values)\n",
    "\n",
    "    # Numerical Transformation\n",
    "    num_transform = Pipeline (steps=[\n",
    "                    ('imp', SimpleImputer(strategy='median')),\n",
    "                    ('mms', MinMaxScaler())\n",
    "                    ])\n",
    "\n",
    "    # Categorical Operations\n",
    "    cat_transform = Pipeline (steps=[\n",
    "                    ('imp', SimpleImputer(strategy='constant',fill_value='missing')),\n",
    "                    ('ore', OrdinalEncoder())\n",
    "                    ])\n",
    "\n",
    "    # Column Transformer (CT)\n",
    "    preprocessor = ColumnTransformer(transformers=[\n",
    "                    ('num_tran', num_transform, num_all_features),\n",
    "                    ('cat_tran', cat_transform, cat_all_features),\n",
    "                    ])\n",
    "    \n",
    "    B = preprocessor.fit_transform(A)\n",
    "    \n",
    "    return(B)"
   ]
  },
  {
   "cell_type": "code",
   "execution_count": 15,
   "metadata": {},
   "outputs": [],
   "source": [
    "# my custom function for running multiple classifier models\n",
    "\n",
    "def evalC(X,y):         \n",
    "    \n",
    "    # train/test split\n",
    "    X_train, X_test, y_train, y_test = train_test_split(X, y, test_size = 0.2)\n",
    "    \n",
    "    models = [LogisticRegression(),\n",
    "              KNeighborsClassifier(),\n",
    "              GradientBoostingClassifier(),\n",
    "              SVC(),\n",
    "              DecisionTreeClassifier(),\n",
    "              RandomForestClassifier(),\n",
    "              AdaBoostClassifier(DecisionTreeClassifier()),\n",
    "              ExtraTreesClassifier(),\n",
    "              MLPClassifier(),\n",
    "              LinearDiscriminantAnalysis()]\n",
    "                   \n",
    "    names  = ['LOG','KNN','GBC','SVC','DEC','RAF','ABC','ETC','MLP','LDA']\n",
    "\n",
    "    precision = []\n",
    "    recall = []\n",
    "    f1 = []\n",
    "    acc_train = []\n",
    "    acc_test  = []\n",
    "    \n",
    "    for model,name in zip(models,names):\n",
    "        model.fit(X_train, y_train)\n",
    "        y_pred = model.predict(X_test)\n",
    "        \n",
    "        precision_calc,recall_calc,f1score_calc,support_calc=score(y_test,y_pred,average='macro')\n",
    "        precision.append(\"%.4f\" % precision_calc)\n",
    "        recall.append(\"%.4f\" % recall_calc)\n",
    "        f1.append(\"%.4f\" % f1score_calc)\n",
    "        \n",
    "        acc_train.append(\"%.4f\" % model.score(X_train, y_train))\n",
    "        acc_test.append(\"%.4f\" % model.score(X_test, y_test))  \n",
    "                     \n",
    "    # Getting results of Evaluation into a DF\n",
    "    df_eval = pd.DataFrame({'precision':precision,'recall':recall,'f1':f1,'acc_train':acc_train,'acc_test':acc_test})\n",
    "    df_eval = df_eval.T\n",
    "    df_eval.columns = names\n",
    "    return(df_eval)"
   ]
  },
  {
   "cell_type": "code",
   "execution_count": null,
   "metadata": {},
   "outputs": [],
   "source": []
  },
  {
   "cell_type": "markdown",
   "metadata": {},
   "source": [
    "### SECTION C - THE DATA"
   ]
  },
  {
   "cell_type": "code",
   "execution_count": 6,
   "metadata": {},
   "outputs": [
    {
     "data": {
      "text/html": [
       "<div>\n",
       "<style scoped>\n",
       "    .dataframe tbody tr th:only-of-type {\n",
       "        vertical-align: middle;\n",
       "    }\n",
       "\n",
       "    .dataframe tbody tr th {\n",
       "        vertical-align: top;\n",
       "    }\n",
       "\n",
       "    .dataframe thead th {\n",
       "        text-align: right;\n",
       "    }\n",
       "</style>\n",
       "<table border=\"1\" class=\"dataframe\">\n",
       "  <thead>\n",
       "    <tr style=\"text-align: right;\">\n",
       "      <th></th>\n",
       "      <th>age</th>\n",
       "      <th>job</th>\n",
       "      <th>marital</th>\n",
       "      <th>education</th>\n",
       "      <th>default</th>\n",
       "      <th>balance</th>\n",
       "      <th>housing</th>\n",
       "      <th>loan</th>\n",
       "      <th>contact</th>\n",
       "      <th>day</th>\n",
       "      <th>month</th>\n",
       "      <th>duration</th>\n",
       "      <th>campaign</th>\n",
       "      <th>pdays</th>\n",
       "      <th>previous</th>\n",
       "      <th>poutcome</th>\n",
       "      <th>y</th>\n",
       "    </tr>\n",
       "  </thead>\n",
       "  <tbody>\n",
       "    <tr>\n",
       "      <th>0</th>\n",
       "      <td>58</td>\n",
       "      <td>management</td>\n",
       "      <td>married</td>\n",
       "      <td>tertiary</td>\n",
       "      <td>no</td>\n",
       "      <td>2143</td>\n",
       "      <td>yes</td>\n",
       "      <td>no</td>\n",
       "      <td>unknown</td>\n",
       "      <td>5</td>\n",
       "      <td>may</td>\n",
       "      <td>261</td>\n",
       "      <td>1</td>\n",
       "      <td>-1</td>\n",
       "      <td>0</td>\n",
       "      <td>unknown</td>\n",
       "      <td>no</td>\n",
       "    </tr>\n",
       "    <tr>\n",
       "      <th>1</th>\n",
       "      <td>44</td>\n",
       "      <td>technician</td>\n",
       "      <td>single</td>\n",
       "      <td>secondary</td>\n",
       "      <td>no</td>\n",
       "      <td>29</td>\n",
       "      <td>yes</td>\n",
       "      <td>no</td>\n",
       "      <td>unknown</td>\n",
       "      <td>5</td>\n",
       "      <td>may</td>\n",
       "      <td>151</td>\n",
       "      <td>1</td>\n",
       "      <td>-1</td>\n",
       "      <td>0</td>\n",
       "      <td>unknown</td>\n",
       "      <td>no</td>\n",
       "    </tr>\n",
       "    <tr>\n",
       "      <th>2</th>\n",
       "      <td>33</td>\n",
       "      <td>entrepreneur</td>\n",
       "      <td>married</td>\n",
       "      <td>secondary</td>\n",
       "      <td>no</td>\n",
       "      <td>2</td>\n",
       "      <td>yes</td>\n",
       "      <td>yes</td>\n",
       "      <td>unknown</td>\n",
       "      <td>5</td>\n",
       "      <td>may</td>\n",
       "      <td>76</td>\n",
       "      <td>1</td>\n",
       "      <td>-1</td>\n",
       "      <td>0</td>\n",
       "      <td>unknown</td>\n",
       "      <td>no</td>\n",
       "    </tr>\n",
       "    <tr>\n",
       "      <th>3</th>\n",
       "      <td>47</td>\n",
       "      <td>blue-collar</td>\n",
       "      <td>married</td>\n",
       "      <td>unknown</td>\n",
       "      <td>no</td>\n",
       "      <td>1506</td>\n",
       "      <td>yes</td>\n",
       "      <td>no</td>\n",
       "      <td>unknown</td>\n",
       "      <td>5</td>\n",
       "      <td>may</td>\n",
       "      <td>92</td>\n",
       "      <td>1</td>\n",
       "      <td>-1</td>\n",
       "      <td>0</td>\n",
       "      <td>unknown</td>\n",
       "      <td>no</td>\n",
       "    </tr>\n",
       "    <tr>\n",
       "      <th>4</th>\n",
       "      <td>33</td>\n",
       "      <td>unknown</td>\n",
       "      <td>single</td>\n",
       "      <td>unknown</td>\n",
       "      <td>no</td>\n",
       "      <td>1</td>\n",
       "      <td>no</td>\n",
       "      <td>no</td>\n",
       "      <td>unknown</td>\n",
       "      <td>5</td>\n",
       "      <td>may</td>\n",
       "      <td>198</td>\n",
       "      <td>1</td>\n",
       "      <td>-1</td>\n",
       "      <td>0</td>\n",
       "      <td>unknown</td>\n",
       "      <td>no</td>\n",
       "    </tr>\n",
       "  </tbody>\n",
       "</table>\n",
       "</div>"
      ],
      "text/plain": [
       "   age           job  marital  education default  balance housing loan  \\\n",
       "0   58    management  married   tertiary      no     2143     yes   no   \n",
       "1   44    technician   single  secondary      no       29     yes   no   \n",
       "2   33  entrepreneur  married  secondary      no        2     yes  yes   \n",
       "3   47   blue-collar  married    unknown      no     1506     yes   no   \n",
       "4   33       unknown   single    unknown      no        1      no   no   \n",
       "\n",
       "   contact  day month  duration  campaign  pdays  previous poutcome   y  \n",
       "0  unknown    5   may       261         1     -1         0  unknown  no  \n",
       "1  unknown    5   may       151         1     -1         0  unknown  no  \n",
       "2  unknown    5   may        76         1     -1         0  unknown  no  \n",
       "3  unknown    5   may        92         1     -1         0  unknown  no  \n",
       "4  unknown    5   may       198         1     -1         0  unknown  no  "
      ]
     },
     "execution_count": 6,
     "metadata": {},
     "output_type": "execute_result"
    }
   ],
   "source": [
    "# Data\n",
    "\n",
    "BerkAIdatafolder = Path(\"C:/Users/pdpc/Documents/MLfiles/Data/berkAIdata/\")\n",
    "\n",
    "data = pd.read_csv(BerkAIdatafolder / 'portugese bank data.csv')\n",
    "\n",
    "data.head()"
   ]
  },
  {
   "cell_type": "code",
   "execution_count": 7,
   "metadata": {},
   "outputs": [
    {
     "name": "stdout",
     "output_type": "stream",
     "text": [
      "BANK MARKETING DATA\n",
      "Dataset shape:   (45211, 17)\n",
      "Dataset size:    768587\n",
      "Null rows:       0\n",
      "Duplicate rows:  0\n",
      "# of columns with numerical features  :    7\n",
      "# of columns with categorical features:    10\n"
     ]
    }
   ],
   "source": [
    "# Quick Look at Data\n",
    "\n",
    "print('BANK MARKETING DATA')\n",
    "print(\"Dataset shape:  \",data.shape)\n",
    "print(\"Dataset size:   \",data.size)\n",
    "print(\"Null rows:      \",data.isnull().any(axis=1).sum())\n",
    "print(\"Duplicate rows: \",data.duplicated().sum())\n",
    "print(\"# of columns with numerical features  :   \",len(data.select_dtypes(include=['int64', 'float64']).columns.values))\n",
    "print(\"# of columns with categorical features:   \",len(data.select_dtypes(include=['object', 'category']).columns.values))"
   ]
  },
  {
   "cell_type": "code",
   "execution_count": 8,
   "metadata": {},
   "outputs": [
    {
     "data": {
      "text/plain": [
       "age           487\n",
       "balance      4729\n",
       "campaign     3064\n",
       "contact         0\n",
       "day             0\n",
       "default         0\n",
       "duration     3235\n",
       "education       0\n",
       "housing         0\n",
       "job             0\n",
       "loan            0\n",
       "marital         0\n",
       "month           0\n",
       "pdays        8257\n",
       "poutcome        0\n",
       "previous     8257\n",
       "y               0\n",
       "dtype: int64"
      ]
     },
     "execution_count": 8,
     "metadata": {},
     "output_type": "execute_result"
    }
   ],
   "source": [
    "# Lets count the Outliers per column in the data:\n",
    "\n",
    "Q1 = data.quantile(0.25)\n",
    "Q3 = data.quantile(0.75)\n",
    "IQR = Q3 - Q1\n",
    "((data < (Q1 - 1.5 * IQR)) | (data > (Q3 + 1.5 * IQR))).sum()"
   ]
  },
  {
   "cell_type": "code",
   "execution_count": 68,
   "metadata": {},
   "outputs": [
    {
     "data": {
      "text/plain": [
       "<AxesSubplot:>"
      ]
     },
     "execution_count": 68,
     "metadata": {},
     "output_type": "execute_result"
    },
    {
     "data": {
      "image/png": "[encoded data removed]",
      "text/plain": [
       "<Figure size 576x432 with 2 Axes>"
      ]
     },
     "metadata": {
      "needs_background": "light"
     },
     "output_type": "display_data"
    }
   ],
   "source": [
    "# Let's look at the correlation among numerical features\n",
    "\n",
    "rcParams['figure.figsize'] = 8,6\n",
    "sns.heatmap(data.corr(), annot=True, cmap ='RdYlGn')"
   ]
  },
  {
   "cell_type": "code",
   "execution_count": 93,
   "metadata": {},
   "outputs": [
    {
     "data": {
      "application/javascript": [
       "\n",
       "        if (window._pyforest_update_imports_cell) { window._pyforest_update_imports_cell('import pandas as pd\\nfrom pathlib import Path\\nfrom sklearn.decomposition import PCA'); }\n",
       "    "
      ],
      "text/plain": [
       "<IPython.core.display.Javascript object>"
      ]
     },
     "metadata": {},
     "output_type": "display_data"
    },
    {
     "name": "stdout",
     "output_type": "stream",
     "text": [
      "Preserved variance is:  86.64 %\n",
      "PCA features:           [0.48659152 0.37977376]\n"
     ]
    },
    {
     "data": {
      "image/png": "[encoded data removed]",
      "text/plain": [
       "<Figure size 720x576 with 1 Axes>"
      ]
     },
     "metadata": {
      "needs_background": "light"
     },
     "output_type": "display_data"
    }
   ],
   "source": [
    "# Quick PCA visualization to understand how well the Classes are separated\n",
    "\n",
    "# Identifying X & y for visualizing purposes\n",
    "y_column = [\"y\"]\n",
    "X  = data.drop(y_column, axis=1, errors='ignore')\n",
    "y  = data[y_column].copy()\n",
    "\n",
    "visualize_classes_in_pca(X,y)"
   ]
  },
  {
   "cell_type": "code",
   "execution_count": null,
   "metadata": {},
   "outputs": [],
   "source": []
  },
  {
   "cell_type": "markdown",
   "metadata": {},
   "source": [
    "### SECTION D - FEATURE ENGINEERING"
   ]
  },
  {
   "cell_type": "code",
   "execution_count": 9,
   "metadata": {},
   "outputs": [
    {
     "name": "stdout",
     "output_type": "stream",
     "text": [
      "Data Retention after clean up: 81.74 %\n",
      "Data lost in clean up        : 18.26 %\n"
     ]
    }
   ],
   "source": [
    "# Removing null values, outliers, duplicate values\n",
    "\n",
    "# I am using my custom developed function for this purpose\n",
    "\n",
    "bankdata_cleaned = datacleaner(data)"
   ]
  },
  {
   "cell_type": "code",
   "execution_count": 10,
   "metadata": {},
   "outputs": [],
   "source": [
    "# Identifying X & y\n",
    "\n",
    "y_column = ['y']\n",
    "\n",
    "# X/y split\n",
    "bankdata_X  = bankdata_cleaned.drop(y_column, axis=1, errors='ignore')\n",
    "bankdata_y  = bankdata_cleaned[y_column].copy()"
   ]
  },
  {
   "cell_type": "code",
   "execution_count": 11,
   "metadata": {},
   "outputs": [],
   "source": [
    "# Preprocessing X & y\n",
    "\n",
    "# Strategy for numerical features: imputation with median, scaling with MinMaxScaler\n",
    "# Strategy for numerical features: imputation with constant, scaling with OrdinalEncoder\n",
    "\n",
    "bankdata_X_preprocessed = preprocessX(bankdata_X)\n",
    "\n",
    "bankdata_y_preprocessed = LabelEncoder().fit_transform(bankdata_y)"
   ]
  },
  {
   "cell_type": "markdown",
   "metadata": {},
   "source": [
    "### SECTION E - MODELING & EVALUATION"
   ]
  },
  {
   "cell_type": "code",
   "execution_count": 17,
   "metadata": {},
   "outputs": [
    {
     "name": "stdout",
     "output_type": "stream",
     "text": [
      "Time to run the baseline evaluation with multiple models: 108.41 seconds\n"
     ]
    },
    {
     "data": {
      "text/html": [
       "<div>\n",
       "<style scoped>\n",
       "    .dataframe tbody tr th:only-of-type {\n",
       "        vertical-align: middle;\n",
       "    }\n",
       "\n",
       "    .dataframe tbody tr th {\n",
       "        vertical-align: top;\n",
       "    }\n",
       "\n",
       "    .dataframe thead th {\n",
       "        text-align: right;\n",
       "    }\n",
       "</style>\n",
       "<table border=\"1\" class=\"dataframe\">\n",
       "  <thead>\n",
       "    <tr style=\"text-align: right;\">\n",
       "      <th></th>\n",
       "      <th>LOG</th>\n",
       "      <th>KNN</th>\n",
       "      <th>GBC</th>\n",
       "      <th>SVC</th>\n",
       "      <th>DEC</th>\n",
       "      <th>RAF</th>\n",
       "      <th>ABC</th>\n",
       "      <th>ETC</th>\n",
       "      <th>MLP</th>\n",
       "      <th>LDA</th>\n",
       "    </tr>\n",
       "  </thead>\n",
       "  <tbody>\n",
       "    <tr>\n",
       "      <th>precision</th>\n",
       "      <td>0.8007</td>\n",
       "      <td>0.6809</td>\n",
       "      <td>0.7790</td>\n",
       "      <td>0.4534</td>\n",
       "      <td>0.6733</td>\n",
       "      <td>0.7926</td>\n",
       "      <td>0.6692</td>\n",
       "      <td>0.7804</td>\n",
       "      <td>0.7869</td>\n",
       "      <td>0.7569</td>\n",
       "    </tr>\n",
       "    <tr>\n",
       "      <th>recall</th>\n",
       "      <td>0.5946</td>\n",
       "      <td>0.5544</td>\n",
       "      <td>0.6606</td>\n",
       "      <td>0.5000</td>\n",
       "      <td>0.6800</td>\n",
       "      <td>0.6536</td>\n",
       "      <td>0.6783</td>\n",
       "      <td>0.6092</td>\n",
       "      <td>0.6096</td>\n",
       "      <td>0.6578</td>\n",
       "    </tr>\n",
       "    <tr>\n",
       "      <th>f1</th>\n",
       "      <td>0.6316</td>\n",
       "      <td>0.5720</td>\n",
       "      <td>0.6992</td>\n",
       "      <td>0.4756</td>\n",
       "      <td>0.6766</td>\n",
       "      <td>0.6956</td>\n",
       "      <td>0.6736</td>\n",
       "      <td>0.6476</td>\n",
       "      <td>0.6487</td>\n",
       "      <td>0.6918</td>\n",
       "    </tr>\n",
       "    <tr>\n",
       "      <th>acc_train</th>\n",
       "      <td>0.9133</td>\n",
       "      <td>0.9256</td>\n",
       "      <td>0.9239</td>\n",
       "      <td>0.9088</td>\n",
       "      <td>1.0000</td>\n",
       "      <td>1.0000</td>\n",
       "      <td>1.0000</td>\n",
       "      <td>1.0000</td>\n",
       "      <td>0.9208</td>\n",
       "      <td>0.9141</td>\n",
       "    </tr>\n",
       "    <tr>\n",
       "      <th>acc_test</th>\n",
       "      <td>0.9165</td>\n",
       "      <td>0.9039</td>\n",
       "      <td>0.9194</td>\n",
       "      <td>0.9068</td>\n",
       "      <td>0.8885</td>\n",
       "      <td>0.9208</td>\n",
       "      <td>0.8866</td>\n",
       "      <td>0.9160</td>\n",
       "      <td>0.9167</td>\n",
       "      <td>0.9154</td>\n",
       "    </tr>\n",
       "  </tbody>\n",
       "</table>\n",
       "</div>"
      ],
      "text/plain": [
       "              LOG     KNN     GBC     SVC     DEC     RAF     ABC     ETC  \\\n",
       "precision  0.8007  0.6809  0.7790  0.4534  0.6733  0.7926  0.6692  0.7804   \n",
       "recall     0.5946  0.5544  0.6606  0.5000  0.6800  0.6536  0.6783  0.6092   \n",
       "f1         0.6316  0.5720  0.6992  0.4756  0.6766  0.6956  0.6736  0.6476   \n",
       "acc_train  0.9133  0.9256  0.9239  0.9088  1.0000  1.0000  1.0000  1.0000   \n",
       "acc_test   0.9165  0.9039  0.9194  0.9068  0.8885  0.9208  0.8866  0.9160   \n",
       "\n",
       "              MLP     LDA  \n",
       "precision  0.7869  0.7569  \n",
       "recall     0.6096  0.6578  \n",
       "f1         0.6487  0.6918  \n",
       "acc_train  0.9208  0.9141  \n",
       "acc_test   0.9167  0.9154  "
      ]
     },
     "execution_count": 17,
     "metadata": {},
     "output_type": "execute_result"
    }
   ],
   "source": [
    "tik = time.time() \n",
    "\n",
    "evaluation_baseline = evalC(bankdata_X_preprocessed, bankdata_y_preprocessed)\n",
    "\n",
    "tok = time.time()\n",
    "\n",
    "print('Time to run the baseline evaluation with multiple models:' , '%.2f' % (tok-tik) , 'seconds')\n",
    "\n",
    "evaluation_baseline"
   ]
  },
  {
   "cell_type": "markdown",
   "metadata": {},
   "source": [
    "### SECTION F - HYPERPARAMETER FINETUNING"
   ]
  },
  {
   "cell_type": "code",
   "execution_count": null,
   "metadata": {},
   "outputs": [],
   "source": []
  },
  {
   "cell_type": "code",
   "execution_count": null,
   "metadata": {},
   "outputs": [],
   "source": []
  },
  {
   "cell_type": "code",
   "execution_count": 26,
   "metadata": {},
   "outputs": [],
   "source": [
    "# Selecting Hyperparameters for All models\n",
    "\n",
    "param_grid = {\n",
    "    'Logistic Regression': {'penalty' : ['l1','l2'], 'solver': ['lbfgs', 'liblinear']},\n",
    "    'KNN': {'n_neighbors': [5,10,15],'weights' : ['uniform', 'distance'],'p':[1,2]}\n",
    "}\n",
    "\n",
    "models = {'Logistic Regression': LogisticRegression(), 'KNN': KNeighborsClassifier()}"
   ]
  },
  {
   "cell_type": "code",
   "execution_count": null,
   "metadata": {},
   "outputs": [],
   "source": []
  },
  {
   "cell_type": "code",
   "execution_count": 28,
   "metadata": {},
   "outputs": [
    {
     "name": "stdout",
     "output_type": "stream",
     "text": [
      "Time to run the GridSearch for Logistic Regression is: 2.96 seconds\n",
      "Time to run the GridSearch for KNN is: 47.53 seconds\n",
      "Time to run the GridSearch evaluation for multiple models: 50.51 seconds\n"
     ]
    }
   ],
   "source": [
    "tik1 = time.time()\n",
    "\n",
    "X_train, X_test, y_train, y_test = train_test_split(bankdata_X_preprocessed, bankdata_y_preprocessed, test_size = 0.2)\n",
    "\n",
    "best_models = {}\n",
    "best_params = {}\n",
    "\n",
    "for name, model in models.items():\n",
    "    \n",
    "    tik = time.time()\n",
    "    \n",
    "    grid = GridSearchCV(model, param_grid[name], cv=5, scoring='accuracy')\n",
    "    grid.fit(X_train, y_train)\n",
    "    \n",
    "    best_models[name] = grid.best_estimator_\n",
    "    best_params[name] = grid.best_params_\n",
    "    \n",
    "    tok = time.time()\n",
    "    print('Time to run the GridSearch for' , name , 'is:' , '%.2f' % (tok-tik) , 'seconds')\n",
    "\n",
    "tok1 = time.time()\n",
    "print('Time to run the GridSearch evaluation for multiple models:' , '%.2f' % (tok1-tik1) , 'seconds')"
   ]
  },
  {
   "cell_type": "code",
   "execution_count": null,
   "metadata": {},
   "outputs": [],
   "source": [
    "# Now we have the best Hyperparameters for All models"
   ]
  },
  {
   "cell_type": "code",
   "execution_count": null,
   "metadata": {},
   "outputs": [],
   "source": []
  },
  {
   "cell_type": "markdown",
   "metadata": {},
   "source": [
    "### SECTION G - FINAL EVALUATION"
   ]
  },
  {
   "cell_type": "code",
   "execution_count": null,
   "metadata": {},
   "outputs": [],
   "source": [
    "This is a final evaluation of all the models based on the best hyperparameters selected in Section F"
   ]
  },
  {
   "cell_type": "code",
   "execution_count": null,
   "metadata": {},
   "outputs": [],
   "source": []
  },
  {
   "cell_type": "code",
   "execution_count": 149,
   "metadata": {},
   "outputs": [
    {
     "data": {
      "text/html": [
       "<div>\n",
       "<style scoped>\n",
       "    .dataframe tbody tr th:only-of-type {\n",
       "        vertical-align: middle;\n",
       "    }\n",
       "\n",
       "    .dataframe tbody tr th {\n",
       "        vertical-align: top;\n",
       "    }\n",
       "\n",
       "    .dataframe thead th {\n",
       "        text-align: right;\n",
       "    }\n",
       "</style>\n",
       "<table border=\"1\" class=\"dataframe\">\n",
       "  <thead>\n",
       "    <tr style=\"text-align: right;\">\n",
       "      <th></th>\n",
       "      <th>Logistic Regression</th>\n",
       "      <th>KNN</th>\n",
       "    </tr>\n",
       "  </thead>\n",
       "  <tbody>\n",
       "    <tr>\n",
       "      <th>recall</th>\n",
       "      <td>0.1952</td>\n",
       "      <td>0.0946</td>\n",
       "    </tr>\n",
       "    <tr>\n",
       "      <th>f1</th>\n",
       "      <td>0.6254</td>\n",
       "      <td>0.5555</td>\n",
       "    </tr>\n",
       "    <tr>\n",
       "      <th>acc_train</th>\n",
       "      <td>0.9143</td>\n",
       "      <td>1.0000</td>\n",
       "    </tr>\n",
       "    <tr>\n",
       "      <th>acc_test</th>\n",
       "      <td>0.9161</td>\n",
       "      <td>0.9096</td>\n",
       "    </tr>\n",
       "  </tbody>\n",
       "</table>\n",
       "</div>"
      ],
      "text/plain": [
       "           Logistic Regression     KNN\n",
       "recall                  0.1952  0.0946\n",
       "f1                      0.6254  0.5555\n",
       "acc_train               0.9143  1.0000\n",
       "acc_test                0.9161  0.9096"
      ]
     },
     "execution_count": 149,
     "metadata": {},
     "output_type": "execute_result"
    }
   ],
   "source": [
    "# Running Evaluation metrics for all models with their best hyperparameters\n",
    "\n",
    "recall = []\n",
    "f1 = []\n",
    "precision = []\n",
    "acc_train = []\n",
    "acc_test  = []\n",
    "names  = ['Logistic Regression', 'KNN']\n",
    "\n",
    "\n",
    "for name, model in best_models.items():\n",
    "    \n",
    "    model.fit(X_train, y_train)\n",
    "    y_pred = model.predict(X_test)\n",
    "    \n",
    "    recall.append(\"%.4f\" % recall_score(y_test, y_pred, average='binary'))\n",
    "    f1.append(\"%.4f\" % f1_score(y_test, y_pred, average='macro'))\n",
    "    acc_train.append(\"%.4f\" % model.score(X_train, y_train))\n",
    "    acc_test.append(\"%.4f\" % model.score(X_test, y_test))\n",
    "    \n",
    "    Df = pd.DataFrame({'recall':recall,'f1':f1,'acc_train':acc_train,'acc_test':acc_test})\n",
    "    Df = Df.T\n",
    "\n",
    "Df.columns = names\n",
    "Df = Df.apply(pd.to_numeric, errors='coerce')\n",
    "\n",
    "Df"
   ]
  },
  {
   "cell_type": "code",
   "execution_count": null,
   "metadata": {},
   "outputs": [],
   "source": []
  },
  {
   "cell_type": "code",
   "execution_count": 29,
   "metadata": {},
   "outputs": [
    {
     "data": {
      "text/html": [
       "<div>\n",
       "<style scoped>\n",
       "    .dataframe tbody tr th:only-of-type {\n",
       "        vertical-align: middle;\n",
       "    }\n",
       "\n",
       "    .dataframe tbody tr th {\n",
       "        vertical-align: top;\n",
       "    }\n",
       "\n",
       "    .dataframe thead th {\n",
       "        text-align: right;\n",
       "    }\n",
       "</style>\n",
       "<table border=\"1\" class=\"dataframe\">\n",
       "  <thead>\n",
       "    <tr style=\"text-align: right;\">\n",
       "      <th></th>\n",
       "      <th>Logistic Regression</th>\n",
       "      <th>KNN</th>\n",
       "    </tr>\n",
       "  </thead>\n",
       "  <tbody>\n",
       "    <tr>\n",
       "      <th>precision</th>\n",
       "      <td>0.7672</td>\n",
       "      <td>0.7208</td>\n",
       "    </tr>\n",
       "    <tr>\n",
       "      <th>recall</th>\n",
       "      <td>0.6071</td>\n",
       "      <td>0.5329</td>\n",
       "    </tr>\n",
       "    <tr>\n",
       "      <th>f1</th>\n",
       "      <td>0.6445</td>\n",
       "      <td>0.5407</td>\n",
       "    </tr>\n",
       "    <tr>\n",
       "      <th>acc_train</th>\n",
       "      <td>0.9132</td>\n",
       "      <td>0.9103</td>\n",
       "    </tr>\n",
       "    <tr>\n",
       "      <th>acc_test</th>\n",
       "      <td>0.9203</td>\n",
       "      <td>0.9141</td>\n",
       "    </tr>\n",
       "  </tbody>\n",
       "</table>\n",
       "</div>"
      ],
      "text/plain": [
       "           Logistic Regression     KNN\n",
       "precision               0.7672  0.7208\n",
       "recall                  0.6071  0.5329\n",
       "f1                      0.6445  0.5407\n",
       "acc_train               0.9132  0.9103\n",
       "acc_test                0.9203  0.9141"
      ]
     },
     "execution_count": 29,
     "metadata": {},
     "output_type": "execute_result"
    }
   ],
   "source": [
    "\n",
    "names  = ['Logistic Regression', 'KNN']\n",
    "\n",
    "precision = []\n",
    "recall = []\n",
    "f1 = []\n",
    "acc_train = []\n",
    "acc_test  = []\n",
    "\n",
    "\n",
    "for name, model in best_models.items():\n",
    "    \n",
    "    model.fit(X_train, y_train)\n",
    "    y_pred = model.predict(X_test)\n",
    "    \n",
    "    precision_calc,recall_calc,f1score_calc,support_calc=score(y_test,y_pred,average='macro')\n",
    "    \n",
    "    precision.append(\"%.4f\" % precision_calc)\n",
    "    recall.append(\"%.4f\" % recall_calc)\n",
    "    f1.append(\"%.4f\" % f1score_calc)\n",
    " \n",
    "    acc_train.append(\"%.4f\" % model.score(X_train, y_train))\n",
    "    acc_test.append(\"%.4f\" % model.score(X_test, y_test))\n",
    "    \n",
    "    \n",
    "    \n",
    "    Df = pd.DataFrame({'precision':precision,'recall':recall,'f1':f1,'acc_train':acc_train,'acc_test':acc_test})\n",
    "    Df = Df.T\n",
    "\n",
    "Df.columns = names\n",
    "evaluation_final = Df.apply(pd.to_numeric, errors='coerce')\n",
    "\n",
    "evaluation_final"
   ]
  },
  {
   "cell_type": "code",
   "execution_count": null,
   "metadata": {},
   "outputs": [],
   "source": []
  }
 ],
 "metadata": {
  "kernelspec": {
   "display_name": "Python 3",
   "language": "python",
   "name": "python3"
  },
  "language_info": {
   "codemirror_mode": {
    "name": "ipython",
    "version": 3
   },
   "file_extension": ".py",
   "mimetype": "text/x-python",
   "name": "python",
   "nbconvert_exporter": "python",
   "pygments_lexer": "ipython3",
   "version": "3.8.5"
  }
 },
 "nbformat": 4,
 "nbformat_minor": 4
}
